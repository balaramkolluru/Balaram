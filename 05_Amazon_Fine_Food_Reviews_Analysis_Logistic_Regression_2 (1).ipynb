{
 "cells": [
  {
   "cell_type": "markdown",
   "metadata": {
    "colab_type": "text",
    "id": "AM7jsfwALPlp"
   },
   "source": [
    "# Amazon Fine Food Reviews Analysis\n",
    "\n",
    "\n",
    "Data Source: https://www.kaggle.com/snap/amazon-fine-food-reviews <br>\n",
    "\n",
    "EDA: https://nycdatascience.com/blog/student-works/amazon-fine-foods-visualization/\n",
    "\n",
    "\n",
    "The Amazon Fine Food Reviews dataset consists of reviews of fine foods from Amazon.<br>\n",
    "\n",
    "Number of reviews: 568,454<br>\n",
    "Number of users: 256,059<br>\n",
    "Number of products: 74,258<br>\n",
    "Timespan: Oct 1999 - Oct 2012<br>\n",
    "Number of Attributes/Columns in data: 10 \n",
    "\n",
    "Attribute Information:\n",
    "\n",
    "1. Id\n",
    "2. ProductId - unique identifier for the product\n",
    "3. UserId - unqiue identifier for the user\n",
    "4. ProfileName\n",
    "5. HelpfulnessNumerator - number of users who found the review helpful\n",
    "6. HelpfulnessDenominator - number of users who indicated whether they found the review helpful or not\n",
    "7. Score - rating between 1 and 5\n",
    "8. Time - timestamp for the review\n",
    "9. Summary - brief summary of the review\n",
    "10. Text - text of the review\n",
    "\n",
    "\n",
    "#### Objective:\n",
    "Given a review, determine whether the review is positive (rating of 4 or 5) or negative (rating of 1 or 2).\n",
    "\n",
    "<br>\n",
    "[Q] How to determine if a review is positive or negative?<br>\n",
    "<br> \n",
    "[Ans] We could use Score/Rating. A rating of 4 or 5 can be cosnidered as a positive review. A rating of 1 or 2 can be considered as negative one. A review of rating 3 is considered nuetral and such reviews are ignored from our analysis. This is an approximate and proxy way of determining the polarity (positivity/negativity) of a review.\n",
    "\n",
    "\n"
   ]
  },
  {
   "cell_type": "markdown",
   "metadata": {
    "colab_type": "text",
    "id": "CaQ7XJ4OLPls"
   },
   "source": [
    "# [1]. Reading Data"
   ]
  },
  {
   "cell_type": "markdown",
   "metadata": {
    "colab_type": "text",
    "id": "5VnEBjKRLPlu"
   },
   "source": [
    "## [1.1] Loading the data\n",
    "\n",
    "The dataset is available in two forms\n",
    "1. .csv file\n",
    "2. SQLite Database\n",
    "\n",
    "In order to load the data, We have used the SQLITE dataset as it is easier to query the data and visualise the data efficiently.\n",
    "<br> \n",
    "\n",
    "Here as we only want to get the global sentiment of the recommendations (positive or negative), we will purposefully ignore all Scores equal to 3. If the score is above 3, then the recommendation wil be set to \"positive\". Otherwise, it will be set to \"negative\"."
   ]
  },
  {
   "cell_type": "code",
   "execution_count": 1,
   "metadata": {
    "colab": {},
    "colab_type": "code",
    "id": "x6YclOzXLPlv"
   },
   "outputs": [
    {
     "name": "stderr",
     "output_type": "stream",
     "text": [
      "C:\\Anaconda\\lib\\site-packages\\gensim\\utils.py:1209: UserWarning: detected Windows; aliasing chunkize to chunkize_serial\n",
      "  warnings.warn(\"detected Windows; aliasing chunkize to chunkize_serial\")\n"
     ]
    }
   ],
   "source": [
    "%matplotlib inline\n",
    "import warnings\n",
    "warnings.filterwarnings(\"ignore\")\n",
    "\n",
    "\n",
    "import sqlite3\n",
    "import pandas as pd\n",
    "import numpy as np\n",
    "import nltk\n",
    "import string\n",
    "import matplotlib.pyplot as plt\n",
    "import seaborn as sns\n",
    "from sklearn.feature_extraction.text import TfidfTransformer\n",
    "from sklearn.feature_extraction.text import TfidfVectorizer\n",
    "\n",
    "from sklearn.feature_extraction.text import CountVectorizer\n",
    "from sklearn.metrics import confusion_matrix\n",
    "from sklearn import metrics\n",
    "from sklearn.metrics import roc_curve, auc\n",
    "from nltk.stem.porter import PorterStemmer\n",
    "\n",
    "import re\n",
    "import string\n",
    "from nltk.corpus import stopwords\n",
    "from nltk.stem import PorterStemmer\n",
    "from nltk.stem.wordnet import WordNetLemmatizer\n",
    "\n",
    "from gensim.models import Word2Vec\n",
    "from gensim.models import KeyedVectors\n",
    "import pickle\n",
    "\n",
    "from tqdm import tqdm\n",
    "import os\n",
    "from sklearn.model_selection import train_test_split\n",
    "from sklearn.metrics import accuracy_score\n",
    "from sklearn.model_selection import cross_val_score\n",
    "from collections import Counter\n",
    "from sklearn.model_selection import cross_validate\n",
    "from sklearn.linear_model import LogisticRegression\n",
    "from sklearn.metrics import roc_auc_score\n",
    "import matplotlib.pyplot as plt\n",
    "import seaborn as sns\n",
    "from sklearn.metrics import confusion_matrix\n",
    "from sklearn.preprocessing import StandardScaler\n",
    "import warnings \n",
    "warnings.filterwarnings(\"ignore\")\n",
    "from sklearn.metrics import f1_score\n",
    "from sklearn.metrics import accuracy_score\n",
    "from sklearn.metrics import precision_score\n",
    "from sklearn.metrics import f1_score\n",
    "from sklearn.metrics import recall_score\n",
    "from sklearn.model_selection import GridSearchCV, RandomizedSearchCV\n",
    "from scipy import *\n",
    "from scipy.sparse import *\n",
    "from scipy.stats import uniform\n",
    "from prettytable import PrettyTable"
   ]
  },
  {
   "cell_type": "code",
   "execution_count": 2,
   "metadata": {
    "colab": {},
    "colab_type": "code",
    "id": "NZ4OSpSiLPl0",
    "outputId": "241c4c64-6186-4351-e38f-fcd06c6896dd"
   },
   "outputs": [
    {
     "name": "stdout",
     "output_type": "stream",
     "text": [
      "Number of data points in our data (100000, 10)\n"
     ]
    },
    {
     "data": {
      "text/html": [
       "<div>\n",
       "<style scoped>\n",
       "    .dataframe tbody tr th:only-of-type {\n",
       "        vertical-align: middle;\n",
       "    }\n",
       "\n",
       "    .dataframe tbody tr th {\n",
       "        vertical-align: top;\n",
       "    }\n",
       "\n",
       "    .dataframe thead th {\n",
       "        text-align: right;\n",
       "    }\n",
       "</style>\n",
       "<table border=\"1\" class=\"dataframe\">\n",
       "  <thead>\n",
       "    <tr style=\"text-align: right;\">\n",
       "      <th></th>\n",
       "      <th>Id</th>\n",
       "      <th>ProductId</th>\n",
       "      <th>UserId</th>\n",
       "      <th>ProfileName</th>\n",
       "      <th>HelpfulnessNumerator</th>\n",
       "      <th>HelpfulnessDenominator</th>\n",
       "      <th>Score</th>\n",
       "      <th>Time</th>\n",
       "      <th>Summary</th>\n",
       "      <th>Text</th>\n",
       "    </tr>\n",
       "  </thead>\n",
       "  <tbody>\n",
       "    <tr>\n",
       "      <th>0</th>\n",
       "      <td>1</td>\n",
       "      <td>B001E4KFG0</td>\n",
       "      <td>A3SGXH7AUHU8GW</td>\n",
       "      <td>delmartian</td>\n",
       "      <td>1</td>\n",
       "      <td>1</td>\n",
       "      <td>1</td>\n",
       "      <td>1303862400</td>\n",
       "      <td>Good Quality Dog Food</td>\n",
       "      <td>I have bought several of the Vitality canned d...</td>\n",
       "    </tr>\n",
       "    <tr>\n",
       "      <th>1</th>\n",
       "      <td>2</td>\n",
       "      <td>B00813GRG4</td>\n",
       "      <td>A1D87F6ZCVE5NK</td>\n",
       "      <td>dll pa</td>\n",
       "      <td>0</td>\n",
       "      <td>0</td>\n",
       "      <td>0</td>\n",
       "      <td>1346976000</td>\n",
       "      <td>Not as Advertised</td>\n",
       "      <td>Product arrived labeled as Jumbo Salted Peanut...</td>\n",
       "    </tr>\n",
       "    <tr>\n",
       "      <th>2</th>\n",
       "      <td>3</td>\n",
       "      <td>B000LQOCH0</td>\n",
       "      <td>ABXLMWJIXXAIN</td>\n",
       "      <td>Natalia Corres \"Natalia Corres\"</td>\n",
       "      <td>1</td>\n",
       "      <td>1</td>\n",
       "      <td>1</td>\n",
       "      <td>1219017600</td>\n",
       "      <td>\"Delight\" says it all</td>\n",
       "      <td>This is a confection that has been around a fe...</td>\n",
       "    </tr>\n",
       "  </tbody>\n",
       "</table>\n",
       "</div>"
      ],
      "text/plain": [
       "   Id   ProductId          UserId                      ProfileName  \\\n",
       "0   1  B001E4KFG0  A3SGXH7AUHU8GW                       delmartian   \n",
       "1   2  B00813GRG4  A1D87F6ZCVE5NK                           dll pa   \n",
       "2   3  B000LQOCH0   ABXLMWJIXXAIN  Natalia Corres \"Natalia Corres\"   \n",
       "\n",
       "   HelpfulnessNumerator  HelpfulnessDenominator  Score        Time  \\\n",
       "0                     1                       1      1  1303862400   \n",
       "1                     0                       0      0  1346976000   \n",
       "2                     1                       1      1  1219017600   \n",
       "\n",
       "                 Summary                                               Text  \n",
       "0  Good Quality Dog Food  I have bought several of the Vitality canned d...  \n",
       "1      Not as Advertised  Product arrived labeled as Jumbo Salted Peanut...  \n",
       "2  \"Delight\" says it all  This is a confection that has been around a fe...  "
      ]
     },
     "execution_count": 2,
     "metadata": {},
     "output_type": "execute_result"
    }
   ],
   "source": [
    "# using SQLite Table to read data.\n",
    "con = sqlite3.connect('database.sqlite') \n",
    "\n",
    "# filtering only positive and negative reviews i.e. \n",
    "# not taking into consideration those reviews with Score=3\n",
    "# SELECT * FROM Reviews WHERE Score != 3 LIMIT 500000, will give top 500000 data points\n",
    "# you can change the number to any other number based on your computing power\n",
    "\n",
    "# filtered_data = pd.read_sql_query(\"\"\" SELECT * FROM Reviews WHERE Score != 3 LIMIT 500000\"\"\", con) \n",
    "# for tsne assignment you can take 5k data points\n",
    "\n",
    "filtered_data = pd.read_sql_query(\"\"\" SELECT * FROM Reviews WHERE Score != 3 LIMIT 100000\"\"\", con) \n",
    "\n",
    "# Give reviews with Score>3 a positive rating(1), and reviews with a score<3 a negative rating(0).\n",
    "def partition(x):\n",
    "    if x < 3:\n",
    "        return 0\n",
    "    return 1\n",
    "\n",
    "#changing reviews with score less than 3 to be positive and vice-versa\n",
    "actualScore = filtered_data['Score']\n",
    "positiveNegative = actualScore.map(partition) \n",
    "filtered_data['Score'] = positiveNegative\n",
    "print(\"Number of data points in our data\", filtered_data.shape)\n",
    "filtered_data.head(3)"
   ]
  },
  {
   "cell_type": "code",
   "execution_count": 3,
   "metadata": {
    "colab": {},
    "colab_type": "code",
    "id": "r44Y4VDjLPl7"
   },
   "outputs": [],
   "source": [
    "display = pd.read_sql_query(\"\"\"\n",
    "SELECT UserId, ProductId, ProfileName, Time, Score, Text, COUNT(*)\n",
    "FROM Reviews\n",
    "GROUP BY UserId\n",
    "HAVING COUNT(*)>1\n",
    "\"\"\", con)"
   ]
  },
  {
   "cell_type": "code",
   "execution_count": 4,
   "metadata": {
    "colab": {},
    "colab_type": "code",
    "id": "tTwINQv1LPl_",
    "outputId": "0385b9ca-0a35-4c2b-b656-8e8494414e6f",
    "scrolled": true
   },
   "outputs": [
    {
     "name": "stdout",
     "output_type": "stream",
     "text": [
      "(80668, 7)\n"
     ]
    },
    {
     "data": {
      "text/html": [
       "<div>\n",
       "<style scoped>\n",
       "    .dataframe tbody tr th:only-of-type {\n",
       "        vertical-align: middle;\n",
       "    }\n",
       "\n",
       "    .dataframe tbody tr th {\n",
       "        vertical-align: top;\n",
       "    }\n",
       "\n",
       "    .dataframe thead th {\n",
       "        text-align: right;\n",
       "    }\n",
       "</style>\n",
       "<table border=\"1\" class=\"dataframe\">\n",
       "  <thead>\n",
       "    <tr style=\"text-align: right;\">\n",
       "      <th></th>\n",
       "      <th>UserId</th>\n",
       "      <th>ProductId</th>\n",
       "      <th>ProfileName</th>\n",
       "      <th>Time</th>\n",
       "      <th>Score</th>\n",
       "      <th>Text</th>\n",
       "      <th>COUNT(*)</th>\n",
       "    </tr>\n",
       "  </thead>\n",
       "  <tbody>\n",
       "    <tr>\n",
       "      <th>0</th>\n",
       "      <td>#oc-R115TNMSPFT9I7</td>\n",
       "      <td>B007Y59HVM</td>\n",
       "      <td>Breyton</td>\n",
       "      <td>1331510400</td>\n",
       "      <td>2</td>\n",
       "      <td>Overall its just OK when considering the price...</td>\n",
       "      <td>2</td>\n",
       "    </tr>\n",
       "    <tr>\n",
       "      <th>1</th>\n",
       "      <td>#oc-R11D9D7SHXIJB9</td>\n",
       "      <td>B005HG9ET0</td>\n",
       "      <td>Louis E. Emory \"hoppy\"</td>\n",
       "      <td>1342396800</td>\n",
       "      <td>5</td>\n",
       "      <td>My wife has recurring extreme muscle spasms, u...</td>\n",
       "      <td>3</td>\n",
       "    </tr>\n",
       "    <tr>\n",
       "      <th>2</th>\n",
       "      <td>#oc-R11DNU2NBKQ23Z</td>\n",
       "      <td>B007Y59HVM</td>\n",
       "      <td>Kim Cieszykowski</td>\n",
       "      <td>1348531200</td>\n",
       "      <td>1</td>\n",
       "      <td>This coffee is horrible and unfortunately not ...</td>\n",
       "      <td>2</td>\n",
       "    </tr>\n",
       "    <tr>\n",
       "      <th>3</th>\n",
       "      <td>#oc-R11O5J5ZVQE25C</td>\n",
       "      <td>B005HG9ET0</td>\n",
       "      <td>Penguin Chick</td>\n",
       "      <td>1346889600</td>\n",
       "      <td>5</td>\n",
       "      <td>This will be the bottle that you grab from the...</td>\n",
       "      <td>3</td>\n",
       "    </tr>\n",
       "    <tr>\n",
       "      <th>4</th>\n",
       "      <td>#oc-R12KPBODL2B5ZD</td>\n",
       "      <td>B007OSBE1U</td>\n",
       "      <td>Christopher P. Presta</td>\n",
       "      <td>1348617600</td>\n",
       "      <td>1</td>\n",
       "      <td>I didnt like this coffee. Instead of telling y...</td>\n",
       "      <td>2</td>\n",
       "    </tr>\n",
       "  </tbody>\n",
       "</table>\n",
       "</div>"
      ],
      "text/plain": [
       "               UserId   ProductId             ProfileName        Time  Score  \\\n",
       "0  #oc-R115TNMSPFT9I7  B007Y59HVM                 Breyton  1331510400      2   \n",
       "1  #oc-R11D9D7SHXIJB9  B005HG9ET0  Louis E. Emory \"hoppy\"  1342396800      5   \n",
       "2  #oc-R11DNU2NBKQ23Z  B007Y59HVM        Kim Cieszykowski  1348531200      1   \n",
       "3  #oc-R11O5J5ZVQE25C  B005HG9ET0           Penguin Chick  1346889600      5   \n",
       "4  #oc-R12KPBODL2B5ZD  B007OSBE1U   Christopher P. Presta  1348617600      1   \n",
       "\n",
       "                                                Text  COUNT(*)  \n",
       "0  Overall its just OK when considering the price...         2  \n",
       "1  My wife has recurring extreme muscle spasms, u...         3  \n",
       "2  This coffee is horrible and unfortunately not ...         2  \n",
       "3  This will be the bottle that you grab from the...         3  \n",
       "4  I didnt like this coffee. Instead of telling y...         2  "
      ]
     },
     "execution_count": 4,
     "metadata": {},
     "output_type": "execute_result"
    }
   ],
   "source": [
    "print(display.shape)\n",
    "display.head()"
   ]
  },
  {
   "cell_type": "code",
   "execution_count": 5,
   "metadata": {
    "colab": {},
    "colab_type": "code",
    "id": "EOslHQgnLPmF",
    "outputId": "cb28598d-470a-42bb-e742-4763f953c8cb"
   },
   "outputs": [
    {
     "data": {
      "text/html": [
       "<div>\n",
       "<style scoped>\n",
       "    .dataframe tbody tr th:only-of-type {\n",
       "        vertical-align: middle;\n",
       "    }\n",
       "\n",
       "    .dataframe tbody tr th {\n",
       "        vertical-align: top;\n",
       "    }\n",
       "\n",
       "    .dataframe thead th {\n",
       "        text-align: right;\n",
       "    }\n",
       "</style>\n",
       "<table border=\"1\" class=\"dataframe\">\n",
       "  <thead>\n",
       "    <tr style=\"text-align: right;\">\n",
       "      <th></th>\n",
       "      <th>UserId</th>\n",
       "      <th>ProductId</th>\n",
       "      <th>ProfileName</th>\n",
       "      <th>Time</th>\n",
       "      <th>Score</th>\n",
       "      <th>Text</th>\n",
       "      <th>COUNT(*)</th>\n",
       "    </tr>\n",
       "  </thead>\n",
       "  <tbody>\n",
       "    <tr>\n",
       "      <th>80638</th>\n",
       "      <td>AZY10LLTJ71NX</td>\n",
       "      <td>B006P7E5ZI</td>\n",
       "      <td>undertheshrine \"undertheshrine\"</td>\n",
       "      <td>1334707200</td>\n",
       "      <td>5</td>\n",
       "      <td>I was recommended to try green tea extract to ...</td>\n",
       "      <td>5</td>\n",
       "    </tr>\n",
       "  </tbody>\n",
       "</table>\n",
       "</div>"
      ],
      "text/plain": [
       "              UserId   ProductId                      ProfileName        Time  \\\n",
       "80638  AZY10LLTJ71NX  B006P7E5ZI  undertheshrine \"undertheshrine\"  1334707200   \n",
       "\n",
       "       Score                                               Text  COUNT(*)  \n",
       "80638      5  I was recommended to try green tea extract to ...         5  "
      ]
     },
     "execution_count": 5,
     "metadata": {},
     "output_type": "execute_result"
    }
   ],
   "source": [
    "display[display['UserId']=='AZY10LLTJ71NX']"
   ]
  },
  {
   "cell_type": "code",
   "execution_count": 6,
   "metadata": {
    "colab": {},
    "colab_type": "code",
    "id": "pSwF4sdoLPmM",
    "outputId": "2f3bd7f2-0eea-45f7-eab6-bf08c630d9a3"
   },
   "outputs": [
    {
     "data": {
      "text/plain": [
       "393063"
      ]
     },
     "execution_count": 6,
     "metadata": {},
     "output_type": "execute_result"
    }
   ],
   "source": [
    "display['COUNT(*)'].sum()"
   ]
  },
  {
   "cell_type": "markdown",
   "metadata": {
    "colab_type": "text",
    "id": "PuNkhjz0LPmQ"
   },
   "source": [
    "#  [2] Exploratory Data Analysis"
   ]
  },
  {
   "cell_type": "markdown",
   "metadata": {
    "colab_type": "text",
    "id": "oCJaTWrTLPmS"
   },
   "source": [
    "## [2.1] Data Cleaning: Deduplication\n",
    "\n",
    "It is observed (as shown in the table below) that the reviews data had many duplicate entries. Hence it was necessary to remove duplicates in order to get unbiased results for the analysis of the data.  Following is an example:"
   ]
  },
  {
   "cell_type": "code",
   "execution_count": 7,
   "metadata": {
    "colab": {},
    "colab_type": "code",
    "id": "3lvzRwWVLPmT",
    "outputId": "96ba6f90-6c40-4972-ecd2-d2d208e48877",
    "scrolled": false
   },
   "outputs": [
    {
     "data": {
      "text/html": [
       "<div>\n",
       "<style scoped>\n",
       "    .dataframe tbody tr th:only-of-type {\n",
       "        vertical-align: middle;\n",
       "    }\n",
       "\n",
       "    .dataframe tbody tr th {\n",
       "        vertical-align: top;\n",
       "    }\n",
       "\n",
       "    .dataframe thead th {\n",
       "        text-align: right;\n",
       "    }\n",
       "</style>\n",
       "<table border=\"1\" class=\"dataframe\">\n",
       "  <thead>\n",
       "    <tr style=\"text-align: right;\">\n",
       "      <th></th>\n",
       "      <th>Id</th>\n",
       "      <th>ProductId</th>\n",
       "      <th>UserId</th>\n",
       "      <th>ProfileName</th>\n",
       "      <th>HelpfulnessNumerator</th>\n",
       "      <th>HelpfulnessDenominator</th>\n",
       "      <th>Score</th>\n",
       "      <th>Time</th>\n",
       "      <th>Summary</th>\n",
       "      <th>Text</th>\n",
       "    </tr>\n",
       "  </thead>\n",
       "  <tbody>\n",
       "    <tr>\n",
       "      <th>0</th>\n",
       "      <td>78445</td>\n",
       "      <td>B000HDL1RQ</td>\n",
       "      <td>AR5J8UI46CURR</td>\n",
       "      <td>Geetha Krishnan</td>\n",
       "      <td>2</td>\n",
       "      <td>2</td>\n",
       "      <td>5</td>\n",
       "      <td>1199577600</td>\n",
       "      <td>LOACKER QUADRATINI VANILLA WAFERS</td>\n",
       "      <td>DELICIOUS WAFERS. I FIND THAT EUROPEAN WAFERS ...</td>\n",
       "    </tr>\n",
       "    <tr>\n",
       "      <th>1</th>\n",
       "      <td>138317</td>\n",
       "      <td>B000HDOPYC</td>\n",
       "      <td>AR5J8UI46CURR</td>\n",
       "      <td>Geetha Krishnan</td>\n",
       "      <td>2</td>\n",
       "      <td>2</td>\n",
       "      <td>5</td>\n",
       "      <td>1199577600</td>\n",
       "      <td>LOACKER QUADRATINI VANILLA WAFERS</td>\n",
       "      <td>DELICIOUS WAFERS. I FIND THAT EUROPEAN WAFERS ...</td>\n",
       "    </tr>\n",
       "    <tr>\n",
       "      <th>2</th>\n",
       "      <td>138277</td>\n",
       "      <td>B000HDOPYM</td>\n",
       "      <td>AR5J8UI46CURR</td>\n",
       "      <td>Geetha Krishnan</td>\n",
       "      <td>2</td>\n",
       "      <td>2</td>\n",
       "      <td>5</td>\n",
       "      <td>1199577600</td>\n",
       "      <td>LOACKER QUADRATINI VANILLA WAFERS</td>\n",
       "      <td>DELICIOUS WAFERS. I FIND THAT EUROPEAN WAFERS ...</td>\n",
       "    </tr>\n",
       "    <tr>\n",
       "      <th>3</th>\n",
       "      <td>73791</td>\n",
       "      <td>B000HDOPZG</td>\n",
       "      <td>AR5J8UI46CURR</td>\n",
       "      <td>Geetha Krishnan</td>\n",
       "      <td>2</td>\n",
       "      <td>2</td>\n",
       "      <td>5</td>\n",
       "      <td>1199577600</td>\n",
       "      <td>LOACKER QUADRATINI VANILLA WAFERS</td>\n",
       "      <td>DELICIOUS WAFERS. I FIND THAT EUROPEAN WAFERS ...</td>\n",
       "    </tr>\n",
       "    <tr>\n",
       "      <th>4</th>\n",
       "      <td>155049</td>\n",
       "      <td>B000PAQ75C</td>\n",
       "      <td>AR5J8UI46CURR</td>\n",
       "      <td>Geetha Krishnan</td>\n",
       "      <td>2</td>\n",
       "      <td>2</td>\n",
       "      <td>5</td>\n",
       "      <td>1199577600</td>\n",
       "      <td>LOACKER QUADRATINI VANILLA WAFERS</td>\n",
       "      <td>DELICIOUS WAFERS. I FIND THAT EUROPEAN WAFERS ...</td>\n",
       "    </tr>\n",
       "  </tbody>\n",
       "</table>\n",
       "</div>"
      ],
      "text/plain": [
       "       Id   ProductId         UserId      ProfileName  HelpfulnessNumerator  \\\n",
       "0   78445  B000HDL1RQ  AR5J8UI46CURR  Geetha Krishnan                     2   \n",
       "1  138317  B000HDOPYC  AR5J8UI46CURR  Geetha Krishnan                     2   \n",
       "2  138277  B000HDOPYM  AR5J8UI46CURR  Geetha Krishnan                     2   \n",
       "3   73791  B000HDOPZG  AR5J8UI46CURR  Geetha Krishnan                     2   \n",
       "4  155049  B000PAQ75C  AR5J8UI46CURR  Geetha Krishnan                     2   \n",
       "\n",
       "   HelpfulnessDenominator  Score        Time  \\\n",
       "0                       2      5  1199577600   \n",
       "1                       2      5  1199577600   \n",
       "2                       2      5  1199577600   \n",
       "3                       2      5  1199577600   \n",
       "4                       2      5  1199577600   \n",
       "\n",
       "                             Summary  \\\n",
       "0  LOACKER QUADRATINI VANILLA WAFERS   \n",
       "1  LOACKER QUADRATINI VANILLA WAFERS   \n",
       "2  LOACKER QUADRATINI VANILLA WAFERS   \n",
       "3  LOACKER QUADRATINI VANILLA WAFERS   \n",
       "4  LOACKER QUADRATINI VANILLA WAFERS   \n",
       "\n",
       "                                                Text  \n",
       "0  DELICIOUS WAFERS. I FIND THAT EUROPEAN WAFERS ...  \n",
       "1  DELICIOUS WAFERS. I FIND THAT EUROPEAN WAFERS ...  \n",
       "2  DELICIOUS WAFERS. I FIND THAT EUROPEAN WAFERS ...  \n",
       "3  DELICIOUS WAFERS. I FIND THAT EUROPEAN WAFERS ...  \n",
       "4  DELICIOUS WAFERS. I FIND THAT EUROPEAN WAFERS ...  "
      ]
     },
     "execution_count": 7,
     "metadata": {},
     "output_type": "execute_result"
    }
   ],
   "source": [
    "display= pd.read_sql_query(\"\"\"\n",
    "SELECT *\n",
    "FROM Reviews\n",
    "WHERE Score != 3 AND UserId=\"AR5J8UI46CURR\"\n",
    "ORDER BY ProductID\n",
    "\"\"\", con)\n",
    "display.head()"
   ]
  },
  {
   "cell_type": "markdown",
   "metadata": {
    "colab_type": "text",
    "id": "uT7p9_deLPmb"
   },
   "source": [
    "As it can be seen above that same user has multiple reviews with same values for HelpfulnessNumerator, HelpfulnessDenominator, Score, Time, Summary and Text and on doing analysis it was found that <br>\n",
    "<br> \n",
    "ProductId=B000HDOPZG was Loacker Quadratini Vanilla Wafer Cookies, 8.82-Ounce Packages (Pack of 8)<br>\n",
    "<br> \n",
    "ProductId=B000HDL1RQ was Loacker Quadratini Lemon Wafer Cookies, 8.82-Ounce Packages (Pack of 8) and so on<br>\n",
    "\n",
    "It was inferred after analysis that reviews with same parameters other than ProductId belonged to the same product just having different flavour or quantity. Hence in order to reduce redundancy it was decided to eliminate the rows having same parameters.<br>\n",
    "\n",
    "The method used for the same was that we first sort the data according to ProductId and then just keep the first similar product review and delelte the others. for eg. in the above just the review for ProductId=B000HDL1RQ remains. This method ensures that there is only one representative for each product and deduplication without sorting would lead to possibility of different representatives still existing for the same product."
   ]
  },
  {
   "cell_type": "code",
   "execution_count": 8,
   "metadata": {
    "colab": {},
    "colab_type": "code",
    "id": "mdsKFc50LPme"
   },
   "outputs": [],
   "source": [
    "#Sorting data according to ProductId in ascending order\n",
    "sorted_data=filtered_data.sort_values('ProductId', axis=0, ascending=True, inplace=False, kind='quicksort', na_position='last')"
   ]
  },
  {
   "cell_type": "code",
   "execution_count": 9,
   "metadata": {
    "colab": {},
    "colab_type": "code",
    "id": "2itLgX-NLPmk",
    "outputId": "ac765625-dfdc-4e4e-f886-bd3b7ca3635a"
   },
   "outputs": [
    {
     "data": {
      "text/plain": [
       "(87775, 10)"
      ]
     },
     "execution_count": 9,
     "metadata": {},
     "output_type": "execute_result"
    }
   ],
   "source": [
    "#Deduplication of entries\n",
    "final=sorted_data.drop_duplicates(subset={\"UserId\",\"ProfileName\",\"Time\",\"Text\"}, keep='first', inplace=False)\n",
    "final.shape"
   ]
  },
  {
   "cell_type": "code",
   "execution_count": 10,
   "metadata": {
    "colab": {},
    "colab_type": "code",
    "id": "IBU4iZk4LPmt",
    "outputId": "ceeba223-fe3f-407a-b4e5-0d46c08f69dd"
   },
   "outputs": [
    {
     "data": {
      "text/plain": [
       "87.775"
      ]
     },
     "execution_count": 10,
     "metadata": {},
     "output_type": "execute_result"
    }
   ],
   "source": [
    "#Checking to see how much % of data still remains\n",
    "(final['Id'].size*1.0)/(filtered_data['Id'].size*1.0)*100"
   ]
  },
  {
   "cell_type": "markdown",
   "metadata": {
    "colab_type": "text",
    "id": "gFBOfSe4LPmy"
   },
   "source": [
    "<b>Observation:-</b> It was also seen that in two rows given below the value of HelpfulnessNumerator is greater than HelpfulnessDenominator which is not practically possible hence these two rows too are removed from calcualtions"
   ]
  },
  {
   "cell_type": "code",
   "execution_count": 11,
   "metadata": {
    "colab": {},
    "colab_type": "code",
    "id": "50flE40lLPmz",
    "outputId": "b6c7e38e-25c1-4a48-be1f-70fdf31aba13"
   },
   "outputs": [
    {
     "data": {
      "text/html": [
       "<div>\n",
       "<style scoped>\n",
       "    .dataframe tbody tr th:only-of-type {\n",
       "        vertical-align: middle;\n",
       "    }\n",
       "\n",
       "    .dataframe tbody tr th {\n",
       "        vertical-align: top;\n",
       "    }\n",
       "\n",
       "    .dataframe thead th {\n",
       "        text-align: right;\n",
       "    }\n",
       "</style>\n",
       "<table border=\"1\" class=\"dataframe\">\n",
       "  <thead>\n",
       "    <tr style=\"text-align: right;\">\n",
       "      <th></th>\n",
       "      <th>Id</th>\n",
       "      <th>ProductId</th>\n",
       "      <th>UserId</th>\n",
       "      <th>ProfileName</th>\n",
       "      <th>HelpfulnessNumerator</th>\n",
       "      <th>HelpfulnessDenominator</th>\n",
       "      <th>Score</th>\n",
       "      <th>Time</th>\n",
       "      <th>Summary</th>\n",
       "      <th>Text</th>\n",
       "    </tr>\n",
       "  </thead>\n",
       "  <tbody>\n",
       "    <tr>\n",
       "      <th>0</th>\n",
       "      <td>64422</td>\n",
       "      <td>B000MIDROQ</td>\n",
       "      <td>A161DK06JJMCYF</td>\n",
       "      <td>J. E. Stephens \"Jeanne\"</td>\n",
       "      <td>3</td>\n",
       "      <td>1</td>\n",
       "      <td>5</td>\n",
       "      <td>1224892800</td>\n",
       "      <td>Bought This for My Son at College</td>\n",
       "      <td>My son loves spaghetti so I didn't hesitate or...</td>\n",
       "    </tr>\n",
       "    <tr>\n",
       "      <th>1</th>\n",
       "      <td>44737</td>\n",
       "      <td>B001EQ55RW</td>\n",
       "      <td>A2V0I904FH7ABY</td>\n",
       "      <td>Ram</td>\n",
       "      <td>3</td>\n",
       "      <td>2</td>\n",
       "      <td>4</td>\n",
       "      <td>1212883200</td>\n",
       "      <td>Pure cocoa taste with crunchy almonds inside</td>\n",
       "      <td>It was almost a 'love at first bite' - the per...</td>\n",
       "    </tr>\n",
       "  </tbody>\n",
       "</table>\n",
       "</div>"
      ],
      "text/plain": [
       "      Id   ProductId          UserId              ProfileName  \\\n",
       "0  64422  B000MIDROQ  A161DK06JJMCYF  J. E. Stephens \"Jeanne\"   \n",
       "1  44737  B001EQ55RW  A2V0I904FH7ABY                      Ram   \n",
       "\n",
       "   HelpfulnessNumerator  HelpfulnessDenominator  Score        Time  \\\n",
       "0                     3                       1      5  1224892800   \n",
       "1                     3                       2      4  1212883200   \n",
       "\n",
       "                                        Summary  \\\n",
       "0             Bought This for My Son at College   \n",
       "1  Pure cocoa taste with crunchy almonds inside   \n",
       "\n",
       "                                                Text  \n",
       "0  My son loves spaghetti so I didn't hesitate or...  \n",
       "1  It was almost a 'love at first bite' - the per...  "
      ]
     },
     "execution_count": 11,
     "metadata": {},
     "output_type": "execute_result"
    }
   ],
   "source": [
    "display= pd.read_sql_query(\"\"\"\n",
    "SELECT *\n",
    "FROM Reviews\n",
    "WHERE Score != 3 AND Id=44737 OR Id=64422\n",
    "ORDER BY ProductID\n",
    "\"\"\", con)\n",
    "\n",
    "display.head()"
   ]
  },
  {
   "cell_type": "code",
   "execution_count": 12,
   "metadata": {
    "colab": {},
    "colab_type": "code",
    "id": "0YTPJMLTLPm7"
   },
   "outputs": [],
   "source": [
    "final=final[final.HelpfulnessNumerator<=final.HelpfulnessDenominator]"
   ]
  },
  {
   "cell_type": "code",
   "execution_count": 13,
   "metadata": {
    "colab": {},
    "colab_type": "code",
    "id": "LVJ_l-x2LPnC",
    "outputId": "d4a19c7a-16fe-4b5b-c3d1-aa1ef0f948a0"
   },
   "outputs": [
    {
     "name": "stdout",
     "output_type": "stream",
     "text": [
      "(87773, 10)\n"
     ]
    },
    {
     "data": {
      "text/plain": [
       "1    73592\n",
       "0    14181\n",
       "Name: Score, dtype: int64"
      ]
     },
     "execution_count": 13,
     "metadata": {},
     "output_type": "execute_result"
    }
   ],
   "source": [
    "#Before starting the next phase of preprocessing lets see the number of entries left\n",
    "print(final.shape)\n",
    "\n",
    "#How many positive and negative reviews are present in our dataset?\n",
    "final['Score'].value_counts()"
   ]
  },
  {
   "cell_type": "markdown",
   "metadata": {
    "colab_type": "text",
    "id": "GrTYWzYrLPnH"
   },
   "source": [
    "#  [3] Preprocessing"
   ]
  },
  {
   "cell_type": "markdown",
   "metadata": {
    "colab_type": "text",
    "id": "zbvLitZeLPnI"
   },
   "source": [
    "## [3.1].  Preprocessing Review Text\n",
    "\n",
    "Now that we have finished deduplication our data requires some preprocessing before we go on further with analysis and making the prediction model.\n",
    "\n",
    "Hence in the Preprocessing phase we do the following in the order below:-\n",
    "\n",
    "1. Begin by removing the html tags\n",
    "2. Remove any punctuations or limited set of special characters like , or . or # etc.\n",
    "3. Check if the word is made up of english letters and is not alpha-numeric\n",
    "4. Check to see if the length of the word is greater than 2 (as it was researched that there is no adjective in 2-letters)\n",
    "5. Convert the word to lowercase\n",
    "6. Remove Stopwords\n",
    "7. Finally Snowball Stemming the word (it was obsereved to be better than Porter Stemming)<br>\n",
    "\n",
    "After which we collect the words used to describe positive and negative reviews"
   ]
  },
  {
   "cell_type": "code",
   "execution_count": 14,
   "metadata": {},
   "outputs": [],
   "source": [
    "from nltk.corpus import stopwords\n",
    "stop = set(stopwords.words('english')) #set of stopwords\n",
    "words_to_keep = set(('not'))\n",
    "stop -= words_to_keep\n",
    "\n",
    "sno = nltk.stem.SnowballStemmer('english')\n",
    "def cleanhtml(sentence): #function to clean any HTML Tags\n",
    "    cleanr = re.compile('<.*?>')\n",
    "    cleantext = re.sub(cleanr, ' ', sentence)\n",
    "    return cleantext\n",
    "def cleanpunc(sentence): #function to clean any word of punctuation or special character\n",
    "    cleaned = re.sub(r'[?|!|\\'|\"|#]',r'', sentence)\n",
    "    cleaned = re.sub(r'[.|,|)|(|\\|/]',r' ', cleaned)\n",
    "    return cleaned"
   ]
  },
  {
   "cell_type": "code",
   "execution_count": 15,
   "metadata": {},
   "outputs": [],
   "source": [
    "#code for implementing step by step check mentioned in preprocessing phase\n",
    "#runtime wiil be high due to 500k sentences\n",
    "i = 0\n",
    "str1 = ' '\n",
    "final_string = []\n",
    "all_positive_words = []\n",
    "all_negative_words = []\n",
    "s=''\n",
    "for sent in final['Text'].values:\n",
    "    filtered_sentence=[]\n",
    "    sent=cleanhtml(sent)\n",
    "    for w in sent.split():\n",
    "        for cleaned_words in cleanpunc(w).split():\n",
    "            if((cleaned_words.isalpha()) & (len(cleaned_words)>2)):\n",
    "                if(cleaned_words.lower() not in stop):\n",
    "                    s=(sno.stem(cleaned_words.lower())).encode('utf8')\n",
    "                    filtered_sentence.append(s)\n",
    "                    if (final['Score'].values)[i] == 'positive':\n",
    "                        all_positive_words.append(s)\n",
    "                    if (final['Score'].values)[i] == 'negative':\n",
    "                        all_negative_words.append(s)\n",
    "                else:\n",
    "                    continue\n",
    "            else:\n",
    "                continue\n",
    "    str1 = b\" \".join(filtered_sentence)\n",
    "    final_string.append(str1)\n",
    "    i+=1"
   ]
  },
  {
   "cell_type": "code",
   "execution_count": 16,
   "metadata": {},
   "outputs": [
    {
     "name": "stdout",
     "output_type": "stream",
     "text": [
      "shape of final (87773, 11)\n"
     ]
    },
    {
     "data": {
      "text/html": [
       "<div>\n",
       "<style scoped>\n",
       "    .dataframe tbody tr th:only-of-type {\n",
       "        vertical-align: middle;\n",
       "    }\n",
       "\n",
       "    .dataframe tbody tr th {\n",
       "        vertical-align: top;\n",
       "    }\n",
       "\n",
       "    .dataframe thead th {\n",
       "        text-align: right;\n",
       "    }\n",
       "</style>\n",
       "<table border=\"1\" class=\"dataframe\">\n",
       "  <thead>\n",
       "    <tr style=\"text-align: right;\">\n",
       "      <th></th>\n",
       "      <th>Id</th>\n",
       "      <th>ProductId</th>\n",
       "      <th>UserId</th>\n",
       "      <th>ProfileName</th>\n",
       "      <th>HelpfulnessNumerator</th>\n",
       "      <th>HelpfulnessDenominator</th>\n",
       "      <th>Score</th>\n",
       "      <th>Time</th>\n",
       "      <th>Summary</th>\n",
       "      <th>Text</th>\n",
       "      <th>cleanedText</th>\n",
       "    </tr>\n",
       "  </thead>\n",
       "  <tbody>\n",
       "    <tr>\n",
       "      <th>22620</th>\n",
       "      <td>24750</td>\n",
       "      <td>2734888454</td>\n",
       "      <td>A13ISQV0U9GZIC</td>\n",
       "      <td>Sandikaye</td>\n",
       "      <td>1</td>\n",
       "      <td>1</td>\n",
       "      <td>0</td>\n",
       "      <td>1192060800</td>\n",
       "      <td>made in china</td>\n",
       "      <td>My dogs loves this chicken but its a product f...</td>\n",
       "      <td>dog love chicken product china wont buy anymor...</td>\n",
       "    </tr>\n",
       "    <tr>\n",
       "      <th>22621</th>\n",
       "      <td>24751</td>\n",
       "      <td>2734888454</td>\n",
       "      <td>A1C298ITT645B6</td>\n",
       "      <td>Hugh G. Pritchard</td>\n",
       "      <td>0</td>\n",
       "      <td>0</td>\n",
       "      <td>1</td>\n",
       "      <td>1195948800</td>\n",
       "      <td>Dog Lover Delites</td>\n",
       "      <td>Our dogs just love them.  I saw them in a pet ...</td>\n",
       "      <td>dog love saw pet store tag attach regard made ...</td>\n",
       "    </tr>\n",
       "    <tr>\n",
       "      <th>70677</th>\n",
       "      <td>76870</td>\n",
       "      <td>B00002N8SM</td>\n",
       "      <td>A19Q006CSFT011</td>\n",
       "      <td>Arlielle</td>\n",
       "      <td>0</td>\n",
       "      <td>0</td>\n",
       "      <td>0</td>\n",
       "      <td>1288396800</td>\n",
       "      <td>only one fruitfly stuck</td>\n",
       "      <td>I had an infestation of fruitflies, they were ...</td>\n",
       "      <td>infest fruitfli liter everywher fli around kit...</td>\n",
       "    </tr>\n",
       "    <tr>\n",
       "      <th>70676</th>\n",
       "      <td>76869</td>\n",
       "      <td>B00002N8SM</td>\n",
       "      <td>A1FYH4S02BW7FN</td>\n",
       "      <td>wonderer</td>\n",
       "      <td>0</td>\n",
       "      <td>0</td>\n",
       "      <td>0</td>\n",
       "      <td>1290038400</td>\n",
       "      <td>Doesn't work!! Don't waste your money!!</td>\n",
       "      <td>Worst product I have gotten in long time. Woul...</td>\n",
       "      <td>worst product gotten long time would rate star...</td>\n",
       "    </tr>\n",
       "    <tr>\n",
       "      <th>70675</th>\n",
       "      <td>76868</td>\n",
       "      <td>B00002N8SM</td>\n",
       "      <td>AUE8TB5VHS6ZV</td>\n",
       "      <td>eyeofthestorm</td>\n",
       "      <td>0</td>\n",
       "      <td>0</td>\n",
       "      <td>0</td>\n",
       "      <td>1306972800</td>\n",
       "      <td>A big rip off</td>\n",
       "      <td>I wish I'd read the reviews before making this...</td>\n",
       "      <td>wish read review make purchas basic cardsotck ...</td>\n",
       "    </tr>\n",
       "  </tbody>\n",
       "</table>\n",
       "</div>"
      ],
      "text/plain": [
       "          Id   ProductId          UserId        ProfileName  \\\n",
       "22620  24750  2734888454  A13ISQV0U9GZIC          Sandikaye   \n",
       "22621  24751  2734888454  A1C298ITT645B6  Hugh G. Pritchard   \n",
       "70677  76870  B00002N8SM  A19Q006CSFT011           Arlielle   \n",
       "70676  76869  B00002N8SM  A1FYH4S02BW7FN           wonderer   \n",
       "70675  76868  B00002N8SM   AUE8TB5VHS6ZV      eyeofthestorm   \n",
       "\n",
       "       HelpfulnessNumerator  HelpfulnessDenominator  Score        Time  \\\n",
       "22620                     1                       1      0  1192060800   \n",
       "22621                     0                       0      1  1195948800   \n",
       "70677                     0                       0      0  1288396800   \n",
       "70676                     0                       0      0  1290038400   \n",
       "70675                     0                       0      0  1306972800   \n",
       "\n",
       "                                       Summary  \\\n",
       "22620                            made in china   \n",
       "22621                        Dog Lover Delites   \n",
       "70677                  only one fruitfly stuck   \n",
       "70676  Doesn't work!! Don't waste your money!!   \n",
       "70675                            A big rip off   \n",
       "\n",
       "                                                    Text  \\\n",
       "22620  My dogs loves this chicken but its a product f...   \n",
       "22621  Our dogs just love them.  I saw them in a pet ...   \n",
       "70677  I had an infestation of fruitflies, they were ...   \n",
       "70676  Worst product I have gotten in long time. Woul...   \n",
       "70675  I wish I'd read the reviews before making this...   \n",
       "\n",
       "                                             cleanedText  \n",
       "22620  dog love chicken product china wont buy anymor...  \n",
       "22621  dog love saw pet store tag attach regard made ...  \n",
       "70677  infest fruitfli liter everywher fli around kit...  \n",
       "70676  worst product gotten long time would rate star...  \n",
       "70675  wish read review make purchas basic cardsotck ...  "
      ]
     },
     "execution_count": 16,
     "metadata": {},
     "output_type": "execute_result"
    }
   ],
   "source": [
    "final['cleanedText']=final_string #Adding a column of Cleanedtext which displays data after preprocesing.\n",
    "final['cleanedText']=final['cleanedText'].str.decode(\"utf-8\")\n",
    "print('shape of final', final.shape)\n",
    "final.head()"
   ]
  },
  {
   "cell_type": "markdown",
   "metadata": {},
   "source": [
    "### Time Based Splitting For As AFR is Time series Data"
   ]
  },
  {
   "cell_type": "code",
   "execution_count": 17,
   "metadata": {},
   "outputs": [],
   "source": [
    "#sorting data according to time in ascending oreder for time based splitting\n",
    "time_sorted_data = final.sort_values('Time', axis=0, ascending=True, inplace=False, kind='quicksort', na_position='last')\n",
    "x = time_sorted_data['cleanedText'].values\n",
    "y = time_sorted_data['Score']\n",
    "#SPlit the dataset into Train and Test\n",
    "X_train,X_test,Y_train,Y_test=train_test_split(x, y, test_size=0.3, random_state=0)"
   ]
  },
  {
   "cell_type": "code",
   "execution_count": 18,
   "metadata": {
    "colab": {},
    "colab_type": "code",
    "id": "yYDc0ZXALPnK",
    "outputId": "5403fab9-796a-493d-f9d3-2a410d004f64"
   },
   "outputs": [
    {
     "name": "stdout",
     "output_type": "stream",
     "text": [
      "My dogs loves this chicken but its a product from China, so we wont be buying it anymore.  Its very hard to find any chicken products made in the USA but they are out there, but this one isnt.  Its too bad too because its a good product but I wont take any chances till they know what is going on with the china imports.\n",
      "==================================================\n",
      "The Candy Blocks were a nice visual for the Lego Birthday party but the candy has little taste to it.  Very little of the 2 lbs that I bought were eaten and I threw the rest away.  I would not buy the candy again.\n",
      "==================================================\n",
      "was way to hot for my blood, took a bite and did a jig  lol\n",
      "==================================================\n",
      "My dog LOVES these treats. They tend to have a very strong fish oil smell. So if you are afraid of the fishy smell, don't get it. But I think my dog likes it because of the smell. These treats are really small in size. They are great for training. You can give your dog several of these without worrying about him over eating. Amazon's price was much more reasonable than any other retailer. You can buy a 1 pound bag on Amazon for almost the same price as a 6 ounce bag at other retailers. It's definitely worth it to buy a big bag if your dog eats them a lot.\n",
      "==================================================\n"
     ]
    }
   ],
   "source": [
    "# printing some random reviews\n",
    "sent_0 = final['Text'].values[0]\n",
    "print(sent_0)\n",
    "print(\"=\"*50)\n",
    "\n",
    "sent_1000 = final['Text'].values[1000]\n",
    "print(sent_1000)\n",
    "print(\"=\"*50)\n",
    "\n",
    "sent_1500 = final['Text'].values[1500]\n",
    "print(sent_1500)\n",
    "print(\"=\"*50)\n",
    "\n",
    "sent_4900 = final['Text'].values[4900]\n",
    "print(sent_4900)\n",
    "print(\"=\"*50)"
   ]
  },
  {
   "cell_type": "code",
   "execution_count": 19,
   "metadata": {
    "colab": {},
    "colab_type": "code",
    "id": "AxYh-wPiLPnS",
    "outputId": "31bddcb2-6c52-4b16-f9fb-c03d5b3bb7c8"
   },
   "outputs": [
    {
     "name": "stdout",
     "output_type": "stream",
     "text": [
      "My dogs loves this chicken but its a product from China, so we wont be buying it anymore.  Its very hard to find any chicken products made in the USA but they are out there, but this one isnt.  Its too bad too because its a good product but I wont take any chances till they know what is going on with the china imports.\n"
     ]
    }
   ],
   "source": [
    "# remove urls from text python: https://stackoverflow.com/a/40823105/4084039\n",
    "sent_0 = re.sub(r\"http\\S+\", \"\", sent_0)\n",
    "sent_1000 = re.sub(r\"http\\S+\", \"\", sent_1000)\n",
    "sent_150 = re.sub(r\"http\\S+\", \"\", sent_1500)\n",
    "sent_4900 = re.sub(r\"http\\S+\", \"\", sent_4900)\n",
    "\n",
    "print(sent_0)"
   ]
  },
  {
   "cell_type": "code",
   "execution_count": 20,
   "metadata": {
    "colab": {},
    "colab_type": "code",
    "id": "JMSSWjZqLPne",
    "outputId": "eb1bae4e-6f37-45ee-84a3-ef3bebf4e30a"
   },
   "outputs": [
    {
     "name": "stdout",
     "output_type": "stream",
     "text": [
      "My dogs loves this chicken but its a product from China, so we wont be buying it anymore.  Its very hard to find any chicken products made in the USA but they are out there, but this one isnt.  Its too bad too because its a good product but I wont take any chances till they know what is going on with the china imports.\n",
      "==================================================\n",
      "The Candy Blocks were a nice visual for the Lego Birthday party but the candy has little taste to it.  Very little of the 2 lbs that I bought were eaten and I threw the rest away.  I would not buy the candy again.\n",
      "==================================================\n",
      "was way to hot for my blood, took a bite and did a jig  lol\n",
      "==================================================\n",
      "My dog LOVES these treats. They tend to have a very strong fish oil smell. So if you are afraid of the fishy smell, don't get it. But I think my dog likes it because of the smell. These treats are really small in size. They are great for training. You can give your dog several of these without worrying about him over eating. Amazon's price was much more reasonable than any other retailer. You can buy a 1 pound bag on Amazon for almost the same price as a 6 ounce bag at other retailers. It's definitely worth it to buy a big bag if your dog eats them a lot.\n"
     ]
    }
   ],
   "source": [
    "# https://stackoverflow.com/questions/16206380/python-beautifulsoup-how-to-remove-all-tags-from-an-element\n",
    "from bs4 import BeautifulSoup\n",
    "\n",
    "soup = BeautifulSoup(sent_0, 'lxml')\n",
    "text = soup.get_text()\n",
    "print(text)\n",
    "print(\"=\"*50)\n",
    "\n",
    "soup = BeautifulSoup(sent_1000, 'lxml')\n",
    "text = soup.get_text()\n",
    "print(text)\n",
    "print(\"=\"*50)\n",
    "\n",
    "soup = BeautifulSoup(sent_1500, 'lxml')\n",
    "text = soup.get_text()\n",
    "print(text)\n",
    "print(\"=\"*50)\n",
    "\n",
    "soup = BeautifulSoup(sent_4900, 'lxml')\n",
    "text = soup.get_text()\n",
    "print(text)"
   ]
  },
  {
   "cell_type": "code",
   "execution_count": 21,
   "metadata": {
    "colab": {},
    "colab_type": "code",
    "id": "BEtpMkhULPnt"
   },
   "outputs": [],
   "source": [
    "# https://stackoverflow.com/a/47091490/4084039\n",
    "import re\n",
    "\n",
    "def decontracted(phrase):\n",
    "    # specific\n",
    "    phrase = re.sub(r\"won't\", \"will not\", phrase)\n",
    "    phrase = re.sub(r\"can\\'t\", \"can not\", phrase)\n",
    "\n",
    "    # general\n",
    "    phrase = re.sub(r\"n\\'t\", \" not\", phrase)\n",
    "    phrase = re.sub(r\"\\'re\", \" are\", phrase)\n",
    "    phrase = re.sub(r\"\\'s\", \" is\", phrase)\n",
    "    phrase = re.sub(r\"\\'d\", \" would\", phrase)\n",
    "    phrase = re.sub(r\"\\'ll\", \" will\", phrase)\n",
    "    phrase = re.sub(r\"\\'t\", \" not\", phrase)\n",
    "    phrase = re.sub(r\"\\'ve\", \" have\", phrase)\n",
    "    phrase = re.sub(r\"\\'m\", \" am\", phrase)\n",
    "    return phrase"
   ]
  },
  {
   "cell_type": "code",
   "execution_count": 22,
   "metadata": {
    "colab": {},
    "colab_type": "code",
    "id": "GavAnzNjLPnx",
    "outputId": "517fca9a-b1b6-4c6c-ab33-4c5ac4a5bd62"
   },
   "outputs": [
    {
     "name": "stdout",
     "output_type": "stream",
     "text": [
      "was way to hot for my blood, took a bite and did a jig  lol\n",
      "==================================================\n"
     ]
    }
   ],
   "source": [
    "sent_1500 = decontracted(sent_1500)\n",
    "print(sent_1500)\n",
    "print(\"=\"*50)"
   ]
  },
  {
   "cell_type": "code",
   "execution_count": 23,
   "metadata": {
    "colab": {},
    "colab_type": "code",
    "id": "Kl8nOoL-LPn3",
    "outputId": "16742d57-2529-4fc0-9d28-e9332dbbca97"
   },
   "outputs": [
    {
     "name": "stdout",
     "output_type": "stream",
     "text": [
      "My dogs loves this chicken but its a product from China, so we wont be buying it anymore.  Its very hard to find any chicken products made in the USA but they are out there, but this one isnt.  Its too bad too because its a good product but I wont take any chances till they know what is going on with the china imports.\n"
     ]
    }
   ],
   "source": [
    "#remove words with numbers python: https://stackoverflow.com/a/18082370/4084039\n",
    "sent_0 = re.sub(\"\\S*\\d\\S*\", \"\", sent_0).strip()\n",
    "print(sent_0)"
   ]
  },
  {
   "cell_type": "code",
   "execution_count": 24,
   "metadata": {
    "colab": {},
    "colab_type": "code",
    "id": "EGB6X2uxLPn7",
    "outputId": "dbd754e5-eb73-4b3a-f3c3-7b1b40952851"
   },
   "outputs": [
    {
     "name": "stdout",
     "output_type": "stream",
     "text": [
      "was way to hot for my blood took a bite and did a jig lol\n"
     ]
    }
   ],
   "source": [
    "#remove spacial character: https://stackoverflow.com/a/5843547/4084039\n",
    "sent_1500 = re.sub('[^A-Za-z0-9]+', ' ', sent_1500)\n",
    "print(sent_1500)"
   ]
  },
  {
   "cell_type": "code",
   "execution_count": 25,
   "metadata": {
    "colab": {},
    "colab_type": "code",
    "id": "CCurSJJ2LPn_"
   },
   "outputs": [],
   "source": [
    "# https://gist.github.com/sebleier/554280\n",
    "# we are removing the words from the stop words list: 'no', 'nor', 'not'\n",
    "# <br /><br /> ==> after the above steps, we are getting \"br br\"\n",
    "# we are including them into stop words list\n",
    "# instead of <br /> if we have <br/> these tags would have revmoved in the 1st step\n",
    "\n",
    "stopwords= set(['br', 'the', 'i', 'me', 'my', 'myself', 'we', 'our', 'ours', 'ourselves', 'you', \"you're\", \"you've\",\\\n",
    "            \"you'll\", \"you'd\", 'your', 'yours', 'yourself', 'yourselves', 'he', 'him', 'his', 'himself', \\\n",
    "            'she', \"she's\", 'her', 'hers', 'herself', 'it', \"it's\", 'its', 'itself', 'they', 'them', 'their',\\\n",
    "            'theirs', 'themselves', 'what', 'which', 'who', 'whom', 'this', 'that', \"that'll\", 'these', 'those', \\\n",
    "            'am', 'is', 'are', 'was', 'were', 'be', 'been', 'being', 'have', 'has', 'had', 'having', 'do', 'does', \\\n",
    "            'did', 'doing', 'a', 'an', 'the', 'and', 'but', 'if', 'or', 'because', 'as', 'until', 'while', 'of', \\\n",
    "            'at', 'by', 'for', 'with', 'about', 'against', 'between', 'into', 'through', 'during', 'before', 'after',\\\n",
    "            'above', 'below', 'to', 'from', 'up', 'down', 'in', 'out', 'on', 'off', 'over', 'under', 'again', 'further',\\\n",
    "            'then', 'once', 'here', 'there', 'when', 'where', 'why', 'how', 'all', 'any', 'both', 'each', 'few', 'more',\\\n",
    "            'most', 'other', 'some', 'such', 'only', 'own', 'same', 'so', 'than', 'too', 'very', \\\n",
    "            's', 't', 'can', 'will', 'just', 'don', \"don't\", 'should', \"should've\", 'now', 'd', 'll', 'm', 'o', 're', \\\n",
    "            've', 'y', 'ain', 'aren', \"aren't\", 'couldn', \"couldn't\", 'didn', \"didn't\", 'doesn', \"doesn't\", 'hadn',\\\n",
    "            \"hadn't\", 'hasn', \"hasn't\", 'haven', \"haven't\", 'isn', \"isn't\", 'ma', 'mightn', \"mightn't\", 'mustn',\\\n",
    "            \"mustn't\", 'needn', \"needn't\", 'shan', \"shan't\", 'shouldn', \"shouldn't\", 'wasn', \"wasn't\", 'weren', \"weren't\", \\\n",
    "            'won', \"won't\", 'wouldn', \"wouldn't\"])"
   ]
  },
  {
   "cell_type": "code",
   "execution_count": 26,
   "metadata": {
    "colab": {},
    "colab_type": "code",
    "id": "mFHQEvfnLPoF",
    "outputId": "5cd6bcc3-54fe-4a8e-a39d-d6dabf3f37f9"
   },
   "outputs": [
    {
     "name": "stderr",
     "output_type": "stream",
     "text": [
      "100%|██████████████████████████████████████████████████████████████████████████| 87773/87773 [01:02<00:00, 1398.93it/s]\n"
     ]
    }
   ],
   "source": [
    "# Combining all the above stundents \n",
    "from tqdm import tqdm\n",
    "from bs4 import BeautifulSoup\n",
    "preprocessed_reviews = []\n",
    "# tqdm is for printing the status bar\n",
    "for sentance in tqdm(final['Text'].values):\n",
    "    sentance = re.sub(r\"http\\S+\", \"\", sentance)\n",
    "    sentance = BeautifulSoup(sentance, 'lxml').get_text()\n",
    "    sentance = decontracted(sentance)\n",
    "    sentance = re.sub(\"\\S*\\d\\S*\", \"\", sentance).strip()\n",
    "    sentance = re.sub('[^A-Za-z]+', ' ', sentance)\n",
    "    # https://gist.github.com/sebleier/554280\n",
    "    sentance = ' '.join(e.lower() for e in sentance.split() if e.lower() not in stopwords)\n",
    "    preprocessed_reviews.append(sentance.strip())"
   ]
  },
  {
   "cell_type": "code",
   "execution_count": 29,
   "metadata": {
    "colab": {},
    "colab_type": "code",
    "id": "Tqx8QUeRLPoH",
    "outputId": "0182081c-6282-4113-b186-5b5bac596388"
   },
   "outputs": [
    {
     "data": {
      "text/plain": [
       "'way hot blood took bite jig lol'"
      ]
     },
     "execution_count": 29,
     "metadata": {},
     "output_type": "execute_result"
    }
   ],
   "source": [
    "preprocessed_reviews[1500]"
   ]
  },
  {
   "cell_type": "markdown",
   "metadata": {
    "colab_type": "text",
    "id": "9IuKp2HULPoL"
   },
   "source": [
    "<h2><font color='red'>[3.2] Preprocessing Review Summary</font></h2>"
   ]
  },
  {
   "cell_type": "code",
   "execution_count": 30,
   "metadata": {
    "colab": {},
    "colab_type": "code",
    "id": "Qk7gYOmKLPoM"
   },
   "outputs": [
    {
     "name": "stderr",
     "output_type": "stream",
     "text": [
      "100%|██████████████████████████████████████████████████████████████████████████| 87773/87773 [00:42<00:00, 2072.37it/s]\n"
     ]
    }
   ],
   "source": [
    "## Similartly you can do preprocessing for review summary also.\n",
    "from tqdm import tqdm\n",
    "preprocessed_summaries = []\n",
    "# tqdm is for printing the status bar\n",
    "for sentance in tqdm(final['Summary'].values):\n",
    "    sentance = re.sub(r\"http\\S+\", \"\", sentance)\n",
    "    sentance = BeautifulSoup(sentance, 'lxml').get_text()\n",
    "    sentance = decontracted(sentance)\n",
    "    sentance = re.sub(\"\\S*\\d\\S*\", \"\", sentance).strip()\n",
    "    sentance = re.sub('[^A-Za-z]+', ' ', sentance)\n",
    "    # https://gist.github.com/sebleier/554280\n",
    "    sentance = ' '.join(e.lower() for e in sentance.split() if e.lower() not in stopwords)\n",
    "    preprocessed_summaries.append(sentance.strip())"
   ]
  },
  {
   "cell_type": "markdown",
   "metadata": {
    "colab_type": "text",
    "id": "B93jqKuhLPoQ"
   },
   "source": [
    "# [4] Featurization"
   ]
  },
  {
   "cell_type": "markdown",
   "metadata": {
    "colab_type": "text",
    "id": "Mr4j2QhgLPoQ"
   },
   "source": [
    "## [4.1] BAG OF WORDS"
   ]
  },
  {
   "cell_type": "code",
   "execution_count": 120,
   "metadata": {
    "colab": {},
    "colab_type": "code",
    "id": "dZVHt3mtLPoR",
    "outputId": "ea1629cd-7c92-400e-9acd-f7caeef0f389"
   },
   "outputs": [
    {
     "name": "stdout",
     "output_type": "stream",
     "text": [
      "some feature names  ['aa', 'aaa', 'aaaa', 'aaaaa', 'aaaaaaaaaaaa', 'aaaaaaaaaaaaaaa', 'aaaaaaahhhhhh', 'aaaaaaarrrrrggghhh', 'aaaaaawwwwwwwwww', 'aaaaah']\n",
      "==================================================\n",
      "the type of count vectorizer  <class 'scipy.sparse.csr.csr_matrix'>\n",
      "the shape of out text BOW vectorizer  (87773, 54904)\n",
      "the number of unique words  54904\n"
     ]
    }
   ],
   "source": [
    "#BoW\n",
    "count_vect = CountVectorizer() #in scikit-learn\n",
    "count_vect.fit(preprocessed_reviews)\n",
    "print(\"some feature names \", count_vect.get_feature_names()[:10])\n",
    "print('='*50)\n",
    "\n",
    "final_counts = count_vect.transform(preprocessed_reviews)\n",
    "print(\"the type of count vectorizer \",type(final_counts))\n",
    "print(\"the shape of out text BOW vectorizer \",final_counts.get_shape())\n",
    "print(\"the number of unique words \", final_counts.get_shape()[1])"
   ]
  },
  {
   "cell_type": "markdown",
   "metadata": {
    "colab_type": "text",
    "id": "tSf5kRdLLPoV"
   },
   "source": [
    "## [4.2] Bi-Grams and n-Grams."
   ]
  },
  {
   "cell_type": "code",
   "execution_count": 121,
   "metadata": {
    "colab": {},
    "colab_type": "code",
    "id": "Yfk2d7bLLPoW",
    "outputId": "33472132-5eb3-493f-b08c-081749f99239"
   },
   "outputs": [
    {
     "name": "stdout",
     "output_type": "stream",
     "text": [
      "the type of count vectorizer  <class 'scipy.sparse.csr.csr_matrix'>\n",
      "the shape of out text BOW vectorizer  (87773, 5000)\n",
      "the number of unique words including both unigrams and bigrams  5000\n"
     ]
    }
   ],
   "source": [
    "#bi-gram, tri-gram and n-gram\n",
    "\n",
    "#removing stop words like \"not\" should be avoided before building n-grams\n",
    "# count_vect = CountVectorizer(ngram_range=(1,2))\n",
    "# please do read the CountVectorizer documentation http://scikit-learn.org/stable/modules/generated/sklearn.feature_extraction.text.CountVectorizer.html\n",
    "\n",
    "# you can choose these numebrs min_df=10, max_features=5000, of your choice\n",
    "count_vect = CountVectorizer(ngram_range=(1,2), min_df=10, max_features=5000)\n",
    "final_bigram_counts = count_vect.fit_transform(preprocessed_reviews)\n",
    "print(\"the type of count vectorizer \",type(final_bigram_counts))\n",
    "print(\"the shape of out text BOW vectorizer \",final_bigram_counts.get_shape())\n",
    "print(\"the number of unique words including both unigrams and bigrams \", final_bigram_counts.get_shape()[1])"
   ]
  },
  {
   "cell_type": "markdown",
   "metadata": {
    "colab_type": "text",
    "id": "-cEEpDx0LPoZ"
   },
   "source": [
    "## [4.3] TF-IDF"
   ]
  },
  {
   "cell_type": "code",
   "execution_count": 122,
   "metadata": {
    "colab": {},
    "colab_type": "code",
    "id": "TgP61HqBLPoa",
    "outputId": "15f1c123-d93b-414d-914b-d4e3f32a6ac1"
   },
   "outputs": [
    {
     "name": "stdout",
     "output_type": "stream",
     "text": [
      "some sample features(unique words in the corpus) ['aa', 'aafco', 'aback', 'abandon', 'abandoned', 'abdominal', 'ability', 'able', 'able add', 'able brew']\n",
      "==================================================\n",
      "the type of count vectorizer  <class 'scipy.sparse.csr.csr_matrix'>\n",
      "the shape of out text TFIDF vectorizer  (87773, 51709)\n",
      "the number of unique words including both unigrams and bigrams  51709\n"
     ]
    }
   ],
   "source": [
    "tf_idf_vect = TfidfVectorizer(ngram_range=(1,2), min_df=10)\n",
    "tf_idf_vect.fit(preprocessed_reviews)\n",
    "print(\"some sample features(unique words in the corpus)\",tf_idf_vect.get_feature_names()[0:10])\n",
    "print('='*50)\n",
    "\n",
    "final_tf_idf = tf_idf_vect.transform(preprocessed_reviews)\n",
    "print(\"the type of count vectorizer \",type(final_tf_idf))\n",
    "print(\"the shape of out text TFIDF vectorizer \",final_tf_idf.get_shape())\n",
    "print(\"the number of unique words including both unigrams and bigrams \", final_tf_idf.get_shape()[1])"
   ]
  },
  {
   "cell_type": "markdown",
   "metadata": {
    "colab_type": "text",
    "id": "m3YEHTLPLPod"
   },
   "source": [
    "## [4.4] Word2Vec"
   ]
  },
  {
   "cell_type": "code",
   "execution_count": 123,
   "metadata": {
    "colab": {},
    "colab_type": "code",
    "id": "zwPZCf8cLPoe"
   },
   "outputs": [],
   "source": [
    "# Train your own Word2Vec model using your own text corpus\n",
    "i=0\n",
    "list_of_sentance=[]\n",
    "for sentance in preprocessed_reviews:\n",
    "    list_of_sentance.append(sentance.split())"
   ]
  },
  {
   "cell_type": "code",
   "execution_count": 124,
   "metadata": {
    "colab": {},
    "colab_type": "code",
    "id": "8ddGZNUfLPog",
    "outputId": "390d4ccb-cda2-4391-83e9-0e502b578171",
    "scrolled": true
   },
   "outputs": [
    {
     "name": "stdout",
     "output_type": "stream",
     "text": [
      "[('awesome', 0.833054780960083), ('fantastic', 0.8282230496406555), ('terrific', 0.8178467154502869), ('good', 0.8172284364700317), ('excellent', 0.8095447421073914), ('perfect', 0.7762563228607178), ('wonderful', 0.7662094831466675), ('amazing', 0.7346127033233643), ('nice', 0.7282907366752625), ('fabulous', 0.7072104215621948)]\n",
      "==================================================\n",
      "[('greatest', 0.7993786334991455), ('best', 0.7487739324569702), ('tastiest', 0.7091807126998901), ('nastiest', 0.6944457292556763), ('nicest', 0.6583582758903503), ('disgusting', 0.6164989471435547), ('freshest', 0.6153883337974548), ('smoothest', 0.6011213660240173), ('hottest', 0.6007328033447266), ('experienced', 0.5956722497940063)]\n"
     ]
    }
   ],
   "source": [
    "# Using Google News Word2Vectors\n",
    "\n",
    "# in this project we are using a pretrained model by google\n",
    "# its 3.3G file, once you load this into your memory \n",
    "# it occupies ~9Gb, so please do this step only if you have >12G of ram\n",
    "# we will provide a pickle file wich contains a dict , \n",
    "# and it contains all our courpus words as keys and  model[word] as values\n",
    "# To use this code-snippet, download \"GoogleNews-vectors-negative300.bin\" \n",
    "# from https://drive.google.com/file/d/0B7XkCwpI5KDYNlNUTTlSS21pQmM/edit\n",
    "# it's 1.9GB in size.\n",
    "\n",
    "\n",
    "# http://kavita-ganesan.com/gensim-word2vec-tutorial-starter-code/#.W17SRFAzZPY\n",
    "# you can comment this whole cell\n",
    "# or change these varible according to your need\n",
    "\n",
    "is_your_ram_gt_16g=False\n",
    "want_to_use_google_w2v = False\n",
    "want_to_train_w2v = True\n",
    "\n",
    "if want_to_train_w2v:\n",
    "    # min_count = 5 considers only words that occured atleast 5 times\n",
    "    w2v_model=Word2Vec(list_of_sentance,min_count=5,size=50, workers=4)\n",
    "    print(w2v_model.wv.most_similar('great'))\n",
    "    print('='*50)\n",
    "    print(w2v_model.wv.most_similar('worst'))\n",
    "    \n",
    "elif want_to_use_google_w2v and is_your_ram_gt_16g:\n",
    "    if os.path.isfile('GoogleNews-vectors-negative300.bin'):\n",
    "        w2v_model=KeyedVectors.load_word2vec_format('GoogleNews-vectors-negative300.bin', binary=True)\n",
    "        print(w2v_model.wv.most_similar('great'))\n",
    "        print(w2v_model.wv.most_similar('worst'))\n",
    "    else:\n",
    "        print(\"you don't have gogole's word2vec file, keep want_to_train_w2v = True, to train your own w2v \")"
   ]
  },
  {
   "cell_type": "code",
   "execution_count": 125,
   "metadata": {
    "colab": {},
    "colab_type": "code",
    "id": "bRWXmmnWLPoo",
    "outputId": "1cc345e7-d991-49b8-f1b7-a0d81f0b97e6"
   },
   "outputs": [
    {
     "name": "stdout",
     "output_type": "stream",
     "text": [
      "number of words that occured minimum 5 times  17386\n",
      "sample words  ['dogs', 'loves', 'chicken', 'product', 'china', 'wont', 'buying', 'anymore', 'hard', 'find', 'products', 'made', 'usa', 'one', 'isnt', 'bad', 'good', 'take', 'chances', 'till', 'know', 'going', 'imports', 'love', 'saw', 'pet', 'store', 'tag', 'attached', 'regarding', 'satisfied', 'safe', 'infestation', 'literally', 'everywhere', 'flying', 'around', 'kitchen', 'bought', 'hoping', 'least', 'get', 'rid', 'weeks', 'fly', 'stuck', 'squishing', 'buggers', 'success', 'rate']\n"
     ]
    }
   ],
   "source": [
    "w2v_words = list(w2v_model.wv.vocab)\n",
    "print(\"number of words that occured minimum 5 times \",len(w2v_words))\n",
    "print(\"sample words \", w2v_words[0:50])"
   ]
  },
  {
   "cell_type": "markdown",
   "metadata": {
    "colab_type": "text",
    "id": "TtWqibqfLPos"
   },
   "source": [
    "## [4.4.1] Converting text into vectors using Avg W2V, TFIDF-W2V"
   ]
  },
  {
   "cell_type": "markdown",
   "metadata": {
    "colab_type": "text",
    "id": "JriP5nZCLPot"
   },
   "source": [
    "#### [4.4.1.1] Avg W2v"
   ]
  },
  {
   "cell_type": "code",
   "execution_count": 34,
   "metadata": {
    "colab": {},
    "colab_type": "code",
    "id": "UnXI9NHTLPot",
    "outputId": "ecbe8256-9718-4bad-de33-e5ce1ee69038"
   },
   "outputs": [
    {
     "name": "stderr",
     "output_type": "stream",
     "text": [
      "100%|███████████████████████████████████████████████████████████████████████████| 87773/87773 [05:42<00:00, 256.37it/s]\n"
     ]
    },
    {
     "name": "stdout",
     "output_type": "stream",
     "text": [
      "87773\n",
      "50\n"
     ]
    }
   ],
   "source": [
    "# average Word2Vec\n",
    "# compute average word2vec for each review.\n",
    "sent_vectors = []; # the avg-w2v for each sentence/review is stored in this list\n",
    "for sent in tqdm(list_of_sentance): # for each review/sentence\n",
    "    sent_vec = np.zeros(50) # as word vectors are of zero length 50, you might need to change this to 300 if you use google's w2v\n",
    "    cnt_words =0; # num of words with a valid vector in the sentence/review\n",
    "    for word in sent: # for each word in a review/sentence\n",
    "        if word in w2v_words:\n",
    "            vec = w2v_model.wv[word]\n",
    "            sent_vec += vec\n",
    "            cnt_words += 1\n",
    "    if cnt_words != 0:\n",
    "        sent_vec /= cnt_words\n",
    "    sent_vectors.append(sent_vec)\n",
    "print(len(sent_vectors))\n",
    "print(len(sent_vectors[0]))"
   ]
  },
  {
   "cell_type": "markdown",
   "metadata": {
    "colab_type": "text",
    "id": "2sHfb529LPow"
   },
   "source": [
    "#### [4.4.1.2] TFIDF weighted W2v"
   ]
  },
  {
   "cell_type": "code",
   "execution_count": 126,
   "metadata": {
    "colab": {},
    "colab_type": "code",
    "id": "sb_wDjAqLPow"
   },
   "outputs": [],
   "source": [
    "# S = [\"abc def pqr\", \"def def def abc\", \"pqr pqr def\"]\n",
    "model = TfidfVectorizer()\n",
    "tf_idf_matrix = model.fit_transform(preprocessed_reviews)\n",
    "# we are converting a dictionary with word as a key, and the idf as a value\n",
    "dictionary = dict(zip(model.get_feature_names(), list(model.idf_)))"
   ]
  },
  {
   "cell_type": "code",
   "execution_count": 127,
   "metadata": {
    "colab": {},
    "colab_type": "code",
    "id": "3VrUzqx7LPoy",
    "outputId": "8480d5da-7b1d-4bbe-a4c9-fe0a5800b5d0",
    "scrolled": true
   },
   "outputs": [
    {
     "name": "stderr",
     "output_type": "stream",
     "text": [
      "100%|██████████████████████████████████████████████████████████████████████████| 87773/87773 [1:19:43<00:00, 14.99it/s]\n"
     ]
    }
   ],
   "source": [
    "# TF-IDF weighted Word2Vec\n",
    "tfidf_feat = model.get_feature_names() # tfidf words/col-names\n",
    "# final_tf_idf is the sparse matrix with row= sentence, col=word and cell_val = tfidf\n",
    "\n",
    "tfidf_sent_vectors = []; # the tfidf-w2v for each sentence/review is stored in this list\n",
    "row=0;\n",
    "for sent in tqdm(list_of_sentance): # for each review/sentence \n",
    "    sent_vec = np.zeros(50) # as word vectors are of zero length\n",
    "    weight_sum =0; # num of words with a valid vector in the sentence/review\n",
    "    for word in sent: # for each word in a review/sentence\n",
    "        if word in w2v_words and word in tfidf_feat:\n",
    "            vec = w2v_model.wv[word]\n",
    "#             tf_idf = tf_idf_matrix[row, tfidf_feat.index(word)]\n",
    "            # to reduce the computation we are \n",
    "            # dictionary[word] = idf value of word in whole courpus\n",
    "            # sent.count(word) = tf valeus of word in this review\n",
    "            tf_idf = dictionary[word]*(sent.count(word)/len(sent))\n",
    "            sent_vec += (vec * tf_idf)\n",
    "            weight_sum += tf_idf\n",
    "    if weight_sum != 0:\n",
    "        sent_vec /= weight_sum\n",
    "    tfidf_sent_vectors.append(sent_vec)\n",
    "    row += 1"
   ]
  },
  {
   "cell_type": "markdown",
   "metadata": {
    "colab_type": "text",
    "id": "Kxx72u1hLPo1"
   },
   "source": [
    "# [5] Assignment 5: Apply Logistic Regression"
   ]
  },
  {
   "cell_type": "markdown",
   "metadata": {
    "colab_type": "text",
    "id": "KDR9We0oLPo2"
   },
   "source": [
    "<ol>\n",
    "    <li><strong>Apply Logistic Regression on these feature sets</strong>\n",
    "        <ul>\n",
    "            <li><font color='red'>SET 1:</font>Review text, preprocessed one converted into vectors using (BOW)</li>\n",
    "            <li><font color='red'>SET 2:</font>Review text, preprocessed one converted into vectors using (TFIDF)</li>\n",
    "            <li><font color='red'>SET 3:</font>Review text, preprocessed one converted into vectors using (AVG W2v)</li>\n",
    "            <li><font color='red'>SET 4:</font>Review text, preprocessed one converted into vectors using (TFIDF W2v)</li>\n",
    "        </ul>\n",
    "    </li>\n",
    "    <br>\n",
    "    <li><strong>Hyper paramter tuning (find best hyper parameters corresponding the algorithm that you choose)</strong>\n",
    "        <ul>\n",
    "    <li>Find the best hyper parameter which will give the maximum <a href='https://www.appliedaicourse.com/course/applied-ai-course-online/lessons/receiver-operating-characteristic-curve-roc-curve-and-auc-1/'>AUC</a> value</li>\n",
    "    <li>Find the best hyper paramter using k-fold cross validation or simple cross validation data</li>\n",
    "    <li>Use gridsearch cv or randomsearch cv or you can also write your own for loops to do this task of hyperparameter tuning</li>          \n",
    "        </ul>\n",
    "    </li>\n",
    "    <br>\n",
    "    <li><strong>Pertubation Test</strong>\n",
    "        <ul>\n",
    "    <li>Get the weights W after fit your model with the data X i.e Train data.</li>\n",
    "    <li>Add a noise to the X (X' = X + e) and get the new data set X' (if X is a sparse\n",
    "matrix, X.data+=e)</li>\n",
    "    <li>Fit the model again on data X' and get the weights W'</li>\n",
    "    <li>Add a small eps value(to eliminate the divisible by zero error) to W and W’ i.e\n",
    "W=W+10^-6 and W’ = W’+10^-6</li>\n",
    "    <li>Now find the % change between W and W' (| (W-W') / (W) |)*100)</li>\n",
    "    <li>Calculate the 0th, 10th, 20th, 30th, ...100th percentiles, and observe any sudden rise in the values of percentage_change_vector</li>\n",
    "    <li> Ex: consider your 99th percentile is 1.3 and your 100th percentiles are 34.6, there is sudden rise from 1.3 to 34.6, now calculate the 99.1, 99.2, 99.3,..., 100th percentile values and get the proper value after which there is sudden rise the values, assume it is 2.5</li>\n",
    "            <li> Print the feature names whose % change is more than a threshold x(in our example it's 2.5)</li>\n",
    "        </ul>\n",
    "    </li>\n",
    "    <br>\n",
    "    <li><strong>Sparsity</strong>\n",
    "        <ul>\n",
    "    <li>Calculate sparsity on weight vector obtained after using L1 regularization</li>\n",
    "        </ul>\n",
    "    </li>\n",
    "    <br><font color='red'>NOTE: Do sparsity and multicollinearity for any one of the vectorizers. Bow or tf-idf is recommended.</font>\n",
    "    <br>\n",
    "    <br>\n",
    "    <li><strong>Feature importance</strong>\n",
    "        <ul>\n",
    "    <li>Get top 10 important features for both positive and negative classes separately.</li>\n",
    "        </ul>\n",
    "    </li>\n",
    "    <br>\n",
    "    <li><strong>Feature engineering</strong>\n",
    "        <ul>\n",
    "    <li>To increase the performance of your model, you can also experiment with with feature engineering like :</li>\n",
    "            <ul>\n",
    "            <li>Taking length of reviews as another feature.</li>\n",
    "            <li>Considering some features from review summary as well.</li>\n",
    "        </ul>\n",
    "        </ul>\n",
    "    </li>\n",
    "    <br>\n",
    "    <li><strong>Representation of results</strong>\n",
    "        <ul>\n",
    "    <li>You need to plot the performance of model both on train data and cross validation data for each hyper parameter, like shown in the figure.\n",
    "    <img src='train_cv_auc.JPG' width=300px></li>\n",
    "    <li>Once after you found the best hyper parameter, you need to train your model with it, and find the AUC on test data and plot the ROC curve on both train and test.\n",
    "    <img src='train_test_auc.JPG' width=300px></li>\n",
    "    <li>Along with plotting ROC curve, you need to print the <a href='https://www.appliedaicourse.com/course/applied-ai-course-online/lessons/confusion-matrix-tpr-fpr-fnr-tnr-1/'>confusion matrix</a> with predicted and original labels of test data points. Please visualize your confusion matrices using <a href='https://seaborn.pydata.org/generated/seaborn.heatmap.html'>seaborn heatmaps.\n",
    "    <img src='confusion_matrix.png' width=300px></li>\n",
    "        </ul>\n",
    "    </li>\n",
    "    <br>\n",
    "    <li><strong>Conclusion</strong>\n",
    "        <ul>\n",
    "    <li>You need to summarize the results at the end of the notebook, summarize it in the table format. To print out a table please refer to this prettytable library<a href='http://zetcode.com/python/prettytable/'>  link</a> \n",
    "        <img src='summary.JPG' width=400px>\n",
    "    </li>\n",
    "        </ul>\n",
    "</ol>"
   ]
  },
  {
   "cell_type": "markdown",
   "metadata": {
    "colab_type": "text",
    "id": "gilb-DOVLPo2"
   },
   "source": [
    "<h4><font color='red'>Note: Data Leakage</font></h4>\n",
    "\n",
    "1. There will be an issue of data-leakage if you vectorize the entire data and then split it into train/cv/test.\n",
    "2. To avoid the issue of data-leakag, make sure to split your data first and then vectorize it. \n",
    "3. While vectorizing your data, apply the method fit_transform() on you train data, and apply the method transform() on cv/test data.\n",
    "4. For more details please go through this <a href='https://soundcloud.com/applied-ai-course/leakage-bow-and-tfidf'>link.</a>"
   ]
  },
  {
   "cell_type": "markdown",
   "metadata": {
    "colab_type": "text",
    "id": "jiYocvSHLPo4"
   },
   "source": [
    "# Applying Logistic Regression"
   ]
  },
  {
   "cell_type": "markdown",
   "metadata": {
    "colab_type": "text",
    "id": "LE_XPVZJLPo4"
   },
   "source": [
    "## [5.1] Logistic Regression on BOW,<font color='red'> SET 1</font>"
   ]
  },
  {
   "cell_type": "markdown",
   "metadata": {
    "colab_type": "text",
    "id": "_iciJvj2LPo4"
   },
   "source": [
    "### [5.1.1] Applying Logistic Regression with L1 regularization on BOW,<font color='red'> SET 1</font>"
   ]
  },
  {
   "cell_type": "code",
   "execution_count": 28,
   "metadata": {},
   "outputs": [
    {
     "name": "stdout",
     "output_type": "stream",
     "text": [
      "the type of count vectorizer  <class 'scipy.sparse.csr.csr_matrix'>\n",
      "the shape of out text BOW vectorizer  (61441, 3062)\n",
      "the number of unique words including both unigrams and bigrams  3062\n"
     ]
    }
   ],
   "source": [
    "#Bow\n",
    "count_vect = CountVectorizer(min_df =50)\n",
    "X_train_vec = count_vect.fit_transform(X_train)\n",
    "X_test_vec = count_vect.transform(X_test)\n",
    "print(\"the type of count vectorizer \",type(X_train_vec))\n",
    "print(\"the shape of out text BOW vectorizer \",X_train_vec.get_shape())\n",
    "print(\"the number of unique words including both unigrams and bigrams \", X_train_vec.get_shape()[1])"
   ]
  },
  {
   "cell_type": "code",
   "execution_count": 29,
   "metadata": {},
   "outputs": [],
   "source": [
    "#Standardizing\n",
    "sc = StandardScaler(with_mean=False)\n",
    "X_train_vec_standardized = sc.fit_transform(X_train_vec)\n",
    "X_test_vec_standardized = sc.transform(X_test_vec)"
   ]
  },
  {
   "cell_type": "markdown",
   "metadata": {},
   "source": [
    "#### L2 Reguralization"
   ]
  },
  {
   "cell_type": "code",
   "execution_count": 30,
   "metadata": {},
   "outputs": [
    {
     "name": "stdout",
     "output_type": "stream",
     "text": [
      "Model with best parameters :\n",
      " LogisticRegression(C=0.01, class_weight=None, dual=False, fit_intercept=True,\n",
      "          intercept_scaling=1, max_iter=100, multi_class='ovr', n_jobs=1,\n",
      "          penalty='l2', random_state=None, solver='liblinear', tol=0.0001,\n",
      "          verbose=0, warm_start=False)\n",
      "Accuracy of model :  0.910147349233\n",
      "The Optimal value Of C(1/lambda) is :  0.01\n"
     ]
    }
   ],
   "source": [
    "tuned_parameters = [{'C': [10**-4, 10**-2, 10**0, 10**2, 10**4]}]\n",
    "#using GridSearchCv\n",
    "model = GridSearchCV(LogisticRegression(penalty='l2'), tuned_parameters, scoring='accuracy', cv=3, n_jobs=-1, pre_dispatch=2)\n",
    "model.fit(X_train_vec_standardized, Y_train)\n",
    "print(\"Model with best parameters :\\n\", model.best_estimator_)\n",
    "print(\"Accuracy of model : \", model.score(X_test_vec_standardized, Y_test))\n",
    "\n",
    "optimal_C = model.best_estimator_.C\n",
    "print(\"The Optimal value Of C(1/lambda) is : \", optimal_C)\n",
    "\n",
    "#Testing Logistic Regression with Optimal value of C:(1/lambda)\n",
    "lr = LogisticRegression(penalty='l2', C=optimal_C, n_jobs=-1)\n",
    "lr.fit(X_train_vec_standardized, Y_train)\n",
    "predictions = lr.predict(X_test_vec_standardized)\n",
    "\n",
    "#varibles will be used at conclusion part\n",
    "bow_l1_grid_C = optimal_C\n",
    "bow_l1_grid_train_acc = model.score(X_test_vec_standardized, Y_test)*100\n",
    "bow_l1_grid_test_acc = accuracy_score(Y_test, predictions) * 100"
   ]
  },
  {
   "cell_type": "code",
   "execution_count": 37,
   "metadata": {},
   "outputs": [
    {
     "name": "stdout",
     "output_type": "stream",
     "text": [
      "\n",
      "Test Accuracy Of Classifier C = 0.010 is 91.208749%\n",
      "\n",
      "Test Precsion Of Classifier C = 0.010 is 0.934074\n",
      "\n",
      "Test recall  Of Classifier C = 0.010 is 0.963538\n",
      "\n",
      "Test F1-score  Of Classifier C = 0.010 is 0.948577\n"
     ]
    }
   ],
   "source": [
    "#Evaluate Accuracy\n",
    "acc = accuracy_score(Y_test, predictions)* 100\n",
    "print('\\nTest Accuracy Of Classifier C = %.3f is %f%%' % (optimal_C, acc))\n",
    "\n",
    "#Evaluate Precision\n",
    "acc = precision_score(Y_test, predictions)\n",
    "print('\\nTest Precsion Of Classifier C = %.3f is %f' % (optimal_C, acc))\n",
    "\n",
    "#Evaluate Recall\n",
    "acc = recall_score(Y_test, predictions)\n",
    "print('\\nTest recall  Of Classifier C = %.3f is %f' % (optimal_C, acc))\n",
    "\n",
    "#Evaluate F1-score\n",
    "acc = f1_score(Y_test, predictions)\n",
    "print('\\nTest F1-score  Of Classifier C = %.3f is %f' % (optimal_C, acc))"
   ]
  },
  {
   "cell_type": "code",
   "execution_count": 82,
   "metadata": {},
   "outputs": [
    {
     "name": "stdout",
     "output_type": "stream",
     "text": [
      "Train Confusion Matrix\n",
      "[[ 5688  4259]\n",
      " [  881 50613]]\n",
      "Test Confusion Matrix\n",
      "[[ 2322  1912]\n",
      " [  477 21621]]\n"
     ]
    },
    {
     "data": {
      "image/png": "[encoded data removed]",
      "text/plain": [
       "<Figure size 432x288 with 2 Axes>"
      ]
     },
     "metadata": {
      "needs_background": "light"
     },
     "output_type": "display_data"
    }
   ],
   "source": [
    "#Confusion Matrix\n",
    "print(\"Train Confusion Matrix\")\n",
    "print(confusion_matrix(Y_train, lr.predict(X_train_vec_standardized)))\n",
    "print(\"Test Confusion Matrix\")\n",
    "print(confusion_matrix(Y_test, lr.predict(X_test_vec_standardized)))\n",
    "cm_test=confusion_matrix(Y_test, lr.predict(X_test_vec_standardized))\n",
    "class_label = [\"negative\", \"positive\"]\n",
    "df_cm = pd.DataFrame(cm_test, index=class_label, columns=class_label)\n",
    "sns.heatmap(df_cm, annot = True, fmt = \"d\")\n",
    "plt.title(\"Confusion Matrix\")\n",
    "plt.xlabel(\"Predicted Label\")\n",
    "plt.ylabel(\"True Label\")\n",
    "plt.show()"
   ]
  },
  {
   "cell_type": "markdown",
   "metadata": {},
   "source": [
    "#### Observation:\n",
    "* By using GridSearchCV got an optimal C =0.01 with an acc 0.91% by L2 reg."
   ]
  },
  {
   "cell_type": "markdown",
   "metadata": {},
   "source": [
    "#### GridSearch CV Implementation"
   ]
  },
  {
   "cell_type": "code",
   "execution_count": 45,
   "metadata": {},
   "outputs": [
    {
     "name": "stdout",
     "output_type": "stream",
     "text": [
      "Model with best parameters :\n",
      " LogisticRegression(C=0.01, class_weight=None, dual=False, fit_intercept=True,\n",
      "          intercept_scaling=1, max_iter=100, multi_class='ovr', n_jobs=1,\n",
      "          penalty='l1', random_state=None, solver='liblinear', tol=0.0001,\n",
      "          verbose=0, warm_start=False)\n",
      "Accuracy of model :  0.909273887285\n",
      "The Optimal value Of C(1/lambda) is :  0.01\n"
     ]
    }
   ],
   "source": [
    "tuned_parameters = [{'C': [10**-4, 10**-2, 10**0, 10**2, 10**4]}]\n",
    "#using GridSearchCv\n",
    "model = GridSearchCV(LogisticRegression(penalty='l1'), tuned_parameters, scoring='accuracy', cv=3, n_jobs=-1, pre_dispatch=2)\n",
    "model.fit(X_train_vec_standardized, Y_train)\n",
    "print(\"Model with best parameters :\\n\", model.best_estimator_)\n",
    "print(\"Accuracy of model : \", model.score(X_test_vec_standardized, Y_test))\n",
    "\n",
    "optimal_C = model.best_estimator_.C\n",
    "print(\"The Optimal value Of C(1/lambda) is : \", optimal_C)\n",
    "\n",
    "#Testing Logistic Regression with Optimal value of C:(1/lambda)\n",
    "lr = LogisticRegression(penalty='l1', C=optimal_C, n_jobs=-1)\n",
    "lr.fit(X_train_vec_standardized, Y_train)\n",
    "predictions = lr.predict(X_test_vec_standardized)\n",
    "\n",
    "#varibles will be used at conclusion part\n",
    "bow_l1_grid_C = optimal_C\n",
    "bow_l1_grid_train_acc = model.score(X_test_vec_standardized, Y_test)*100\n",
    "bow_l1_grid_test_acc = accuracy_score(Y_test, predictions) * 100"
   ]
  },
  {
   "cell_type": "code",
   "execution_count": 46,
   "metadata": {},
   "outputs": [
    {
     "name": "stdout",
     "output_type": "stream",
     "text": [
      "\n",
      "Test Accuracy Of Classifier C = 0.010000 is 90.931186%\n",
      "\n",
      "Test Precsion Of Classifier C = 0.010000 is 0.918791%\n",
      "\n",
      "Test recall  Of Classifier C = 0.010000 is 0.978414%\n",
      "\n",
      "Test F1-score  Of Classifier C = 0.010000 is 0.947666%\n"
     ]
    }
   ],
   "source": [
    "#Evaluate Accuracy\n",
    "acc = accuracy_score(Y_test, predictions)* 100\n",
    "print('\\nTest Accuracy Of Classifier C = %f is %f%%' % (optimal_C, acc))\n",
    "\n",
    "#Evaluate Precision\n",
    "acc = precision_score(Y_test, predictions)\n",
    "print('\\nTest Precsion Of Classifier C = %f is %f%%' % (optimal_C, acc))\n",
    "\n",
    "#Evaluate Recall\n",
    "acc = recall_score(Y_test, predictions)\n",
    "print('\\nTest recall  Of Classifier C = %f is %f%%' % (optimal_C, acc))\n",
    "\n",
    "#Evaluate F1-score\n",
    "acc = f1_score(Y_test, predictions)\n",
    "print('\\nTest F1-score  Of Classifier C = %f is %f%%' % (optimal_C, acc))\n"
   ]
  },
  {
   "cell_type": "code",
   "execution_count": 28,
   "metadata": {},
   "outputs": [
    {
     "name": "stdout",
     "output_type": "stream",
     "text": [
      "Train Confusion Matrix\n",
      "[[ 4845  2102]\n",
      " [  291 35770]]\n",
      "Test Confusion Matrix\n",
      "[[ 2260  1968]\n",
      " [  475 21629]]\n"
     ]
    },
    {
     "data": {
      "image/png": "[encoded data removed]",
      "text/plain": [
       "<Figure size 432x288 with 2 Axes>"
      ]
     },
     "metadata": {
      "needs_background": "light"
     },
     "output_type": "display_data"
    }
   ],
   "source": [
    "#Confusion Matrix\n",
    "print(\"Train Confusion Matrix\")\n",
    "print(confusion_matrix(y_train, lr.predict(X_train)))\n",
    "print(\"Test Confusion Matrix\")\n",
    "print(confusion_matrix(y_test, lr.predict(X_test)))\n",
    "cm_test=confusion_matrix(y_test, lr.predict(X_test))\n",
    "class_label = [\"negative\", \"positive\"]\n",
    "df_cm = pd.DataFrame(cm_test, index=class_label, columns=class_label)\n",
    "sns.heatmap(df_cm, annot = True, fmt = \"d\")\n",
    "plt.title(\"Confusion Matrix\")\n",
    "plt.xlabel(\"Predicted Label\")\n",
    "plt.ylabel(\"True Label\")\n",
    "plt.show()"
   ]
  },
  {
   "cell_type": "markdown",
   "metadata": {},
   "source": [
    "#### Observation:\n",
    "* by using gridSearchCV got an optimal C =0.01, and acc 0.90% with L1 reg."
   ]
  },
  {
   "cell_type": "markdown",
   "metadata": {
    "colab_type": "text",
    "id": "5h4NhywcLPo7"
   },
   "source": [
    "#### [5.1.1.1] Calculating sparsity on weight vector obtained using L1 regularization on BOW,<font color='red'> SET 1</font>"
   ]
  },
  {
   "cell_type": "code",
   "execution_count": 31,
   "metadata": {
    "colab": {},
    "colab_type": "code",
    "id": "-mmdLzUALPo-"
   },
   "outputs": [
    {
     "name": "stdout",
     "output_type": "stream",
     "text": [
      "No Of Non Zero Elemnts in Weight Vector  1031\n"
     ]
    }
   ],
   "source": [
    "# Please write all the code with proper documentation\n",
    "lr=LogisticRegression(penalty='l1', C=optimal_C)\n",
    "lr.fit(X_train_vec_standardized, Y_train)\n",
    "weight=lr.coef_\n",
    "print('No Of Non Zero Elemnts in Weight Vector ', np.count_nonzero(weight))"
   ]
  },
  {
   "cell_type": "markdown",
   "metadata": {
    "colab_type": "text",
    "id": "aRHMa52qLPpA"
   },
   "source": [
    "### [5.1.2] Applying Logistic Regression with L2 regularization on BOW,<font color='red'> SET 1</font>"
   ]
  },
  {
   "cell_type": "code",
   "execution_count": 35,
   "metadata": {},
   "outputs": [
    {
     "name": "stdout",
     "output_type": "stream",
     "text": [
      "Train Confusion Matrix\n",
      "[[ 6299   648]\n",
      " [   78 35983]]\n",
      "Test Confusion Matrix\n",
      "[[ 2432  1796]\n",
      " [  622 21482]]\n"
     ]
    },
    {
     "data": {
      "image/png": "[encoded data removed]",
      "text/plain": [
       "<Figure size 432x288 with 2 Axes>"
      ]
     },
     "metadata": {
      "needs_background": "light"
     },
     "output_type": "display_data"
    }
   ],
   "source": [
    "#Confusion Matrix\n",
    "print(\"Train Confusion Matrix\")\n",
    "print(confusion_matrix(y_train, lr.predict(X_train)))\n",
    "print(\"Test Confusion Matrix\")\n",
    "print(confusion_matrix(y_test, lr.predict(X_test)))\n",
    "cm_test=confusion_matrix(y_test, lr.predict(X_test))\n",
    "class_label = [\"negative\", \"positive\"]\n",
    "df_cm = pd.DataFrame(cm_test, index=class_label, columns=class_label)\n",
    "sns.heatmap(df_cm, annot = True, fmt = \"d\")\n",
    "plt.title(\"Confusion Matrix\")\n",
    "plt.xlabel(\"Predicted Label\")\n",
    "plt.ylabel(\"True Label\")\n",
    "plt.show()"
   ]
  },
  {
   "cell_type": "markdown",
   "metadata": {
    "colab_type": "text",
    "id": "UaJkugTKLPpE"
   },
   "source": [
    "#### [5.1.2.1] Performing pertubation test (multicollinearity check) on BOW,<font color='red'> SET 1</font>"
   ]
  },
  {
   "cell_type": "code",
   "execution_count": 32,
   "metadata": {},
   "outputs": [
    {
     "data": {
      "text/plain": [
       "(61441, 3062)"
      ]
     },
     "execution_count": 32,
     "metadata": {},
     "output_type": "execute_result"
    }
   ],
   "source": [
    "# Please write all the code with proper documentation\n",
    "#for checking multicollinearity we add e(small value) to train vector\n",
    "W_before=lr.coef_\n",
    "\n",
    "X_e=X_train_vec_standardized\n",
    "\n",
    "X_e.data=X_e.data+np.random.normal(loc=0,scale=0.0001,size=X_e.data.shape)\n",
    "\n",
    "X_e.shape\n"
   ]
  },
  {
   "cell_type": "code",
   "execution_count": 56,
   "metadata": {},
   "outputs": [
    {
     "name": "stdout",
     "output_type": "stream",
     "text": [
      "w: [[-0.02975546  0.04099509  0.03738226 ...,  0.00627243  0.01757338\n",
      "   0.03032131]]\n",
      "w_1:  [[-0.02975719  0.04098736  0.03736588 ...,  0.00627341  0.01757719\n",
      "   0.03031503]]\n",
      "per_array:  [[ 0.00581971  0.01884653  0.04381662 ...,  0.01561277  0.0216365\n",
      "   0.02070938]]\n"
     ]
    }
   ],
   "source": [
    "#pertubation Testing\n",
    "index = []\n",
    "\n",
    "lr_e=LogisticRegression(penalty='l2',C=optimal_C)\n",
    "lr_e.fit(X_train_vec_standardized, Y_train)\n",
    "w=lr_e.coef_+0.0000001\n",
    "#print(np.shape(w))\n",
    "print(\"w:\", w)\n",
    "\n",
    "\n",
    "X_train_vec_standardized.data += 0.001\n",
    "lr_e.fit(X_train_vec_standardized, Y_train)\n",
    "w_1=lr_e.coef_+0.0000001\n",
    "#print(np.shape(w_1))\n",
    "print(\"w_1: \",w_1)\n",
    "\n",
    "per_array = np.abs((w-w_1)/w)*100\n",
    "print(\"per_array: \", per_array)"
   ]
  },
  {
   "cell_type": "code",
   "execution_count": 57,
   "metadata": {},
   "outputs": [
    {
     "name": "stdout",
     "output_type": "stream",
     "text": [
      "Weights =  2.49854481583e-06\n",
      "Weights =  0.0016822818262\n",
      "Weights =  0.00350169041836\n",
      "Weights =  0.0054459530875\n",
      "Weights =  0.00769668690259\n",
      "Weights =  0.0100830093865\n",
      "Weights =  0.0132947518548\n",
      "Weights =  0.0178449876066\n",
      "Weights =  0.0257688076656\n",
      "Weights =  0.0501968397804\n",
      "Weights =  55.6837437173\n",
      "****************************\n"
     ]
    }
   ],
   "source": [
    "#percentiles from 1-100\n",
    "for i in range(0,101,10):\n",
    "    Weights = np.percentile(per_array, i)\n",
    "    print(\"Weights = \",Weights)\n",
    "print(\"****************************\")"
   ]
  },
  {
   "cell_type": "code",
   "execution_count": 58,
   "metadata": {},
   "outputs": [
    {
     "name": "stdout",
     "output_type": "stream",
     "text": [
      "Weights =  0.0501968397804\n",
      "Weights =  0.0556375299185\n",
      "Weights =  0.0610158609471\n",
      "Weights =  0.0693254871758\n",
      "Weights =  0.0790409625672\n",
      "Weights =  0.0926780557252\n",
      "Weights =  0.117249825133\n",
      "Weights =  0.154445411186\n",
      "Weights =  0.25679105328\n",
      "Weights =  0.532962801379\n",
      "Weights =  55.6837437173\n",
      "****************************\n"
     ]
    }
   ],
   "source": [
    "#percentiles from 90-100Th\n",
    "for i in range(90,101,1):\n",
    "    Weights = np.percentile(per_array, i)\n",
    "    print(\"Weights = \",Weights)\n",
    "print(\"****************************\")"
   ]
  },
  {
   "cell_type": "code",
   "execution_count": 59,
   "metadata": {},
   "outputs": [
    {
     "name": "stdout",
     "output_type": "stream",
     "text": [
      "Weights =  0.532962801379\n",
      "Weights =  0.660240928126\n",
      "Weights =  0.733182792491\n",
      "Weights =  0.906341752234\n",
      "Weights =  1.01110574299\n",
      "Weights =  1.07776647874\n",
      "Weights =  1.4007976728\n",
      "Weights =  1.82994144596\n",
      "Weights =  2.16856991718\n",
      "Weights =  4.97492363128\n",
      "Weights =  55.6837437172\n",
      "**********************************\n"
     ]
    }
   ],
   "source": [
    "#Percentiles from 99-100Th\n",
    "k=99\n",
    "for i in range(1,12,1):\n",
    "    Weights_3 = np.percentile(per_array, k)\n",
    "    print(\"Weights = \", Weights_3)\n",
    "    k+=0.1\n",
    "print(\"**********************************\")"
   ]
  },
  {
   "cell_type": "code",
   "execution_count": 60,
   "metadata": {},
   "outputs": [
    {
     "name": "stdout",
     "output_type": "stream",
     "text": [
      "Weights =  1.07776647874\n",
      "Weights =  1.4007976728\n",
      "**********************************\n",
      "[1.0777664787351877, 1.4007976728045932]\n",
      "Threshold vlaue =  0.323031194069\n"
     ]
    }
   ],
   "source": [
    "#percentiles from 99.5Th - 99.6Th percentile\n",
    "Weight_chng = []\n",
    "#Weight_chng = np.asarray(Weights_4)\n",
    "k=99.5\n",
    "for i in range(1,3):\n",
    "    Weights_3 = np.percentile(per_array, k)\n",
    "    print(\"Weights = \", Weights_3)\n",
    "    Weight_chng.append(Weights_3)\n",
    "    k+=0.1\n",
    "print(\"**********************************\")\n",
    "\n",
    "print(Weight_chng)\n",
    "#Threshold value for Weight Change\n",
    "thrsh = np.abs(Weight_chng[0] - Weight_chng[1])\n",
    "print(\"Threshold vlaue = \", thrsh)"
   ]
  },
  {
   "cell_type": "code",
   "execution_count": 62,
   "metadata": {},
   "outputs": [
    {
     "name": "stdout",
     "output_type": "stream",
     "text": [
      "Threshold for abrupt changes =  0.323031194069\n",
      "Number of Features with abrupt changes =  48\n",
      "\n",
      "\n",
      "Feature Names:  bee\n",
      "Feature Names:  bet\n",
      "Feature Names:  burst\n",
      "Feature Names:  charg\n",
      "Feature Names:  coupon\n",
      "Feature Names:  crack\n",
      "Feature Names:  crumb\n",
      "Feature Names:  crystal\n",
      "Feature Names:  decreas\n",
      "Feature Names:  emeril\n",
      "Feature Names:  experienc\n",
      "Feature Names:  fog\n",
      "Feature Names:  gatorad\n",
      "Feature Names:  grandmoth\n",
      "Feature Names:  grapefruit\n",
      "Feature Names:  happili\n",
      "Feature Names:  hickori\n",
      "Feature Names:  identifi\n",
      "Feature Names:  kidney\n",
      "Feature Names:  latt\n",
      "Feature Names:  listen\n",
      "Feature Names:  mate\n",
      "Feature Names:  men\n",
      "Feature Names:  model\n",
      "Feature Names:  nutti\n",
      "Feature Names:  obvious\n",
      "Feature Names:  oven\n",
      "Feature Names:  pancak\n",
      "Feature Names:  paper\n",
      "Feature Names:  paw\n",
      "Feature Names:  peopl\n",
      "Feature Names:  pesticid\n",
      "Feature Names:  poodl\n",
      "Feature Names:  poop\n",
      "Feature Names:  pound\n",
      "Feature Names:  practic\n",
      "Feature Names:  prep\n",
      "Feature Names:  profil\n",
      "Feature Names:  releas\n",
      "Feature Names:  resolv\n",
      "Feature Names:  saute\n",
      "Feature Names:  skinni\n",
      "Feature Names:  sport\n",
      "Feature Names:  stink\n",
      "Feature Names:  stop\n",
      "Feature Names:  sumatra\n",
      "Feature Names:  whatev\n",
      "Feature Names:  will\n"
     ]
    }
   ],
   "source": [
    "Weight_chng_3 = []\n",
    "shape2 = np.shape(X_train_vec_standardized)\n",
    "\n",
    "for shape1 in range(0,shape2[1]):\n",
    "    Weight_chng_3[0:shape1] = np.abs((w-w_1)/w)*100\n",
    "Weight_chng_2 = np.asarray(Weight_chng_3)\n",
    "\n",
    "shape4 = 0\n",
    "index2 = []\n",
    "for shape3 in range(0,loop2[1]):\n",
    "    if (Weight_chng_2[0,shape3] >= thrsh):\n",
    "        index2.append(shape3)\n",
    "        shape4 +=1\n",
    "\n",
    "len = len(index2)\n",
    "print(\"Threshold for abrupt changes = \",thrsh)\n",
    "print(\"Number of Features with abrupt changes = \", len)\n",
    "print(\"\\n\")\n",
    "\n",
    "\n",
    "feature_names = count_vect.get_feature_names()\n",
    "\n",
    "for k in index2:\n",
    "     print(\"Feature Names: \",feature_names[k])"
   ]
  },
  {
   "cell_type": "code",
   "execution_count": 38,
   "metadata": {},
   "outputs": [
    {
     "name": "stdout",
     "output_type": "stream",
     "text": [
      "(61442, 3078)\n",
      "(61442, 3078)\n"
     ]
    }
   ],
   "source": [
    "import scipy as sp\n",
    "# Please write all the code with proper documentation\n",
    "import scipy as sp\n",
    "epsilon = sp.stats.distributions.norm.rvs(loc=0,scale=0.0001)\n",
    "# vector before adding epsilon\n",
    "W_before_epsilon = lr.coef_\n",
    "# Number of Non Zero elements in X_train_vec_standardized sparse matrix\n",
    "no_of_non_zero = X_train_vec_standardized.count_nonzero()\n",
    "\n",
    "# Creating a sparse matrix with epsilon at same position of non_Zero elements\n",
    "indices_X_train = X_train_vec_standardized.indices\n",
    "indptr_X_train = X_train_vec_standardized.indptr\n",
    "\n",
    "# Creating a list of same element with repetition\n",
    "data = [epsilon] * no_of_non_zero\n",
    "Shape = X_train_vec_standardized.shape\n",
    "\n",
    "# Creating sparse matrix\n",
    "sparse_epsilon = csr_matrix((data,indices_X_train, indptr_X_train), shape=Shape, dtype=float)\n",
    "\n",
    "epsilon_train = X_train_vec_standardized + sparse_epsilon\n",
    "print(X_train_vec_standardized.shape)\n",
    "print(epsilon_train.shape)"
   ]
  },
  {
   "cell_type": "code",
   "execution_count": 39,
   "metadata": {},
   "outputs": [
    {
     "data": {
      "text/plain": [
       "array([ 0.13450272,  0.13154493,  0.12390775,  0.11731354,  0.11485199,\n",
       "        0.11239411,  0.11171689,  0.11102989,  0.10877253,  0.10570151,\n",
       "        0.10567194,  0.10351236,  0.09708462,  0.09667862,  0.09659171,\n",
       "        0.09590809,  0.09521123,  0.09396155,  0.09343149,  0.09335225])"
      ]
     },
     "execution_count": 39,
     "metadata": {},
     "output_type": "execute_result"
    }
   ],
   "source": [
    "#Non zero elemnt of X_train_vec_standardized\n",
    "epsilon_lr = LogisticRegression(penalty='l1', C=optimal_C, n_jobs=-1)\n",
    "epsilon_lr.fit(epsilon_train, Y_train) \n",
    "\n",
    "#Vector afer adding epsilon\n",
    "W_after_epsilon = epsilon_lr.coef_\n",
    "\n",
    "#change in vector after adding epsilon\n",
    "change_vector = W_after_epsilon - W_before_epsilon\n",
    "#Sorting change vector\n",
    "sorted_change_vector = np.sort(np.absolute(change_vector))[:,::-1]\n",
    "sorted_change_vector[0,0:20]"
   ]
  },
  {
   "cell_type": "code",
   "execution_count": 40,
   "metadata": {
    "colab": {},
    "colab_type": "code",
    "id": "E1c5B1nELPpF"
   },
   "outputs": [
    {
     "data": {
      "text/plain": [
       "array([ 0.13420878,  0.13153479,  0.12392962,  0.11765418,  0.11480781,\n",
       "        0.112701  ,  0.11243428,  0.11158073,  0.10873497,  0.10567194,\n",
       "        0.10565091,  0.10338652,  0.0971176 ,  0.09665154,  0.0965999 ,\n",
       "        0.0956097 ,  0.09521123,  0.09396155,  0.09367484,  0.09341864])"
      ]
     },
     "execution_count": 40,
     "metadata": {},
     "output_type": "execute_result"
    }
   ],
   "source": [
    "# Please write all the code with proper documentation\n",
    "import scipy as sp\n",
    "epsilon = sp.stats.distributions.norm.rvs(loc=0,scale=0.0001)\n",
    "# vector before adding epsilon\n",
    "W_before_epsilon = lr.coef_\n",
    "# Number of Non Zero elements in X_train_vec_standardized sparse matrix\n",
    "no_of_non_zero = X_train_vec_standardized.count_nonzero()\n",
    "\n",
    "# Creating a sparse matrix with epsilon at same position of non_Zero elements\n",
    "indices_X_train = X_train_vec_standardized.indices\n",
    "indptr_X_train = X_train_vec_standardized.indptr\n",
    "\n",
    "# Creating a list of same element with repetition\n",
    "data = [epsilon] * no_of_non_zero\n",
    "Shape = X_train_vec_standardized.shape\n",
    "\n",
    "# Creating sparse matrix\n",
    "sparse_epsilon = csr_matrix((data,indices_X_train, indptr_X_train), shape=Shape, dtype=float)\n",
    "\n",
    "#Non zero elemnt of X_train_vec_standardized\n",
    "epsilon_lr = LogisticRegression(penalty='l1', C=optimal_C, n_jobs=-1)\n",
    "epsilon_lr.fit(epsilon_train, Y_train) \n",
    "\n",
    "#Vector afer adding epsilon\n",
    "W_after_epsilon = epsilon_lr.coef_\n",
    "\n",
    "#change in vector after adding epsilon\n",
    "change_vector = W_after_epsilon - W_before_epsilon\n",
    "#Sorting change vector\n",
    "sorted_change_vector = np.sort(np.absolute(change_vector))[:,::-1]\n",
    "sorted_change_vector[0,0:20]"
   ]
  },
  {
   "cell_type": "code",
   "execution_count": 63,
   "metadata": {},
   "outputs": [
    {
     "name": "stdout",
     "output_type": "stream",
     "text": [
      "w: [[-0.02975719  0.04098736  0.03736588 ...,  0.00627341  0.01757719\n",
      "   0.03031503]]\n",
      "w_1:  [[-0.02975676  0.04098236  0.03735152 ...,  0.00627255  0.01757697\n",
      "   0.03031062]]\n",
      "per_array:  [[ 0.00146536  0.01220798  0.03841405 ...,  0.01365456  0.00122914\n",
      "   0.01456121]]\n"
     ]
    }
   ],
   "source": [
    "#pertubation Testing\n",
    "index = []\n",
    "\n",
    "lr_e=LogisticRegression(penalty='l2',C=optimal_C)\n",
    "lr_e.fit(X_train_vec_standardized, Y_train)\n",
    "w=lr_e.coef_+0.0000001\n",
    "#print(np.shape(w))\n",
    "print(\"w:\", w)\n",
    "\n",
    "\n",
    "X_train_vec_standardized.data += 0.001\n",
    "lr_e.fit(X_train_vec_standardized, Y_train)\n",
    "w_1=lr_e.coef_+0.0000001\n",
    "#print(np.shape(w_1))\n",
    "print(\"w_1: \",w_1)\n",
    "\n",
    "per_array = np.abs((w-w_1)/w)*100\n",
    "print(\"per_array: \", per_array)"
   ]
  },
  {
   "cell_type": "code",
   "execution_count": 64,
   "metadata": {},
   "outputs": [
    {
     "name": "stdout",
     "output_type": "stream",
     "text": [
      "Weights =  5.71247656397e-07\n",
      "Weights =  0.00164384208305\n",
      "Weights =  0.00323038264898\n",
      "Weights =  0.00494675008049\n",
      "Weights =  0.00686903467548\n",
      "Weights =  0.00905847456858\n",
      "Weights =  0.0120019167326\n",
      "Weights =  0.0160532097449\n",
      "Weights =  0.0234603075591\n",
      "Weights =  0.0456391414067\n",
      "Weights =  89.4730233\n",
      "****************************\n"
     ]
    }
   ],
   "source": [
    "#percentiles from 1-100\n",
    "for i in range(0,101,10):\n",
    "    Weights = np.percentile(per_array, i)\n",
    "    print(\"Weights = \",Weights)\n",
    "print(\"****************************\")"
   ]
  },
  {
   "cell_type": "code",
   "execution_count": 65,
   "metadata": {},
   "outputs": [
    {
     "name": "stdout",
     "output_type": "stream",
     "text": [
      "Weights =  0.474036152153\n",
      "Weights =  0.578500038032\n",
      "Weights =  0.702935838938\n",
      "Weights =  0.814347369064\n",
      "Weights =  0.903474729837\n",
      "Weights =  0.978064352562\n",
      "Weights =  1.10600945386\n",
      "Weights =  1.6473614266\n",
      "Weights =  2.16856228785\n",
      "Weights =  4.65761078088\n",
      "Weights =  89.4730232999\n",
      "**********************************\n"
     ]
    }
   ],
   "source": [
    "#Percentiles from 99-100Th\n",
    "k=99\n",
    "for i in range(1,12,1):\n",
    "    Weights_3 = np.percentile(per_array, k)\n",
    "    print(\"Weights = \", Weights_3)\n",
    "    k+=0.1\n",
    "print(\"**********************************\")"
   ]
  },
  {
   "cell_type": "code",
   "execution_count": 66,
   "metadata": {},
   "outputs": [
    {
     "name": "stdout",
     "output_type": "stream",
     "text": [
      "Weights =  0.474036152153\n",
      "Weights =  0.578500038032\n",
      "Weights =  0.702935838938\n",
      "Weights =  0.814347369064\n",
      "Weights =  0.903474729837\n",
      "Weights =  0.978064352562\n",
      "Weights =  1.10600945386\n",
      "Weights =  1.6473614266\n",
      "Weights =  2.16856228785\n",
      "Weights =  4.65761078088\n",
      "Weights =  89.4730232999\n",
      "**********************************\n"
     ]
    }
   ],
   "source": [
    "#Percentiles from 99-100Th\n",
    "k=99\n",
    "for i in range(1,12,1):\n",
    "    Weights_3 = np.percentile(per_array, k)\n",
    "    print(\"Weights = \", Weights_3)\n",
    "    k+=0.1\n",
    "print(\"**********************************\")"
   ]
  },
  {
   "cell_type": "code",
   "execution_count": 67,
   "metadata": {},
   "outputs": [
    {
     "name": "stdout",
     "output_type": "stream",
     "text": [
      "Weights =  0.978064352562\n",
      "Weights =  1.10600945386\n",
      "**********************************\n",
      "[0.97806435256221813, 1.1060094538609915]\n",
      "Threshold vlaue =  0.127945101299\n"
     ]
    }
   ],
   "source": [
    "#percentiles from 99.5Th - 99.6Th percentile\n",
    "Weight_chng = []\n",
    "#Weight_chng = np.asarray(Weights_4)\n",
    "k=99.5\n",
    "for i in range(1,3):\n",
    "    Weights_3 = np.percentile(per_array, k)\n",
    "    print(\"Weights = \", Weights_3)\n",
    "    Weight_chng.append(Weights_3)\n",
    "    k+=0.1\n",
    "print(\"**********************************\")\n",
    "\n",
    "print(Weight_chng)\n",
    "#Threshold value for Weight Change\n",
    "thrsh = np.abs(Weight_chng[0] - Weight_chng[1])\n",
    "print(\"Threshold vlaue = \", thrsh)"
   ]
  },
  {
   "cell_type": "markdown",
   "metadata": {},
   "source": [
    "#### Observation:\n",
    "* From the above we can observe that there is not much larger change in weight vector, we will use absolute weights."
   ]
  },
  {
   "cell_type": "markdown",
   "metadata": {
    "colab_type": "text",
    "id": "eB1rF0BQLPpG"
   },
   "source": [
    "### [5.1.3] Feature Importance on BOW,<font color='red'> SET 1</font>"
   ]
  },
  {
   "cell_type": "markdown",
   "metadata": {
    "colab_type": "text",
    "id": "JZTP19dqLPpI"
   },
   "source": [
    "#### [5.1.3.1] Top 10 important features of positive class from<font color='red'> SET 1</font>"
   ]
  },
  {
   "cell_type": "code",
   "execution_count": 51,
   "metadata": {
    "colab": {},
    "colab_type": "code",
    "id": "oGRpCVJgLPpI"
   },
   "outputs": [
    {
     "name": "stdout",
     "output_type": "stream",
     "text": [
      "Top 20 features with their weight values :\n",
      "       great\t--> \t0.602631\n",
      "      delici\t--> \t0.430158\n",
      "        love\t--> \t0.422798\n",
      "        best\t--> \t0.405783\n",
      "     perfect\t--> \t0.346112\n",
      "        good\t--> \t0.324673\n",
      "  disappoint\t--> \t-0.289177\n",
      "       excel\t--> \t0.276820\n",
      "        nice\t--> \t0.241686\n",
      "        amaz\t--> \t0.221926\n",
      "     favorit\t--> \t0.207769\n",
      "        easi\t--> \t0.192811\n",
      "       worst\t--> \t-0.189971\n",
      "      wonder\t--> \t0.173182\n",
      "      awesom\t--> \t0.171268\n",
      "       tasti\t--> \t0.169369\n",
      "       thank\t--> \t0.164313\n",
      "         bad\t--> \t-0.162687\n",
      "     terribl\t--> \t-0.159284\n",
      "     satisfi\t--> \t0.156309\n"
     ]
    }
   ],
   "source": [
    "absolute_weights = np.absolute(W_before_epsilon)\n",
    "sorted_absolute_index = np.argsort(absolute_weights)[:,::-1]\n",
    "top_index = sorted_absolute_index[0,0:20]\n",
    "\n",
    "all_features = count_vect.get_feature_names()\n",
    "weight_values = lr.coef_\n",
    "\n",
    "# Top 20 features are    \n",
    "print(\"Top 20 features with their weight values :\")\n",
    "\n",
    "for j in top_index:\n",
    "    print(\"%12s\\t--> \\t%f\"%(all_features[j],weight_values[0,j]))"
   ]
  },
  {
   "cell_type": "markdown",
   "metadata": {},
   "source": [
    "#### Randomized Search CV Implementation"
   ]
  },
  {
   "cell_type": "code",
   "execution_count": 52,
   "metadata": {},
   "outputs": [
    {
     "name": "stdout",
     "output_type": "stream",
     "text": [
      "Model with best parameters :\n",
      " LogisticRegression(C=0.22452079574161843, class_weight=None, dual=False,\n",
      "          fit_intercept=True, intercept_scaling=1, max_iter=100,\n",
      "          multi_class='ovr', n_jobs=1, penalty='l1', random_state=None,\n",
      "          solver='liblinear', tol=0.0001, verbose=0, warm_start=False)\n",
      "Accuracy of model :  0.909691629956\n",
      "The Optimal value Of C(1/lambda) is :  0.224520795742\n"
     ]
    }
   ],
   "source": [
    "from scipy.stats import uniform\n",
    "C = uniform(loc=0, scale=10)\n",
    "hyperparameters = dict(C=C)\n",
    "#Using Randomized Search\n",
    "model = RandomizedSearchCV(LogisticRegression(penalty='l1'), hyperparameters, scoring='accuracy', cv=3, n_jobs=-1, pre_dispatch=2)\n",
    "model.fit(X_train_vec_standardized, Y_train)\n",
    "print(\"Model with best parameters :\\n\", model.best_estimator_)\n",
    "print(\"Accuracy of model : \", model.score(X_test_vec_standardized, Y_test))\n",
    "\n",
    "optimal_C = model.best_estimator_.C\n",
    "print(\"The Optimal value Of C(1/lambda) is : \", optimal_C)\n",
    "\n",
    "#Testing Logistic Regression with Optimal value of C:(1/lambda)\n",
    "lr = LogisticRegression(penalty='l1', C=optimal_C, n_jobs=-1)\n",
    "lr.fit(X_train_vec_standardized, Y_train)\n",
    "predictions = lr.predict(X_test_vec_standardized)\n",
    "\n",
    "#varibles will be used at conclusion part\n",
    "bow_l2_random_C = optimal_C\n",
    "bow_l2_random_train_acc = model.score(X_test_vec_standardized, Y_test)*100\n",
    "bow_l2_random_test_acc = accuracy_score(Y_test, predictions) * 100"
   ]
  },
  {
   "cell_type": "code",
   "execution_count": 53,
   "metadata": {},
   "outputs": [
    {
     "name": "stdout",
     "output_type": "stream",
     "text": [
      "\n",
      "Test Accuracy Of Classifier C = 0.224521 is 90.969163%\n",
      "\n",
      "Test Precsion Of Classifier C = 0.224521 is 0.932874%\n",
      "\n",
      "Test recall  Of Classifier C = 0.224521 is 0.961580%\n",
      "\n",
      "Test F1-score  Of Classifier C = 0.224521 is 0.947010%\n"
     ]
    }
   ],
   "source": [
    "#Evaluate Accuracy\n",
    "acc = accuracy_score(Y_test, predictions)* 100\n",
    "print('\\nTest Accuracy Of Classifier C = %f is %f%%' % (optimal_C, acc))\n",
    "\n",
    "#Evaluate Precision\n",
    "acc = precision_score(Y_test, predictions)\n",
    "print('\\nTest Precsion Of Classifier C = %f is %f%%' % (optimal_C, acc))\n",
    "\n",
    "#Evaluate Recall\n",
    "acc = recall_score(Y_test, predictions)\n",
    "print('\\nTest recall  Of Classifier C = %f is %f%%' % (optimal_C, acc))\n",
    "\n",
    "#Evaluate F1-score\n",
    "acc = f1_score(Y_test, predictions)\n",
    "print('\\nTest F1-score  Of Classifier C = %f is %f%%' % (optimal_C, acc))"
   ]
  },
  {
   "cell_type": "code",
   "execution_count": 54,
   "metadata": {},
   "outputs": [
    {
     "name": "stdout",
     "output_type": "stream",
     "text": [
      "Train Confusion Matrix\n",
      "[[ 7116  2831]\n",
      " [ 1201 50293]]\n",
      "Test Confusion Matrix\n",
      "[[ 2705  1529]\n",
      " [  849 21249]]\n"
     ]
    },
    {
     "data": {
      "image/png": "[encoded data removed]",
      "text/plain": [
       "<Figure size 432x288 with 2 Axes>"
      ]
     },
     "metadata": {
      "needs_background": "light"
     },
     "output_type": "display_data"
    }
   ],
   "source": [
    "#Confusion Matrix\n",
    "print(\"Train Confusion Matrix\")\n",
    "print(confusion_matrix(Y_train, lr.predict(X_train_vec_standardized)))\n",
    "print(\"Test Confusion Matrix\")\n",
    "print(confusion_matrix(Y_test, lr.predict(X_test_vec_standardized)))\n",
    "cm_test=confusion_matrix(Y_test, lr.predict(X_test_vec_standardized))\n",
    "class_label = [\"negative\", \"positive\"]\n",
    "df_cm = pd.DataFrame(cm_test, index=class_label, columns=class_label)\n",
    "sns.heatmap(df_cm, annot = True, fmt = \"d\")\n",
    "plt.title(\"Confusion Matrix\")\n",
    "plt.xlabel(\"Predicted Label\")\n",
    "plt.ylabel(\"True Label\")\n",
    "plt.show()"
   ]
  },
  {
   "cell_type": "markdown",
   "metadata": {},
   "source": [
    "#### More Sparsity(Few elements are non zero)  by incresing lambda(decreasing C)"
   ]
  },
  {
   "cell_type": "code",
   "execution_count": 55,
   "metadata": {},
   "outputs": [
    {
     "name": "stdout",
     "output_type": "stream",
     "text": [
      "3010\n"
     ]
    }
   ],
   "source": [
    "#with lambda=1\n",
    "clf = LogisticRegression(C=1, penalty='l1', n_jobs=-1)\n",
    "clf.fit(X_train_vec_standardized, Y_train)\n",
    "w = clf.coef_\n",
    "print(np.count_nonzero(w))"
   ]
  },
  {
   "cell_type": "code",
   "execution_count": 56,
   "metadata": {},
   "outputs": [
    {
     "name": "stdout",
     "output_type": "stream",
     "text": [
      "2699\n"
     ]
    }
   ],
   "source": [
    "#with lambda=10\n",
    "clf = LogisticRegression(C=0.1, penalty='l1', n_jobs=-1)\n",
    "clf.fit(X_train_vec_standardized, Y_train)\n",
    "w = clf.coef_\n",
    "print(np.count_nonzero(w)) "
   ]
  },
  {
   "cell_type": "code",
   "execution_count": 57,
   "metadata": {},
   "outputs": [
    {
     "name": "stdout",
     "output_type": "stream",
     "text": [
      "1031\n"
     ]
    }
   ],
   "source": [
    "#with lambda=100\n",
    "clf = LogisticRegression(C=0.01, penalty='l1', n_jobs=-1)\n",
    "clf.fit(X_train_vec_standardized, Y_train)\n",
    "w = clf.coef_\n",
    "print(np.count_nonzero(w))"
   ]
  },
  {
   "cell_type": "code",
   "execution_count": 58,
   "metadata": {},
   "outputs": [
    {
     "name": "stdout",
     "output_type": "stream",
     "text": [
      "66\n"
     ]
    }
   ],
   "source": [
    "#with lambda=1000\n",
    "clf = LogisticRegression(C=0.001, penalty='l1', n_jobs=-1)\n",
    "clf.fit(X_train_vec_standardized, Y_train)\n",
    "w = clf.coef_\n",
    "print(np.count_nonzero(w))"
   ]
  },
  {
   "cell_type": "markdown",
   "metadata": {},
   "source": [
    "#### MutltiCollinearity (Pertubation Test)"
   ]
  },
  {
   "cell_type": "code",
   "execution_count": 59,
   "metadata": {},
   "outputs": [
    {
     "data": {
      "text/plain": [
       "array([ 0.00429631,  0.00392582,  0.00047938,  0.00019744,  0.0001754 ,\n",
       "        0.00016882,  0.00016799,  0.00015374,  0.00014694,  0.00013831,\n",
       "        0.0001379 ,  0.00013475,  0.00013139,  0.00013048,  0.00012975,\n",
       "        0.00012149,  0.00012132,  0.00012111,  0.00011848,  0.00011456])"
      ]
     },
     "execution_count": 59,
     "metadata": {},
     "output_type": "execute_result"
    }
   ],
   "source": [
    "# Please write all the code with proper documentation\n",
    "import scipy as sp\n",
    "epsilon = sp.stats.distributions.norm.rvs(loc=0,scale=0.0001)\n",
    "# vector before adding epsilon\n",
    "W_before_epsilon = lr.coef_\n",
    "# Number of Non Zero elements in X_train_vec_standardized sparse matrix\n",
    "no_of_non_zero = X_train_vec_standardized.count_nonzero()\n",
    "\n",
    "# Creating a sparse matrix with epsilon at same position of non_Zero elements\n",
    "indices_X_train = X_train_vec_standardized.indices\n",
    "indptr_X_train = X_train_vec_standardized.indptr\n",
    "\n",
    "# Creating a list of same element with repetition\n",
    "data = [epsilon] * no_of_non_zero\n",
    "Shape = X_train_vec_standardized.shape\n",
    "\n",
    "# Creating sparse matrix\n",
    "sparse_epsilon = csr_matrix((data,indices_X_train, indptr_X_train), shape=Shape, dtype=float)\n",
    "\n",
    "#Non zero elemnt of X_train_vec_standardized\n",
    "epsilon_lr = LogisticRegression(penalty='l1', C=optimal_C, n_jobs=-1)\n",
    "epsilon_lr.fit(epsilon_train, Y_train) \n",
    "\n",
    "#Vector afer adding epsilon\n",
    "W_after_epsilon = epsilon_lr.coef_\n",
    "\n",
    "#change in vector after adding epsilon\n",
    "change_vector = W_after_epsilon - W_before_epsilon\n",
    "#Sorting change vector\n",
    "sorted_change_vector = np.sort(np.absolute(change_vector))[:,::-1]\n",
    "sorted_change_vector[0,0:20]"
   ]
  },
  {
   "cell_type": "code",
   "execution_count": 45,
   "metadata": {},
   "outputs": [
    {
     "name": "stdout",
     "output_type": "stream",
     "text": [
      "0th percentile =-0.134208782239\n",
      "10th percentile =-0.0445551146272\n",
      "20th percentile =-0.0312453247959\n",
      "30th percentile =-0.0206166743511\n",
      "40th percentile =-0.0115368187643\n",
      "50th percentile =-0.00278100693226\n",
      "60th percentile =0.00628714887105\n",
      "70th percentile =0.0149145101961\n",
      "80th percentile =0.023935573124\n",
      "90th percentile =0.0336618013167\n",
      "100th percentile =0.112700997083\n"
     ]
    }
   ],
   "source": [
    "#Calculating percentiles from 0 to 100\n",
    "import numpy as np\n",
    "for i in range(11):\n",
    "    print(str(i*10)+'th percentile ='+str(np.percentile(change_vector, i*10)))"
   ]
  },
  {
   "cell_type": "code",
   "execution_count": 46,
   "metadata": {},
   "outputs": [
    {
     "name": "stdout",
     "output_type": "stream",
     "text": [
      "90th percentile =0.0336618013167\n",
      "91th percentile =0.0351115583252\n",
      "92th percentile =0.0366983395161\n",
      "93th percentile =0.0382681684566\n",
      "94th percentile =0.039614373147\n",
      "95th percentile =0.0411112830356\n",
      "96th percentile =0.0437766415077\n",
      "97th percentile =0.0463839662837\n",
      "98th percentile =0.0516674161117\n",
      "99th percentile =0.0598006600492\n",
      "100th percentile =0.112700997083\n"
     ]
    }
   ],
   "source": [
    "#calculating percentile from 90-100\n",
    "for i in range(90,101):\n",
    "     print(str(i)+'th percentile ='+str(np.percentile(change_vector, i)))"
   ]
  },
  {
   "cell_type": "markdown",
   "metadata": {
    "colab_type": "text",
    "id": "UJLYBE1gLPpJ"
   },
   "source": [
    "#### [5.1.3.2] Top 10 important features of negative class from<font color='red'> SET 1</font>"
   ]
  },
  {
   "cell_type": "code",
   "execution_count": 60,
   "metadata": {
    "colab": {},
    "colab_type": "code",
    "id": "c9r7Zjx1LPpK"
   },
   "outputs": [
    {
     "name": "stdout",
     "output_type": "stream",
     "text": [
      "Top 20 features with their weight values :\n",
      "       great\t--> \t0.784759\n",
      "      delici\t--> \t0.614574\n",
      "        best\t--> \t0.585413\n",
      "        love\t--> \t0.546146\n",
      "     perfect\t--> \t0.494566\n",
      "        good\t--> \t0.479625\n",
      "       excel\t--> \t0.421833\n",
      "  disappoint\t--> \t-0.378094\n",
      "        amaz\t--> \t0.375767\n",
      "      flaxse\t--> \t0.358607\n",
      "        nice\t--> \t0.358496\n",
      "      awesom\t--> \t0.303590\n",
      "        easi\t--> \t0.303014\n",
      "     favorit\t--> \t0.289831\n",
      "       worst\t--> \t-0.283404\n",
      "      wonder\t--> \t0.276835\n",
      "     satisfi\t--> \t0.253566\n",
      "        hook\t--> \t0.252618\n",
      "       tasti\t--> \t0.246201\n",
      "       thank\t--> \t0.243505\n"
     ]
    }
   ],
   "source": [
    "absolute_weights = np.absolute(W_before_epsilon)\n",
    "sorted_absolute_index = np.argsort(absolute_weights)[:,::-1]\n",
    "top_index = sorted_absolute_index[0,0:20]\n",
    "\n",
    "all_features = count_vect.get_feature_names()\n",
    "weight_values = lr.coef_\n",
    "\n",
    "# Top 20 features are    \n",
    "print(\"Top 20 features with their weight values :\")\n",
    "\n",
    "for j in top_index:\n",
    "    print(\"%12s\\t--> \\t%f\"%(all_features[j],weight_values[0,j]))"
   ]
  },
  {
   "cell_type": "markdown",
   "metadata": {},
   "source": [
    "#### Observation:\n",
    "* By using RandomSearchCV L1 reg, got 0.91% AUC, considering absloute weights we can take top features."
   ]
  },
  {
   "cell_type": "markdown",
   "metadata": {
    "colab_type": "text",
    "id": "nKn3VXcZLPpN"
   },
   "source": [
    "## [5.2] Logistic Regression on TFIDF,<font color='red'> SET 2</font>"
   ]
  },
  {
   "cell_type": "markdown",
   "metadata": {
    "colab_type": "text",
    "id": "naTBSzm6LPpN"
   },
   "source": [
    "### [5.2.1] Applying Logistic Regression with L1 regularization on TFIDF,<font color='red'> SET 2</font>"
   ]
  },
  {
   "cell_type": "markdown",
   "metadata": {},
   "source": [
    "#### L2 Reguralization"
   ]
  },
  {
   "cell_type": "code",
   "execution_count": 61,
   "metadata": {},
   "outputs": [
    {
     "name": "stdout",
     "output_type": "stream",
     "text": [
      "the type of count vectorizer  <class 'scipy.sparse.csr.csr_matrix'>\n",
      "the shape of out text TFIDF vectorizer  (61441, 3062)\n",
      "the number of unique words  3062\n"
     ]
    }
   ],
   "source": [
    "tf_idf_vect = TfidfVectorizer(min_df=50)\n",
    "X_train_vec = tf_idf_vect.fit_transform(X_train)\n",
    "X_test_vec = tf_idf_vect.transform(X_test)\n",
    "print(\"the type of count vectorizer \",type(X_train_vec))\n",
    "print(\"the shape of out text TFIDF vectorizer \",X_train_vec.get_shape())\n",
    "print(\"the number of unique words \", X_train_vec.get_shape()[1])\n",
    "\n",
    "#Standardizing\n",
    "sc = StandardScaler(with_mean=False)\n",
    "X_train_vec_standardized = sc.fit_transform(X_train_vec)\n",
    "X_test_vec_standardized = sc.transform(X_test_vec)"
   ]
  },
  {
   "cell_type": "markdown",
   "metadata": {},
   "source": [
    "#### GridSearchCV Implementation Using L2 reg"
   ]
  },
  {
   "cell_type": "code",
   "execution_count": 62,
   "metadata": {},
   "outputs": [
    {
     "name": "stdout",
     "output_type": "stream",
     "text": [
      "Model with best parameters :\n",
      " LogisticRegression(C=0.01, class_weight=None, dual=False, fit_intercept=True,\n",
      "          intercept_scaling=1, max_iter=100, multi_class='ovr', n_jobs=1,\n",
      "          penalty='l2', random_state=None, solver='liblinear', tol=0.0001,\n",
      "          verbose=0, warm_start=False)\n",
      "Accuracy of model :  0.913109524533\n",
      "The Optimal value Of C(1/lambda) is :  0.01\n"
     ]
    }
   ],
   "source": [
    "tuned_parameters = [{'C': [10**-4, 10**-2, 10**0, 10**2, 10**4]}]\n",
    "#using GridSearchCv\n",
    "model = GridSearchCV(LogisticRegression(penalty='l2'), tuned_parameters, scoring='accuracy', cv=3, n_jobs=-1, pre_dispatch=2)\n",
    "model.fit(X_train_vec_standardized, Y_train)\n",
    "print(\"Model with best parameters :\\n\", model.best_estimator_)\n",
    "print(\"Accuracy of model : \", model.score(X_test_vec_standardized, Y_test))\n",
    "\n",
    "optimal_C = model.best_estimator_.C\n",
    "print(\"The Optimal value Of C(1/lambda) is : \", optimal_C)\n",
    "\n",
    "#Testing Logistic Regression with Optimal value of C:(1/lambda)\n",
    "lr = LogisticRegression(penalty='l2', C=optimal_C, n_jobs=-1)\n",
    "lr.fit(X_train_vec_standardized, Y_train)\n",
    "predictions = lr.predict(X_test_vec_standardized)\n",
    "\n",
    "#varibles will be used at conclusion part\n",
    "tfidf_l2_grid_C = optimal_C\n",
    "tfidf_l2_grid_train_acc = model.score(X_test_vec_standardized, Y_test)*100\n",
    "tfidf_l2_grid_test_acc = accuracy_score(Y_test, predictions) * 100"
   ]
  },
  {
   "cell_type": "code",
   "execution_count": 63,
   "metadata": {},
   "outputs": [
    {
     "name": "stdout",
     "output_type": "stream",
     "text": [
      "\n",
      "Test Accuracy Of Classifier C = 0.010 is 91.310952%\n",
      "\n",
      "Test Precsion Of Classifier C = 0.010 is 0.936036\n",
      "\n",
      "Test recall  Of Classifier C = 0.010 is 0.962214\n",
      "\n",
      "Test F1-score  Of Classifier C = 0.010 is 0.948945\n"
     ]
    }
   ],
   "source": [
    "#Evaluate Accuracy\n",
    "acc = accuracy_score(Y_test, predictions)* 100\n",
    "print('\\nTest Accuracy Of Classifier C = %.3f is %f%%' % (optimal_C, acc))\n",
    "\n",
    "#Evaluate Precision\n",
    "acc = precision_score(Y_test, predictions)\n",
    "print('\\nTest Precsion Of Classifier C = %.3f is %f' % (optimal_C, acc))\n",
    "\n",
    "#Evaluate Recall\n",
    "acc = recall_score(Y_test, predictions)\n",
    "print('\\nTest recall  Of Classifier C = %.3f is %f' % (optimal_C, acc))\n",
    "\n",
    "#Evaluate F1-score\n",
    "acc = f1_score(Y_test, predictions)\n",
    "print('\\nTest F1-score  Of Classifier C = %.3f is %f' % (optimal_C, acc))"
   ]
  },
  {
   "cell_type": "code",
   "execution_count": 64,
   "metadata": {},
   "outputs": [
    {
     "name": "stdout",
     "output_type": "stream",
     "text": [
      "Train Confusion Matrix\n",
      "[[ 7272  2675]\n",
      " [ 1324 50170]]\n",
      "Test Confusion Matrix\n",
      "[[ 2781  1453]\n",
      " [  835 21263]]\n"
     ]
    },
    {
     "data": {
      "image/png": "[encoded data removed]",
      "text/plain": [
       "<Figure size 432x288 with 2 Axes>"
      ]
     },
     "metadata": {
      "needs_background": "light"
     },
     "output_type": "display_data"
    }
   ],
   "source": [
    "#Confusion Matrix\n",
    "print(\"Train Confusion Matrix\")\n",
    "print(confusion_matrix(Y_train, lr.predict(X_train_vec_standardized)))\n",
    "print(\"Test Confusion Matrix\")\n",
    "print(confusion_matrix(Y_test, lr.predict(X_test_vec_standardized)))\n",
    "cm_test=confusion_matrix(Y_test, lr.predict(X_test_vec_standardized))\n",
    "class_label = [\"negative\", \"positive\"]\n",
    "df_cm = pd.DataFrame(cm_test, index=class_label, columns=class_label)\n",
    "sns.heatmap(df_cm, annot = True, fmt = \"d\")\n",
    "plt.title(\"Confusion Matrix\")\n",
    "plt.xlabel(\"Predicted Label\")\n",
    "plt.ylabel(\"True Label\")\n",
    "plt.show()"
   ]
  },
  {
   "cell_type": "markdown",
   "metadata": {},
   "source": [
    "#### Random SearchCV Implementation"
   ]
  },
  {
   "cell_type": "code",
   "execution_count": 66,
   "metadata": {},
   "outputs": [
    {
     "name": "stdout",
     "output_type": "stream",
     "text": [
      "Model with best parameters :\n",
      " LogisticRegression(C=3.3582706284116903, class_weight=None, dual=False,\n",
      "          fit_intercept=True, intercept_scaling=1, max_iter=100,\n",
      "          multi_class='ovr', n_jobs=1, penalty='l2', random_state=None,\n",
      "          solver='liblinear', tol=0.0001, verbose=0, warm_start=False)\n",
      "Accuracy of model :  0.912046179553\n",
      "The Optimal value Of C(1/lambda) is :  3.35827062841\n"
     ]
    }
   ],
   "source": [
    "from scipy.stats import uniform\n",
    "C = uniform(loc=0, scale=10)\n",
    "hyperparameters = dict(C=C)\n",
    "#Using Randomized Search\n",
    "model = RandomizedSearchCV(LogisticRegression(penalty='l2'), hyperparameters, scoring='accuracy', cv=3, n_jobs=-1, pre_dispatch=2)\n",
    "model.fit(X_train_vec_standardized, Y_train)\n",
    "print(\"Model with best parameters :\\n\", model.best_estimator_)\n",
    "print(\"Accuracy of model : \", model.score(X_test_vec_standardized, Y_test))\n",
    "\n",
    "optimal_C = model.best_estimator_.C\n",
    "print(\"The Optimal value Of C(1/lambda) is : \", optimal_C)\n",
    "\n",
    "#Testing Logistic Regression with Optimal value of C:(1/lambda)\n",
    "lr = LogisticRegression(penalty='l2', C=optimal_C, n_jobs=-1)\n",
    "lr.fit(X_train_vec_standardized, Y_train)\n",
    "predictions = lr.predict(X_test_vec_standardized)\n",
    "\n",
    "#varibles will be used at conclusion part\n",
    "tfidf_l2__random_C = optimal_C\n",
    "tfidf_l2__random_train_acc = model.score(X_test_vec_standardized, Y_test)*100\n",
    "tfidf_l2__random_test_acc = accuracy_score(Y_test, predictions) * 100"
   ]
  },
  {
   "cell_type": "code",
   "execution_count": 67,
   "metadata": {},
   "outputs": [
    {
     "name": "stdout",
     "output_type": "stream",
     "text": [
      "\n",
      "Test Accuracy Of Classifier C = 3.358271 is 91.204618%\n",
      "\n",
      "Test Precision Of Classifier C = 3.358271 is 0.937345%\n",
      "\n",
      "Test recall  Of Classifier C = 3.358271 is 0.959318%\n",
      "\n",
      "Test F1-score  Of Classifier C = 3.358271 is 0.948204%\n"
     ]
    }
   ],
   "source": [
    "#Evaluate Accuracy\n",
    "acc = accuracy_score(Y_test, predictions)* 100\n",
    "print('\\nTest Accuracy Of Classifier C = %f is %f%%' % (optimal_C, acc))\n",
    "\n",
    "#Evaluate Precision\n",
    "acc = precision_score(Y_test, predictions)\n",
    "print('\\nTest Precision Of Classifier C = %f is %f%%' % (optimal_C, acc))\n",
    "\n",
    "#Evaluate Recall\n",
    "acc = recall_score(Y_test, predictions)\n",
    "print('\\nTest recall  Of Classifier C = %f is %f%%' % (optimal_C, acc))\n",
    "\n",
    "#Evaluate F1-score\n",
    "acc = f1_score(Y_test, predictions)\n",
    "print('\\nTest F1-score  Of Classifier C = %f is %f%%' % (optimal_C, acc))"
   ]
  },
  {
   "cell_type": "code",
   "execution_count": 68,
   "metadata": {},
   "outputs": [
    {
     "name": "stdout",
     "output_type": "stream",
     "text": [
      "Train Confusion Matrix\n",
      "[[ 7345  2602]\n",
      " [ 1385 50109]]\n",
      "Test Confusion Matrix\n",
      "[[ 2817  1417]\n",
      " [  899 21199]]\n"
     ]
    },
    {
     "data": {
      "image/png": "[encoded data removed]",
      "text/plain": [
       "<Figure size 432x288 with 2 Axes>"
      ]
     },
     "metadata": {
      "needs_background": "light"
     },
     "output_type": "display_data"
    }
   ],
   "source": [
    "#Confusion Matrix\n",
    "print(\"Train Confusion Matrix\")\n",
    "print(confusion_matrix(Y_train, lr.predict(X_train_vec_standardized)))\n",
    "print(\"Test Confusion Matrix\")\n",
    "print(confusion_matrix(Y_test, lr.predict(X_test_vec_standardized)))\n",
    "cm_test=confusion_matrix(Y_test, lr.predict(X_test_vec_standardized))\n",
    "class_label = [\"negative\", \"positive\"]\n",
    "df_cm = pd.DataFrame(cm_test, index=class_label, columns=class_label)\n",
    "sns.heatmap(df_cm, annot = True, fmt = \"d\")\n",
    "plt.title(\"Confusion Matrix\")\n",
    "plt.xlabel(\"Predicted Label\")\n",
    "plt.ylabel(\"True Label\")\n",
    "plt.show()"
   ]
  },
  {
   "cell_type": "markdown",
   "metadata": {},
   "source": [
    "#### Grid SearchCV Using L1 reg"
   ]
  },
  {
   "cell_type": "code",
   "execution_count": 69,
   "metadata": {},
   "outputs": [
    {
     "name": "stdout",
     "output_type": "stream",
     "text": [
      "Model with best parameters :\n",
      " LogisticRegression(C=0.01, class_weight=None, dual=False, fit_intercept=True,\n",
      "          intercept_scaling=1, max_iter=100, multi_class='ovr', n_jobs=1,\n",
      "          penalty='l1', random_state=None, solver='liblinear', tol=0.0001,\n",
      "          verbose=0, warm_start=False)\n",
      "Accuracy of model :  0.914476682364\n",
      "The Optimal value Of C(1/lambda) is :  0.01\n"
     ]
    }
   ],
   "source": [
    "tuned_parameters = [{'C': [10**-4, 10**-2, 10**0, 10**2, 10**4]}]\n",
    "#using GridSearchCv\n",
    "model = GridSearchCV(LogisticRegression(penalty='l1'), tuned_parameters, scoring='accuracy', cv=3, n_jobs=-1, pre_dispatch=2)\n",
    "model.fit(X_train_vec_standardized, Y_train)\n",
    "print(\"Model with best parameters :\\n\", model.best_estimator_)\n",
    "print(\"Accuracy of model : \", model.score(X_test_vec_standardized, Y_test))\n",
    "\n",
    "optimal_C = model.best_estimator_.C\n",
    "print(\"The Optimal value Of C(1/lambda) is : \", optimal_C)\n",
    "\n",
    "#Testing Logistic Regression with Optimal value of C:(1/lambda)\n",
    "lr = LogisticRegression(penalty='l1', C=optimal_C, n_jobs=-1)\n",
    "lr.fit(X_train_vec_standardized, Y_train)\n",
    "predictions = lr.predict(X_test_vec_standardized)\n",
    "\n",
    "#varibles will be used at conclusion part\n",
    "tfidf_l1_grid_C = optimal_C\n",
    "tfidf_l1_grid_train_acc = model.score(X_test_vec_standardized, Y_test)*100\n",
    "tfidf_l1_grid_test_acc = accuracy_score(Y_test, predictions) * 100"
   ]
  },
  {
   "cell_type": "code",
   "execution_count": 70,
   "metadata": {},
   "outputs": [
    {
     "name": "stdout",
     "output_type": "stream",
     "text": [
      "\n",
      "Test Accuracy Of Classifier C = 0.010000 is 91.451466%\n",
      "\n",
      "Test Precision Of Classifier C = 0.010000 is 0.924753\n",
      "\n",
      "Test recall  Of Classifier C = 0.010000 is 0.977690\n",
      "\n",
      "Test F1-score  Of Classifier C = 0.010000 is 0.950485\n"
     ]
    }
   ],
   "source": [
    "#Evaluate Accuracy\n",
    "acc = accuracy_score(Y_test, predictions)* 100\n",
    "print('\\nTest Accuracy Of Classifier C = %f is %f%%' % (optimal_C, acc))\n",
    "\n",
    "#Evaluate Precision\n",
    "acc = precision_score(Y_test, predictions)\n",
    "print('\\nTest Precision Of Classifier C = %f is %f' % (optimal_C, acc))\n",
    "\n",
    "#Evaluate Recall\n",
    "acc = recall_score(Y_test, predictions)\n",
    "print('\\nTest recall  Of Classifier C = %f is %f' % (optimal_C, acc))\n",
    "\n",
    "#Evaluate F1-score\n",
    "acc = f1_score(Y_test, predictions)\n",
    "print('\\nTest F1-score  Of Classifier C = %f is %f' % (optimal_C, acc))"
   ]
  },
  {
   "cell_type": "code",
   "execution_count": 71,
   "metadata": {},
   "outputs": [
    {
     "name": "stdout",
     "output_type": "stream",
     "text": [
      "Train Confusion Matrix\n",
      "[[ 6195  3752]\n",
      " [  984 50510]]\n",
      "Test Confusion Matrix\n",
      "[[ 2476  1758]\n",
      " [  493 21605]]\n"
     ]
    },
    {
     "data": {
      "image/png": "[encoded data removed]",
      "text/plain": [
       "<Figure size 432x288 with 2 Axes>"
      ]
     },
     "metadata": {
      "needs_background": "light"
     },
     "output_type": "display_data"
    }
   ],
   "source": [
    "#Confusion Matrix\n",
    "print(\"Train Confusion Matrix\")\n",
    "print(confusion_matrix(Y_train, lr.predict(X_train_vec_standardized)))\n",
    "print(\"Test Confusion Matrix\")\n",
    "print(confusion_matrix(Y_test, lr.predict(X_test_vec_standardized)))\n",
    "cm_test=confusion_matrix(Y_test, lr.predict(X_test_vec_standardized))\n",
    "class_label = [\"negative\", \"positive\"]\n",
    "df_cm = pd.DataFrame(cm_test, index=class_label, columns=class_label)\n",
    "sns.heatmap(df_cm, annot = True, fmt = \"d\")\n",
    "plt.title(\"Confusion Matrix\")\n",
    "plt.xlabel(\"Predicted Label\")\n",
    "plt.ylabel(\"True Label\")\n",
    "plt.show()"
   ]
  },
  {
   "cell_type": "code",
   "execution_count": 72,
   "metadata": {},
   "outputs": [
    {
     "name": "stdout",
     "output_type": "stream",
     "text": [
      "Model with best parameters :\n",
      " LogisticRegression(C=0.64716998915554269, class_weight=None, dual=False,\n",
      "          fit_intercept=True, intercept_scaling=1, max_iter=100,\n",
      "          multi_class='ovr', n_jobs=1, penalty='l1', random_state=None,\n",
      "          solver='liblinear', tol=0.0001, verbose=0, warm_start=False)\n",
      "Accuracy of model :  0.912387969011\n",
      "The Optimal value Of C(1/lambda) is :  0.647169989156\n"
     ]
    }
   ],
   "source": [
    "from scipy.stats import uniform\n",
    "C = uniform(loc=0, scale=10)\n",
    "hyperparameters = dict(C=C)\n",
    "#Using Randomized Search\n",
    "model = RandomizedSearchCV(LogisticRegression(penalty='l1'), hyperparameters, scoring='accuracy', cv=3, n_jobs=-1, pre_dispatch=2)\n",
    "model.fit(X_train_vec_standardized, Y_train)\n",
    "print(\"Model with best parameters :\\n\", model.best_estimator_)\n",
    "print(\"Accuracy of model : \", model.score(X_test_vec_standardized, Y_test))\n",
    "\n",
    "optimal_C = model.best_estimator_.C\n",
    "print(\"The Optimal value Of C(1/lambda) is : \", optimal_C)\n",
    "\n",
    "#Testing Logistic Regression with Optimal value of C:(1/lambda)\n",
    "lr = LogisticRegression(penalty='l1', C=optimal_C, n_jobs=-1)\n",
    "lr.fit(X_train_vec_standardized, Y_train)\n",
    "predictions = lr.predict(X_test_vec_standardized)\n",
    "\n",
    "#varibles will be used at conclusion part\n",
    "tfidf_l2__random_C = optimal_C\n",
    "tfidf_l2__random_train_acc = model.score(X_test_vec_standardized, Y_test)*100\n",
    "tfidf_l2__random_test_acc = accuracy_score(Y_test, predictions) * 100"
   ]
  },
  {
   "cell_type": "code",
   "execution_count": 73,
   "metadata": {},
   "outputs": [
    {
     "name": "stdout",
     "output_type": "stream",
     "text": [
      "\n",
      "Test Accuracy Of Classifier C = 0.647170 is 91.242595%\n",
      "\n",
      "Test Precision Of Classifier C = 0.647170 is 0.937025\n",
      "\n",
      "Test recall  Of Classifier C = 0.647170 is 0.960177\n",
      "\n",
      "Test F1-score  Of Classifier C = 0.647170 is 0.948460\n"
     ]
    }
   ],
   "source": [
    "#Evaluate Accuracy\n",
    "acc = accuracy_score(Y_test, predictions)* 100\n",
    "print('\\nTest Accuracy Of Classifier C = %f is %f%%' % (optimal_C, acc))\n",
    "\n",
    "#Evaluate Precision\n",
    "acc = precision_score(Y_test, predictions)\n",
    "print('\\nTest Precision Of Classifier C = %f is %f' % (optimal_C, acc))\n",
    "\n",
    "#Evaluate Recall\n",
    "acc = recall_score(Y_test, predictions)\n",
    "print('\\nTest recall  Of Classifier C = %f is %f' % (optimal_C, acc))\n",
    "\n",
    "#Evaluate F1-score\n",
    "acc = f1_score(Y_test, predictions)\n",
    "print('\\nTest F1-score  Of Classifier C = %f is %f' % (optimal_C, acc))"
   ]
  },
  {
   "cell_type": "code",
   "execution_count": 74,
   "metadata": {},
   "outputs": [
    {
     "name": "stdout",
     "output_type": "stream",
     "text": [
      "Train Confusion Matrix\n",
      "[[ 7321  2626]\n",
      " [ 1368 50126]]\n",
      "Test Confusion Matrix\n",
      "[[ 2808  1426]\n",
      " [  880 21218]]\n"
     ]
    },
    {
     "data": {
      "image/png": "[encoded data removed]",
      "text/plain": [
       "<Figure size 432x288 with 2 Axes>"
      ]
     },
     "metadata": {
      "needs_background": "light"
     },
     "output_type": "display_data"
    }
   ],
   "source": [
    "#Confusion Matrix\n",
    "print(\"Train Confusion Matrix\")\n",
    "print(confusion_matrix(Y_train, lr.predict(X_train_vec_standardized)))\n",
    "print(\"Test Confusion Matrix\")\n",
    "print(confusion_matrix(Y_test, lr.predict(X_test_vec_standardized)))\n",
    "cm_test=confusion_matrix(Y_test, lr.predict(X_test_vec_standardized))\n",
    "class_label = [\"negative\", \"positive\"]\n",
    "df_cm = pd.DataFrame(cm_test, index=class_label, columns=class_label)\n",
    "sns.heatmap(df_cm, annot = True, fmt = \"d\")\n",
    "plt.title(\"Confusion Matrix\")\n",
    "plt.xlabel(\"Predicted Label\")\n",
    "plt.ylabel(\"True Label\")\n",
    "plt.show()"
   ]
  },
  {
   "cell_type": "code",
   "execution_count": 75,
   "metadata": {},
   "outputs": [
    {
     "name": "stdout",
     "output_type": "stream",
     "text": [
      "Top 20 features with their weight values :\n",
      "       great\t--> \t0.865877\n",
      "      delici\t--> \t0.638451\n",
      "        best\t--> \t0.615747\n",
      "        love\t--> \t0.623230\n",
      "     perfect\t--> \t0.507448\n",
      "        good\t--> \t0.485410\n",
      "       excel\t--> \t0.468570\n",
      "  disappoint\t--> \t-0.328953\n",
      "        amaz\t--> \t0.384122\n",
      "      flaxse\t--> \t0.109782\n",
      "        nice\t--> \t0.357131\n",
      "      awesom\t--> \t0.336114\n",
      "        easi\t--> \t0.296673\n",
      "     favorit\t--> \t0.312992\n",
      "       worst\t--> \t-0.283929\n",
      "      wonder\t--> \t0.287270\n",
      "     satisfi\t--> \t0.257339\n",
      "        hook\t--> \t0.297887\n",
      "       tasti\t--> \t0.232109\n",
      "       thank\t--> \t0.259429\n"
     ]
    }
   ],
   "source": [
    "absolute_weights = np.absolute(W_before_epsilon)\n",
    "sorted_absolute_index = np.argsort(absolute_weights)[:,::-1]\n",
    "top_index = sorted_absolute_index[0,0:20]\n",
    "\n",
    "all_features = count_vect.get_feature_names()\n",
    "weight_values = lr.coef_\n",
    "\n",
    "# Top 20 features are    \n",
    "print(\"Top 20 features with their weight values :\")\n",
    "\n",
    "for j in top_index:\n",
    "    print(\"%12s\\t--> \\t%f\"%(all_features[j],weight_values[0,j]))"
   ]
  },
  {
   "cell_type": "markdown",
   "metadata": {},
   "source": [
    "#### Observation:\n",
    "* From the above we can observe that there is not much larger change in weight vector, we will use absolute weights."
   ]
  },
  {
   "cell_type": "code",
   "execution_count": 56,
   "metadata": {},
   "outputs": [
    {
     "data": {
      "image/png": "[encoded data removed]",
      "text/plain": [
       "<Figure size 432x288 with 2 Axes>"
      ]
     },
     "metadata": {
      "needs_background": "light"
     },
     "output_type": "display_data"
    }
   ],
   "source": [
    "lr=LogisticRegression(penalty='l1', C=optimal_c)\n",
    "lr.fit(X_train_tf, y_tr)\n",
    "predic=lr.predict(X_test_tf)\n",
    "conf_mat = confusion_matrix(y_test, predic)\n",
    "class_label = [\"negative\", \"positive\"]\n",
    "df = pd.DataFrame(conf_mat, index = class_label, columns = class_label)\n",
    "sns.heatmap(df, annot= True, fmt=\"d\")\n",
    "plt.title(\"Confusion Matrix\")\n",
    "plt.xlabel(\"Predicted Label\")\n",
    "plt.ylabel(\"True Label\")\n",
    "plt.show()"
   ]
  },
  {
   "cell_type": "markdown",
   "metadata": {
    "colab_type": "text",
    "id": "NdFShHQJLPpV"
   },
   "source": [
    "### [5.2.2] Applying Logistic Regression with L2 regularization on TFIDF,<font color='red'> SET 2</font>"
   ]
  },
  {
   "cell_type": "markdown",
   "metadata": {
    "colab_type": "text",
    "id": "xeeJ8eVvLPpX"
   },
   "source": [
    "### [5.2.3] Feature Importance on TFIDF,<font color='red'> SET 2</font>"
   ]
  },
  {
   "cell_type": "markdown",
   "metadata": {
    "colab_type": "text",
    "id": "Cj9XEmqQLPpY"
   },
   "source": [
    "#### [5.2.3.1] Top 10 important features of positive class from<font color='red'> SET 2</font>"
   ]
  },
  {
   "cell_type": "code",
   "execution_count": 45,
   "metadata": {
    "colab": {},
    "colab_type": "code",
    "id": "RG10txygLPpb"
   },
   "outputs": [
    {
     "name": "stdout",
     "output_type": "stream",
     "text": [
      "\n",
      "Top 10 Positive Features :\n",
      "benefited\n",
      "aficionada\n",
      "arived\n",
      "carbquik\n",
      "bing\n",
      "belgain\n",
      "breastfeeding\n",
      "admin\n",
      "byproduct\n",
      "breatfeeding\n"
     ]
    }
   ],
   "source": [
    "# Please write all the code with proper documentation\n",
    "# Please write all the code with proper documentation\n",
    "all_features=count_vect.get_feature_names()\n",
    "model=LogisticRegression(penalty='l2', C=c)\n",
    "model.fit(X_train,y_train)\n",
    "weight = lr.coef_\n",
    "pos_ndx=np.argsort(weight)[:,::-1]\n",
    "neg_ndx=np.argsort(weight)\n",
    "print('\\nTop 10 Positive Features :')\n",
    "for i in list(pos_ndx[0][0:10]):\n",
    "    print(all_features[i])"
   ]
  },
  {
   "cell_type": "markdown",
   "metadata": {
    "colab_type": "text",
    "id": "PowEfns4LPpg"
   },
   "source": [
    "#### [5.2.3.2] Top 10 important features of negative class from<font color='red'> SET 2</font>"
   ]
  },
  {
   "cell_type": "code",
   "execution_count": 46,
   "metadata": {
    "colab": {},
    "colab_type": "code",
    "id": "G7jrma95LPpg"
   },
   "outputs": [
    {
     "name": "stdout",
     "output_type": "stream",
     "text": [
      "\n",
      "Top 10 Negative Features :\n",
      "cadavers\n",
      "bishon\n",
      "creamyoesk\n",
      "course\n",
      "babaganouge\n",
      "biscuits\n",
      "convince\n",
      "confirms\n",
      "askes\n",
      "chilean\n"
     ]
    }
   ],
   "source": [
    "# Please write all the code with proper documentation\n",
    "weight = lr.coef_\n",
    "pos_ndx=np.argsort(weight)[:,::-1]\n",
    "neg_ndx=np.argsort(weight)\n",
    "print('\\nTop 10 Negative Features :')\n",
    "for i in list(neg_ndx[0][0:10]):\n",
    "    print(all_features[i])"
   ]
  },
  {
   "cell_type": "markdown",
   "metadata": {
    "colab_type": "text",
    "id": "sqYadGOgLPpi"
   },
   "source": [
    "## [5.3] Logistic Regression on AVG W2V,<font color='red'> SET 3</font>"
   ]
  },
  {
   "cell_type": "markdown",
   "metadata": {
    "colab_type": "text",
    "id": "kByBCEA1LPpj"
   },
   "source": [
    "### [5.3.1] Applying Logistic Regression with L1 regularization on AVG W2V<font color='red'> SET 3</font>"
   ]
  },
  {
   "cell_type": "code",
   "execution_count": 76,
   "metadata": {},
   "outputs": [
    {
     "name": "stdout",
     "output_type": "stream",
     "text": [
      "number of words that occured minimum 5 times  9941\n",
      "sample words  ['weekend', 'week', 'long', 'fast', 'use', 'rice', 'green', 'tea', 'work', 'wonder', 'one', 'energi', 'level', 'tasti', 'even', 'bit', 'salt', 'make', 'much', 'pleasant', 'famili', 'favorit', 'flavor', 'hansen', 'diet', 'soda', 'clean', 'crisp', 'tast', 'enjoy', 'meal', 'calm', 'upset', 'tummi', 'love', 'compar', 'eat', 'like', 'nissin', 'maruchan', 'realli', 'tell', 'differ', 'big', 'tub', 'spice', 'drop', 'better', 'diabet', 'didnt']\n"
     ]
    }
   ],
   "source": [
    "#List of sentance in X_train text\n",
    "sent_of_train = []\n",
    "for sent in X_train:\n",
    "    sent_of_train.append(sent.split())\n",
    "    \n",
    "#List of sentance in X_test text\n",
    "sent_of_test = []\n",
    "for sent in X_test:\n",
    "    sent_of_test.append(sent.split())\n",
    "#Train your own text corpus WOrd2Vec\n",
    "w2v_model = Word2Vec(sent_of_train,min_count=5,size=50,workers=4)   \n",
    "w2v_words = list(w2v_model.wv.vocab)\n",
    "print(\"number of words that occured minimum 5 times \",len(w2v_words))\n",
    "print(\"sample words \", w2v_words[0:50])"
   ]
  },
  {
   "cell_type": "code",
   "execution_count": 77,
   "metadata": {},
   "outputs": [],
   "source": [
    "#copute AvgWord2Vec for each review of X_train\n",
    "train_vectors = [];\n",
    "for sent in sent_of_train:\n",
    "    sent_vec = np.zeros(50)\n",
    "    cnt_words =0; # num of words with a valid vector in the sentence/review\n",
    "    for word in sent: # for each word in a review/sentence\n",
    "        if word in w2v_words:\n",
    "            vec = w2v_model.wv[word]\n",
    "            sent_vec += vec\n",
    "            cnt_words += 1\n",
    "    if cnt_words != 0:\n",
    "        sent_vec /= cnt_words\n",
    "    train_vectors.append(sent_vec)\n",
    "\n",
    "#compute AvgWord2Vec for each review of X_test\n",
    "test_vectors = [];\n",
    "for sent in sent_of_test:\n",
    "    sent_vec = np.zeros(50)\n",
    "    cnt_words =0; # num of words with a valid vector in the sentence/review\n",
    "    for word in sent: # for each word in a review/sentence\n",
    "        if word in w2v_words:\n",
    "            vec = w2v_model.wv[word]\n",
    "            sent_vec += vec\n",
    "            cnt_words += 1\n",
    "    if cnt_words != 0:\n",
    "        sent_vec /= cnt_words\n",
    "    test_vectors.append(sent_vec)\n",
    "\n",
    "#Standardizing\n",
    "sc = StandardScaler()\n",
    "X_train_vec_standardized = sc.fit_transform(train_vectors)\n",
    "X_test_vec_standardized = sc.transform(test_vectors)"
   ]
  },
  {
   "cell_type": "markdown",
   "metadata": {},
   "source": [
    "#### L2 regualrization\n",
    "#### Grid SearchCV"
   ]
  },
  {
   "cell_type": "code",
   "execution_count": 78,
   "metadata": {},
   "outputs": [
    {
     "name": "stdout",
     "output_type": "stream",
     "text": [
      "Model with best parameters :\n",
      " LogisticRegression(C=1, class_weight=None, dual=False, fit_intercept=True,\n",
      "          intercept_scaling=1, max_iter=100, multi_class='ovr', n_jobs=1,\n",
      "          penalty='l2', random_state=None, solver='liblinear', tol=0.0001,\n",
      "          verbose=0, warm_start=False)\n",
      "Accuracy of model :  0.887095549142\n",
      "The Optimal value Of C(1/lambda) is :  1\n"
     ]
    }
   ],
   "source": [
    "tuned_parameters = [{'C': [10**-4, 10**-2, 10**0, 10**2, 10**4]}]\n",
    "#using GridSearchCv\n",
    "model = GridSearchCV(LogisticRegression(penalty='l2'), tuned_parameters, scoring='accuracy', cv=3, n_jobs=-1, pre_dispatch=2)\n",
    "model.fit(X_train_vec_standardized, Y_train)\n",
    "print(\"Model with best parameters :\\n\", model.best_estimator_)\n",
    "print(\"Accuracy of model : \", model.score(X_test_vec_standardized, Y_test))\n",
    "\n",
    "optimal_C = model.best_estimator_.C\n",
    "print(\"The Optimal value Of C(1/lambda) is : \", optimal_C)\n",
    "\n",
    "#Testing Logistic Regression with Optimal value of C:(1/lambda)\n",
    "lr = LogisticRegression(penalty='l2', C=optimal_C, n_jobs=-1)\n",
    "lr.fit(X_train_vec_standardized, Y_train)\n",
    "predictions = lr.predict(X_test_vec_standardized)\n",
    "\n",
    "#varibles will be used at conclusion part\n",
    "avg_w2v_l2_grid_C = optimal_C\n",
    "avg_w2v_l2_grid_train_acc = model.score(X_test_vec_standardized, Y_test)*100\n",
    "avg_w2v_l2_grid_test_acc = accuracy_score(Y_test, predictions) * 100"
   ]
  },
  {
   "cell_type": "code",
   "execution_count": 79,
   "metadata": {},
   "outputs": [
    {
     "name": "stdout",
     "output_type": "stream",
     "text": [
      "\n",
      "Test Accuracy Of Classifier C = 1.000 is 88.709555%\n",
      "\n",
      "Test Precsion Of Classifier C = 1.000 is 0.905345\n",
      "\n",
      "Test recall  Of Classifier C = 1.000 is 0.966513\n",
      "\n",
      "Test F1-score  Of Classifier C = 1.000 is 0.934930\n"
     ]
    }
   ],
   "source": [
    "#Evaluate Accuracy\n",
    "acc = accuracy_score(Y_test, predictions)* 100\n",
    "print('\\nTest Accuracy Of Classifier C = %.3f is %f%%' % (optimal_C, acc))\n",
    "\n",
    "#Evaluate Precision\n",
    "acc = precision_score(Y_test, predictions)\n",
    "print('\\nTest Precsion Of Classifier C = %.3f is %f' % (optimal_C, acc))\n",
    "\n",
    "#Evaluate Recall\n",
    "acc = recall_score(Y_test, predictions)\n",
    "print('\\nTest recall  Of Classifier C = %.3f is %f' % (optimal_C, acc))\n",
    "\n",
    "#Evaluate F1-score\n",
    "acc = f1_score(Y_test, predictions)\n",
    "print('\\nTest F1-score  Of Classifier C = %.3f is %f' % (optimal_C, acc))"
   ]
  },
  {
   "cell_type": "code",
   "execution_count": 80,
   "metadata": {},
   "outputs": [
    {
     "name": "stdout",
     "output_type": "stream",
     "text": [
      "Train Confusion Matrix\n",
      "[[ 4794  5153]\n",
      " [ 1782 49712]]\n",
      "Test Confusion Matrix\n",
      "[[ 2001  2233]\n",
      " [  740 21358]]\n"
     ]
    },
    {
     "data": {
      "image/png": "[encoded data removed]",
      "text/plain": [
       "<Figure size 432x288 with 2 Axes>"
      ]
     },
     "metadata": {
      "needs_background": "light"
     },
     "output_type": "display_data"
    }
   ],
   "source": [
    "#Confusion Matrix\n",
    "print(\"Train Confusion Matrix\")\n",
    "print(confusion_matrix(Y_train, lr.predict(X_train_vec_standardized)))\n",
    "print(\"Test Confusion Matrix\")\n",
    "print(confusion_matrix(Y_test, lr.predict(X_test_vec_standardized)))\n",
    "cm_test=confusion_matrix(Y_test, lr.predict(X_test_vec_standardized))\n",
    "class_label = [\"negative\", \"positive\"]\n",
    "df_cm = pd.DataFrame(cm_test, index=class_label, columns=class_label)\n",
    "sns.heatmap(df_cm, annot = True, fmt = \"d\")\n",
    "plt.title(\"Confusion Matrix\")\n",
    "plt.xlabel(\"Predicted Label\")\n",
    "plt.ylabel(\"True Label\")\n",
    "plt.show()"
   ]
  },
  {
   "cell_type": "markdown",
   "metadata": {},
   "source": [
    "#### Observation:\n",
    "* Model is performing well on unseen data, with an AUC of 0.91% , considering time split is helpfull by training data \n",
    "  on unseen data points.\n",
    "* Using GridSearchCV and Random SearchCV of L1, L2 reg."
   ]
  },
  {
   "cell_type": "markdown",
   "metadata": {},
   "source": [
    "#### RandomizedSearch CV implementation"
   ]
  },
  {
   "cell_type": "code",
   "execution_count": 81,
   "metadata": {},
   "outputs": [
    {
     "name": "stdout",
     "output_type": "stream",
     "text": [
      "Model with best parameters :\n",
      " LogisticRegression(C=1.6718880897136257, class_weight=None, dual=False,\n",
      "          fit_intercept=True, intercept_scaling=1, max_iter=100,\n",
      "          multi_class='ovr', n_jobs=1, penalty='l2', random_state=None,\n",
      "          solver='liblinear', tol=0.0001, verbose=0, warm_start=False)\n",
      "Accuracy of model :  0.887133525748\n",
      "The Optimal value Of C(1/lambda) is :  1.67188808971\n"
     ]
    }
   ],
   "source": [
    "from scipy.stats import uniform\n",
    "C = uniform(loc=0, scale=10)\n",
    "hyperparameters = dict(C=C)\n",
    "#Using Randomized Search\n",
    "model = RandomizedSearchCV(LogisticRegression(penalty='l2'), hyperparameters, scoring='accuracy', cv=3, n_jobs=-1, pre_dispatch=2)\n",
    "model.fit(X_train_vec_standardized, Y_train)\n",
    "print(\"Model with best parameters :\\n\", model.best_estimator_)\n",
    "print(\"Accuracy of model : \", model.score(X_test_vec_standardized, Y_test))\n",
    "\n",
    "optimal_C = model.best_estimator_.C\n",
    "print(\"The Optimal value Of C(1/lambda) is : \", optimal_C)\n",
    "\n",
    "#Testing Logistic Regression with Optimal value of C:(1/lambda)\n",
    "lr = LogisticRegression(penalty='l2', C=optimal_C, n_jobs=-1)\n",
    "lr.fit(X_train_vec_standardized, Y_train)\n",
    "predictions = lr.predict(X_test_vec_standardized)\n",
    "\n",
    "#varibles will be used at conclusion part\n",
    "avg_w2v_l2__random_C = optimal_C\n",
    "avg_w2v_l2__random_train_acc = model.score(X_test_vec_standardized, Y_test)*100\n",
    "avg_w2v_l2__random_test_acc = accuracy_score(Y_test, predictions) * 100"
   ]
  },
  {
   "cell_type": "code",
   "execution_count": 82,
   "metadata": {},
   "outputs": [
    {
     "name": "stdout",
     "output_type": "stream",
     "text": [
      "\n",
      "Test Accuracy Of Classifier C = 1.672 is 88.713353%\n",
      "\n",
      "Test Precsion Of Classifier C = 1.672 is 0.905384\n",
      "\n",
      "Test recall  Of Classifier C = 1.672 is 0.966513\n",
      "\n",
      "Test F1-score  Of Classifier C = 1.672 is 0.934950\n"
     ]
    }
   ],
   "source": [
    "#Evaluate Accuracy\n",
    "acc = accuracy_score(Y_test, predictions)* 100\n",
    "print('\\nTest Accuracy Of Classifier C = %.3f is %f%%' % (optimal_C, acc))\n",
    "\n",
    "#Evaluate Precision\n",
    "acc = precision_score(Y_test, predictions)\n",
    "print('\\nTest Precsion Of Classifier C = %.3f is %f' % (optimal_C, acc))\n",
    "\n",
    "#Evaluate Recall\n",
    "acc = recall_score(Y_test, predictions)\n",
    "print('\\nTest recall  Of Classifier C = %.3f is %f' % (optimal_C, acc))\n",
    "\n",
    "#Evaluate F1-score\n",
    "acc = f1_score(Y_test, predictions)\n",
    "print('\\nTest F1-score  Of Classifier C = %.3f is %f' % (optimal_C, acc))"
   ]
  },
  {
   "cell_type": "code",
   "execution_count": 83,
   "metadata": {},
   "outputs": [
    {
     "name": "stdout",
     "output_type": "stream",
     "text": [
      "Train Confusion Matrix\n",
      "[[ 4794  5153]\n",
      " [ 1781 49713]]\n",
      "Test Confusion Matrix\n",
      "[[ 2002  2232]\n",
      " [  740 21358]]\n"
     ]
    },
    {
     "data": {
      "image/png": "[encoded data removed]",
      "text/plain": [
       "<Figure size 432x288 with 2 Axes>"
      ]
     },
     "metadata": {
      "needs_background": "light"
     },
     "output_type": "display_data"
    }
   ],
   "source": [
    "#Confusion Matrix\n",
    "print(\"Train Confusion Matrix\")\n",
    "print(confusion_matrix(Y_train, lr.predict(X_train_vec_standardized)))\n",
    "print(\"Test Confusion Matrix\")\n",
    "print(confusion_matrix(Y_test, lr.predict(X_test_vec_standardized)))\n",
    "cm_test=confusion_matrix(Y_test, lr.predict(X_test_vec_standardized))\n",
    "class_label = [\"negative\", \"positive\"]\n",
    "df_cm = pd.DataFrame(cm_test, index=class_label, columns=class_label)\n",
    "sns.heatmap(df_cm, annot = True, fmt = \"d\")\n",
    "plt.title(\"Confusion Matrix\")\n",
    "plt.xlabel(\"Predicted Label\")\n",
    "plt.ylabel(\"True Label\")\n",
    "plt.show()"
   ]
  },
  {
   "cell_type": "markdown",
   "metadata": {},
   "source": [
    "#### L1 reg(GridSearch CV)"
   ]
  },
  {
   "cell_type": "code",
   "execution_count": 84,
   "metadata": {},
   "outputs": [
    {
     "name": "stdout",
     "output_type": "stream",
     "text": [
      "Model with best parameters :\n",
      " LogisticRegression(C=10000, class_weight=None, dual=False, fit_intercept=True,\n",
      "          intercept_scaling=1, max_iter=100, multi_class='ovr', n_jobs=1,\n",
      "          penalty='l1', random_state=None, solver='liblinear', tol=0.0001,\n",
      "          verbose=0, warm_start=False)\n",
      "Accuracy of model :  0.887057572535\n",
      "The Optimal value Of C(1/lambda) is :  10000\n"
     ]
    }
   ],
   "source": [
    "tuned_parameters = [{'C': [10**-4, 10**-2, 10**0, 10**2, 10**4]}]\n",
    "#using GridSearchCv\n",
    "model = GridSearchCV(LogisticRegression(penalty='l1'), tuned_parameters, scoring='accuracy', cv=3, n_jobs=-1, pre_dispatch=2)\n",
    "model.fit(X_train_vec_standardized, Y_train)\n",
    "print(\"Model with best parameters :\\n\", model.best_estimator_)\n",
    "print(\"Accuracy of model : \", model.score(X_test_vec_standardized, Y_test))\n",
    "\n",
    "optimal_C = model.best_estimator_.C\n",
    "print(\"The Optimal value Of C(1/lambda) is : \", optimal_C)\n",
    "\n",
    "#Testing Logistic Regression with Optimal value of C:(1/lambda)\n",
    "lr = LogisticRegression(penalty='l1', C=optimal_C, n_jobs=-1)\n",
    "lr.fit(X_train_vec_standardized, Y_train)\n",
    "predictions = lr.predict(X_test_vec_standardized)\n",
    "\n",
    "#varibles will be used at conclusion part\n",
    "avg_w2v_l2_grid_C = optimal_C\n",
    "avg_w2v_l2_grid_train_acc = model.score(X_test_vec_standardized, Y_test)*100\n",
    "avg_w2v_l2_grid_test_acc = accuracy_score(Y_test, predictions) * 100"
   ]
  },
  {
   "cell_type": "code",
   "execution_count": 85,
   "metadata": {},
   "outputs": [
    {
     "name": "stdout",
     "output_type": "stream",
     "text": [
      "\n",
      "Test Accuracy Of Classifier C = 10000.000 is 88.705757%\n",
      "\n",
      "Test Precsion Of Classifier C = 10000.000 is 0.905341\n",
      "\n",
      "Test recall  Of Classifier C = 10000.000 is 0.966468\n",
      "\n",
      "Test F1-score  Of Classifier C = 10000.000 is 0.934906\n"
     ]
    }
   ],
   "source": [
    "#Evaluate Accuracy\n",
    "acc = accuracy_score(Y_test, predictions)* 100\n",
    "print('\\nTest Accuracy Of Classifier C = %.3f is %f%%' % (optimal_C, acc))\n",
    "\n",
    "#Evaluate Precision\n",
    "acc = precision_score(Y_test, predictions)\n",
    "print('\\nTest Precsion Of Classifier C = %.3f is %f' % (optimal_C, acc))\n",
    "\n",
    "#Evaluate Recall\n",
    "acc = recall_score(Y_test, predictions)\n",
    "print('\\nTest recall  Of Classifier C = %.3f is %f' % (optimal_C, acc))\n",
    "\n",
    "#Evaluate F1-score\n",
    "acc = f1_score(Y_test, predictions)\n",
    "print('\\nTest F1-score  Of Classifier C = %.3f is %f' % (optimal_C, acc))"
   ]
  },
  {
   "cell_type": "code",
   "execution_count": 86,
   "metadata": {},
   "outputs": [
    {
     "name": "stdout",
     "output_type": "stream",
     "text": [
      "Train Confusion Matrix\n",
      "[[ 4795  5152]\n",
      " [ 1781 49713]]\n",
      "Test Confusion Matrix\n",
      "[[ 2001  2233]\n",
      " [  741 21357]]\n"
     ]
    },
    {
     "data": {
      "image/png": "[encoded data removed]",
      "text/plain": [
       "<Figure size 432x288 with 2 Axes>"
      ]
     },
     "metadata": {
      "needs_background": "light"
     },
     "output_type": "display_data"
    }
   ],
   "source": [
    "#Confusion Matrix\n",
    "print(\"Train Confusion Matrix\")\n",
    "print(confusion_matrix(Y_train, lr.predict(X_train_vec_standardized)))\n",
    "print(\"Test Confusion Matrix\")\n",
    "print(confusion_matrix(Y_test, lr.predict(X_test_vec_standardized)))\n",
    "cm_test=confusion_matrix(Y_test, lr.predict(X_test_vec_standardized))\n",
    "class_label = [\"negative\", \"positive\"]\n",
    "df_cm = pd.DataFrame(cm_test, index=class_label, columns=class_label)\n",
    "sns.heatmap(df_cm, annot = True, fmt = \"d\")\n",
    "plt.title(\"Confusion Matrix\")\n",
    "plt.xlabel(\"Predicted Label\")\n",
    "plt.ylabel(\"True Label\")\n",
    "plt.show()"
   ]
  },
  {
   "cell_type": "markdown",
   "metadata": {},
   "source": [
    "#### Randomized Search CV implementation"
   ]
  },
  {
   "cell_type": "code",
   "execution_count": 87,
   "metadata": {},
   "outputs": [
    {
     "name": "stdout",
     "output_type": "stream",
     "text": [
      "Model with best parameters :\n",
      " LogisticRegression(C=3.9567484580891312, class_weight=None, dual=False,\n",
      "          fit_intercept=True, intercept_scaling=1, max_iter=100,\n",
      "          multi_class='ovr', n_jobs=1, penalty='l1', random_state=None,\n",
      "          solver='liblinear', tol=0.0001, verbose=0, warm_start=False)\n",
      "Accuracy of model :  0.887171502355\n",
      "The Optimal value Of C(1/lambda) is :  3.95674845809\n"
     ]
    }
   ],
   "source": [
    "from scipy.stats import uniform\n",
    "C = uniform(loc=0, scale=10)\n",
    "hyperparameters = dict(C=C)\n",
    "#Using Randomized Search\n",
    "model = RandomizedSearchCV(LogisticRegression(penalty='l1'), hyperparameters, scoring='accuracy', cv=3, n_jobs=-1, pre_dispatch=2)\n",
    "model.fit(X_train_vec_standardized, Y_train)\n",
    "print(\"Model with best parameters :\\n\", model.best_estimator_)\n",
    "print(\"Accuracy of model : \", model.score(X_test_vec_standardized, Y_test))\n",
    "\n",
    "optimal_C = model.best_estimator_.C\n",
    "print(\"The Optimal value Of C(1/lambda) is : \", optimal_C)\n",
    "\n",
    "#Testing Logistic Regression with Optimal value of C:(1/lambda)\n",
    "lr = LogisticRegression(penalty='l1', C=optimal_C, n_jobs=-1)\n",
    "lr.fit(X_train_vec_standardized, Y_train)\n",
    "predictions = lr.predict(X_test_vec_standardized)\n",
    "\n",
    "#varibles will be used at conclusion part\n",
    "avg_w2v_l1__random_C = optimal_C\n",
    "avg_w2v_l1__random_train_acc = model.score(X_test_vec_standardized, Y_test)*100\n",
    "avg_w2v_l1_random_test_acc = accuracy_score(Y_test, predictions) * 100"
   ]
  },
  {
   "cell_type": "code",
   "execution_count": 88,
   "metadata": {},
   "outputs": [
    {
     "name": "stdout",
     "output_type": "stream",
     "text": [
      "\n",
      "Test Accuracy Of Classifier C = 3.957 is 88.717150%\n",
      "\n",
      "Test Precsion Of Classifier C = 3.957 is 0.905388\n",
      "\n",
      "Test recall  Of Classifier C = 3.957 is 0.966558\n",
      "\n",
      "Test F1-score  Of Classifier C = 3.957 is 0.934973\n"
     ]
    }
   ],
   "source": [
    "#Evaluate Accuracy\n",
    "acc = accuracy_score(Y_test, predictions)* 100\n",
    "print('\\nTest Accuracy Of Classifier C = %.3f is %f%%' % (optimal_C, acc))\n",
    "\n",
    "#Evaluate Precision\n",
    "acc = precision_score(Y_test, predictions)\n",
    "print('\\nTest Precsion Of Classifier C = %.3f is %f' % (optimal_C, acc))\n",
    "\n",
    "#Evaluate Recall\n",
    "acc = recall_score(Y_test, predictions)\n",
    "print('\\nTest recall  Of Classifier C = %.3f is %f' % (optimal_C, acc))\n",
    "\n",
    "#Evaluate F1-score\n",
    "acc = f1_score(Y_test, predictions)\n",
    "print('\\nTest F1-score  Of Classifier C = %.3f is %f' % (optimal_C, acc))"
   ]
  },
  {
   "cell_type": "code",
   "execution_count": 89,
   "metadata": {},
   "outputs": [
    {
     "name": "stdout",
     "output_type": "stream",
     "text": [
      "Train Confusion Matrix\n",
      "[[ 4794  5153]\n",
      " [ 1782 49712]]\n",
      "Test Confusion Matrix\n",
      "[[ 2002  2232]\n",
      " [  739 21359]]\n"
     ]
    },
    {
     "data": {
      "image/png": "[encoded data removed]",
      "text/plain": [
       "<Figure size 432x288 with 2 Axes>"
      ]
     },
     "metadata": {
      "needs_background": "light"
     },
     "output_type": "display_data"
    }
   ],
   "source": [
    "#Confusion Matrix\n",
    "print(\"Train Confusion Matrix\")\n",
    "print(confusion_matrix(Y_train, lr.predict(X_train_vec_standardized)))\n",
    "print(\"Test Confusion Matrix\")\n",
    "print(confusion_matrix(Y_test, lr.predict(X_test_vec_standardized)))\n",
    "cm_test=confusion_matrix(Y_test, lr.predict(X_test_vec_standardized))\n",
    "class_label = [\"negative\", \"positive\"]\n",
    "df_cm = pd.DataFrame(cm_test, index=class_label, columns=class_label)\n",
    "sns.heatmap(df_cm, annot = True, fmt = \"d\")\n",
    "plt.title(\"Confusion Matrix\")\n",
    "plt.xlabel(\"Predicted Label\")\n",
    "plt.ylabel(\"True Label\")\n",
    "plt.show()"
   ]
  },
  {
   "cell_type": "markdown",
   "metadata": {},
   "source": [
    "#### Observation:\n",
    "* Model is performing well on unseen data, with an AUC of 0.88% , considering time split is helpfull by training data \n",
    "  on unseen data points.\n",
    "* Using GridSearchCV and Random SearchCV of L1, L2 reg\n",
    "* Compare to other models TFIDF is also performing well with the above datapoints."
   ]
  },
  {
   "cell_type": "code",
   "execution_count": 44,
   "metadata": {
    "colab": {},
    "colab_type": "code",
    "id": "yCQ_4iJkLPpj"
   },
   "outputs": [
    {
     "name": "stderr",
     "output_type": "stream",
     "text": [
      "100%|███████████████████████████████████████████████████████████████████████████| 43008/43008 [01:53<00:00, 412.11it/s]\n"
     ]
    },
    {
     "name": "stdout",
     "output_type": "stream",
     "text": [
      "43008\n",
      "50\n"
     ]
    },
    {
     "name": "stderr",
     "output_type": "stream",
     "text": [
      "100%|███████████████████████████████████████████████████████████████████████████| 18433/18433 [00:44<00:00, 416.94it/s]\n"
     ]
    },
    {
     "name": "stdout",
     "output_type": "stream",
     "text": [
      "0\n"
     ]
    },
    {
     "name": "stderr",
     "output_type": "stream",
     "text": [
      "100%|███████████████████████████████████████████████████████████████████████████| 26332/26332 [00:57<00:00, 461.00it/s]\n"
     ]
    },
    {
     "name": "stdout",
     "output_type": "stream",
     "text": [
      "26332\n",
      "50\n"
     ]
    }
   ],
   "source": [
    "# Please write all the code with proper documentation\n",
    "#Word2Vec for train\n",
    "i=0\n",
    "list_of_sentance_tr=[]\n",
    "for sentance in X_tr:\n",
    "    list_of_sentance_tr.append(sentance.split())\n",
    "w2v_model = Word2Vec(list_of_sentance_tr,min_count=5,size=50,workers=4)\n",
    "w2v_words = list(w2v_model.wv.vocab)\n",
    "sent_vectors_tr = []; # the avg-w2v for each sentence/review is stored in this list\n",
    "for sent in tqdm(list_of_sentance_tr): # for each review/sentence\n",
    "    sent_vec = np.zeros(50) # as word vectors are of zero length 50, you might need to change this to 300 if you use google's w2v\n",
    "    cnt_words =0; # num of words with a valid vector in the sentence/review\n",
    "    for word in sent: # for each word in a review/sentence\n",
    "        if word in w2v_words:\n",
    "            vec = w2v_model.wv[word]\n",
    "            sent_vec += vec\n",
    "            cnt_words += 1\n",
    "    if cnt_words != 0:\n",
    "        sent_vec /= cnt_words\n",
    "    sent_vectors_tr.append(sent_vec)\n",
    "print(len(sent_vectors_tr))\n",
    "print(len(sent_vectors_tr[0]))\n",
    "\n",
    "#For cross validation we can use same word2vec model\n",
    "list_of_sentance_cv=[]\n",
    "for sentance in X_cv:\n",
    "    list_of_sentance_cv.append(sentance.split())\n",
    "w2v_model = Word2Vec(list_of_sentance_cv,min_count=5,size=50,workers=4)\n",
    "w2v_words = list(w2v_model.wv.vocab)\n",
    "sent_vectors_cv = []; # the avg-w2v for each sentence/review is stored in this list\n",
    "for sent in tqdm(list_of_sentance_cv): # for each review/sentence\n",
    "    sent_vec = np.zeros(50) # as word vectors are of zero length 50, you might need to change this to 300 if you use google's w2v\n",
    "    cnt_words =0; # num of words with a valid vector in the sentence/review\n",
    "    for word in sent: # for each word in a review/sentence\n",
    "        if word in w2v_words:\n",
    "            vec = w2v_model.wv[word]\n",
    "            sent_vec += vec\n",
    "            cnt_words += 1\n",
    "    if cnt_words != 0:\n",
    "        sent_vec /= cnt_words\n",
    "    sent_vectors_tr.append(sent_vec)\n",
    "print(len(sent_vectors_cv))\n",
    "\n",
    "#for test data\n",
    "list_of_sentance_test=[]\n",
    "for sentance in X_test:\n",
    "    list_of_sentance_test.append(sentance.split())\n",
    "w2v_model = Word2Vec(list_of_sentance_test,min_count=5,size=50,workers=4)\n",
    "w2v_words = list(w2v_model.wv.vocab)\n",
    "sent_vectors_test = []; # the avg-w2v for each sentence/review is stored in this list\n",
    "for sent in tqdm(list_of_sentance_test): # for each review/sentence\n",
    "    sent_vec = np.zeros(50) # as word vectors are of zero length 50, you might need to change this to 300 if you use google's w2v\n",
    "    cnt_words =0; # num of words with a valid vector in the sentence/review\n",
    "    for word in sent: # for each word in a review/sentence\n",
    "        if word in w2v_words:\n",
    "            vec = w2v_model.wv[word]\n",
    "            sent_vec += vec\n",
    "            cnt_words += 1\n",
    "    if cnt_words != 0:\n",
    "        sent_vec /= cnt_words\n",
    "    sent_vectors_test.append(sent_vec)\n",
    "print(len(sent_vectors_test))\n",
    "print(len(sent_vectors_test[0]))"
   ]
  },
  {
   "cell_type": "markdown",
   "metadata": {
    "colab_type": "text",
    "id": "O_8Gu2SfLPpn"
   },
   "source": [
    "### [5.3.2] Applying Logistic Regression with L2 regularization on AVG W2V,<font color='red'> SET 3</font>"
   ]
  },
  {
   "cell_type": "code",
   "execution_count": null,
   "metadata": {
    "colab": {},
    "colab_type": "code",
    "id": "Zy3s4jk1LPpn"
   },
   "outputs": [],
   "source": [
    "# Please write all the code with proper documentation\n",
    "X_train_w2v=sent_vectors_tr\n",
    "X_cv_w2v=sent_vectors_cv\n",
    "X_test_w2v=sent_vectors_test\n",
    "\n",
    "C = [10**-3, 10**-2, 10**0, 10**2,10**3,10**4]#C=1/lambda\n",
    "auc_train=[]\n",
    "auc_cv=[]\n",
    "for c in C:\n",
    "    lr=LogisticRegression(penalty='l1',C=c)\n",
    "    lr.fit(X_train_w2v,y_tr)\n",
    "    probcv=lr.predict_proba(X_cv_w2v)[:,1]\n",
    "    auc_cv.append(roc_auc_score(y_cv,probcv))\n",
    "    probtr=lr.predict_proba(X_train_w2v)[:,1]\n",
    "    auc_train.append(roc_auc_score(y_tr,probtr))\n",
    "optimal_c= C[auc_cv.index(max(auc_cv))]\n",
    "C=[math.log(x) for x in C]#converting values of C into logarithm\n",
    "fig = plt.figure()\n",
    "ax = plt.subplot(111)\n",
    "ax.plot(C, auc_train, label='AUC train')\n",
    "ax.plot(C, auc_cv, label='AUC CV')\n",
    "plt.title('AUC vs hyperparameter')\n",
    "plt.xlabel('C (1/lambda)')\n",
    "plt.ylabel('AUC')\n",
    "ax.legend()\n",
    "plt.show()\n",
    "print('optimal lambda for which auc is maximum : ',1//optimal_c)"
   ]
  },
  {
   "cell_type": "markdown",
   "metadata": {
    "colab_type": "text",
    "id": "pdXTwVIPLPpp"
   },
   "source": [
    "## [5.4] Logistic Regression on TFIDF W2V,<font color='red'> SET 4</font>"
   ]
  },
  {
   "cell_type": "markdown",
   "metadata": {
    "colab_type": "text",
    "id": "WP9NjwNSLPpp"
   },
   "source": [
    "### [5.4.1] Applying Logistic Regression with L1 regularization on TFIDF W2V,<font color='red'> SET 4</font>"
   ]
  },
  {
   "cell_type": "code",
   "execution_count": 151,
   "metadata": {
    "colab": {},
    "colab_type": "code",
    "id": "207gYymwLPpq"
   },
   "outputs": [
    {
     "name": "stdout",
     "output_type": "stream",
     "text": [
      "(87773, 11)\n"
     ]
    }
   ],
   "source": [
    "# Please write all the code with proper documentation\n",
    "# collect different 100k rows without repetition from time_sorted_data DataFrfame\n",
    "my_final = time_sorted_data.take(np.random.permutation(len(final))[:100000])\n",
    "print(my_final.shape)\n",
    "\n",
    "x = my_final['cleanedText'].values\n",
    "y = my_final['Score']\n",
    "#SPlit the dataset into Train and Test\n",
    "X_train,X_test,Y_train,Y_test=train_test_split(x, y, test_size=0.3, random_state=0)\n",
    "\n",
    "#List of sentance in X_train text\n",
    "sent_of_train = []\n",
    "for sent in X_train:\n",
    "    sent_of_train.append(sent.split())\n",
    "    \n",
    "#List of sentance in X_test text\n",
    "sent_of_test = []\n",
    "for sent in X_test:\n",
    "    sent_of_test.append(sent.split())\n",
    "#Train your own text corpus WOrd2Vec\n",
    "w2v_model = Word2Vec(sent_of_train,min_count=5,size=50,workers=4)   \n",
    "w2v_words = list(w2v_model.wv.vocab)"
   ]
  },
  {
   "cell_type": "code",
   "execution_count": 152,
   "metadata": {},
   "outputs": [],
   "source": [
    "#TF-IDF weighted word2vec\n",
    "tf_idf_vect = TfidfVectorizer()\n",
    "final_tf_idf1 = tf_idf_vect.fit_transform(X_train)\n",
    "tfidf_feat=tf_idf_vect.get_feature_names()"
   ]
  },
  {
   "cell_type": "markdown",
   "metadata": {
    "colab_type": "text",
    "id": "ynUK2tYDLPps"
   },
   "source": [
    "### [5.4.2] Applying Logistic Regression with L2 regularization on TFIDF W2V,<font color='red'> SET 4</font>"
   ]
  },
  {
   "cell_type": "code",
   "execution_count": 166,
   "metadata": {},
   "outputs": [],
   "source": [
    "#compute TFIDF weighted word2vec of each review of X_train\n",
    "#copute AvgWord2Vec for each review of X_train\n",
    "tfidf_train_vectors = [];\n",
    "row=0;\n",
    "for sent in sent_of_train:\n",
    "    sent_vec = np.zeros(50)\n",
    "    weight_sum =0; # num of words with a valid vector in the sentence/review\n",
    "    for word in sent: # for each word in a review/sentence\n",
    "        if word in w2v_words:\n",
    "            vec = w2v_model.wv[word]\n",
    "            tf_idf = final_tf_idf1[row, tfidf_feat.index(word)]\n",
    "            sent_vec += (vec * tf_idf)\n",
    "            weight_sum += tf_idf\n",
    "    if weight_sum != 0:\n",
    "        sent_vec /= weight_sum\n",
    "    tfidf_train_vectors.append(sent_vec)\n",
    "    row += 1  "
   ]
  },
  {
   "cell_type": "code",
   "execution_count": 167,
   "metadata": {},
   "outputs": [],
   "source": [
    "tfidf_test_vectors = [];\n",
    "row=0;\n",
    "for sent in sent_of_test:\n",
    "    sent_vec = np.zeros(50)\n",
    "    weight_sum =0; # num of words with a valid vector in the sentence/review\n",
    "    for word in sent: # for each word in a review/sentence\n",
    "        if word in w2v_words:\n",
    "            vec = w2v_model.wv[word]\n",
    "            tf_idf = final_tf_idf1[row, tfidf_feat.index(word)]\n",
    "            sent_vec += (vec * tf_idf)\n",
    "            weight_sum += tf_idf\n",
    "    if weight_sum != 0:\n",
    "        sent_vec /= weight_sum\n",
    "    tfidf_test_vectors.append(sent_vec)\n",
    "    row += 1  \n",
    "#Standardizing\n",
    "sc = StandardScaler()\n",
    "X_train_vec_standardized = sc.fit_transform(tfidf_train_vectors)\n",
    "X_test_vec_standardized = sc.transform(tfidf_test_vectors)"
   ]
  },
  {
   "cell_type": "markdown",
   "metadata": {},
   "source": [
    "#### GridSearch CV implementation"
   ]
  },
  {
   "cell_type": "code",
   "execution_count": 168,
   "metadata": {
    "colab": {},
    "colab_type": "code",
    "id": "hVYuiXl2LPpt"
   },
   "outputs": [
    {
     "name": "stdout",
     "output_type": "stream",
     "text": [
      "Model with best parameters :\n",
      " LogisticRegression(C=10000, class_weight=None, dual=False, fit_intercept=True,\n",
      "          intercept_scaling=1, max_iter=100, multi_class='ovr', n_jobs=1,\n",
      "          penalty='l2', random_state=None, solver='liblinear', tol=0.0001,\n",
      "          verbose=0, warm_start=False)\n",
      "Accuracy of model :  0.561142336321\n",
      "The Optimal value Of C(1/lambda) is :  10000\n"
     ]
    }
   ],
   "source": [
    "# Please write all the code with proper documentation\n",
    "tuned_parameters = [{'C': [10**-4, 10**-2, 10**0, 10**2, 10**4]}]\n",
    "#using GridSearchCv\n",
    "model = GridSearchCV(LogisticRegression(penalty='l2'), tuned_parameters, scoring='accuracy', cv=3, n_jobs=-1, pre_dispatch=2)\n",
    "model.fit(X_train_vec_standardized, Y_train)\n",
    "print(\"Model with best parameters :\\n\", model.best_estimator_)\n",
    "print(\"Accuracy of model : \", model.score(X_test_vec_standardized, Y_test))\n",
    "\n",
    "optimal_C = model.best_estimator_.C\n",
    "print(\"The Optimal value Of C(1/lambda) is : \", optimal_C)\n",
    "\n",
    "#Testing Logistic Regression with Optimal value of C:(1/lambda)\n",
    "lr = LogisticRegression(penalty='l2', C=optimal_C, n_jobs=-1)\n",
    "lr.fit(X_train_vec_standardized, Y_train)\n",
    "predictions = lr.predict(X_test_vec_standardized)\n",
    "\n",
    "#varibles will be used at conclusion part\n",
    "tfidf_w2v_l2_grid_C = optimal_C\n",
    "tfidf_w2v_l2_grid_train_acc = model.score(X_test_vec_standardized, Y_test)*100\n",
    "tfidf_w2v_l2_grid_test_acc = accuracy_score(Y_test, predictions) * 100"
   ]
  },
  {
   "cell_type": "code",
   "execution_count": 169,
   "metadata": {},
   "outputs": [
    {
     "name": "stdout",
     "output_type": "stream",
     "text": [
      "\n",
      "Test Accuracy Of Classifier C = 10000.000 is 56.114234%\n",
      "\n",
      "Test Precsion Of Classifier C = 10000.000 is 0.870239\n",
      "\n",
      "Test recall  Of Classifier C = 10000.000 is 0.562652\n",
      "\n",
      "Test F1-score  Of Classifier C = 10000.000 is 0.683432\n"
     ]
    }
   ],
   "source": [
    "#Evaluate Accuracy\n",
    "acc = accuracy_score(Y_test, predictions)* 100\n",
    "print('\\nTest Accuracy Of Classifier C = %.3f is %f%%' % (optimal_C, acc))\n",
    "\n",
    "#Evaluate Precision\n",
    "acc = precision_score(Y_test, predictions)\n",
    "print('\\nTest Precsion Of Classifier C = %.3f is %f' % (optimal_C, acc))\n",
    "\n",
    "#Evaluate Recall\n",
    "acc = recall_score(Y_test, predictions)\n",
    "print('\\nTest recall  Of Classifier C = %.3f is %f' % (optimal_C, acc))\n",
    "\n",
    "#Evaluate F1-score\n",
    "acc = f1_score(Y_test, predictions)\n",
    "print('\\nTest F1-score  Of Classifier C = %.3f is %f' % (optimal_C, acc))"
   ]
  },
  {
   "cell_type": "code",
   "execution_count": 170,
   "metadata": {},
   "outputs": [
    {
     "name": "stdout",
     "output_type": "stream",
     "text": [
      "Train Confusion Matrix\n",
      "[[ 4005  6014]\n",
      " [ 1722 49700]]\n",
      "Test Confusion Matrix\n",
      "[[ 2302  1860]\n",
      " [ 9696 12474]]\n"
     ]
    },
    {
     "data": {
      "image/png": "[encoded data removed]",
      "text/plain": [
       "<Figure size 432x288 with 2 Axes>"
      ]
     },
     "metadata": {
      "needs_background": "light"
     },
     "output_type": "display_data"
    }
   ],
   "source": [
    "#Confusion Matrix\n",
    "print(\"Train Confusion Matrix\")\n",
    "print(confusion_matrix(Y_train, lr.predict(X_train_vec_standardized)))\n",
    "print(\"Test Confusion Matrix\")\n",
    "print(confusion_matrix(Y_test, lr.predict(X_test_vec_standardized)))\n",
    "cm_test=confusion_matrix(Y_test, lr.predict(X_test_vec_standardized))\n",
    "class_label = [\"negative\", \"positive\"]\n",
    "df_cm = pd.DataFrame(cm_test, index=class_label, columns=class_label)\n",
    "sns.heatmap(df_cm, annot = True, fmt = \"d\")\n",
    "plt.title(\"Confusion Matrix\")\n",
    "plt.xlabel(\"Predicted Label\")\n",
    "plt.ylabel(\"True Label\")\n",
    "plt.show()"
   ]
  },
  {
   "cell_type": "markdown",
   "metadata": {},
   "source": [
    "#### RandomizedSearch CV"
   ]
  },
  {
   "cell_type": "code",
   "execution_count": 171,
   "metadata": {},
   "outputs": [
    {
     "name": "stdout",
     "output_type": "stream",
     "text": [
      "Model with best parameters :\n",
      " LogisticRegression(C=7.3240061567146064, class_weight=None, dual=False,\n",
      "          fit_intercept=True, intercept_scaling=1, max_iter=100,\n",
      "          multi_class='ovr', n_jobs=1, penalty='l2', random_state=None,\n",
      "          solver='liblinear', tol=0.0001, verbose=0, warm_start=False)\n",
      "Accuracy of model :  0.561142336321\n",
      "The Optimal value Of C(1/lambda) is :  7.32400615671\n"
     ]
    }
   ],
   "source": [
    "from scipy.stats import uniform\n",
    "C = uniform(loc=0, scale=10)\n",
    "hyperparameters = dict(C=C)\n",
    "#Using Randomized Search\n",
    "model = RandomizedSearchCV(LogisticRegression(penalty='l2'), hyperparameters, scoring='accuracy', cv=3, n_jobs=-1, pre_dispatch=2)\n",
    "model.fit(X_train_vec_standardized, Y_train)\n",
    "print(\"Model with best parameters :\\n\", model.best_estimator_)\n",
    "print(\"Accuracy of model : \", model.score(X_test_vec_standardized, Y_test))\n",
    "\n",
    "optimal_C = model.best_estimator_.C\n",
    "print(\"The Optimal value Of C(1/lambda) is : \", optimal_C)\n",
    "\n",
    "#Testing Logistic Regression with Optimal value of C:(1/lambda)\n",
    "lr = LogisticRegression(penalty='l2', C=optimal_C, n_jobs=-1)\n",
    "lr.fit(X_train_vec_standardized, Y_train)\n",
    "predictions = lr.predict(X_test_vec_standardized)\n",
    "\n",
    "#varibles will be used at conclusion part\n",
    "tfidf_w2v_l2__random_C = optimal_C\n",
    "tfidf_w2v_l2__random_train_acc = model.score(X_test_vec_standardized, Y_test)*100\n",
    "tfidf_w2v_l2_random_test_acc = accuracy_score(Y_test, predictions) * 100"
   ]
  },
  {
   "cell_type": "code",
   "execution_count": 172,
   "metadata": {},
   "outputs": [
    {
     "name": "stdout",
     "output_type": "stream",
     "text": [
      "\n",
      "Test Accuracy Of Classifier C = 7.324 is 56.114234%\n",
      "\n",
      "Test Precsion Of Classifier C = 7.324 is 0.870239\n",
      "\n",
      "Test recall  Of Classifier C = 7.324 is 0.562652\n",
      "\n",
      "Test F1-score  Of Classifier C = 7.324 is 0.683432\n"
     ]
    }
   ],
   "source": [
    "#Evaluate Accuracy\n",
    "acc = accuracy_score(Y_test, predictions)* 100\n",
    "print('\\nTest Accuracy Of Classifier C = %.3f is %f%%' % (optimal_C, acc))\n",
    "\n",
    "#Evaluate Precision\n",
    "acc = precision_score(Y_test, predictions)\n",
    "print('\\nTest Precsion Of Classifier C = %.3f is %f' % (optimal_C, acc))\n",
    "\n",
    "#Evaluate Recall\n",
    "acc = recall_score(Y_test, predictions)\n",
    "print('\\nTest recall  Of Classifier C = %.3f is %f' % (optimal_C, acc))\n",
    "\n",
    "#Evaluate F1-score\n",
    "acc = f1_score(Y_test, predictions)\n",
    "print('\\nTest F1-score  Of Classifier C = %.3f is %f' % (optimal_C, acc))"
   ]
  },
  {
   "cell_type": "code",
   "execution_count": 173,
   "metadata": {},
   "outputs": [
    {
     "name": "stdout",
     "output_type": "stream",
     "text": [
      "Train Confusion Matrix\n",
      "[[ 4005  6014]\n",
      " [ 1722 49700]]\n",
      "Test Confusion Matrix\n",
      "[[ 2302  1860]\n",
      " [ 9696 12474]]\n"
     ]
    },
    {
     "data": {
      "image/png": "[encoded data removed]",
      "text/plain": [
       "<Figure size 432x288 with 2 Axes>"
      ]
     },
     "metadata": {
      "needs_background": "light"
     },
     "output_type": "display_data"
    }
   ],
   "source": [
    "#Confusion Matrix\n",
    "print(\"Train Confusion Matrix\")\n",
    "print(confusion_matrix(Y_train, lr.predict(X_train_vec_standardized)))\n",
    "print(\"Test Confusion Matrix\")\n",
    "print(confusion_matrix(Y_test, lr.predict(X_test_vec_standardized)))\n",
    "cm_test=confusion_matrix(Y_test, lr.predict(X_test_vec_standardized))\n",
    "class_label = [\"negative\", \"positive\"]\n",
    "df_cm = pd.DataFrame(cm_test, index=class_label, columns=class_label)\n",
    "sns.heatmap(df_cm, annot = True, fmt = \"d\")\n",
    "plt.title(\"Confusion Matrix\")\n",
    "plt.xlabel(\"Predicted Label\")\n",
    "plt.ylabel(\"True Label\")\n",
    "plt.show()"
   ]
  },
  {
   "cell_type": "markdown",
   "metadata": {},
   "source": [
    "#### L1 Reguralization(GridSearchCV)"
   ]
  },
  {
   "cell_type": "code",
   "execution_count": 174,
   "metadata": {},
   "outputs": [
    {
     "name": "stdout",
     "output_type": "stream",
     "text": [
      "Model with best parameters :\n",
      " LogisticRegression(C=100, class_weight=None, dual=False, fit_intercept=True,\n",
      "          intercept_scaling=1, max_iter=100, multi_class='ovr', n_jobs=1,\n",
      "          penalty='l1', random_state=None, solver='liblinear', tol=0.0001,\n",
      "          verbose=0, warm_start=False)\n",
      "Accuracy of model :  0.561142336321\n",
      "The Optimal value Of C(1/lambda) is :  100\n"
     ]
    }
   ],
   "source": [
    "# Please write all the code with proper documentation\n",
    "tuned_parameters = [{'C': [10**-4, 10**-2, 10**0, 10**2, 10**4]}]\n",
    "#using GridSearchCv\n",
    "model = GridSearchCV(LogisticRegression(penalty='l1'), tuned_parameters, scoring='accuracy', cv=3, n_jobs=-1, pre_dispatch=2)\n",
    "model.fit(X_train_vec_standardized, Y_train)\n",
    "print(\"Model with best parameters :\\n\", model.best_estimator_)\n",
    "print(\"Accuracy of model : \", model.score(X_test_vec_standardized, Y_test))\n",
    "\n",
    "optimal_C = model.best_estimator_.C\n",
    "print(\"The Optimal value Of C(1/lambda) is : \", optimal_C)\n",
    "\n",
    "#Testing Logistic Regression with Optimal value of C:(1/lambda)\n",
    "lr = LogisticRegression(penalty='l1', C=optimal_C, n_jobs=-1)\n",
    "lr.fit(X_train_vec_standardized, Y_train)\n",
    "predictions = lr.predict(X_test_vec_standardized)\n",
    "\n",
    "#varibles will be used at conclusion part\n",
    "tfidf_w2v_l1_grid_C = optimal_C\n",
    "tfidf_w2v_l1_grid_train_acc = model.score(X_test_vec_standardized, Y_test)*100\n",
    "tfidf_w2v_l1_grid_test_acc = accuracy_score(Y_test, predictions) * 100"
   ]
  },
  {
   "cell_type": "code",
   "execution_count": 175,
   "metadata": {},
   "outputs": [
    {
     "name": "stdout",
     "output_type": "stream",
     "text": [
      "\n",
      "Test Accuracy Of Classifier C = 100.000 is 56.114234%\n",
      "\n",
      "Test Precsion Of Classifier C = 100.000 is 0.870239\n",
      "\n",
      "Test recall  Of Classifier C = 100.000 is 0.562652\n",
      "\n",
      "Test F1-score  Of Classifier C = 100.000 is 0.683432\n"
     ]
    }
   ],
   "source": [
    "#Evaluate Accuracy\n",
    "acc = accuracy_score(Y_test, predictions)* 100\n",
    "print('\\nTest Accuracy Of Classifier C = %.3f is %f%%' % (optimal_C, acc))\n",
    "\n",
    "#Evaluate Precision\n",
    "acc = precision_score(Y_test, predictions)\n",
    "print('\\nTest Precsion Of Classifier C = %.3f is %f' % (optimal_C, acc))\n",
    "\n",
    "#Evaluate Recall\n",
    "acc = recall_score(Y_test, predictions)\n",
    "print('\\nTest recall  Of Classifier C = %.3f is %f' % (optimal_C, acc))\n",
    "\n",
    "#Evaluate F1-score\n",
    "acc = f1_score(Y_test, predictions)\n",
    "print('\\nTest F1-score  Of Classifier C = %.3f is %f' % (optimal_C, acc))"
   ]
  },
  {
   "cell_type": "code",
   "execution_count": 176,
   "metadata": {},
   "outputs": [
    {
     "name": "stdout",
     "output_type": "stream",
     "text": [
      "Train Confusion Matrix\n",
      "[[ 4005  6014]\n",
      " [ 1722 49700]]\n",
      "Test Confusion Matrix\n",
      "[[ 2302  1860]\n",
      " [ 9696 12474]]\n"
     ]
    },
    {
     "data": {
      "image/png": "[encoded data removed]",
      "text/plain": [
       "<Figure size 432x288 with 2 Axes>"
      ]
     },
     "metadata": {
      "needs_background": "light"
     },
     "output_type": "display_data"
    }
   ],
   "source": [
    "#Confusion Matrix\n",
    "print(\"Train Confusion Matrix\")\n",
    "print(confusion_matrix(Y_train, lr.predict(X_train_vec_standardized)))\n",
    "print(\"Test Confusion Matrix\")\n",
    "print(confusion_matrix(Y_test, lr.predict(X_test_vec_standardized)))\n",
    "cm_test=confusion_matrix(Y_test, lr.predict(X_test_vec_standardized))\n",
    "class_label = [\"negative\", \"positive\"]\n",
    "df_cm = pd.DataFrame(cm_test, index=class_label, columns=class_label)\n",
    "sns.heatmap(df_cm, annot = True, fmt = \"d\")\n",
    "plt.title(\"Confusion Matrix\")\n",
    "plt.xlabel(\"Predicted Label\")\n",
    "plt.ylabel(\"True Label\")\n",
    "plt.show()"
   ]
  },
  {
   "cell_type": "markdown",
   "metadata": {},
   "source": [
    "#### RandomizedSearch CV"
   ]
  },
  {
   "cell_type": "code",
   "execution_count": 177,
   "metadata": {},
   "outputs": [
    {
     "name": "stdout",
     "output_type": "stream",
     "text": [
      "Model with best parameters :\n",
      " LogisticRegression(C=6.5337095660713036, class_weight=None, dual=False,\n",
      "          fit_intercept=True, intercept_scaling=1, max_iter=100,\n",
      "          multi_class='ovr', n_jobs=1, penalty='l1', random_state=None,\n",
      "          solver='liblinear', tol=0.0001, verbose=0, warm_start=False)\n",
      "Accuracy of model :  0.561180312927\n",
      "The Optimal value Of C(1/lambda) is :  6.53370956607\n"
     ]
    }
   ],
   "source": [
    "from scipy.stats import uniform\n",
    "C = uniform(loc=0, scale=10)\n",
    "hyperparameters = dict(C=C)\n",
    "#Using Randomized Search\n",
    "model = RandomizedSearchCV(LogisticRegression(penalty='l1'), hyperparameters, scoring='accuracy', cv=3, n_jobs=-1, pre_dispatch=2)\n",
    "model.fit(X_train_vec_standardized, Y_train)\n",
    "print(\"Model with best parameters :\\n\", model.best_estimator_)\n",
    "print(\"Accuracy of model : \", model.score(X_test_vec_standardized, Y_test))\n",
    "\n",
    "optimal_C = model.best_estimator_.C\n",
    "print(\"The Optimal value Of C(1/lambda) is : \", optimal_C)\n",
    "\n",
    "#Testing Logistic Regression with Optimal value of C:(1/lambda)\n",
    "lr = LogisticRegression(penalty='l1', C=optimal_C, n_jobs=-1)\n",
    "lr.fit(X_train_vec_standardized, Y_train)\n",
    "predictions = lr.predict(X_test_vec_standardized)\n",
    "\n",
    "#varibles will be used at conclusion part\n",
    "tfidf_w2v_l1__random_C = optimal_C\n",
    "tfidf_w2v_l1__random_train_acc = model.score(X_test_vec_standardized, Y_test)*100\n",
    "tfidf_w2v_l1_random_test_acc = accuracy_score(Y_test, predictions) * 100"
   ]
  },
  {
   "cell_type": "code",
   "execution_count": 178,
   "metadata": {},
   "outputs": [
    {
     "name": "stdout",
     "output_type": "stream",
     "text": [
      "\n",
      "Test Accuracy Of Classifier C = 6.534 is 56.118031%\n",
      "\n",
      "Test Precsion Of Classifier C = 6.534 is 0.870248\n",
      "\n",
      "Test recall  Of Classifier C = 6.534 is 0.562697\n",
      "\n",
      "Test F1-score  Of Classifier C = 6.534 is 0.683468\n"
     ]
    }
   ],
   "source": [
    "#Evaluate Accuracy\n",
    "acc = accuracy_score(Y_test, predictions)* 100\n",
    "print('\\nTest Accuracy Of Classifier C = %.3f is %f%%' % (optimal_C, acc))\n",
    "\n",
    "#Evaluate Precision\n",
    "acc = precision_score(Y_test, predictions)\n",
    "print('\\nTest Precsion Of Classifier C = %.3f is %f' % (optimal_C, acc))\n",
    "\n",
    "#Evaluate Recall\n",
    "acc = recall_score(Y_test, predictions)\n",
    "print('\\nTest recall  Of Classifier C = %.3f is %f' % (optimal_C, acc))\n",
    "\n",
    "#Evaluate F1-score\n",
    "acc = f1_score(Y_test, predictions)\n",
    "print('\\nTest F1-score  Of Classifier C = %.3f is %f' % (optimal_C, acc))"
   ]
  },
  {
   "cell_type": "code",
   "execution_count": 179,
   "metadata": {},
   "outputs": [
    {
     "name": "stdout",
     "output_type": "stream",
     "text": [
      "Train Confusion Matrix\n",
      "[[ 4004  6015]\n",
      " [ 1722 49700]]\n",
      "Test Confusion Matrix\n",
      "[[ 2302  1860]\n",
      " [ 9695 12475]]\n"
     ]
    },
    {
     "data": {
      "image/png": "[encoded data removed]",
      "text/plain": [
       "<Figure size 432x288 with 2 Axes>"
      ]
     },
     "metadata": {
      "needs_background": "light"
     },
     "output_type": "display_data"
    }
   ],
   "source": [
    "#Confusion Matrix\n",
    "print(\"Train Confusion Matrix\")\n",
    "print(confusion_matrix(Y_train, lr.predict(X_train_vec_standardized)))\n",
    "print(\"Test Confusion Matrix\")\n",
    "print(confusion_matrix(Y_test, lr.predict(X_test_vec_standardized)))\n",
    "cm_test=confusion_matrix(Y_test, lr.predict(X_test_vec_standardized))\n",
    "class_label = [\"negative\", \"positive\"]\n",
    "df_cm = pd.DataFrame(cm_test, index=class_label, columns=class_label)\n",
    "sns.heatmap(df_cm, annot = True, fmt = \"d\")\n",
    "plt.title(\"Confusion Matrix\")\n",
    "plt.xlabel(\"Predicted Label\")\n",
    "plt.ylabel(\"True Label\")\n",
    "plt.show()"
   ]
  },
  {
   "cell_type": "markdown",
   "metadata": {
    "colab_type": "text",
    "id": "nOvsBNf2LPpv"
   },
   "source": [
    "# [6] Conclusions"
   ]
  },
  {
   "cell_type": "code",
   "execution_count": 188,
   "metadata": {
    "colab": {},
    "colab_type": "code",
    "id": "T7VxD0q2LPpw"
   },
   "outputs": [
    {
     "name": "stdout",
     "output_type": "stream",
     "text": [
      "+----------------+---------------------+-----------------------+-------+\n",
      "|   Vectorizer   | Feature Engineering | Hyperparameter(Alpha) |  AUC  |\n",
      "+----------------+---------------------+-----------------------+-------+\n",
      "|      BOW       |   GridSearchCV L2   |          0.01         |  0.91 |\n",
      "|     TFDIF      |  RandomSearchCV L2  |          0.01         | 0.931 |\n",
      "|  AVG Word2Vec  |   GridSearchCV L1   |          0.1          | 0.931 |\n",
      "| TFDIF Word2Vec |  RandomSearchCV L1  |          100          |  0.56 |\n",
      "|      BOW       |   GridSearchCV L1   |           1           | 0.917 |\n",
      "|     TFIDF      |  RandomSearchCV L1  |          0.1          | 0.959 |\n",
      "|  AVG Word2Vec  |   GridSearchCV L2   |         10000         | 0.931 |\n",
      "| TFDIF Word2Vec |  RandomSearchCV L2  |          100          | 0.561 |\n",
      "+----------------+---------------------+-----------------------+-------+\n"
     ]
    }
   ],
   "source": [
    "# Please compare all your models using Prettytable library\n",
    "from prettytable import PrettyTable\n",
    "x = PrettyTable()\n",
    "x.field_names = [\"Vectorizer\", \"Feature Engineering\", \"Hyperparameter(Alpha)\", \"AUC\"]\n",
    "x.add_row([\"BOW\", \"GridSearchCV L2\", 0.01, 0.910])\n",
    "x.add_row([\"TFDIF\", \"RandomSearchCV L2\", 0.01, 0.931])\n",
    "x.add_row([\"AVG Word2Vec\", \"GridSearchCV L1\", 0.1, 0.931])\n",
    "x.add_row([\"TFDIF Word2Vec\", \"RandomSearchCV L1\", 100, 0.56])\n",
    "\n",
    "x.add_row([\"BOW\", \"GridSearchCV L1\", 1, 0.917])\n",
    "x.add_row([\"TFIDF\", 'RandomSearchCV L1', 0.1, 0.959])\n",
    "x.add_row([\"AVG Word2Vec\", \"GridSearchCV L2\", 10000, 0.931])\n",
    "x.add_row([\"TFDIF Word2Vec\", \"RandomSearchCV L2\", 100, 0.561])\n",
    "\n",
    "print(x)"
   ]
  },
  {
   "cell_type": "markdown",
   "metadata": {},
   "source": [
    "* Model is performing well on unseen data, with an AUC of 0.91% , considering time split is helpfull by training data \n",
    "  on unseen data points for BOW Model.\n",
    "* Using GridSearchCV and Random SearchCV of L1, L2 reg, comparing AUC there is bit imprrovement over models.\n",
    "* Using TFIDF Word2Vec observed that model is not performing so well compartively with other models.\n",
    "* We have to balance the train and test bias, such that not to overfit and underfit(Bias Variance TradeOff).\n",
    "* Using Time Series Split taking chunk of train data which is helpful factor.\n",
    "* LogisticRegression Is good for Text Classification task Prediction."
   ]
  }
 ],
 "metadata": {
  "colab": {
   "name": "05 Amazon Fine Food Reviews Analysis_Logistic Regression.ipynb",
   "provenance": [],
   "version": "0.3.2"
  },
  "kernelspec": {
   "display_name": "Python 3",
   "language": "python",
   "name": "python3"
  },
  "language_info": {
   "codemirror_mode": {
    "name": "ipython",
    "version": 3
   },
   "file_extension": ".py",
   "mimetype": "text/x-python",
   "name": "python",
   "nbconvert_exporter": "python",
   "pygments_lexer": "ipython3",
   "version": "3.7.0"
  }
 },
 "nbformat": 4,
 "nbformat_minor": 1
}
