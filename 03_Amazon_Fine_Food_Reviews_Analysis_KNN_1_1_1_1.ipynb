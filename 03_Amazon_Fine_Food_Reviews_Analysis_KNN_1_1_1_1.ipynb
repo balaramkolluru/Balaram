{
 "cells": [
  {
   "cell_type": "markdown",
   "metadata": {},
   "source": [
    "# Amazon Fine Food Reviews Analysis\n",
    "\n",
    "\n",
    "Data Source: https://www.kaggle.com/snap/amazon-fine-food-reviews <br>\n",
    "\n",
    "EDA: https://nycdatascience.com/blog/student-works/amazon-fine-foods-visualization/\n",
    "\n",
    "\n",
    "The Amazon Fine Food Reviews dataset consists of reviews of fine foods from Amazon.<br>\n",
    "\n",
    "Number of reviews: 568,454<br>\n",
    "Number of users: 256,059<br>\n",
    "Number of products: 74,258<br>\n",
    "Timespan: Oct 1999 - Oct 2012<br>\n",
    "Number of Attributes/Columns in data: 10 \n",
    "\n",
    "Attribute Information:\n",
    "\n",
    "1. Id\n",
    "2. ProductId - unique identifier for the product\n",
    "3. UserId - unqiue identifier for the user\n",
    "4. ProfileName\n",
    "5. HelpfulnessNumerator - number of users who found the review helpful\n",
    "6. HelpfulnessDenominator - number of users who indicated whether they found the review helpful or not\n",
    "7. Score - rating between 1 and 5\n",
    "8. Time - timestamp for the review\n",
    "9. Summary - brief summary of the review\n",
    "10. Text - text of the review\n",
    "\n",
    "\n",
    "#### Objective:\n",
    "Given a review, determine whether the review is positive (rating of 4 or 5) or negative (rating of 1 or 2).\n",
    "\n",
    "<br>\n",
    "[Q] How to determine if a review is positive or negative?<br>\n",
    "<br> \n",
    "[Ans] We could use Score/Rating. A rating of 4 or 5 can be cosnidered as a positive review. A rating of 1 or 2 can be considered as negative one. A review of rating 3 is considered nuetral and such reviews are ignored from our analysis. This is an approximate and proxy way of determining the polarity (positivity/negativity) of a review.\n",
    "\n",
    "\n"
   ]
  },
  {
   "cell_type": "markdown",
   "metadata": {},
   "source": [
    "# [1]. Reading Data"
   ]
  },
  {
   "cell_type": "markdown",
   "metadata": {},
   "source": [
    "## [1.1] Loading the data\n",
    "\n",
    "The dataset is available in two forms\n",
    "1. .csv file\n",
    "2. SQLite Database\n",
    "\n",
    "In order to load the data, We have used the SQLITE dataset as it is easier to query the data and visualise the data efficiently.\n",
    "<br> \n",
    "\n",
    "Here as we only want to get the global sentiment of the recommendations (positive or negative), we will purposefully ignore all Scores equal to 3. If the score is above 3, then the recommendation wil be set to \"positive\". Otherwise, it will be set to \"negative\"."
   ]
  },
  {
   "cell_type": "code",
   "execution_count": 2,
   "metadata": {},
   "outputs": [],
   "source": [
    "%matplotlib inline\n",
    "import warnings\n",
    "warnings.filterwarnings(\"ignore\")\n",
    "\n",
    "\n",
    "import sqlite3\n",
    "import pandas as pd\n",
    "import numpy as np\n",
    "import nltk\n",
    "import string\n",
    "import matplotlib.pyplot as plt\n",
    "import seaborn as sns\n",
    "from sklearn.feature_extraction.text import TfidfTransformer\n",
    "from sklearn.feature_extraction.text import TfidfVectorizer\n",
    "\n",
    "from sklearn.feature_extraction.text import CountVectorizer\n",
    "from sklearn.metrics import confusion_matrix\n",
    "from sklearn import metrics\n",
    "from sklearn.metrics import roc_curve, auc\n",
    "from nltk.stem.porter import PorterStemmer\n",
    "from sklearn.model_selection import train_test_split\n",
    "from sklearn.neighbors import KNeighborsClassifier\n",
    "from sklearn.cross_validation import cross_val_score\n",
    "from sklearn.metrics import accuracy_score\n",
    "from sklearn import model_selection\n",
    "from sklearn import cross_validation\n",
    "from collections import Counter\n",
    "from sklearn.metrics import roc_auc_score\n",
    "from sklearn.model_selection import GridSearchCV\n",
    "\n",
    "import warnings\n",
    "warnings.filterwarnings(\"ignore\")\n",
    "\n",
    "\n",
    "import re\n",
    "# Tutorial about Python regular expressions: https://pymotw.com/2/re/\n",
    "import string\n",
    "from nltk.corpus import stopwords\n",
    "from nltk.stem import PorterStemmer\n",
    "from nltk.stem.wordnet import WordNetLemmatizer\n",
    "\n",
    "from gensim.models import Word2Vec\n",
    "from gensim.models import KeyedVectors\n",
    "import pickle\n",
    "\n",
    "from tqdm import tqdm\n",
    "import os"
   ]
  },
  {
   "cell_type": "code",
   "execution_count": 3,
   "metadata": {},
   "outputs": [
    {
     "name": "stdout",
     "output_type": "stream",
     "text": [
      "Number of data points in our data (100000, 10)\n"
     ]
    },
    {
     "data": {
      "text/html": [
       "<div>\n",
       "<style scoped>\n",
       "    .dataframe tbody tr th:only-of-type {\n",
       "        vertical-align: middle;\n",
       "    }\n",
       "\n",
       "    .dataframe tbody tr th {\n",
       "        vertical-align: top;\n",
       "    }\n",
       "\n",
       "    .dataframe thead th {\n",
       "        text-align: right;\n",
       "    }\n",
       "</style>\n",
       "<table border=\"1\" class=\"dataframe\">\n",
       "  <thead>\n",
       "    <tr style=\"text-align: right;\">\n",
       "      <th></th>\n",
       "      <th>Id</th>\n",
       "      <th>ProductId</th>\n",
       "      <th>UserId</th>\n",
       "      <th>ProfileName</th>\n",
       "      <th>HelpfulnessNumerator</th>\n",
       "      <th>HelpfulnessDenominator</th>\n",
       "      <th>Score</th>\n",
       "      <th>Time</th>\n",
       "      <th>Summary</th>\n",
       "      <th>Text</th>\n",
       "    </tr>\n",
       "  </thead>\n",
       "  <tbody>\n",
       "    <tr>\n",
       "      <th>0</th>\n",
       "      <td>1</td>\n",
       "      <td>B001E4KFG0</td>\n",
       "      <td>A3SGXH7AUHU8GW</td>\n",
       "      <td>delmartian</td>\n",
       "      <td>1</td>\n",
       "      <td>1</td>\n",
       "      <td>1</td>\n",
       "      <td>1303862400</td>\n",
       "      <td>Good Quality Dog Food</td>\n",
       "      <td>I have bought several of the Vitality canned d...</td>\n",
       "    </tr>\n",
       "    <tr>\n",
       "      <th>1</th>\n",
       "      <td>2</td>\n",
       "      <td>B00813GRG4</td>\n",
       "      <td>A1D87F6ZCVE5NK</td>\n",
       "      <td>dll pa</td>\n",
       "      <td>0</td>\n",
       "      <td>0</td>\n",
       "      <td>0</td>\n",
       "      <td>1346976000</td>\n",
       "      <td>Not as Advertised</td>\n",
       "      <td>Product arrived labeled as Jumbo Salted Peanut...</td>\n",
       "    </tr>\n",
       "    <tr>\n",
       "      <th>2</th>\n",
       "      <td>3</td>\n",
       "      <td>B000LQOCH0</td>\n",
       "      <td>ABXLMWJIXXAIN</td>\n",
       "      <td>Natalia Corres \"Natalia Corres\"</td>\n",
       "      <td>1</td>\n",
       "      <td>1</td>\n",
       "      <td>1</td>\n",
       "      <td>1219017600</td>\n",
       "      <td>\"Delight\" says it all</td>\n",
       "      <td>This is a confection that has been around a fe...</td>\n",
       "    </tr>\n",
       "  </tbody>\n",
       "</table>\n",
       "</div>"
      ],
      "text/plain": [
       "   Id   ProductId          UserId                      ProfileName  \\\n",
       "0   1  B001E4KFG0  A3SGXH7AUHU8GW                       delmartian   \n",
       "1   2  B00813GRG4  A1D87F6ZCVE5NK                           dll pa   \n",
       "2   3  B000LQOCH0   ABXLMWJIXXAIN  Natalia Corres \"Natalia Corres\"   \n",
       "\n",
       "   HelpfulnessNumerator  HelpfulnessDenominator  Score        Time  \\\n",
       "0                     1                       1      1  1303862400   \n",
       "1                     0                       0      0  1346976000   \n",
       "2                     1                       1      1  1219017600   \n",
       "\n",
       "                 Summary                                               Text  \n",
       "0  Good Quality Dog Food  I have bought several of the Vitality canned d...  \n",
       "1      Not as Advertised  Product arrived labeled as Jumbo Salted Peanut...  \n",
       "2  \"Delight\" says it all  This is a confection that has been around a fe...  "
      ]
     },
     "execution_count": 3,
     "metadata": {},
     "output_type": "execute_result"
    }
   ],
   "source": [
    "# using SQLite Table to read data.\n",
    "con = sqlite3.connect('database.sqlite') \n",
    "\n",
    "# filtering only positive and negative reviews i.e. \n",
    "# not taking into consideration those reviews with Score=3\n",
    "# SELECT * FROM Reviews WHERE Score != 3 LIMIT 500000, will give top 500000 data points\n",
    "# you can change the number to any other number based on your computing power\n",
    "\n",
    "# filtered_data = pd.read_sql_query(\"\"\" SELECT * FROM Reviews WHERE Score != 3 LIMIT 500000\"\"\", con) \n",
    "# for tsne assignment you can take 5k data points\n",
    "\n",
    "filtered_data = pd.read_sql_query(\"\"\" SELECT * FROM Reviews WHERE Score != 3 LIMIT 100000\"\"\", con) \n",
    "\n",
    "# Give reviews with Score>3 a positive rating(1), and reviews with a score<3 a negative rating(0).\n",
    "def partition(x):\n",
    "    if x < 3:\n",
    "        return 0\n",
    "    return 1\n",
    "\n",
    "#changing reviews with score less than 3 to be positive and vice-versa\n",
    "actualScore = filtered_data['Score']\n",
    "positiveNegative = actualScore.map(partition) \n",
    "filtered_data['Score'] = positiveNegative\n",
    "print(\"Number of data points in our data\", filtered_data.shape)\n",
    "filtered_data.head(3)"
   ]
  },
  {
   "cell_type": "code",
   "execution_count": 4,
   "metadata": {},
   "outputs": [],
   "source": [
    "display = pd.read_sql_query(\"\"\"\n",
    "SELECT UserId, ProductId, ProfileName, Time, Score, Text, COUNT(*)\n",
    "FROM Reviews\n",
    "GROUP BY UserId\n",
    "HAVING COUNT(*)>1\n",
    "\"\"\", con)"
   ]
  },
  {
   "cell_type": "code",
   "execution_count": 5,
   "metadata": {
    "scrolled": true
   },
   "outputs": [
    {
     "name": "stdout",
     "output_type": "stream",
     "text": [
      "(80668, 7)\n"
     ]
    },
    {
     "data": {
      "text/html": [
       "<div>\n",
       "<style scoped>\n",
       "    .dataframe tbody tr th:only-of-type {\n",
       "        vertical-align: middle;\n",
       "    }\n",
       "\n",
       "    .dataframe tbody tr th {\n",
       "        vertical-align: top;\n",
       "    }\n",
       "\n",
       "    .dataframe thead th {\n",
       "        text-align: right;\n",
       "    }\n",
       "</style>\n",
       "<table border=\"1\" class=\"dataframe\">\n",
       "  <thead>\n",
       "    <tr style=\"text-align: right;\">\n",
       "      <th></th>\n",
       "      <th>UserId</th>\n",
       "      <th>ProductId</th>\n",
       "      <th>ProfileName</th>\n",
       "      <th>Time</th>\n",
       "      <th>Score</th>\n",
       "      <th>Text</th>\n",
       "      <th>COUNT(*)</th>\n",
       "    </tr>\n",
       "  </thead>\n",
       "  <tbody>\n",
       "    <tr>\n",
       "      <th>0</th>\n",
       "      <td>#oc-R115TNMSPFT9I7</td>\n",
       "      <td>B007Y59HVM</td>\n",
       "      <td>Breyton</td>\n",
       "      <td>1331510400</td>\n",
       "      <td>2</td>\n",
       "      <td>Overall its just OK when considering the price...</td>\n",
       "      <td>2</td>\n",
       "    </tr>\n",
       "    <tr>\n",
       "      <th>1</th>\n",
       "      <td>#oc-R11D9D7SHXIJB9</td>\n",
       "      <td>B005HG9ET0</td>\n",
       "      <td>Louis E. Emory \"hoppy\"</td>\n",
       "      <td>1342396800</td>\n",
       "      <td>5</td>\n",
       "      <td>My wife has recurring extreme muscle spasms, u...</td>\n",
       "      <td>3</td>\n",
       "    </tr>\n",
       "    <tr>\n",
       "      <th>2</th>\n",
       "      <td>#oc-R11DNU2NBKQ23Z</td>\n",
       "      <td>B007Y59HVM</td>\n",
       "      <td>Kim Cieszykowski</td>\n",
       "      <td>1348531200</td>\n",
       "      <td>1</td>\n",
       "      <td>This coffee is horrible and unfortunately not ...</td>\n",
       "      <td>2</td>\n",
       "    </tr>\n",
       "    <tr>\n",
       "      <th>3</th>\n",
       "      <td>#oc-R11O5J5ZVQE25C</td>\n",
       "      <td>B005HG9ET0</td>\n",
       "      <td>Penguin Chick</td>\n",
       "      <td>1346889600</td>\n",
       "      <td>5</td>\n",
       "      <td>This will be the bottle that you grab from the...</td>\n",
       "      <td>3</td>\n",
       "    </tr>\n",
       "    <tr>\n",
       "      <th>4</th>\n",
       "      <td>#oc-R12KPBODL2B5ZD</td>\n",
       "      <td>B007OSBE1U</td>\n",
       "      <td>Christopher P. Presta</td>\n",
       "      <td>1348617600</td>\n",
       "      <td>1</td>\n",
       "      <td>I didnt like this coffee. Instead of telling y...</td>\n",
       "      <td>2</td>\n",
       "    </tr>\n",
       "  </tbody>\n",
       "</table>\n",
       "</div>"
      ],
      "text/plain": [
       "               UserId   ProductId             ProfileName        Time  Score  \\\n",
       "0  #oc-R115TNMSPFT9I7  B007Y59HVM                 Breyton  1331510400      2   \n",
       "1  #oc-R11D9D7SHXIJB9  B005HG9ET0  Louis E. Emory \"hoppy\"  1342396800      5   \n",
       "2  #oc-R11DNU2NBKQ23Z  B007Y59HVM        Kim Cieszykowski  1348531200      1   \n",
       "3  #oc-R11O5J5ZVQE25C  B005HG9ET0           Penguin Chick  1346889600      5   \n",
       "4  #oc-R12KPBODL2B5ZD  B007OSBE1U   Christopher P. Presta  1348617600      1   \n",
       "\n",
       "                                                Text  COUNT(*)  \n",
       "0  Overall its just OK when considering the price...         2  \n",
       "1  My wife has recurring extreme muscle spasms, u...         3  \n",
       "2  This coffee is horrible and unfortunately not ...         2  \n",
       "3  This will be the bottle that you grab from the...         3  \n",
       "4  I didnt like this coffee. Instead of telling y...         2  "
      ]
     },
     "execution_count": 5,
     "metadata": {},
     "output_type": "execute_result"
    }
   ],
   "source": [
    "print(display.shape)\n",
    "display.head()"
   ]
  },
  {
   "cell_type": "code",
   "execution_count": 6,
   "metadata": {},
   "outputs": [
    {
     "data": {
      "text/html": [
       "<div>\n",
       "<style scoped>\n",
       "    .dataframe tbody tr th:only-of-type {\n",
       "        vertical-align: middle;\n",
       "    }\n",
       "\n",
       "    .dataframe tbody tr th {\n",
       "        vertical-align: top;\n",
       "    }\n",
       "\n",
       "    .dataframe thead th {\n",
       "        text-align: right;\n",
       "    }\n",
       "</style>\n",
       "<table border=\"1\" class=\"dataframe\">\n",
       "  <thead>\n",
       "    <tr style=\"text-align: right;\">\n",
       "      <th></th>\n",
       "      <th>UserId</th>\n",
       "      <th>ProductId</th>\n",
       "      <th>ProfileName</th>\n",
       "      <th>Time</th>\n",
       "      <th>Score</th>\n",
       "      <th>Text</th>\n",
       "      <th>COUNT(*)</th>\n",
       "    </tr>\n",
       "  </thead>\n",
       "  <tbody>\n",
       "    <tr>\n",
       "      <th>80638</th>\n",
       "      <td>AZY10LLTJ71NX</td>\n",
       "      <td>B006P7E5ZI</td>\n",
       "      <td>undertheshrine \"undertheshrine\"</td>\n",
       "      <td>1334707200</td>\n",
       "      <td>5</td>\n",
       "      <td>I was recommended to try green tea extract to ...</td>\n",
       "      <td>5</td>\n",
       "    </tr>\n",
       "  </tbody>\n",
       "</table>\n",
       "</div>"
      ],
      "text/plain": [
       "              UserId   ProductId                      ProfileName        Time  \\\n",
       "80638  AZY10LLTJ71NX  B006P7E5ZI  undertheshrine \"undertheshrine\"  1334707200   \n",
       "\n",
       "       Score                                               Text  COUNT(*)  \n",
       "80638      5  I was recommended to try green tea extract to ...         5  "
      ]
     },
     "execution_count": 6,
     "metadata": {},
     "output_type": "execute_result"
    }
   ],
   "source": [
    "display[display['UserId']=='AZY10LLTJ71NX']"
   ]
  },
  {
   "cell_type": "code",
   "execution_count": 7,
   "metadata": {},
   "outputs": [
    {
     "data": {
      "text/plain": [
       "393063"
      ]
     },
     "execution_count": 7,
     "metadata": {},
     "output_type": "execute_result"
    }
   ],
   "source": [
    "display['COUNT(*)'].sum()"
   ]
  },
  {
   "cell_type": "markdown",
   "metadata": {},
   "source": [
    "#  [2] Exploratory Data Analysis"
   ]
  },
  {
   "cell_type": "markdown",
   "metadata": {},
   "source": [
    "## [2.1] Data Cleaning: Deduplication\n",
    "\n",
    "It is observed (as shown in the table below) that the reviews data had many duplicate entries. Hence it was necessary to remove duplicates in order to get unbiased results for the analysis of the data.  Following is an example:"
   ]
  },
  {
   "cell_type": "code",
   "execution_count": 8,
   "metadata": {
    "scrolled": false
   },
   "outputs": [
    {
     "data": {
      "text/html": [
       "<div>\n",
       "<style scoped>\n",
       "    .dataframe tbody tr th:only-of-type {\n",
       "        vertical-align: middle;\n",
       "    }\n",
       "\n",
       "    .dataframe tbody tr th {\n",
       "        vertical-align: top;\n",
       "    }\n",
       "\n",
       "    .dataframe thead th {\n",
       "        text-align: right;\n",
       "    }\n",
       "</style>\n",
       "<table border=\"1\" class=\"dataframe\">\n",
       "  <thead>\n",
       "    <tr style=\"text-align: right;\">\n",
       "      <th></th>\n",
       "      <th>Id</th>\n",
       "      <th>ProductId</th>\n",
       "      <th>UserId</th>\n",
       "      <th>ProfileName</th>\n",
       "      <th>HelpfulnessNumerator</th>\n",
       "      <th>HelpfulnessDenominator</th>\n",
       "      <th>Score</th>\n",
       "      <th>Time</th>\n",
       "      <th>Summary</th>\n",
       "      <th>Text</th>\n",
       "    </tr>\n",
       "  </thead>\n",
       "  <tbody>\n",
       "    <tr>\n",
       "      <th>0</th>\n",
       "      <td>78445</td>\n",
       "      <td>B000HDL1RQ</td>\n",
       "      <td>AR5J8UI46CURR</td>\n",
       "      <td>Geetha Krishnan</td>\n",
       "      <td>2</td>\n",
       "      <td>2</td>\n",
       "      <td>5</td>\n",
       "      <td>1199577600</td>\n",
       "      <td>LOACKER QUADRATINI VANILLA WAFERS</td>\n",
       "      <td>DELICIOUS WAFERS. I FIND THAT EUROPEAN WAFERS ...</td>\n",
       "    </tr>\n",
       "    <tr>\n",
       "      <th>1</th>\n",
       "      <td>138317</td>\n",
       "      <td>B000HDOPYC</td>\n",
       "      <td>AR5J8UI46CURR</td>\n",
       "      <td>Geetha Krishnan</td>\n",
       "      <td>2</td>\n",
       "      <td>2</td>\n",
       "      <td>5</td>\n",
       "      <td>1199577600</td>\n",
       "      <td>LOACKER QUADRATINI VANILLA WAFERS</td>\n",
       "      <td>DELICIOUS WAFERS. I FIND THAT EUROPEAN WAFERS ...</td>\n",
       "    </tr>\n",
       "    <tr>\n",
       "      <th>2</th>\n",
       "      <td>138277</td>\n",
       "      <td>B000HDOPYM</td>\n",
       "      <td>AR5J8UI46CURR</td>\n",
       "      <td>Geetha Krishnan</td>\n",
       "      <td>2</td>\n",
       "      <td>2</td>\n",
       "      <td>5</td>\n",
       "      <td>1199577600</td>\n",
       "      <td>LOACKER QUADRATINI VANILLA WAFERS</td>\n",
       "      <td>DELICIOUS WAFERS. I FIND THAT EUROPEAN WAFERS ...</td>\n",
       "    </tr>\n",
       "    <tr>\n",
       "      <th>3</th>\n",
       "      <td>73791</td>\n",
       "      <td>B000HDOPZG</td>\n",
       "      <td>AR5J8UI46CURR</td>\n",
       "      <td>Geetha Krishnan</td>\n",
       "      <td>2</td>\n",
       "      <td>2</td>\n",
       "      <td>5</td>\n",
       "      <td>1199577600</td>\n",
       "      <td>LOACKER QUADRATINI VANILLA WAFERS</td>\n",
       "      <td>DELICIOUS WAFERS. I FIND THAT EUROPEAN WAFERS ...</td>\n",
       "    </tr>\n",
       "    <tr>\n",
       "      <th>4</th>\n",
       "      <td>155049</td>\n",
       "      <td>B000PAQ75C</td>\n",
       "      <td>AR5J8UI46CURR</td>\n",
       "      <td>Geetha Krishnan</td>\n",
       "      <td>2</td>\n",
       "      <td>2</td>\n",
       "      <td>5</td>\n",
       "      <td>1199577600</td>\n",
       "      <td>LOACKER QUADRATINI VANILLA WAFERS</td>\n",
       "      <td>DELICIOUS WAFERS. I FIND THAT EUROPEAN WAFERS ...</td>\n",
       "    </tr>\n",
       "  </tbody>\n",
       "</table>\n",
       "</div>"
      ],
      "text/plain": [
       "       Id   ProductId         UserId      ProfileName  HelpfulnessNumerator  \\\n",
       "0   78445  B000HDL1RQ  AR5J8UI46CURR  Geetha Krishnan                     2   \n",
       "1  138317  B000HDOPYC  AR5J8UI46CURR  Geetha Krishnan                     2   \n",
       "2  138277  B000HDOPYM  AR5J8UI46CURR  Geetha Krishnan                     2   \n",
       "3   73791  B000HDOPZG  AR5J8UI46CURR  Geetha Krishnan                     2   \n",
       "4  155049  B000PAQ75C  AR5J8UI46CURR  Geetha Krishnan                     2   \n",
       "\n",
       "   HelpfulnessDenominator  Score        Time  \\\n",
       "0                       2      5  1199577600   \n",
       "1                       2      5  1199577600   \n",
       "2                       2      5  1199577600   \n",
       "3                       2      5  1199577600   \n",
       "4                       2      5  1199577600   \n",
       "\n",
       "                             Summary  \\\n",
       "0  LOACKER QUADRATINI VANILLA WAFERS   \n",
       "1  LOACKER QUADRATINI VANILLA WAFERS   \n",
       "2  LOACKER QUADRATINI VANILLA WAFERS   \n",
       "3  LOACKER QUADRATINI VANILLA WAFERS   \n",
       "4  LOACKER QUADRATINI VANILLA WAFERS   \n",
       "\n",
       "                                                Text  \n",
       "0  DELICIOUS WAFERS. I FIND THAT EUROPEAN WAFERS ...  \n",
       "1  DELICIOUS WAFERS. I FIND THAT EUROPEAN WAFERS ...  \n",
       "2  DELICIOUS WAFERS. I FIND THAT EUROPEAN WAFERS ...  \n",
       "3  DELICIOUS WAFERS. I FIND THAT EUROPEAN WAFERS ...  \n",
       "4  DELICIOUS WAFERS. I FIND THAT EUROPEAN WAFERS ...  "
      ]
     },
     "execution_count": 8,
     "metadata": {},
     "output_type": "execute_result"
    }
   ],
   "source": [
    "display= pd.read_sql_query(\"\"\"\n",
    "SELECT *\n",
    "FROM Reviews\n",
    "WHERE Score != 3 AND UserId=\"AR5J8UI46CURR\"\n",
    "ORDER BY ProductID\n",
    "\"\"\", con)\n",
    "display.head()"
   ]
  },
  {
   "cell_type": "markdown",
   "metadata": {},
   "source": [
    "As it can be seen above that same user has multiple reviews with same values for HelpfulnessNumerator, HelpfulnessDenominator, Score, Time, Summary and Text and on doing analysis it was found that <br>\n",
    "<br> \n",
    "ProductId=B000HDOPZG was Loacker Quadratini Vanilla Wafer Cookies, 8.82-Ounce Packages (Pack of 8)<br>\n",
    "<br> \n",
    "ProductId=B000HDL1RQ was Loacker Quadratini Lemon Wafer Cookies, 8.82-Ounce Packages (Pack of 8) and so on<br>\n",
    "\n",
    "It was inferred after analysis that reviews with same parameters other than ProductId belonged to the same product just having different flavour or quantity. Hence in order to reduce redundancy it was decided to eliminate the rows having same parameters.<br>\n",
    "\n",
    "The method used for the same was that we first sort the data according to ProductId and then just keep the first similar product review and delelte the others. for eg. in the above just the review for ProductId=B000HDL1RQ remains. This method ensures that there is only one representative for each product and deduplication without sorting would lead to possibility of different representatives still existing for the same product."
   ]
  },
  {
   "cell_type": "code",
   "execution_count": 9,
   "metadata": {},
   "outputs": [],
   "source": [
    "#Sorting data according to ProductId in ascending order\n",
    "sorted_data=filtered_data.sort_values('ProductId', axis=0, ascending=True, inplace=False, kind='quicksort', na_position='last')"
   ]
  },
  {
   "cell_type": "code",
   "execution_count": 10,
   "metadata": {},
   "outputs": [
    {
     "data": {
      "text/plain": [
       "(87775, 10)"
      ]
     },
     "execution_count": 10,
     "metadata": {},
     "output_type": "execute_result"
    }
   ],
   "source": [
    "#Deduplication of entries\n",
    "final=sorted_data.drop_duplicates(subset={\"UserId\",\"ProfileName\",\"Time\",\"Text\"}, keep='first', inplace=False)\n",
    "final.shape"
   ]
  },
  {
   "cell_type": "code",
   "execution_count": 11,
   "metadata": {},
   "outputs": [
    {
     "data": {
      "text/plain": [
       "87.775"
      ]
     },
     "execution_count": 11,
     "metadata": {},
     "output_type": "execute_result"
    }
   ],
   "source": [
    "#Checking to see how much % of data still remains\n",
    "(final['Id'].size*1.0)/(filtered_data['Id'].size*1.0)*100"
   ]
  },
  {
   "cell_type": "markdown",
   "metadata": {},
   "source": [
    "<b>Observation:-</b> It was also seen that in two rows given below the value of HelpfulnessNumerator is greater than HelpfulnessDenominator which is not practically possible hence these two rows too are removed from calcualtions"
   ]
  },
  {
   "cell_type": "code",
   "execution_count": 12,
   "metadata": {},
   "outputs": [
    {
     "data": {
      "text/html": [
       "<div>\n",
       "<style scoped>\n",
       "    .dataframe tbody tr th:only-of-type {\n",
       "        vertical-align: middle;\n",
       "    }\n",
       "\n",
       "    .dataframe tbody tr th {\n",
       "        vertical-align: top;\n",
       "    }\n",
       "\n",
       "    .dataframe thead th {\n",
       "        text-align: right;\n",
       "    }\n",
       "</style>\n",
       "<table border=\"1\" class=\"dataframe\">\n",
       "  <thead>\n",
       "    <tr style=\"text-align: right;\">\n",
       "      <th></th>\n",
       "      <th>Id</th>\n",
       "      <th>ProductId</th>\n",
       "      <th>UserId</th>\n",
       "      <th>ProfileName</th>\n",
       "      <th>HelpfulnessNumerator</th>\n",
       "      <th>HelpfulnessDenominator</th>\n",
       "      <th>Score</th>\n",
       "      <th>Time</th>\n",
       "      <th>Summary</th>\n",
       "      <th>Text</th>\n",
       "    </tr>\n",
       "  </thead>\n",
       "  <tbody>\n",
       "    <tr>\n",
       "      <th>0</th>\n",
       "      <td>64422</td>\n",
       "      <td>B000MIDROQ</td>\n",
       "      <td>A161DK06JJMCYF</td>\n",
       "      <td>J. E. Stephens \"Jeanne\"</td>\n",
       "      <td>3</td>\n",
       "      <td>1</td>\n",
       "      <td>5</td>\n",
       "      <td>1224892800</td>\n",
       "      <td>Bought This for My Son at College</td>\n",
       "      <td>My son loves spaghetti so I didn't hesitate or...</td>\n",
       "    </tr>\n",
       "    <tr>\n",
       "      <th>1</th>\n",
       "      <td>44737</td>\n",
       "      <td>B001EQ55RW</td>\n",
       "      <td>A2V0I904FH7ABY</td>\n",
       "      <td>Ram</td>\n",
       "      <td>3</td>\n",
       "      <td>2</td>\n",
       "      <td>4</td>\n",
       "      <td>1212883200</td>\n",
       "      <td>Pure cocoa taste with crunchy almonds inside</td>\n",
       "      <td>It was almost a 'love at first bite' - the per...</td>\n",
       "    </tr>\n",
       "  </tbody>\n",
       "</table>\n",
       "</div>"
      ],
      "text/plain": [
       "      Id   ProductId          UserId              ProfileName  \\\n",
       "0  64422  B000MIDROQ  A161DK06JJMCYF  J. E. Stephens \"Jeanne\"   \n",
       "1  44737  B001EQ55RW  A2V0I904FH7ABY                      Ram   \n",
       "\n",
       "   HelpfulnessNumerator  HelpfulnessDenominator  Score        Time  \\\n",
       "0                     3                       1      5  1224892800   \n",
       "1                     3                       2      4  1212883200   \n",
       "\n",
       "                                        Summary  \\\n",
       "0             Bought This for My Son at College   \n",
       "1  Pure cocoa taste with crunchy almonds inside   \n",
       "\n",
       "                                                Text  \n",
       "0  My son loves spaghetti so I didn't hesitate or...  \n",
       "1  It was almost a 'love at first bite' - the per...  "
      ]
     },
     "execution_count": 12,
     "metadata": {},
     "output_type": "execute_result"
    }
   ],
   "source": [
    "display= pd.read_sql_query(\"\"\"\n",
    "SELECT *\n",
    "FROM Reviews\n",
    "WHERE Score != 3 AND Id=44737 OR Id=64422\n",
    "ORDER BY ProductID\n",
    "\"\"\", con)\n",
    "\n",
    "display.head()"
   ]
  },
  {
   "cell_type": "code",
   "execution_count": 13,
   "metadata": {},
   "outputs": [],
   "source": [
    "final=final[final.HelpfulnessNumerator<=final.HelpfulnessDenominator]"
   ]
  },
  {
   "cell_type": "code",
   "execution_count": 14,
   "metadata": {},
   "outputs": [
    {
     "data": {
      "text/html": [
       "<div>\n",
       "<style scoped>\n",
       "    .dataframe tbody tr th:only-of-type {\n",
       "        vertical-align: middle;\n",
       "    }\n",
       "\n",
       "    .dataframe tbody tr th {\n",
       "        vertical-align: top;\n",
       "    }\n",
       "\n",
       "    .dataframe thead th {\n",
       "        text-align: right;\n",
       "    }\n",
       "</style>\n",
       "<table border=\"1\" class=\"dataframe\">\n",
       "  <thead>\n",
       "    <tr style=\"text-align: right;\">\n",
       "      <th></th>\n",
       "      <th>Id</th>\n",
       "      <th>ProductId</th>\n",
       "      <th>UserId</th>\n",
       "      <th>ProfileName</th>\n",
       "      <th>HelpfulnessNumerator</th>\n",
       "      <th>HelpfulnessDenominator</th>\n",
       "      <th>Score</th>\n",
       "      <th>Time</th>\n",
       "      <th>Summary</th>\n",
       "      <th>Text</th>\n",
       "    </tr>\n",
       "  </thead>\n",
       "  <tbody>\n",
       "    <tr>\n",
       "      <th>70688</th>\n",
       "      <td>76882</td>\n",
       "      <td>B00002N8SM</td>\n",
       "      <td>A32DW342WBJ6BX</td>\n",
       "      <td>Buttersugar</td>\n",
       "      <td>0</td>\n",
       "      <td>0</td>\n",
       "      <td>1</td>\n",
       "      <td>948672000</td>\n",
       "      <td>A sure death for flies</td>\n",
       "      <td>I bought a few of these after my apartment was...</td>\n",
       "    </tr>\n",
       "    <tr>\n",
       "      <th>1146</th>\n",
       "      <td>1245</td>\n",
       "      <td>B00002Z754</td>\n",
       "      <td>A29Z5PI9BW2PU3</td>\n",
       "      <td>Robbie</td>\n",
       "      <td>7</td>\n",
       "      <td>7</td>\n",
       "      <td>1</td>\n",
       "      <td>961718400</td>\n",
       "      <td>Great Product</td>\n",
       "      <td>This was a really good idea and the final prod...</td>\n",
       "    </tr>\n",
       "    <tr>\n",
       "      <th>1145</th>\n",
       "      <td>1244</td>\n",
       "      <td>B00002Z754</td>\n",
       "      <td>A3B8RCEI0FXFI6</td>\n",
       "      <td>B G Chase</td>\n",
       "      <td>10</td>\n",
       "      <td>10</td>\n",
       "      <td>1</td>\n",
       "      <td>962236800</td>\n",
       "      <td>WOW Make your own 'slickers' !</td>\n",
       "      <td>I just received my shipment and could hardly w...</td>\n",
       "    </tr>\n",
       "    <tr>\n",
       "      <th>28086</th>\n",
       "      <td>30629</td>\n",
       "      <td>B00008RCMI</td>\n",
       "      <td>A19E94CF5O1LY7</td>\n",
       "      <td>Andrew Arnold</td>\n",
       "      <td>0</td>\n",
       "      <td>0</td>\n",
       "      <td>1</td>\n",
       "      <td>1067040000</td>\n",
       "      <td>I've chewed this gum many times, but used?</td>\n",
       "      <td>Nothing against the product, but it does bothe...</td>\n",
       "    </tr>\n",
       "    <tr>\n",
       "      <th>28087</th>\n",
       "      <td>30630</td>\n",
       "      <td>B00008RCMI</td>\n",
       "      <td>A284C7M23F0APC</td>\n",
       "      <td>A. Mendoza</td>\n",
       "      <td>0</td>\n",
       "      <td>0</td>\n",
       "      <td>1</td>\n",
       "      <td>1067040000</td>\n",
       "      <td>Best sugarless gum ever!</td>\n",
       "      <td>I love this stuff. It is sugar-free so it does...</td>\n",
       "    </tr>\n",
       "    <tr>\n",
       "      <th>61299</th>\n",
       "      <td>66610</td>\n",
       "      <td>B0000SY9U4</td>\n",
       "      <td>A3EEDHNHI4WNSH</td>\n",
       "      <td>Joanna J. Young</td>\n",
       "      <td>23</td>\n",
       "      <td>23</td>\n",
       "      <td>1</td>\n",
       "      <td>1067472000</td>\n",
       "      <td>Yummy</td>\n",
       "      <td>If you've never tried Kona coffee, Aloha Islan...</td>\n",
       "    </tr>\n",
       "    <tr>\n",
       "      <th>38740</th>\n",
       "      <td>42069</td>\n",
       "      <td>B0000EIEQU</td>\n",
       "      <td>A1YMJX4YWCE6P4</td>\n",
       "      <td>Jim Carson \"http://www.jimcarson.com\"</td>\n",
       "      <td>12</td>\n",
       "      <td>12</td>\n",
       "      <td>1</td>\n",
       "      <td>1067558400</td>\n",
       "      <td>These limes rule!</td>\n",
       "      <td>Fresh limes are underappreciated, but a joy to...</td>\n",
       "    </tr>\n",
       "    <tr>\n",
       "      <th>38889</th>\n",
       "      <td>42227</td>\n",
       "      <td>B0000A0BS8</td>\n",
       "      <td>A1IU7S4HCK1XK0</td>\n",
       "      <td>Joanna Daneman</td>\n",
       "      <td>5</td>\n",
       "      <td>5</td>\n",
       "      <td>1</td>\n",
       "      <td>1067644800</td>\n",
       "      <td>I gave up on other coffees</td>\n",
       "      <td>The grocery store has all kinds of &amp;quot;gourm...</td>\n",
       "    </tr>\n",
       "    <tr>\n",
       "      <th>38888</th>\n",
       "      <td>42226</td>\n",
       "      <td>B0000A0BS8</td>\n",
       "      <td>A23GFTVIETX7DS</td>\n",
       "      <td>Debbie Lee Wesselmann</td>\n",
       "      <td>5</td>\n",
       "      <td>5</td>\n",
       "      <td>1</td>\n",
       "      <td>1067904000</td>\n",
       "      <td>Five stars if you like Starbucks</td>\n",
       "      <td>This blend is one of Starbucks' gentler blends...</td>\n",
       "    </tr>\n",
       "    <tr>\n",
       "      <th>10992</th>\n",
       "      <td>11991</td>\n",
       "      <td>B0000T15M8</td>\n",
       "      <td>A2928LJN5IISB4</td>\n",
       "      <td>chatchi</td>\n",
       "      <td>5</td>\n",
       "      <td>5</td>\n",
       "      <td>1</td>\n",
       "      <td>1067990400</td>\n",
       "      <td>The fruits of my labor</td>\n",
       "      <td>When chatchi's favorite afternoon treat became...</td>\n",
       "    </tr>\n",
       "    <tr>\n",
       "      <th>28085</th>\n",
       "      <td>30628</td>\n",
       "      <td>B00008RCMI</td>\n",
       "      <td>A3AKWA5CWSKOOH</td>\n",
       "      <td>Ilaxi S. Patel \"Editor, kidsfreesouls.com &amp; A...</td>\n",
       "      <td>0</td>\n",
       "      <td>0</td>\n",
       "      <td>1</td>\n",
       "      <td>1068076800</td>\n",
       "      <td>Refreshing Mouth Freshner!</td>\n",
       "      <td>A tennis player hubby of mine got this pack on...</td>\n",
       "    </tr>\n",
       "    <tr>\n",
       "      <th>97546</th>\n",
       "      <td>105988</td>\n",
       "      <td>B0000DG4EJ</td>\n",
       "      <td>AVCJ3K0HFRRUM</td>\n",
       "      <td>H. Johnson</td>\n",
       "      <td>0</td>\n",
       "      <td>0</td>\n",
       "      <td>1</td>\n",
       "      <td>1068076800</td>\n",
       "      <td>*Yummy* *Spicy*</td>\n",
       "      <td>Forget that store bought jerky.  Make your own...</td>\n",
       "    </tr>\n",
       "    <tr>\n",
       "      <th>96196</th>\n",
       "      <td>104537</td>\n",
       "      <td>B0000DG5B6</td>\n",
       "      <td>A1S3DOTCYJPE4O</td>\n",
       "      <td>hervin02 \"hervin02\"</td>\n",
       "      <td>0</td>\n",
       "      <td>0</td>\n",
       "      <td>1</td>\n",
       "      <td>1068422400</td>\n",
       "      <td>Excellent Sauce!</td>\n",
       "      <td>This sauce is excellent, and indeed spicy.  Th...</td>\n",
       "    </tr>\n",
       "    <tr>\n",
       "      <th>62127</th>\n",
       "      <td>67497</td>\n",
       "      <td>B0000D9N7U</td>\n",
       "      <td>AQFIH82DRPMW</td>\n",
       "      <td>Patrick O'Brien</td>\n",
       "      <td>26</td>\n",
       "      <td>26</td>\n",
       "      <td>1</td>\n",
       "      <td>1068940800</td>\n",
       "      <td>Try It!</td>\n",
       "      <td>If you've never had real Swiss fondue, you're ...</td>\n",
       "    </tr>\n",
       "    <tr>\n",
       "      <th>87386</th>\n",
       "      <td>95119</td>\n",
       "      <td>B0000DIYIJ</td>\n",
       "      <td>A3S4XR84R8S0TV</td>\n",
       "      <td>Brook Lindquist</td>\n",
       "      <td>0</td>\n",
       "      <td>1</td>\n",
       "      <td>1</td>\n",
       "      <td>1069113600</td>\n",
       "      <td>A very cute candy!</td>\n",
       "      <td>This is definitely a cute product to order.  Y...</td>\n",
       "    </tr>\n",
       "    <tr>\n",
       "      <th>39671</th>\n",
       "      <td>43130</td>\n",
       "      <td>B0000W2SZS</td>\n",
       "      <td>A2BETN6Y2DEFZ1</td>\n",
       "      <td>Catnip</td>\n",
       "      <td>11</td>\n",
       "      <td>11</td>\n",
       "      <td>1</td>\n",
       "      <td>1069459200</td>\n",
       "      <td>Imparts wonderful, light flavor to dishes</td>\n",
       "      <td>I discovered these oils years ago, bought one ...</td>\n",
       "    </tr>\n",
       "    <tr>\n",
       "      <th>48952</th>\n",
       "      <td>53177</td>\n",
       "      <td>B002UUJ590</td>\n",
       "      <td>A2IF5C0I5BH11F</td>\n",
       "      <td>Kala</td>\n",
       "      <td>17</td>\n",
       "      <td>18</td>\n",
       "      <td>1</td>\n",
       "      <td>1070668800</td>\n",
       "      <td>Jelly Belly Overload!</td>\n",
       "      <td>I'm a huge fan of Jelly Belly jelly beans, so ...</td>\n",
       "    </tr>\n",
       "    <tr>\n",
       "      <th>24061</th>\n",
       "      <td>26313</td>\n",
       "      <td>B000121BY6</td>\n",
       "      <td>A281NPSIMI1C2R</td>\n",
       "      <td>Rebecca of Amazon \"The Rebecca Review\"</td>\n",
       "      <td>9</td>\n",
       "      <td>9</td>\n",
       "      <td>1</td>\n",
       "      <td>1071100800</td>\n",
       "      <td>I fell in love in Paris</td>\n",
       "      <td>Yes, with this juice. Apparently I'm not the o...</td>\n",
       "    </tr>\n",
       "    <tr>\n",
       "      <th>86598</th>\n",
       "      <td>94281</td>\n",
       "      <td>B0000CNU2Q</td>\n",
       "      <td>A1NOWEOLKMRRXM</td>\n",
       "      <td>T. Reinhardt \"olivia lee\"</td>\n",
       "      <td>27</td>\n",
       "      <td>27</td>\n",
       "      <td>1</td>\n",
       "      <td>1071705600</td>\n",
       "      <td>The best bread crumbs...you'll never go back</td>\n",
       "      <td>Panko bread crumbs are just awesome.  When use...</td>\n",
       "    </tr>\n",
       "    <tr>\n",
       "      <th>86599</th>\n",
       "      <td>94282</td>\n",
       "      <td>B0000CNU2Q</td>\n",
       "      <td>A1IU7S4HCK1XK0</td>\n",
       "      <td>Joanna Daneman</td>\n",
       "      <td>14</td>\n",
       "      <td>14</td>\n",
       "      <td>1</td>\n",
       "      <td>1072656000</td>\n",
       "      <td>Essential for Tonkatsu, etc</td>\n",
       "      <td>This is the Japanese version of breadcrumb (pa...</td>\n",
       "    </tr>\n",
       "    <tr>\n",
       "      <th>81698</th>\n",
       "      <td>88850</td>\n",
       "      <td>B00015UELO</td>\n",
       "      <td>A1ZF35RV6WGYFG</td>\n",
       "      <td>Gloriya O. Grinsteiner</td>\n",
       "      <td>4</td>\n",
       "      <td>6</td>\n",
       "      <td>1</td>\n",
       "      <td>1072656000</td>\n",
       "      <td>everything is excellent!</td>\n",
       "      <td>I highly recommend to have business with this ...</td>\n",
       "    </tr>\n",
       "    <tr>\n",
       "      <th>94002</th>\n",
       "      <td>102194</td>\n",
       "      <td>B0000UD67Y</td>\n",
       "      <td>A18O1KPT80HUDQ</td>\n",
       "      <td>K. Moore \"collegian\"</td>\n",
       "      <td>0</td>\n",
       "      <td>0</td>\n",
       "      <td>1</td>\n",
       "      <td>1072656000</td>\n",
       "      <td>Simply Chai</td>\n",
       "      <td>I've tried many of packaged Chai products - li...</td>\n",
       "    </tr>\n",
       "    <tr>\n",
       "      <th>94024</th>\n",
       "      <td>102216</td>\n",
       "      <td>B0000GH6UG</td>\n",
       "      <td>A1J2NULS2YDNAQ</td>\n",
       "      <td>Matt Cromwell</td>\n",
       "      <td>8</td>\n",
       "      <td>12</td>\n",
       "      <td>1</td>\n",
       "      <td>1073692800</td>\n",
       "      <td>Chocolate Like You've Never Had It!</td>\n",
       "      <td>I was first turned onto this chocolate when I ...</td>\n",
       "    </tr>\n",
       "    <tr>\n",
       "      <th>94001</th>\n",
       "      <td>102193</td>\n",
       "      <td>B0000UD67Y</td>\n",
       "      <td>A2QG8VTCMUQDO2</td>\n",
       "      <td>A. J. Lamb</td>\n",
       "      <td>0</td>\n",
       "      <td>0</td>\n",
       "      <td>1</td>\n",
       "      <td>1074124800</td>\n",
       "      <td>Excellent Chai</td>\n",
       "      <td>I have searched for a great decaf chai and hav...</td>\n",
       "    </tr>\n",
       "    <tr>\n",
       "      <th>24220</th>\n",
       "      <td>26484</td>\n",
       "      <td>B0000TLEEW</td>\n",
       "      <td>A3M174IC0VXOS2</td>\n",
       "      <td>Gail Cooke</td>\n",
       "      <td>5</td>\n",
       "      <td>6</td>\n",
       "      <td>1</td>\n",
       "      <td>1075075200</td>\n",
       "      <td>JUST LIKE GRANDMOTHER USED TO........</td>\n",
       "      <td>For those who enjoy a rich spread for toast, c...</td>\n",
       "    </tr>\n",
       "    <tr>\n",
       "      <th>94494</th>\n",
       "      <td>102712</td>\n",
       "      <td>B0000D9N63</td>\n",
       "      <td>A2P8AVWJO0CVGL</td>\n",
       "      <td>Dipper Lips \"DIP\"</td>\n",
       "      <td>3</td>\n",
       "      <td>9</td>\n",
       "      <td>1</td>\n",
       "      <td>1075161600</td>\n",
       "      <td>Yes, You Can Eat It All In One Sitting and Sip...</td>\n",
       "      <td>And it is GOOD!!! You get a half pound of Cots...</td>\n",
       "    </tr>\n",
       "    <tr>\n",
       "      <th>7427</th>\n",
       "      <td>8111</td>\n",
       "      <td>B0000EIE2Z</td>\n",
       "      <td>A3M174IC0VXOS2</td>\n",
       "      <td>Gail Cooke</td>\n",
       "      <td>3</td>\n",
       "      <td>3</td>\n",
       "      <td>1</td>\n",
       "      <td>1075420800</td>\n",
       "      <td>BEST BLUEBERRIES</td>\n",
       "      <td>In the winter when fresh blueberries exceed ou...</td>\n",
       "    </tr>\n",
       "    <tr>\n",
       "      <th>25005</th>\n",
       "      <td>27304</td>\n",
       "      <td>B000J36EQC</td>\n",
       "      <td>A28SJYEFR84MU1</td>\n",
       "      <td>L Flores</td>\n",
       "      <td>0</td>\n",
       "      <td>0</td>\n",
       "      <td>1</td>\n",
       "      <td>1075680000</td>\n",
       "      <td>My Favorite Tea</td>\n",
       "      <td>I love Sleepytime Tea!  I've been drinking it ...</td>\n",
       "    </tr>\n",
       "    <tr>\n",
       "      <th>97771</th>\n",
       "      <td>106224</td>\n",
       "      <td>B0000DJT3C</td>\n",
       "      <td>A1ETIK7N9ZWZY9</td>\n",
       "      <td>Call Me Jonah</td>\n",
       "      <td>5</td>\n",
       "      <td>7</td>\n",
       "      <td>1</td>\n",
       "      <td>1075766400</td>\n",
       "      <td>For those who enjoy playing with their food</td>\n",
       "      <td>They're shaped like Legos and they taste like ...</td>\n",
       "    </tr>\n",
       "    <tr>\n",
       "      <th>94382</th>\n",
       "      <td>102594</td>\n",
       "      <td>B0000D9N6V</td>\n",
       "      <td>A28ECE800BV42W</td>\n",
       "      <td>\"bungfritz\"</td>\n",
       "      <td>5</td>\n",
       "      <td>5</td>\n",
       "      <td>1</td>\n",
       "      <td>1075939200</td>\n",
       "      <td>Best example of a blue cheese I've ever tried</td>\n",
       "      <td>And that is no exagerration!  Roaring 40's Blu...</td>\n",
       "    </tr>\n",
       "    <tr>\n",
       "      <th>...</th>\n",
       "      <td>...</td>\n",
       "      <td>...</td>\n",
       "      <td>...</td>\n",
       "      <td>...</td>\n",
       "      <td>...</td>\n",
       "      <td>...</td>\n",
       "      <td>...</td>\n",
       "      <td>...</td>\n",
       "      <td>...</td>\n",
       "      <td>...</td>\n",
       "    </tr>\n",
       "    <tr>\n",
       "      <th>17859</th>\n",
       "      <td>19469</td>\n",
       "      <td>B000F50WMG</td>\n",
       "      <td>A3NODK8D32RENU</td>\n",
       "      <td>Emily Guffey</td>\n",
       "      <td>1</td>\n",
       "      <td>4</td>\n",
       "      <td>0</td>\n",
       "      <td>1291766400</td>\n",
       "      <td>NOT WORTH IT!!</td>\n",
       "      <td>I ordered 3 of these for each of my daughters....</td>\n",
       "    </tr>\n",
       "    <tr>\n",
       "      <th>39863</th>\n",
       "      <td>43338</td>\n",
       "      <td>B0014ET24G</td>\n",
       "      <td>A3HRWI625FU9LR</td>\n",
       "      <td>Kate</td>\n",
       "      <td>3</td>\n",
       "      <td>3</td>\n",
       "      <td>1</td>\n",
       "      <td>1291766400</td>\n",
       "      <td>Amazing drink</td>\n",
       "      <td>I, like most other college students find it ve...</td>\n",
       "    </tr>\n",
       "    <tr>\n",
       "      <th>97734</th>\n",
       "      <td>106187</td>\n",
       "      <td>B001SATWWS</td>\n",
       "      <td>A5QQQMSU6G2FJ</td>\n",
       "      <td>SkyVanMommy</td>\n",
       "      <td>1</td>\n",
       "      <td>1</td>\n",
       "      <td>1</td>\n",
       "      <td>1291766400</td>\n",
       "      <td>Coffee please.</td>\n",
       "      <td>Community Coffee is consistently excellent cof...</td>\n",
       "    </tr>\n",
       "    <tr>\n",
       "      <th>47732</th>\n",
       "      <td>51889</td>\n",
       "      <td>B001HWWKGW</td>\n",
       "      <td>A34M7DQALDVX8R</td>\n",
       "      <td>Tricia</td>\n",
       "      <td>0</td>\n",
       "      <td>0</td>\n",
       "      <td>1</td>\n",
       "      <td>1291766400</td>\n",
       "      <td>Tea K-Cups</td>\n",
       "      <td>Love this tea!  Been drinking tea for years an...</td>\n",
       "    </tr>\n",
       "    <tr>\n",
       "      <th>81386</th>\n",
       "      <td>88508</td>\n",
       "      <td>B000N0EZX0</td>\n",
       "      <td>A3KX6V3QVT5U7B</td>\n",
       "      <td>Yune</td>\n",
       "      <td>0</td>\n",
       "      <td>0</td>\n",
       "      <td>1</td>\n",
       "      <td>1291766400</td>\n",
       "      <td>Yummy Curry</td>\n",
       "      <td>This is a very delicious curry, and I loved th...</td>\n",
       "    </tr>\n",
       "    <tr>\n",
       "      <th>83833</th>\n",
       "      <td>91225</td>\n",
       "      <td>B003G2JL8Q</td>\n",
       "      <td>A1F0HSH4QPP4XH</td>\n",
       "      <td>The Avenger \"I Avenge Things\"</td>\n",
       "      <td>2</td>\n",
       "      <td>2</td>\n",
       "      <td>1</td>\n",
       "      <td>1291766400</td>\n",
       "      <td>It tastes just like Lemon Iced Tea!</td>\n",
       "      <td>I am the laziest man in the world. I refuse to...</td>\n",
       "    </tr>\n",
       "    <tr>\n",
       "      <th>72811</th>\n",
       "      <td>79255</td>\n",
       "      <td>B003TNANSO</td>\n",
       "      <td>A1OHN8XKLYJ229</td>\n",
       "      <td>Marc Weinberg</td>\n",
       "      <td>1</td>\n",
       "      <td>1</td>\n",
       "      <td>1</td>\n",
       "      <td>1291766400</td>\n",
       "      <td>Delicious, filling and convenient.</td>\n",
       "      <td>A banana or an apple, some yogurt and one of t...</td>\n",
       "    </tr>\n",
       "    <tr>\n",
       "      <th>40283</th>\n",
       "      <td>43785</td>\n",
       "      <td>B001EQ5JLE</td>\n",
       "      <td>A3IAFKMF5ARYCJ</td>\n",
       "      <td>Anonymous</td>\n",
       "      <td>0</td>\n",
       "      <td>0</td>\n",
       "      <td>1</td>\n",
       "      <td>1291766400</td>\n",
       "      <td>I love this tea!</td>\n",
       "      <td>I had noticed this tea for sale at my local gr...</td>\n",
       "    </tr>\n",
       "    <tr>\n",
       "      <th>88486</th>\n",
       "      <td>96307</td>\n",
       "      <td>B000IXRFKW</td>\n",
       "      <td>A3D7FUBG14QWKX</td>\n",
       "      <td>Linda</td>\n",
       "      <td>0</td>\n",
       "      <td>2</td>\n",
       "      <td>1</td>\n",
       "      <td>1291766400</td>\n",
       "      <td>Great, but not a Heath Bar</td>\n",
       "      <td>I really don't know how to describe these.  Th...</td>\n",
       "    </tr>\n",
       "    <tr>\n",
       "      <th>25345</th>\n",
       "      <td>27677</td>\n",
       "      <td>B001EO69NS</td>\n",
       "      <td>A2MM7JLR13NHNK</td>\n",
       "      <td>cau2great</td>\n",
       "      <td>12</td>\n",
       "      <td>12</td>\n",
       "      <td>1</td>\n",
       "      <td>1291766400</td>\n",
       "      <td>Best Freeze Dried Yogurt Starter</td>\n",
       "      <td>I love this product and have been using it for...</td>\n",
       "    </tr>\n",
       "    <tr>\n",
       "      <th>80370</th>\n",
       "      <td>87388</td>\n",
       "      <td>B001SIXZPA</td>\n",
       "      <td>A2Z1U25CRSFYCA</td>\n",
       "      <td>Karen E Novacek</td>\n",
       "      <td>1</td>\n",
       "      <td>1</td>\n",
       "      <td>1</td>\n",
       "      <td>1291766400</td>\n",
       "      <td>Awesome Jerky Tenders</td>\n",
       "      <td>I purchased these as a treat for my dogs.(Yes ...</td>\n",
       "    </tr>\n",
       "    <tr>\n",
       "      <th>45151</th>\n",
       "      <td>49124</td>\n",
       "      <td>B0029O0XGQ</td>\n",
       "      <td>A1YI9SKIEHPMBO</td>\n",
       "      <td>Teacher</td>\n",
       "      <td>3</td>\n",
       "      <td>3</td>\n",
       "      <td>1</td>\n",
       "      <td>1291766400</td>\n",
       "      <td>Cats LOVE this!!!</td>\n",
       "      <td>These treat are magical, they go crazy for the...</td>\n",
       "    </tr>\n",
       "    <tr>\n",
       "      <th>27103</th>\n",
       "      <td>29560</td>\n",
       "      <td>B000PDY3P0</td>\n",
       "      <td>A1Y5VVYAQGLCRR</td>\n",
       "      <td>Outdoor Theater Dude</td>\n",
       "      <td>1</td>\n",
       "      <td>2</td>\n",
       "      <td>1</td>\n",
       "      <td>1291766400</td>\n",
       "      <td>Great Northern 4oz. Popcorn packets</td>\n",
       "      <td>Great tasting popcorn but a little salty. You ...</td>\n",
       "    </tr>\n",
       "    <tr>\n",
       "      <th>40641</th>\n",
       "      <td>44158</td>\n",
       "      <td>B0007NOWMM</td>\n",
       "      <td>A213T5N85VOZIL</td>\n",
       "      <td>Jan</td>\n",
       "      <td>0</td>\n",
       "      <td>0</td>\n",
       "      <td>1</td>\n",
       "      <td>1291766400</td>\n",
       "      <td>Delicious</td>\n",
       "      <td>The is very good coffee.  It is a bit sweet, a...</td>\n",
       "    </tr>\n",
       "    <tr>\n",
       "      <th>98141</th>\n",
       "      <td>106616</td>\n",
       "      <td>B002C5DMMY</td>\n",
       "      <td>A2GVO6CQS5MURD</td>\n",
       "      <td>J. Gardner</td>\n",
       "      <td>0</td>\n",
       "      <td>1</td>\n",
       "      <td>1</td>\n",
       "      <td>1291766400</td>\n",
       "      <td>I love me some community</td>\n",
       "      <td>I always drank community coffee when I live in...</td>\n",
       "    </tr>\n",
       "    <tr>\n",
       "      <th>24611</th>\n",
       "      <td>26892</td>\n",
       "      <td>B000E671W0</td>\n",
       "      <td>A1QTICTBQKS6I6</td>\n",
       "      <td>No Name</td>\n",
       "      <td>0</td>\n",
       "      <td>0</td>\n",
       "      <td>1</td>\n",
       "      <td>1291766400</td>\n",
       "      <td>A refreshing bargain</td>\n",
       "      <td>I drink a giant mug of this almost nightly. Pe...</td>\n",
       "    </tr>\n",
       "    <tr>\n",
       "      <th>72740</th>\n",
       "      <td>79177</td>\n",
       "      <td>B00437EB92</td>\n",
       "      <td>A3NQU1649SH0Q4</td>\n",
       "      <td>Allen Smalling \"Constant Reader,\"</td>\n",
       "      <td>1</td>\n",
       "      <td>1</td>\n",
       "      <td>1</td>\n",
       "      <td>1291766400</td>\n",
       "      <td>\"Often imitated, never duplicated\"</td>\n",
       "      <td>.&lt;br /&gt;General Mills bought the Gardetto's Sna...</td>\n",
       "    </tr>\n",
       "    <tr>\n",
       "      <th>2709</th>\n",
       "      <td>2951</td>\n",
       "      <td>B003XKKEBE</td>\n",
       "      <td>A1LWFIPFH7U81M</td>\n",
       "      <td>P. Sterin</td>\n",
       "      <td>1</td>\n",
       "      <td>1</td>\n",
       "      <td>1</td>\n",
       "      <td>1291766400</td>\n",
       "      <td>Best Green Tea Ever!</td>\n",
       "      <td>A friend brought a bag of this tea back from a...</td>\n",
       "    </tr>\n",
       "    <tr>\n",
       "      <th>45112</th>\n",
       "      <td>49085</td>\n",
       "      <td>B000QVE9EG</td>\n",
       "      <td>ARFEZ9TBWGS24</td>\n",
       "      <td>mom2aqt</td>\n",
       "      <td>1</td>\n",
       "      <td>1</td>\n",
       "      <td>1</td>\n",
       "      <td>1291766400</td>\n",
       "      <td>Naturally Declicious is not a lie</td>\n",
       "      <td>The bag reads \"Naturally Delicious\" and that i...</td>\n",
       "    </tr>\n",
       "    <tr>\n",
       "      <th>70499</th>\n",
       "      <td>76684</td>\n",
       "      <td>B0049ULB78</td>\n",
       "      <td>A27JW36LL692QF</td>\n",
       "      <td>J. Keith</td>\n",
       "      <td>0</td>\n",
       "      <td>0</td>\n",
       "      <td>1</td>\n",
       "      <td>1291766400</td>\n",
       "      <td>If you like a full, rich, flavorful coffee, th...</td>\n",
       "      <td>Great extra bold cup of coffee! I make it on t...</td>\n",
       "    </tr>\n",
       "    <tr>\n",
       "      <th>59246</th>\n",
       "      <td>64360</td>\n",
       "      <td>B003JMC5MC</td>\n",
       "      <td>A2OPOA3IBCBUN8</td>\n",
       "      <td>M. Paulson</td>\n",
       "      <td>10</td>\n",
       "      <td>11</td>\n",
       "      <td>1</td>\n",
       "      <td>1291766400</td>\n",
       "      <td>Roses</td>\n",
       "      <td>I love this tea. I found it by accident at a g...</td>\n",
       "    </tr>\n",
       "    <tr>\n",
       "      <th>57596</th>\n",
       "      <td>62462</td>\n",
       "      <td>B002UTZHZC</td>\n",
       "      <td>A30HHGQ1P5OXTZ</td>\n",
       "      <td>Stephanie Adams</td>\n",
       "      <td>4</td>\n",
       "      <td>4</td>\n",
       "      <td>1</td>\n",
       "      <td>1291766400</td>\n",
       "      <td>Love Larabars, and this is THE BEST, Jerry.</td>\n",
       "      <td>Larabars in general have my love &amp; devotion. I...</td>\n",
       "    </tr>\n",
       "    <tr>\n",
       "      <th>91180</th>\n",
       "      <td>99183</td>\n",
       "      <td>B003Y391DC</td>\n",
       "      <td>A3VX9G8YEOD2XO</td>\n",
       "      <td>A. Connercoash</td>\n",
       "      <td>22</td>\n",
       "      <td>22</td>\n",
       "      <td>1</td>\n",
       "      <td>1291766400</td>\n",
       "      <td>Love It!</td>\n",
       "      <td>This is my favorite baby food line by far. The...</td>\n",
       "    </tr>\n",
       "    <tr>\n",
       "      <th>30419</th>\n",
       "      <td>33129</td>\n",
       "      <td>B000SATIZA</td>\n",
       "      <td>A2Z8RWI69K0VOI</td>\n",
       "      <td>C. lui \"realboy\"</td>\n",
       "      <td>0</td>\n",
       "      <td>0</td>\n",
       "      <td>1</td>\n",
       "      <td>1291766400</td>\n",
       "      <td>Great product.</td>\n",
       "      <td>The tea smell fresh while open the package, sm...</td>\n",
       "    </tr>\n",
       "    <tr>\n",
       "      <th>24825</th>\n",
       "      <td>27112</td>\n",
       "      <td>B000EM8U1U</td>\n",
       "      <td>A1D5IMMO2MYG51</td>\n",
       "      <td>trupti25</td>\n",
       "      <td>0</td>\n",
       "      <td>0</td>\n",
       "      <td>1</td>\n",
       "      <td>1291766400</td>\n",
       "      <td>great tasting tea and not easily available in ...</td>\n",
       "      <td>Its a great tasting tea with subtle hint of ma...</td>\n",
       "    </tr>\n",
       "    <tr>\n",
       "      <th>68314</th>\n",
       "      <td>74303</td>\n",
       "      <td>B002TXGVPE</td>\n",
       "      <td>A3ETRO8DPITULE</td>\n",
       "      <td>JEMIMAJESSEPEARL</td>\n",
       "      <td>1</td>\n",
       "      <td>1</td>\n",
       "      <td>1</td>\n",
       "      <td>1291766400</td>\n",
       "      <td>tastes like home</td>\n",
       "      <td>Amazon rocks! I ordered a case of these.  They...</td>\n",
       "    </tr>\n",
       "    <tr>\n",
       "      <th>67388</th>\n",
       "      <td>73248</td>\n",
       "      <td>B001IZJPNO</td>\n",
       "      <td>A2R863PT6DVK1I</td>\n",
       "      <td>Zachary A. Nichols</td>\n",
       "      <td>1</td>\n",
       "      <td>1</td>\n",
       "      <td>1</td>\n",
       "      <td>1291766400</td>\n",
       "      <td>Delicious!</td>\n",
       "      <td>I received these a few days ago and so far I h...</td>\n",
       "    </tr>\n",
       "    <tr>\n",
       "      <th>97968</th>\n",
       "      <td>106437</td>\n",
       "      <td>B0036B8B0Q</td>\n",
       "      <td>A3EQOIXQEQ0CHY</td>\n",
       "      <td>Sarah D.</td>\n",
       "      <td>0</td>\n",
       "      <td>0</td>\n",
       "      <td>1</td>\n",
       "      <td>1291766400</td>\n",
       "      <td>I love them!</td>\n",
       "      <td>I'm an adult and I love this product, so it's ...</td>\n",
       "    </tr>\n",
       "    <tr>\n",
       "      <th>13155</th>\n",
       "      <td>14361</td>\n",
       "      <td>B001CWV4PA</td>\n",
       "      <td>AKGHZR2UV4LS5</td>\n",
       "      <td>polebear</td>\n",
       "      <td>0</td>\n",
       "      <td>0</td>\n",
       "      <td>1</td>\n",
       "      <td>1291766400</td>\n",
       "      <td>the best gluten free cracker!!!</td>\n",
       "      <td>I couldn't believe it the first time i tried G...</td>\n",
       "    </tr>\n",
       "    <tr>\n",
       "      <th>34635</th>\n",
       "      <td>37681</td>\n",
       "      <td>B002R81L92</td>\n",
       "      <td>A2NLI0KAMVP0IH</td>\n",
       "      <td>Liz&amp;gt;B</td>\n",
       "      <td>0</td>\n",
       "      <td>0</td>\n",
       "      <td>1</td>\n",
       "      <td>1291766400</td>\n",
       "      <td>Yummy~</td>\n",
       "      <td>The chocolate covered pomegranates are so hard...</td>\n",
       "    </tr>\n",
       "  </tbody>\n",
       "</table>\n",
       "<p>30000 rows × 10 columns</p>\n",
       "</div>"
      ],
      "text/plain": [
       "           Id   ProductId          UserId  \\\n",
       "70688   76882  B00002N8SM  A32DW342WBJ6BX   \n",
       "1146     1245  B00002Z754  A29Z5PI9BW2PU3   \n",
       "1145     1244  B00002Z754  A3B8RCEI0FXFI6   \n",
       "28086   30629  B00008RCMI  A19E94CF5O1LY7   \n",
       "28087   30630  B00008RCMI  A284C7M23F0APC   \n",
       "61299   66610  B0000SY9U4  A3EEDHNHI4WNSH   \n",
       "38740   42069  B0000EIEQU  A1YMJX4YWCE6P4   \n",
       "38889   42227  B0000A0BS8  A1IU7S4HCK1XK0   \n",
       "38888   42226  B0000A0BS8  A23GFTVIETX7DS   \n",
       "10992   11991  B0000T15M8  A2928LJN5IISB4   \n",
       "28085   30628  B00008RCMI  A3AKWA5CWSKOOH   \n",
       "97546  105988  B0000DG4EJ   AVCJ3K0HFRRUM   \n",
       "96196  104537  B0000DG5B6  A1S3DOTCYJPE4O   \n",
       "62127   67497  B0000D9N7U    AQFIH82DRPMW   \n",
       "87386   95119  B0000DIYIJ  A3S4XR84R8S0TV   \n",
       "39671   43130  B0000W2SZS  A2BETN6Y2DEFZ1   \n",
       "48952   53177  B002UUJ590  A2IF5C0I5BH11F   \n",
       "24061   26313  B000121BY6  A281NPSIMI1C2R   \n",
       "86598   94281  B0000CNU2Q  A1NOWEOLKMRRXM   \n",
       "86599   94282  B0000CNU2Q  A1IU7S4HCK1XK0   \n",
       "81698   88850  B00015UELO  A1ZF35RV6WGYFG   \n",
       "94002  102194  B0000UD67Y  A18O1KPT80HUDQ   \n",
       "94024  102216  B0000GH6UG  A1J2NULS2YDNAQ   \n",
       "94001  102193  B0000UD67Y  A2QG8VTCMUQDO2   \n",
       "24220   26484  B0000TLEEW  A3M174IC0VXOS2   \n",
       "94494  102712  B0000D9N63  A2P8AVWJO0CVGL   \n",
       "7427     8111  B0000EIE2Z  A3M174IC0VXOS2   \n",
       "25005   27304  B000J36EQC  A28SJYEFR84MU1   \n",
       "97771  106224  B0000DJT3C  A1ETIK7N9ZWZY9   \n",
       "94382  102594  B0000D9N6V  A28ECE800BV42W   \n",
       "...       ...         ...             ...   \n",
       "17859   19469  B000F50WMG  A3NODK8D32RENU   \n",
       "39863   43338  B0014ET24G  A3HRWI625FU9LR   \n",
       "97734  106187  B001SATWWS   A5QQQMSU6G2FJ   \n",
       "47732   51889  B001HWWKGW  A34M7DQALDVX8R   \n",
       "81386   88508  B000N0EZX0  A3KX6V3QVT5U7B   \n",
       "83833   91225  B003G2JL8Q  A1F0HSH4QPP4XH   \n",
       "72811   79255  B003TNANSO  A1OHN8XKLYJ229   \n",
       "40283   43785  B001EQ5JLE  A3IAFKMF5ARYCJ   \n",
       "88486   96307  B000IXRFKW  A3D7FUBG14QWKX   \n",
       "25345   27677  B001EO69NS  A2MM7JLR13NHNK   \n",
       "80370   87388  B001SIXZPA  A2Z1U25CRSFYCA   \n",
       "45151   49124  B0029O0XGQ  A1YI9SKIEHPMBO   \n",
       "27103   29560  B000PDY3P0  A1Y5VVYAQGLCRR   \n",
       "40641   44158  B0007NOWMM  A213T5N85VOZIL   \n",
       "98141  106616  B002C5DMMY  A2GVO6CQS5MURD   \n",
       "24611   26892  B000E671W0  A1QTICTBQKS6I6   \n",
       "72740   79177  B00437EB92  A3NQU1649SH0Q4   \n",
       "2709     2951  B003XKKEBE  A1LWFIPFH7U81M   \n",
       "45112   49085  B000QVE9EG   ARFEZ9TBWGS24   \n",
       "70499   76684  B0049ULB78  A27JW36LL692QF   \n",
       "59246   64360  B003JMC5MC  A2OPOA3IBCBUN8   \n",
       "57596   62462  B002UTZHZC  A30HHGQ1P5OXTZ   \n",
       "91180   99183  B003Y391DC  A3VX9G8YEOD2XO   \n",
       "30419   33129  B000SATIZA  A2Z8RWI69K0VOI   \n",
       "24825   27112  B000EM8U1U  A1D5IMMO2MYG51   \n",
       "68314   74303  B002TXGVPE  A3ETRO8DPITULE   \n",
       "67388   73248  B001IZJPNO  A2R863PT6DVK1I   \n",
       "97968  106437  B0036B8B0Q  A3EQOIXQEQ0CHY   \n",
       "13155   14361  B001CWV4PA   AKGHZR2UV4LS5   \n",
       "34635   37681  B002R81L92  A2NLI0KAMVP0IH   \n",
       "\n",
       "                                            ProfileName  HelpfulnessNumerator  \\\n",
       "70688                                       Buttersugar                     0   \n",
       "1146                                             Robbie                     7   \n",
       "1145                                          B G Chase                    10   \n",
       "28086                                     Andrew Arnold                     0   \n",
       "28087                                        A. Mendoza                     0   \n",
       "61299                                   Joanna J. Young                    23   \n",
       "38740             Jim Carson \"http://www.jimcarson.com\"                    12   \n",
       "38889                                    Joanna Daneman                     5   \n",
       "38888                             Debbie Lee Wesselmann                     5   \n",
       "10992                                           chatchi                     5   \n",
       "28085  Ilaxi S. Patel \"Editor, kidsfreesouls.com & A...                     0   \n",
       "97546                                        H. Johnson                     0   \n",
       "96196                               hervin02 \"hervin02\"                     0   \n",
       "62127                                   Patrick O'Brien                    26   \n",
       "87386                                   Brook Lindquist                     0   \n",
       "39671                                            Catnip                    11   \n",
       "48952                                              Kala                    17   \n",
       "24061            Rebecca of Amazon \"The Rebecca Review\"                     9   \n",
       "86598                         T. Reinhardt \"olivia lee\"                    27   \n",
       "86599                                    Joanna Daneman                    14   \n",
       "81698                            Gloriya O. Grinsteiner                     4   \n",
       "94002                              K. Moore \"collegian\"                     0   \n",
       "94024                                     Matt Cromwell                     8   \n",
       "94001                                        A. J. Lamb                     0   \n",
       "24220                                        Gail Cooke                     5   \n",
       "94494                                 Dipper Lips \"DIP\"                     3   \n",
       "7427                                         Gail Cooke                     3   \n",
       "25005                                          L Flores                     0   \n",
       "97771                                     Call Me Jonah                     5   \n",
       "94382                                       \"bungfritz\"                     5   \n",
       "...                                                 ...                   ...   \n",
       "17859                                      Emily Guffey                     1   \n",
       "39863                                              Kate                     3   \n",
       "97734                                       SkyVanMommy                     1   \n",
       "47732                                            Tricia                     0   \n",
       "81386                                              Yune                     0   \n",
       "83833                     The Avenger \"I Avenge Things\"                     2   \n",
       "72811                                     Marc Weinberg                     1   \n",
       "40283                                         Anonymous                     0   \n",
       "88486                                             Linda                     0   \n",
       "25345                                         cau2great                    12   \n",
       "80370                                   Karen E Novacek                     1   \n",
       "45151                                           Teacher                     3   \n",
       "27103                              Outdoor Theater Dude                     1   \n",
       "40641                                               Jan                     0   \n",
       "98141                                        J. Gardner                     0   \n",
       "24611                                           No Name                     0   \n",
       "72740                 Allen Smalling \"Constant Reader,\"                     1   \n",
       "2709                                          P. Sterin                     1   \n",
       "45112                                           mom2aqt                     1   \n",
       "70499                                          J. Keith                     0   \n",
       "59246                                        M. Paulson                    10   \n",
       "57596                                   Stephanie Adams                     4   \n",
       "91180                                    A. Connercoash                    22   \n",
       "30419                                  C. lui \"realboy\"                     0   \n",
       "24825                                          trupti25                     0   \n",
       "68314                                  JEMIMAJESSEPEARL                     1   \n",
       "67388                                Zachary A. Nichols                     1   \n",
       "97968                                          Sarah D.                     0   \n",
       "13155                                          polebear                     0   \n",
       "34635                                          Liz&gt;B                     0   \n",
       "\n",
       "       HelpfulnessDenominator  Score        Time  \\\n",
       "70688                       0      1   948672000   \n",
       "1146                        7      1   961718400   \n",
       "1145                       10      1   962236800   \n",
       "28086                       0      1  1067040000   \n",
       "28087                       0      1  1067040000   \n",
       "61299                      23      1  1067472000   \n",
       "38740                      12      1  1067558400   \n",
       "38889                       5      1  1067644800   \n",
       "38888                       5      1  1067904000   \n",
       "10992                       5      1  1067990400   \n",
       "28085                       0      1  1068076800   \n",
       "97546                       0      1  1068076800   \n",
       "96196                       0      1  1068422400   \n",
       "62127                      26      1  1068940800   \n",
       "87386                       1      1  1069113600   \n",
       "39671                      11      1  1069459200   \n",
       "48952                      18      1  1070668800   \n",
       "24061                       9      1  1071100800   \n",
       "86598                      27      1  1071705600   \n",
       "86599                      14      1  1072656000   \n",
       "81698                       6      1  1072656000   \n",
       "94002                       0      1  1072656000   \n",
       "94024                      12      1  1073692800   \n",
       "94001                       0      1  1074124800   \n",
       "24220                       6      1  1075075200   \n",
       "94494                       9      1  1075161600   \n",
       "7427                        3      1  1075420800   \n",
       "25005                       0      1  1075680000   \n",
       "97771                       7      1  1075766400   \n",
       "94382                       5      1  1075939200   \n",
       "...                       ...    ...         ...   \n",
       "17859                       4      0  1291766400   \n",
       "39863                       3      1  1291766400   \n",
       "97734                       1      1  1291766400   \n",
       "47732                       0      1  1291766400   \n",
       "81386                       0      1  1291766400   \n",
       "83833                       2      1  1291766400   \n",
       "72811                       1      1  1291766400   \n",
       "40283                       0      1  1291766400   \n",
       "88486                       2      1  1291766400   \n",
       "25345                      12      1  1291766400   \n",
       "80370                       1      1  1291766400   \n",
       "45151                       3      1  1291766400   \n",
       "27103                       2      1  1291766400   \n",
       "40641                       0      1  1291766400   \n",
       "98141                       1      1  1291766400   \n",
       "24611                       0      1  1291766400   \n",
       "72740                       1      1  1291766400   \n",
       "2709                        1      1  1291766400   \n",
       "45112                       1      1  1291766400   \n",
       "70499                       0      1  1291766400   \n",
       "59246                      11      1  1291766400   \n",
       "57596                       4      1  1291766400   \n",
       "91180                      22      1  1291766400   \n",
       "30419                       0      1  1291766400   \n",
       "24825                       0      1  1291766400   \n",
       "68314                       1      1  1291766400   \n",
       "67388                       1      1  1291766400   \n",
       "97968                       0      1  1291766400   \n",
       "13155                       0      1  1291766400   \n",
       "34635                       0      1  1291766400   \n",
       "\n",
       "                                                 Summary  \\\n",
       "70688                             A sure death for flies   \n",
       "1146                                       Great Product   \n",
       "1145                      WOW Make your own 'slickers' !   \n",
       "28086         I've chewed this gum many times, but used?   \n",
       "28087                           Best sugarless gum ever!   \n",
       "61299                                              Yummy   \n",
       "38740                                  These limes rule!   \n",
       "38889                         I gave up on other coffees   \n",
       "38888                   Five stars if you like Starbucks   \n",
       "10992                             The fruits of my labor   \n",
       "28085                         Refreshing Mouth Freshner!   \n",
       "97546                                    *Yummy* *Spicy*   \n",
       "96196                                   Excellent Sauce!   \n",
       "62127                                            Try It!   \n",
       "87386                                 A very cute candy!   \n",
       "39671          Imparts wonderful, light flavor to dishes   \n",
       "48952                              Jelly Belly Overload!   \n",
       "24061                            I fell in love in Paris   \n",
       "86598       The best bread crumbs...you'll never go back   \n",
       "86599                        Essential for Tonkatsu, etc   \n",
       "81698                           everything is excellent!   \n",
       "94002                                        Simply Chai   \n",
       "94024                Chocolate Like You've Never Had It!   \n",
       "94001                                     Excellent Chai   \n",
       "24220              JUST LIKE GRANDMOTHER USED TO........   \n",
       "94494  Yes, You Can Eat It All In One Sitting and Sip...   \n",
       "7427                                    BEST BLUEBERRIES   \n",
       "25005                                    My Favorite Tea   \n",
       "97771        For those who enjoy playing with their food   \n",
       "94382      Best example of a blue cheese I've ever tried   \n",
       "...                                                  ...   \n",
       "17859                                     NOT WORTH IT!!   \n",
       "39863                                      Amazing drink   \n",
       "97734                                     Coffee please.   \n",
       "47732                                         Tea K-Cups   \n",
       "81386                                        Yummy Curry   \n",
       "83833                It tastes just like Lemon Iced Tea!   \n",
       "72811                 Delicious, filling and convenient.   \n",
       "40283                                   I love this tea!   \n",
       "88486                         Great, but not a Heath Bar   \n",
       "25345                   Best Freeze Dried Yogurt Starter   \n",
       "80370                              Awesome Jerky Tenders   \n",
       "45151                                  Cats LOVE this!!!   \n",
       "27103                Great Northern 4oz. Popcorn packets   \n",
       "40641                                          Delicious   \n",
       "98141                           I love me some community   \n",
       "24611                               A refreshing bargain   \n",
       "72740                 \"Often imitated, never duplicated\"   \n",
       "2709                                Best Green Tea Ever!   \n",
       "45112                  Naturally Declicious is not a lie   \n",
       "70499  If you like a full, rich, flavorful coffee, th...   \n",
       "59246                                              Roses   \n",
       "57596        Love Larabars, and this is THE BEST, Jerry.   \n",
       "91180                                           Love It!   \n",
       "30419                                     Great product.   \n",
       "24825  great tasting tea and not easily available in ...   \n",
       "68314                                   tastes like home   \n",
       "67388                                         Delicious!   \n",
       "97968                                       I love them!   \n",
       "13155                    the best gluten free cracker!!!   \n",
       "34635                                             Yummy~   \n",
       "\n",
       "                                                    Text  \n",
       "70688  I bought a few of these after my apartment was...  \n",
       "1146   This was a really good idea and the final prod...  \n",
       "1145   I just received my shipment and could hardly w...  \n",
       "28086  Nothing against the product, but it does bothe...  \n",
       "28087  I love this stuff. It is sugar-free so it does...  \n",
       "61299  If you've never tried Kona coffee, Aloha Islan...  \n",
       "38740  Fresh limes are underappreciated, but a joy to...  \n",
       "38889  The grocery store has all kinds of &quot;gourm...  \n",
       "38888  This blend is one of Starbucks' gentler blends...  \n",
       "10992  When chatchi's favorite afternoon treat became...  \n",
       "28085  A tennis player hubby of mine got this pack on...  \n",
       "97546  Forget that store bought jerky.  Make your own...  \n",
       "96196  This sauce is excellent, and indeed spicy.  Th...  \n",
       "62127  If you've never had real Swiss fondue, you're ...  \n",
       "87386  This is definitely a cute product to order.  Y...  \n",
       "39671  I discovered these oils years ago, bought one ...  \n",
       "48952  I'm a huge fan of Jelly Belly jelly beans, so ...  \n",
       "24061  Yes, with this juice. Apparently I'm not the o...  \n",
       "86598  Panko bread crumbs are just awesome.  When use...  \n",
       "86599  This is the Japanese version of breadcrumb (pa...  \n",
       "81698  I highly recommend to have business with this ...  \n",
       "94002  I've tried many of packaged Chai products - li...  \n",
       "94024  I was first turned onto this chocolate when I ...  \n",
       "94001  I have searched for a great decaf chai and hav...  \n",
       "24220  For those who enjoy a rich spread for toast, c...  \n",
       "94494  And it is GOOD!!! You get a half pound of Cots...  \n",
       "7427   In the winter when fresh blueberries exceed ou...  \n",
       "25005  I love Sleepytime Tea!  I've been drinking it ...  \n",
       "97771  They're shaped like Legos and they taste like ...  \n",
       "94382  And that is no exagerration!  Roaring 40's Blu...  \n",
       "...                                                  ...  \n",
       "17859  I ordered 3 of these for each of my daughters....  \n",
       "39863  I, like most other college students find it ve...  \n",
       "97734  Community Coffee is consistently excellent cof...  \n",
       "47732  Love this tea!  Been drinking tea for years an...  \n",
       "81386  This is a very delicious curry, and I loved th...  \n",
       "83833  I am the laziest man in the world. I refuse to...  \n",
       "72811  A banana or an apple, some yogurt and one of t...  \n",
       "40283  I had noticed this tea for sale at my local gr...  \n",
       "88486  I really don't know how to describe these.  Th...  \n",
       "25345  I love this product and have been using it for...  \n",
       "80370  I purchased these as a treat for my dogs.(Yes ...  \n",
       "45151  These treat are magical, they go crazy for the...  \n",
       "27103  Great tasting popcorn but a little salty. You ...  \n",
       "40641  The is very good coffee.  It is a bit sweet, a...  \n",
       "98141  I always drank community coffee when I live in...  \n",
       "24611  I drink a giant mug of this almost nightly. Pe...  \n",
       "72740  .<br />General Mills bought the Gardetto's Sna...  \n",
       "2709   A friend brought a bag of this tea back from a...  \n",
       "45112  The bag reads \"Naturally Delicious\" and that i...  \n",
       "70499  Great extra bold cup of coffee! I make it on t...  \n",
       "59246  I love this tea. I found it by accident at a g...  \n",
       "57596  Larabars in general have my love & devotion. I...  \n",
       "91180  This is my favorite baby food line by far. The...  \n",
       "30419  The tea smell fresh while open the package, sm...  \n",
       "24825  Its a great tasting tea with subtle hint of ma...  \n",
       "68314  Amazon rocks! I ordered a case of these.  They...  \n",
       "67388  I received these a few days ago and so far I h...  \n",
       "97968  I'm an adult and I love this product, so it's ...  \n",
       "13155  I couldn't believe it the first time i tried G...  \n",
       "34635  The chocolate covered pomegranates are so hard...  \n",
       "\n",
       "[30000 rows x 10 columns]"
      ]
     },
     "execution_count": 14,
     "metadata": {},
     "output_type": "execute_result"
    }
   ],
   "source": [
    "final = final.sort_values(['Time'], axis=0)\n",
    "final.head(30000)"
   ]
  },
  {
   "cell_type": "code",
   "execution_count": 15,
   "metadata": {},
   "outputs": [
    {
     "name": "stdout",
     "output_type": "stream",
     "text": [
      "(87773, 10)\n"
     ]
    },
    {
     "data": {
      "text/plain": [
       "1    73592\n",
       "0    14181\n",
       "Name: Score, dtype: int64"
      ]
     },
     "execution_count": 15,
     "metadata": {},
     "output_type": "execute_result"
    }
   ],
   "source": [
    "#Before starting the next phase of preprocessing lets see the number of entries left\n",
    "print(final.shape)\n",
    "\n",
    "#How many positive and negative reviews are present in our dataset?\n",
    "final['Score'].value_counts()"
   ]
  },
  {
   "cell_type": "markdown",
   "metadata": {},
   "source": [
    "#  [3] Preprocessing"
   ]
  },
  {
   "cell_type": "markdown",
   "metadata": {},
   "source": [
    "## [3.1].  Preprocessing Review Text\n",
    "\n",
    "Now that we have finished deduplication our data requires some preprocessing before we go on further with analysis and making the prediction model.\n",
    "\n",
    "Hence in the Preprocessing phase we do the following in the order below:-\n",
    "\n",
    "1. Begin by removing the html tags\n",
    "2. Remove any punctuations or limited set of special characters like , or . or # etc.\n",
    "3. Check if the word is made up of english letters and is not alpha-numeric\n",
    "4. Check to see if the length of the word is greater than 2 (as it was researched that there is no adjective in 2-letters)\n",
    "5. Convert the word to lowercase\n",
    "6. Remove Stopwords\n",
    "7. Finally Snowball Stemming the word (it was obsereved to be better than Porter Stemming)<br>\n",
    "\n",
    "After which we collect the words used to describe positive and negative reviews"
   ]
  },
  {
   "cell_type": "code",
   "execution_count": 16,
   "metadata": {},
   "outputs": [
    {
     "name": "stdout",
     "output_type": "stream",
     "text": [
      "I bought a few of these after my apartment was infested with fruit flies. After only a few hours, the trap had &quot;attracted&quot; many flies and within a few days they were practically gone. This may not be a long term  solution, but if flies are driving you crazy, consider buying this. One  caution- the surface is very sticky, so try to avoid touching it.\n",
      "==================================================\n",
      "I have made these brownies for family and for a den of cub scouts and no one would have known they were gluten free and everyone asked for seconds!  These brownies have a fudgy texture and have bits of chocolate chips in them which are delicious.  I would say the mix is very thick and a little difficult to work with.  The cooked brownies are slightly difficult to cut into very neat edges as the edges tend to crumble a little and I would also say that they make a slightly thinner layer of brownies than most of the store brand gluten containing but they taste just as good, if not better.  Highly recommended!<br /><br />(For those wondering, this mix requires 2 eggs OR 4 egg whites and 7 tbs melted butter to prepare.  They do have suggestions for lactose free and low fat preparations)\n",
      "==================================================\n",
      "This gum is my absolute favorite. By purchasing on amazon I can get the savings of large quanities at a very good price. I highly recommend to all gum chewers. Plus as you enjoy the peppermint flavor and freshing of breath you are whitening your teeth all at the same time.\n",
      "==================================================\n",
      "This is an excellent product, both tastey and priced right. It's difficult to find this product in regular local grocery stores, so I was thrilled to find it.\n",
      "==================================================\n"
     ]
    }
   ],
   "source": [
    "# printing some random reviews\n",
    "sent_0 = final['Text'].values[0]\n",
    "print(sent_0)\n",
    "print(\"=\"*50)\n",
    "\n",
    "sent_1000 = final['Text'].values[1000]\n",
    "print(sent_1000)\n",
    "print(\"=\"*50)\n",
    "\n",
    "sent_1500 = final['Text'].values[1500]\n",
    "print(sent_1500)\n",
    "print(\"=\"*50)\n",
    "\n",
    "sent_4900 = final['Text'].values[4900]\n",
    "print(sent_4900)\n",
    "print(\"=\"*50)"
   ]
  },
  {
   "cell_type": "code",
   "execution_count": 17,
   "metadata": {},
   "outputs": [
    {
     "name": "stdout",
     "output_type": "stream",
     "text": [
      "I bought a few of these after my apartment was infested with fruit flies. After only a few hours, the trap had &quot;attracted&quot; many flies and within a few days they were practically gone. This may not be a long term  solution, but if flies are driving you crazy, consider buying this. One  caution- the surface is very sticky, so try to avoid touching it.\n"
     ]
    }
   ],
   "source": [
    "# remove urls from text python: https://stackoverflow.com/a/40823105/4084039\n",
    "sent_0 = re.sub(r\"http\\S+\", \"\", sent_0)\n",
    "sent_1000 = re.sub(r\"http\\S+\", \"\", sent_1000)\n",
    "sent_150 = re.sub(r\"http\\S+\", \"\", sent_1500)\n",
    "sent_4900 = re.sub(r\"http\\S+\", \"\", sent_4900)\n",
    "\n",
    "print(sent_0)"
   ]
  },
  {
   "cell_type": "code",
   "execution_count": 18,
   "metadata": {},
   "outputs": [
    {
     "name": "stdout",
     "output_type": "stream",
     "text": [
      "I bought a few of these after my apartment was infested with fruit flies. After only a few hours, the trap had \"attracted\" many flies and within a few days they were practically gone. This may not be a long term  solution, but if flies are driving you crazy, consider buying this. One  caution- the surface is very sticky, so try to avoid touching it.\n",
      "==================================================\n",
      "I have made these brownies for family and for a den of cub scouts and no one would have known they were gluten free and everyone asked for seconds!  These brownies have a fudgy texture and have bits of chocolate chips in them which are delicious.  I would say the mix is very thick and a little difficult to work with.  The cooked brownies are slightly difficult to cut into very neat edges as the edges tend to crumble a little and I would also say that they make a slightly thinner layer of brownies than most of the store brand gluten containing but they taste just as good, if not better.  Highly recommended!(For those wondering, this mix requires 2 eggs OR 4 egg whites and 7 tbs melted butter to prepare.  They do have suggestions for lactose free and low fat preparations)\n",
      "==================================================\n",
      "This gum is my absolute favorite. By purchasing on amazon I can get the savings of large quanities at a very good price. I highly recommend to all gum chewers. Plus as you enjoy the peppermint flavor and freshing of breath you are whitening your teeth all at the same time.\n",
      "==================================================\n",
      "This is an excellent product, both tastey and priced right. It's difficult to find this product in regular local grocery stores, so I was thrilled to find it.\n"
     ]
    }
   ],
   "source": [
    "# https://stackoverflow.com/questions/16206380/python-beautifulsoup-how-to-remove-all-tags-from-an-element\n",
    "from bs4 import BeautifulSoup\n",
    "\n",
    "soup = BeautifulSoup(sent_0, 'lxml')\n",
    "text = soup.get_text()\n",
    "print(text)\n",
    "print(\"=\"*50)\n",
    "\n",
    "soup = BeautifulSoup(sent_1000, 'lxml')\n",
    "text = soup.get_text()\n",
    "print(text)\n",
    "print(\"=\"*50)\n",
    "\n",
    "soup = BeautifulSoup(sent_1500, 'lxml')\n",
    "text = soup.get_text()\n",
    "print(text)\n",
    "print(\"=\"*50)\n",
    "\n",
    "soup = BeautifulSoup(sent_4900, 'lxml')\n",
    "text = soup.get_text()\n",
    "print(text)"
   ]
  },
  {
   "cell_type": "code",
   "execution_count": 19,
   "metadata": {},
   "outputs": [],
   "source": [
    "# https://stackoverflow.com/a/47091490/4084039\n",
    "import re\n",
    "\n",
    "def decontracted(phrase):\n",
    "    # specific\n",
    "    phrase = re.sub(r\"won't\", \"will not\", phrase)\n",
    "    phrase = re.sub(r\"can\\'t\", \"can not\", phrase)\n",
    "\n",
    "    # general\n",
    "    phrase = re.sub(r\"n\\'t\", \" not\", phrase)\n",
    "    phrase = re.sub(r\"\\'re\", \" are\", phrase)\n",
    "    phrase = re.sub(r\"\\'s\", \" is\", phrase)\n",
    "    phrase = re.sub(r\"\\'d\", \" would\", phrase)\n",
    "    phrase = re.sub(r\"\\'ll\", \" will\", phrase)\n",
    "    phrase = re.sub(r\"\\'t\", \" not\", phrase)\n",
    "    phrase = re.sub(r\"\\'ve\", \" have\", phrase)\n",
    "    phrase = re.sub(r\"\\'m\", \" am\", phrase)\n",
    "    return phrase"
   ]
  },
  {
   "cell_type": "code",
   "execution_count": 22,
   "metadata": {},
   "outputs": [
    {
     "name": "stdout",
     "output_type": "stream",
     "text": [
      "tangy ginger flavor - very pleasing to the senses; only takes a small amount to make a delicious cup of hot tea or iced tea in a pitcher for the refrigerator\n",
      "==================================================\n"
     ]
    }
   ],
   "source": [
    "sent_1500 = decontracted(sent_1500)\n",
    "print(sent_1500)\n",
    "print(\"=\"*50)"
   ]
  },
  {
   "cell_type": "code",
   "execution_count": 20,
   "metadata": {
    "scrolled": true
   },
   "outputs": [
    {
     "name": "stdout",
     "output_type": "stream",
     "text": [
      "I bought a few of these after my apartment was infested with fruit flies. After only a few hours, the trap had &quot;attracted&quot; many flies and within a few days they were practically gone. This may not be a long term  solution, but if flies are driving you crazy, consider buying this. One  caution- the surface is very sticky, so try to avoid touching it.\n"
     ]
    }
   ],
   "source": [
    "#remove words with numbers python: https://stackoverflow.com/a/18082370/4084039\n",
    "sent_0 = re.sub(\"\\S*\\d\\S*\", \"\", sent_0).strip()\n",
    "print(sent_0)"
   ]
  },
  {
   "cell_type": "code",
   "execution_count": 21,
   "metadata": {},
   "outputs": [
    {
     "name": "stdout",
     "output_type": "stream",
     "text": [
      "This gum is my absolute favorite By purchasing on amazon I can get the savings of large quanities at a very good price I highly recommend to all gum chewers Plus as you enjoy the peppermint flavor and freshing of breath you are whitening your teeth all at the same time \n"
     ]
    }
   ],
   "source": [
    "#remove spacial character: https://stackoverflow.com/a/5843547/4084039\n",
    "sent_1500 = re.sub('[^A-Za-z0-9]+', ' ', sent_1500)\n",
    "print(sent_1500)"
   ]
  },
  {
   "cell_type": "code",
   "execution_count": 22,
   "metadata": {},
   "outputs": [],
   "source": [
    "# https://gist.github.com/sebleier/554280\n",
    "# we are removing the words from the stop words list: 'no', 'nor', 'not'\n",
    "# <br /><br /> ==> after the above steps, we are getting \"br br\"\n",
    "# we are including them into stop words list\n",
    "# instead of <br /> if we have <br/> these tags would have revmoved in the 1st step\n",
    "\n",
    "stopwords= set(['br', 'the', 'i', 'me', 'my', 'myself', 'we', 'our', 'ours', 'ourselves', 'you', \"you're\", \"you've\",\\\n",
    "            \"you'll\", \"you'd\", 'your', 'yours', 'yourself', 'yourselves', 'he', 'him', 'his', 'himself', \\\n",
    "            'she', \"she's\", 'her', 'hers', 'herself', 'it', \"it's\", 'its', 'itself', 'they', 'them', 'their',\\\n",
    "            'theirs', 'themselves', 'what', 'which', 'who', 'whom', 'this', 'that', \"that'll\", 'these', 'those', \\\n",
    "            'am', 'is', 'are', 'was', 'were', 'be', 'been', 'being', 'have', 'has', 'had', 'having', 'do', 'does', \\\n",
    "            'did', 'doing', 'a', 'an', 'the', 'and', 'but', 'if', 'or', 'because', 'as', 'until', 'while', 'of', \\\n",
    "            'at', 'by', 'for', 'with', 'about', 'against', 'between', 'into', 'through', 'during', 'before', 'after',\\\n",
    "            'above', 'below', 'to', 'from', 'up', 'down', 'in', 'out', 'on', 'off', 'over', 'under', 'again', 'further',\\\n",
    "            'then', 'once', 'here', 'there', 'when', 'where', 'why', 'how', 'all', 'any', 'both', 'each', 'few', 'more',\\\n",
    "            'most', 'other', 'some', 'such', 'only', 'own', 'same', 'so', 'than', 'too', 'very', \\\n",
    "            's', 't', 'can', 'will', 'just', 'don', \"don't\", 'should', \"should've\", 'now', 'd', 'll', 'm', 'o', 're', \\\n",
    "            've', 'y', 'ain', 'aren', \"aren't\", 'couldn', \"couldn't\", 'didn', \"didn't\", 'doesn', \"doesn't\", 'hadn',\\\n",
    "            \"hadn't\", 'hasn', \"hasn't\", 'haven', \"haven't\", 'isn', \"isn't\", 'ma', 'mightn', \"mightn't\", 'mustn',\\\n",
    "            \"mustn't\", 'needn', \"needn't\", 'shan', \"shan't\", 'shouldn', \"shouldn't\", 'wasn', \"wasn't\", 'weren', \"weren't\", \\\n",
    "            'won', \"won't\", 'wouldn', \"wouldn't\"])"
   ]
  },
  {
   "cell_type": "code",
   "execution_count": 23,
   "metadata": {},
   "outputs": [
    {
     "name": "stderr",
     "output_type": "stream",
     "text": [
      "100%|██████████████████████████████████████████████████████████████████████████| 87773/87773 [01:17<00:00, 1131.88it/s]\n"
     ]
    }
   ],
   "source": [
    "# Combining all the above stundents \n",
    "from tqdm import tqdm\n",
    "from bs4 import BeautifulSoup\n",
    "preprocessed_reviews = []\n",
    "# tqdm is for printing the status bar\n",
    "for sentance in tqdm(final['Text'].values):\n",
    "    sentance = re.sub(r\"http\\S+\", \"\", sentance)\n",
    "    sentance = BeautifulSoup(sentance, 'lxml').get_text()\n",
    "    sentance = decontracted(sentance)\n",
    "    sentance = re.sub(\"\\S*\\d\\S*\", \"\", sentance).strip()\n",
    "    sentance = re.sub('[^A-Za-z]+', ' ', sentance)\n",
    "    # https://gist.github.com/sebleier/554280\n",
    "    sentance = ' '.join(e.lower() for e in sentance.split() if e.lower() not in stopwords)\n",
    "    preprocessed_reviews.append(sentance.strip())"
   ]
  },
  {
   "cell_type": "code",
   "execution_count": 24,
   "metadata": {},
   "outputs": [
    {
     "data": {
      "text/plain": [
       "'gum absolute favorite purchasing amazon get savings large quanities good price highly recommend gum chewers plus enjoy peppermint flavor freshing breath whitening teeth time'"
      ]
     },
     "execution_count": 24,
     "metadata": {},
     "output_type": "execute_result"
    }
   ],
   "source": [
    "preprocessed_reviews[1500]"
   ]
  },
  {
   "cell_type": "markdown",
   "metadata": {},
   "source": [
    "<h2><font color='red'>[3.2] Preprocessing Review Summary</font></h2>"
   ]
  },
  {
   "cell_type": "code",
   "execution_count": 24,
   "metadata": {},
   "outputs": [
    {
     "name": "stderr",
     "output_type": "stream",
     "text": [
      "100%|██████████████████████████████████████████████████████████████████████████| 87773/87773 [01:02<00:00, 1413.55it/s]\n"
     ]
    }
   ],
   "source": [
    "## Similartly you can do preprocessing for review summary also.\n",
    "from tqdm import tqdm\n",
    "from bs4 import BeautifulSoup\n",
    "preprocessed_summary = []\n",
    "# tqdm is for printing the status bar\n",
    "for sentance in tqdm(final['Text'].values):\n",
    "    sentance = re.sub(r\"http\\S+\", \"\", sentance)\n",
    "    sentance = BeautifulSoup(sentance, 'lxml').get_text()\n",
    "    sentance = decontracted(sentance)\n",
    "    sentance = re.sub(\"\\S*\\d\\S*\", \"\", sentance).strip()\n",
    "    sentance = re.sub('[^A-Za-z]+', '', sentance)\n",
    "    # https://gist.github.com/sebleier/554280\n",
    "    sentance = ' '.join(e.lower() for e in sentance.split() if e.lower() not in stopwords)\n",
    "    preprocessed_summary.append(sentance.strip())"
   ]
  },
  {
   "cell_type": "code",
   "execution_count": 25,
   "metadata": {},
   "outputs": [
    {
     "data": {
      "text/plain": [
       "'thecandyblockswereanicevisualforthelegobirthdaypartybutthecandyhaslittletastetoitverylittleofthelbsthatiboughtwereeatenandithrewtherestawayiwouldnotbuythecandyagain'"
      ]
     },
     "execution_count": 25,
     "metadata": {},
     "output_type": "execute_result"
    }
   ],
   "source": [
    "preprocessed_summary[1000]"
   ]
  },
  {
   "cell_type": "markdown",
   "metadata": {},
   "source": [
    "# [4] Featurization"
   ]
  },
  {
   "cell_type": "markdown",
   "metadata": {},
   "source": [
    "## [4.1] BAG OF WORDS"
   ]
  },
  {
   "cell_type": "code",
   "execution_count": 25,
   "metadata": {},
   "outputs": [
    {
     "name": "stdout",
     "output_type": "stream",
     "text": [
      "some feature names  ['aa', 'aaa', 'aaaa', 'aaaaa', 'aaaaaaaaaaaa', 'aaaaaaaaaaaaaaa', 'aaaaaaahhhhhh', 'aaaaaaarrrrrggghhh', 'aaaaaawwwwwwwwww', 'aaaaah']\n",
      "==================================================\n",
      "the type of count vectorizer  <class 'scipy.sparse.csr.csr_matrix'>\n",
      "the shape of out text BOW vectorizer  (87773, 54904)\n",
      "the number of unique words  54904\n"
     ]
    }
   ],
   "source": [
    "#BoW\n",
    "count_vect = CountVectorizer() #in scikit-learn\n",
    "count_vect.fit(preprocessed_reviews)\n",
    "print(\"some feature names \", count_vect.get_feature_names()[:10])\n",
    "print('='*50)\n",
    "\n",
    "final_counts = count_vect.transform(preprocessed_reviews)\n",
    "print(\"the type of count vectorizer \",type(final_counts))\n",
    "print(\"the shape of out text BOW vectorizer \",final_counts.get_shape())\n",
    "print(\"the number of unique words \", final_counts.get_shape()[1])"
   ]
  },
  {
   "cell_type": "markdown",
   "metadata": {},
   "source": [
    "## [4.2] Bi-Grams and n-Grams."
   ]
  },
  {
   "cell_type": "code",
   "execution_count": 26,
   "metadata": {},
   "outputs": [
    {
     "name": "stdout",
     "output_type": "stream",
     "text": [
      "the type of count vectorizer  <class 'scipy.sparse.csr.csr_matrix'>\n",
      "the shape of out text BOW vectorizer  (87773, 5000)\n",
      "the number of unique words including both unigrams and bigrams  5000\n"
     ]
    }
   ],
   "source": [
    "#bi-gram, tri-gram and n-gram\n",
    "\n",
    "#removing stop words like \"not\" should be avoided before building n-grams\n",
    "# count_vect = CountVectorizer(ngram_range=(1,2))\n",
    "# please do read the CountVectorizer documentation http://scikit-learn.org/stable/modules/generated/sklearn.feature_extraction.text.CountVectorizer.html\n",
    "\n",
    "# you can choose these numebrs min_df=10, max_features=5000, of your choice\n",
    "count_vect = CountVectorizer(ngram_range=(1,2), min_df=10, max_features=5000)\n",
    "final_bigram_counts = count_vect.fit_transform(preprocessed_reviews)\n",
    "print(\"the type of count vectorizer \",type(final_bigram_counts))\n",
    "print(\"the shape of out text BOW vectorizer \",final_bigram_counts.get_shape())\n",
    "print(\"the number of unique words including both unigrams and bigrams \", final_bigram_counts.get_shape()[1])"
   ]
  },
  {
   "cell_type": "markdown",
   "metadata": {},
   "source": [
    "## [4.3] TF-IDF"
   ]
  },
  {
   "cell_type": "code",
   "execution_count": 27,
   "metadata": {},
   "outputs": [
    {
     "name": "stdout",
     "output_type": "stream",
     "text": [
      "some sample features(unique words in the corpus) ['aa', 'aafco', 'aback', 'abandon', 'abandoned', 'abdominal', 'ability', 'able', 'able add', 'able brew']\n",
      "==================================================\n",
      "the type of count vectorizer  <class 'scipy.sparse.csr.csr_matrix'>\n",
      "the shape of out text TFIDF vectorizer  (87773, 51709)\n",
      "the number of unique words including both unigrams and bigrams  51709\n"
     ]
    }
   ],
   "source": [
    "tf_idf_vect = TfidfVectorizer(ngram_range=(1,2), min_df=10)\n",
    "tf_idf_vect.fit(preprocessed_reviews)\n",
    "print(\"some sample features(unique words in the corpus)\",tf_idf_vect.get_feature_names()[0:10])\n",
    "print('='*50)\n",
    "\n",
    "final_tf_idf = tf_idf_vect.transform(preprocessed_reviews)\n",
    "print(\"the type of count vectorizer \",type(final_tf_idf))\n",
    "print(\"the shape of out text TFIDF vectorizer \",final_tf_idf.get_shape())\n",
    "print(\"the number of unique words including both unigrams and bigrams \", final_tf_idf.get_shape()[1])"
   ]
  },
  {
   "cell_type": "markdown",
   "metadata": {},
   "source": [
    "## [4.4] Word2Vec"
   ]
  },
  {
   "cell_type": "code",
   "execution_count": 28,
   "metadata": {},
   "outputs": [],
   "source": [
    "# Train your own Word2Vec model using your own text corpus\n",
    "i=0\n",
    "list_of_sentance=[]\n",
    "for sentance in preprocessed_reviews:\n",
    "    list_of_sentance.append(sentance.split())"
   ]
  },
  {
   "cell_type": "code",
   "execution_count": 29,
   "metadata": {
    "scrolled": true
   },
   "outputs": [
    {
     "name": "stdout",
     "output_type": "stream",
     "text": [
      "[('fantastic', 0.8557394742965698), ('awesome', 0.8544305562973022), ('good', 0.8317395448684692), ('excellent', 0.8125078678131104), ('terrific', 0.8124305605888367), ('perfect', 0.768768846988678), ('wonderful', 0.7649434804916382), ('decent', 0.7272575497627258), ('amazing', 0.7244181632995605), ('nice', 0.7115830779075623)]\n",
      "==================================================\n",
      "[('greatest', 0.8054407238960266), ('best', 0.7326244711875916), ('tastiest', 0.7158212661743164), ('disgusting', 0.6699162721633911), ('nastiest', 0.6681627631187439), ('horrible', 0.6205527186393738), ('surpass', 0.61661297082901), ('awful', 0.607093095779419), ('nicest', 0.6068994402885437), ('smoothest', 0.601479709148407)]\n"
     ]
    }
   ],
   "source": [
    "# Using Google News Word2Vectors\n",
    "\n",
    "# in this project we are using a pretrained model by google\n",
    "# its 3.3G file, once you load this into your memory \n",
    "# it occupies ~9Gb, so please do this step only if you have >12G of ram\n",
    "# we will provide a pickle file wich contains a dict , \n",
    "# and it contains all our courpus words as keys and  model[word] as values\n",
    "# To use this code-snippet, download \"GoogleNews-vectors-negative300.bin\" \n",
    "# from https://drive.google.com/file/d/0B7XkCwpI5KDYNlNUTTlSS21pQmM/edit\n",
    "# it's 1.9GB in size.\n",
    "\n",
    "\n",
    "# http://kavita-ganesan.com/gensim-word2vec-tutorial-starter-code/#.W17SRFAzZPY\n",
    "# you can comment this whole cell\n",
    "# or change these varible according to your need\n",
    "\n",
    "is_your_ram_gt_16g=False\n",
    "want_to_use_google_w2v = False\n",
    "want_to_train_w2v = True\n",
    "\n",
    "if want_to_train_w2v:\n",
    "    # min_count = 5 considers only words that occured atleast 5 times\n",
    "    w2v_model=Word2Vec(list_of_sentance,min_count=5,size=50, workers=4)\n",
    "    print(w2v_model.wv.most_similar('great'))\n",
    "    print('='*50)\n",
    "    print(w2v_model.wv.most_similar('worst'))\n",
    "    \n",
    "elif want_to_use_google_w2v and is_your_ram_gt_16g:\n",
    "    if os.path.isfile('GoogleNews-vectors-negative300.bin'):\n",
    "        w2v_model=KeyedVectors.load_word2vec_format('GoogleNews-vectors-negative300.bin', binary=True)\n",
    "        print(w2v_model.wv.most_similar('great'))\n",
    "        print(w2v_model.wv.most_similar('worst'))\n",
    "    else:\n",
    "        print(\"you don't have gogole's word2vec file, keep want_to_train_w2v = True, to train your own w2v \")"
   ]
  },
  {
   "cell_type": "code",
   "execution_count": 30,
   "metadata": {},
   "outputs": [
    {
     "name": "stdout",
     "output_type": "stream",
     "text": [
      "number of words that occured minimum 5 times  17386\n",
      "sample words  ['dogs', 'loves', 'chicken', 'product', 'china', 'wont', 'buying', 'anymore', 'hard', 'find', 'products', 'made', 'usa', 'one', 'isnt', 'bad', 'good', 'take', 'chances', 'till', 'know', 'going', 'imports', 'love', 'saw', 'pet', 'store', 'tag', 'attached', 'regarding', 'satisfied', 'safe', 'infestation', 'literally', 'everywhere', 'flying', 'around', 'kitchen', 'bought', 'hoping', 'least', 'get', 'rid', 'weeks', 'fly', 'stuck', 'squishing', 'buggers', 'success', 'rate']\n"
     ]
    }
   ],
   "source": [
    "w2v_words = list(w2v_model.wv.vocab)\n",
    "print(\"number of words that occured minimum 5 times \",len(w2v_words))\n",
    "print(\"sample words \", w2v_words[0:50])"
   ]
  },
  {
   "cell_type": "markdown",
   "metadata": {},
   "source": [
    "## [4.4.1] Converting text into vectors using Avg W2V, TFIDF-W2V"
   ]
  },
  {
   "cell_type": "markdown",
   "metadata": {},
   "source": [
    "#### [4.4.1.1] Avg W2v"
   ]
  },
  {
   "cell_type": "code",
   "execution_count": 31,
   "metadata": {},
   "outputs": [
    {
     "name": "stderr",
     "output_type": "stream",
     "text": [
      "100%|███████████████████████████████████████████████████████████████████████████████████████████████████████████████████████████| 87773/87773 [05:33<00:00, 263.02it/s]\n"
     ]
    },
    {
     "name": "stdout",
     "output_type": "stream",
     "text": [
      "87773\n",
      "50\n"
     ]
    }
   ],
   "source": [
    "# average Word2Vec\n",
    "# compute average word2vec for each review.\n",
    "sent_vectors = []; # the avg-w2v for each sentence/review is stored in this list\n",
    "for sent in tqdm(list_of_sentance): # for each review/sentence\n",
    "    sent_vec = np.zeros(50) # as word vectors are of zero length 50, you might need to change this to 300 if you use google's w2v\n",
    "    cnt_words =0; # num of words with a valid vector in the sentence/review\n",
    "    for word in sent: # for each word in a review/sentence\n",
    "        if word in w2v_words:\n",
    "            vec = w2v_model.wv[word]\n",
    "            sent_vec += vec\n",
    "            cnt_words += 1\n",
    "    if cnt_words != 0:\n",
    "        sent_vec /= cnt_words\n",
    "    sent_vectors.append(sent_vec)\n",
    "print(len(sent_vectors))\n",
    "print(len(sent_vectors[0]))"
   ]
  },
  {
   "cell_type": "markdown",
   "metadata": {},
   "source": [
    "#### [4.4.1.2] TFIDF weighted W2v"
   ]
  },
  {
   "cell_type": "code",
   "execution_count": 32,
   "metadata": {},
   "outputs": [],
   "source": [
    "# S = [\"abc def pqr\", \"def def def abc\", \"pqr pqr def\"]\n",
    "model = TfidfVectorizer()\n",
    "tf_idf_matrix = model.fit_transform(preprocessed_reviews)\n",
    "# we are converting a dictionary with word as a key, and the idf as a value\n",
    "dictionary = dict(zip(model.get_feature_names(), list(model.idf_)))"
   ]
  },
  {
   "cell_type": "code",
   "execution_count": 33,
   "metadata": {
    "scrolled": true
   },
   "outputs": [
    {
     "name": "stderr",
     "output_type": "stream",
     "text": [
      "100%|██████████████████████████████████████████████████████████████████████████████████████████████████████████████████████████| 87773/87773 [1:18:20<00:00, 15.56it/s]\n"
     ]
    }
   ],
   "source": [
    "# TF-IDF weighted Word2Vec\n",
    "tfidf_feat = model.get_feature_names() # tfidf words/col-names\n",
    "# final_tf_idf is the sparse matrix with row= sentence, col=word and cell_val = tfidf\n",
    "\n",
    "tfidf_sent_vectors = []; # the tfidf-w2v for each sentence/review is stored in this list\n",
    "row=0;\n",
    "for sent in tqdm(list_of_sentance): # for each review/sentence \n",
    "    sent_vec = np.zeros(50) # as word vectors are of zero length\n",
    "    weight_sum =0; # num of words with a valid vector in the sentence/review\n",
    "    for word in sent: # for each word in a review/sentence\n",
    "        if word in w2v_words and word in tfidf_feat:\n",
    "            vec = w2v_model.wv[word]\n",
    "#             tf_idf = tf_idf_matrix[row, tfidf_feat.index(word)]\n",
    "            # to reduce the computation we are \n",
    "            # dictionary[word] = idf value of word in whole courpus\n",
    "            # sent.count(word) = tf valeus of word in this review\n",
    "            tf_idf = dictionary[word]*(sent.count(word)/len(sent))\n",
    "            sent_vec += (vec * tf_idf)\n",
    "            weight_sum += tf_idf\n",
    "    if weight_sum != 0:\n",
    "        sent_vec /= weight_sum\n",
    "    tfidf_sent_vectors.append(sent_vec)\n",
    "    row += 1"
   ]
  },
  {
   "cell_type": "markdown",
   "metadata": {},
   "source": [
    "# [5] Assignment 3: KNN"
   ]
  },
  {
   "cell_type": "markdown",
   "metadata": {},
   "source": [
    "<ol>\n",
    "    <li><strong>Apply Knn(brute force version) on these feature sets</strong>\n",
    "        <ul>\n",
    "            <li><font color='red'>SET 1:</font>Review text, preprocessed one converted into vectors using (BOW)</li>\n",
    "            <li><font color='red'>SET 2:</font>Review text, preprocessed one converted into vectors using (TFIDF)</li>\n",
    "            <li><font color='red'>SET 3:</font>Review text, preprocessed one converted into vectors using (AVG W2v)</li>\n",
    "            <li><font color='red'>SET 4:</font>Review text, preprocessed one converted into vectors using (TFIDF W2v)</li>\n",
    "        </ul>\n",
    "    </li>\n",
    "    <br>\n",
    "    <li><strong>Apply Knn(kd tree version) on these feature sets</strong>\n",
    "        <br><font color='red'>NOTE: </font>sklearn implementation of kd-tree accepts only dense matrices, you need to convert the sparse matrices of CountVectorizer/TfidfVectorizer into dense matices. You can convert sparse matrices to dense using .toarray() attribute. For more information please visit this <a href='https://docs.scipy.org/doc/scipy-0.18.1/reference/generated/scipy.sparse.csr_matrix.toarray.html'>link</a>\n",
    "        <ul>\n",
    "            <li><font color='red'>SET 5:</font>Review text, preprocessed one converted into vectors using (BOW) but with restriction on maximum features generated.\n",
    "            <pre>\n",
    "            count_vect = CountVectorizer(min_df=10, max_features=500) \n",
    "            count_vect.fit(preprocessed_reviews)\n",
    "            </pre>\n",
    "            </li>\n",
    "            <li><font color='red'>SET 6:</font>Review text, preprocessed one converted into vectors using (TFIDF) but with restriction on maximum features generated.\n",
    "            <pre>\n",
    "                tf_idf_vect = TfidfVectorizer(min_df=10, max_features=500)\n",
    "                tf_idf_vect.fit(preprocessed_reviews)\n",
    "            </pre>\n",
    "            </li>\n",
    "            <li><font color='red'>SET 3:</font>Review text, preprocessed one converted into vectors using (AVG W2v)</li>\n",
    "            <li><font color='red'>SET 4:</font>Review text, preprocessed one converted into vectors using (TFIDF W2v)</li>\n",
    "        </ul>\n",
    "    </li>\n",
    "    <br>\n",
    "    <li><strong>The hyper paramter tuning(find best K)</strong>\n",
    "        <ul>\n",
    "    <li>Find the best hyper parameter which will give the maximum <a href='https://www.appliedaicourse.com/course/applied-ai-course-online/lessons/receiver-operating-characteristic-curve-roc-curve-and-auc-1/'>AUC</a> value</li>\n",
    "    <li>Find the best hyper paramter using k-fold cross validation or simple cross validation data</li>\n",
    "    <li>Use gridsearch cv or randomsearch cv or you can also write your own for loops to do this task of hyperparameter tuning</li>\n",
    "        </ul>\n",
    "    </li>\n",
    "    <br>\n",
    "    <li>\n",
    "    <strong>Representation of results</strong>\n",
    "        <ul>\n",
    "    <li>You need to plot the performance of model both on train data and cross validation data for each hyper parameter, like shown in the figure\n",
    "    <img src='train_cv_auc.JPG' width=300px></li>\n",
    "    <li>Once after you found the best hyper parameter, you need to train your model with it, and find the AUC on test data and plot the ROC curve on both train and test.\n",
    "    <img src='train_test_auc.JPG' width=300px></li>\n",
    "    <li>Along with plotting ROC curve, you need to print the <a href='https://www.appliedaicourse.com/course/applied-ai-course-online/lessons/confusion-matrix-tpr-fpr-fnr-tnr-1/'>confusion matrix</a> with predicted and original labels of test data points\n",
    "    <img src='confusion_matrix.png' width=300px></li>\n",
    "        </ul>\n",
    "    </li>\n",
    "    <br>\n",
    "    <li><strong>Conclusion</strong>\n",
    "        <ul>\n",
    "    <li>You need to summarize the results at the end of the notebook, summarize it in the table format. To print out a table please refer to this prettytable library<a href='http://zetcode.com/python/prettytable/'> link</a> \n",
    "        <img src='summary.JPG' width=400px>\n",
    "    </li>\n",
    "        </ul>\n",
    "</ol>"
   ]
  },
  {
   "cell_type": "markdown",
   "metadata": {},
   "source": [
    "<h4><font color='red'>Note: Data Leakage</font></h4>\n",
    "\n",
    "1. There will be an issue of data-leakage if you vectorize the entire data and then split it into train/cv/test.\n",
    "2. To avoid the issue of data-leakag, make sure to split your data first and then vectorize it. \n",
    "3. While vectorizing your data, apply the method fit_transform() on you train data, and apply the method transform() on cv/test data.\n",
    "4. For more details please go through this <a href='https://soundcloud.com/applied-ai-course/leakage-bow-and-tfidf'>link.</a>"
   ]
  },
  {
   "cell_type": "markdown",
   "metadata": {},
   "source": [
    "## [5.1] Applying KNN brute force"
   ]
  },
  {
   "cell_type": "markdown",
   "metadata": {},
   "source": [
    "### [5.1.1] Applying KNN brute force on BOW,<font color='red'> SET 1</font>"
   ]
  },
  {
   "cell_type": "code",
   "execution_count": 25,
   "metadata": {},
   "outputs": [
    {
     "data": {
      "text/plain": [
       "(30000, 10)"
      ]
     },
     "execution_count": 25,
     "metadata": {},
     "output_type": "execute_result"
    }
   ],
   "source": [
    "# Please write all the code with proper documentation\n",
    "final['Text']=preprocessed_reviews\n",
    "\n",
    "data_pos = final[final[\"Score\"] == 1].sample(n=20000)\n",
    "data_neg = final[final[\"Score\"] == 0].sample(n=10000)\n",
    "final1 = pd.concat([data_pos, data_neg])\n",
    "final1.shape"
   ]
  },
  {
   "cell_type": "code",
   "execution_count": 26,
   "metadata": {},
   "outputs": [
    {
     "name": "stdout",
     "output_type": "stream",
     "text": [
      "(30000,)\n",
      "<class 'numpy.ndarray'>\n",
      "(30000,)\n",
      "<class 'numpy.ndarray'>\n"
     ]
    }
   ],
   "source": [
    "Y = final1['Score'].values\n",
    "X = final1['Text'].values\n",
    "print(Y.shape)\n",
    "print(type(Y))\n",
    "print(X.shape)\n",
    "print(type(X))"
   ]
  },
  {
   "cell_type": "code",
   "execution_count": 27,
   "metadata": {},
   "outputs": [
    {
     "name": "stdout",
     "output_type": "stream",
     "text": [
      "====================================================================================================\n",
      "After splitting\n",
      "(19200,) (19200,)\n",
      "(4800,) (4800,)\n",
      "(6000,) (6000,)\n"
     ]
    }
   ],
   "source": [
    "from sklearn.model_selection import train_test_split\n",
    "from sklearn.metrics import roc_auc_score\n",
    "from sklearn.neighbors import KNeighborsClassifier\n",
    "from sklearn.model_selection import GridSearchCV\n",
    "from sklearn.feature_extraction.text import CountVectorizer\n",
    "import matplotlib.pyplot as plt\n",
    "\n",
    "X_tr,X_test,Y_tr,Y_test=train_test_split(X,Y,test_size=0.2,random_state=12)\n",
    "X_train,X_cv,Y_train,Y_cv=train_test_split(X_tr,Y_tr,test_size=0.2,random_state=12)\n",
    "print('='*100)\n",
    "print(\"After splitting\")\n",
    "print(X_train.shape,Y_train.shape)\n",
    "print(X_cv.shape,Y_cv.shape)\n",
    "print(X_test.shape,Y_test.shape)"
   ]
  },
  {
   "cell_type": "markdown",
   "metadata": {},
   "source": [
    "# BOW"
   ]
  },
  {
   "cell_type": "code",
   "execution_count": 28,
   "metadata": {},
   "outputs": [
    {
     "name": "stdout",
     "output_type": "stream",
     "text": [
      "====================================================================================================\n",
      "After transform\n",
      "(19200, 27024) (19200,)\n",
      "(4800, 27024) (4800,)\n",
      "(6000, 27024) (4800,)\n"
     ]
    }
   ],
   "source": [
    "vectorizer=CountVectorizer()\n",
    "vectorizer=vectorizer.fit(X_train)\n",
    "X_train_bow=vectorizer.transform(X_train)\n",
    "X_cv_bow=vectorizer.transform(X_cv)\n",
    "X_test_bow=vectorizer.transform(X_test)\n",
    "print('='*100)\n",
    "print(\"After transform\")\n",
    "print(X_train_bow.shape,Y_train.shape)\n",
    "print(X_cv_bow.shape,Y_cv.shape)\n",
    "print(X_test_bow.shape,Y_cv.shape)"
   ]
  },
  {
   "cell_type": "code",
   "execution_count": 29,
   "metadata": {},
   "outputs": [
    {
     "name": "stdout",
     "output_type": "stream",
     "text": [
      "(19200,)\n",
      "(4800,)\n"
     ]
    }
   ],
   "source": [
    "print(Y_train.shape)\n",
    "print(Y_cv.shape)"
   ]
  },
  {
   "cell_type": "code",
   "execution_count": 43,
   "metadata": {},
   "outputs": [
    {
     "data": {
      "image/png": "[encoded data removed]",
      "text/plain": [
       "<Figure size 432x288 with 1 Axes>"
      ]
     },
     "metadata": {
      "needs_background": "light"
     },
     "output_type": "display_data"
    }
   ],
   "source": [
    "train_auc = []\n",
    "cv_auc = []\n",
    "k = list(range(1, 30, 5))\n",
    "for i in (k):\n",
    "    neigh = KNeighborsClassifier(n_neighbors=i, algorithm='brute', weights='uniform')\n",
    "    neigh.fit(X_train_bow, Y_train)\n",
    "    # roc_auc_score(y_true, y_score) the 2nd parameter should be probability estimates of the positive class\n",
    "    # not the predicted outputs\n",
    "    Y_train_pred = neigh.predict_proba(X_train_bow)[:,1]\n",
    "    Y_cv_pred = neigh.predict_proba(X_cv_bow)[:,1]\n",
    "    \n",
    "    train_auc.append(roc_auc_score(Y_train,Y_train_pred))\n",
    "    cv_auc.append(roc_auc_score(Y_cv, Y_cv_pred))\n",
    "plt.plot(k, train_auc, label='Train AUC')\n",
    "plt.scatter(k, train_auc, label='Train AUC')\n",
    "plt.plot(k, cv_auc, label='CV AUC')\n",
    "plt.scatter(k,cv_auc, label='CV AUC')\n",
    "plt.legend()\n",
    "plt.xlabel(\"k: hyperparameter\")\n",
    "plt.ylabel(\"AUC\")\n",
    "plt.title(\"AUC Vs K\")\n",
    "plt.show()"
   ]
  },
  {
   "cell_type": "code",
   "execution_count": 30,
   "metadata": {},
   "outputs": [
    {
     "name": "stderr",
     "output_type": "stream",
     "text": [
      "100%|████████████████████████████████████████████████████████████████████████████████████| 6/6 [02:14<00:00, 22.65s/it]\n"
     ]
    }
   ],
   "source": [
    "from sklearn.model_selection import cross_val_score\n",
    "from sklearn.metrics import accuracy_score\n",
    "neighbors = list(range(1, 30, 5))\n",
    "cv_score = []\n",
    "for k in tqdm(neighbors):\n",
    "    knn = KNeighborsClassifier(n_neighbors=20, algorithm='brute')\n",
    "    scores = cross_val_score(knn, X_train_bow, Y_train, cv=10, scoring='accuracy')\n",
    "    cv_score.append(scores.mean())"
   ]
  },
  {
   "cell_type": "code",
   "execution_count": 89,
   "metadata": {},
   "outputs": [],
   "source": [
    "#As per the above metrics we took k=20 as our optimal hyperparameter.\n",
    "optimal_k1 = KNeighborsClassifier(n_neighbors=20, algorithm='brute', weights='uniform')\n",
    "optimal_k1.fit(X_train_bow, Y_train)\n",
    "prediction = optimal_k1.predict(X_test_bow)"
   ]
  },
  {
   "cell_type": "markdown",
   "metadata": {},
   "source": [
    "# Plotting ROC Curve"
   ]
  },
  {
   "cell_type": "code",
   "execution_count": 63,
   "metadata": {},
   "outputs": [
    {
     "data": {
      "image/png": "[encoded data removed]",
      "text/plain": [
       "<Figure size 432x288 with 1 Axes>"
      ]
     },
     "metadata": {
      "needs_background": "light"
     },
     "output_type": "display_data"
    }
   ],
   "source": [
    "train_fpr, train_tpr, thresholds = roc_curve(Y_train, optimal_model.predict_proba(X_train_bow)[:,1])\n",
    "test_fpr, test_tpr, thresholds = roc_curve(Y_test, optimal_model.predict_proba(X_test_bow)[:,1])\n",
    "AUC1=str(auc(test_fpr, test_tpr))\n",
    "plt.plot(train_fpr, train_tpr, label=\"train ROC =\"+str(auc(train_fpr, train_tpr)))\n",
    "plt.plot(test_fpr, test_tpr, label=\"test ROC =\"+str(auc(test_fpr, test_tpr)))\n",
    "plt.legend()\n",
    "plt.xlabel(\"FPR\")\n",
    "plt.ylabel(\"TPR\")\n",
    "plt.title(\"ROC\")\n",
    "plt.show()"
   ]
  },
  {
   "cell_type": "markdown",
   "metadata": {},
   "source": [
    "# Confusion Matrix"
   ]
  },
  {
   "cell_type": "code",
   "execution_count": 56,
   "metadata": {},
   "outputs": [
    {
     "name": "stdout",
     "output_type": "stream",
     "text": [
      "Train confusion matrix\n",
      "[[4428 2015]\n",
      " [1840 4517]]\n",
      "Test confusion matrix\n",
      "[[1189  765]\n",
      " [ 685 1361]]\n"
     ]
    },
    {
     "data": {
      "image/png": "[encoded data removed]",
      "text/plain": [
       "<Figure size 432x288 with 2 Axes>"
      ]
     },
     "metadata": {
      "needs_background": "light"
     },
     "output_type": "display_data"
    }
   ],
   "source": [
    "import seaborn as sns\n",
    "from sklearn.metrics import confusion_matrix\n",
    "optimal_model = KNeighborsClassifier(n_neighbors=20, algorithm='brute', weights='uniform')\n",
    "optimal_model.fit(X_train_bow, Y_train)\n",
    "prediction = optimal_model.predict(X_test_bow)\n",
    "print(\"Train confusion matrix\") \n",
    "print(confusion_matrix(Y_train, optimal_model.predict(X_train_bow))) \n",
    "print(\"Test confusion matrix\")\n",
    "print(confusion_matrix(Y_test, optimal_model.predict(X_test_bow)))\n",
    "conf_matrix = confusion_matrix(Y_test, optimal_model.predict(X_test_bow))\n",
    "class_label = [\"negative\", \"positive\"]\n",
    "df_cm = pd.DataFrame(conf_matrix, index = class_label, columns = class_label)\n",
    "sns.heatmap(df_cm, annot = True, fmt = \"d\")\n",
    "plt.title(\"Confusiion Matrix\")\n",
    "plt.xlabel(\"Predicted Label\")\n",
    "plt.ylabel(\"True Label\")\n",
    "plt.show()"
   ]
  },
  {
   "cell_type": "markdown",
   "metadata": {},
   "source": [
    "#### Confusion Matrix Describes: (# Means Number Of) , P:Positive, N:Negative\n",
    "* TPR(True Positive Rate) : #TP/P \n",
    "* TNR(True Negative Rate) : #TN/N\n",
    "* FPR(False Positive Rate): #FP/N\n",
    "* FNR(False Negative Rate): #FN/P\n",
    "* N+P = n(Total No Of Points)"
   ]
  },
  {
   "cell_type": "markdown",
   "metadata": {},
   "source": [
    "### Observations\n",
    " * From Above ConfusionMatrix And Classification Report Of the Classifier.\n",
    " * TruePositive : 1361, TrueNegative: 765, FlasePositive: 685, FalseNegative: 1189\n",
    " * Based On Classification report(i.e:, how often classifier is correctly predicting)\n",
    "   (TP+TN)/N = (1361+765)/4000 = ~65%\n",
    " * Error rate or MissClassification Rate (i.e:, wrongly classified points) \n",
    "   (FN+FP)/N = (1189+685)/4000 = ~34%\n",
    " * Precision: PR=TP/(TP+FP) = ~62% (i.e:, What %age of them actually positive)\n",
    " * Recall(TPR=TP/P): (i.e:, Of all actual +ve points what %age of them predicted to be +ve)\n",
    "   ~0.84%\n",
    " * F1-Score(combining both precision & Recall) : HarmonicMean Of Precision And Recall.\n",
    " * Support is no of elements in each of the classes(+ve & -ve).\n",
    " * Miscalssification Vs OptimalNeighbors as K increases, classification error decreases.\n",
    " * By using unseen data(Test Data) accuracy=0.76% where optimal k =96.\n",
    " * From confusion Matrix out of 4k unseen data points classifier predicted 1954 -ve points, 2046 +ve points.\n",
    " * Generalization error is high means model doesn't perform well on unseen/future data."
   ]
  },
  {
   "cell_type": "markdown",
   "metadata": {},
   "source": [
    "### [5.1.2] Applying KNN brute force on TFIDF,<font color='red'> SET 2</font>"
   ]
  },
  {
   "cell_type": "code",
   "execution_count": 66,
   "metadata": {},
   "outputs": [],
   "source": [
    "# Please write all the code with proper documentation\n",
    "tf_idf_vect = TfidfVectorizer(ngram_range=(1,2), min_df=5)\n",
    "tf_idf_vect.fit(X_train)\n",
    "X_train_tfidf=tf_idf_vect.transform(X_train)\n",
    "X_cv_tfidf=tf_idf_vect.transform(X_cv)\n",
    "X_test_tfidf=tf_idf_vect.transform(X_test)"
   ]
  },
  {
   "cell_type": "code",
   "execution_count": 62,
   "metadata": {},
   "outputs": [
    {
     "name": "stderr",
     "output_type": "stream",
     "text": [
      "100%|██████████████████████████████████████████████████████████████████████████████████| 13/13 [02:43<00:00, 12.74s/it]\n"
     ]
    },
    {
     "data": {
      "image/png": "[encoded data removed]",
      "text/plain": [
       "<Figure size 432x288 with 1 Axes>"
      ]
     },
     "metadata": {
      "needs_background": "light"
     },
     "output_type": "display_data"
    }
   ],
   "source": [
    "train_auc = []\n",
    "cv_auc = []\n",
    "k = list(range(1, 50, 4))\n",
    "for i in tqdm(k):\n",
    "    neigh = KNeighborsClassifier(n_neighbors=i, algorithm='brute', weights='uniform')\n",
    "    neigh.fit(X_train_tfidf, Y_train)\n",
    "    # roc_auc_score(y_true, y_score) the 2nd parameter should be probability estimates of the positive class\n",
    "    # not the predicted outputs\n",
    "    Y_train_pred = neigh.predict_proba(X_train_tfidf)[:,1]\n",
    "    Y_cv_pred = neigh.predict_proba(X_cv_tfidf)[:,1]\n",
    "    \n",
    "    train_auc.append(roc_auc_score(Y_train,Y_train_pred))\n",
    "    cv_auc.append(roc_auc_score(Y_cv, Y_cv_pred))\n",
    "plt.plot(k, train_auc, label='Train AUC')\n",
    "plt.scatter(k, train_auc, label='Train AUC')\n",
    "plt.plot(k, cv_auc, label='CV AUC')\n",
    "plt.scatter(k,cv_auc, label='CV AUC')\n",
    "plt.legend()\n",
    "plt.xlabel(\"k: hyperparameter\")\n",
    "plt.ylabel(\"AUC\")\n",
    "plt.title(\"AUC Vs K\")\n",
    "plt.show()"
   ]
  },
  {
   "cell_type": "code",
   "execution_count": 31,
   "metadata": {},
   "outputs": [
    {
     "name": "stderr",
     "output_type": "stream",
     "text": [
      "100%|██████████████████████████████████████████████████████████████████████████████████| 13/13 [02:00<00:00,  9.40s/it]\n"
     ]
    }
   ],
   "source": [
    "from sklearn.model_selection import cross_val_score\n",
    "from sklearn.metrics import accuracy_score\n",
    "neighbors = list(range(1, 50, 4))\n",
    "cv_score = []\n",
    "for k in tqdm(neighbors):\n",
    "    knn = KNeighborsClassifier(n_neighbors=49, algorithm='brute', weights='uniform')\n",
    "    scores = cross_val_score(knn, X_train_tfidf, Y_train, cv=10, scoring='accuracy')\n",
    "    cv_score.append(scores.mean())"
   ]
  },
  {
   "cell_type": "code",
   "execution_count": 90,
   "metadata": {},
   "outputs": [],
   "source": [
    "#As per the above metrics we took k=49 as our optimal hyperparameter.\n",
    "optimal_k2 = KNeighborsClassifier(n_neighbors=49, algorithm='brute', weights='uniform')\n",
    "optimal_k2.fit(X_train_tfidf, Y_train)\n",
    "prediction = optimal_k2.predict(X_test_tfidf)"
   ]
  },
  {
   "cell_type": "markdown",
   "metadata": {},
   "source": [
    "# Plotting ROC Curve"
   ]
  },
  {
   "cell_type": "code",
   "execution_count": 68,
   "metadata": {},
   "outputs": [
    {
     "data": {
      "image/png": "[encoded data removed]",
      "text/plain": [
       "<Figure size 432x288 with 1 Axes>"
      ]
     },
     "metadata": {
      "needs_background": "light"
     },
     "output_type": "display_data"
    }
   ],
   "source": [
    "train_fpr, train_tpr, thresholds = roc_curve(Y_train, optimal_model.predict_proba(X_train_tfidf)[:,1])\n",
    "test_fpr, test_tpr, thresholds = roc_curve(Y_test, optimal_model.predict_proba(X_test_tfidf)[:,1])\n",
    "AUC2=str(auc(test_fpr, test_tpr))\n",
    "plt.plot(train_fpr, train_tpr, label=\"train ROC =\"+str(auc(train_fpr, train_tpr)))\n",
    "plt.plot(test_fpr, test_tpr, label=\"test ROC =\"+str(auc(test_fpr, test_tpr)))\n",
    "plt.legend()\n",
    "plt.xlabel(\"FPR\")\n",
    "plt.ylabel(\"TPR\")\n",
    "plt.title(\"ROC\")\n",
    "plt.show()"
   ]
  },
  {
   "cell_type": "markdown",
   "metadata": {},
   "source": [
    "# Confusion Matrix"
   ]
  },
  {
   "cell_type": "code",
   "execution_count": 69,
   "metadata": {},
   "outputs": [
    {
     "name": "stdout",
     "output_type": "stream",
     "text": [
      "Train confusion matrix\n",
      "[[3912 2531]\n",
      " [ 443 5914]]\n",
      "Test confusion matrix\n",
      "[[1085  869]\n",
      " [ 219 1827]]\n"
     ]
    },
    {
     "data": {
      "image/png": "[encoded data removed]",
      "text/plain": [
       "<Figure size 432x288 with 2 Axes>"
      ]
     },
     "metadata": {
      "needs_background": "light"
     },
     "output_type": "display_data"
    }
   ],
   "source": [
    "import seaborn as sns\n",
    "from sklearn.metrics import confusion_matrix\n",
    "optimal_model = KNeighborsClassifier(n_neighbors=49, algorithm='brute', weights='uniform')\n",
    "optimal_model.fit(X_train_tfidf, Y_train)\n",
    "prediction = optimal_model.predict(X_test_tfidf)\n",
    "print(\"Train confusion matrix\") \n",
    "print(confusion_matrix(Y_train, optimal_model.predict(X_train_tfidf))) \n",
    "print(\"Test confusion matrix\")\n",
    "print(confusion_matrix(Y_test, optimal_model.predict(X_test_tfidf)))\n",
    "conf_matrix = confusion_matrix(Y_test, optimal_model.predict(X_test_tfidf))\n",
    "class_label = [\"negative\", \"positive\"]\n",
    "df_cm = pd.DataFrame(conf_matrix, index = class_label, columns = class_label)\n",
    "sns.heatmap(df_cm, annot = True, fmt = \"d\")\n",
    "plt.title(\"Confusiion Matrix\")\n",
    "plt.xlabel(\"Predicted Label\")\n",
    "plt.ylabel(\"True Label\")\n",
    "plt.show()"
   ]
  },
  {
   "cell_type": "markdown",
   "metadata": {},
   "source": [
    "### Observation:\n",
    " * using future data model accuracy is 0.86 where optimal k is 49.\n",
    " * From Confusion Matrix it is predicted that 1954 -ve points , 2046 +ve points\n",
    "   but in real 2293+ve points are there, 1707 -ve points are there."
   ]
  },
  {
   "cell_type": "markdown",
   "metadata": {},
   "source": [
    "### [5.1.3] Applying KNN brute force on AVG W2V,<font color='red'> SET 3</font>"
   ]
  },
  {
   "cell_type": "code",
   "execution_count": 69,
   "metadata": {},
   "outputs": [
    {
     "name": "stdout",
     "output_type": "stream",
     "text": [
      "number of words that occured minimum 5 times  7094\n",
      "sample words  ['looking', 'forward', 'replacement', 'shipment', 'amazon', 'every', 'single', 'dented', 'cans', 'packaged', 'larger', 'box', 'really', 'big', 'air', 'packs', 'like', 'giant', 'bubbles', 'bubble', 'wrap', 'around', 'obviously', 'arrived', 'plastic', 'nothing', 'stop', 'someone', 'would', 'think', 'pack', 'could', 'pound', 'set', 'without', 'popping', 'beyond', 'sending', 'replacements', 'hoping', 'not', 'seen', 'commercials', 'tv', 'thought', 'since', 'naturally', 'fine', 'un', 'treated']\n"
     ]
    }
   ],
   "source": [
    "# Please write all the code with proper documentation\n",
    "i=0\n",
    "list_of_sentance_train=[]\n",
    "for sentance in X_train:\n",
    "    list_of_sentance_train.append(sentance.split())\n",
    "\n",
    "# this line of code trains your w2v model on the give list of sentances\n",
    "w2v_model=Word2Vec(list_of_sentance_train,min_count=5,size=50, workers=4)\n",
    "\n",
    "w2v_words = list(w2v_model.wv.vocab)\n",
    "print(\"number of words that occured minimum 5 times \",len(w2v_words))\n",
    "print(\"sample words \", w2v_words[0:50])"
   ]
  },
  {
   "cell_type": "code",
   "execution_count": 70,
   "metadata": {},
   "outputs": [
    {
     "name": "stdout",
     "output_type": "stream",
     "text": [
      "(12800, 50)\n",
      "[ 0.5097253  -0.15761172 -0.98187558 -0.49180779 -0.60491929 -0.1400248\n",
      " -0.05724474 -0.1611897  -0.1842317  -0.5772106  -0.49776121 -0.48667477\n",
      "  0.37650072  0.19224389  0.07446003 -0.18766239  0.79307534 -0.39514386\n",
      " -0.36595743 -0.62516787 -0.35401888  0.40647448 -0.09550583  0.07385785\n",
      "  0.40285964  0.51162122 -0.29402261 -0.31955392 -0.25834229 -0.23348109\n",
      " -0.16882875 -0.28285529 -0.46541077 -0.08484117  0.07754844 -0.89334504\n",
      " -0.17554198  0.31087591 -0.9256887  -0.21788658 -0.41003739 -0.18564319\n",
      " -0.34261984  0.42507684  0.32189861 -0.15699348 -0.34849344  0.13146843\n",
      "  0.33157122 -0.09277704]\n"
     ]
    }
   ],
   "source": [
    "sent_vectors_train = []; # the avg-w2v for each sentence/review is stored in this list\n",
    "for sent in (list_of_sentance_train): # for each review/sentence\n",
    "    sent_vec = np.zeros(50) # as word vectors are of zero length 50, you might need to change this to 300 if you use google's w2v\n",
    "    cnt_words =0; # num of words with a valid vector in the sentence/review\n",
    "    for word in sent: # for each word in a review/sentence\n",
    "        if word in w2v_words:\n",
    "            vec = w2v_model.wv[word]\n",
    "            sent_vec += vec\n",
    "            cnt_words += 1\n",
    "    if cnt_words != 0:\n",
    "        sent_vec /= cnt_words\n",
    "    sent_vectors_train.append(sent_vec)\n",
    "sent_vectors_train = np.array(sent_vectors_train)\n",
    "print(sent_vectors_train.shape)\n",
    "print(sent_vectors_train[0])"
   ]
  },
  {
   "cell_type": "code",
   "execution_count": 73,
   "metadata": {},
   "outputs": [
    {
     "name": "stderr",
     "output_type": "stream",
     "text": [
      "100%|█████████████████████████████████████████████████████████████████████████████| 3200/3200 [00:07<00:00, 421.25it/s]\n"
     ]
    },
    {
     "name": "stdout",
     "output_type": "stream",
     "text": [
      "(3200, 50)\n",
      "[-0.03325754  0.3523769   0.08983543  0.15940659  0.423988    0.41867245\n",
      "  0.12234944  0.19677119  0.5650364   0.29335354  0.07982238  0.63356387\n",
      "  0.27414457 -0.64527585  0.09705253  0.39448643 -0.27016103  0.01494447\n",
      "  0.43698831 -0.11805555  0.6001468  -0.11465883  0.33496194 -0.31849303\n",
      "  0.18812681 -0.86002196  0.4165638  -0.29186559 -0.05454733 -0.40460723\n",
      " -0.3290189  -0.32899801  0.30367968 -0.28826689  0.34240247  0.53812437\n",
      " -0.28198185 -0.24394272  0.10045772 -0.09942575  1.0819461   0.64881333\n",
      " -0.34368667  0.28719202  0.17372985 -0.0551892  -0.19554388 -0.11547621\n",
      "  0.08789     0.31925108]\n"
     ]
    }
   ],
   "source": [
    "i=0\n",
    "list_of_sentance_cv=[]\n",
    "for sentance in X_cv:\n",
    "    list_of_sentance_cv.append(sentance.split())\n",
    "# average Word2Vec\n",
    "# compute average word2vec for each review.\n",
    "sent_vectors_cv = []; # the avg-w2v for each sentence/review is stored in this list\n",
    "for sent in tqdm(list_of_sentance_cv): # for each review/sentence\n",
    "    sent_vec = np.zeros(50) # as word vectors are of zero length 50, you might need to change this to 300 if you use google's w2v\n",
    "    cnt_words =0; # num of words with a valid vector in the sentence/review\n",
    "    for word in sent: # for each word in a review/sentence\n",
    "        if word in w2v_words:\n",
    "            vec = w2v_model.wv[word]\n",
    "            sent_vec += vec\n",
    "            cnt_words += 1\n",
    "    if cnt_words != 0:\n",
    "        sent_vec /= cnt_words\n",
    "    sent_vectors_cv.append(sent_vec)\n",
    "sent_vectors_cv = np.array(sent_vectors_cv)\n",
    "print(sent_vectors_cv.shape)\n",
    "print(sent_vectors_cv[0])\n"
   ]
  },
  {
   "cell_type": "code",
   "execution_count": 72,
   "metadata": {},
   "outputs": [
    {
     "name": "stdout",
     "output_type": "stream",
     "text": [
      "(4000, 50)\n",
      "[ 0.34806705  0.29548332 -1.19285869 -0.52561498 -0.65886749 -0.05652549\n",
      " -0.10167414 -0.11191036 -0.22394349 -0.0458506  -0.67382281 -0.54236537\n",
      "  0.19140052  0.43675589  0.19824981 -0.28258004  0.59908861 -0.18569906\n",
      " -0.29353612 -0.17871369 -0.25685934  0.38088331 -0.35416527  0.06036188\n",
      "  0.00908717  0.50689791  0.00675612  0.14272982 -0.27498924 -0.12509584\n",
      "  0.40970013 -0.0199179  -0.19435267  0.30690022  0.07161385 -0.38804171\n",
      " -0.27232161  0.66862669 -0.65574677  0.05975193 -0.35814347 -0.20950051\n",
      " -0.26713764  0.1572135  -0.04109593 -0.1815839  -0.44820425  0.11666733\n",
      "  0.14991753 -0.22498539]\n"
     ]
    }
   ],
   "source": [
    "i=0\n",
    "list_of_sentance_test=[]\n",
    "for sentance in X_test:\n",
    "    list_of_sentance_test.append(sentance.split())\n",
    "# average Word2Vec\n",
    "# compute average word2vec for each review.\n",
    "sent_vectors_test = []; # the avg-w2v for each sentence/review is stored in this list\n",
    "for sent in (list_of_sentance_test): # for each review/sentence\n",
    "    sent_vec = np.zeros(50) # as word vectors are of zero length 50, you might need to change this to 300 if you use google's w2v\n",
    "    cnt_words =0; # num of words with a valid vector in the sentence/review\n",
    "    for word in sent: # for each word in a review/sentence\n",
    "        if word in w2v_words:\n",
    "            vec = w2v_model.wv[word]\n",
    "            sent_vec += vec\n",
    "            cnt_words += 1\n",
    "    if cnt_words != 0:\n",
    "        sent_vec /= cnt_words\n",
    "    sent_vectors_test.append(sent_vec)\n",
    "sent_vectors_test = np.array(sent_vectors_test)\n",
    "print(sent_vectors_test.shape)\n",
    "print(sent_vectors_test[0])"
   ]
  },
  {
   "cell_type": "code",
   "execution_count": 75,
   "metadata": {},
   "outputs": [
    {
     "name": "stderr",
     "output_type": "stream",
     "text": [
      "100%|██████████████████████████████████████████████████████████████████████████████████| 10/10 [01:17<00:00,  7.91s/it]\n"
     ]
    },
    {
     "data": {
      "image/png": "[encoded data removed]",
      "text/plain": [
       "<Figure size 432x288 with 1 Axes>"
      ]
     },
     "metadata": {
      "needs_background": "light"
     },
     "output_type": "display_data"
    }
   ],
   "source": [
    "train_auc = []\n",
    "cv_auc = []\n",
    "k = list(range(1, 40, 4))\n",
    "for i in tqdm(k):\n",
    "    neigh = KNeighborsClassifier(n_neighbors=i, algorithm='brute',weights='uniform')\n",
    "    neigh.fit(sent_vectors_train, Y_train)\n",
    "    # roc_auc_score(y_true, y_score) the 2nd parameter should be probability estimates of the positive class\n",
    "    # not the predicted outputs\n",
    "    Y_train_pred = neigh.predict_proba(sent_vectors_train)[:,1]\n",
    "    Y_cv_pred = neigh.predict_proba(sent_vectors_cv)[:,1]\n",
    "    \n",
    "    train_auc.append(roc_auc_score(Y_train,Y_train_pred))\n",
    "    cv_auc.append(roc_auc_score(Y_cv, Y_cv_pred))\n",
    "    \n",
    "plt.plot(k, train_auc, label='Train AUC')\n",
    "plt.scatter(k, train_auc, label='Train AUC')\n",
    "plt.plot(k, cv_auc, label='CV AUC')\n",
    "plt.scatter(k,cv_auc, label='CV AUC')\n",
    "plt.legend()\n",
    "plt.xlabel(\"k: hyperparameter\")\n",
    "plt.ylabel(\"AUC\")\n",
    "plt.title(\"AUC Vs K\")\n",
    "plt.show()"
   ]
  },
  {
   "cell_type": "code",
   "execution_count": 36,
   "metadata": {},
   "outputs": [
    {
     "name": "stderr",
     "output_type": "stream",
     "text": [
      "100%|██████████████████████████████████████████████████████████████████████████████████| 10/10 [00:47<00:00,  4.82s/it]\n"
     ]
    }
   ],
   "source": [
    "neighbors = list(range(1, 40, 4))\n",
    "cv_score = []\n",
    "for k in tqdm(neighbors):\n",
    "    knn = KNeighborsClassifier(n_neighbors=31, algorithm='brute', weights='uniform')\n",
    "    scores = cross_val_score(knn, sent_vectors_train, Y_train, cv=10, scoring='f1')\n",
    "    cv_score.append(scores.mean())"
   ]
  },
  {
   "cell_type": "code",
   "execution_count": 91,
   "metadata": {},
   "outputs": [],
   "source": [
    "#As per the above metrics we took k=31 as our optimal hyperparameter.\n",
    "optimal_k3 = KNeighborsClassifier(n_neighbors=31, algorithm='brute', weights='uniform')\n",
    "optimal_k3.fit(sent_vectors_train, Y_train)\n",
    "prediction = optimal_k3.predict(sent_vectors_test)"
   ]
  },
  {
   "cell_type": "markdown",
   "metadata": {},
   "source": [
    "# Plotting ROC Curve"
   ]
  },
  {
   "cell_type": "code",
   "execution_count": 74,
   "metadata": {},
   "outputs": [
    {
     "data": {
      "image/png": "[encoded data removed]",
      "text/plain": [
       "<Figure size 432x288 with 1 Axes>"
      ]
     },
     "metadata": {
      "needs_background": "light"
     },
     "output_type": "display_data"
    }
   ],
   "source": [
    "train_fpr, train_tpr, thresholds = roc_curve(Y_train, optimal_model.predict_proba(sent_vectors_train)[:,1])\n",
    "test_fpr, test_tpr, thresholds = roc_curve(Y_test, optimal_model.predict_proba(sent_vectors_test)[:,1])\n",
    "AUC3=str(auc(test_fpr, test_tpr))\n",
    "plt.plot(train_fpr, train_tpr, label=\"train ROC =\"+str(auc(train_fpr, train_tpr)))\n",
    "plt.plot(test_fpr, test_tpr, label=\"test ROC =\"+str(auc(test_fpr, test_tpr)))\n",
    "plt.legend()\n",
    "plt.xlabel(\"FPR\")\n",
    "plt.ylabel(\"TPR\")\n",
    "plt.title(\"ROC\")\n",
    "plt.show()"
   ]
  },
  {
   "cell_type": "markdown",
   "metadata": {},
   "source": [
    "# Confusion Matrix"
   ]
  },
  {
   "cell_type": "code",
   "execution_count": 79,
   "metadata": {
    "scrolled": false
   },
   "outputs": [
    {
     "name": "stdout",
     "output_type": "stream",
     "text": [
      "Train confusion matrix\n",
      "[[5227 1216]\n",
      " [1634 4723]]\n",
      "Test confusion matrix\n",
      "[[1569  385]\n",
      " [ 575 1471]]\n"
     ]
    },
    {
     "data": {
      "image/png": "[encoded data removed]",
      "text/plain": [
       "<Figure size 432x288 with 2 Axes>"
      ]
     },
     "metadata": {
      "needs_background": "light"
     },
     "output_type": "display_data"
    }
   ],
   "source": [
    "import seaborn as sns\n",
    "from sklearn.metrics import confusion_matrix\n",
    "optimal_model = KNeighborsClassifier(n_neighbors=31, algorithm='brute', weights='uniform')\n",
    "optimal_model.fit(sent_vectors_train, Y_train)\n",
    "prediction = optimal_model.predict(sent_vectors_test)\n",
    "print(\"Train confusion matrix\") \n",
    "print(confusion_matrix(Y_train, optimal_model.predict(sent_vectors_train))) \n",
    "print(\"Test confusion matrix\")\n",
    "print(confusion_matrix(Y_test, optimal_model.predict(sent_vectors_test)))\n",
    "conf_matrix = confusion_matrix(Y_test, optimal_model.predict(sent_vectors_test))\n",
    "class_label = [\"negative\", \"positive\"]\n",
    "df_cm = pd.DataFrame(conf_matrix, index = class_label, columns = class_label)\n",
    "sns.heatmap(df_cm, annot = True, fmt = \"d\")\n",
    "plt.title(\"Confusiion Matrix\")\n",
    "plt.xlabel(\"Predicted Label\")\n",
    "plt.ylabel(\"True Label\")\n",
    "plt.show()"
   ]
  },
  {
   "cell_type": "markdown",
   "metadata": {},
   "source": [
    "#### Observation:\n",
    "* Using bruteForcce Model KNN AVGW2V optimal hyperparameter is 31 with an accuracy 0f 0.85%"
   ]
  },
  {
   "cell_type": "markdown",
   "metadata": {},
   "source": [
    "### [5.1.4] Applying KNN brute force on TFIDF W2V,<font color='red'> SET 4</font>"
   ]
  },
  {
   "cell_type": "code",
   "execution_count": 42,
   "metadata": {},
   "outputs": [],
   "source": [
    "# Please write all the code with proper documentation\n",
    "# S = [\"abc def pqr\", \"def def def abc\", \"pqr pqr def\"]\n",
    "model = TfidfVectorizer()\n",
    "tf_idf_matrix = model.fit(X_train)\n",
    "# we are converting a dictionary with word as a key, and the idf as a value\n",
    "dictionary = dict(zip(model.get_feature_names(), list(model.idf_)))"
   ]
  },
  {
   "cell_type": "code",
   "execution_count": 44,
   "metadata": {},
   "outputs": [
    {
     "name": "stderr",
     "output_type": "stream",
     "text": [
      "100%|████████████████████████████████████████████████████████████████████████████| 12800/12800 [16:06<00:00, 13.25it/s]\n"
     ]
    }
   ],
   "source": [
    "#TF-IDF weighted word2vec\n",
    "i=0\n",
    "list_of_sentance_train=[]\n",
    "for sentance in X_train:\n",
    "    list_of_sentance_train.append(sentance.split())\n",
    "tfidf_feat = tf_idf_vect.get_feature_names() # tfidf words/col-names\n",
    "# final_tf_idf is the sparse matrix with row= sentence, col=word and cell_val = tfidf\n",
    "\n",
    "tfidf_sent_vectors_train = []; # the tfidf-w2v for each sentence/review is stored in this list\n",
    "row=0;\n",
    "for sent in tqdm(list_of_sentance_train): # for each review/sentence \n",
    "    sent_vec = np.zeros(50) # as word vectors are of zero length\n",
    "    weight_sum =0; # num of words with a valid vector in the sentence/review\n",
    "    for word in sent: # for each word in a review/sentence\n",
    "        if word in w2v_words and word in tfidf_feat:\n",
    "            vec = w2v_model.wv[word]\n",
    "#             tf_idf = tf_idf_matrix[row, tfidf_feat.index(word)]\n",
    "            # to reduce the computation we are \n",
    "            # dictionary[word] = idf value of word in whole courpus\n",
    "            # sent.count(word) = tf valeus of word in this review\n",
    "            tf_idf = dictionary[word]*(sent.count(word)/len(sent))\n",
    "            sent_vec += (vec * tf_idf)\n",
    "            weight_sum += tf_idf\n",
    "    if weight_sum != 0:\n",
    "        sent_vec /= weight_sum\n",
    "    tfidf_sent_vectors_train.append(sent_vec)\n",
    "    row += 1"
   ]
  },
  {
   "cell_type": "code",
   "execution_count": 46,
   "metadata": {},
   "outputs": [
    {
     "name": "stderr",
     "output_type": "stream",
     "text": [
      "100%|██████████████████████████████████████████████████████████████████████████████| 3200/3200 [01:01<00:00, 51.78it/s]\n"
     ]
    }
   ],
   "source": [
    "#TF-IDF weighted word2vec\n",
    "i=0\n",
    "list_of_sentance_cv=[]\n",
    "for sentance in X_cv:\n",
    "    list_of_sentance_cv.append(sentance.split())\n",
    "tfidf_feat = model.get_feature_names() # tfidf words/col-names\n",
    "# final_tf_idf is the sparse matrix with row= sentence, col=word and cell_val = tfidf\n",
    "\n",
    "tfidf_sent_vectors_cv = []; # the tfidf-w2v for each sentence/review is stored in this list\n",
    "row=0;\n",
    "for sent in tqdm(list_of_sentance_cv): # for each review/sentence \n",
    "    sent_vec = np.zeros(50) # as word vectors are of zero length\n",
    "    weight_sum =0; # num of words with a valid vector in the sentence/review\n",
    "    for word in sent: # for each word in a review/sentence\n",
    "        if word in w2v_words and word in tfidf_feat:\n",
    "            vec = w2v_model.wv[word]\n",
    "#             tf_idf = tf_idf_matrix[row, tfidf_feat.index(word)]\n",
    "            # to reduce the computation we are \n",
    "            # dictionary[word] = idf value of word in whole courpus\n",
    "            # sent.count(word) = tf valeus of word in this review\n",
    "            tf_idf = dictionary[word]*(sent.count(word)/len(sent))\n",
    "            sent_vec += (vec * tf_idf)\n",
    "            weight_sum += tf_idf\n",
    "    if weight_sum != 0:\n",
    "        sent_vec /= weight_sum\n",
    "    tfidf_sent_vectors_cv.append(sent_vec)\n",
    "    row += 1"
   ]
  },
  {
   "cell_type": "code",
   "execution_count": 47,
   "metadata": {},
   "outputs": [
    {
     "name": "stderr",
     "output_type": "stream",
     "text": [
      "100%|██████████████████████████████████████████████████████████████████████████████| 4000/4000 [01:22<00:00, 48.69it/s]\n"
     ]
    }
   ],
   "source": [
    "#TF-IDF weighted word2vec\n",
    "i=0\n",
    "list_of_sentance_test=[]\n",
    "for sentance in X_test:\n",
    "    list_of_sentance_test.append(sentance.split())\n",
    "tfidf_feat = model.get_feature_names() # tfidf words/col-names\n",
    "# final_tf_idf is the sparse matrix with row= sentence, col=word and cell_val = tfidf\n",
    "\n",
    "tfidf_sent_vectors_test = []; # the tfidf-w2v for each sentence/review is stored in this list\n",
    "row=0;\n",
    "for sent in tqdm(list_of_sentance_test): # for each review/sentence \n",
    "    sent_vec = np.zeros(50) # as word vectors are of zero length\n",
    "    weight_sum =0; # num of words with a valid vector in the sentence/review\n",
    "    for word in sent: # for each word in a review/sentence\n",
    "        if word in w2v_words and word in tfidf_feat:\n",
    "            vec = w2v_model.wv[word]\n",
    "#             tf_idf = tf_idf_matrix[row, tfidf_feat.index(word)]\n",
    "            # to reduce the computation we are \n",
    "            # dictionary[word] = idf value of word in whole courpus\n",
    "            # sent.count(word) = tf valeus of word in this review\n",
    "            tf_idf = dictionary[word]*(sent.count(word)/len(sent))\n",
    "            sent_vec += (vec * tf_idf)\n",
    "            weight_sum += tf_idf\n",
    "    if weight_sum != 0:\n",
    "        sent_vec /= weight_sum\n",
    "    tfidf_sent_vectors_test.append(sent_vec)\n",
    "    row += 1"
   ]
  },
  {
   "cell_type": "code",
   "execution_count": 85,
   "metadata": {},
   "outputs": [
    {
     "data": {
      "image/png": "[encoded data removed]",
      "text/plain": [
       "<Figure size 432x288 with 1 Axes>"
      ]
     },
     "metadata": {
      "needs_background": "light"
     },
     "output_type": "display_data"
    }
   ],
   "source": [
    "train_auc = []\n",
    "cv_auc = []\n",
    "k = list(range(1,50,4))\n",
    "for i in k:\n",
    "    neigh = KNeighborsClassifier(n_neighbors=i, algorithm='brute', weights='uniform')\n",
    "    neigh.fit(tfidf_sent_vectors_train, Y_train)\n",
    "    # roc_auc_score(y_true, y_score) the 2nd parameter should be probability estimates of the positive class\n",
    "    # not the predicted outputs\n",
    "    Y_train_pred = neigh.predict_proba(tfidf_sent_vectors_train)[:,1]\n",
    "    Y_cv_pred = neigh.predict_proba(tfidf_sent_vectors_cv)[:,1]\n",
    "    \n",
    "    train_auc.append(roc_auc_score(Y_train,Y_train_pred))\n",
    "    cv_auc.append(roc_auc_score(Y_cv, Y_cv_pred))\n",
    "    \n",
    "plt.plot(k, train_auc, label='Train AUC')\n",
    "plt.scatter(k, train_auc, label='Train AUC')\n",
    "plt.plot(k, cv_auc, label='CV AUC')\n",
    "plt.scatter(k,cv_auc, label='CV AUC')\n",
    "plt.legend()\n",
    "plt.xlabel(\"k: hyperparameter\")\n",
    "plt.ylabel(\"AUC\")\n",
    "plt.title(\"AUC Vs K\")\n",
    "plt.show()"
   ]
  },
  {
   "cell_type": "code",
   "execution_count": 39,
   "metadata": {},
   "outputs": [
    {
     "name": "stderr",
     "output_type": "stream",
     "text": [
      "100%|██████████████████████████████████████████████████████████████████████████████████| 13/13 [01:03<00:00,  5.01s/it]\n"
     ]
    }
   ],
   "source": [
    "neighbors = list(range(1,50,4))\n",
    "cv_score=[]\n",
    "for k in tqdm(neighbors):\n",
    "    knn = KNeighborsClassifier(n_neighbors=45, algorithm='brute', weights='uniform')\n",
    "    scores = cross_val_score(knn, tfidf_sent_vectors_train, Y_train, cv=10, scoring='f1')\n",
    "    cv_score.append(scores.mean())  "
   ]
  },
  {
   "cell_type": "code",
   "execution_count": 92,
   "metadata": {},
   "outputs": [],
   "source": [
    "#As per the above metrics we took k=45 as our optimal hyperparameter.\n",
    "optimal_k4 = KNeighborsClassifier(n_neighbors=45, algorithm='brute', weights='uniform')\n",
    "optimal_k4.fit(tfidf_sent_vectors_train, Y_train)\n",
    "prediction = optimal_k4.predict(tfidf_sent_vectors_test)"
   ]
  },
  {
   "cell_type": "markdown",
   "metadata": {},
   "source": [
    "##  Plotting ROC Curve"
   ]
  },
  {
   "cell_type": "code",
   "execution_count": 49,
   "metadata": {},
   "outputs": [
    {
     "data": {
      "image/png": "[encoded data removed]",
      "text/plain": [
       "<Figure size 432x288 with 1 Axes>"
      ]
     },
     "metadata": {
      "needs_background": "light"
     },
     "output_type": "display_data"
    }
   ],
   "source": [
    "train_fpr, train_tpr, thresholds = roc_curve(Y_train, optimal_model.predict_proba(tfidf_sent_vectors_train)[:,1])\n",
    "test_fpr, test_tpr, thresholds = roc_curve(Y_test, optimal_model.predict_proba(tfidf_sent_vectors_test)[:,1])\n",
    "AUC4=str(auc(test_fpr, test_tpr))\n",
    "plt.plot(train_fpr, train_tpr, label=\"train ROC =\"+str(auc(train_fpr, train_tpr)))\n",
    "plt.plot(test_fpr, test_tpr, label=\"test ROC =\"+str(auc(test_fpr, test_tpr)))\n",
    "plt.legend()\n",
    "plt.xlabel(\"FPR\")\n",
    "plt.ylabel(\"TPR\")\n",
    "plt.title(\"ROC\")\n",
    "plt.show()"
   ]
  },
  {
   "cell_type": "markdown",
   "metadata": {},
   "source": [
    "## Confusion Matrix"
   ]
  },
  {
   "cell_type": "code",
   "execution_count": 90,
   "metadata": {},
   "outputs": [
    {
     "name": "stdout",
     "output_type": "stream",
     "text": [
      "Train confusion matrix\n",
      "[[4875 1568]\n",
      " [1617 4740]]\n",
      "Test confusion matrix\n",
      "[[1455  499]\n",
      " [ 543 1503]]\n"
     ]
    },
    {
     "data": {
      "image/png": "[encoded data removed]",
      "text/plain": [
       "<Figure size 432x288 with 2 Axes>"
      ]
     },
     "metadata": {
      "needs_background": "light"
     },
     "output_type": "display_data"
    }
   ],
   "source": [
    "import seaborn as sns\n",
    "from sklearn.metrics import confusion_matrix\n",
    "optimal_model = KNeighborsClassifier(n_neighbors=45, algorithm='brute', weights='uniform')\n",
    "optimal_model.fit(tfidf_sent_vectors_train, Y_train)\n",
    "prediction = optimal_model.predict(tfidf_sent_vectors_test)\n",
    "print(\"Train confusion matrix\") \n",
    "print(confusion_matrix(Y_train, optimal_model.predict(tfidf_sent_vectors_train))) \n",
    "print(\"Test confusion matrix\")\n",
    "print(confusion_matrix(Y_test, optimal_model.predict(tfidf_sent_vectors_test)))\n",
    "conf_matrix = confusion_matrix(Y_test, optimal_model.predict(tfidf_sent_vectors_test))\n",
    "class_label = [\"negative\", \"positive\"]\n",
    "df_cm = pd.DataFrame(conf_matrix, index = class_label, columns = class_label)\n",
    "sns.heatmap(df_cm, annot = True, fmt = \"d\")\n",
    "plt.title(\"Confusiion Matrix\")\n",
    "plt.xlabel(\"Predicted Label\")\n",
    "plt.ylabel(\"True Label\")\n",
    "plt.show()"
   ]
  },
  {
   "cell_type": "markdown",
   "metadata": {},
   "source": [
    "#### Observation:\n",
    "* Using BruteForce Model Of KNN optimal HyperParameter is 45 with an accuracy of 0.82%\n",
    "* Miscalssification Vs Optimal K it shows Classification error for each K value, which is decreasing for each Of the K."
   ]
  },
  {
   "cell_type": "markdown",
   "metadata": {},
   "source": [
    "## [5.2] Applying KNN kd-tree"
   ]
  },
  {
   "cell_type": "markdown",
   "metadata": {},
   "source": [
    "### [5.2.1] Applying KNN kd-tree on BOW,<font color='red'> SET 5</font>"
   ]
  },
  {
   "cell_type": "code",
   "execution_count": 32,
   "metadata": {},
   "outputs": [
    {
     "name": "stdout",
     "output_type": "stream",
     "text": [
      "(20000,)\n",
      "<class 'numpy.ndarray'>\n",
      "(20000,)\n",
      "<class 'numpy.ndarray'>\n"
     ]
    }
   ],
   "source": [
    "# Please write all the code with proper documentation\n",
    "data_pos1 = final[final[\"Score\"] == 1].sample(n = 10000)\n",
    "data_neg1 = final[final[\"Score\"] == 0].sample(n = 10000)\n",
    "final2 = pd.concat([data_pos1,data_neg1])\n",
    "final2.shape\n",
    "\n",
    "B = final2['Score'].values\n",
    "A = final2['Text'].values\n",
    "print(B.shape)\n",
    "print(type(B))\n",
    "print(A.shape)\n",
    "print(type(A))"
   ]
  },
  {
   "cell_type": "code",
   "execution_count": 33,
   "metadata": {},
   "outputs": [
    {
     "name": "stdout",
     "output_type": "stream",
     "text": [
      "====================================================================================================\n",
      "After splitting\n",
      "(12800,) (12800,)\n",
      "(3200,) (3200,)\n",
      "(4000,) (4000,)\n"
     ]
    }
   ],
   "source": [
    "A_tr,A_test,B_tr,B_test=train_test_split(A,B,test_size=0.2,random_state=12)\n",
    "A_train,A_cv,B_train,B_cv=train_test_split(A_tr,B_tr,test_size=0.2,random_state=12)\n",
    "print('='*100)\n",
    "print(\"After splitting\")\n",
    "print(A_train.shape,B_train.shape)\n",
    "print(A_cv.shape,B_cv.shape)\n",
    "print(A_test.shape,B_test.shape)"
   ]
  },
  {
   "cell_type": "code",
   "execution_count": 34,
   "metadata": {},
   "outputs": [
    {
     "name": "stdout",
     "output_type": "stream",
     "text": [
      "====================================================================================================\n",
      "After transform\n",
      "(12800, 500) (12800,)\n",
      "(3200, 500) (3200,)\n",
      "(4000, 500) (3200,)\n"
     ]
    }
   ],
   "source": [
    "vectorizer=CountVectorizer(min_df=10, max_features=500)\n",
    "vectorizer=vectorizer.fit(A_train)\n",
    "A_train_bow_kdtree=vectorizer.transform(A_train)\n",
    "A_cv_bow_kdtree=vectorizer.transform(A_cv)\n",
    "A_test_bow_kdtree=vectorizer.transform(A_test)\n",
    "print('='*100)\n",
    "print(\"After transform\")\n",
    "print(A_train_bow_kdtree.shape,B_train.shape)\n",
    "print(A_cv_bow_kdtree.shape,B_cv.shape)\n",
    "print(A_test_bow_kdtree.shape,B_cv.shape)"
   ]
  },
  {
   "cell_type": "code",
   "execution_count": 95,
   "metadata": {},
   "outputs": [
    {
     "data": {
      "image/png": "[encoded data removed]",
      "text/plain": [
       "<Figure size 432x288 with 1 Axes>"
      ]
     },
     "metadata": {
      "needs_background": "light"
     },
     "output_type": "display_data"
    }
   ],
   "source": [
    "train_auc = []\n",
    "cv_auc = []\n",
    "K = list(range(1,50,4))\n",
    "for i in K:\n",
    "    neigh = KNeighborsClassifier(n_neighbors=i, algorithm='kd_tree')\n",
    "    neigh.fit(A_train_bow_kdtree.todense(), B_train)\n",
    "    # roc_auc_score(y_true, y_score) the 2nd parameter should be probability estimates of the positive class\n",
    "    # not the predicted outputs\n",
    "    B_train_pred =  neigh.predict_proba(A_train_bow_kdtree.todense())[:,1]\n",
    "    B_cv_pred =  neigh.predict_proba(A_cv_bow_kdtree.todense())[:,1]\n",
    "    \n",
    "    train_auc.append(roc_auc_score(B_train,B_train_pred))\n",
    "    cv_auc.append(roc_auc_score(B_cv, B_cv_pred))\n",
    "plt.plot(K, train_auc, label='Train AUC')\n",
    "plt.scatter(K, train_auc, label='Train AUC')\n",
    "plt.plot(K, cv_auc, label='CV AUC')\n",
    "plt.scatter(K, cv_auc, label='CV AUC')\n",
    "plt.legend()\n",
    "plt.xlabel(\"k: hyperparameter\")\n",
    "plt.ylabel(\"AUC\")\n",
    "plt.title(\"AUC Vs K\")\n",
    "plt.show()"
   ]
  },
  {
   "cell_type": "code",
   "execution_count": 43,
   "metadata": {},
   "outputs": [
    {
     "name": "stderr",
     "output_type": "stream",
     "text": [
      "100%|██████████████████████████████████████████████████████████████████████████████████| 13/13 [00:28<00:00,  2.20s/it]\n"
     ]
    }
   ],
   "source": [
    "from sklearn.model_selection import cross_val_score\n",
    "from sklearn.metrics import accuracy_score\n",
    "neighbors = list(range(1,50,4))\n",
    "cv_score = []\n",
    "for k in tqdm(neighbors):\n",
    "    knn = KNeighborsClassifier(n_neighbors=k, algorithm='kd_tree')\n",
    "    scores = cross_val_score(knn, A_train_bow_kdtree.todense(), B_train, cv=10, scoring='accuracy')\n",
    "    cv_score.append(scores.mean())  "
   ]
  },
  {
   "cell_type": "code",
   "execution_count": 93,
   "metadata": {},
   "outputs": [],
   "source": [
    "#As per the above metrics we took k=25 as our optimal hyperparameter.\n",
    "optimal_k5 = KNeighborsClassifier(n_neighbors=25, algorithm='kd_tree')\n",
    "optimal_k5.fit(A_train_bow_kdtree.todense(), B_train)\n",
    "prediction = optimal_k5.predict(A_test_bow_kdtree.todense())"
   ]
  },
  {
   "cell_type": "markdown",
   "metadata": {},
   "source": [
    "## Plotting ROC Curve"
   ]
  },
  {
   "cell_type": "code",
   "execution_count": 54,
   "metadata": {},
   "outputs": [
    {
     "data": {
      "image/png": "[encoded data removed]",
      "text/plain": [
       "<Figure size 432x288 with 1 Axes>"
      ]
     },
     "metadata": {
      "needs_background": "light"
     },
     "output_type": "display_data"
    }
   ],
   "source": [
    "train_fpr, train_tpr, thresholds = roc_curve(B_train, optimal_model.predict_proba(A_train_bow_kdtree.todense())[:,1])\n",
    "test_fpr, test_tpr, thresholds = roc_curve(B_test, optimal_model.predict_proba(A_test_bow_kdtree.todense())[:,1])\n",
    "AUC5=str(auc(test_fpr, test_tpr))\n",
    "plt.plot(train_fpr, train_tpr, label=\"train ROC =\"+str(auc(train_fpr, train_tpr)))\n",
    "plt.plot(test_fpr, test_tpr, label=\"test ROC =\"+str(auc(test_fpr, test_tpr)))\n",
    "plt.legend()\n",
    "plt.xlabel(\"FPR\")\n",
    "plt.ylabel(\"TPR\")\n",
    "plt.title(\"ROC\")\n",
    "plt.show()"
   ]
  },
  {
   "cell_type": "markdown",
   "metadata": {},
   "source": [
    "## Confusion Matrix"
   ]
  },
  {
   "cell_type": "code",
   "execution_count": 99,
   "metadata": {},
   "outputs": [
    {
     "name": "stdout",
     "output_type": "stream",
     "text": [
      "Train confusion matrix\n",
      "[[492 148]\n",
      " [205 435]]\n",
      "Test confusion matrix\n",
      "[[148  45]\n",
      " [ 88 119]]\n"
     ]
    },
    {
     "data": {
      "image/png": "[encoded data removed]",
      "text/plain": [
       "<Figure size 432x288 with 2 Axes>"
      ]
     },
     "metadata": {
      "needs_background": "light"
     },
     "output_type": "display_data"
    }
   ],
   "source": [
    "import seaborn as sns\n",
    "from sklearn.metrics import confusion_matrix\n",
    "optimal_model = KNeighborsClassifier(n_neighbors=25, algorithm='kd_tree', weights='uniform')\n",
    "optimal_model.fit(A_train_bow_kdtree.todense(), B_train)\n",
    "prediction = optimal_model.predict(A_train_bow_kdtree.todense())\n",
    "print(\"Train confusion matrix\") \n",
    "print(confusion_matrix(B_train, optimal_model.predict(A_train_bow_kdtree.todense()))) \n",
    "print(\"Test confusion matrix\")\n",
    "print(confusion_matrix(B_test, optimal_model.predict(A_test_bow_kdtree.todense())))\n",
    "conf_matrix = confusion_matrix(B_test, optimal_model.predict(A_test_bow_kdtree.todense()))\n",
    "class_label = [\"negative\", \"positive\"]\n",
    "df_cm = pd.DataFrame(conf_matrix, index = class_label, columns = class_label)\n",
    "sns.heatmap(df_cm, annot = True, fmt = \"d\")\n",
    "plt.title(\"Confusiion Matrix\")\n",
    "plt.xlabel(\"Predicted Label\")\n",
    "plt.ylabel(\"True Label\")\n",
    "plt.show()"
   ]
  },
  {
   "cell_type": "markdown",
   "metadata": {},
   "source": [
    "#### Observation:\n",
    "* Using Kd-tree Model Of KNN BOW optimal Hyperparameter is 47 with an accuracy of 72%.\n",
    "* As the Dimensionality is high which leads to o(nd) than o(log(n)) , using kd-tree is useless.\n"
   ]
  },
  {
   "cell_type": "markdown",
   "metadata": {},
   "source": [
    "### [5.2.2] Applying KNN kd-tree on TFIDF,<font color='red'> SET 6</font>"
   ]
  },
  {
   "cell_type": "code",
   "execution_count": 55,
   "metadata": {},
   "outputs": [
    {
     "name": "stdout",
     "output_type": "stream",
     "text": [
      "(1280, 2001)\n"
     ]
    }
   ],
   "source": [
    "# Please write all the code with proper documentation\n",
    "tf_idf_vect = TfidfVectorizer(ngram_range=(1,2), min_df=5, max_df=500)\n",
    "tf_idf_vect.fit(A_train)\n",
    "A_train_tfidf=tf_idf_vect.transform(A_train)\n",
    "A_cv_tfidf=tf_idf_vect.transform(A_cv)\n",
    "A_test_tfidf=tf_idf_vect.transform(A_test)\n",
    "print(A_train_tfidf.shape)"
   ]
  },
  {
   "cell_type": "code",
   "execution_count": 109,
   "metadata": {},
   "outputs": [
    {
     "name": "stderr",
     "output_type": "stream",
     "text": [
      "100%|██████████████████████████████████████████████████████████████████████████████████| 13/13 [02:04<00:00, 10.04s/it]\n"
     ]
    },
    {
     "data": {
      "image/png": "[encoded data removed]",
      "text/plain": [
       "<Figure size 432x288 with 1 Axes>"
      ]
     },
     "metadata": {
      "needs_background": "light"
     },
     "output_type": "display_data"
    }
   ],
   "source": [
    "train_auc = []\n",
    "cv_auc = []\n",
    "k=[]\n",
    "k = list(range(1,50,4))\n",
    "for i in tqdm(k):\n",
    "    neigh = KNeighborsClassifier(n_neighbors=i, algorithm='kd_tree')\n",
    "    neigh.fit(A_train_tfidf.todense(), B_train)\n",
    "    # roc_auc_score(y_true, y_score) the 2nd parameter should be probability estimates of the positive class\n",
    "    # not the predicted outputs\n",
    "    B_train_pred = neigh.predict_proba(A_train_tfidf.todense())[:,1]\n",
    "    B_cv_pred = neigh.predict_proba(A_cv_tfidf.todense())[:,1]\n",
    "    \n",
    "    train_auc.append(roc_auc_score(B_train,B_train_pred))\n",
    "    cv_auc.append(roc_auc_score(B_cv, B_cv_pred))\n",
    "    k.append(i)\n",
    "    \n",
    "plt.plot(k, train_auc, label='Train AUC')\n",
    "plt.scatter(k, train_auc, label='Train AUC')\n",
    "plt.plot(k, cv_auc, label='CV AUC')\n",
    "plt.scatter(k,cv_auc, label='CV AUC')\n",
    "plt.legend()\n",
    "plt.xlabel(\"k: hyperparameter\")\n",
    "plt.ylabel(\"AUC\")\n",
    "plt.title(\"AUC Vs K\")\n",
    "plt.show()"
   ]
  },
  {
   "cell_type": "code",
   "execution_count": 46,
   "metadata": {},
   "outputs": [
    {
     "name": "stderr",
     "output_type": "stream",
     "text": [
      "100%|██████████████████████████████████████████████████████████████████████████████████| 13/13 [01:08<00:00,  5.25s/it]\n"
     ]
    }
   ],
   "source": [
    "from sklearn.model_selection import cross_val_score\n",
    "from sklearn.metrics import accuracy_score\n",
    "neighbors = list(range(1,50,4))\n",
    "cv_score = []\n",
    "for k in tqdm(neighbors):\n",
    "    knn = KNeighborsClassifier(n_neighbors=k, algorithm='kd_tree')\n",
    "    scores = cross_val_score(knn, A_train_tfidf.todense(), B_train, cv=3, scoring='accuracy')\n",
    "    cv_score.append(scores.mean())  "
   ]
  },
  {
   "cell_type": "code",
   "execution_count": 94,
   "metadata": {},
   "outputs": [],
   "source": [
    "#As per the above metrics we took k=35 as our optimal hyperparameter.\n",
    "optimal_k6 = KNeighborsClassifier(n_neighbors=35, algorithm='kd_tree')\n",
    "optimal_k6.fit(A_train_tfidf.todense(), B_train)\n",
    "prediction = optimal_k6.predict(A_test_tfidf.todense())"
   ]
  },
  {
   "cell_type": "markdown",
   "metadata": {},
   "source": [
    "## Plotting ROC Curve"
   ]
  },
  {
   "cell_type": "code",
   "execution_count": 57,
   "metadata": {},
   "outputs": [
    {
     "data": {
      "image/png": "[encoded data removed]",
      "text/plain": [
       "<Figure size 432x288 with 1 Axes>"
      ]
     },
     "metadata": {
      "needs_background": "light"
     },
     "output_type": "display_data"
    }
   ],
   "source": [
    "train_fpr, train_tpr, thresholds = roc_curve(B_train, optimal_model.predict_proba(A_train_tfidf.todense())[:,1])\n",
    "test_fpr, test_tpr, thresholds = roc_curve(B_test, optimal_model.predict_proba(A_test_tfidf.todense())[:,1])\n",
    "AUC6=str(auc(test_fpr, test_tpr))\n",
    "plt.plot(train_fpr, train_tpr, label=\"train ROC =\"+str(auc(train_fpr, train_tpr)))\n",
    "plt.plot(test_fpr, test_tpr, label=\"test ROC =\"+str(auc(test_fpr, test_tpr)))\n",
    "plt.legend()\n",
    "plt.xlabel(\"FPR\")\n",
    "plt.ylabel(\"TPR\")\n",
    "plt.title(\"ROC\")\n",
    "plt.show()"
   ]
  },
  {
   "cell_type": "markdown",
   "metadata": {},
   "source": [
    "## Confusion Matrix"
   ]
  },
  {
   "cell_type": "code",
   "execution_count": 112,
   "metadata": {},
   "outputs": [
    {
     "name": "stdout",
     "output_type": "stream",
     "text": [
      "Train confusion matrix\n",
      "[[466 174]\n",
      " [122 518]]\n",
      "Test confusion matrix\n",
      "[[147  46]\n",
      " [ 50 157]]\n"
     ]
    },
    {
     "data": {
      "image/png": "[encoded data removed]",
      "text/plain": [
       "<Figure size 432x288 with 2 Axes>"
      ]
     },
     "metadata": {
      "needs_background": "light"
     },
     "output_type": "display_data"
    }
   ],
   "source": [
    "import seaborn as sns\n",
    "from sklearn.metrics import confusion_matrix\n",
    "optimal_model = KNeighborsClassifier(n_neighbors=35, algorithm='kd_tree')\n",
    "optimal_model.fit(A_train_tfidf.todense(), B_train)\n",
    "prediction = optimal_model.predict(A_train_tfidf.todense())\n",
    "print(\"Train confusion matrix\") \n",
    "print(confusion_matrix(B_train, optimal_model.predict(A_train_tfidf.todense()))) \n",
    "print(\"Test confusion matrix\")\n",
    "print(confusion_matrix(B_test, optimal_model.predict(A_test_tfidf.todense())))\n",
    "conf_matrix = confusion_matrix(B_test, optimal_model.predict(A_test_tfidf.todense()))\n",
    "class_label = [\"negative\", \"positive\"]\n",
    "df_cm = pd.DataFrame(conf_matrix, index = class_label, columns = class_label)\n",
    "sns.heatmap(df_cm, annot = True, fmt = \"d\")\n",
    "plt.title(\"Confusiion Matrix\")\n",
    "plt.xlabel(\"Predicted Label\")\n",
    "plt.ylabel(\"True Label\")\n",
    "plt.show()"
   ]
  },
  {
   "cell_type": "markdown",
   "metadata": {},
   "source": [
    "#### Observation:\n",
    "* Using Tfidf kd-tree Optimal Hyperparameter is 35, with an accuracy of 0.79%.\n",
    "* kd-tree performs well for small dimensional data."
   ]
  },
  {
   "cell_type": "markdown",
   "metadata": {},
   "source": [
    "### [5.2.3] Applying KNN kd-tree on AVG W2V,<font color='red'> SET 3</font>"
   ]
  },
  {
   "cell_type": "code",
   "execution_count": 76,
   "metadata": {},
   "outputs": [
    {
     "name": "stdout",
     "output_type": "stream",
     "text": [
      "number of words that occured minimum 5 times  7094\n",
      "sample words  ['looking', 'forward', 'replacement', 'shipment', 'amazon', 'every', 'single', 'dented', 'cans', 'packaged', 'larger', 'box', 'really', 'big', 'air', 'packs', 'like', 'giant', 'bubbles', 'bubble', 'wrap', 'around', 'obviously', 'arrived', 'plastic', 'nothing', 'stop', 'someone', 'would', 'think', 'pack', 'could', 'pound', 'set', 'without', 'popping', 'beyond', 'sending', 'replacements', 'hoping', 'not', 'seen', 'commercials', 'tv', 'thought', 'since', 'naturally', 'fine', 'un', 'treated']\n"
     ]
    }
   ],
   "source": [
    "# Please write all the code with proper documentation\n",
    "i=0\n",
    "list_of_sentance_train=[]\n",
    "for sentance in X_train:\n",
    "    list_of_sentance_train.append(sentance.split())\n",
    "\n",
    "# this line of code trains your w2v model on the give list of sentances\n",
    "w2v_model=Word2Vec(list_of_sentance_train,min_count=5,size=50, workers=4)\n",
    "\n",
    "w2v_words = list(w2v_model.wv.vocab)\n",
    "print(\"number of words that occured minimum 5 times \",len(w2v_words))\n",
    "print(\"sample words \", w2v_words[0:50])"
   ]
  },
  {
   "cell_type": "code",
   "execution_count": 77,
   "metadata": {},
   "outputs": [
    {
     "name": "stderr",
     "output_type": "stream",
     "text": [
      "100%|███████████████████████████████████████████████████████████████████████████| 12800/12800 [00:27<00:00, 458.95it/s]\n"
     ]
    },
    {
     "name": "stdout",
     "output_type": "stream",
     "text": [
      "(12800, 50)\n",
      "[ 0.57002389 -0.19142722 -0.91318027 -0.46264983 -0.66959189 -0.18148847\n",
      " -0.0387166  -0.11890846 -0.35907673 -0.4690472  -0.40737508 -0.33755502\n",
      "  0.25542107  0.18462662 -0.00367541 -0.13180659  0.7485175  -0.31244142\n",
      " -0.31007441 -0.76631732 -0.40014918  0.45603848 -0.17146673  0.09089312\n",
      "  0.55625857  0.52078965 -0.25958927 -0.40585373 -0.33015837 -0.16890456\n",
      " -0.07969888 -0.26754988 -0.45873276 -0.09568345 -0.01023829 -0.90435297\n",
      " -0.08785287  0.50241591 -0.95325556 -0.06506444 -0.32674686 -0.15891251\n",
      " -0.31300288  0.42628838  0.34670384 -0.1575188  -0.3883039   0.14108389\n",
      "  0.27111791 -0.17757752]\n"
     ]
    }
   ],
   "source": [
    "sent_vectors_train = []; # the avg-w2v for each sentence/review is stored in this list\n",
    "for sent in tqdm(list_of_sentance_train): # for each review/sentence\n",
    "    sent_vec = np.zeros(50) # as word vectors are of zero length 50, you might need to change this to 300 if you use google's w2v\n",
    "    cnt_words =0; # num of words with a valid vector in the sentence/review\n",
    "    for word in sent: # for each word in a review/sentence\n",
    "        if word in w2v_words:\n",
    "            vec = w2v_model.wv[word]\n",
    "            sent_vec += vec\n",
    "            cnt_words += 1\n",
    "    if cnt_words != 0:\n",
    "        sent_vec /= cnt_words\n",
    "    sent_vectors_train.append(sent_vec)\n",
    "sent_vectors_train = np.array(sent_vectors_train)\n",
    "print(sent_vectors_train.shape)\n",
    "print(sent_vectors_train[0])"
   ]
  },
  {
   "cell_type": "code",
   "execution_count": 51,
   "metadata": {},
   "outputs": [
    {
     "name": "stderr",
     "output_type": "stream",
     "text": [
      "100%|█████████████████████████████████████████████████████████████████████████████| 3200/3200 [00:07<00:00, 442.17it/s]\n"
     ]
    },
    {
     "name": "stdout",
     "output_type": "stream",
     "text": [
      "(3200, 50)\n",
      "[-0.32380254 -0.28209417 -0.67050233  0.36015612  0.1300125   0.60752444\n",
      " -0.23817101 -0.13350595  0.28610069 -0.23993398 -0.04269226  0.24448253\n",
      "  0.6635983  -0.52866026 -0.76694786 -0.15542161  0.46229306 -0.38566272\n",
      " -0.4382967   0.892316    0.03434319  0.11700746  0.59598924 -0.5560184\n",
      " -0.08221379  0.79890455  0.51180161  1.09111921  0.20941242 -1.50001975\n",
      "  0.06142278 -0.14193016 -0.8560413   1.09155197 -0.09063884 -0.4972069\n",
      " -0.4813479  -0.47284985 -0.29933688 -0.3037536   0.08785896  0.43757894\n",
      " -0.2169831   0.555793   -1.21391956  0.26765631  1.17333199 -0.39813629\n",
      "  0.16989206  0.44953476]\n"
     ]
    }
   ],
   "source": [
    "i=0\n",
    "list_of_sentance_cv=[]\n",
    "for sentance in X_cv:\n",
    "    list_of_sentance_cv.append(sentance.split())\n",
    "# average Word2Vec\n",
    "# compute average word2vec for each review.\n",
    "sent_vectors_cv = []; # the avg-w2v for each sentence/review is stored in this list\n",
    "for sent in tqdm(list_of_sentance_cv): # for each review/sentence\n",
    "    sent_vec = np.zeros(50) # as word vectors are of zero length 50, you might need to change this to 300 if you use google's w2v\n",
    "    cnt_words =0; # num of words with a valid vector in the sentence/review\n",
    "    for word in sent: # for each word in a review/sentence\n",
    "        if word in w2v_words:\n",
    "            vec = w2v_model.wv[word]\n",
    "            sent_vec += vec\n",
    "            cnt_words += 1\n",
    "    if cnt_words != 0:\n",
    "        sent_vec /= cnt_words\n",
    "    sent_vectors_cv.append(sent_vec)\n",
    "sent_vectors_cv = np.array(sent_vectors_cv)\n",
    "print(sent_vectors_cv.shape)\n",
    "print(sent_vectors_cv[0])\n"
   ]
  },
  {
   "cell_type": "code",
   "execution_count": 78,
   "metadata": {},
   "outputs": [
    {
     "name": "stderr",
     "output_type": "stream",
     "text": [
      "100%|█████████████████████████████████████████████████████████████████████████████| 4000/4000 [00:09<00:00, 431.06it/s]\n"
     ]
    },
    {
     "name": "stdout",
     "output_type": "stream",
     "text": [
      "(4000, 50)\n",
      "[ 0.31122511  0.25168502 -0.96755603 -0.45621426 -0.74862376  0.03619628\n",
      " -0.07199714 -0.08182884 -0.40624109 -0.02987557 -0.78726963 -0.46030767\n",
      "  0.10088088  0.45336218  0.20844278 -0.21644972  0.63514167 -0.25043278\n",
      " -0.30386107 -0.24133059 -0.25480378  0.43985867 -0.43456114  0.11002586\n",
      "  0.04958925  0.43394797  0.01825007  0.11882159 -0.24975347 -0.16143425\n",
      "  0.36133478 -0.00171435 -0.1951505   0.26031045  0.07386738 -0.50260858\n",
      " -0.13405572  0.70317337 -0.65653011  0.16558676 -0.51013962 -0.10262701\n",
      " -0.15575681  0.07707385  0.10995714 -0.30643245 -0.37400435  0.18542747\n",
      "  0.14500935 -0.35902857]\n"
     ]
    }
   ],
   "source": [
    "i=0\n",
    "list_of_sentance_test=[]\n",
    "for sentance in X_test:\n",
    "    list_of_sentance_test.append(sentance.split())\n",
    "# average Word2Vec\n",
    "# compute average word2vec for each review.\n",
    "sent_vectors_test = []; # the avg-w2v for each sentence/review is stored in this list\n",
    "for sent in tqdm(list_of_sentance_test): # for each review/sentence\n",
    "    sent_vec = np.zeros(50) # as word vectors are of zero length 50, you might need to change this to 300 if you use google's w2v\n",
    "    cnt_words =0; # num of words with a valid vector in the sentence/review\n",
    "    for word in sent: # for each word in a review/sentence\n",
    "        if word in w2v_words:\n",
    "            vec = w2v_model.wv[word]\n",
    "            sent_vec += vec\n",
    "            cnt_words += 1\n",
    "    if cnt_words != 0:\n",
    "        sent_vec /= cnt_words\n",
    "    sent_vectors_test.append(sent_vec)\n",
    "sent_vectors_test = np.array(sent_vectors_test)\n",
    "print(sent_vectors_test.shape)\n",
    "print(sent_vectors_test[0])"
   ]
  },
  {
   "cell_type": "code",
   "execution_count": 53,
   "metadata": {},
   "outputs": [
    {
     "name": "stderr",
     "output_type": "stream",
     "text": [
      "100%|██████████████████████████████████████████████████████████████████████████████████| 13/13 [04:32<00:00, 23.24s/it]\n"
     ]
    },
    {
     "data": {
      "image/png": "[encoded data removed]",
      "text/plain": [
       "<Figure size 432x288 with 1 Axes>"
      ]
     },
     "metadata": {
      "needs_background": "light"
     },
     "output_type": "display_data"
    }
   ],
   "source": [
    "from tqdm import tqdm\n",
    "train_auc = []\n",
    "cv_auc = []\n",
    "k = list(range(1,50,4))\n",
    "for i in tqdm(k):\n",
    "    neigh = KNeighborsClassifier(n_neighbors=i, algorithm='kd_tree')\n",
    "    neigh.fit(sent_vectors_train, Y_train)\n",
    "    # roc_auc_score(y_true, y_score) the 2nd parameter should be probability estimates of the positive class\n",
    "    # not the predicted outputs\n",
    "    Y_train_pred = neigh.predict_proba(sent_vectors_train)[:,1]\n",
    "    Y_cv_pred = neigh.predict_proba(sent_vectors_cv)[:,1]\n",
    "    \n",
    "    train_auc.append(roc_auc_score(Y_train,Y_train_pred))\n",
    "    cv_auc.append(roc_auc_score(Y_cv, Y_cv_pred))\n",
    "    \n",
    "plt.plot(k, train_auc, label='Train AUC')\n",
    "plt.scatter(k, train_auc, label='Train AUC')\n",
    "plt.plot(k, cv_auc, label='CV AUC')\n",
    "plt.scatter(k,cv_auc, label='CV AUC')\n",
    "plt.legend()\n",
    "plt.xlabel(\"k: hyperparameter\")\n",
    "plt.ylabel(\"AUC\")\n",
    "plt.title(\"AUC Vs K\")\n",
    "plt.show()"
   ]
  },
  {
   "cell_type": "code",
   "execution_count": 54,
   "metadata": {},
   "outputs": [
    {
     "name": "stderr",
     "output_type": "stream",
     "text": [
      "100%|██████████████████████████████████████████████████████████████████████████████████| 13/13 [03:34<00:00, 18.07s/it]\n"
     ]
    }
   ],
   "source": [
    "from sklearn.model_selection import cross_val_score\n",
    "from sklearn.metrics import accuracy_score\n",
    "neighbors = list(range(1,50,4))\n",
    "cv_score = []\n",
    "for k in tqdm(neighbors):\n",
    "    knn = KNeighborsClassifier(n_neighbors=k, algorithm='kd_tree')\n",
    "    scores = cross_val_score(knn, sent_vectors_train, Y_train, cv=10, scoring='f1')\n",
    "    cv_score.append(scores.mean()) "
   ]
  },
  {
   "cell_type": "code",
   "execution_count": 95,
   "metadata": {},
   "outputs": [],
   "source": [
    "#As per the above metrics we took k=49 as our optimal hyperparameter.\n",
    "optimal_k7 = KNeighborsClassifier(n_neighbors=49, algorithm='kd_tree')\n",
    "optimal_k7.fit(sent_vectors_train, Y_train)\n",
    "prediction = optimal_k7.predict(sent_vectors_test)"
   ]
  },
  {
   "cell_type": "markdown",
   "metadata": {},
   "source": [
    "## Plotting ROC Curve"
   ]
  },
  {
   "cell_type": "code",
   "execution_count": 81,
   "metadata": {},
   "outputs": [
    {
     "data": {
      "image/png": "[encoded data removed]",
      "text/plain": [
       "<Figure size 432x288 with 1 Axes>"
      ]
     },
     "metadata": {
      "needs_background": "light"
     },
     "output_type": "display_data"
    }
   ],
   "source": [
    "train_fpr, train_tpr, thresholds = roc_curve(Y_train, optimal_model.predict_proba(sent_vectors_train)[:,1])\n",
    "test_fpr, test_tpr, thresholds = roc_curve(Y_test, optimal_model.predict_proba(sent_vectors_test)[:,1])\n",
    "AUC7=str(auc(test_fpr, test_tpr))\n",
    "plt.plot(train_fpr, train_tpr, label=\"train ROC =\"+str(auc(train_fpr, train_tpr)))\n",
    "plt.plot(test_fpr, test_tpr, label=\"test ROC =\"+str(auc(test_fpr, test_tpr)))\n",
    "plt.legend()\n",
    "plt.xlabel(\"FPR\")\n",
    "plt.ylabel(\"TPR\")\n",
    "plt.title(\"ROC\")\n",
    "plt.show()"
   ]
  },
  {
   "cell_type": "markdown",
   "metadata": {},
   "source": [
    "## Confusion Matrix"
   ]
  },
  {
   "cell_type": "code",
   "execution_count": 126,
   "metadata": {},
   "outputs": [
    {
     "name": "stdout",
     "output_type": "stream",
     "text": [
      "Train confusion matrix\n",
      "[[5194 1249]\n",
      " [1669 4688]]\n",
      "Test confusion matrix\n",
      "[[1574  380]\n",
      " [ 576 1470]]\n"
     ]
    },
    {
     "data": {
      "image/png": "[encoded data removed]",
      "text/plain": [
       "<Figure size 432x288 with 2 Axes>"
      ]
     },
     "metadata": {
      "needs_background": "light"
     },
     "output_type": "display_data"
    }
   ],
   "source": [
    "import seaborn as sns\n",
    "from sklearn.metrics import confusion_matrix\n",
    "optimal_model = KNeighborsClassifier(n_neighbors=49, algorithm='kd_tree')\n",
    "optimal_model.fit(sent_vectors_train, Y_train)\n",
    "prediction = optimal_model.predict(sent_vectors_train)\n",
    "print(\"Train confusion matrix\") \n",
    "print(confusion_matrix(Y_train, optimal_model.predict(sent_vectors_train))) \n",
    "print(\"Test confusion matrix\")\n",
    "print(confusion_matrix(Y_test, optimal_model.predict(sent_vectors_test)))\n",
    "conf_matrix = confusion_matrix(Y_test, optimal_model.predict(sent_vectors_test))\n",
    "class_label = [\"negative\", \"positive\"]\n",
    "df_cm = pd.DataFrame(conf_matrix, index = class_label, columns = class_label)\n",
    "sns.heatmap(df_cm, annot = True, fmt = \"d\")\n",
    "plt.title(\"Confusiion Matrix\")\n",
    "plt.xlabel(\"Predicted Label\")\n",
    "plt.ylabel(\"True Label\")\n",
    "plt.show()"
   ]
  },
  {
   "cell_type": "markdown",
   "metadata": {},
   "source": [
    "### [5.2.4] Applying KNN kd-tree on TFIDF W2V,<font color='red'> SET 4</font>"
   ]
  },
  {
   "cell_type": "code",
   "execution_count": 82,
   "metadata": {},
   "outputs": [],
   "source": [
    "# Please write all the code with proper documentation\n",
    "# S = [\"abc def pqr\", \"def def def abc\", \"pqr pqr def\"]\n",
    "model = TfidfVectorizer()\n",
    "tf_idf_matrix = model.fit(X_train)\n",
    "# we are converting a dictionary with word as a key, and the idf as a value\n",
    "dictionary = dict(zip(model.get_feature_names(), list(model.idf_)))"
   ]
  },
  {
   "cell_type": "code",
   "execution_count": 83,
   "metadata": {},
   "outputs": [
    {
     "name": "stderr",
     "output_type": "stream",
     "text": [
      "100%|████████████████████████████████████████████████████████████████████████████| 12800/12800 [04:15<00:00, 50.46it/s]\n"
     ]
    }
   ],
   "source": [
    "#TF-IDF weighted word2vec\n",
    "i=0\n",
    "list_of_sentance_train=[]\n",
    "for sentance in X_train:\n",
    "    list_of_sentance_train.append(sentance.split())\n",
    "tfidf_feat = tf_idf_vect.get_feature_names() # tfidf words/col-names\n",
    "# final_tf_idf is the sparse matrix with row= sentence, col=word and cell_val = tfidf\n",
    "\n",
    "tfidf_sent_vectors_train = []; # the tfidf-w2v for each sentence/review is stored in this list\n",
    "row=0;\n",
    "for sent in tqdm(list_of_sentance_train): # for each review/sentence \n",
    "    sent_vec = np.zeros(50) # as word vectors are of zero length\n",
    "    weight_sum =0; # num of words with a valid vector in the sentence/review\n",
    "    for word in sent: # for each word in a review/sentence\n",
    "        if word in w2v_words and word in tfidf_feat:\n",
    "            vec = w2v_model.wv[word]\n",
    "#             tf_idf = tf_idf_matrix[row, tfidf_feat.index(word)]\n",
    "            # to reduce the computation we are \n",
    "            # dictionary[word] = idf value of word in whole courpus\n",
    "            # sent.count(word) = tf valeus of word in this review\n",
    "            tf_idf = dictionary[word]*(sent.count(word)/len(sent))\n",
    "            sent_vec += (vec * tf_idf)\n",
    "            weight_sum += tf_idf\n",
    "    if weight_sum != 0:\n",
    "        sent_vec /= weight_sum\n",
    "    tfidf_sent_vectors_train.append(sent_vec)\n",
    "    row += 1"
   ]
  },
  {
   "cell_type": "code",
   "execution_count": 58,
   "metadata": {},
   "outputs": [
    {
     "name": "stderr",
     "output_type": "stream",
     "text": [
      "100%|█████████████████████████████████████████████████████████████████████████████| 3200/3200 [00:14<00:00, 227.21it/s]\n"
     ]
    }
   ],
   "source": [
    "#TF-IDF weighted word2vec\n",
    "i=0\n",
    "list_of_sentance_cv=[]\n",
    "for sentance in X_cv:\n",
    "    list_of_sentance_cv.append(sentance.split())\n",
    "tfidf_feat = tf_idf_vect.get_feature_names() # tfidf words/col-names\n",
    "# final_tf_idf is the sparse matrix with row= sentence, col=word and cell_val = tfidf\n",
    "\n",
    "tfidf_sent_vectors_cv = []; # the tfidf-w2v for each sentence/review is stored in this list\n",
    "row=0;\n",
    "for sent in tqdm(list_of_sentance_cv): # for each review/sentence \n",
    "    sent_vec = np.zeros(50) # as word vectors are of zero length\n",
    "    weight_sum =0; # num of words with a valid vector in the sentence/review\n",
    "    for word in sent: # for each word in a review/sentence\n",
    "        if word in w2v_words and word in tfidf_feat:\n",
    "            vec = w2v_model.wv[word]\n",
    "#             tf_idf = tf_idf_matrix[row, tfidf_feat.index(word)]\n",
    "            # to reduce the computation we are \n",
    "            # dictionary[word] = idf value of word in whole courpus\n",
    "            # sent.count(word) = tf valeus of word in this review\n",
    "            tf_idf = dictionary[word]*(sent.count(word)/len(sent))\n",
    "            sent_vec += (vec * tf_idf)\n",
    "            weight_sum += tf_idf\n",
    "    if weight_sum != 0:\n",
    "        sent_vec /= weight_sum\n",
    "    tfidf_sent_vectors_cv.append(sent_vec)\n",
    "    row += 1"
   ]
  },
  {
   "cell_type": "code",
   "execution_count": 84,
   "metadata": {},
   "outputs": [
    {
     "name": "stderr",
     "output_type": "stream",
     "text": [
      "100%|██████████████████████████████████████████████████████████████████████████████| 4000/4000 [01:24<00:00, 47.59it/s]\n"
     ]
    }
   ],
   "source": [
    "#TF-IDF weighted word2vec\n",
    "i=0\n",
    "list_of_sentance_test=[]\n",
    "for sentance in X_test:\n",
    "    list_of_sentance_test.append(sentance.split())\n",
    "tfidf_feat = tf_idf_vect.get_feature_names() # tfidf words/col-names\n",
    "# final_tf_idf is the sparse matrix with row= sentence, col=word and cell_val = tfidf\n",
    "\n",
    "tfidf_sent_vectors_test = []; # the tfidf-w2v for each sentence/review is stored in this list\n",
    "row=0;\n",
    "for sent in tqdm(list_of_sentance_test): # for each review/sentence \n",
    "    sent_vec = np.zeros(50) # as word vectors are of zero length\n",
    "    weight_sum =0; # num of words with a valid vector in the sentence/review\n",
    "    for word in sent: # for each word in a review/sentence\n",
    "        if word in w2v_words and word in tfidf_feat:\n",
    "            vec = w2v_model.wv[word]\n",
    "#             tf_idf = tf_idf_matrix[row, tfidf_feat.index(word)]\n",
    "            # to reduce the computation we are \n",
    "            # dictionary[word] = idf value of word in whole courpus\n",
    "            # sent.count(word) = tf valeus of word in this review\n",
    "            tf_idf = dictionary[word]*(sent.count(word)/len(sent))\n",
    "            sent_vec += (vec * tf_idf)\n",
    "            weight_sum += tf_idf\n",
    "    if weight_sum != 0:\n",
    "        sent_vec /= weight_sum\n",
    "    tfidf_sent_vectors_test.append(sent_vec)\n",
    "    row += 1"
   ]
  },
  {
   "cell_type": "code",
   "execution_count": 60,
   "metadata": {},
   "outputs": [
    {
     "data": {
      "image/png": "[encoded data removed]",
      "text/plain": [
       "<Figure size 432x288 with 1 Axes>"
      ]
     },
     "metadata": {
      "needs_background": "light"
     },
     "output_type": "display_data"
    }
   ],
   "source": [
    "train_auc = []\n",
    "cv_auc = []\n",
    "k = list(range(1,60,4))\n",
    "for i in k:\n",
    "    neigh = KNeighborsClassifier(n_neighbors=i, algorithm='kd_tree')\n",
    "    neigh.fit(sent_vectors_train, Y_train)\n",
    "    # roc_auc_score(y_true, y_score) the 2nd parameter should be probability estimates of the positive class\n",
    "    # not the predicted outputs\n",
    "    Y_train_pred = neigh.predict_proba(sent_vectors_train)[:,1]\n",
    "    Y_cv_pred = neigh.predict_proba(sent_vectors_cv)[:,1]\n",
    "    \n",
    "    train_auc.append(roc_auc_score(Y_train,Y_train_pred))\n",
    "    cv_auc.append(roc_auc_score(Y_cv, Y_cv_pred))\n",
    "    \n",
    "plt.plot(k, train_auc, label='Train AUC')\n",
    "plt.scatter(k, train_auc, label='Train AUC')\n",
    "plt.plot(k, cv_auc, label='CV AUC')\n",
    "plt.scatter(k,cv_auc, label='CV AUC')\n",
    "plt.legend()\n",
    "plt.xlabel(\"k: hyperparameter\")\n",
    "plt.ylabel(\"AUC\")\n",
    "plt.title(\"AUC Vs K\")\n",
    "plt.show()"
   ]
  },
  {
   "cell_type": "code",
   "execution_count": 61,
   "metadata": {},
   "outputs": [
    {
     "name": "stderr",
     "output_type": "stream",
     "text": [
      "100%|██████████████████████████████████████████████████████████████████████████████████| 15/15 [03:44<00:00, 16.62s/it]\n"
     ]
    }
   ],
   "source": [
    "neighbors = list(range(1,60,4))\n",
    "cv_score=[]\n",
    "for k in tqdm(neighbors):\n",
    "    knn = KNeighborsClassifier(n_neighbors=k, algorithm='kd_tree')\n",
    "    scores = cross_val_score(knn, tfidf_sent_vectors_train, Y_train, cv=10, scoring='accuracy')\n",
    "    cv_score.append(scores.mean()) "
   ]
  },
  {
   "cell_type": "code",
   "execution_count": 96,
   "metadata": {},
   "outputs": [],
   "source": [
    "optimal_k8 = KNeighborsClassifier(n_neighbors=59, algorithm='kd_tree')\n",
    "optimal_k8.fit(tfidf_sent_vectors_train, Y_train)\n",
    "prediction = optimal_k8.predict(tfidf_sent_vectors_test)"
   ]
  },
  {
   "cell_type": "markdown",
   "metadata": {},
   "source": [
    "## Plotting ROC Curve"
   ]
  },
  {
   "cell_type": "code",
   "execution_count": 86,
   "metadata": {},
   "outputs": [
    {
     "data": {
      "image/png": "[encoded data removed]",
      "text/plain": [
       "<Figure size 432x288 with 1 Axes>"
      ]
     },
     "metadata": {
      "needs_background": "light"
     },
     "output_type": "display_data"
    }
   ],
   "source": [
    "train_fpr, train_tpr, thresholds = roc_curve(Y_train, optimal_model.predict_proba(tfidf_sent_vectors_train)[:,1])\n",
    "test_fpr, test_tpr, thresholds = roc_curve(Y_test, optimal_model.predict_proba(tfidf_sent_vectors_test)[:,1])\n",
    "AUC8=str(auc(test_fpr, test_tpr))\n",
    "plt.plot(train_fpr, train_tpr, label=\"train ROC =\"+str(auc(train_fpr, train_tpr)))\n",
    "plt.plot(test_fpr, test_tpr, label=\"test ROC =\"+str(auc(test_fpr, test_tpr)))\n",
    "plt.legend()\n",
    "plt.xlabel(\"FPR\")\n",
    "plt.ylabel(\"TPR\")\n",
    "plt.title(\"ROC\")\n",
    "plt.show()"
   ]
  },
  {
   "cell_type": "markdown",
   "metadata": {},
   "source": [
    "## Confusion Matrix"
   ]
  },
  {
   "cell_type": "code",
   "execution_count": 63,
   "metadata": {},
   "outputs": [
    {
     "name": "stdout",
     "output_type": "stream",
     "text": [
      "Train confusion matrix\n",
      "[[4889 1554]\n",
      " [1794 4563]]\n",
      "Test confusion matrix\n",
      "[[1487  467]\n",
      " [ 626 1420]]\n"
     ]
    },
    {
     "data": {
      "image/png": "[encoded data removed]",
      "text/plain": [
       "<Figure size 432x288 with 2 Axes>"
      ]
     },
     "metadata": {
      "needs_background": "light"
     },
     "output_type": "display_data"
    }
   ],
   "source": [
    "import seaborn as sns\n",
    "from sklearn.metrics import confusion_matrix\n",
    "optimal_model = KNeighborsClassifier(n_neighbors=59, algorithm='kd_tree')\n",
    "optimal_model.fit(tfidf_sent_vectors_train, Y_train)\n",
    "prediction = optimal_model.predict(tfidf_sent_vectors_train)\n",
    "print(\"Train confusion matrix\") \n",
    "print(confusion_matrix(Y_train, optimal_model.predict(tfidf_sent_vectors_train))) \n",
    "print(\"Test confusion matrix\")\n",
    "print(confusion_matrix(Y_test, optimal_model.predict(tfidf_sent_vectors_test)))\n",
    "conf_matrix = confusion_matrix(Y_test, optimal_model.predict(tfidf_sent_vectors_test))\n",
    "class_label = [\"negative\", \"positive\"]\n",
    "df_cm = pd.DataFrame(conf_matrix, index = class_label, columns = class_label)\n",
    "sns.heatmap(df_cm, annot = True, fmt = \"d\")\n",
    "plt.title(\"Confusiion Matrix\")\n",
    "plt.xlabel(\"Predicted Label\")\n",
    "plt.ylabel(\"True Label\")\n",
    "plt.show()"
   ]
  },
  {
   "cell_type": "markdown",
   "metadata": {},
   "source": [
    "# [6] Conclusions"
   ]
  },
  {
   "cell_type": "code",
   "execution_count": 97,
   "metadata": {},
   "outputs": [
    {
     "name": "stdout",
     "output_type": "stream",
     "text": [
      "+--------------+---------+-----------------------------------------------------------------------------+-------+\n",
      "|  Vectorizer  |  Model  |                                Hyperparameter                               |  AUC  |\n",
      "+--------------+---------+-----------------------------------------------------------------------------+-------+\n",
      "|     BOW      |  brute  |  KNeighborsClassifier(algorithm='brute', leaf_size=30, metric='minkowski',  | 0.671 |\n",
      "|              |         |                   metric_params=None, n_jobs=1, n_neighbors=20, p=2,        |       |\n",
      "|              |         |                                   weights='uniform')                        |       |\n",
      "|    TFIDF     |  brute  |  KNeighborsClassifier(algorithm='brute', leaf_size=30, metric='minkowski',  | 0.864 |\n",
      "|              |         |                   metric_params=None, n_jobs=1, n_neighbors=49, p=2,        |       |\n",
      "|              |         |                                   weights='uniform')                        |       |\n",
      "|   AVG W2V    |  brute  |  KNeighborsClassifier(algorithm='brute', leaf_size=30, metric='minkowski',  | 0.844 |\n",
      "|              |         |                   metric_params=None, n_jobs=1, n_neighbors=31, p=2,        |       |\n",
      "|              |         |                                   weights='uniform')                        |       |\n",
      "| Weighted W2V |  brute  |  KNeighborsClassifier(algorithm='brute', leaf_size=30, metric='minkowski',  | 0.858 |\n",
      "|              |         |                   metric_params=None, n_jobs=1, n_neighbors=45, p=2,        |       |\n",
      "|              |         |                                   weights='uniform')                        |       |\n",
      "|     BOW      | kd_tree | KNeighborsClassifier(algorithm='kd_tree', leaf_size=30, metric='minkowski', | 0.736 |\n",
      "|              |         |                   metric_params=None, n_jobs=1, n_neighbors=25, p=2,        |       |\n",
      "|              |         |                                   weights='uniform')                        |       |\n",
      "|    TFIDF     | kd_tree | KNeighborsClassifier(algorithm='kd_tree', leaf_size=30, metric='minkowski', | 0.845 |\n",
      "|              |         |                   metric_params=None, n_jobs=1, n_neighbors=35, p=2,        |       |\n",
      "|              |         |                                   weights='uniform')                        |       |\n",
      "|   AVG W2V    | kd_tree | KNeighborsClassifier(algorithm='kd_tree', leaf_size=30, metric='minkowski', | 0.846 |\n",
      "|              |         |                   metric_params=None, n_jobs=1, n_neighbors=49, p=2,        |       |\n",
      "|              |         |                                   weights='uniform')                        |       |\n",
      "| Weighted W2V | kd_tree | KNeighborsClassifier(algorithm='kd_tree', leaf_size=30, metric='minkowski', | 0.815 |\n",
      "|              |         |                   metric_params=None, n_jobs=1, n_neighbors=59, p=2,        |       |\n",
      "|              |         |                                   weights='uniform')                        |       |\n",
      "+--------------+---------+-----------------------------------------------------------------------------+-------+\n"
     ]
    }
   ],
   "source": [
    "# Please compare all your models using Prettytable library\n",
    "from prettytable import PrettyTable\n",
    "comparision = PrettyTable()\n",
    "comparision.field_names = [\"Vectorizer\", \"Model\", \"Hyperparameter\", \"AUC\"]\n",
    "comparision.add_row([\"BOW\",'brute', optimal_k1, np.round(float(AUC1),3)])\n",
    "comparision.add_row([\"TFIDF\", 'brute', optimal_k2, np.round(float(AUC2),3)])\n",
    "comparision.add_row([\"AVG W2V\", 'brute', optimal_k3, np.round(float(AUC3),3)])\n",
    "comparision.add_row([\"Weighted W2V\", 'brute', optimal_k4, np.round(float(AUC4),3)])\n",
    "comparision.add_row([\"BOW\", 'kd_tree', optimal_k5, np.round(float(AUC5),3)])\n",
    "comparision.add_row([\"TFIDF\", 'kd_tree', optimal_k6, np.round(float(AUC6),3)])\n",
    "comparision.add_row([\"AVG W2V\",'kd_tree', optimal_k7, np.round(float(AUC7),3)])\n",
    "comparision.add_row([\"Weighted W2V\", 'kd_tree', optimal_k8, np.round(float(AUC8),3)])\n",
    "print(comparision)"
   ]
  },
  {
   "cell_type": "markdown",
   "metadata": {},
   "source": [
    "1. KNN With TFIDF using bruteForce with an  optimal Hyperparameter k = 49, with an accuracy of 0.86%\n",
    "   compare to other models with good accuracy.\n",
    "2. Where the Train_error and Test_error of TFIDF are very low compare to other models.\n",
    "3. TradeOff (or) bias b/w TrainError,ValidationError whenever a model is having increasing TrainError, incrreasing Cross-Val\n",
    "   Error then the model is underfitting.\n",
    "4. If the Model is Having less TrainError and high(increasing) Cross-Val Error then the model is Overfittting.\n",
    "5. For Accuracy by using time based splitting than random split we can improve accuracy, but data in this model\n",
    "   is not time based split.\n",
    "6. Even though we got good accuracy of 86% For Tfidf at the time of deployment we may not get the same accuracy\n",
    "   because it is in't time based split.\n",
    "\n",
    "\n",
    "\n",
    "\n",
    "\n",
    "\n",
    "\n",
    "\n",
    "\n",
    "\n",
    "\n",
    "\n",
    "\n",
    "\n",
    "\n",
    "\n",
    "\n",
    "\n",
    "\n",
    "\n",
    "\n",
    "\n",
    "\n",
    "\n",
    "\n",
    "\n",
    "\n",
    "\n",
    "\n",
    "\n",
    "\n",
    "\n",
    "\n",
    "\n",
    "\n",
    "\n",
    "\n",
    "\n",
    "\n",
    "\n",
    "\n",
    "\n",
    "\n",
    "\n",
    "\n",
    "\n",
    "\n",
    "\n",
    "\n",
    "\n",
    "\n",
    "\n",
    "\n",
    "\n",
    "\n",
    "\n",
    "\n",
    "\n",
    "\n",
    "\n",
    "\n",
    "\n",
    "\n",
    "\n",
    "\n",
    "\n",
    "\n",
    "\n",
    "\n",
    "\n",
    "\n",
    "\n",
    "\n",
    "\n",
    "\n",
    "\n",
    "\n",
    "\n"
   ]
  }
 ],
 "metadata": {
  "kernelspec": {
   "display_name": "Python 3",
   "language": "python",
   "name": "python3"
  },
  "language_info": {
   "codemirror_mode": {
    "name": "ipython",
    "version": 3
   },
   "file_extension": ".py",
   "mimetype": "text/x-python",
   "name": "python",
   "nbconvert_exporter": "python",
   "pygments_lexer": "ipython3",
   "version": "3.7.0"
  }
 },
 "nbformat": 4,
 "nbformat_minor": 2
}
