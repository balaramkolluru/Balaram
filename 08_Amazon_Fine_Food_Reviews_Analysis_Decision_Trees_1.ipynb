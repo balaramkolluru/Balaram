{
 "cells": [
  {
   "cell_type": "markdown",
   "metadata": {
    "colab_type": "text",
    "id": "IXmtUCbYiWM3"
   },
   "source": [
    "# Amazon Fine Food Reviews Analysis\n",
    "\n",
    "\n",
    "Data Source: https://www.kaggle.com/snap/amazon-fine-food-reviews <br>\n",
    "\n",
    "EDA: https://nycdatascience.com/blog/student-works/amazon-fine-foods-visualization/\n",
    "\n",
    "\n",
    "The Amazon Fine Food Reviews dataset consists of reviews of fine foods from Amazon.<br>\n",
    "\n",
    "Number of reviews: 568,454<br>\n",
    "Number of users: 256,059<br>\n",
    "Number of products: 74,258<br>\n",
    "Timespan: Oct 1999 - Oct 2012<br>\n",
    "Number of Attributes/Columns in data: 10 \n",
    "\n",
    "Attribute Information:\n",
    "\n",
    "1. Id\n",
    "2. ProductId - unique identifier for the product\n",
    "3. UserId - unqiue identifier for the user\n",
    "4. ProfileName\n",
    "5. HelpfulnessNumerator - number of users who found the review helpful\n",
    "6. HelpfulnessDenominator - number of users who indicated whether they found the review helpful or not\n",
    "7. Score - rating between 1 and 5\n",
    "8. Time - timestamp for the review\n",
    "9. Summary - brief summary of the review\n",
    "10. Text - text of the review\n",
    "\n",
    "\n",
    "#### Objective:\n",
    "Given a review, determine whether the review is positive (rating of 4 or 5) or negative (rating of 1 or 2).\n",
    "\n",
    "<br>\n",
    "[Q] How to determine if a review is positive or negative?<br>\n",
    "<br> \n",
    "[Ans] We could use Score/Rating. A rating of 4 or 5 can be cosnidered as a positive review. A rating of 1 or 2 can be considered as negative one. A review of rating 3 is considered nuetral and such reviews are ignored from our analysis. This is an approximate and proxy way of determining the polarity (positivity/negativity) of a review.\n",
    "\n",
    "\n"
   ]
  },
  {
   "cell_type": "markdown",
   "metadata": {
    "colab_type": "text",
    "id": "syeYHDR_iWM7"
   },
   "source": [
    "# [1]. Reading Data"
   ]
  },
  {
   "cell_type": "markdown",
   "metadata": {
    "colab_type": "text",
    "id": "D_eZrQC0iWM9"
   },
   "source": [
    "## [1.1] Loading the data\n",
    "\n",
    "The dataset is available in two forms\n",
    "1. .csv file\n",
    "2. SQLite Database\n",
    "\n",
    "In order to load the data, We have used the SQLITE dataset as it is easier to query the data and visualise the data efficiently.\n",
    "<br> \n",
    "\n",
    "Here as we only want to get the global sentiment of the recommendations (positive or negative), we will purposefully ignore all Scores equal to 3. If the score is above 3, then the recommendation wil be set to \"positive\". Otherwise, it will be set to \"negative\"."
   ]
  },
  {
   "cell_type": "code",
   "execution_count": 1,
   "metadata": {
    "colab": {},
    "colab_type": "code",
    "id": "53fLFqf8iWNA"
   },
   "outputs": [
    {
     "name": "stderr",
     "output_type": "stream",
     "text": [
      "C:\\Anaconda\\lib\\site-packages\\gensim\\utils.py:1209: UserWarning: detected Windows; aliasing chunkize to chunkize_serial\n",
      "  warnings.warn(\"detected Windows; aliasing chunkize to chunkize_serial\")\n"
     ]
    }
   ],
   "source": [
    "%matplotlib inline\n",
    "import warnings\n",
    "warnings.filterwarnings(\"ignore\")\n",
    "\n",
    "\n",
    "import sqlite3\n",
    "import pandas as pd\n",
    "import numpy as np\n",
    "import nltk\n",
    "import string\n",
    "import matplotlib.pyplot as plt\n",
    "import seaborn as sns\n",
    "from sklearn.feature_extraction.text import TfidfTransformer\n",
    "from sklearn.feature_extraction.text import TfidfVectorizer\n",
    "from sklearn.model_selection import train_test_split\n",
    "from sklearn.metrics import accuracy_score\n",
    "from sklearn.model_selection import cross_val_score\n",
    "from collections import Counter\n",
    "from sklearn import model_selection\n",
    "from sklearn.metrics import roc_auc_score\n",
    "from sklearn.preprocessing import StandardScaler\n",
    "from sklearn.calibration import CalibratedClassifierCV\n",
    "from sklearn.tree import DecisionTreeClassifier, export_graphviz\n",
    "\n",
    "from sklearn.feature_extraction.text import CountVectorizer\n",
    "from sklearn.metrics import confusion_matrix\n",
    "from sklearn import metrics\n",
    "from sklearn.metrics import roc_curve, auc\n",
    "from nltk.stem.porter import PorterStemmer\n",
    "\n",
    "import re\n",
    "# Tutorial about Python regular expressions: https://pymotw.com/2/re/\n",
    "import string\n",
    "from nltk.corpus import stopwords\n",
    "from nltk.stem import PorterStemmer\n",
    "from nltk.stem.wordnet import WordNetLemmatizer\n",
    "\n",
    "from gensim.models import Word2Vec\n",
    "from gensim.models import KeyedVectors\n",
    "import pickle\n",
    "\n",
    "from tqdm import tqdm\n",
    "import os"
   ]
  },
  {
   "cell_type": "code",
   "execution_count": 2,
   "metadata": {
    "colab": {},
    "colab_type": "code",
    "id": "j3kshrC-iWNI",
    "outputId": "07826916-2c3f-4a0a-e928-ddbc6d567a11"
   },
   "outputs": [
    {
     "name": "stdout",
     "output_type": "stream",
     "text": [
      "Number of data points in our data (100000, 10)\n"
     ]
    },
    {
     "data": {
      "text/html": [
       "<div>\n",
       "<style scoped>\n",
       "    .dataframe tbody tr th:only-of-type {\n",
       "        vertical-align: middle;\n",
       "    }\n",
       "\n",
       "    .dataframe tbody tr th {\n",
       "        vertical-align: top;\n",
       "    }\n",
       "\n",
       "    .dataframe thead th {\n",
       "        text-align: right;\n",
       "    }\n",
       "</style>\n",
       "<table border=\"1\" class=\"dataframe\">\n",
       "  <thead>\n",
       "    <tr style=\"text-align: right;\">\n",
       "      <th></th>\n",
       "      <th>Id</th>\n",
       "      <th>ProductId</th>\n",
       "      <th>UserId</th>\n",
       "      <th>ProfileName</th>\n",
       "      <th>HelpfulnessNumerator</th>\n",
       "      <th>HelpfulnessDenominator</th>\n",
       "      <th>Score</th>\n",
       "      <th>Time</th>\n",
       "      <th>Summary</th>\n",
       "      <th>Text</th>\n",
       "    </tr>\n",
       "  </thead>\n",
       "  <tbody>\n",
       "    <tr>\n",
       "      <th>0</th>\n",
       "      <td>1</td>\n",
       "      <td>B001E4KFG0</td>\n",
       "      <td>A3SGXH7AUHU8GW</td>\n",
       "      <td>delmartian</td>\n",
       "      <td>1</td>\n",
       "      <td>1</td>\n",
       "      <td>1</td>\n",
       "      <td>1303862400</td>\n",
       "      <td>Good Quality Dog Food</td>\n",
       "      <td>I have bought several of the Vitality canned d...</td>\n",
       "    </tr>\n",
       "    <tr>\n",
       "      <th>1</th>\n",
       "      <td>2</td>\n",
       "      <td>B00813GRG4</td>\n",
       "      <td>A1D87F6ZCVE5NK</td>\n",
       "      <td>dll pa</td>\n",
       "      <td>0</td>\n",
       "      <td>0</td>\n",
       "      <td>0</td>\n",
       "      <td>1346976000</td>\n",
       "      <td>Not as Advertised</td>\n",
       "      <td>Product arrived labeled as Jumbo Salted Peanut...</td>\n",
       "    </tr>\n",
       "    <tr>\n",
       "      <th>2</th>\n",
       "      <td>3</td>\n",
       "      <td>B000LQOCH0</td>\n",
       "      <td>ABXLMWJIXXAIN</td>\n",
       "      <td>Natalia Corres \"Natalia Corres\"</td>\n",
       "      <td>1</td>\n",
       "      <td>1</td>\n",
       "      <td>1</td>\n",
       "      <td>1219017600</td>\n",
       "      <td>\"Delight\" says it all</td>\n",
       "      <td>This is a confection that has been around a fe...</td>\n",
       "    </tr>\n",
       "  </tbody>\n",
       "</table>\n",
       "</div>"
      ],
      "text/plain": [
       "   Id   ProductId          UserId                      ProfileName  \\\n",
       "0   1  B001E4KFG0  A3SGXH7AUHU8GW                       delmartian   \n",
       "1   2  B00813GRG4  A1D87F6ZCVE5NK                           dll pa   \n",
       "2   3  B000LQOCH0   ABXLMWJIXXAIN  Natalia Corres \"Natalia Corres\"   \n",
       "\n",
       "   HelpfulnessNumerator  HelpfulnessDenominator  Score        Time  \\\n",
       "0                     1                       1      1  1303862400   \n",
       "1                     0                       0      0  1346976000   \n",
       "2                     1                       1      1  1219017600   \n",
       "\n",
       "                 Summary                                               Text  \n",
       "0  Good Quality Dog Food  I have bought several of the Vitality canned d...  \n",
       "1      Not as Advertised  Product arrived labeled as Jumbo Salted Peanut...  \n",
       "2  \"Delight\" says it all  This is a confection that has been around a fe...  "
      ]
     },
     "execution_count": 2,
     "metadata": {},
     "output_type": "execute_result"
    }
   ],
   "source": [
    "# using SQLite Table to read data.\n",
    "con = sqlite3.connect('database.sqlite') \n",
    "\n",
    "# filtering only positive and negative reviews i.e. \n",
    "# not taking into consideration those reviews with Score=3\n",
    "# SELECT * FROM Reviews WHERE Score != 3 LIMIT 500000, will give top 500000 data points\n",
    "# you can change the number to any other number based on your computing power\n",
    "\n",
    "# filtered_data = pd.read_sql_query(\"\"\" SELECT * FROM Reviews WHERE Score != 3 LIMIT 500000\"\"\", con) \n",
    "# for tsne assignment you can take 5k data points\n",
    "\n",
    "filtered_data = pd.read_sql_query(\"\"\" SELECT * FROM Reviews WHERE Score != 3 LIMIT 100000\"\"\", con) \n",
    "\n",
    "# Give reviews with Score>3 a positive rating(1), and reviews with a score<3 a negative rating(0).\n",
    "def partition(x):\n",
    "    if x < 3:\n",
    "        return 0\n",
    "    return 1\n",
    "\n",
    "#changing reviews with score less than 3 to be positive and vice-versa\n",
    "actualScore = filtered_data['Score']\n",
    "positiveNegative = actualScore.map(partition) \n",
    "filtered_data['Score'] = positiveNegative\n",
    "print(\"Number of data points in our data\", filtered_data.shape)\n",
    "filtered_data.head(3)"
   ]
  },
  {
   "cell_type": "code",
   "execution_count": 3,
   "metadata": {
    "colab": {},
    "colab_type": "code",
    "id": "-7Iy8yWfiWNR"
   },
   "outputs": [],
   "source": [
    "display = pd.read_sql_query(\"\"\"\n",
    "SELECT UserId, ProductId, ProfileName, Time, Score, Text, COUNT(*)\n",
    "FROM Reviews\n",
    "GROUP BY UserId\n",
    "HAVING COUNT(*)>1\n",
    "\"\"\", con)"
   ]
  },
  {
   "cell_type": "code",
   "execution_count": 4,
   "metadata": {
    "colab": {},
    "colab_type": "code",
    "id": "wuK6OYpOiWNV",
    "outputId": "5cb5082e-47b9-4d4b-cf90-fc6ffe0dceeb",
    "scrolled": true
   },
   "outputs": [
    {
     "name": "stdout",
     "output_type": "stream",
     "text": [
      "(80668, 7)\n"
     ]
    },
    {
     "data": {
      "text/html": [
       "<div>\n",
       "<style scoped>\n",
       "    .dataframe tbody tr th:only-of-type {\n",
       "        vertical-align: middle;\n",
       "    }\n",
       "\n",
       "    .dataframe tbody tr th {\n",
       "        vertical-align: top;\n",
       "    }\n",
       "\n",
       "    .dataframe thead th {\n",
       "        text-align: right;\n",
       "    }\n",
       "</style>\n",
       "<table border=\"1\" class=\"dataframe\">\n",
       "  <thead>\n",
       "    <tr style=\"text-align: right;\">\n",
       "      <th></th>\n",
       "      <th>UserId</th>\n",
       "      <th>ProductId</th>\n",
       "      <th>ProfileName</th>\n",
       "      <th>Time</th>\n",
       "      <th>Score</th>\n",
       "      <th>Text</th>\n",
       "      <th>COUNT(*)</th>\n",
       "    </tr>\n",
       "  </thead>\n",
       "  <tbody>\n",
       "    <tr>\n",
       "      <th>0</th>\n",
       "      <td>#oc-R115TNMSPFT9I7</td>\n",
       "      <td>B007Y59HVM</td>\n",
       "      <td>Breyton</td>\n",
       "      <td>1331510400</td>\n",
       "      <td>2</td>\n",
       "      <td>Overall its just OK when considering the price...</td>\n",
       "      <td>2</td>\n",
       "    </tr>\n",
       "    <tr>\n",
       "      <th>1</th>\n",
       "      <td>#oc-R11D9D7SHXIJB9</td>\n",
       "      <td>B005HG9ET0</td>\n",
       "      <td>Louis E. Emory \"hoppy\"</td>\n",
       "      <td>1342396800</td>\n",
       "      <td>5</td>\n",
       "      <td>My wife has recurring extreme muscle spasms, u...</td>\n",
       "      <td>3</td>\n",
       "    </tr>\n",
       "    <tr>\n",
       "      <th>2</th>\n",
       "      <td>#oc-R11DNU2NBKQ23Z</td>\n",
       "      <td>B007Y59HVM</td>\n",
       "      <td>Kim Cieszykowski</td>\n",
       "      <td>1348531200</td>\n",
       "      <td>1</td>\n",
       "      <td>This coffee is horrible and unfortunately not ...</td>\n",
       "      <td>2</td>\n",
       "    </tr>\n",
       "    <tr>\n",
       "      <th>3</th>\n",
       "      <td>#oc-R11O5J5ZVQE25C</td>\n",
       "      <td>B005HG9ET0</td>\n",
       "      <td>Penguin Chick</td>\n",
       "      <td>1346889600</td>\n",
       "      <td>5</td>\n",
       "      <td>This will be the bottle that you grab from the...</td>\n",
       "      <td>3</td>\n",
       "    </tr>\n",
       "    <tr>\n",
       "      <th>4</th>\n",
       "      <td>#oc-R12KPBODL2B5ZD</td>\n",
       "      <td>B007OSBE1U</td>\n",
       "      <td>Christopher P. Presta</td>\n",
       "      <td>1348617600</td>\n",
       "      <td>1</td>\n",
       "      <td>I didnt like this coffee. Instead of telling y...</td>\n",
       "      <td>2</td>\n",
       "    </tr>\n",
       "  </tbody>\n",
       "</table>\n",
       "</div>"
      ],
      "text/plain": [
       "               UserId   ProductId             ProfileName        Time  Score  \\\n",
       "0  #oc-R115TNMSPFT9I7  B007Y59HVM                 Breyton  1331510400      2   \n",
       "1  #oc-R11D9D7SHXIJB9  B005HG9ET0  Louis E. Emory \"hoppy\"  1342396800      5   \n",
       "2  #oc-R11DNU2NBKQ23Z  B007Y59HVM        Kim Cieszykowski  1348531200      1   \n",
       "3  #oc-R11O5J5ZVQE25C  B005HG9ET0           Penguin Chick  1346889600      5   \n",
       "4  #oc-R12KPBODL2B5ZD  B007OSBE1U   Christopher P. Presta  1348617600      1   \n",
       "\n",
       "                                                Text  COUNT(*)  \n",
       "0  Overall its just OK when considering the price...         2  \n",
       "1  My wife has recurring extreme muscle spasms, u...         3  \n",
       "2  This coffee is horrible and unfortunately not ...         2  \n",
       "3  This will be the bottle that you grab from the...         3  \n",
       "4  I didnt like this coffee. Instead of telling y...         2  "
      ]
     },
     "execution_count": 4,
     "metadata": {},
     "output_type": "execute_result"
    }
   ],
   "source": [
    "print(display.shape)\n",
    "display.head()"
   ]
  },
  {
   "cell_type": "code",
   "execution_count": 5,
   "metadata": {
    "colab": {},
    "colab_type": "code",
    "id": "OMKVKkH7iWNZ",
    "outputId": "acc9d31a-27a1-48a1-d2f2-ce1f2e511793"
   },
   "outputs": [
    {
     "data": {
      "text/html": [
       "<div>\n",
       "<style scoped>\n",
       "    .dataframe tbody tr th:only-of-type {\n",
       "        vertical-align: middle;\n",
       "    }\n",
       "\n",
       "    .dataframe tbody tr th {\n",
       "        vertical-align: top;\n",
       "    }\n",
       "\n",
       "    .dataframe thead th {\n",
       "        text-align: right;\n",
       "    }\n",
       "</style>\n",
       "<table border=\"1\" class=\"dataframe\">\n",
       "  <thead>\n",
       "    <tr style=\"text-align: right;\">\n",
       "      <th></th>\n",
       "      <th>UserId</th>\n",
       "      <th>ProductId</th>\n",
       "      <th>ProfileName</th>\n",
       "      <th>Time</th>\n",
       "      <th>Score</th>\n",
       "      <th>Text</th>\n",
       "      <th>COUNT(*)</th>\n",
       "    </tr>\n",
       "  </thead>\n",
       "  <tbody>\n",
       "    <tr>\n",
       "      <th>80638</th>\n",
       "      <td>AZY10LLTJ71NX</td>\n",
       "      <td>B006P7E5ZI</td>\n",
       "      <td>undertheshrine \"undertheshrine\"</td>\n",
       "      <td>1334707200</td>\n",
       "      <td>5</td>\n",
       "      <td>I was recommended to try green tea extract to ...</td>\n",
       "      <td>5</td>\n",
       "    </tr>\n",
       "  </tbody>\n",
       "</table>\n",
       "</div>"
      ],
      "text/plain": [
       "              UserId   ProductId                      ProfileName        Time  \\\n",
       "80638  AZY10LLTJ71NX  B006P7E5ZI  undertheshrine \"undertheshrine\"  1334707200   \n",
       "\n",
       "       Score                                               Text  COUNT(*)  \n",
       "80638      5  I was recommended to try green tea extract to ...         5  "
      ]
     },
     "execution_count": 5,
     "metadata": {},
     "output_type": "execute_result"
    }
   ],
   "source": [
    "display[display['UserId']=='AZY10LLTJ71NX']"
   ]
  },
  {
   "cell_type": "code",
   "execution_count": 6,
   "metadata": {
    "colab": {},
    "colab_type": "code",
    "id": "s37uqS_jiWNe",
    "outputId": "489f08d4-48a2-4e82-bfc1-4f982f35b2e4"
   },
   "outputs": [
    {
     "data": {
      "text/plain": [
       "393063"
      ]
     },
     "execution_count": 6,
     "metadata": {},
     "output_type": "execute_result"
    }
   ],
   "source": [
    "display['COUNT(*)'].sum()"
   ]
  },
  {
   "cell_type": "markdown",
   "metadata": {
    "colab_type": "text",
    "id": "efnNNqNfiWNh"
   },
   "source": [
    "#  [2] Exploratory Data Analysis"
   ]
  },
  {
   "cell_type": "markdown",
   "metadata": {
    "colab_type": "text",
    "id": "Eq0hnbxhiWNi"
   },
   "source": [
    "## [2.1] Data Cleaning: Deduplication\n",
    "\n",
    "It is observed (as shown in the table below) that the reviews data had many duplicate entries. Hence it was necessary to remove duplicates in order to get unbiased results for the analysis of the data.  Following is an example:"
   ]
  },
  {
   "cell_type": "code",
   "execution_count": 7,
   "metadata": {
    "colab": {},
    "colab_type": "code",
    "id": "3CKLJ2FFiWNj",
    "outputId": "c995e0c8-7ef1-48a0-d7a9-b0cc50efaa83",
    "scrolled": false
   },
   "outputs": [
    {
     "data": {
      "text/html": [
       "<div>\n",
       "<style scoped>\n",
       "    .dataframe tbody tr th:only-of-type {\n",
       "        vertical-align: middle;\n",
       "    }\n",
       "\n",
       "    .dataframe tbody tr th {\n",
       "        vertical-align: top;\n",
       "    }\n",
       "\n",
       "    .dataframe thead th {\n",
       "        text-align: right;\n",
       "    }\n",
       "</style>\n",
       "<table border=\"1\" class=\"dataframe\">\n",
       "  <thead>\n",
       "    <tr style=\"text-align: right;\">\n",
       "      <th></th>\n",
       "      <th>Id</th>\n",
       "      <th>ProductId</th>\n",
       "      <th>UserId</th>\n",
       "      <th>ProfileName</th>\n",
       "      <th>HelpfulnessNumerator</th>\n",
       "      <th>HelpfulnessDenominator</th>\n",
       "      <th>Score</th>\n",
       "      <th>Time</th>\n",
       "      <th>Summary</th>\n",
       "      <th>Text</th>\n",
       "    </tr>\n",
       "  </thead>\n",
       "  <tbody>\n",
       "    <tr>\n",
       "      <th>0</th>\n",
       "      <td>78445</td>\n",
       "      <td>B000HDL1RQ</td>\n",
       "      <td>AR5J8UI46CURR</td>\n",
       "      <td>Geetha Krishnan</td>\n",
       "      <td>2</td>\n",
       "      <td>2</td>\n",
       "      <td>5</td>\n",
       "      <td>1199577600</td>\n",
       "      <td>LOACKER QUADRATINI VANILLA WAFERS</td>\n",
       "      <td>DELICIOUS WAFERS. I FIND THAT EUROPEAN WAFERS ...</td>\n",
       "    </tr>\n",
       "    <tr>\n",
       "      <th>1</th>\n",
       "      <td>138317</td>\n",
       "      <td>B000HDOPYC</td>\n",
       "      <td>AR5J8UI46CURR</td>\n",
       "      <td>Geetha Krishnan</td>\n",
       "      <td>2</td>\n",
       "      <td>2</td>\n",
       "      <td>5</td>\n",
       "      <td>1199577600</td>\n",
       "      <td>LOACKER QUADRATINI VANILLA WAFERS</td>\n",
       "      <td>DELICIOUS WAFERS. I FIND THAT EUROPEAN WAFERS ...</td>\n",
       "    </tr>\n",
       "    <tr>\n",
       "      <th>2</th>\n",
       "      <td>138277</td>\n",
       "      <td>B000HDOPYM</td>\n",
       "      <td>AR5J8UI46CURR</td>\n",
       "      <td>Geetha Krishnan</td>\n",
       "      <td>2</td>\n",
       "      <td>2</td>\n",
       "      <td>5</td>\n",
       "      <td>1199577600</td>\n",
       "      <td>LOACKER QUADRATINI VANILLA WAFERS</td>\n",
       "      <td>DELICIOUS WAFERS. I FIND THAT EUROPEAN WAFERS ...</td>\n",
       "    </tr>\n",
       "    <tr>\n",
       "      <th>3</th>\n",
       "      <td>73791</td>\n",
       "      <td>B000HDOPZG</td>\n",
       "      <td>AR5J8UI46CURR</td>\n",
       "      <td>Geetha Krishnan</td>\n",
       "      <td>2</td>\n",
       "      <td>2</td>\n",
       "      <td>5</td>\n",
       "      <td>1199577600</td>\n",
       "      <td>LOACKER QUADRATINI VANILLA WAFERS</td>\n",
       "      <td>DELICIOUS WAFERS. I FIND THAT EUROPEAN WAFERS ...</td>\n",
       "    </tr>\n",
       "    <tr>\n",
       "      <th>4</th>\n",
       "      <td>155049</td>\n",
       "      <td>B000PAQ75C</td>\n",
       "      <td>AR5J8UI46CURR</td>\n",
       "      <td>Geetha Krishnan</td>\n",
       "      <td>2</td>\n",
       "      <td>2</td>\n",
       "      <td>5</td>\n",
       "      <td>1199577600</td>\n",
       "      <td>LOACKER QUADRATINI VANILLA WAFERS</td>\n",
       "      <td>DELICIOUS WAFERS. I FIND THAT EUROPEAN WAFERS ...</td>\n",
       "    </tr>\n",
       "  </tbody>\n",
       "</table>\n",
       "</div>"
      ],
      "text/plain": [
       "       Id   ProductId         UserId      ProfileName  HelpfulnessNumerator  \\\n",
       "0   78445  B000HDL1RQ  AR5J8UI46CURR  Geetha Krishnan                     2   \n",
       "1  138317  B000HDOPYC  AR5J8UI46CURR  Geetha Krishnan                     2   \n",
       "2  138277  B000HDOPYM  AR5J8UI46CURR  Geetha Krishnan                     2   \n",
       "3   73791  B000HDOPZG  AR5J8UI46CURR  Geetha Krishnan                     2   \n",
       "4  155049  B000PAQ75C  AR5J8UI46CURR  Geetha Krishnan                     2   \n",
       "\n",
       "   HelpfulnessDenominator  Score        Time  \\\n",
       "0                       2      5  1199577600   \n",
       "1                       2      5  1199577600   \n",
       "2                       2      5  1199577600   \n",
       "3                       2      5  1199577600   \n",
       "4                       2      5  1199577600   \n",
       "\n",
       "                             Summary  \\\n",
       "0  LOACKER QUADRATINI VANILLA WAFERS   \n",
       "1  LOACKER QUADRATINI VANILLA WAFERS   \n",
       "2  LOACKER QUADRATINI VANILLA WAFERS   \n",
       "3  LOACKER QUADRATINI VANILLA WAFERS   \n",
       "4  LOACKER QUADRATINI VANILLA WAFERS   \n",
       "\n",
       "                                                Text  \n",
       "0  DELICIOUS WAFERS. I FIND THAT EUROPEAN WAFERS ...  \n",
       "1  DELICIOUS WAFERS. I FIND THAT EUROPEAN WAFERS ...  \n",
       "2  DELICIOUS WAFERS. I FIND THAT EUROPEAN WAFERS ...  \n",
       "3  DELICIOUS WAFERS. I FIND THAT EUROPEAN WAFERS ...  \n",
       "4  DELICIOUS WAFERS. I FIND THAT EUROPEAN WAFERS ...  "
      ]
     },
     "execution_count": 7,
     "metadata": {},
     "output_type": "execute_result"
    }
   ],
   "source": [
    "display= pd.read_sql_query(\"\"\"\n",
    "SELECT *\n",
    "FROM Reviews\n",
    "WHERE Score != 3 AND UserId=\"AR5J8UI46CURR\"\n",
    "ORDER BY ProductID\n",
    "\"\"\", con)\n",
    "display.head()"
   ]
  },
  {
   "cell_type": "markdown",
   "metadata": {
    "colab_type": "text",
    "id": "GmHe67iviWNn"
   },
   "source": [
    "As it can be seen above that same user has multiple reviews with same values for HelpfulnessNumerator, HelpfulnessDenominator, Score, Time, Summary and Text and on doing analysis it was found that <br>\n",
    "<br> \n",
    "ProductId=B000HDOPZG was Loacker Quadratini Vanilla Wafer Cookies, 8.82-Ounce Packages (Pack of 8)<br>\n",
    "<br> \n",
    "ProductId=B000HDL1RQ was Loacker Quadratini Lemon Wafer Cookies, 8.82-Ounce Packages (Pack of 8) and so on<br>\n",
    "\n",
    "It was inferred after analysis that reviews with same parameters other than ProductId belonged to the same product just having different flavour or quantity. Hence in order to reduce redundancy it was decided to eliminate the rows having same parameters.<br>\n",
    "\n",
    "The method used for the same was that we first sort the data according to ProductId and then just keep the first similar product review and delelte the others. for eg. in the above just the review for ProductId=B000HDL1RQ remains. This method ensures that there is only one representative for each product and deduplication without sorting would lead to possibility of different representatives still existing for the same product."
   ]
  },
  {
   "cell_type": "code",
   "execution_count": 8,
   "metadata": {
    "colab": {},
    "colab_type": "code",
    "id": "wgmdXIJviWNn"
   },
   "outputs": [],
   "source": [
    "#Sorting data according to ProductId in ascending order\n",
    "sorted_data=filtered_data.sort_values('ProductId', axis=0, ascending=True, inplace=False, kind='quicksort', na_position='last')"
   ]
  },
  {
   "cell_type": "code",
   "execution_count": 9,
   "metadata": {
    "colab": {},
    "colab_type": "code",
    "id": "ComjQ0rHiWNp",
    "outputId": "1c155404-4bb7-4078-c46b-1a9a33ac0602"
   },
   "outputs": [
    {
     "data": {
      "text/plain": [
       "(87775, 10)"
      ]
     },
     "execution_count": 9,
     "metadata": {},
     "output_type": "execute_result"
    }
   ],
   "source": [
    "#Deduplication of entries\n",
    "final=sorted_data.drop_duplicates(subset={\"UserId\",\"ProfileName\",\"Time\",\"Text\"}, keep='first', inplace=False)\n",
    "final.shape"
   ]
  },
  {
   "cell_type": "code",
   "execution_count": 10,
   "metadata": {
    "colab": {},
    "colab_type": "code",
    "id": "yFrWiU23iWNt",
    "outputId": "b9d26952-d8af-4fbb-eb3d-c6a28abcc029"
   },
   "outputs": [
    {
     "data": {
      "text/plain": [
       "87.775"
      ]
     },
     "execution_count": 10,
     "metadata": {},
     "output_type": "execute_result"
    }
   ],
   "source": [
    "#Checking to see how much % of data still remains\n",
    "(final['Id'].size*1.0)/(filtered_data['Id'].size*1.0)*100"
   ]
  },
  {
   "cell_type": "markdown",
   "metadata": {
    "colab_type": "text",
    "id": "g4lvCHn6iWNw"
   },
   "source": [
    "<b>Observation:-</b> It was also seen that in two rows given below the value of HelpfulnessNumerator is greater than HelpfulnessDenominator which is not practically possible hence these two rows too are removed from calcualtions"
   ]
  },
  {
   "cell_type": "code",
   "execution_count": 11,
   "metadata": {
    "colab": {},
    "colab_type": "code",
    "id": "6ehzwEdgiWNw",
    "outputId": "60e18da4-784f-49d8-84b7-59823cfa3e85"
   },
   "outputs": [
    {
     "data": {
      "text/html": [
       "<div>\n",
       "<style scoped>\n",
       "    .dataframe tbody tr th:only-of-type {\n",
       "        vertical-align: middle;\n",
       "    }\n",
       "\n",
       "    .dataframe tbody tr th {\n",
       "        vertical-align: top;\n",
       "    }\n",
       "\n",
       "    .dataframe thead th {\n",
       "        text-align: right;\n",
       "    }\n",
       "</style>\n",
       "<table border=\"1\" class=\"dataframe\">\n",
       "  <thead>\n",
       "    <tr style=\"text-align: right;\">\n",
       "      <th></th>\n",
       "      <th>Id</th>\n",
       "      <th>ProductId</th>\n",
       "      <th>UserId</th>\n",
       "      <th>ProfileName</th>\n",
       "      <th>HelpfulnessNumerator</th>\n",
       "      <th>HelpfulnessDenominator</th>\n",
       "      <th>Score</th>\n",
       "      <th>Time</th>\n",
       "      <th>Summary</th>\n",
       "      <th>Text</th>\n",
       "    </tr>\n",
       "  </thead>\n",
       "  <tbody>\n",
       "    <tr>\n",
       "      <th>0</th>\n",
       "      <td>64422</td>\n",
       "      <td>B000MIDROQ</td>\n",
       "      <td>A161DK06JJMCYF</td>\n",
       "      <td>J. E. Stephens \"Jeanne\"</td>\n",
       "      <td>3</td>\n",
       "      <td>1</td>\n",
       "      <td>5</td>\n",
       "      <td>1224892800</td>\n",
       "      <td>Bought This for My Son at College</td>\n",
       "      <td>My son loves spaghetti so I didn't hesitate or...</td>\n",
       "    </tr>\n",
       "    <tr>\n",
       "      <th>1</th>\n",
       "      <td>44737</td>\n",
       "      <td>B001EQ55RW</td>\n",
       "      <td>A2V0I904FH7ABY</td>\n",
       "      <td>Ram</td>\n",
       "      <td>3</td>\n",
       "      <td>2</td>\n",
       "      <td>4</td>\n",
       "      <td>1212883200</td>\n",
       "      <td>Pure cocoa taste with crunchy almonds inside</td>\n",
       "      <td>It was almost a 'love at first bite' - the per...</td>\n",
       "    </tr>\n",
       "  </tbody>\n",
       "</table>\n",
       "</div>"
      ],
      "text/plain": [
       "      Id   ProductId          UserId              ProfileName  \\\n",
       "0  64422  B000MIDROQ  A161DK06JJMCYF  J. E. Stephens \"Jeanne\"   \n",
       "1  44737  B001EQ55RW  A2V0I904FH7ABY                      Ram   \n",
       "\n",
       "   HelpfulnessNumerator  HelpfulnessDenominator  Score        Time  \\\n",
       "0                     3                       1      5  1224892800   \n",
       "1                     3                       2      4  1212883200   \n",
       "\n",
       "                                        Summary  \\\n",
       "0             Bought This for My Son at College   \n",
       "1  Pure cocoa taste with crunchy almonds inside   \n",
       "\n",
       "                                                Text  \n",
       "0  My son loves spaghetti so I didn't hesitate or...  \n",
       "1  It was almost a 'love at first bite' - the per...  "
      ]
     },
     "execution_count": 11,
     "metadata": {},
     "output_type": "execute_result"
    }
   ],
   "source": [
    "display= pd.read_sql_query(\"\"\"\n",
    "SELECT *\n",
    "FROM Reviews\n",
    "WHERE Score != 3 AND Id=44737 OR Id=64422\n",
    "ORDER BY ProductID\n",
    "\"\"\", con)\n",
    "\n",
    "display.head()"
   ]
  },
  {
   "cell_type": "code",
   "execution_count": 12,
   "metadata": {
    "colab": {},
    "colab_type": "code",
    "id": "EBa1d6gViWNz"
   },
   "outputs": [],
   "source": [
    "final=final[final.HelpfulnessNumerator<=final.HelpfulnessDenominator]"
   ]
  },
  {
   "cell_type": "code",
   "execution_count": 13,
   "metadata": {
    "colab": {},
    "colab_type": "code",
    "id": "KNQ01asjiWN1",
    "outputId": "0d2433fb-dd33-41cd-a18d-110d776f60b4"
   },
   "outputs": [
    {
     "name": "stdout",
     "output_type": "stream",
     "text": [
      "(87773, 10)\n"
     ]
    },
    {
     "data": {
      "text/plain": [
       "1    73592\n",
       "0    14181\n",
       "Name: Score, dtype: int64"
      ]
     },
     "execution_count": 13,
     "metadata": {},
     "output_type": "execute_result"
    }
   ],
   "source": [
    "#Before starting the next phase of preprocessing lets see the number of entries left\n",
    "print(final.shape)\n",
    "\n",
    "#How many positive and negative reviews are present in our dataset?\n",
    "final['Score'].value_counts()"
   ]
  },
  {
   "cell_type": "markdown",
   "metadata": {
    "colab_type": "text",
    "id": "92IZ5ea0iWN4"
   },
   "source": [
    "#  [3] Preprocessing"
   ]
  },
  {
   "cell_type": "markdown",
   "metadata": {
    "colab_type": "text",
    "id": "NTwQITJKiWN5"
   },
   "source": [
    "## [3.1].  Preprocessing Review Text\n",
    "\n",
    "Now that we have finished deduplication our data requires some preprocessing before we go on further with analysis and making the prediction model.\n",
    "\n",
    "Hence in the Preprocessing phase we do the following in the order below:-\n",
    "\n",
    "1. Begin by removing the html tags\n",
    "2. Remove any punctuations or limited set of special characters like , or . or # etc.\n",
    "3. Check if the word is made up of english letters and is not alpha-numeric\n",
    "4. Check to see if the length of the word is greater than 2 (as it was researched that there is no adjective in 2-letters)\n",
    "5. Convert the word to lowercase\n",
    "6. Remove Stopwords\n",
    "7. Finally Snowball Stemming the word (it was obsereved to be better than Porter Stemming)<br>\n",
    "\n",
    "After which we collect the words used to describe positive and negative reviews"
   ]
  },
  {
   "cell_type": "code",
   "execution_count": 14,
   "metadata": {},
   "outputs": [],
   "source": [
    "from nltk.corpus import stopwords\n",
    "stop = set(stopwords.words('english')) #set of stopwords\n",
    "words_to_keep = set(('not'))\n",
    "stop -= words_to_keep\n",
    "\n",
    "sno = nltk.stem.SnowballStemmer('english')\n",
    "def cleanhtml(sentence): #function to clean any HTML Tags\n",
    "    cleanr = re.compile('<.*?>')\n",
    "    cleantext = re.sub(cleanr, ' ', sentence)\n",
    "    return cleantext\n",
    "def cleanpunc(sentence): #function to clean any word of punctuation or special character\n",
    "    cleaned = re.sub(r'[?|!|\\'|\"|#]',r'', sentence)\n",
    "    cleaned = re.sub(r'[.|,|)|(|\\|/]',r' ', cleaned)\n",
    "    return cleaned"
   ]
  },
  {
   "cell_type": "code",
   "execution_count": 15,
   "metadata": {},
   "outputs": [],
   "source": [
    "#code for implementing step by step check mentioned in preprocessing phase\n",
    "#runtime wiil be high due to 500k sentences\n",
    "i = 0\n",
    "str1 = ' '\n",
    "final_string = []\n",
    "all_positive_words = []\n",
    "all_negative_words = []\n",
    "s=''\n",
    "for sent in final['Text'].values:\n",
    "    filtered_sentence=[]\n",
    "    sent=cleanhtml(sent)\n",
    "    for w in sent.split():\n",
    "        for cleaned_words in cleanpunc(w).split():\n",
    "            if((cleaned_words.isalpha()) & (len(cleaned_words)>2)):\n",
    "                if(cleaned_words.lower() not in stop):\n",
    "                    s=(sno.stem(cleaned_words.lower())).encode('utf8')\n",
    "                    filtered_sentence.append(s)\n",
    "                    if (final['Score'].values)[i] == 'positive':\n",
    "                        all_positive_words.append(s)\n",
    "                    if (final['Score'].values)[i] == 'negative':\n",
    "                        all_negative_words.append(s)\n",
    "                else:\n",
    "                    continue\n",
    "            else:\n",
    "                continue\n",
    "    str1 = b\" \".join(filtered_sentence)\n",
    "    final_string.append(str1)\n",
    "    i+=1"
   ]
  },
  {
   "cell_type": "code",
   "execution_count": 16,
   "metadata": {},
   "outputs": [
    {
     "name": "stdout",
     "output_type": "stream",
     "text": [
      "shape of final (87773, 11)\n"
     ]
    },
    {
     "data": {
      "text/html": [
       "<div>\n",
       "<style scoped>\n",
       "    .dataframe tbody tr th:only-of-type {\n",
       "        vertical-align: middle;\n",
       "    }\n",
       "\n",
       "    .dataframe tbody tr th {\n",
       "        vertical-align: top;\n",
       "    }\n",
       "\n",
       "    .dataframe thead th {\n",
       "        text-align: right;\n",
       "    }\n",
       "</style>\n",
       "<table border=\"1\" class=\"dataframe\">\n",
       "  <thead>\n",
       "    <tr style=\"text-align: right;\">\n",
       "      <th></th>\n",
       "      <th>Id</th>\n",
       "      <th>ProductId</th>\n",
       "      <th>UserId</th>\n",
       "      <th>ProfileName</th>\n",
       "      <th>HelpfulnessNumerator</th>\n",
       "      <th>HelpfulnessDenominator</th>\n",
       "      <th>Score</th>\n",
       "      <th>Time</th>\n",
       "      <th>Summary</th>\n",
       "      <th>Text</th>\n",
       "      <th>cleanedText</th>\n",
       "    </tr>\n",
       "  </thead>\n",
       "  <tbody>\n",
       "    <tr>\n",
       "      <th>22620</th>\n",
       "      <td>24750</td>\n",
       "      <td>2734888454</td>\n",
       "      <td>A13ISQV0U9GZIC</td>\n",
       "      <td>Sandikaye</td>\n",
       "      <td>1</td>\n",
       "      <td>1</td>\n",
       "      <td>0</td>\n",
       "      <td>1192060800</td>\n",
       "      <td>made in china</td>\n",
       "      <td>My dogs loves this chicken but its a product f...</td>\n",
       "      <td>dog love chicken product china wont buy anymor...</td>\n",
       "    </tr>\n",
       "    <tr>\n",
       "      <th>22621</th>\n",
       "      <td>24751</td>\n",
       "      <td>2734888454</td>\n",
       "      <td>A1C298ITT645B6</td>\n",
       "      <td>Hugh G. Pritchard</td>\n",
       "      <td>0</td>\n",
       "      <td>0</td>\n",
       "      <td>1</td>\n",
       "      <td>1195948800</td>\n",
       "      <td>Dog Lover Delites</td>\n",
       "      <td>Our dogs just love them.  I saw them in a pet ...</td>\n",
       "      <td>dog love saw pet store tag attach regard made ...</td>\n",
       "    </tr>\n",
       "    <tr>\n",
       "      <th>70677</th>\n",
       "      <td>76870</td>\n",
       "      <td>B00002N8SM</td>\n",
       "      <td>A19Q006CSFT011</td>\n",
       "      <td>Arlielle</td>\n",
       "      <td>0</td>\n",
       "      <td>0</td>\n",
       "      <td>0</td>\n",
       "      <td>1288396800</td>\n",
       "      <td>only one fruitfly stuck</td>\n",
       "      <td>I had an infestation of fruitflies, they were ...</td>\n",
       "      <td>infest fruitfli liter everywher fli around kit...</td>\n",
       "    </tr>\n",
       "    <tr>\n",
       "      <th>70676</th>\n",
       "      <td>76869</td>\n",
       "      <td>B00002N8SM</td>\n",
       "      <td>A1FYH4S02BW7FN</td>\n",
       "      <td>wonderer</td>\n",
       "      <td>0</td>\n",
       "      <td>0</td>\n",
       "      <td>0</td>\n",
       "      <td>1290038400</td>\n",
       "      <td>Doesn't work!! Don't waste your money!!</td>\n",
       "      <td>Worst product I have gotten in long time. Woul...</td>\n",
       "      <td>worst product gotten long time would rate star...</td>\n",
       "    </tr>\n",
       "    <tr>\n",
       "      <th>70675</th>\n",
       "      <td>76868</td>\n",
       "      <td>B00002N8SM</td>\n",
       "      <td>AUE8TB5VHS6ZV</td>\n",
       "      <td>eyeofthestorm</td>\n",
       "      <td>0</td>\n",
       "      <td>0</td>\n",
       "      <td>0</td>\n",
       "      <td>1306972800</td>\n",
       "      <td>A big rip off</td>\n",
       "      <td>I wish I'd read the reviews before making this...</td>\n",
       "      <td>wish read review make purchas basic cardsotck ...</td>\n",
       "    </tr>\n",
       "  </tbody>\n",
       "</table>\n",
       "</div>"
      ],
      "text/plain": [
       "          Id   ProductId          UserId        ProfileName  \\\n",
       "22620  24750  2734888454  A13ISQV0U9GZIC          Sandikaye   \n",
       "22621  24751  2734888454  A1C298ITT645B6  Hugh G. Pritchard   \n",
       "70677  76870  B00002N8SM  A19Q006CSFT011           Arlielle   \n",
       "70676  76869  B00002N8SM  A1FYH4S02BW7FN           wonderer   \n",
       "70675  76868  B00002N8SM   AUE8TB5VHS6ZV      eyeofthestorm   \n",
       "\n",
       "       HelpfulnessNumerator  HelpfulnessDenominator  Score        Time  \\\n",
       "22620                     1                       1      0  1192060800   \n",
       "22621                     0                       0      1  1195948800   \n",
       "70677                     0                       0      0  1288396800   \n",
       "70676                     0                       0      0  1290038400   \n",
       "70675                     0                       0      0  1306972800   \n",
       "\n",
       "                                       Summary  \\\n",
       "22620                            made in china   \n",
       "22621                        Dog Lover Delites   \n",
       "70677                  only one fruitfly stuck   \n",
       "70676  Doesn't work!! Don't waste your money!!   \n",
       "70675                            A big rip off   \n",
       "\n",
       "                                                    Text  \\\n",
       "22620  My dogs loves this chicken but its a product f...   \n",
       "22621  Our dogs just love them.  I saw them in a pet ...   \n",
       "70677  I had an infestation of fruitflies, they were ...   \n",
       "70676  Worst product I have gotten in long time. Woul...   \n",
       "70675  I wish I'd read the reviews before making this...   \n",
       "\n",
       "                                             cleanedText  \n",
       "22620  dog love chicken product china wont buy anymor...  \n",
       "22621  dog love saw pet store tag attach regard made ...  \n",
       "70677  infest fruitfli liter everywher fli around kit...  \n",
       "70676  worst product gotten long time would rate star...  \n",
       "70675  wish read review make purchas basic cardsotck ...  "
      ]
     },
     "execution_count": 16,
     "metadata": {},
     "output_type": "execute_result"
    }
   ],
   "source": [
    "final['cleanedText']=final_string #Adding a column of Cleanedtext which displays data after preprocesing.\n",
    "final['cleanedText']=final['cleanedText'].str.decode(\"utf-8\")\n",
    "print('shape of final', final.shape)\n",
    "final.head()"
   ]
  },
  {
   "cell_type": "markdown",
   "metadata": {},
   "source": [
    "### Time Based Splitting For As AFR is Time series Data"
   ]
  },
  {
   "cell_type": "code",
   "execution_count": 17,
   "metadata": {},
   "outputs": [],
   "source": [
    "#sorting data according to time in ascending oreder for time based splitting\n",
    "time_sorted_data = final.sort_values('Time', axis=0, ascending=True, inplace=False, kind='quicksort', na_position='last')\n",
    "x = time_sorted_data['cleanedText'].values\n",
    "y = time_sorted_data['Score']\n",
    "#SPlit the dataset into Train and Test\n",
    "X_train,X_test,Y_train,Y_test=train_test_split(x, y, test_size=0.3, random_state=0)"
   ]
  },
  {
   "cell_type": "code",
   "execution_count": 18,
   "metadata": {
    "colab": {},
    "colab_type": "code",
    "id": "kTCxT5aWiWN5",
    "outputId": "64588cda-64b3-47f0-8d01-941e1cc85cc5"
   },
   "outputs": [
    {
     "name": "stdout",
     "output_type": "stream",
     "text": [
      "My dogs loves this chicken but its a product from China, so we wont be buying it anymore.  Its very hard to find any chicken products made in the USA but they are out there, but this one isnt.  Its too bad too because its a good product but I wont take any chances till they know what is going on with the china imports.\n",
      "==================================================\n",
      "The Candy Blocks were a nice visual for the Lego Birthday party but the candy has little taste to it.  Very little of the 2 lbs that I bought were eaten and I threw the rest away.  I would not buy the candy again.\n",
      "==================================================\n",
      "was way to hot for my blood, took a bite and did a jig  lol\n",
      "==================================================\n",
      "My dog LOVES these treats. They tend to have a very strong fish oil smell. So if you are afraid of the fishy smell, don't get it. But I think my dog likes it because of the smell. These treats are really small in size. They are great for training. You can give your dog several of these without worrying about him over eating. Amazon's price was much more reasonable than any other retailer. You can buy a 1 pound bag on Amazon for almost the same price as a 6 ounce bag at other retailers. It's definitely worth it to buy a big bag if your dog eats them a lot.\n",
      "==================================================\n"
     ]
    }
   ],
   "source": [
    "# printing some random reviews\n",
    "sent_0 = final['Text'].values[0]\n",
    "print(sent_0)\n",
    "print(\"=\"*50)\n",
    "\n",
    "sent_1000 = final['Text'].values[1000]\n",
    "print(sent_1000)\n",
    "print(\"=\"*50)\n",
    "\n",
    "sent_1500 = final['Text'].values[1500]\n",
    "print(sent_1500)\n",
    "print(\"=\"*50)\n",
    "\n",
    "sent_4900 = final['Text'].values[4900]\n",
    "print(sent_4900)\n",
    "print(\"=\"*50)"
   ]
  },
  {
   "cell_type": "code",
   "execution_count": 19,
   "metadata": {
    "colab": {},
    "colab_type": "code",
    "id": "iX3VndCPiWN8",
    "outputId": "7f8cad02-65a6-4530-e7e1-bb6775877737"
   },
   "outputs": [
    {
     "name": "stdout",
     "output_type": "stream",
     "text": [
      "My dogs loves this chicken but its a product from China, so we wont be buying it anymore.  Its very hard to find any chicken products made in the USA but they are out there, but this one isnt.  Its too bad too because its a good product but I wont take any chances till they know what is going on with the china imports.\n"
     ]
    }
   ],
   "source": [
    "# remove urls from text python: https://stackoverflow.com/a/40823105/4084039\n",
    "sent_0 = re.sub(r\"http\\S+\", \"\", sent_0)\n",
    "sent_1000 = re.sub(r\"http\\S+\", \"\", sent_1000)\n",
    "sent_150 = re.sub(r\"http\\S+\", \"\", sent_1500)\n",
    "sent_4900 = re.sub(r\"http\\S+\", \"\", sent_4900)\n",
    "\n",
    "print(sent_0)"
   ]
  },
  {
   "cell_type": "code",
   "execution_count": 20,
   "metadata": {
    "colab": {},
    "colab_type": "code",
    "id": "DyO7iqEriWN_",
    "outputId": "2a010a1c-574d-409f-d725-c726a25d3e70"
   },
   "outputs": [
    {
     "name": "stdout",
     "output_type": "stream",
     "text": [
      "My dogs loves this chicken but its a product from China, so we wont be buying it anymore.  Its very hard to find any chicken products made in the USA but they are out there, but this one isnt.  Its too bad too because its a good product but I wont take any chances till they know what is going on with the china imports.\n",
      "==================================================\n",
      "The Candy Blocks were a nice visual for the Lego Birthday party but the candy has little taste to it.  Very little of the 2 lbs that I bought were eaten and I threw the rest away.  I would not buy the candy again.\n",
      "==================================================\n",
      "was way to hot for my blood, took a bite and did a jig  lol\n",
      "==================================================\n",
      "My dog LOVES these treats. They tend to have a very strong fish oil smell. So if you are afraid of the fishy smell, don't get it. But I think my dog likes it because of the smell. These treats are really small in size. They are great for training. You can give your dog several of these without worrying about him over eating. Amazon's price was much more reasonable than any other retailer. You can buy a 1 pound bag on Amazon for almost the same price as a 6 ounce bag at other retailers. It's definitely worth it to buy a big bag if your dog eats them a lot.\n"
     ]
    }
   ],
   "source": [
    "# https://stackoverflow.com/questions/16206380/python-beautifulsoup-how-to-remove-all-tags-from-an-element\n",
    "from bs4 import BeautifulSoup\n",
    "\n",
    "soup = BeautifulSoup(sent_0, 'lxml')\n",
    "text = soup.get_text()\n",
    "print(text)\n",
    "print(\"=\"*50)\n",
    "\n",
    "soup = BeautifulSoup(sent_1000, 'lxml')\n",
    "text = soup.get_text()\n",
    "print(text)\n",
    "print(\"=\"*50)\n",
    "\n",
    "soup = BeautifulSoup(sent_1500, 'lxml')\n",
    "text = soup.get_text()\n",
    "print(text)\n",
    "print(\"=\"*50)\n",
    "\n",
    "soup = BeautifulSoup(sent_4900, 'lxml')\n",
    "text = soup.get_text()\n",
    "print(text)"
   ]
  },
  {
   "cell_type": "code",
   "execution_count": 21,
   "metadata": {
    "colab": {},
    "colab_type": "code",
    "id": "qzIaKh8niWOC"
   },
   "outputs": [],
   "source": [
    "# https://stackoverflow.com/a/47091490/4084039\n",
    "import re\n",
    "\n",
    "def decontracted(phrase):\n",
    "    # specific\n",
    "    phrase = re.sub(r\"won't\", \"will not\", phrase)\n",
    "    phrase = re.sub(r\"can\\'t\", \"can not\", phrase)\n",
    "\n",
    "    # general\n",
    "    phrase = re.sub(r\"n\\'t\", \" not\", phrase)\n",
    "    phrase = re.sub(r\"\\'re\", \" are\", phrase)\n",
    "    phrase = re.sub(r\"\\'s\", \" is\", phrase)\n",
    "    phrase = re.sub(r\"\\'d\", \" would\", phrase)\n",
    "    phrase = re.sub(r\"\\'ll\", \" will\", phrase)\n",
    "    phrase = re.sub(r\"\\'t\", \" not\", phrase)\n",
    "    phrase = re.sub(r\"\\'ve\", \" have\", phrase)\n",
    "    phrase = re.sub(r\"\\'m\", \" am\", phrase)\n",
    "    return phrase"
   ]
  },
  {
   "cell_type": "code",
   "execution_count": 22,
   "metadata": {
    "colab": {},
    "colab_type": "code",
    "id": "Esa29-JwiWOD",
    "outputId": "be726596-752d-489b-d311-f4180ac83ac4"
   },
   "outputs": [
    {
     "name": "stdout",
     "output_type": "stream",
     "text": [
      "was way to hot for my blood, took a bite and did a jig  lol\n",
      "==================================================\n"
     ]
    }
   ],
   "source": [
    "sent_1500 = decontracted(sent_1500)\n",
    "print(sent_1500)\n",
    "print(\"=\"*50)"
   ]
  },
  {
   "cell_type": "code",
   "execution_count": 23,
   "metadata": {
    "colab": {},
    "colab_type": "code",
    "id": "qf0c7-nXiWOG",
    "outputId": "6104976d-bda8-4de1-9d91-808f3661d53b"
   },
   "outputs": [
    {
     "name": "stdout",
     "output_type": "stream",
     "text": [
      "My dogs loves this chicken but its a product from China, so we wont be buying it anymore.  Its very hard to find any chicken products made in the USA but they are out there, but this one isnt.  Its too bad too because its a good product but I wont take any chances till they know what is going on with the china imports.\n"
     ]
    }
   ],
   "source": [
    "#remove words with numbers python: https://stackoverflow.com/a/18082370/4084039\n",
    "sent_0 = re.sub(\"\\S*\\d\\S*\", \"\", sent_0).strip()\n",
    "print(sent_0)"
   ]
  },
  {
   "cell_type": "code",
   "execution_count": 24,
   "metadata": {
    "colab": {},
    "colab_type": "code",
    "id": "1Z5VK6wxiWOI",
    "outputId": "d3405347-aa6a-4df5-c3d9-2c11441c2385"
   },
   "outputs": [
    {
     "name": "stdout",
     "output_type": "stream",
     "text": [
      "was way to hot for my blood took a bite and did a jig lol\n"
     ]
    }
   ],
   "source": [
    "#remove spacial character: https://stackoverflow.com/a/5843547/4084039\n",
    "sent_1500 = re.sub('[^A-Za-z0-9]+', ' ', sent_1500)\n",
    "print(sent_1500)"
   ]
  },
  {
   "cell_type": "code",
   "execution_count": 25,
   "metadata": {
    "colab": {},
    "colab_type": "code",
    "id": "MfzZtIP1iWOL"
   },
   "outputs": [],
   "source": [
    "# https://gist.github.com/sebleier/554280\n",
    "# we are removing the words from the stop words list: 'no', 'nor', 'not'\n",
    "# <br /><br /> ==> after the above steps, we are getting \"br br\"\n",
    "# we are including them into stop words list\n",
    "# instead of <br /> if we have <br/> these tags would have revmoved in the 1st step\n",
    "\n",
    "stopwords= set(['br', 'the', 'i', 'me', 'my', 'myself', 'we', 'our', 'ours', 'ourselves', 'you', \"you're\", \"you've\",\\\n",
    "            \"you'll\", \"you'd\", 'your', 'yours', 'yourself', 'yourselves', 'he', 'him', 'his', 'himself', \\\n",
    "            'she', \"she's\", 'her', 'hers', 'herself', 'it', \"it's\", 'its', 'itself', 'they', 'them', 'their',\\\n",
    "            'theirs', 'themselves', 'what', 'which', 'who', 'whom', 'this', 'that', \"that'll\", 'these', 'those', \\\n",
    "            'am', 'is', 'are', 'was', 'were', 'be', 'been', 'being', 'have', 'has', 'had', 'having', 'do', 'does', \\\n",
    "            'did', 'doing', 'a', 'an', 'the', 'and', 'but', 'if', 'or', 'because', 'as', 'until', 'while', 'of', \\\n",
    "            'at', 'by', 'for', 'with', 'about', 'against', 'between', 'into', 'through', 'during', 'before', 'after',\\\n",
    "            'above', 'below', 'to', 'from', 'up', 'down', 'in', 'out', 'on', 'off', 'over', 'under', 'again', 'further',\\\n",
    "            'then', 'once', 'here', 'there', 'when', 'where', 'why', 'how', 'all', 'any', 'both', 'each', 'few', 'more',\\\n",
    "            'most', 'other', 'some', 'such', 'only', 'own', 'same', 'so', 'than', 'too', 'very', \\\n",
    "            's', 't', 'can', 'will', 'just', 'don', \"don't\", 'should', \"should've\", 'now', 'd', 'll', 'm', 'o', 're', \\\n",
    "            've', 'y', 'ain', 'aren', \"aren't\", 'couldn', \"couldn't\", 'didn', \"didn't\", 'doesn', \"doesn't\", 'hadn',\\\n",
    "            \"hadn't\", 'hasn', \"hasn't\", 'haven', \"haven't\", 'isn', \"isn't\", 'ma', 'mightn', \"mightn't\", 'mustn',\\\n",
    "            \"mustn't\", 'needn', \"needn't\", 'shan', \"shan't\", 'shouldn', \"shouldn't\", 'wasn', \"wasn't\", 'weren', \"weren't\", \\\n",
    "            'won', \"won't\", 'wouldn', \"wouldn't\"])"
   ]
  },
  {
   "cell_type": "code",
   "execution_count": 26,
   "metadata": {
    "colab": {},
    "colab_type": "code",
    "id": "g1C43tjNiWOM",
    "outputId": "a997afc9-894c-4a56-d538-dadea8a21e6d"
   },
   "outputs": [
    {
     "name": "stderr",
     "output_type": "stream",
     "text": [
      "100%|██████████████████████████████████████████████████████████████████████████| 87773/87773 [01:02<00:00, 1403.50it/s]\n"
     ]
    }
   ],
   "source": [
    "# Combining all the above stundents \n",
    "from tqdm import tqdm\n",
    "preprocessed_reviews = []\n",
    "# tqdm is for printing the status bar\n",
    "for sentance in tqdm(final['Text'].values):\n",
    "    sentance = re.sub(r\"http\\S+\", \"\", sentance)\n",
    "    sentance = BeautifulSoup(sentance, 'lxml').get_text()\n",
    "    sentance = decontracted(sentance)\n",
    "    sentance = re.sub(\"\\S*\\d\\S*\", \"\", sentance).strip()\n",
    "    sentance = re.sub('[^A-Za-z]+', ' ', sentance)\n",
    "    # https://gist.github.com/sebleier/554280\n",
    "    sentance = ' '.join(e.lower() for e in sentance.split() if e.lower() not in stopwords)\n",
    "    preprocessed_reviews.append(sentance.strip())"
   ]
  },
  {
   "cell_type": "code",
   "execution_count": 29,
   "metadata": {
    "colab": {},
    "colab_type": "code",
    "id": "MWDrCFxViWOP",
    "outputId": "5618c9c3-a86a-42a4-e9c4-d24d93fd5a7a"
   },
   "outputs": [
    {
     "data": {
      "text/plain": [
       "'way hot blood took bite jig lol'"
      ]
     },
     "execution_count": 29,
     "metadata": {},
     "output_type": "execute_result"
    }
   ],
   "source": [
    "preprocessed_reviews[1500]"
   ]
  },
  {
   "cell_type": "markdown",
   "metadata": {
    "colab_type": "text",
    "id": "fEu8sShciWOS"
   },
   "source": [
    "<h2><font color='red'>[3.2] Preprocessing Review Summary</font></h2>"
   ]
  },
  {
   "cell_type": "code",
   "execution_count": 29,
   "metadata": {
    "colab": {},
    "colab_type": "code",
    "id": "XP1URIERiWOU"
   },
   "outputs": [
    {
     "name": "stderr",
     "output_type": "stream",
     "text": [
      "100%|██████████████████████████████████████████████████████████████████████████| 87773/87773 [01:03<00:00, 1383.17it/s]\n"
     ]
    }
   ],
   "source": [
    "## Similartly you can do preprocessing for review summary also.\n",
    "# Combining all the above stundents \n",
    "from tqdm import tqdm\n",
    "preprocessed_summaries = []\n",
    "# tqdm is for printing the status bar\n",
    "for sentance in tqdm(final['Text'].values):\n",
    "    sentance = re.sub(r\"http\\S+\", \"\", sentance)\n",
    "    sentance = BeautifulSoup(sentance, 'lxml').get_text()\n",
    "    sentance = decontracted(sentance)\n",
    "    sentance = re.sub(\"\\S*\\d\\S*\", \"\", sentance).strip()\n",
    "    sentance = re.sub('[^A-Za-z]+', ' ', sentance)\n",
    "    # https://gist.github.com/sebleier/554280\n",
    "    sentance = ' '.join(e.lower() for e in sentance.split() if e.lower() not in stopwords)\n",
    "    preprocessed_reviews.append(sentance.strip())"
   ]
  },
  {
   "cell_type": "markdown",
   "metadata": {
    "colab_type": "text",
    "id": "p2lyiwJ_iWOW"
   },
   "source": [
    "# [4] Featurization"
   ]
  },
  {
   "cell_type": "markdown",
   "metadata": {
    "colab_type": "text",
    "id": "T_LFck8iiWOX"
   },
   "source": [
    "## [4.1] BAG OF WORDS"
   ]
  },
  {
   "cell_type": "code",
   "execution_count": 0,
   "metadata": {
    "colab": {},
    "colab_type": "code",
    "id": "OVHZ9f8biWOX",
    "outputId": "b121f6f4-e30a-4184-b083-a77cdab3ca19"
   },
   "outputs": [
    {
     "name": "stdout",
     "output_type": "stream",
     "text": [
      "some feature names  ['aa', 'aahhhs', 'aback', 'abandon', 'abates', 'abbott', 'abby', 'abdominal', 'abiding', 'ability']\n",
      "==================================================\n",
      "the type of count vectorizer  <class 'scipy.sparse.csr.csr_matrix'>\n",
      "the shape of out text BOW vectorizer  (4986, 12997)\n",
      "the number of unique words  12997\n"
     ]
    }
   ],
   "source": [
    "#BoW\n",
    "count_vect = CountVectorizer() #in scikit-learn\n",
    "count_vect.fit(preprocessed_reviews)\n",
    "print(\"some feature names \", count_vect.get_feature_names()[:10])\n",
    "print('='*50)\n",
    "\n",
    "final_counts = count_vect.transform(preprocessed_reviews)\n",
    "print(\"the type of count vectorizer \",type(final_counts))\n",
    "print(\"the shape of out text BOW vectorizer \",final_counts.get_shape())\n",
    "print(\"the number of unique words \", final_counts.get_shape()[1])"
   ]
  },
  {
   "cell_type": "markdown",
   "metadata": {
    "colab_type": "text",
    "id": "mjfrB76yiWOa"
   },
   "source": [
    "## [4.2] Bi-Grams and n-Grams."
   ]
  },
  {
   "cell_type": "code",
   "execution_count": 0,
   "metadata": {
    "colab": {},
    "colab_type": "code",
    "id": "mzOdOY6MiWOb",
    "outputId": "5ca07a6a-fb12-4deb-b0f4-21cdb42ccb7a"
   },
   "outputs": [
    {
     "name": "stdout",
     "output_type": "stream",
     "text": [
      "the type of count vectorizer  <class 'scipy.sparse.csr.csr_matrix'>\n",
      "the shape of out text BOW vectorizer  (4986, 3144)\n",
      "the number of unique words including both unigrams and bigrams  3144\n"
     ]
    }
   ],
   "source": [
    "#bi-gram, tri-gram and n-gram\n",
    "\n",
    "#removing stop words like \"not\" should be avoided before building n-grams\n",
    "# count_vect = CountVectorizer(ngram_range=(1,2))\n",
    "# please do read the CountVectorizer documentation http://scikit-learn.org/stable/modules/generated/sklearn.feature_extraction.text.CountVectorizer.html\n",
    "\n",
    "# you can choose these numebrs min_df=10, max_features=5000, of your choice\n",
    "count_vect = CountVectorizer(ngram_range=(1,2), min_df=10, max_features=5000)\n",
    "final_bigram_counts = count_vect.fit_transform(preprocessed_reviews)\n",
    "print(\"the type of count vectorizer \",type(final_bigram_counts))\n",
    "print(\"the shape of out text BOW vectorizer \",final_bigram_counts.get_shape())\n",
    "print(\"the number of unique words including both unigrams and bigrams \", final_bigram_counts.get_shape()[1])"
   ]
  },
  {
   "cell_type": "markdown",
   "metadata": {
    "colab_type": "text",
    "id": "0tcbbZxSiWOd"
   },
   "source": [
    "## [4.3] TF-IDF"
   ]
  },
  {
   "cell_type": "code",
   "execution_count": 0,
   "metadata": {
    "colab": {},
    "colab_type": "code",
    "id": "mQ3EDEsoiWOd",
    "outputId": "b305ed29-861d-40e9-c1df-b12c4e6492a8"
   },
   "outputs": [
    {
     "name": "stdout",
     "output_type": "stream",
     "text": [
      "some sample features(unique words in the corpus) ['ability', 'able', 'able find', 'able get', 'absolute', 'absolutely', 'absolutely delicious', 'absolutely love', 'absolutely no', 'according']\n",
      "==================================================\n",
      "the type of count vectorizer  <class 'scipy.sparse.csr.csr_matrix'>\n",
      "the shape of out text TFIDF vectorizer  (4986, 3144)\n",
      "the number of unique words including both unigrams and bigrams  3144\n"
     ]
    }
   ],
   "source": [
    "tf_idf_vect = TfidfVectorizer(ngram_range=(1,2), min_df=10)\n",
    "tf_idf_vect.fit(preprocessed_reviews)\n",
    "print(\"some sample features(unique words in the corpus)\",tf_idf_vect.get_feature_names()[0:10])\n",
    "print('='*50)\n",
    "\n",
    "final_tf_idf = tf_idf_vect.transform(preprocessed_reviews)\n",
    "print(\"the type of count vectorizer \",type(final_tf_idf))\n",
    "print(\"the shape of out text TFIDF vectorizer \",final_tf_idf.get_shape())\n",
    "print(\"the number of unique words including both unigrams and bigrams \", final_tf_idf.get_shape()[1])"
   ]
  },
  {
   "cell_type": "markdown",
   "metadata": {
    "colab_type": "text",
    "id": "u566lt93iWOf"
   },
   "source": [
    "## [4.4] Word2Vec"
   ]
  },
  {
   "cell_type": "code",
   "execution_count": 0,
   "metadata": {
    "colab": {},
    "colab_type": "code",
    "id": "pxlbMwFjiWOg"
   },
   "outputs": [],
   "source": [
    "# Train your own Word2Vec model using your own text corpus\n",
    "i=0\n",
    "list_of_sentance=[]\n",
    "for sentance in preprocessed_reviews:\n",
    "    list_of_sentance.append(sentance.split())"
   ]
  },
  {
   "cell_type": "code",
   "execution_count": 0,
   "metadata": {
    "colab": {},
    "colab_type": "code",
    "id": "NOd5wp0yiWOh",
    "outputId": "ae28439d-438c-4d88-ed12-db5f3317218f",
    "scrolled": true
   },
   "outputs": [
    {
     "name": "stdout",
     "output_type": "stream",
     "text": [
      "[('snack', 0.9951335191726685), ('calorie', 0.9946465492248535), ('wonderful', 0.9946032166481018), ('excellent', 0.9944332838058472), ('especially', 0.9941144585609436), ('baked', 0.9940600395202637), ('salted', 0.994047224521637), ('alternative', 0.9937226176261902), ('tasty', 0.9936816692352295), ('healthy', 0.9936649799346924)]\n",
      "==================================================\n",
      "[('varieties', 0.9994194507598877), ('become', 0.9992934465408325), ('popcorn', 0.9992750883102417), ('de', 0.9992610216140747), ('miss', 0.9992451071739197), ('melitta', 0.999218761920929), ('choice', 0.9992102384567261), ('american', 0.9991837739944458), ('beef', 0.9991780519485474), ('finish', 0.9991567134857178)]\n"
     ]
    }
   ],
   "source": [
    "# Using Google News Word2Vectors\n",
    "\n",
    "# in this project we are using a pretrained model by google\n",
    "# its 3.3G file, once you load this into your memory \n",
    "# it occupies ~9Gb, so please do this step only if you have >12G of ram\n",
    "# we will provide a pickle file wich contains a dict , \n",
    "# and it contains all our courpus words as keys and  model[word] as values\n",
    "# To use this code-snippet, download \"GoogleNews-vectors-negative300.bin\" \n",
    "# from https://drive.google.com/file/d/0B7XkCwpI5KDYNlNUTTlSS21pQmM/edit\n",
    "# it's 1.9GB in size.\n",
    "\n",
    "\n",
    "# http://kavita-ganesan.com/gensim-word2vec-tutorial-starter-code/#.W17SRFAzZPY\n",
    "# you can comment this whole cell\n",
    "# or change these varible according to your need\n",
    "\n",
    "is_your_ram_gt_16g=False\n",
    "want_to_use_google_w2v = False\n",
    "want_to_train_w2v = True\n",
    "\n",
    "if want_to_train_w2v:\n",
    "    # min_count = 5 considers only words that occured atleast 5 times\n",
    "    w2v_model=Word2Vec(list_of_sentance,min_count=5,size=50, workers=4)\n",
    "    print(w2v_model.wv.most_similar('great'))\n",
    "    print('='*50)\n",
    "    print(w2v_model.wv.most_similar('worst'))\n",
    "    \n",
    "elif want_to_use_google_w2v and is_your_ram_gt_16g:\n",
    "    if os.path.isfile('GoogleNews-vectors-negative300.bin'):\n",
    "        w2v_model=KeyedVectors.load_word2vec_format('GoogleNews-vectors-negative300.bin', binary=True)\n",
    "        print(w2v_model.wv.most_similar('great'))\n",
    "        print(w2v_model.wv.most_similar('worst'))\n",
    "    else:\n",
    "        print(\"you don't have gogole's word2vec file, keep want_to_train_w2v = True, to train your own w2v \")"
   ]
  },
  {
   "cell_type": "code",
   "execution_count": 0,
   "metadata": {
    "colab": {},
    "colab_type": "code",
    "id": "teE01Qk2iWOj",
    "outputId": "f063436c-8b62-49d3-e093-723395e66ccd"
   },
   "outputs": [
    {
     "name": "stdout",
     "output_type": "stream",
     "text": [
      "number of words that occured minimum 5 times  3817\n",
      "sample words  ['product', 'available', 'course', 'total', 'pretty', 'stinky', 'right', 'nearby', 'used', 'ca', 'not', 'beat', 'great', 'received', 'shipment', 'could', 'hardly', 'wait', 'try', 'love', 'call', 'instead', 'removed', 'easily', 'daughter', 'designed', 'printed', 'use', 'car', 'windows', 'beautifully', 'shop', 'program', 'going', 'lot', 'fun', 'everywhere', 'like', 'tv', 'computer', 'really', 'good', 'idea', 'final', 'outstanding', 'window', 'everybody', 'asks', 'bought', 'made']\n"
     ]
    }
   ],
   "source": [
    "w2v_words = list(w2v_model.wv.vocab)\n",
    "print(\"number of words that occured minimum 5 times \",len(w2v_words))\n",
    "print(\"sample words \", w2v_words[0:50])"
   ]
  },
  {
   "cell_type": "markdown",
   "metadata": {
    "colab_type": "text",
    "id": "mUNnof40iWOl"
   },
   "source": [
    "## [4.4.1] Converting text into vectors using Avg W2V, TFIDF-W2V"
   ]
  },
  {
   "cell_type": "markdown",
   "metadata": {
    "colab_type": "text",
    "id": "heHLB_FCiWOm"
   },
   "source": [
    "#### [4.4.1.1] Avg W2v"
   ]
  },
  {
   "cell_type": "code",
   "execution_count": 0,
   "metadata": {
    "colab": {},
    "colab_type": "code",
    "id": "iCYoNRANiWOm",
    "outputId": "96ebb104-44d7-4b7d-aa45-62614bbfcf44"
   },
   "outputs": [
    {
     "name": "stderr",
     "output_type": "stream",
     "text": [
      "100%|████████████████████████████████████████████████████████████████████████████| 4986/4986 [00:03<00:00, 1330.47it/s]\n"
     ]
    },
    {
     "name": "stdout",
     "output_type": "stream",
     "text": [
      "4986\n",
      "50\n"
     ]
    }
   ],
   "source": [
    "# average Word2Vec\n",
    "# compute average word2vec for each review.\n",
    "sent_vectors = []; # the avg-w2v for each sentence/review is stored in this list\n",
    "for sent in tqdm(list_of_sentance): # for each review/sentence\n",
    "    sent_vec = np.zeros(50) # as word vectors are of zero length 50, you might need to change this to 300 if you use google's w2v\n",
    "    cnt_words =0; # num of words with a valid vector in the sentence/review\n",
    "    for word in sent: # for each word in a review/sentence\n",
    "        if word in w2v_words:\n",
    "            vec = w2v_model.wv[word]\n",
    "            sent_vec += vec\n",
    "            cnt_words += 1\n",
    "    if cnt_words != 0:\n",
    "        sent_vec /= cnt_words\n",
    "    sent_vectors.append(sent_vec)\n",
    "print(len(sent_vectors))\n",
    "print(len(sent_vectors[0]))"
   ]
  },
  {
   "cell_type": "markdown",
   "metadata": {
    "colab_type": "text",
    "id": "ylTn3LgiiWOo"
   },
   "source": [
    "#### [4.4.1.2] TFIDF weighted W2v"
   ]
  },
  {
   "cell_type": "code",
   "execution_count": 0,
   "metadata": {
    "colab": {},
    "colab_type": "code",
    "id": "XBxf_qKSiWOo"
   },
   "outputs": [],
   "source": [
    "# S = [\"abc def pqr\", \"def def def abc\", \"pqr pqr def\"]\n",
    "model = TfidfVectorizer()\n",
    "tf_idf_matrix = model.fit_transform(preprocessed_reviews)\n",
    "# we are converting a dictionary with word as a key, and the idf as a value\n",
    "dictionary = dict(zip(model.get_feature_names(), list(model.idf_)))"
   ]
  },
  {
   "cell_type": "code",
   "execution_count": 0,
   "metadata": {
    "colab": {},
    "colab_type": "code",
    "id": "5FHQMSyUiWOp",
    "outputId": "6b5b71be-e3f7-4933-cd74-f78fb703132d",
    "scrolled": true
   },
   "outputs": [
    {
     "name": "stderr",
     "output_type": "stream",
     "text": [
      "100%|█████████████████████████████████████████████████████████████████████████████| 4986/4986 [00:20<00:00, 245.63it/s]\n"
     ]
    }
   ],
   "source": [
    "# TF-IDF weighted Word2Vec\n",
    "tfidf_feat = model.get_feature_names() # tfidf words/col-names\n",
    "# final_tf_idf is the sparse matrix with row= sentence, col=word and cell_val = tfidf\n",
    "\n",
    "tfidf_sent_vectors = []; # the tfidf-w2v for each sentence/review is stored in this list\n",
    "row=0;\n",
    "for sent in tqdm(list_of_sentance): # for each review/sentence \n",
    "    sent_vec = np.zeros(50) # as word vectors are of zero length\n",
    "    weight_sum =0; # num of words with a valid vector in the sentence/review\n",
    "    for word in sent: # for each word in a review/sentence\n",
    "        if word in w2v_words and word in tfidf_feat:\n",
    "            vec = w2v_model.wv[word]\n",
    "#             tf_idf = tf_idf_matrix[row, tfidf_feat.index(word)]\n",
    "            # to reduce the computation we are \n",
    "            # dictionary[word] = idf value of word in whole courpus\n",
    "            # sent.count(word) = tf valeus of word in this review\n",
    "            tf_idf = dictionary[word]*(sent.count(word)/len(sent))\n",
    "            sent_vec += (vec * tf_idf)\n",
    "            weight_sum += tf_idf\n",
    "    if weight_sum != 0:\n",
    "        sent_vec /= weight_sum\n",
    "    tfidf_sent_vectors.append(sent_vec)\n",
    "    row += 1"
   ]
  },
  {
   "cell_type": "markdown",
   "metadata": {
    "colab_type": "text",
    "id": "IwObBT2UiWOr"
   },
   "source": [
    "# [5] Assignment 8: Decision Trees"
   ]
  },
  {
   "cell_type": "markdown",
   "metadata": {
    "colab_type": "text",
    "id": "k_mwmumRiWOr"
   },
   "source": [
    "<ol>\n",
    "    <li><strong>Apply Decision Trees on these feature sets</strong>\n",
    "        <ul>\n",
    "            <li><font color='red'>SET 1:</font>Review text, preprocessed one converted into vectors using (BOW)</li>\n",
    "            <li><font color='red'>SET 2:</font>Review text, preprocessed one converted into vectors using (TFIDF)</li>\n",
    "            <li><font color='red'>SET 3:</font>Review text, preprocessed one converted into vectors using (AVG W2v)</li>\n",
    "            <li><font color='red'>SET 4:</font>Review text, preprocessed one converted into vectors using (TFIDF W2v)</li>\n",
    "        </ul>\n",
    "    </li>\n",
    "    <br>\n",
    "    <li><strong>The hyper paramter tuning (best `depth` in range [1, 5, 10, 50, 100, 500, 100], and the best `min_samples_split` in range [5, 10, 100, 500])</strong>\n",
    "        <ul>\n",
    "    <li>Find the best hyper parameter which will give the maximum <a href='https://www.appliedaicourse.com/course/applied-ai-course-online/lessons/receiver-operating-characteristic-curve-roc-curve-and-auc-1/'>AUC</a> value</li>\n",
    "    <li>Find the best hyper paramter using k-fold cross validation or simple cross validation data</li>\n",
    "    <li>Use gridsearch cv or randomsearch cv or you can also write your own for loops to do this task of hyperparameter tuning</li>          \n",
    "        </ul>\n",
    "    </li>\n",
    "    <br>\n",
    "    <li><strong>Graphviz</strong>\n",
    "        <ul>\n",
    "    <li>Visualize your decision tree with Graphviz. It helps you to understand how a decision is being made, given a new vector.</li>\n",
    "    <li>Since feature names are not obtained from word2vec related models, visualize only BOW & TFIDF decision trees using Graphviz</li>\n",
    "    <li>Make sure to print the words in each node of the decision tree instead of printing its index.</li>\n",
    "    <li>Just for visualization purpose, limit max_depth to 2 or 3 and either embed the generated images of graphviz in your notebook, or directly upload them as .png files.</li>                \n",
    "        </ul>\n",
    "    </li>\n",
    "    <br>\n",
    "    <li><strong>Feature importance</strong>\n",
    "        <ul>\n",
    "    <li>Find the top 20 important features from both feature sets <font color='red'>Set 1</font> and <font color='red'>Set 2</font> using `feature_importances_` method of <a href='https://scikit-learn.org/stable/modules/generated/sklearn.tree.DecisionTreeClassifier.html'>Decision Tree Classifier</a> and print their corresponding feature names</li>\n",
    "        </ul>\n",
    "    </li>\n",
    "    <br>\n",
    "    <li><strong>Feature engineering</strong>\n",
    "        <ul>\n",
    "    <li>To increase the performance of your model, you can also experiment with with feature engineering like :</li>\n",
    "            <ul>\n",
    "            <li>Taking length of reviews as another feature.</li>\n",
    "            <li>Considering some features from review summary as well.</li>\n",
    "        </ul>\n",
    "        </ul>\n",
    "    </li>\n",
    "    <br>\n",
    "    <li><strong>Representation of results</strong>\n",
    "        <ul>\n",
    "    <li>You need to plot the performance of model both on train data and cross validation data for each hyper parameter, like shown in the figure.\n",
    "    <img src='train_cv_auc.JPG' width=300px></li>\n",
    "    <li>Once after you found the best hyper parameter, you need to train your model with it, and find the AUC on test data and plot the ROC curve on both train and test.\n",
    "    <img src='train_test_auc.JPG' width=300px></li>\n",
    "    <li>Along with plotting ROC curve, you need to print the <a href='https://www.appliedaicourse.com/course/applied-ai-course-online/lessons/confusion-matrix-tpr-fpr-fnr-tnr-1/'>confusion matrix</a> with predicted and original labels of test data points. Please visualize your confusion matrices using <a href='https://seaborn.pydata.org/generated/seaborn.heatmap.html'>seaborn heatmaps.\n",
    "    <img src='confusion_matrix.png' width=300px></li>\n",
    "        </ul>\n",
    "    </li>\n",
    "    <br>\n",
    "    <li><strong>Conclusion</strong>\n",
    "        <ul>\n",
    "    <li>You need to summarize the results at the end of the notebook, summarize it in the table format. To print out a table please refer to this prettytable library<a href='http://zetcode.com/python/prettytable/'>  link</a> \n",
    "        <img src='summary.JPG' width=400px>\n",
    "    </li>\n",
    "        </ul>\n",
    "</ol>"
   ]
  },
  {
   "cell_type": "markdown",
   "metadata": {
    "colab_type": "text",
    "id": "uqhvv_IiiWOs"
   },
   "source": [
    "<h4><font color='red'>Note: Data Leakage</font></h4>\n",
    "\n",
    "1. There will be an issue of data-leakage if you vectorize the entire data and then split it into train/cv/test.\n",
    "2. To avoid the issue of data-leakag, make sure to split your data first and then vectorize it. \n",
    "3. While vectorizing your data, apply the method fit_transform() on you train data, and apply the method transform() on cv/test data.\n",
    "4. For more details please go through this <a href='https://soundcloud.com/applied-ai-course/leakage-bow-and-tfidf'>link.</a>"
   ]
  },
  {
   "cell_type": "markdown",
   "metadata": {
    "colab_type": "text",
    "id": "ayLYlocviWOs"
   },
   "source": [
    "# Applying Decision Trees"
   ]
  },
  {
   "cell_type": "markdown",
   "metadata": {
    "colab_type": "text",
    "id": "fvKQwJMWiWOt"
   },
   "source": [
    "## [5.1] Applying Decision Trees on BOW,<font color='red'> SET 1</font>"
   ]
  },
  {
   "cell_type": "markdown",
   "metadata": {},
   "source": [
    "#### Randomly Sampling 40k Datapoints out of whole dataset"
   ]
  },
  {
   "cell_type": "code",
   "execution_count": 27,
   "metadata": {},
   "outputs": [
    {
     "name": "stdout",
     "output_type": "stream",
     "text": [
      "(40000, 11)\n"
     ]
    }
   ],
   "source": [
    "#randomly sampling 40k datapoints without repetition\n",
    "my_final = time_sorted_data.take(np.random.permutation(len(final))[:40000])\n",
    "print(my_final.shape)\n",
    "\n",
    "x = my_final['cleanedText'].values\n",
    "y = my_final['Score']\n",
    "\n",
    "#Split the dataset into train,test\n",
    "X_train, X_test, Y_train, Y_test = train_test_split(x, y, test_size=0.3, random_state=0)"
   ]
  },
  {
   "cell_type": "code",
   "execution_count": 28,
   "metadata": {
    "colab": {},
    "colab_type": "code",
    "id": "vnSi4W-iiWOt"
   },
   "outputs": [
    {
     "name": "stdout",
     "output_type": "stream",
     "text": [
      "the type of count vectorizer  <class 'scipy.sparse.csr.csr_matrix'>\n",
      "the shape of out text BOW vectorizer  (28000, 2002)\n",
      "the number of unique words including both unigrams and bigrams  2002\n"
     ]
    }
   ],
   "source": [
    "# Please write all the code with proper documentation\n",
    "#Bow\n",
    "count_vect = CountVectorizer(min_df =50)\n",
    "X_train_vec = count_vect.fit_transform(X_train)\n",
    "X_test_vec = count_vect.transform(X_test)\n",
    "print(\"the type of count vectorizer \",type(X_train_vec))\n",
    "print(\"the shape of out text BOW vectorizer \",X_train_vec.get_shape())\n",
    "print(\"the number of unique words including both unigrams and bigrams \", X_train_vec.get_shape()[1])"
   ]
  },
  {
   "cell_type": "code",
   "execution_count": 29,
   "metadata": {},
   "outputs": [],
   "source": [
    "#Standardizing\n",
    "import warnings \n",
    "warnings.filterwarnings(\"ignore\")\n",
    "sc = StandardScaler(with_mean=False)\n",
    "X_train_vec_standardized = sc.fit_transform(X_train_vec)\n",
    "X_test_vec_standardized = sc.transform(X_test_vec)"
   ]
  },
  {
   "cell_type": "markdown",
   "metadata": {},
   "source": [
    "#### GridSearchCV (Decision Tree BOW)"
   ]
  },
  {
   "cell_type": "code",
   "execution_count": 43,
   "metadata": {},
   "outputs": [
    {
     "name": "stdout",
     "output_type": "stream",
     "text": [
      "Model with best parameters :\n",
      " DecisionTreeClassifier(class_weight=None, criterion='gini', max_depth=10,\n",
      "            max_features=None, max_leaf_nodes=None,\n",
      "            min_impurity_decrease=0.0, min_impurity_split=None,\n",
      "            min_samples_leaf=1, min_samples_split=2,\n",
      "            min_weight_fraction_leaf=0.0, presort=False, random_state=None,\n",
      "            splitter='best')\n",
      "Accuracy of the model :  0.741274377497\n",
      "The optimal value of depth is : 10\n"
     ]
    }
   ],
   "source": [
    "import warnings \n",
    "warnings.filterwarnings(\"ignore\")\n",
    "from sklearn.metrics import f1_score\n",
    "from sklearn.metrics import accuracy_score\n",
    "from sklearn.metrics import precision_score\n",
    "from sklearn.metrics import f1_score\n",
    "from sklearn.metrics import recall_score\n",
    "from sklearn.model_selection import GridSearchCV, RandomizedSearchCV\n",
    "from scipy import *\n",
    "from scipy.sparse import *\n",
    "from scipy.stats import uniform\n",
    "from prettytable import PrettyTable\n",
    "\n",
    "\n",
    "Depths = [1,5,10,50,100,500,1000]\n",
    "min_samples = [2,5,10,15,100,500]\n",
    "\n",
    "param_grid = {'max_depth': Depths}\n",
    "model = GridSearchCV(DecisionTreeClassifier(), param_grid, scoring = 'roc_auc', cv=3, n_jobs= -1, pre_dispatch=2)\n",
    "model.fit(X_train_vec_standardized, Y_train)\n",
    "print(\"Model with best parameters :\\n\", model.best_estimator_)\n",
    "print(\"Accuracy of the model : \",model.score(X_test_vec_standardized, Y_test))\n",
    "\n",
    "#Cross-Validation Errors\n",
    "cv_errors = [1-i for i in model.cv_results_['mean_test_score']]\n",
    "training_scores = [1-i for i in model.cv_results_['mean_train_score']]\n",
    "\n",
    "# Optimal value of depth\n",
    "optimal_depth = model.best_estimator_.max_depth\n",
    "print(\"The optimal value of depth is :\",optimal_depth)\n",
    "\n",
    "#DecisionTreeClaasifier with Optimal depth\n",
    "dt = DecisionTreeClassifier(max_depth=optimal_depth)\n",
    "dt.fit(X_train_vec_standardized, Y_train)\n",
    "predict = dt.predict(X_test_vec_standardized)\n",
    "pred_prob = dt.predict_proba(X_test_vec_standardized)[:,1]\n",
    "\n",
    "\n",
    "#Variables will be used in conclusion part of prettytable\n",
    "bow_depth = optimal_depth\n",
    "bow_train_acc = model.score(X_train_vec_standardized, Y_train) * 100\n",
    "bow_test_acc = accuracy_score(Y_test, predict) * 100"
   ]
  },
  {
   "cell_type": "code",
   "execution_count": 34,
   "metadata": {},
   "outputs": [
    {
     "data": {
      "image/png": "[encoded data removed]",
      "text/plain": [
       "<Figure size 432x288 with 1 Axes>"
      ]
     },
     "metadata": {
      "needs_background": "light"
     },
     "output_type": "display_data"
    }
   ],
   "source": [
    "#Plot for Cross-Validation Error Vs Depth Graph\n",
    "plt.plot(Depths, cv_errors, 'r')\n",
    "plt.plot(Depths, training_scores, 'b')\n",
    "plt.xlabel('Max Depth', size=12)\n",
    "plt.ylabel('AUC', size=12)\n",
    "plt.title('AUC VS Depth Plot', size=12)\n",
    "plt.grid()\n",
    "plt.show()"
   ]
  },
  {
   "cell_type": "code",
   "execution_count": 46,
   "metadata": {},
   "outputs": [
    {
     "data": {
      "image/png": "[encoded data removed]",
      "text/plain": [
       "<Figure size 432x288 with 1 Axes>"
      ]
     },
     "metadata": {
      "needs_background": "light"
     },
     "output_type": "display_data"
    }
   ],
   "source": [
    "from cycler import cycler\n",
    "fpr, tpr, threshold = metrics.roc_curve(Y_test, dt.predict_proba(X_test_vec_standardized)[:,1])\n",
    "fpr2, tpr2, threshold2 = metrics.roc_curve(Y_train, dt.predict_proba(X_train_vec_standardized)[:,1])\n",
    "\n",
    "roc_auc = metrics.auc(fpr, tpr)\n",
    "roc_auc2 = metrics.auc(fpr2, tpr2)\n",
    "\n",
    "# method I: plt\n",
    "import matplotlib.pyplot as plt\n",
    "f, ax = plt.subplots()\n",
    "plt.title('Receiver Operating Characteristic Curve')\n",
    "cy = cycler('color', ['red', 'green', 'blue'])\n",
    "ax.set_prop_cycle(cy)\n",
    "ax.plot(fpr, tpr, label = 'AUC = %0.2f' % roc_auc)\n",
    "ax.plot(fpr2, tpr2, label = 'AUC = %0.2f' % roc_auc2)\n",
    "plt.legend(['TEST Data', 'TRAIN Data'],loc = 'lower right')\n",
    "\n",
    "ax.plot([0, 1], [0, 1])\n",
    "plt.xlim([0, 1])\n",
    "plt.ylim([0, 1])\n",
    "plt.ylabel('True Positive Rate')\n",
    "plt.xlabel('False Positive Rate')\n",
    "plt.show()"
   ]
  },
  {
   "cell_type": "code",
   "execution_count": 41,
   "metadata": {},
   "outputs": [
    {
     "name": "stdout",
     "output_type": "stream",
     "text": [
      "Train Confusion Matrix\n",
      "[[ 1338  3167]\n",
      " [  250 23245]]\n",
      "Test Confusion Matrix\n",
      "[[ 452 1456]\n",
      " [ 222 9870]]\n"
     ]
    },
    {
     "data": {
      "image/png": "[encoded data removed]",
      "text/plain": [
       "<Figure size 432x288 with 2 Axes>"
      ]
     },
     "metadata": {
      "needs_background": "light"
     },
     "output_type": "display_data"
    }
   ],
   "source": [
    "#Confusion Matrix\n",
    "print(\"Train Confusion Matrix\")\n",
    "print(confusion_matrix(Y_train, dt.predict(X_train_vec_standardized)))\n",
    "print(\"Test Confusion Matrix\")\n",
    "print(confusion_matrix(Y_test, dt.predict(X_test_vec_standardized)))\n",
    "cm_test=confusion_matrix(Y_test, dt.predict(X_test_vec_standardized))\n",
    "class_label = [\"negative\", \"positive\"]\n",
    "df_cm = pd.DataFrame(cm_test, index=class_label, columns=class_label)\n",
    "sns.heatmap(df_cm, annot = True, fmt = \"d\")\n",
    "plt.title(\"Confusion Matrix\")\n",
    "plt.xlabel(\"Predicted Label\")\n",
    "plt.ylabel(\"True Label\")\n",
    "plt.show()"
   ]
  },
  {
   "cell_type": "markdown",
   "metadata": {
    "colab_type": "text",
    "id": "jm4vkPwMiWOu"
   },
   "source": [
    "### [5.1.1] Top 20 important features from<font color='red'> SET 1</font>"
   ]
  },
  {
   "cell_type": "code",
   "execution_count": 35,
   "metadata": {},
   "outputs": [
    {
     "name": "stdout",
     "output_type": "stream",
     "text": [
      "disappoint\n",
      "great\n",
      "return\n",
      "wast\n",
      "worst\n",
      "love\n",
      "threw\n",
      "terribl\n",
      "horribl\n",
      "best\n",
      "money\n",
      "perfect\n",
      "wont\n",
      "delici\n",
      "unfortun\n",
      "bad\n",
      "stale\n",
      "aw\n",
      "food\n",
      "littl\n"
     ]
    }
   ],
   "source": [
    "# Please write all the code with proper documentation\n",
    "all_features = count_vect.get_feature_names()\n",
    "\n",
    "feat=dt.feature_importances_\n",
    "features=np.argsort(feat)[::-1]\n",
    "for i in features[0:20]:\n",
    "    print(all_features[i])"
   ]
  },
  {
   "cell_type": "markdown",
   "metadata": {
    "colab_type": "text",
    "id": "7JyitDTTiWOx"
   },
   "source": [
    "### [5.1.2] Graphviz visualization of Decision Tree on BOW,<font color='red'> SET 1</font>"
   ]
  },
  {
   "cell_type": "code",
   "execution_count": 39,
   "metadata": {},
   "outputs": [
    {
     "data": {
      "image/svg+xml": [
       "<?xml version=\"1.0\" encoding=\"UTF-8\" standalone=\"no\"?>\r\n",
       "<!DOCTYPE svg PUBLIC \"-//W3C//DTD SVG 1.1//EN\"\r\n",
       " \"http://www.w3.org/Graphics/SVG/1.1/DTD/svg11.dtd\">\r\n",
       "<!-- Generated by graphviz version 2.38.0 (20140413.2041)\r\n",
       " -->\r\n",
       "<!-- Title: Tree Pages: 1 -->\r\n",
       "<svg width=\"619pt\" height=\"356pt\"\r\n",
       " viewBox=\"0.00 0.00 619.00 356.00\" xmlns=\"http://www.w3.org/2000/svg\" xmlns:xlink=\"http://www.w3.org/1999/xlink\">\r\n",
       "<g id=\"graph0\" class=\"graph\" transform=\"scale(1 1) rotate(0) translate(4 352)\">\r\n",
       "<title>Tree</title>\r\n",
       "<polygon fill=\"white\" stroke=\"none\" points=\"-4,4 -4,-352 615,-352 615,4 -4,4\"/>\r\n",
       "<!-- 0 -->\r\n",
       "<g id=\"node1\" class=\"node\"><title>0</title>\r\n",
       "<polygon fill=\"#399de5\" fill-opacity=\"0.807843\" stroke=\"black\" points=\"384,-348 246,-348 246,-280 384,-280 384,-348\"/>\r\n",
       "<text text-anchor=\"middle\" x=\"315\" y=\"-332.8\" font-family=\"Times New Roman,serif\" font-size=\"14.00\">disappoint &lt;= 2.491</text>\r\n",
       "<text text-anchor=\"middle\" x=\"315\" y=\"-317.8\" font-family=\"Times New Roman,serif\" font-size=\"14.00\">gini = 0.27</text>\r\n",
       "<text text-anchor=\"middle\" x=\"315\" y=\"-302.8\" font-family=\"Times New Roman,serif\" font-size=\"14.00\">samples = 28000</text>\r\n",
       "<text text-anchor=\"middle\" x=\"315\" y=\"-287.8\" font-family=\"Times New Roman,serif\" font-size=\"14.00\">value = [4505, 23495]</text>\r\n",
       "</g>\r\n",
       "<!-- 1 -->\r\n",
       "<g id=\"node2\" class=\"node\"><title>1</title>\r\n",
       "<polygon fill=\"#399de5\" fill-opacity=\"0.827451\" stroke=\"black\" points=\"311,-244 173,-244 173,-176 311,-176 311,-244\"/>\r\n",
       "<text text-anchor=\"middle\" x=\"242\" y=\"-228.8\" font-family=\"Times New Roman,serif\" font-size=\"14.00\">great &lt;= 0.842</text>\r\n",
       "<text text-anchor=\"middle\" x=\"242\" y=\"-213.8\" font-family=\"Times New Roman,serif\" font-size=\"14.00\">gini = 0.251</text>\r\n",
       "<text text-anchor=\"middle\" x=\"242\" y=\"-198.8\" font-family=\"Times New Roman,serif\" font-size=\"14.00\">samples = 27014</text>\r\n",
       "<text text-anchor=\"middle\" x=\"242\" y=\"-183.8\" font-family=\"Times New Roman,serif\" font-size=\"14.00\">value = [3982, 23032]</text>\r\n",
       "</g>\r\n",
       "<!-- 0&#45;&gt;1 -->\r\n",
       "<g id=\"edge1\" class=\"edge\"><title>0&#45;&gt;1</title>\r\n",
       "<path fill=\"none\" stroke=\"black\" d=\"M291.299,-279.884C285.052,-271.154 278.231,-261.625 271.711,-252.514\"/>\r\n",
       "<polygon fill=\"black\" stroke=\"black\" points=\"274.498,-250.394 265.832,-244.299 268.806,-254.468 274.498,-250.394\"/>\r\n",
       "<text text-anchor=\"middle\" x=\"261.745\" y=\"-265.263\" font-family=\"Times New Roman,serif\" font-size=\"14.00\">True</text>\r\n",
       "</g>\r\n",
       "<!-- 222 -->\r\n",
       "<g id=\"node9\" class=\"node\"><title>222</title>\r\n",
       "<polygon fill=\"#e58139\" fill-opacity=\"0.113725\" stroke=\"black\" points=\"447,-244 329,-244 329,-176 447,-176 447,-244\"/>\r\n",
       "<text text-anchor=\"middle\" x=\"388\" y=\"-228.8\" font-family=\"Times New Roman,serif\" font-size=\"14.00\">wont &lt;= 2.606</text>\r\n",
       "<text text-anchor=\"middle\" x=\"388\" y=\"-213.8\" font-family=\"Times New Roman,serif\" font-size=\"14.00\">gini = 0.498</text>\r\n",
       "<text text-anchor=\"middle\" x=\"388\" y=\"-198.8\" font-family=\"Times New Roman,serif\" font-size=\"14.00\">samples = 986</text>\r\n",
       "<text text-anchor=\"middle\" x=\"388\" y=\"-183.8\" font-family=\"Times New Roman,serif\" font-size=\"14.00\">value = [523, 463]</text>\r\n",
       "</g>\r\n",
       "<!-- 0&#45;&gt;222 -->\r\n",
       "<g id=\"edge8\" class=\"edge\"><title>0&#45;&gt;222</title>\r\n",
       "<path fill=\"none\" stroke=\"black\" d=\"M338.701,-279.884C344.948,-271.154 351.769,-261.625 358.289,-252.514\"/>\r\n",
       "<polygon fill=\"black\" stroke=\"black\" points=\"361.194,-254.468 364.168,-244.299 355.502,-250.394 361.194,-254.468\"/>\r\n",
       "<text text-anchor=\"middle\" x=\"368.255\" y=\"-265.263\" font-family=\"Times New Roman,serif\" font-size=\"14.00\">False</text>\r\n",
       "</g>\r\n",
       "<!-- 2 -->\r\n",
       "<g id=\"node3\" class=\"node\"><title>2</title>\r\n",
       "<polygon fill=\"#399de5\" fill-opacity=\"0.780392\" stroke=\"black\" points=\"164,-140 26,-140 26,-72 164,-72 164,-140\"/>\r\n",
       "<text text-anchor=\"middle\" x=\"95\" y=\"-124.8\" font-family=\"Times New Roman,serif\" font-size=\"14.00\">return &lt;= 3.448</text>\r\n",
       "<text text-anchor=\"middle\" x=\"95\" y=\"-109.8\" font-family=\"Times New Roman,serif\" font-size=\"14.00\">gini = 0.296</text>\r\n",
       "<text text-anchor=\"middle\" x=\"95\" y=\"-94.8\" font-family=\"Times New Roman,serif\" font-size=\"14.00\">samples = 20266</text>\r\n",
       "<text text-anchor=\"middle\" x=\"95\" y=\"-79.8\" font-family=\"Times New Roman,serif\" font-size=\"14.00\">value = [3657, 16609]</text>\r\n",
       "</g>\r\n",
       "<!-- 1&#45;&gt;2 -->\r\n",
       "<g id=\"edge2\" class=\"edge\"><title>1&#45;&gt;2</title>\r\n",
       "<path fill=\"none\" stroke=\"black\" d=\"M194.273,-175.884C180.468,-166.304 165.273,-155.761 151.011,-145.864\"/>\r\n",
       "<polygon fill=\"black\" stroke=\"black\" points=\"152.95,-142.95 142.739,-140.125 148.959,-148.701 152.95,-142.95\"/>\r\n",
       "</g>\r\n",
       "<!-- 147 -->\r\n",
       "<g id=\"node6\" class=\"node\"><title>147</title>\r\n",
       "<polygon fill=\"#399de5\" fill-opacity=\"0.949020\" stroke=\"black\" points=\"307.5,-140 182.5,-140 182.5,-72 307.5,-72 307.5,-140\"/>\r\n",
       "<text text-anchor=\"middle\" x=\"245\" y=\"-124.8\" font-family=\"Times New Roman,serif\" font-size=\"14.00\">unfortun &lt;= 4.231</text>\r\n",
       "<text text-anchor=\"middle\" x=\"245\" y=\"-109.8\" font-family=\"Times New Roman,serif\" font-size=\"14.00\">gini = 0.092</text>\r\n",
       "<text text-anchor=\"middle\" x=\"245\" y=\"-94.8\" font-family=\"Times New Roman,serif\" font-size=\"14.00\">samples = 6748</text>\r\n",
       "<text text-anchor=\"middle\" x=\"245\" y=\"-79.8\" font-family=\"Times New Roman,serif\" font-size=\"14.00\">value = [325, 6423]</text>\r\n",
       "</g>\r\n",
       "<!-- 1&#45;&gt;147 -->\r\n",
       "<g id=\"edge5\" class=\"edge\"><title>1&#45;&gt;147</title>\r\n",
       "<path fill=\"none\" stroke=\"black\" d=\"M242.974,-175.884C243.212,-167.778 243.471,-158.982 243.721,-150.472\"/>\r\n",
       "<polygon fill=\"black\" stroke=\"black\" points=\"247.225,-150.398 244.021,-140.299 240.228,-150.192 247.225,-150.398\"/>\r\n",
       "</g>\r\n",
       "<!-- 3 -->\r\n",
       "<g id=\"node4\" class=\"node\"><title>3</title>\r\n",
       "<polygon fill=\"#c0c0c0\" stroke=\"black\" points=\"54,-36 0,-36 0,-0 54,-0 54,-36\"/>\r\n",
       "<text text-anchor=\"middle\" x=\"27\" y=\"-14.3\" font-family=\"Times New Roman,serif\" font-size=\"14.00\">(...)</text>\r\n",
       "</g>\r\n",
       "<!-- 2&#45;&gt;3 -->\r\n",
       "<g id=\"edge3\" class=\"edge\"><title>2&#45;&gt;3</title>\r\n",
       "<path fill=\"none\" stroke=\"black\" d=\"M68.9039,-71.9961C61.6379,-62.8067 53.862,-52.9725 47.0058,-44.3014\"/>\r\n",
       "<polygon fill=\"black\" stroke=\"black\" points=\"49.7087,-42.0767 40.7608,-36.4034 44.2177,-46.4184 49.7087,-42.0767\"/>\r\n",
       "</g>\r\n",
       "<!-- 110 -->\r\n",
       "<g id=\"node5\" class=\"node\"><title>110</title>\r\n",
       "<polygon fill=\"#c0c0c0\" stroke=\"black\" points=\"126,-36 72,-36 72,-0 126,-0 126,-36\"/>\r\n",
       "<text text-anchor=\"middle\" x=\"99\" y=\"-14.3\" font-family=\"Times New Roman,serif\" font-size=\"14.00\">(...)</text>\r\n",
       "</g>\r\n",
       "<!-- 2&#45;&gt;110 -->\r\n",
       "<g id=\"edge4\" class=\"edge\"><title>2&#45;&gt;110</title>\r\n",
       "<path fill=\"none\" stroke=\"black\" d=\"M96.5351,-71.9961C96.9272,-63.5646 97.3446,-54.5902 97.7223,-46.4696\"/>\r\n",
       "<polygon fill=\"black\" stroke=\"black\" points=\"101.222,-46.5552 98.1905,-36.4034 94.2296,-46.2299 101.222,-46.5552\"/>\r\n",
       "</g>\r\n",
       "<!-- 148 -->\r\n",
       "<g id=\"node7\" class=\"node\"><title>148</title>\r\n",
       "<polygon fill=\"#c0c0c0\" stroke=\"black\" points=\"228,-36 174,-36 174,-0 228,-0 228,-36\"/>\r\n",
       "<text text-anchor=\"middle\" x=\"201\" y=\"-14.3\" font-family=\"Times New Roman,serif\" font-size=\"14.00\">(...)</text>\r\n",
       "</g>\r\n",
       "<!-- 147&#45;&gt;148 -->\r\n",
       "<g id=\"edge6\" class=\"edge\"><title>147&#45;&gt;148</title>\r\n",
       "<path fill=\"none\" stroke=\"black\" d=\"M228.114,-71.9961C223.607,-63.1856 218.796,-53.7825 214.497,-45.38\"/>\r\n",
       "<polygon fill=\"black\" stroke=\"black\" points=\"217.575,-43.7117 209.904,-36.4034 211.343,-46.9001 217.575,-43.7117\"/>\r\n",
       "</g>\r\n",
       "<!-- 199 -->\r\n",
       "<g id=\"node8\" class=\"node\"><title>199</title>\r\n",
       "<polygon fill=\"#c0c0c0\" stroke=\"black\" points=\"300,-36 246,-36 246,-0 300,-0 300,-36\"/>\r\n",
       "<text text-anchor=\"middle\" x=\"273\" y=\"-14.3\" font-family=\"Times New Roman,serif\" font-size=\"14.00\">(...)</text>\r\n",
       "</g>\r\n",
       "<!-- 147&#45;&gt;199 -->\r\n",
       "<g id=\"edge7\" class=\"edge\"><title>147&#45;&gt;199</title>\r\n",
       "<path fill=\"none\" stroke=\"black\" d=\"M255.745,-71.9961C258.552,-63.3751 261.544,-54.1866 264.234,-45.9234\"/>\r\n",
       "<polygon fill=\"black\" stroke=\"black\" points=\"267.566,-46.9957 267.334,-36.4034 260.91,-44.8285 267.566,-46.9957\"/>\r\n",
       "</g>\r\n",
       "<!-- 223 -->\r\n",
       "<g id=\"node10\" class=\"node\"><title>223</title>\r\n",
       "<polygon fill=\"#e58139\" fill-opacity=\"0.247059\" stroke=\"black\" points=\"446,-140 328,-140 328,-72 446,-72 446,-140\"/>\r\n",
       "<text text-anchor=\"middle\" x=\"387\" y=\"-124.8\" font-family=\"Times New Roman,serif\" font-size=\"14.00\">perfect &lt;= 1.728</text>\r\n",
       "<text text-anchor=\"middle\" x=\"387\" y=\"-109.8\" font-family=\"Times New Roman,serif\" font-size=\"14.00\">gini = 0.49</text>\r\n",
       "<text text-anchor=\"middle\" x=\"387\" y=\"-94.8\" font-family=\"Times New Roman,serif\" font-size=\"14.00\">samples = 871</text>\r\n",
       "<text text-anchor=\"middle\" x=\"387\" y=\"-79.8\" font-family=\"Times New Roman,serif\" font-size=\"14.00\">value = [497, 374]</text>\r\n",
       "</g>\r\n",
       "<!-- 222&#45;&gt;223 -->\r\n",
       "<g id=\"edge9\" class=\"edge\"><title>222&#45;&gt;223</title>\r\n",
       "<path fill=\"none\" stroke=\"black\" d=\"M387.675,-175.884C387.596,-167.778 387.51,-158.982 387.426,-150.472\"/>\r\n",
       "<polygon fill=\"black\" stroke=\"black\" points=\"390.924,-150.265 387.326,-140.299 383.925,-150.333 390.924,-150.265\"/>\r\n",
       "</g>\r\n",
       "<!-- 300 -->\r\n",
       "<g id=\"node13\" class=\"node\"><title>300</title>\r\n",
       "<polygon fill=\"#399de5\" fill-opacity=\"0.709804\" stroke=\"black\" points=\"568,-140 464,-140 464,-72 568,-72 568,-140\"/>\r\n",
       "<text text-anchor=\"middle\" x=\"516\" y=\"-124.8\" font-family=\"Times New Roman,serif\" font-size=\"14.00\">textur &lt;= 2.132</text>\r\n",
       "<text text-anchor=\"middle\" x=\"516\" y=\"-109.8\" font-family=\"Times New Roman,serif\" font-size=\"14.00\">gini = 0.35</text>\r\n",
       "<text text-anchor=\"middle\" x=\"516\" y=\"-94.8\" font-family=\"Times New Roman,serif\" font-size=\"14.00\">samples = 115</text>\r\n",
       "<text text-anchor=\"middle\" x=\"516\" y=\"-79.8\" font-family=\"Times New Roman,serif\" font-size=\"14.00\">value = [26, 89]</text>\r\n",
       "</g>\r\n",
       "<!-- 222&#45;&gt;300 -->\r\n",
       "<g id=\"edge12\" class=\"edge\"><title>222&#45;&gt;300</title>\r\n",
       "<path fill=\"none\" stroke=\"black\" d=\"M429.558,-175.884C441.295,-166.531 454.184,-156.259 466.346,-146.568\"/>\r\n",
       "<polygon fill=\"black\" stroke=\"black\" points=\"468.573,-149.269 474.213,-140.299 464.211,-143.794 468.573,-149.269\"/>\r\n",
       "</g>\r\n",
       "<!-- 224 -->\r\n",
       "<g id=\"node11\" class=\"node\"><title>224</title>\r\n",
       "<polygon fill=\"#c0c0c0\" stroke=\"black\" points=\"387,-36 333,-36 333,-0 387,-0 387,-36\"/>\r\n",
       "<text text-anchor=\"middle\" x=\"360\" y=\"-14.3\" font-family=\"Times New Roman,serif\" font-size=\"14.00\">(...)</text>\r\n",
       "</g>\r\n",
       "<!-- 223&#45;&gt;224 -->\r\n",
       "<g id=\"edge10\" class=\"edge\"><title>223&#45;&gt;224</title>\r\n",
       "<path fill=\"none\" stroke=\"black\" d=\"M376.638,-71.9961C373.961,-63.4699 371.11,-54.3885 368.538,-46.1962\"/>\r\n",
       "<polygon fill=\"black\" stroke=\"black\" points=\"371.799,-44.8958 365.464,-36.4034 365.12,-46.9926 371.799,-44.8958\"/>\r\n",
       "</g>\r\n",
       "<!-- 285 -->\r\n",
       "<g id=\"node12\" class=\"node\"><title>285</title>\r\n",
       "<polygon fill=\"#c0c0c0\" stroke=\"black\" points=\"459,-36 405,-36 405,-0 459,-0 459,-36\"/>\r\n",
       "<text text-anchor=\"middle\" x=\"432\" y=\"-14.3\" font-family=\"Times New Roman,serif\" font-size=\"14.00\">(...)</text>\r\n",
       "</g>\r\n",
       "<!-- 223&#45;&gt;285 -->\r\n",
       "<g id=\"edge11\" class=\"edge\"><title>223&#45;&gt;285</title>\r\n",
       "<path fill=\"none\" stroke=\"black\" d=\"M404.269,-71.9961C408.88,-63.1856 413.8,-53.7825 418.197,-45.38\"/>\r\n",
       "<polygon fill=\"black\" stroke=\"black\" points=\"421.358,-46.8864 422.894,-36.4034 415.156,-43.641 421.358,-46.8864\"/>\r\n",
       "</g>\r\n",
       "<!-- 301 -->\r\n",
       "<g id=\"node14\" class=\"node\"><title>301</title>\r\n",
       "<polygon fill=\"#c0c0c0\" stroke=\"black\" points=\"539,-36 485,-36 485,-0 539,-0 539,-36\"/>\r\n",
       "<text text-anchor=\"middle\" x=\"512\" y=\"-14.3\" font-family=\"Times New Roman,serif\" font-size=\"14.00\">(...)</text>\r\n",
       "</g>\r\n",
       "<!-- 300&#45;&gt;301 -->\r\n",
       "<g id=\"edge13\" class=\"edge\"><title>300&#45;&gt;301</title>\r\n",
       "<path fill=\"none\" stroke=\"black\" d=\"M514.465,-71.9961C514.073,-63.5646 513.655,-54.5902 513.278,-46.4696\"/>\r\n",
       "<polygon fill=\"black\" stroke=\"black\" points=\"516.77,-46.2299 512.809,-36.4034 509.778,-46.5552 516.77,-46.2299\"/>\r\n",
       "</g>\r\n",
       "<!-- 320 -->\r\n",
       "<g id=\"node15\" class=\"node\"><title>320</title>\r\n",
       "<polygon fill=\"#c0c0c0\" stroke=\"black\" points=\"611,-36 557,-36 557,-0 611,-0 611,-36\"/>\r\n",
       "<text text-anchor=\"middle\" x=\"584\" y=\"-14.3\" font-family=\"Times New Roman,serif\" font-size=\"14.00\">(...)</text>\r\n",
       "</g>\r\n",
       "<!-- 300&#45;&gt;320 -->\r\n",
       "<g id=\"edge14\" class=\"edge\"><title>300&#45;&gt;320</title>\r\n",
       "<path fill=\"none\" stroke=\"black\" d=\"M542.096,-71.9961C549.362,-62.8067 557.138,-52.9725 563.994,-44.3014\"/>\r\n",
       "<polygon fill=\"black\" stroke=\"black\" points=\"566.782,-46.4184 570.239,-36.4034 561.291,-42.0767 566.782,-46.4184\"/>\r\n",
       "</g>\r\n",
       "</g>\r\n",
       "</svg>\r\n"
      ],
      "text/plain": [
       "<graphviz.files.Source at 0x23e0ae3e0f0>"
      ]
     },
     "execution_count": 39,
     "metadata": {},
     "output_type": "execute_result"
    }
   ],
   "source": [
    "from sklearn.tree import DecisionTreeClassifier, export_graphviz\n",
    "import graphviz\n",
    "export_graphviz(dt, out_file=\"mytree.dot\", feature_names = count_vect.get_feature_names(), max_depth = 2, filled = True)\n",
    "with open(\"mytree.dot\") as f:\n",
    "    dot_graph = f.read()\n",
    "graphviz.Source(dot_graph)"
   ]
  },
  {
   "cell_type": "markdown",
   "metadata": {},
   "source": [
    "#### Observation:\n",
    "* From the above plot of CV Error Vs Depth, we can infer that as depth increasing Erro is aslo increasing.\n",
    "* AS we train our model on 40k datapoints , depth of tree is 10.\n",
    "* Depth of tree is low means it is underfitting.\n",
    "* Using Graphviz of sklearn library implemented visual Decision Tree of each Node, where interpretability is very high."
   ]
  },
  {
   "cell_type": "markdown",
   "metadata": {
    "colab_type": "text",
    "id": "5przjMTbiWOz"
   },
   "source": [
    "## [5.2] Applying Decision Trees on TFIDF,<font color='red'> SET 2</font>"
   ]
  },
  {
   "cell_type": "code",
   "execution_count": 42,
   "metadata": {},
   "outputs": [
    {
     "name": "stdout",
     "output_type": "stream",
     "text": [
      "the type of count vectorizer  <class 'scipy.sparse.csr.csr_matrix'>\n",
      "the shape of out text TFIDF vectorizer  (28000, 1994)\n",
      "the number of unique words  1994\n"
     ]
    }
   ],
   "source": [
    "tf_idf_vect = TfidfVectorizer(min_df=50)\n",
    "X_train_vec = tf_idf_vect.fit_transform(X_train)\n",
    "X_test_vec = tf_idf_vect.transform(X_test)\n",
    "print(\"the type of count vectorizer \",type(X_train_vec))\n",
    "print(\"the shape of out text TFIDF vectorizer \",X_train_vec.get_shape())\n",
    "print(\"the number of unique words \", X_train_vec.get_shape()[1])\n",
    "\n",
    "#Standardizing\n",
    "sc = StandardScaler(with_mean=False)\n",
    "X_train_vec_standardized = sc.fit_transform(X_train_vec)\n",
    "X_test_vec_standardized = sc.transform(X_test_vec)"
   ]
  },
  {
   "cell_type": "code",
   "execution_count": 47,
   "metadata": {
    "colab": {},
    "colab_type": "code",
    "id": "Bm3mfI7miWOz"
   },
   "outputs": [
    {
     "name": "stdout",
     "output_type": "stream",
     "text": [
      "Model with best parameters :\n",
      " DecisionTreeClassifier(class_weight=None, criterion='gini', max_depth=10,\n",
      "            max_features=None, max_leaf_nodes=None,\n",
      "            min_impurity_decrease=0.0, min_impurity_split=None,\n",
      "            min_samples_leaf=1, min_samples_split=2,\n",
      "            min_weight_fraction_leaf=0.0, presort=False, random_state=None,\n",
      "            splitter='best')\n",
      "Accuracy of the model :  0.736835900185\n",
      "The optimal value of depth is : 10\n"
     ]
    }
   ],
   "source": [
    "# Please write all the code with proper documentation\n",
    "Depths = [1,5,10,50,100,500,1000]\n",
    "min_samples = [2,5,10,15,100,500]\n",
    "\n",
    "param_grid = {'max_depth': Depths}\n",
    "model = GridSearchCV(DecisionTreeClassifier(), param_grid, scoring = 'roc_auc', cv=3, n_jobs= -1, pre_dispatch=2)\n",
    "model.fit(X_train_vec_standardized, Y_train)\n",
    "print(\"Model with best parameters :\\n\", model.best_estimator_)\n",
    "print(\"Accuracy of the model : \",model.score(X_test_vec_standardized, Y_test))\n",
    "\n",
    "#Cross-Validation Errors\n",
    "cv_errors = [1-i for i in model.cv_results_['mean_test_score']]\n",
    "training_scores = [1-i for i in model.cv_results_['mean_train_score']]\n",
    "\n",
    "# Optimal value of depth\n",
    "optimal_depth = model.best_estimator_.max_depth\n",
    "print(\"The optimal value of depth is :\",optimal_depth)\n",
    "\n",
    "#DecisionTreeClaasifier with Optimal depth\n",
    "dt = DecisionTreeClassifier(max_depth=optimal_depth)\n",
    "dt.fit(X_train_vec_standardized, Y_train)\n",
    "predict = dt.predict(X_test_vec_standardized)\n",
    "pred_prob = dt.predict_proba(X_test_vec_standardized)[:,1]\n",
    "\n",
    "#Variables will be used in conclusion part of prettytable\n",
    "tfidf_depth = optimal_depth\n",
    "tfidf_train_acc = model.score(X_train_vec_standardized, Y_train) * 100\n",
    "tfidf_test_acc = accuracy_score(Y_test, predict) * 100"
   ]
  },
  {
   "cell_type": "code",
   "execution_count": 48,
   "metadata": {},
   "outputs": [
    {
     "data": {
      "image/png": "[encoded data removed]",
      "text/plain": [
       "<Figure size 432x288 with 1 Axes>"
      ]
     },
     "metadata": {
      "needs_background": "light"
     },
     "output_type": "display_data"
    }
   ],
   "source": [
    "#Plot for Cross-Validation Error Vs Depth Graph\n",
    "plt.plot(Depths, cv_errors, 'r')\n",
    "plt.plot(Depths, training_scores, 'b')\n",
    "plt.xlabel('Max Depth', size=12)\n",
    "plt.ylabel('AUC', size=12)\n",
    "plt.title('AUC VS Depth Plot', size=12)\n",
    "plt.grid()\n",
    "plt.show()"
   ]
  },
  {
   "cell_type": "code",
   "execution_count": 49,
   "metadata": {},
   "outputs": [
    {
     "data": {
      "image/png": "[encoded data removed]",
      "text/plain": [
       "<Figure size 432x288 with 1 Axes>"
      ]
     },
     "metadata": {
      "needs_background": "light"
     },
     "output_type": "display_data"
    }
   ],
   "source": [
    "from cycler import cycler\n",
    "fpr, tpr, threshold = metrics.roc_curve(Y_test, dt.predict_proba(X_test_vec_standardized)[:,1])\n",
    "fpr2, tpr2, threshold2 = metrics.roc_curve(Y_train, dt.predict_proba(X_train_vec_standardized)[:,1])\n",
    "\n",
    "roc_auc = metrics.auc(fpr, tpr)\n",
    "roc_auc2 = metrics.auc(fpr2, tpr2)\n",
    "\n",
    "# method I: plt\n",
    "import matplotlib.pyplot as plt\n",
    "f, ax = plt.subplots()\n",
    "plt.title('Receiver Operating Characteristic Curve')\n",
    "cy = cycler('color', ['red', 'green', 'blue'])\n",
    "ax.set_prop_cycle(cy)\n",
    "ax.plot(fpr, tpr, label = 'AUC = %0.2f' % roc_auc)\n",
    "ax.plot(fpr2, tpr2, label = 'AUC = %0.2f' % roc_auc2)\n",
    "plt.legend(['TEST Data', 'TRAIN Data'],loc = 'lower right')\n",
    "\n",
    "ax.plot([0, 1], [0, 1])\n",
    "plt.xlim([0, 1])\n",
    "plt.ylim([0, 1])\n",
    "plt.ylabel('True Positive Rate')\n",
    "plt.xlabel('False Positive Rate')\n",
    "plt.show()"
   ]
  },
  {
   "cell_type": "code",
   "execution_count": 47,
   "metadata": {},
   "outputs": [
    {
     "name": "stdout",
     "output_type": "stream",
     "text": [
      "Train Confusion Matrix\n",
      "[[ 1298  3207]\n",
      " [  213 23282]]\n",
      "Test Confusion Matrix\n",
      "[[ 455 1453]\n",
      " [ 224 9868]]\n"
     ]
    },
    {
     "data": {
      "image/png": "[encoded data removed]",
      "text/plain": [
       "<Figure size 432x288 with 2 Axes>"
      ]
     },
     "metadata": {
      "needs_background": "light"
     },
     "output_type": "display_data"
    }
   ],
   "source": [
    "#Confusion Matrix\n",
    "print(\"Train Confusion Matrix\")\n",
    "print(confusion_matrix(Y_train, dt.predict(X_train_vec_standardized)))\n",
    "print(\"Test Confusion Matrix\")\n",
    "print(confusion_matrix(Y_test, dt.predict(X_test_vec_standardized)))\n",
    "cm_test=confusion_matrix(Y_test, dt.predict(X_test_vec_standardized))\n",
    "class_label = [\"negative\", \"positive\"]\n",
    "df_cm = pd.DataFrame(cm_test, index=class_label, columns=class_label)\n",
    "sns.heatmap(df_cm, annot = True, fmt = \"d\")\n",
    "plt.title(\"Confusion Matrix\")\n",
    "plt.xlabel(\"Predicted Label\")\n",
    "plt.ylabel(\"True Label\")\n",
    "plt.show()"
   ]
  },
  {
   "cell_type": "markdown",
   "metadata": {
    "colab_type": "text",
    "id": "PIKUCldjiWO0"
   },
   "source": [
    "### [5.2.1] Top 20 important features from<font color='red'> SET 2</font>"
   ]
  },
  {
   "cell_type": "code",
   "execution_count": 44,
   "metadata": {
    "colab": {},
    "colab_type": "code",
    "id": "p2P0iHQciWO1"
   },
   "outputs": [
    {
     "name": "stdout",
     "output_type": "stream",
     "text": [
      "disappoint\n",
      "great\n",
      "return\n",
      "wast\n",
      "love\n",
      "worst\n",
      "horribl\n",
      "terribl\n",
      "bad\n",
      "best\n",
      "wont\n",
      "perfect\n",
      "money\n",
      "stale\n",
      "unfortun\n",
      "delici\n",
      "aw\n",
      "thought\n",
      "nice\n",
      "bland\n"
     ]
    }
   ],
   "source": [
    "# Please write all the code with proper documentation\n",
    "# Please write all the code with proper documentation\n",
    "all_features = tf_idf_vect.get_feature_names()\n",
    "\n",
    "feat=dt.feature_importances_\n",
    "features=np.argsort(feat)[::-1]\n",
    "for i in features[0:20]:\n",
    "    print(all_features[i])"
   ]
  },
  {
   "cell_type": "markdown",
   "metadata": {
    "colab_type": "text",
    "id": "RTZB9ipUiWO3"
   },
   "source": [
    "### [5.2.2] Graphviz visualization of Decision Tree on TFIDF,<font color='red'> SET 2</font>"
   ]
  },
  {
   "cell_type": "code",
   "execution_count": 45,
   "metadata": {
    "colab": {},
    "colab_type": "code",
    "id": "DMbZoPoTiWO4"
   },
   "outputs": [
    {
     "data": {
      "image/svg+xml": [
       "<?xml version=\"1.0\" encoding=\"UTF-8\" standalone=\"no\"?>\r\n",
       "<!DOCTYPE svg PUBLIC \"-//W3C//DTD SVG 1.1//EN\"\r\n",
       " \"http://www.w3.org/Graphics/SVG/1.1/DTD/svg11.dtd\">\r\n",
       "<!-- Generated by graphviz version 2.38.0 (20140413.2041)\r\n",
       " -->\r\n",
       "<!-- Title: Tree Pages: 1 -->\r\n",
       "<svg width=\"610pt\" height=\"356pt\"\r\n",
       " viewBox=\"0.00 0.00 610.00 356.00\" xmlns=\"http://www.w3.org/2000/svg\" xmlns:xlink=\"http://www.w3.org/1999/xlink\">\r\n",
       "<g id=\"graph0\" class=\"graph\" transform=\"scale(1 1) rotate(0) translate(4 352)\">\r\n",
       "<title>Tree</title>\r\n",
       "<polygon fill=\"white\" stroke=\"none\" points=\"-4,4 -4,-352 606,-352 606,4 -4,4\"/>\r\n",
       "<!-- 0 -->\r\n",
       "<g id=\"node1\" class=\"node\"><title>0</title>\r\n",
       "<polygon fill=\"#399de5\" fill-opacity=\"0.807843\" stroke=\"black\" points=\"376,-348 238,-348 238,-280 376,-280 376,-348\"/>\r\n",
       "<text text-anchor=\"middle\" x=\"307\" y=\"-332.8\" font-family=\"Times New Roman,serif\" font-size=\"14.00\">disappoint &lt;= 1.922</text>\r\n",
       "<text text-anchor=\"middle\" x=\"307\" y=\"-317.8\" font-family=\"Times New Roman,serif\" font-size=\"14.00\">gini = 0.27</text>\r\n",
       "<text text-anchor=\"middle\" x=\"307\" y=\"-302.8\" font-family=\"Times New Roman,serif\" font-size=\"14.00\">samples = 28000</text>\r\n",
       "<text text-anchor=\"middle\" x=\"307\" y=\"-287.8\" font-family=\"Times New Roman,serif\" font-size=\"14.00\">value = [4505, 23495]</text>\r\n",
       "</g>\r\n",
       "<!-- 1 -->\r\n",
       "<g id=\"node2\" class=\"node\"><title>1</title>\r\n",
       "<polygon fill=\"#399de5\" fill-opacity=\"0.827451\" stroke=\"black\" points=\"303,-244 165,-244 165,-176 303,-176 303,-244\"/>\r\n",
       "<text text-anchor=\"middle\" x=\"234\" y=\"-228.8\" font-family=\"Times New Roman,serif\" font-size=\"14.00\">return &lt;= 3.589</text>\r\n",
       "<text text-anchor=\"middle\" x=\"234\" y=\"-213.8\" font-family=\"Times New Roman,serif\" font-size=\"14.00\">gini = 0.252</text>\r\n",
       "<text text-anchor=\"middle\" x=\"234\" y=\"-198.8\" font-family=\"Times New Roman,serif\" font-size=\"14.00\">samples = 27061</text>\r\n",
       "<text text-anchor=\"middle\" x=\"234\" y=\"-183.8\" font-family=\"Times New Roman,serif\" font-size=\"14.00\">value = [3993, 23068]</text>\r\n",
       "</g>\r\n",
       "<!-- 0&#45;&gt;1 -->\r\n",
       "<g id=\"edge1\" class=\"edge\"><title>0&#45;&gt;1</title>\r\n",
       "<path fill=\"none\" stroke=\"black\" d=\"M283.299,-279.884C277.052,-271.154 270.231,-261.625 263.711,-252.514\"/>\r\n",
       "<polygon fill=\"black\" stroke=\"black\" points=\"266.498,-250.394 257.832,-244.299 260.806,-254.468 266.498,-250.394\"/>\r\n",
       "<text text-anchor=\"middle\" x=\"253.745\" y=\"-265.263\" font-family=\"Times New Roman,serif\" font-size=\"14.00\">True</text>\r\n",
       "</g>\r\n",
       "<!-- 204 -->\r\n",
       "<g id=\"node9\" class=\"node\"><title>204</title>\r\n",
       "<polygon fill=\"#e58139\" fill-opacity=\"0.164706\" stroke=\"black\" points=\"439,-244 321,-244 321,-176 439,-176 439,-244\"/>\r\n",
       "<text text-anchor=\"middle\" x=\"380\" y=\"-228.8\" font-family=\"Times New Roman,serif\" font-size=\"14.00\">wont &lt;= 2.208</text>\r\n",
       "<text text-anchor=\"middle\" x=\"380\" y=\"-213.8\" font-family=\"Times New Roman,serif\" font-size=\"14.00\">gini = 0.496</text>\r\n",
       "<text text-anchor=\"middle\" x=\"380\" y=\"-198.8\" font-family=\"Times New Roman,serif\" font-size=\"14.00\">samples = 939</text>\r\n",
       "<text text-anchor=\"middle\" x=\"380\" y=\"-183.8\" font-family=\"Times New Roman,serif\" font-size=\"14.00\">value = [512, 427]</text>\r\n",
       "</g>\r\n",
       "<!-- 0&#45;&gt;204 -->\r\n",
       "<g id=\"edge8\" class=\"edge\"><title>0&#45;&gt;204</title>\r\n",
       "<path fill=\"none\" stroke=\"black\" d=\"M330.701,-279.884C336.948,-271.154 343.769,-261.625 350.289,-252.514\"/>\r\n",
       "<polygon fill=\"black\" stroke=\"black\" points=\"353.194,-254.468 356.168,-244.299 347.502,-250.394 353.194,-254.468\"/>\r\n",
       "<text text-anchor=\"middle\" x=\"360.255\" y=\"-265.263\" font-family=\"Times New Roman,serif\" font-size=\"14.00\">False</text>\r\n",
       "</g>\r\n",
       "<!-- 2 -->\r\n",
       "<g id=\"node3\" class=\"node\"><title>2</title>\r\n",
       "<polygon fill=\"#399de5\" fill-opacity=\"0.835294\" stroke=\"black\" points=\"164,-140 26,-140 26,-72 164,-72 164,-140\"/>\r\n",
       "<text text-anchor=\"middle\" x=\"95\" y=\"-124.8\" font-family=\"Times New Roman,serif\" font-size=\"14.00\">great &lt;= 0.509</text>\r\n",
       "<text text-anchor=\"middle\" x=\"95\" y=\"-109.8\" font-family=\"Times New Roman,serif\" font-size=\"14.00\">gini = 0.243</text>\r\n",
       "<text text-anchor=\"middle\" x=\"95\" y=\"-94.8\" font-family=\"Times New Roman,serif\" font-size=\"14.00\">samples = 26756</text>\r\n",
       "<text text-anchor=\"middle\" x=\"95\" y=\"-79.8\" font-family=\"Times New Roman,serif\" font-size=\"14.00\">value = [3781, 22975]</text>\r\n",
       "</g>\r\n",
       "<!-- 1&#45;&gt;2 -->\r\n",
       "<g id=\"edge2\" class=\"edge\"><title>1&#45;&gt;2</title>\r\n",
       "<path fill=\"none\" stroke=\"black\" d=\"M188.871,-175.884C176.004,-166.442 161.861,-156.064 148.544,-146.292\"/>\r\n",
       "<polygon fill=\"black\" stroke=\"black\" points=\"150.511,-143.394 140.379,-140.299 146.37,-149.037 150.511,-143.394\"/>\r\n",
       "</g>\r\n",
       "<!-- 157 -->\r\n",
       "<g id=\"node6\" class=\"node\"><title>157</title>\r\n",
       "<polygon fill=\"#e58139\" fill-opacity=\"0.560784\" stroke=\"black\" points=\"293.5,-140 182.5,-140 182.5,-72 293.5,-72 293.5,-140\"/>\r\n",
       "<text text-anchor=\"middle\" x=\"238\" y=\"-124.8\" font-family=\"Times New Roman,serif\" font-size=\"14.00\">great &lt;= 0.624</text>\r\n",
       "<text text-anchor=\"middle\" x=\"238\" y=\"-109.8\" font-family=\"Times New Roman,serif\" font-size=\"14.00\">gini = 0.424</text>\r\n",
       "<text text-anchor=\"middle\" x=\"238\" y=\"-94.8\" font-family=\"Times New Roman,serif\" font-size=\"14.00\">samples = 305</text>\r\n",
       "<text text-anchor=\"middle\" x=\"238\" y=\"-79.8\" font-family=\"Times New Roman,serif\" font-size=\"14.00\">value = [212, 93]</text>\r\n",
       "</g>\r\n",
       "<!-- 1&#45;&gt;157 -->\r\n",
       "<g id=\"edge5\" class=\"edge\"><title>1&#45;&gt;157</title>\r\n",
       "<path fill=\"none\" stroke=\"black\" d=\"M235.299,-175.884C235.617,-167.778 235.961,-158.982 236.295,-150.472\"/>\r\n",
       "<polygon fill=\"black\" stroke=\"black\" points=\"239.8,-150.429 236.694,-140.299 232.805,-150.155 239.8,-150.429\"/>\r\n",
       "</g>\r\n",
       "<!-- 3 -->\r\n",
       "<g id=\"node4\" class=\"node\"><title>3</title>\r\n",
       "<polygon fill=\"#c0c0c0\" stroke=\"black\" points=\"54,-36 0,-36 0,-0 54,-0 54,-36\"/>\r\n",
       "<text text-anchor=\"middle\" x=\"27\" y=\"-14.3\" font-family=\"Times New Roman,serif\" font-size=\"14.00\">(...)</text>\r\n",
       "</g>\r\n",
       "<!-- 2&#45;&gt;3 -->\r\n",
       "<g id=\"edge3\" class=\"edge\"><title>2&#45;&gt;3</title>\r\n",
       "<path fill=\"none\" stroke=\"black\" d=\"M68.9039,-71.9961C61.6379,-62.8067 53.862,-52.9725 47.0058,-44.3014\"/>\r\n",
       "<polygon fill=\"black\" stroke=\"black\" points=\"49.7087,-42.0767 40.7608,-36.4034 44.2177,-46.4184 49.7087,-42.0767\"/>\r\n",
       "</g>\r\n",
       "<!-- 102 -->\r\n",
       "<g id=\"node5\" class=\"node\"><title>102</title>\r\n",
       "<polygon fill=\"#c0c0c0\" stroke=\"black\" points=\"126,-36 72,-36 72,-0 126,-0 126,-36\"/>\r\n",
       "<text text-anchor=\"middle\" x=\"99\" y=\"-14.3\" font-family=\"Times New Roman,serif\" font-size=\"14.00\">(...)</text>\r\n",
       "</g>\r\n",
       "<!-- 2&#45;&gt;102 -->\r\n",
       "<g id=\"edge4\" class=\"edge\"><title>2&#45;&gt;102</title>\r\n",
       "<path fill=\"none\" stroke=\"black\" d=\"M96.5351,-71.9961C96.9272,-63.5646 97.3446,-54.5902 97.7223,-46.4696\"/>\r\n",
       "<polygon fill=\"black\" stroke=\"black\" points=\"101.222,-46.5552 98.1905,-36.4034 94.2296,-46.2299 101.222,-46.5552\"/>\r\n",
       "</g>\r\n",
       "<!-- 158 -->\r\n",
       "<g id=\"node7\" class=\"node\"><title>158</title>\r\n",
       "<polygon fill=\"#c0c0c0\" stroke=\"black\" points=\"223,-36 169,-36 169,-0 223,-0 223,-36\"/>\r\n",
       "<text text-anchor=\"middle\" x=\"196\" y=\"-14.3\" font-family=\"Times New Roman,serif\" font-size=\"14.00\">(...)</text>\r\n",
       "</g>\r\n",
       "<!-- 157&#45;&gt;158 -->\r\n",
       "<g id=\"edge6\" class=\"edge\"><title>157&#45;&gt;158</title>\r\n",
       "<path fill=\"none\" stroke=\"black\" d=\"M221.882,-71.9961C217.625,-63.2804 213.086,-53.9846 209.016,-45.6514\"/>\r\n",
       "<polygon fill=\"black\" stroke=\"black\" points=\"212.033,-43.8531 204.499,-36.4034 205.743,-46.925 212.033,-43.8531\"/>\r\n",
       "</g>\r\n",
       "<!-- 191 -->\r\n",
       "<g id=\"node8\" class=\"node\"><title>191</title>\r\n",
       "<polygon fill=\"#c0c0c0\" stroke=\"black\" points=\"295,-36 241,-36 241,-0 295,-0 295,-36\"/>\r\n",
       "<text text-anchor=\"middle\" x=\"268\" y=\"-14.3\" font-family=\"Times New Roman,serif\" font-size=\"14.00\">(...)</text>\r\n",
       "</g>\r\n",
       "<!-- 157&#45;&gt;191 -->\r\n",
       "<g id=\"edge7\" class=\"edge\"><title>157&#45;&gt;191</title>\r\n",
       "<path fill=\"none\" stroke=\"black\" d=\"M249.513,-71.9961C252.52,-63.3751 255.726,-54.1866 258.608,-45.9234\"/>\r\n",
       "<polygon fill=\"black\" stroke=\"black\" points=\"261.94,-46.9982 261.929,-36.4034 255.331,-44.6926 261.94,-46.9982\"/>\r\n",
       "</g>\r\n",
       "<!-- 205 -->\r\n",
       "<g id=\"node10\" class=\"node\"><title>205</title>\r\n",
       "<polygon fill=\"#e58139\" fill-opacity=\"0.301961\" stroke=\"black\" points=\"436,-140 318,-140 318,-72 436,-72 436,-140\"/>\r\n",
       "<text text-anchor=\"middle\" x=\"377\" y=\"-124.8\" font-family=\"Times New Roman,serif\" font-size=\"14.00\">perfect &lt;= 0.388</text>\r\n",
       "<text text-anchor=\"middle\" x=\"377\" y=\"-109.8\" font-family=\"Times New Roman,serif\" font-size=\"14.00\">gini = 0.484</text>\r\n",
       "<text text-anchor=\"middle\" x=\"377\" y=\"-94.8\" font-family=\"Times New Roman,serif\" font-size=\"14.00\">samples = 833</text>\r\n",
       "<text text-anchor=\"middle\" x=\"377\" y=\"-79.8\" font-family=\"Times New Roman,serif\" font-size=\"14.00\">value = [490, 343]</text>\r\n",
       "</g>\r\n",
       "<!-- 204&#45;&gt;205 -->\r\n",
       "<g id=\"edge9\" class=\"edge\"><title>204&#45;&gt;205</title>\r\n",
       "<path fill=\"none\" stroke=\"black\" d=\"M379.026,-175.884C378.788,-167.778 378.529,-158.982 378.279,-150.472\"/>\r\n",
       "<polygon fill=\"black\" stroke=\"black\" points=\"381.772,-150.192 377.979,-140.299 374.775,-150.398 381.772,-150.192\"/>\r\n",
       "</g>\r\n",
       "<!-- 278 -->\r\n",
       "<g id=\"node13\" class=\"node\"><title>278</title>\r\n",
       "<polygon fill=\"#399de5\" fill-opacity=\"0.737255\" stroke=\"black\" points=\"558,-140 454,-140 454,-72 558,-72 558,-140\"/>\r\n",
       "<text text-anchor=\"middle\" x=\"506\" y=\"-124.8\" font-family=\"Times New Roman,serif\" font-size=\"14.00\">return &lt;= 2.453</text>\r\n",
       "<text text-anchor=\"middle\" x=\"506\" y=\"-109.8\" font-family=\"Times New Roman,serif\" font-size=\"14.00\">gini = 0.329</text>\r\n",
       "<text text-anchor=\"middle\" x=\"506\" y=\"-94.8\" font-family=\"Times New Roman,serif\" font-size=\"14.00\">samples = 106</text>\r\n",
       "<text text-anchor=\"middle\" x=\"506\" y=\"-79.8\" font-family=\"Times New Roman,serif\" font-size=\"14.00\">value = [22, 84]</text>\r\n",
       "</g>\r\n",
       "<!-- 204&#45;&gt;278 -->\r\n",
       "<g id=\"edge12\" class=\"edge\"><title>204&#45;&gt;278</title>\r\n",
       "<path fill=\"none\" stroke=\"black\" d=\"M420.909,-175.884C432.352,-166.62 444.909,-156.455 456.779,-146.845\"/>\r\n",
       "<polygon fill=\"black\" stroke=\"black\" points=\"459.295,-149.312 464.865,-140.299 454.891,-143.871 459.295,-149.312\"/>\r\n",
       "</g>\r\n",
       "<!-- 206 -->\r\n",
       "<g id=\"node11\" class=\"node\"><title>206</title>\r\n",
       "<polygon fill=\"#c0c0c0\" stroke=\"black\" points=\"380,-36 326,-36 326,-0 380,-0 380,-36\"/>\r\n",
       "<text text-anchor=\"middle\" x=\"353\" y=\"-14.3\" font-family=\"Times New Roman,serif\" font-size=\"14.00\">(...)</text>\r\n",
       "</g>\r\n",
       "<!-- 205&#45;&gt;206 -->\r\n",
       "<g id=\"edge10\" class=\"edge\"><title>205&#45;&gt;206</title>\r\n",
       "<path fill=\"none\" stroke=\"black\" d=\"M367.79,-71.9961C365.41,-63.4699 362.876,-54.3885 360.59,-46.1962\"/>\r\n",
       "<polygon fill=\"black\" stroke=\"black\" points=\"363.916,-45.0945 357.857,-36.4034 357.174,-46.9762 363.916,-45.0945\"/>\r\n",
       "</g>\r\n",
       "<!-- 267 -->\r\n",
       "<g id=\"node12\" class=\"node\"><title>267</title>\r\n",
       "<polygon fill=\"#c0c0c0\" stroke=\"black\" points=\"452,-36 398,-36 398,-0 452,-0 452,-36\"/>\r\n",
       "<text text-anchor=\"middle\" x=\"425\" y=\"-14.3\" font-family=\"Times New Roman,serif\" font-size=\"14.00\">(...)</text>\r\n",
       "</g>\r\n",
       "<!-- 205&#45;&gt;267 -->\r\n",
       "<g id=\"edge11\" class=\"edge\"><title>205&#45;&gt;267</title>\r\n",
       "<path fill=\"none\" stroke=\"black\" d=\"M395.421,-71.9961C400.338,-63.1856 405.587,-53.7825 410.276,-45.38\"/>\r\n",
       "<polygon fill=\"black\" stroke=\"black\" points=\"413.469,-46.8412 415.286,-36.4034 407.357,-43.4296 413.469,-46.8412\"/>\r\n",
       "</g>\r\n",
       "<!-- 279 -->\r\n",
       "<g id=\"node14\" class=\"node\"><title>279</title>\r\n",
       "<polygon fill=\"#c0c0c0\" stroke=\"black\" points=\"530,-36 476,-36 476,-0 530,-0 530,-36\"/>\r\n",
       "<text text-anchor=\"middle\" x=\"503\" y=\"-14.3\" font-family=\"Times New Roman,serif\" font-size=\"14.00\">(...)</text>\r\n",
       "</g>\r\n",
       "<!-- 278&#45;&gt;279 -->\r\n",
       "<g id=\"edge13\" class=\"edge\"><title>278&#45;&gt;279</title>\r\n",
       "<path fill=\"none\" stroke=\"black\" d=\"M504.849,-71.9961C504.555,-63.5646 504.242,-54.5902 503.958,-46.4696\"/>\r\n",
       "<polygon fill=\"black\" stroke=\"black\" points=\"507.454,-46.2753 503.607,-36.4034 500.458,-46.5194 507.454,-46.2753\"/>\r\n",
       "</g>\r\n",
       "<!-- 294 -->\r\n",
       "<g id=\"node15\" class=\"node\"><title>294</title>\r\n",
       "<polygon fill=\"#c0c0c0\" stroke=\"black\" points=\"602,-36 548,-36 548,-0 602,-0 602,-36\"/>\r\n",
       "<text text-anchor=\"middle\" x=\"575\" y=\"-14.3\" font-family=\"Times New Roman,serif\" font-size=\"14.00\">(...)</text>\r\n",
       "</g>\r\n",
       "<!-- 278&#45;&gt;294 -->\r\n",
       "<g id=\"edge14\" class=\"edge\"><title>278&#45;&gt;294</title>\r\n",
       "<path fill=\"none\" stroke=\"black\" d=\"M532.48,-71.9961C539.853,-62.8067 547.743,-52.9725 554.7,-44.3014\"/>\r\n",
       "<polygon fill=\"black\" stroke=\"black\" points=\"557.509,-46.3936 561.037,-36.4034 552.049,-42.0129 557.509,-46.3936\"/>\r\n",
       "</g>\r\n",
       "</g>\r\n",
       "</svg>\r\n"
      ],
      "text/plain": [
       "<graphviz.files.Source at 0x23e0cc9eeb8>"
      ]
     },
     "execution_count": 45,
     "metadata": {},
     "output_type": "execute_result"
    }
   ],
   "source": [
    "# Please write all the code with proper documentation\n",
    "from sklearn.tree import DecisionTreeClassifier, export_graphviz\n",
    "import graphviz\n",
    "export_graphviz(dt, out_file=\"mytree_tfidf.dot\", feature_names = count_vect.get_feature_names(), max_depth = 2, filled = True)\n",
    "with open(\"mytree_tfidf.dot\") as f:\n",
    "    dot_graph = f.read()\n",
    "graphviz.Source(dot_graph)"
   ]
  },
  {
   "cell_type": "markdown",
   "metadata": {},
   "source": [
    "#### Observation:\n",
    "* From the above plot of CV Error Vs Depth, we can infer that as depth increasing Erro is aslo increasing.\n",
    "* AS we train our model on 40k datapoints , depth of tree is 10.\n",
    "* Depth of tree is low means it is underfitting.\n",
    "* Using Graphviz of sklearn library implemented visual Decision Tree of each Node, where interpretability is very high."
   ]
  },
  {
   "cell_type": "markdown",
   "metadata": {
    "colab_type": "text",
    "id": "NVhl_V6MiWO5"
   },
   "source": [
    "## [5.3] Applying Decision Trees on AVG W2V,<font color='red'> SET 3</font>"
   ]
  },
  {
   "cell_type": "code",
   "execution_count": 48,
   "metadata": {},
   "outputs": [
    {
     "name": "stdout",
     "output_type": "stream",
     "text": [
      "number of words that occured minimum 5 times  7027\n",
      "sample words  ['dog', 'crazi', 'treat', 'soon', 'open', 'bag', 'feet', 'wait', 'made', 'train', 'puppi', 'easi', 'caus', 'will', 'anyth', 'get', 'first', 'want', 'say', 'love', 'bar', 'delici', 'way', 'uniqu', 'fill', 'eat', 'one', 'breakfast', 'hungri', 'hour', 'howev', 'expens', 'dont', 'mind', 'pay', 'given', 'weight', 'watcher', 'stumbl', 'onto', 'littl', 'gem', 'calori', 'per', 'like', 'find', 'dieter', 'miracl', 'price', 'know']\n"
     ]
    }
   ],
   "source": [
    "#List of sentance in X_train text\n",
    "sent_of_train = []\n",
    "for sent in X_train:\n",
    "    sent_of_train.append(sent.split())\n",
    "    \n",
    "#List of sentance in X_test text\n",
    "sent_of_test = []\n",
    "for sent in X_test:\n",
    "    sent_of_test.append(sent.split())\n",
    "#Train your own text corpus WOrd2Vec\n",
    "w2v_model = Word2Vec(sent_of_train,min_count=5,size=50,workers=4)   \n",
    "w2v_words = list(w2v_model.wv.vocab)\n",
    "print(\"number of words that occured minimum 5 times \",len(w2v_words))\n",
    "print(\"sample words \", w2v_words[0:50])"
   ]
  },
  {
   "cell_type": "code",
   "execution_count": 49,
   "metadata": {},
   "outputs": [],
   "source": [
    "#copute AvgWord2Vec for each review of X_train\n",
    "train_vectors = [];\n",
    "for sent in sent_of_train:\n",
    "    sent_vec = np.zeros(50)\n",
    "    cnt_words =0; # num of words with a valid vector in the sentence/review\n",
    "    for word in sent: # for each word in a review/sentence\n",
    "        if word in w2v_words:\n",
    "            vec = w2v_model.wv[word]\n",
    "            sent_vec += vec\n",
    "            cnt_words += 1\n",
    "    if cnt_words != 0:\n",
    "        sent_vec /= cnt_words\n",
    "    train_vectors.append(sent_vec)\n",
    "\n",
    "#compute AvgWord2Vec for each review of X_test\n",
    "test_vectors = [];\n",
    "for sent in sent_of_test:\n",
    "    sent_vec = np.zeros(50)\n",
    "    cnt_words =0; # num of words with a valid vector in the sentence/review\n",
    "    for word in sent: # for each word in a review/sentence\n",
    "        if word in w2v_words:\n",
    "            vec = w2v_model.wv[word]\n",
    "            sent_vec += vec\n",
    "            cnt_words += 1\n",
    "    if cnt_words != 0:\n",
    "        sent_vec /= cnt_words\n",
    "    test_vectors.append(sent_vec)\n",
    "\n",
    "#Standardizing\n",
    "sc = StandardScaler()\n",
    "X_train_vec_standardized = sc.fit_transform(train_vectors)\n",
    "X_test_vec_standardized = sc.transform(test_vectors)"
   ]
  },
  {
   "cell_type": "code",
   "execution_count": 50,
   "metadata": {
    "colab": {},
    "colab_type": "code",
    "id": "uYDXnzMmiWO5"
   },
   "outputs": [
    {
     "name": "stdout",
     "output_type": "stream",
     "text": [
      "Model with best parameters :\n",
      " DecisionTreeClassifier(class_weight=None, criterion='gini', max_depth=10,\n",
      "            max_features=None, max_leaf_nodes=None,\n",
      "            min_impurity_decrease=0.0, min_impurity_split=None,\n",
      "            min_samples_leaf=1, min_samples_split=2,\n",
      "            min_weight_fraction_leaf=0.0, presort=False, random_state=None,\n",
      "            splitter='best')\n",
      "Accuracy of the model :  0.860166666667\n",
      "The optimal value of depth is : 10\n"
     ]
    }
   ],
   "source": [
    "# Please write all the code with proper documentation\n",
    "Depths = [1,5,10,50,100,500,1000]\n",
    "min_samples = [2,5,10,15,100,500]\n",
    "\n",
    "param_grid = {'max_depth': Depths}\n",
    "model = GridSearchCV(DecisionTreeClassifier(), param_grid, scoring = 'roc_auc', cv=3, n_jobs= -1, pre_dispatch=2)\n",
    "model.fit(X_train_vec_standardized, Y_train)\n",
    "print(\"Model with best parameters :\\n\", model.best_estimator_)\n",
    "print(\"Accuracy of the model : \",model.score(X_test_vec_standardized, Y_test))\n",
    "\n",
    "#Cross-Validation Errors\n",
    "cv_errors = [1-i for i in model.cv_results_['mean_test_score']]\n",
    "training_scores = [1-i for i in model.cv_results_['mean_train_score']]\n",
    "\n",
    "\n",
    "\n",
    "# Optimal value of depth\n",
    "optimal_depth = model.best_estimator_.max_depth\n",
    "print(\"The optimal value of depth is :\",optimal_depth)\n",
    "\n",
    "#DecisionTreeClaasifier with Optimal depth\n",
    "dt = DecisionTreeClassifier(max_depth=optimal_depth)\n",
    "dt.fit(X_train_vec_standardized, Y_train)\n",
    "predict = dt.predict(X_test_vec_standardized)\n",
    "pred_prob = dt.predict_proba(X_test_vec_standardized)[:,1]\n",
    "\n",
    "#Variables will be used in conclusion part of prettytable\n",
    "AvgW2v_depth = optimal_depth\n",
    "AvgW2v_train_acc = model.score(X_train_vec_standardized, Y_train) * 100\n",
    "AvgW2v_test_acc = accuracy_score(Y_test, predict) * 100"
   ]
  },
  {
   "cell_type": "code",
   "execution_count": 51,
   "metadata": {},
   "outputs": [
    {
     "data": {
      "image/png": "[encoded data removed]",
      "text/plain": [
       "<Figure size 432x288 with 1 Axes>"
      ]
     },
     "metadata": {
      "needs_background": "light"
     },
     "output_type": "display_data"
    }
   ],
   "source": [
    "#Plot for Cross-Validation Error Vs Depth Graph\n",
    "plt.plot(Depths, cv_errors, 'r')\n",
    "plt.plot(Depths, training_scores, 'b')\n",
    "plt.xlabel('Max Depth', size=12)\n",
    "plt.ylabel('AUC', size=12)\n",
    "plt.title('AUC VS Depth Plot', size=12)\n",
    "plt.grid()\n",
    "plt.show()"
   ]
  },
  {
   "cell_type": "code",
   "execution_count": 52,
   "metadata": {},
   "outputs": [
    {
     "data": {
      "image/png": "[encoded data removed]",
      "text/plain": [
       "<Figure size 432x288 with 1 Axes>"
      ]
     },
     "metadata": {
      "needs_background": "light"
     },
     "output_type": "display_data"
    }
   ],
   "source": [
    "from cycler import cycler\n",
    "fpr, tpr, threshold = metrics.roc_curve(Y_test, dt.predict_proba(X_test_vec_standardized)[:,1])\n",
    "fpr2, tpr2, threshold2 = metrics.roc_curve(Y_train, dt.predict_proba(X_train_vec_standardized)[:,1])\n",
    "\n",
    "roc_auc = metrics.auc(fpr, tpr)\n",
    "roc_auc2 = metrics.auc(fpr2, tpr2)\n",
    "\n",
    "# method I: plt\n",
    "import matplotlib.pyplot as plt\n",
    "f, ax = plt.subplots()\n",
    "plt.title('Receiver Operating Characteristic Curve')\n",
    "cy = cycler('color', ['red', 'green', 'blue'])\n",
    "ax.set_prop_cycle(cy)\n",
    "ax.plot(fpr, tpr, label = 'AUC = %0.2f' % roc_auc)\n",
    "ax.plot(fpr2, tpr2, label = 'AUC = %0.2f' % roc_auc2)\n",
    "plt.legend(['TEST Data', 'TRAIN Data'],loc = 'lower right')\n",
    "\n",
    "ax.plot([0, 1], [0, 1])\n",
    "plt.xlim([0, 1])\n",
    "plt.ylim([0, 1])\n",
    "plt.ylabel('True Positive Rate')\n",
    "plt.xlabel('False Positive Rate')\n",
    "plt.show()"
   ]
  },
  {
   "cell_type": "code",
   "execution_count": 52,
   "metadata": {},
   "outputs": [
    {
     "name": "stdout",
     "output_type": "stream",
     "text": [
      "Train Confusion Matrix\n",
      "[[ 1009  3496]\n",
      " [  607 22888]]\n",
      "Test Confusion Matrix\n",
      "[[ 380 1528]\n",
      " [ 293 9799]]\n"
     ]
    },
    {
     "data": {
      "image/png": "[encoded data removed]",
      "text/plain": [
       "<Figure size 432x288 with 2 Axes>"
      ]
     },
     "metadata": {
      "needs_background": "light"
     },
     "output_type": "display_data"
    }
   ],
   "source": [
    "#Confusion Matrix\n",
    "print(\"Train Confusion Matrix\")\n",
    "print(confusion_matrix(Y_train, dt.predict(X_train_vec_standardized)))\n",
    "print(\"Test Confusion Matrix\")\n",
    "print(confusion_matrix(Y_test, dt.predict(X_test_vec_standardized)))\n",
    "cm_test=confusion_matrix(Y_test, dt.predict(X_test_vec_standardized))\n",
    "class_label = [\"negative\", \"positive\"]\n",
    "df_cm = pd.DataFrame(cm_test, index=class_label, columns=class_label)\n",
    "sns.heatmap(df_cm, annot = True, fmt = \"d\")\n",
    "plt.title(\"Confusion Matrix\")\n",
    "plt.xlabel(\"Predicted Label\")\n",
    "plt.ylabel(\"True Label\")\n",
    "plt.show()"
   ]
  },
  {
   "cell_type": "markdown",
   "metadata": {
    "colab_type": "text",
    "id": "PnwVzXytiWO7"
   },
   "source": [
    "## [5.4] Applying Decision Trees on TFIDF W2V,<font color='red'> SET 4</font>"
   ]
  },
  {
   "cell_type": "code",
   "execution_count": 53,
   "metadata": {},
   "outputs": [
    {
     "name": "stdout",
     "output_type": "stream",
     "text": [
      "(87773, 11)\n"
     ]
    }
   ],
   "source": [
    "# Please write all the code with proper documentation\n",
    "# collect different 100k rows without repetition from time_sorted_data DataFrfame\n",
    "my_final = time_sorted_data.take(np.random.permutation(len(final))[:100000])\n",
    "print(my_final.shape)\n",
    "\n",
    "x = my_final['cleanedText'].values\n",
    "y = my_final['Score']\n",
    "#SPlit the dataset into Train and Test\n",
    "X_train,X_test,Y_train,Y_test=train_test_split(x, y, test_size=0.3, random_state=0)\n",
    "\n",
    "#List of sentance in X_train text\n",
    "sent_of_train = []\n",
    "for sent in X_train:\n",
    "    sent_of_train.append(sent.split())\n",
    "    \n",
    "#List of sentance in X_test text\n",
    "sent_of_test = []\n",
    "for sent in X_test:\n",
    "    sent_of_test.append(sent.split())\n",
    "#Train your own text corpus WOrd2Vec\n",
    "w2v_model = Word2Vec(sent_of_train,min_count=5,size=50,workers=4)   \n",
    "w2v_words = list(w2v_model.wv.vocab)"
   ]
  },
  {
   "cell_type": "code",
   "execution_count": 54,
   "metadata": {},
   "outputs": [],
   "source": [
    "#TF-IDF weighted word2vec\n",
    "tf_idf_vect = TfidfVectorizer()\n",
    "final_tf_idf1 = tf_idf_vect.fit_transform(X_train)\n",
    "tfidf_feat=tf_idf_vect.get_feature_names()"
   ]
  },
  {
   "cell_type": "code",
   "execution_count": 55,
   "metadata": {},
   "outputs": [],
   "source": [
    "#compute TFIDF weighted word2vec of each review of X_train\n",
    "#copute AvgWord2Vec for each review of X_train\n",
    "tfidf_train_vectors = [];\n",
    "row=0;\n",
    "for sent in sent_of_train:\n",
    "    sent_vec = np.zeros(50)\n",
    "    weight_sum =0; # num of words with a valid vector in the sentence/review\n",
    "    for word in sent: # for each word in a review/sentence\n",
    "        if word in w2v_words:\n",
    "            vec = w2v_model.wv[word]\n",
    "            tf_idf = final_tf_idf1[row, tfidf_feat.index(word)]\n",
    "            sent_vec += (vec * tf_idf)\n",
    "            weight_sum += tf_idf\n",
    "    if weight_sum != 0:\n",
    "        sent_vec /= weight_sum\n",
    "    tfidf_train_vectors.append(sent_vec)\n",
    "    row += 1  "
   ]
  },
  {
   "cell_type": "code",
   "execution_count": 56,
   "metadata": {},
   "outputs": [],
   "source": [
    "tfidf_test_vectors = [];\n",
    "row=0;\n",
    "for sent in sent_of_test:\n",
    "    sent_vec = np.zeros(50)\n",
    "    weight_sum =0; # num of words with a valid vector in the sentence/review\n",
    "    for word in sent: # for each word in a review/sentence\n",
    "        if word in w2v_words:\n",
    "            vec = w2v_model.wv[word]\n",
    "            tf_idf = final_tf_idf1[row, tfidf_feat.index(word)]\n",
    "            sent_vec += (vec * tf_idf)\n",
    "            weight_sum += tf_idf\n",
    "    if weight_sum != 0:\n",
    "        sent_vec /= weight_sum\n",
    "    tfidf_test_vectors.append(sent_vec)\n",
    "    row += 1  \n",
    "#Standardizing\n",
    "sc = StandardScaler()\n",
    "X_train_vec_standardized = sc.fit_transform(tfidf_train_vectors)\n",
    "X_test_vec_standardized = sc.transform(tfidf_test_vectors)\n"
   ]
  },
  {
   "cell_type": "code",
   "execution_count": 53,
   "metadata": {
    "colab": {},
    "colab_type": "code",
    "id": "YqODkVCgiWO7"
   },
   "outputs": [
    {
     "name": "stdout",
     "output_type": "stream",
     "text": [
      "Model with best parameters :\n",
      " DecisionTreeClassifier(class_weight=None, criterion='gini', max_depth=10,\n",
      "            max_features=None, max_leaf_nodes=None,\n",
      "            min_impurity_decrease=0.0, min_impurity_split=None,\n",
      "            min_samples_leaf=1, min_samples_split=2,\n",
      "            min_weight_fraction_leaf=0.0, presort=False, random_state=None,\n",
      "            splitter='best')\n",
      "Accuracy of the model :  0.860083333333\n",
      "The optimal value of depth is : 10\n"
     ]
    }
   ],
   "source": [
    "# Please write all the code with proper documentation\n",
    "Depths = [1,5,10,50,100,500,1000]\n",
    "min_samples = [2,5,10,15,100,500]\n",
    "\n",
    "param_grid = {'max_depth': Depths}\n",
    "model = GridSearchCV(DecisionTreeClassifier(), param_grid, scoring = 'roc_auc', cv=3, n_jobs= -1, pre_dispatch=2)\n",
    "model.fit(X_train_vec_standardized, Y_train)\n",
    "print(\"Model with best parameters :\\n\", model.best_estimator_)\n",
    "print(\"Accuracy of the model : \",model.score(X_test_vec_standardized, Y_test))\n",
    "\n",
    "#Cross-Validation Errors\n",
    "cv_errors = [1-i for i in model.cv_results_['mean_test_score']]\n",
    "training_scores = [1-i for i in model.cv_results_['mean_train_score']]\n",
    "\n",
    "# Optimal value of depth\n",
    "optimal_depth = model.best_estimator_.max_depth\n",
    "print(\"The optimal value of depth is :\",optimal_depth)\n",
    "\n",
    "#DecisionTreeClaasifier with Optimal depth\n",
    "dt = DecisionTreeClassifier(max_depth=optimal_depth)\n",
    "dt.fit(X_train_vec_standardized, Y_train)\n",
    "predict = dt.predict(X_test_vec_standardized)\n",
    "pred_prob = dt.predict_proba(X_test_vec_standardized)[:,1]\n",
    "\n",
    "#Variables will be used in conclusion part of prettytable\n",
    "AvgW2v_depth = optimal_depth\n",
    "AvgW2v_train_acc = model.score(X_train_vec_standardized, Y_train) * 100\n",
    "AvgW2v_test_acc = accuracy_score(Y_test, predict) * 100"
   ]
  },
  {
   "cell_type": "code",
   "execution_count": 54,
   "metadata": {},
   "outputs": [
    {
     "data": {
      "image/png": "[encoded data removed]",
      "text/plain": [
       "<Figure size 432x288 with 1 Axes>"
      ]
     },
     "metadata": {
      "needs_background": "light"
     },
     "output_type": "display_data"
    }
   ],
   "source": [
    "#Plot for Cross-Validation Error Vs Depth Graph\n",
    "plt.plot(Depths, cv_errors, 'r')\n",
    "plt.plot(Depths, training_scores, 'b')\n",
    "plt.xlabel('Max Depth', size=12)\n",
    "plt.ylabel('AUC', size=12)\n",
    "plt.title('AUC VS Depth Plot', size=12)\n",
    "plt.grid()\n",
    "plt.show()"
   ]
  },
  {
   "cell_type": "code",
   "execution_count": 55,
   "metadata": {},
   "outputs": [
    {
     "data": {
      "image/png": "[encoded data removed]",
      "text/plain": [
       "<Figure size 432x288 with 1 Axes>"
      ]
     },
     "metadata": {
      "needs_background": "light"
     },
     "output_type": "display_data"
    }
   ],
   "source": [
    "from cycler import cycler\n",
    "fpr, tpr, threshold = metrics.roc_curve(Y_test, dt.predict_proba(X_test_vec_standardized)[:,1])\n",
    "fpr2, tpr2, threshold2 = metrics.roc_curve(Y_train, dt.predict_proba(X_train_vec_standardized)[:,1])\n",
    "\n",
    "roc_auc = metrics.auc(fpr, tpr)\n",
    "roc_auc2 = metrics.auc(fpr2, tpr2)\n",
    "\n",
    "# method I: plt\n",
    "import matplotlib.pyplot as plt\n",
    "f, ax = plt.subplots()\n",
    "plt.title('Receiver Operating Characteristic Curve')\n",
    "cy = cycler('color', ['red', 'green', 'blue'])\n",
    "ax.set_prop_cycle(cy)\n",
    "ax.plot(fpr, tpr, label = 'AUC = %0.2f' % roc_auc)\n",
    "ax.plot(fpr2, tpr2, label = 'AUC = %0.2f' % roc_auc2)\n",
    "plt.legend(['TEST Data', 'TRAIN Data'],loc = 'lower right')\n",
    "\n",
    "ax.plot([0, 1], [0, 1])\n",
    "plt.xlim([0, 1])\n",
    "plt.ylim([0, 1])\n",
    "plt.ylabel('True Positive Rate')\n",
    "plt.xlabel('False Positive Rate')\n",
    "plt.show()"
   ]
  },
  {
   "cell_type": "code",
   "execution_count": 59,
   "metadata": {},
   "outputs": [
    {
     "name": "stdout",
     "output_type": "stream",
     "text": [
      "Train Confusion Matrix\n",
      "[[ 1588  8446]\n",
      " [  804 50603]]\n",
      "Test Confusion Matrix\n",
      "[[  318  3829]\n",
      " [ 1001 21184]]\n"
     ]
    },
    {
     "data": {
      "image/png": "[encoded data removed]",
      "text/plain": [
       "<Figure size 432x288 with 2 Axes>"
      ]
     },
     "metadata": {
      "needs_background": "light"
     },
     "output_type": "display_data"
    }
   ],
   "source": [
    "#Confusion Matrix\n",
    "print(\"Train Confusion Matrix\")\n",
    "print(confusion_matrix(Y_train, dt.predict(X_train_vec_standardized)))\n",
    "print(\"Test Confusion Matrix\")\n",
    "print(confusion_matrix(Y_test, dt.predict(X_test_vec_standardized)))\n",
    "cm_test=confusion_matrix(Y_test, dt.predict(X_test_vec_standardized))\n",
    "class_label = [\"negative\", \"positive\"]\n",
    "df_cm = pd.DataFrame(cm_test, index=class_label, columns=class_label)\n",
    "sns.heatmap(df_cm, annot = True, fmt = \"d\")\n",
    "plt.title(\"Confusion Matrix\")\n",
    "plt.xlabel(\"Predicted Label\")\n",
    "plt.ylabel(\"True Label\")\n",
    "plt.show()"
   ]
  },
  {
   "cell_type": "markdown",
   "metadata": {
    "colab_type": "text",
    "id": "Em-rF6u2iWO8"
   },
   "source": [
    "# [6] Conclusions"
   ]
  },
  {
   "cell_type": "code",
   "execution_count": 61,
   "metadata": {
    "colab": {},
    "colab_type": "code",
    "id": "3Hnu2QziiWO9"
   },
   "outputs": [
    {
     "name": "stdout",
     "output_type": "stream",
     "text": [
      "+----------------+---------------------+-------------------------------+-------+\n",
      "|   Vectorizer   | Feature Engineering | Hyperparameter(Optimal_depth) |  AUC  |\n",
      "+----------------+---------------------+-------------------------------+-------+\n",
      "|      BOW       |    GridSearchCV     |               10              | 0.861 |\n",
      "|     TFDIF      |     GridSearchCV    |               10              |  0.86 |\n",
      "|  AVG Word2Vec  |     GridSearchCV    |               5               | 0.848 |\n",
      "| TFDIF Word2Vec |     GridSearchCV    |               5               | 0.816 |\n",
      "+----------------+---------------------+-------------------------------+-------+\n"
     ]
    }
   ],
   "source": [
    "# Please compare all your models using Prettytable library\n",
    "# Please compare all your models using Prettytable library\n",
    "from prettytable import PrettyTable\n",
    "x = PrettyTable()\n",
    "x.field_names = [\"Vectorizer\", \"Feature Engineering\", \"Hyperparameter(Optimal_depth)\", \"AUC\"]\n",
    "x.add_row([\"BOW\", \"GridSearchCV \", 10, 0.861])\n",
    "x.add_row([\"TFDIF\", \"GridSearchCV\", 10, 0.860])\n",
    "x.add_row([\"AVG Word2Vec\", \"GridSearchCV\", 5, 0.848])\n",
    "x.add_row([\"TFDIF Word2Vec\", \"GridSearchCV\", 5, 0.816])\n",
    "\n",
    "print(x)"
   ]
  },
  {
   "cell_type": "markdown",
   "metadata": {},
   "source": [
    "* Using 40k Random Sample points, by using GridSearchCV obsreved an optimal depth of 10 with an AUC of 0.86\n",
    "* Using Gini impurity is computational efficient and faster.\n",
    "* Printed Decison Tree Nodes , for BOW and TFIDF through which we can interpret more.\n",
    "* For every Decision we will get a hyperplane, interpretability is high.\n",
    "* All of the Hyperpalnes are axis-parallel in a Decision tree.\n",
    "* Depth of tree is small it could be underfitting.\n",
    "* None of the models performing  well on unseen data since depth of the tree is less comapritively than other vectorizers.\n"
   ]
  }
 ],
 "metadata": {
  "colab": {
   "collapsed_sections": [
    "NTwQITJKiWN5",
    "T_LFck8iiWOX",
    "mjfrB76yiWOa",
    "0tcbbZxSiWOd",
    "u566lt93iWOf",
    "mUNnof40iWOl",
    "heHLB_FCiWOm",
    "ylTn3LgiiWOo",
    "NVhl_V6MiWO5",
    "PnwVzXytiWO7"
   ],
   "name": "08 Amazon Fine Food Reviews Analysis_Decision Trees.ipynb",
   "provenance": [],
   "version": "0.3.2"
  },
  "kernelspec": {
   "display_name": "Python 3",
   "language": "python",
   "name": "python3"
  },
  "language_info": {
   "codemirror_mode": {
    "name": "ipython",
    "version": 3
   },
   "file_extension": ".py",
   "mimetype": "text/x-python",
   "name": "python",
   "nbconvert_exporter": "python",
   "pygments_lexer": "ipython3",
   "version": "3.7.0"
  }
 },
 "nbformat": 4,
 "nbformat_minor": 1
}
