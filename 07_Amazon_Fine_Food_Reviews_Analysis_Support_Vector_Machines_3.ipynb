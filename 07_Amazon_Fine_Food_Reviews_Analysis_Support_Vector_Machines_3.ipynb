{
 "cells": [
  {
   "cell_type": "markdown",
   "metadata": {},
   "source": [
    "# Amazon Fine Food Reviews Analysis\n",
    "\n",
    "\n",
    "Data Source: https://www.kaggle.com/snap/amazon-fine-food-reviews <br>\n",
    "\n",
    "EDA: https://nycdatascience.com/blog/student-works/amazon-fine-foods-visualization/\n",
    "\n",
    "\n",
    "The Amazon Fine Food Reviews dataset consists of reviews of fine foods from Amazon.<br>\n",
    "\n",
    "Number of reviews: 568,454<br>\n",
    "Number of users: 256,059<br>\n",
    "Number of products: 74,258<br>\n",
    "Timespan: Oct 1999 - Oct 2012<br>\n",
    "Number of Attributes/Columns in data: 10 \n",
    "\n",
    "Attribute Information:\n",
    "\n",
    "1. Id\n",
    "2. ProductId - unique identifier for the product\n",
    "3. UserId - unqiue identifier for the user\n",
    "4. ProfileName\n",
    "5. HelpfulnessNumerator - number of users who found the review helpful\n",
    "6. HelpfulnessDenominator - number of users who indicated whether they found the review helpful or not\n",
    "7. Score - rating between 1 and 5\n",
    "8. Time - timestamp for the review\n",
    "9. Summary - brief summary of the review\n",
    "10. Text - text of the review\n",
    "\n",
    "\n",
    "#### Objective:\n",
    "Given a review, determine whether the review is positive (rating of 4 or 5) or negative (rating of 1 or 2).\n",
    "\n",
    "<br>\n",
    "[Q] How to determine if a review is positive or negative?<br>\n",
    "<br> \n",
    "[Ans] We could use Score/Rating. A rating of 4 or 5 can be cosnidered as a positive review. A rating of 1 or 2 can be considered as negative one. A review of rating 3 is considered nuetral and such reviews are ignored from our analysis. This is an approximate and proxy way of determining the polarity (positivity/negativity) of a review.\n",
    "\n",
    "\n"
   ]
  },
  {
   "cell_type": "markdown",
   "metadata": {},
   "source": [
    "# [1]. Reading Data"
   ]
  },
  {
   "cell_type": "markdown",
   "metadata": {},
   "source": [
    "## [1.1] Loading the data\n",
    "\n",
    "The dataset is available in two forms\n",
    "1. .csv file\n",
    "2. SQLite Database\n",
    "\n",
    "In order to load the data, We have used the SQLITE dataset as it is easier to query the data and visualise the data efficiently.\n",
    "<br> \n",
    "\n",
    "Here as we only want to get the global sentiment of the recommendations (positive or negative), we will purposefully ignore all Scores equal to 3. If the score is above 3, then the recommendation wil be set to \"positive\". Otherwise, it will be set to \"negative\"."
   ]
  },
  {
   "cell_type": "code",
   "execution_count": 1,
   "metadata": {},
   "outputs": [
    {
     "name": "stderr",
     "output_type": "stream",
     "text": [
      "C:\\Anaconda\\lib\\site-packages\\gensim\\utils.py:1209: UserWarning: detected Windows; aliasing chunkize to chunkize_serial\n",
      "  warnings.warn(\"detected Windows; aliasing chunkize to chunkize_serial\")\n"
     ]
    }
   ],
   "source": [
    "%matplotlib inline\n",
    "import warnings\n",
    "warnings.filterwarnings(\"ignore\")\n",
    "\n",
    "\n",
    "import sqlite3\n",
    "import pandas as pd\n",
    "import numpy as np\n",
    "import nltk\n",
    "import string\n",
    "import matplotlib.pyplot as plt\n",
    "import seaborn as sns\n",
    "from sklearn.feature_extraction.text import TfidfTransformer\n",
    "from sklearn.feature_extraction.text import TfidfVectorizer\n",
    "\n",
    "from sklearn.feature_extraction.text import CountVectorizer\n",
    "from sklearn.metrics import confusion_matrix\n",
    "from sklearn import metrics\n",
    "from sklearn.metrics import roc_curve, auc\n",
    "from nltk.stem.porter import PorterStemmer\n",
    "\n",
    "import re\n",
    "# Tutorial about Python regular expressions: https://pymotw.com/2/re/\n",
    "import string\n",
    "from nltk.corpus import stopwords\n",
    "from nltk.stem import PorterStemmer\n",
    "from nltk.stem.wordnet import WordNetLemmatizer\n",
    "\n",
    "from gensim.models import Word2Vec\n",
    "from gensim.models import KeyedVectors\n",
    "import pickle\n",
    "\n",
    "from tqdm import tqdm\n",
    "import os"
   ]
  },
  {
   "cell_type": "code",
   "execution_count": 2,
   "metadata": {},
   "outputs": [
    {
     "name": "stdout",
     "output_type": "stream",
     "text": [
      "Number of data points in our data (100000, 10)\n"
     ]
    },
    {
     "data": {
      "text/html": [
       "<div>\n",
       "<style scoped>\n",
       "    .dataframe tbody tr th:only-of-type {\n",
       "        vertical-align: middle;\n",
       "    }\n",
       "\n",
       "    .dataframe tbody tr th {\n",
       "        vertical-align: top;\n",
       "    }\n",
       "\n",
       "    .dataframe thead th {\n",
       "        text-align: right;\n",
       "    }\n",
       "</style>\n",
       "<table border=\"1\" class=\"dataframe\">\n",
       "  <thead>\n",
       "    <tr style=\"text-align: right;\">\n",
       "      <th></th>\n",
       "      <th>Id</th>\n",
       "      <th>ProductId</th>\n",
       "      <th>UserId</th>\n",
       "      <th>ProfileName</th>\n",
       "      <th>HelpfulnessNumerator</th>\n",
       "      <th>HelpfulnessDenominator</th>\n",
       "      <th>Score</th>\n",
       "      <th>Time</th>\n",
       "      <th>Summary</th>\n",
       "      <th>Text</th>\n",
       "    </tr>\n",
       "  </thead>\n",
       "  <tbody>\n",
       "    <tr>\n",
       "      <th>0</th>\n",
       "      <td>1</td>\n",
       "      <td>B001E4KFG0</td>\n",
       "      <td>A3SGXH7AUHU8GW</td>\n",
       "      <td>delmartian</td>\n",
       "      <td>1</td>\n",
       "      <td>1</td>\n",
       "      <td>1</td>\n",
       "      <td>1303862400</td>\n",
       "      <td>Good Quality Dog Food</td>\n",
       "      <td>I have bought several of the Vitality canned d...</td>\n",
       "    </tr>\n",
       "    <tr>\n",
       "      <th>1</th>\n",
       "      <td>2</td>\n",
       "      <td>B00813GRG4</td>\n",
       "      <td>A1D87F6ZCVE5NK</td>\n",
       "      <td>dll pa</td>\n",
       "      <td>0</td>\n",
       "      <td>0</td>\n",
       "      <td>0</td>\n",
       "      <td>1346976000</td>\n",
       "      <td>Not as Advertised</td>\n",
       "      <td>Product arrived labeled as Jumbo Salted Peanut...</td>\n",
       "    </tr>\n",
       "    <tr>\n",
       "      <th>2</th>\n",
       "      <td>3</td>\n",
       "      <td>B000LQOCH0</td>\n",
       "      <td>ABXLMWJIXXAIN</td>\n",
       "      <td>Natalia Corres \"Natalia Corres\"</td>\n",
       "      <td>1</td>\n",
       "      <td>1</td>\n",
       "      <td>1</td>\n",
       "      <td>1219017600</td>\n",
       "      <td>\"Delight\" says it all</td>\n",
       "      <td>This is a confection that has been around a fe...</td>\n",
       "    </tr>\n",
       "  </tbody>\n",
       "</table>\n",
       "</div>"
      ],
      "text/plain": [
       "   Id   ProductId          UserId                      ProfileName  \\\n",
       "0   1  B001E4KFG0  A3SGXH7AUHU8GW                       delmartian   \n",
       "1   2  B00813GRG4  A1D87F6ZCVE5NK                           dll pa   \n",
       "2   3  B000LQOCH0   ABXLMWJIXXAIN  Natalia Corres \"Natalia Corres\"   \n",
       "\n",
       "   HelpfulnessNumerator  HelpfulnessDenominator  Score        Time  \\\n",
       "0                     1                       1      1  1303862400   \n",
       "1                     0                       0      0  1346976000   \n",
       "2                     1                       1      1  1219017600   \n",
       "\n",
       "                 Summary                                               Text  \n",
       "0  Good Quality Dog Food  I have bought several of the Vitality canned d...  \n",
       "1      Not as Advertised  Product arrived labeled as Jumbo Salted Peanut...  \n",
       "2  \"Delight\" says it all  This is a confection that has been around a fe...  "
      ]
     },
     "execution_count": 2,
     "metadata": {},
     "output_type": "execute_result"
    }
   ],
   "source": [
    "# using SQLite Table to read data.\n",
    "con = sqlite3.connect('database.sqlite') \n",
    "\n",
    "# filtering only positive and negative reviews i.e. \n",
    "# not taking into consideration those reviews with Score=3\n",
    "# SELECT * FROM Reviews WHERE Score != 3 LIMIT 500000, will give top 500000 data points\n",
    "# you can change the number to any other number based on your computing power\n",
    "\n",
    "# filtered_data = pd.read_sql_query(\"\"\" SELECT * FROM Reviews WHERE Score != 3 LIMIT 500000\"\"\", con) \n",
    "# for tsne assignment you can take 5k data points\n",
    "\n",
    "filtered_data = pd.read_sql_query(\"\"\" SELECT * FROM Reviews WHERE Score != 3 LIMIT 100000\"\"\", con) \n",
    "\n",
    "# Give reviews with Score>3 a positive rating(1), and reviews with a score<3 a negative rating(0).\n",
    "def partition(x):\n",
    "    if x < 3:\n",
    "        return 0\n",
    "    return 1\n",
    "\n",
    "#changing reviews with score less than 3 to be positive and vice-versa\n",
    "actualScore = filtered_data['Score']\n",
    "positiveNegative = actualScore.map(partition) \n",
    "filtered_data['Score'] = positiveNegative\n",
    "print(\"Number of data points in our data\", filtered_data.shape)\n",
    "filtered_data.head(3)"
   ]
  },
  {
   "cell_type": "code",
   "execution_count": 3,
   "metadata": {},
   "outputs": [],
   "source": [
    "display = pd.read_sql_query(\"\"\"\n",
    "SELECT UserId, ProductId, ProfileName, Time, Score, Text, COUNT(*)\n",
    "FROM Reviews\n",
    "GROUP BY UserId\n",
    "HAVING COUNT(*)>1\n",
    "\"\"\", con)"
   ]
  },
  {
   "cell_type": "code",
   "execution_count": 4,
   "metadata": {
    "scrolled": true
   },
   "outputs": [
    {
     "name": "stdout",
     "output_type": "stream",
     "text": [
      "(80668, 7)\n"
     ]
    },
    {
     "data": {
      "text/html": [
       "<div>\n",
       "<style scoped>\n",
       "    .dataframe tbody tr th:only-of-type {\n",
       "        vertical-align: middle;\n",
       "    }\n",
       "\n",
       "    .dataframe tbody tr th {\n",
       "        vertical-align: top;\n",
       "    }\n",
       "\n",
       "    .dataframe thead th {\n",
       "        text-align: right;\n",
       "    }\n",
       "</style>\n",
       "<table border=\"1\" class=\"dataframe\">\n",
       "  <thead>\n",
       "    <tr style=\"text-align: right;\">\n",
       "      <th></th>\n",
       "      <th>UserId</th>\n",
       "      <th>ProductId</th>\n",
       "      <th>ProfileName</th>\n",
       "      <th>Time</th>\n",
       "      <th>Score</th>\n",
       "      <th>Text</th>\n",
       "      <th>COUNT(*)</th>\n",
       "    </tr>\n",
       "  </thead>\n",
       "  <tbody>\n",
       "    <tr>\n",
       "      <th>0</th>\n",
       "      <td>#oc-R115TNMSPFT9I7</td>\n",
       "      <td>B007Y59HVM</td>\n",
       "      <td>Breyton</td>\n",
       "      <td>1331510400</td>\n",
       "      <td>2</td>\n",
       "      <td>Overall its just OK when considering the price...</td>\n",
       "      <td>2</td>\n",
       "    </tr>\n",
       "    <tr>\n",
       "      <th>1</th>\n",
       "      <td>#oc-R11D9D7SHXIJB9</td>\n",
       "      <td>B005HG9ET0</td>\n",
       "      <td>Louis E. Emory \"hoppy\"</td>\n",
       "      <td>1342396800</td>\n",
       "      <td>5</td>\n",
       "      <td>My wife has recurring extreme muscle spasms, u...</td>\n",
       "      <td>3</td>\n",
       "    </tr>\n",
       "    <tr>\n",
       "      <th>2</th>\n",
       "      <td>#oc-R11DNU2NBKQ23Z</td>\n",
       "      <td>B007Y59HVM</td>\n",
       "      <td>Kim Cieszykowski</td>\n",
       "      <td>1348531200</td>\n",
       "      <td>1</td>\n",
       "      <td>This coffee is horrible and unfortunately not ...</td>\n",
       "      <td>2</td>\n",
       "    </tr>\n",
       "    <tr>\n",
       "      <th>3</th>\n",
       "      <td>#oc-R11O5J5ZVQE25C</td>\n",
       "      <td>B005HG9ET0</td>\n",
       "      <td>Penguin Chick</td>\n",
       "      <td>1346889600</td>\n",
       "      <td>5</td>\n",
       "      <td>This will be the bottle that you grab from the...</td>\n",
       "      <td>3</td>\n",
       "    </tr>\n",
       "    <tr>\n",
       "      <th>4</th>\n",
       "      <td>#oc-R12KPBODL2B5ZD</td>\n",
       "      <td>B007OSBE1U</td>\n",
       "      <td>Christopher P. Presta</td>\n",
       "      <td>1348617600</td>\n",
       "      <td>1</td>\n",
       "      <td>I didnt like this coffee. Instead of telling y...</td>\n",
       "      <td>2</td>\n",
       "    </tr>\n",
       "  </tbody>\n",
       "</table>\n",
       "</div>"
      ],
      "text/plain": [
       "               UserId   ProductId             ProfileName        Time  Score  \\\n",
       "0  #oc-R115TNMSPFT9I7  B007Y59HVM                 Breyton  1331510400      2   \n",
       "1  #oc-R11D9D7SHXIJB9  B005HG9ET0  Louis E. Emory \"hoppy\"  1342396800      5   \n",
       "2  #oc-R11DNU2NBKQ23Z  B007Y59HVM        Kim Cieszykowski  1348531200      1   \n",
       "3  #oc-R11O5J5ZVQE25C  B005HG9ET0           Penguin Chick  1346889600      5   \n",
       "4  #oc-R12KPBODL2B5ZD  B007OSBE1U   Christopher P. Presta  1348617600      1   \n",
       "\n",
       "                                                Text  COUNT(*)  \n",
       "0  Overall its just OK when considering the price...         2  \n",
       "1  My wife has recurring extreme muscle spasms, u...         3  \n",
       "2  This coffee is horrible and unfortunately not ...         2  \n",
       "3  This will be the bottle that you grab from the...         3  \n",
       "4  I didnt like this coffee. Instead of telling y...         2  "
      ]
     },
     "execution_count": 4,
     "metadata": {},
     "output_type": "execute_result"
    }
   ],
   "source": [
    "print(display.shape)\n",
    "display.head()"
   ]
  },
  {
   "cell_type": "code",
   "execution_count": 5,
   "metadata": {},
   "outputs": [
    {
     "data": {
      "text/html": [
       "<div>\n",
       "<style scoped>\n",
       "    .dataframe tbody tr th:only-of-type {\n",
       "        vertical-align: middle;\n",
       "    }\n",
       "\n",
       "    .dataframe tbody tr th {\n",
       "        vertical-align: top;\n",
       "    }\n",
       "\n",
       "    .dataframe thead th {\n",
       "        text-align: right;\n",
       "    }\n",
       "</style>\n",
       "<table border=\"1\" class=\"dataframe\">\n",
       "  <thead>\n",
       "    <tr style=\"text-align: right;\">\n",
       "      <th></th>\n",
       "      <th>UserId</th>\n",
       "      <th>ProductId</th>\n",
       "      <th>ProfileName</th>\n",
       "      <th>Time</th>\n",
       "      <th>Score</th>\n",
       "      <th>Text</th>\n",
       "      <th>COUNT(*)</th>\n",
       "    </tr>\n",
       "  </thead>\n",
       "  <tbody>\n",
       "    <tr>\n",
       "      <th>80638</th>\n",
       "      <td>AZY10LLTJ71NX</td>\n",
       "      <td>B006P7E5ZI</td>\n",
       "      <td>undertheshrine \"undertheshrine\"</td>\n",
       "      <td>1334707200</td>\n",
       "      <td>5</td>\n",
       "      <td>I was recommended to try green tea extract to ...</td>\n",
       "      <td>5</td>\n",
       "    </tr>\n",
       "  </tbody>\n",
       "</table>\n",
       "</div>"
      ],
      "text/plain": [
       "              UserId   ProductId                      ProfileName        Time  \\\n",
       "80638  AZY10LLTJ71NX  B006P7E5ZI  undertheshrine \"undertheshrine\"  1334707200   \n",
       "\n",
       "       Score                                               Text  COUNT(*)  \n",
       "80638      5  I was recommended to try green tea extract to ...         5  "
      ]
     },
     "execution_count": 5,
     "metadata": {},
     "output_type": "execute_result"
    }
   ],
   "source": [
    "display[display['UserId']=='AZY10LLTJ71NX']"
   ]
  },
  {
   "cell_type": "code",
   "execution_count": 6,
   "metadata": {},
   "outputs": [
    {
     "data": {
      "text/plain": [
       "393063"
      ]
     },
     "execution_count": 6,
     "metadata": {},
     "output_type": "execute_result"
    }
   ],
   "source": [
    "display['COUNT(*)'].sum()"
   ]
  },
  {
   "cell_type": "markdown",
   "metadata": {},
   "source": [
    "#  [2] Exploratory Data Analysis"
   ]
  },
  {
   "cell_type": "markdown",
   "metadata": {},
   "source": [
    "## [2.1] Data Cleaning: Deduplication\n",
    "\n",
    "It is observed (as shown in the table below) that the reviews data had many duplicate entries. Hence it was necessary to remove duplicates in order to get unbiased results for the analysis of the data.  Following is an example:"
   ]
  },
  {
   "cell_type": "code",
   "execution_count": 7,
   "metadata": {
    "scrolled": false
   },
   "outputs": [
    {
     "data": {
      "text/html": [
       "<div>\n",
       "<style scoped>\n",
       "    .dataframe tbody tr th:only-of-type {\n",
       "        vertical-align: middle;\n",
       "    }\n",
       "\n",
       "    .dataframe tbody tr th {\n",
       "        vertical-align: top;\n",
       "    }\n",
       "\n",
       "    .dataframe thead th {\n",
       "        text-align: right;\n",
       "    }\n",
       "</style>\n",
       "<table border=\"1\" class=\"dataframe\">\n",
       "  <thead>\n",
       "    <tr style=\"text-align: right;\">\n",
       "      <th></th>\n",
       "      <th>Id</th>\n",
       "      <th>ProductId</th>\n",
       "      <th>UserId</th>\n",
       "      <th>ProfileName</th>\n",
       "      <th>HelpfulnessNumerator</th>\n",
       "      <th>HelpfulnessDenominator</th>\n",
       "      <th>Score</th>\n",
       "      <th>Time</th>\n",
       "      <th>Summary</th>\n",
       "      <th>Text</th>\n",
       "    </tr>\n",
       "  </thead>\n",
       "  <tbody>\n",
       "    <tr>\n",
       "      <th>0</th>\n",
       "      <td>78445</td>\n",
       "      <td>B000HDL1RQ</td>\n",
       "      <td>AR5J8UI46CURR</td>\n",
       "      <td>Geetha Krishnan</td>\n",
       "      <td>2</td>\n",
       "      <td>2</td>\n",
       "      <td>5</td>\n",
       "      <td>1199577600</td>\n",
       "      <td>LOACKER QUADRATINI VANILLA WAFERS</td>\n",
       "      <td>DELICIOUS WAFERS. I FIND THAT EUROPEAN WAFERS ...</td>\n",
       "    </tr>\n",
       "    <tr>\n",
       "      <th>1</th>\n",
       "      <td>138317</td>\n",
       "      <td>B000HDOPYC</td>\n",
       "      <td>AR5J8UI46CURR</td>\n",
       "      <td>Geetha Krishnan</td>\n",
       "      <td>2</td>\n",
       "      <td>2</td>\n",
       "      <td>5</td>\n",
       "      <td>1199577600</td>\n",
       "      <td>LOACKER QUADRATINI VANILLA WAFERS</td>\n",
       "      <td>DELICIOUS WAFERS. I FIND THAT EUROPEAN WAFERS ...</td>\n",
       "    </tr>\n",
       "    <tr>\n",
       "      <th>2</th>\n",
       "      <td>138277</td>\n",
       "      <td>B000HDOPYM</td>\n",
       "      <td>AR5J8UI46CURR</td>\n",
       "      <td>Geetha Krishnan</td>\n",
       "      <td>2</td>\n",
       "      <td>2</td>\n",
       "      <td>5</td>\n",
       "      <td>1199577600</td>\n",
       "      <td>LOACKER QUADRATINI VANILLA WAFERS</td>\n",
       "      <td>DELICIOUS WAFERS. I FIND THAT EUROPEAN WAFERS ...</td>\n",
       "    </tr>\n",
       "    <tr>\n",
       "      <th>3</th>\n",
       "      <td>73791</td>\n",
       "      <td>B000HDOPZG</td>\n",
       "      <td>AR5J8UI46CURR</td>\n",
       "      <td>Geetha Krishnan</td>\n",
       "      <td>2</td>\n",
       "      <td>2</td>\n",
       "      <td>5</td>\n",
       "      <td>1199577600</td>\n",
       "      <td>LOACKER QUADRATINI VANILLA WAFERS</td>\n",
       "      <td>DELICIOUS WAFERS. I FIND THAT EUROPEAN WAFERS ...</td>\n",
       "    </tr>\n",
       "    <tr>\n",
       "      <th>4</th>\n",
       "      <td>155049</td>\n",
       "      <td>B000PAQ75C</td>\n",
       "      <td>AR5J8UI46CURR</td>\n",
       "      <td>Geetha Krishnan</td>\n",
       "      <td>2</td>\n",
       "      <td>2</td>\n",
       "      <td>5</td>\n",
       "      <td>1199577600</td>\n",
       "      <td>LOACKER QUADRATINI VANILLA WAFERS</td>\n",
       "      <td>DELICIOUS WAFERS. I FIND THAT EUROPEAN WAFERS ...</td>\n",
       "    </tr>\n",
       "  </tbody>\n",
       "</table>\n",
       "</div>"
      ],
      "text/plain": [
       "       Id   ProductId         UserId      ProfileName  HelpfulnessNumerator  \\\n",
       "0   78445  B000HDL1RQ  AR5J8UI46CURR  Geetha Krishnan                     2   \n",
       "1  138317  B000HDOPYC  AR5J8UI46CURR  Geetha Krishnan                     2   \n",
       "2  138277  B000HDOPYM  AR5J8UI46CURR  Geetha Krishnan                     2   \n",
       "3   73791  B000HDOPZG  AR5J8UI46CURR  Geetha Krishnan                     2   \n",
       "4  155049  B000PAQ75C  AR5J8UI46CURR  Geetha Krishnan                     2   \n",
       "\n",
       "   HelpfulnessDenominator  Score        Time  \\\n",
       "0                       2      5  1199577600   \n",
       "1                       2      5  1199577600   \n",
       "2                       2      5  1199577600   \n",
       "3                       2      5  1199577600   \n",
       "4                       2      5  1199577600   \n",
       "\n",
       "                             Summary  \\\n",
       "0  LOACKER QUADRATINI VANILLA WAFERS   \n",
       "1  LOACKER QUADRATINI VANILLA WAFERS   \n",
       "2  LOACKER QUADRATINI VANILLA WAFERS   \n",
       "3  LOACKER QUADRATINI VANILLA WAFERS   \n",
       "4  LOACKER QUADRATINI VANILLA WAFERS   \n",
       "\n",
       "                                                Text  \n",
       "0  DELICIOUS WAFERS. I FIND THAT EUROPEAN WAFERS ...  \n",
       "1  DELICIOUS WAFERS. I FIND THAT EUROPEAN WAFERS ...  \n",
       "2  DELICIOUS WAFERS. I FIND THAT EUROPEAN WAFERS ...  \n",
       "3  DELICIOUS WAFERS. I FIND THAT EUROPEAN WAFERS ...  \n",
       "4  DELICIOUS WAFERS. I FIND THAT EUROPEAN WAFERS ...  "
      ]
     },
     "execution_count": 7,
     "metadata": {},
     "output_type": "execute_result"
    }
   ],
   "source": [
    "display= pd.read_sql_query(\"\"\"\n",
    "SELECT *\n",
    "FROM Reviews\n",
    "WHERE Score != 3 AND UserId=\"AR5J8UI46CURR\"\n",
    "ORDER BY ProductID\n",
    "\"\"\", con)\n",
    "display.head()"
   ]
  },
  {
   "cell_type": "markdown",
   "metadata": {},
   "source": [
    "As it can be seen above that same user has multiple reviews with same values for HelpfulnessNumerator, HelpfulnessDenominator, Score, Time, Summary and Text and on doing analysis it was found that <br>\n",
    "<br> \n",
    "ProductId=B000HDOPZG was Loacker Quadratini Vanilla Wafer Cookies, 8.82-Ounce Packages (Pack of 8)<br>\n",
    "<br> \n",
    "ProductId=B000HDL1RQ was Loacker Quadratini Lemon Wafer Cookies, 8.82-Ounce Packages (Pack of 8) and so on<br>\n",
    "\n",
    "It was inferred after analysis that reviews with same parameters other than ProductId belonged to the same product just having different flavour or quantity. Hence in order to reduce redundancy it was decided to eliminate the rows having same parameters.<br>\n",
    "\n",
    "The method used for the same was that we first sort the data according to ProductId and then just keep the first similar product review and delelte the others. for eg. in the above just the review for ProductId=B000HDL1RQ remains. This method ensures that there is only one representative for each product and deduplication without sorting would lead to possibility of different representatives still existing for the same product."
   ]
  },
  {
   "cell_type": "code",
   "execution_count": 8,
   "metadata": {},
   "outputs": [],
   "source": [
    "#Sorting data according to ProductId in ascending order\n",
    "sorted_data=filtered_data.sort_values('ProductId', axis=0, ascending=True, inplace=False, kind='quicksort', na_position='last')"
   ]
  },
  {
   "cell_type": "code",
   "execution_count": 9,
   "metadata": {},
   "outputs": [
    {
     "data": {
      "text/plain": [
       "(87775, 10)"
      ]
     },
     "execution_count": 9,
     "metadata": {},
     "output_type": "execute_result"
    }
   ],
   "source": [
    "#Deduplication of entries\n",
    "final=sorted_data.drop_duplicates(subset={\"UserId\",\"ProfileName\",\"Time\",\"Text\"}, keep='first', inplace=False)\n",
    "final.shape"
   ]
  },
  {
   "cell_type": "code",
   "execution_count": 10,
   "metadata": {},
   "outputs": [
    {
     "data": {
      "text/plain": [
       "87.775"
      ]
     },
     "execution_count": 10,
     "metadata": {},
     "output_type": "execute_result"
    }
   ],
   "source": [
    "#Checking to see how much % of data still remains\n",
    "(final['Id'].size*1.0)/(filtered_data['Id'].size*1.0)*100"
   ]
  },
  {
   "cell_type": "markdown",
   "metadata": {},
   "source": [
    "<b>Observation:-</b> It was also seen that in two rows given below the value of HelpfulnessNumerator is greater than HelpfulnessDenominator which is not practically possible hence these two rows too are removed from calcualtions"
   ]
  },
  {
   "cell_type": "code",
   "execution_count": 11,
   "metadata": {},
   "outputs": [
    {
     "data": {
      "text/html": [
       "<div>\n",
       "<style scoped>\n",
       "    .dataframe tbody tr th:only-of-type {\n",
       "        vertical-align: middle;\n",
       "    }\n",
       "\n",
       "    .dataframe tbody tr th {\n",
       "        vertical-align: top;\n",
       "    }\n",
       "\n",
       "    .dataframe thead th {\n",
       "        text-align: right;\n",
       "    }\n",
       "</style>\n",
       "<table border=\"1\" class=\"dataframe\">\n",
       "  <thead>\n",
       "    <tr style=\"text-align: right;\">\n",
       "      <th></th>\n",
       "      <th>Id</th>\n",
       "      <th>ProductId</th>\n",
       "      <th>UserId</th>\n",
       "      <th>ProfileName</th>\n",
       "      <th>HelpfulnessNumerator</th>\n",
       "      <th>HelpfulnessDenominator</th>\n",
       "      <th>Score</th>\n",
       "      <th>Time</th>\n",
       "      <th>Summary</th>\n",
       "      <th>Text</th>\n",
       "    </tr>\n",
       "  </thead>\n",
       "  <tbody>\n",
       "    <tr>\n",
       "      <th>0</th>\n",
       "      <td>64422</td>\n",
       "      <td>B000MIDROQ</td>\n",
       "      <td>A161DK06JJMCYF</td>\n",
       "      <td>J. E. Stephens \"Jeanne\"</td>\n",
       "      <td>3</td>\n",
       "      <td>1</td>\n",
       "      <td>5</td>\n",
       "      <td>1224892800</td>\n",
       "      <td>Bought This for My Son at College</td>\n",
       "      <td>My son loves spaghetti so I didn't hesitate or...</td>\n",
       "    </tr>\n",
       "    <tr>\n",
       "      <th>1</th>\n",
       "      <td>44737</td>\n",
       "      <td>B001EQ55RW</td>\n",
       "      <td>A2V0I904FH7ABY</td>\n",
       "      <td>Ram</td>\n",
       "      <td>3</td>\n",
       "      <td>2</td>\n",
       "      <td>4</td>\n",
       "      <td>1212883200</td>\n",
       "      <td>Pure cocoa taste with crunchy almonds inside</td>\n",
       "      <td>It was almost a 'love at first bite' - the per...</td>\n",
       "    </tr>\n",
       "  </tbody>\n",
       "</table>\n",
       "</div>"
      ],
      "text/plain": [
       "      Id   ProductId          UserId              ProfileName  \\\n",
       "0  64422  B000MIDROQ  A161DK06JJMCYF  J. E. Stephens \"Jeanne\"   \n",
       "1  44737  B001EQ55RW  A2V0I904FH7ABY                      Ram   \n",
       "\n",
       "   HelpfulnessNumerator  HelpfulnessDenominator  Score        Time  \\\n",
       "0                     3                       1      5  1224892800   \n",
       "1                     3                       2      4  1212883200   \n",
       "\n",
       "                                        Summary  \\\n",
       "0             Bought This for My Son at College   \n",
       "1  Pure cocoa taste with crunchy almonds inside   \n",
       "\n",
       "                                                Text  \n",
       "0  My son loves spaghetti so I didn't hesitate or...  \n",
       "1  It was almost a 'love at first bite' - the per...  "
      ]
     },
     "execution_count": 11,
     "metadata": {},
     "output_type": "execute_result"
    }
   ],
   "source": [
    "display= pd.read_sql_query(\"\"\"\n",
    "SELECT *\n",
    "FROM Reviews\n",
    "WHERE Score != 3 AND Id=44737 OR Id=64422\n",
    "ORDER BY ProductID\n",
    "\"\"\", con)\n",
    "\n",
    "display.head()"
   ]
  },
  {
   "cell_type": "code",
   "execution_count": 12,
   "metadata": {},
   "outputs": [],
   "source": [
    "final=final[final.HelpfulnessNumerator<=final.HelpfulnessDenominator]"
   ]
  },
  {
   "cell_type": "code",
   "execution_count": 13,
   "metadata": {},
   "outputs": [
    {
     "name": "stdout",
     "output_type": "stream",
     "text": [
      "(87773, 10)\n"
     ]
    },
    {
     "data": {
      "text/plain": [
       "1    73592\n",
       "0    14181\n",
       "Name: Score, dtype: int64"
      ]
     },
     "execution_count": 13,
     "metadata": {},
     "output_type": "execute_result"
    }
   ],
   "source": [
    "#Before starting the next phase of preprocessing lets see the number of entries left\n",
    "print(final.shape)\n",
    "\n",
    "#How many positive and negative reviews are present in our dataset?\n",
    "final['Score'].value_counts()"
   ]
  },
  {
   "cell_type": "markdown",
   "metadata": {},
   "source": [
    "#  [3] Preprocessing"
   ]
  },
  {
   "cell_type": "code",
   "execution_count": 14,
   "metadata": {},
   "outputs": [],
   "source": [
    "from nltk.corpus import stopwords\n",
    "stop = set(stopwords.words('english')) #set of stopwords\n",
    "words_to_keep = set(('not'))\n",
    "stop -= words_to_keep\n",
    "\n",
    "sno = nltk.stem.SnowballStemmer('english')\n",
    "def cleanhtml(sentence): #function to clean any HTML Tags\n",
    "    cleanr = re.compile('<.*?>')\n",
    "    cleantext = re.sub(cleanr, ' ', sentence)\n",
    "    return cleantext\n",
    "def cleanpunc(sentence): #function to clean any word of punctuation or special character\n",
    "    cleaned = re.sub(r'[?|!|\\'|\"|#]',r'', sentence)\n",
    "    cleaned = re.sub(r'[.|,|)|(|\\|/]',r' ', cleaned)\n",
    "    return cleaned"
   ]
  },
  {
   "cell_type": "code",
   "execution_count": 15,
   "metadata": {},
   "outputs": [],
   "source": [
    "#code for implementing step by step check mentioned in preprocessing phase\n",
    "#runtime wiil be high due to 500k sentences\n",
    "i = 0\n",
    "str1 = ' '\n",
    "final_string = []\n",
    "all_positive_words = []\n",
    "all_negative_words = []\n",
    "s=''\n",
    "for sent in final['Text'].values:\n",
    "    filtered_sentence=[]\n",
    "    sent=cleanhtml(sent)\n",
    "    for w in sent.split():\n",
    "        for cleaned_words in cleanpunc(w).split():\n",
    "            if((cleaned_words.isalpha()) & (len(cleaned_words)>2)):\n",
    "                if(cleaned_words.lower() not in stop):\n",
    "                    s=(sno.stem(cleaned_words.lower())).encode('utf8')\n",
    "                    filtered_sentence.append(s)\n",
    "                    if (final['Score'].values)[i] == 'positive':\n",
    "                        all_positive_words.append(s)\n",
    "                    if (final['Score'].values)[i] == 'negative':\n",
    "                        all_negative_words.append(s)\n",
    "                else:\n",
    "                    continue\n",
    "            else:\n",
    "                continue\n",
    "    str1 = b\" \".join(filtered_sentence)\n",
    "    final_string.append(str1)\n",
    "    i+=1"
   ]
  },
  {
   "cell_type": "code",
   "execution_count": 16,
   "metadata": {},
   "outputs": [
    {
     "name": "stdout",
     "output_type": "stream",
     "text": [
      "shape of final (87773, 11)\n"
     ]
    },
    {
     "data": {
      "text/html": [
       "<div>\n",
       "<style scoped>\n",
       "    .dataframe tbody tr th:only-of-type {\n",
       "        vertical-align: middle;\n",
       "    }\n",
       "\n",
       "    .dataframe tbody tr th {\n",
       "        vertical-align: top;\n",
       "    }\n",
       "\n",
       "    .dataframe thead th {\n",
       "        text-align: right;\n",
       "    }\n",
       "</style>\n",
       "<table border=\"1\" class=\"dataframe\">\n",
       "  <thead>\n",
       "    <tr style=\"text-align: right;\">\n",
       "      <th></th>\n",
       "      <th>Id</th>\n",
       "      <th>ProductId</th>\n",
       "      <th>UserId</th>\n",
       "      <th>ProfileName</th>\n",
       "      <th>HelpfulnessNumerator</th>\n",
       "      <th>HelpfulnessDenominator</th>\n",
       "      <th>Score</th>\n",
       "      <th>Time</th>\n",
       "      <th>Summary</th>\n",
       "      <th>Text</th>\n",
       "      <th>cleanedText</th>\n",
       "    </tr>\n",
       "  </thead>\n",
       "  <tbody>\n",
       "    <tr>\n",
       "      <th>22620</th>\n",
       "      <td>24750</td>\n",
       "      <td>2734888454</td>\n",
       "      <td>A13ISQV0U9GZIC</td>\n",
       "      <td>Sandikaye</td>\n",
       "      <td>1</td>\n",
       "      <td>1</td>\n",
       "      <td>0</td>\n",
       "      <td>1192060800</td>\n",
       "      <td>made in china</td>\n",
       "      <td>My dogs loves this chicken but its a product f...</td>\n",
       "      <td>dog love chicken product china wont buy anymor...</td>\n",
       "    </tr>\n",
       "    <tr>\n",
       "      <th>22621</th>\n",
       "      <td>24751</td>\n",
       "      <td>2734888454</td>\n",
       "      <td>A1C298ITT645B6</td>\n",
       "      <td>Hugh G. Pritchard</td>\n",
       "      <td>0</td>\n",
       "      <td>0</td>\n",
       "      <td>1</td>\n",
       "      <td>1195948800</td>\n",
       "      <td>Dog Lover Delites</td>\n",
       "      <td>Our dogs just love them.  I saw them in a pet ...</td>\n",
       "      <td>dog love saw pet store tag attach regard made ...</td>\n",
       "    </tr>\n",
       "    <tr>\n",
       "      <th>70677</th>\n",
       "      <td>76870</td>\n",
       "      <td>B00002N8SM</td>\n",
       "      <td>A19Q006CSFT011</td>\n",
       "      <td>Arlielle</td>\n",
       "      <td>0</td>\n",
       "      <td>0</td>\n",
       "      <td>0</td>\n",
       "      <td>1288396800</td>\n",
       "      <td>only one fruitfly stuck</td>\n",
       "      <td>I had an infestation of fruitflies, they were ...</td>\n",
       "      <td>infest fruitfli liter everywher fli around kit...</td>\n",
       "    </tr>\n",
       "    <tr>\n",
       "      <th>70676</th>\n",
       "      <td>76869</td>\n",
       "      <td>B00002N8SM</td>\n",
       "      <td>A1FYH4S02BW7FN</td>\n",
       "      <td>wonderer</td>\n",
       "      <td>0</td>\n",
       "      <td>0</td>\n",
       "      <td>0</td>\n",
       "      <td>1290038400</td>\n",
       "      <td>Doesn't work!! Don't waste your money!!</td>\n",
       "      <td>Worst product I have gotten in long time. Woul...</td>\n",
       "      <td>worst product gotten long time would rate star...</td>\n",
       "    </tr>\n",
       "    <tr>\n",
       "      <th>70675</th>\n",
       "      <td>76868</td>\n",
       "      <td>B00002N8SM</td>\n",
       "      <td>AUE8TB5VHS6ZV</td>\n",
       "      <td>eyeofthestorm</td>\n",
       "      <td>0</td>\n",
       "      <td>0</td>\n",
       "      <td>0</td>\n",
       "      <td>1306972800</td>\n",
       "      <td>A big rip off</td>\n",
       "      <td>I wish I'd read the reviews before making this...</td>\n",
       "      <td>wish read review make purchas basic cardsotck ...</td>\n",
       "    </tr>\n",
       "  </tbody>\n",
       "</table>\n",
       "</div>"
      ],
      "text/plain": [
       "          Id   ProductId          UserId        ProfileName  \\\n",
       "22620  24750  2734888454  A13ISQV0U9GZIC          Sandikaye   \n",
       "22621  24751  2734888454  A1C298ITT645B6  Hugh G. Pritchard   \n",
       "70677  76870  B00002N8SM  A19Q006CSFT011           Arlielle   \n",
       "70676  76869  B00002N8SM  A1FYH4S02BW7FN           wonderer   \n",
       "70675  76868  B00002N8SM   AUE8TB5VHS6ZV      eyeofthestorm   \n",
       "\n",
       "       HelpfulnessNumerator  HelpfulnessDenominator  Score        Time  \\\n",
       "22620                     1                       1      0  1192060800   \n",
       "22621                     0                       0      1  1195948800   \n",
       "70677                     0                       0      0  1288396800   \n",
       "70676                     0                       0      0  1290038400   \n",
       "70675                     0                       0      0  1306972800   \n",
       "\n",
       "                                       Summary  \\\n",
       "22620                            made in china   \n",
       "22621                        Dog Lover Delites   \n",
       "70677                  only one fruitfly stuck   \n",
       "70676  Doesn't work!! Don't waste your money!!   \n",
       "70675                            A big rip off   \n",
       "\n",
       "                                                    Text  \\\n",
       "22620  My dogs loves this chicken but its a product f...   \n",
       "22621  Our dogs just love them.  I saw them in a pet ...   \n",
       "70677  I had an infestation of fruitflies, they were ...   \n",
       "70676  Worst product I have gotten in long time. Woul...   \n",
       "70675  I wish I'd read the reviews before making this...   \n",
       "\n",
       "                                             cleanedText  \n",
       "22620  dog love chicken product china wont buy anymor...  \n",
       "22621  dog love saw pet store tag attach regard made ...  \n",
       "70677  infest fruitfli liter everywher fli around kit...  \n",
       "70676  worst product gotten long time would rate star...  \n",
       "70675  wish read review make purchas basic cardsotck ...  "
      ]
     },
     "execution_count": 16,
     "metadata": {},
     "output_type": "execute_result"
    }
   ],
   "source": [
    "final['cleanedText']=final_string #Adding a column of Cleanedtext which displays data after preprocesing.\n",
    "final['cleanedText']=final['cleanedText'].str.decode(\"utf-8\")\n",
    "print('shape of final', final.shape)\n",
    "final.head()"
   ]
  },
  {
   "cell_type": "markdown",
   "metadata": {},
   "source": [
    "## [3.1].  Preprocessing Review Text\n",
    "\n",
    "Now that we have finished deduplication our data requires some preprocessing before we go on further with analysis and making the prediction model.\n",
    "\n",
    "Hence in the Preprocessing phase we do the following in the order below:-\n",
    "\n",
    "1. Begin by removing the html tags\n",
    "2. Remove any punctuations or limited set of special characters like , or . or # etc.\n",
    "3. Check if the word is made up of english letters and is not alpha-numeric\n",
    "4. Check to see if the length of the word is greater than 2 (as it was researched that there is no adjective in 2-letters)\n",
    "5. Convert the word to lowercase\n",
    "6. Remove Stopwords\n",
    "7. Finally Snowball Stemming the word (it was obsereved to be better than Porter Stemming)<br>\n",
    "\n",
    "After which we collect the words used to describe positive and negative reviews"
   ]
  },
  {
   "cell_type": "markdown",
   "metadata": {},
   "source": [
    "#### TimeBasedSplitting of data"
   ]
  },
  {
   "cell_type": "code",
   "execution_count": 17,
   "metadata": {},
   "outputs": [],
   "source": [
    "#sorting data according to time in ascending oreder for time based splitting\n",
    "from sklearn.model_selection import train_test_split\n",
    "time_sorted_data = final.sort_values('Time', axis=0, ascending=True, inplace=False, kind='quicksort', na_position='last')\n",
    "x = time_sorted_data['cleanedText'].values\n",
    "y = time_sorted_data['Score']\n",
    "#SPlit the dataset into Train and Test\n",
    "X_train,X_test,Y_train,Y_test=train_test_split(x, y, test_size=0.3, random_state=0)"
   ]
  },
  {
   "cell_type": "code",
   "execution_count": 18,
   "metadata": {},
   "outputs": [
    {
     "name": "stdout",
     "output_type": "stream",
     "text": [
      "My dogs loves this chicken but its a product from China, so we wont be buying it anymore.  Its very hard to find any chicken products made in the USA but they are out there, but this one isnt.  Its too bad too because its a good product but I wont take any chances till they know what is going on with the china imports.\n",
      "==================================================\n",
      "The Candy Blocks were a nice visual for the Lego Birthday party but the candy has little taste to it.  Very little of the 2 lbs that I bought were eaten and I threw the rest away.  I would not buy the candy again.\n",
      "==================================================\n",
      "was way to hot for my blood, took a bite and did a jig  lol\n",
      "==================================================\n",
      "My dog LOVES these treats. They tend to have a very strong fish oil smell. So if you are afraid of the fishy smell, don't get it. But I think my dog likes it because of the smell. These treats are really small in size. They are great for training. You can give your dog several of these without worrying about him over eating. Amazon's price was much more reasonable than any other retailer. You can buy a 1 pound bag on Amazon for almost the same price as a 6 ounce bag at other retailers. It's definitely worth it to buy a big bag if your dog eats them a lot.\n",
      "==================================================\n"
     ]
    }
   ],
   "source": [
    "# printing some random reviews\n",
    "sent_0 = final['Text'].values[0]\n",
    "print(sent_0)\n",
    "print(\"=\"*50)\n",
    "\n",
    "sent_1000 = final['Text'].values[1000]\n",
    "print(sent_1000)\n",
    "print(\"=\"*50)\n",
    "\n",
    "sent_1500 = final['Text'].values[1500]\n",
    "print(sent_1500)\n",
    "print(\"=\"*50)\n",
    "\n",
    "sent_4900 = final['Text'].values[4900]\n",
    "print(sent_4900)\n",
    "print(\"=\"*50)"
   ]
  },
  {
   "cell_type": "code",
   "execution_count": 19,
   "metadata": {},
   "outputs": [
    {
     "name": "stdout",
     "output_type": "stream",
     "text": [
      "My dogs loves this chicken but its a product from China, so we wont be buying it anymore.  Its very hard to find any chicken products made in the USA but they are out there, but this one isnt.  Its too bad too because its a good product but I wont take any chances till they know what is going on with the china imports.\n"
     ]
    }
   ],
   "source": [
    "# remove urls from text python: https://stackoverflow.com/a/40823105/4084039\n",
    "sent_0 = re.sub(r\"http\\S+\", \"\", sent_0)\n",
    "sent_1000 = re.sub(r\"http\\S+\", \"\", sent_1000)\n",
    "sent_150 = re.sub(r\"http\\S+\", \"\", sent_1500)\n",
    "sent_4900 = re.sub(r\"http\\S+\", \"\", sent_4900)\n",
    "\n",
    "print(sent_0)"
   ]
  },
  {
   "cell_type": "code",
   "execution_count": 20,
   "metadata": {},
   "outputs": [
    {
     "name": "stdout",
     "output_type": "stream",
     "text": [
      "My dogs loves this chicken but its a product from China, so we wont be buying it anymore.  Its very hard to find any chicken products made in the USA but they are out there, but this one isnt.  Its too bad too because its a good product but I wont take any chances till they know what is going on with the china imports.\n",
      "==================================================\n",
      "The Candy Blocks were a nice visual for the Lego Birthday party but the candy has little taste to it.  Very little of the 2 lbs that I bought were eaten and I threw the rest away.  I would not buy the candy again.\n",
      "==================================================\n",
      "was way to hot for my blood, took a bite and did a jig  lol\n",
      "==================================================\n",
      "My dog LOVES these treats. They tend to have a very strong fish oil smell. So if you are afraid of the fishy smell, don't get it. But I think my dog likes it because of the smell. These treats are really small in size. They are great for training. You can give your dog several of these without worrying about him over eating. Amazon's price was much more reasonable than any other retailer. You can buy a 1 pound bag on Amazon for almost the same price as a 6 ounce bag at other retailers. It's definitely worth it to buy a big bag if your dog eats them a lot.\n"
     ]
    }
   ],
   "source": [
    "# https://stackoverflow.com/questions/16206380/python-beautifulsoup-how-to-remove-all-tags-from-an-element\n",
    "from bs4 import BeautifulSoup\n",
    "\n",
    "soup = BeautifulSoup(sent_0, 'lxml')\n",
    "text = soup.get_text()\n",
    "print(text)\n",
    "print(\"=\"*50)\n",
    "\n",
    "soup = BeautifulSoup(sent_1000, 'lxml')\n",
    "text = soup.get_text()\n",
    "print(text)\n",
    "print(\"=\"*50)\n",
    "\n",
    "soup = BeautifulSoup(sent_1500, 'lxml')\n",
    "text = soup.get_text()\n",
    "print(text)\n",
    "print(\"=\"*50)\n",
    "\n",
    "soup = BeautifulSoup(sent_4900, 'lxml')\n",
    "text = soup.get_text()\n",
    "print(text)"
   ]
  },
  {
   "cell_type": "code",
   "execution_count": 21,
   "metadata": {},
   "outputs": [],
   "source": [
    "# https://stackoverflow.com/a/47091490/4084039\n",
    "import re\n",
    "\n",
    "def decontracted(phrase):\n",
    "    # specific\n",
    "    phrase = re.sub(r\"won't\", \"will not\", phrase)\n",
    "    phrase = re.sub(r\"can\\'t\", \"can not\", phrase)\n",
    "\n",
    "    # general\n",
    "    phrase = re.sub(r\"n\\'t\", \" not\", phrase)\n",
    "    phrase = re.sub(r\"\\'re\", \" are\", phrase)\n",
    "    phrase = re.sub(r\"\\'s\", \" is\", phrase)\n",
    "    phrase = re.sub(r\"\\'d\", \" would\", phrase)\n",
    "    phrase = re.sub(r\"\\'ll\", \" will\", phrase)\n",
    "    phrase = re.sub(r\"\\'t\", \" not\", phrase)\n",
    "    phrase = re.sub(r\"\\'ve\", \" have\", phrase)\n",
    "    phrase = re.sub(r\"\\'m\", \" am\", phrase)\n",
    "    return phrase"
   ]
  },
  {
   "cell_type": "code",
   "execution_count": 22,
   "metadata": {},
   "outputs": [
    {
     "name": "stdout",
     "output_type": "stream",
     "text": [
      "was way to hot for my blood, took a bite and did a jig  lol\n",
      "==================================================\n"
     ]
    }
   ],
   "source": [
    "sent_1500 = decontracted(sent_1500)\n",
    "print(sent_1500)\n",
    "print(\"=\"*50)"
   ]
  },
  {
   "cell_type": "code",
   "execution_count": 23,
   "metadata": {},
   "outputs": [
    {
     "name": "stdout",
     "output_type": "stream",
     "text": [
      "My dogs loves this chicken but its a product from China, so we wont be buying it anymore.  Its very hard to find any chicken products made in the USA but they are out there, but this one isnt.  Its too bad too because its a good product but I wont take any chances till they know what is going on with the china imports.\n"
     ]
    }
   ],
   "source": [
    "#remove words with numbers python: https://stackoverflow.com/a/18082370/4084039\n",
    "sent_0 = re.sub(\"\\S*\\d\\S*\", \"\", sent_0).strip()\n",
    "print(sent_0)"
   ]
  },
  {
   "cell_type": "code",
   "execution_count": 24,
   "metadata": {},
   "outputs": [
    {
     "name": "stdout",
     "output_type": "stream",
     "text": [
      "was way to hot for my blood took a bite and did a jig lol\n"
     ]
    }
   ],
   "source": [
    "#remove spacial character: https://stackoverflow.com/a/5843547/4084039\n",
    "sent_1500 = re.sub('[^A-Za-z0-9]+', ' ', sent_1500)\n",
    "print(sent_1500)"
   ]
  },
  {
   "cell_type": "code",
   "execution_count": 25,
   "metadata": {},
   "outputs": [],
   "source": [
    "# https://gist.github.com/sebleier/554280\n",
    "# we are removing the words from the stop words list: 'no', 'nor', 'not'\n",
    "# <br /><br /> ==> after the above steps, we are getting \"br br\"\n",
    "# we are including them into stop words list\n",
    "# instead of <br /> if we have <br/> these tags would have revmoved in the 1st step\n",
    "\n",
    "stopwords= set(['br', 'the', 'i', 'me', 'my', 'myself', 'we', 'our', 'ours', 'ourselves', 'you', \"you're\", \"you've\",\\\n",
    "            \"you'll\", \"you'd\", 'your', 'yours', 'yourself', 'yourselves', 'he', 'him', 'his', 'himself', \\\n",
    "            'she', \"she's\", 'her', 'hers', 'herself', 'it', \"it's\", 'its', 'itself', 'they', 'them', 'their',\\\n",
    "            'theirs', 'themselves', 'what', 'which', 'who', 'whom', 'this', 'that', \"that'll\", 'these', 'those', \\\n",
    "            'am', 'is', 'are', 'was', 'were', 'be', 'been', 'being', 'have', 'has', 'had', 'having', 'do', 'does', \\\n",
    "            'did', 'doing', 'a', 'an', 'the', 'and', 'but', 'if', 'or', 'because', 'as', 'until', 'while', 'of', \\\n",
    "            'at', 'by', 'for', 'with', 'about', 'against', 'between', 'into', 'through', 'during', 'before', 'after',\\\n",
    "            'above', 'below', 'to', 'from', 'up', 'down', 'in', 'out', 'on', 'off', 'over', 'under', 'again', 'further',\\\n",
    "            'then', 'once', 'here', 'there', 'when', 'where', 'why', 'how', 'all', 'any', 'both', 'each', 'few', 'more',\\\n",
    "            'most', 'other', 'some', 'such', 'only', 'own', 'same', 'so', 'than', 'too', 'very', \\\n",
    "            's', 't', 'can', 'will', 'just', 'don', \"don't\", 'should', \"should've\", 'now', 'd', 'll', 'm', 'o', 're', \\\n",
    "            've', 'y', 'ain', 'aren', \"aren't\", 'couldn', \"couldn't\", 'didn', \"didn't\", 'doesn', \"doesn't\", 'hadn',\\\n",
    "            \"hadn't\", 'hasn', \"hasn't\", 'haven', \"haven't\", 'isn', \"isn't\", 'ma', 'mightn', \"mightn't\", 'mustn',\\\n",
    "            \"mustn't\", 'needn', \"needn't\", 'shan', \"shan't\", 'shouldn', \"shouldn't\", 'wasn', \"wasn't\", 'weren', \"weren't\", \\\n",
    "            'won', \"won't\", 'wouldn', \"wouldn't\"])"
   ]
  },
  {
   "cell_type": "code",
   "execution_count": 26,
   "metadata": {},
   "outputs": [
    {
     "name": "stderr",
     "output_type": "stream",
     "text": [
      "100%|███████████████████████████████████████████████████████████████████████████| 87773/87773 [01:28<00:00, 991.29it/s]\n"
     ]
    }
   ],
   "source": [
    "# Combining all the above stundents \n",
    "from tqdm import tqdm\n",
    "preprocessed_reviews = []\n",
    "# tqdm is for printing the status bar\n",
    "for sentance in tqdm(final['Text'].values):\n",
    "    sentance = re.sub(r\"http\\S+\", \"\", sentance)\n",
    "    sentance = BeautifulSoup(sentance, 'lxml').get_text()\n",
    "    sentance = decontracted(sentance)\n",
    "    sentance = re.sub(\"\\S*\\d\\S*\", \"\", sentance).strip()\n",
    "    sentance = re.sub('[^A-Za-z]+', ' ', sentance)\n",
    "    # https://gist.github.com/sebleier/554280\n",
    "    sentance = ' '.join(e.lower() for e in sentance.split() if e.lower() not in stopwords)\n",
    "    preprocessed_reviews.append(sentance.strip())"
   ]
  },
  {
   "cell_type": "code",
   "execution_count": 28,
   "metadata": {},
   "outputs": [
    {
     "data": {
      "text/plain": [
       "'way hot blood took bite jig lol'"
      ]
     },
     "execution_count": 28,
     "metadata": {},
     "output_type": "execute_result"
    }
   ],
   "source": [
    "preprocessed_reviews[1500]"
   ]
  },
  {
   "cell_type": "markdown",
   "metadata": {},
   "source": [
    "<h2><font color='red'>[3.2] Preprocessing Review Summary</font></h2>"
   ]
  },
  {
   "cell_type": "code",
   "execution_count": 29,
   "metadata": {},
   "outputs": [
    {
     "name": "stderr",
     "output_type": "stream",
     "text": [
      "100%|██████████████████████████████████████████████████████████████████████████| 87773/87773 [01:00<00:00, 1439.14it/s]\n"
     ]
    }
   ],
   "source": [
    "## Similartly you can do preprocessing for review summary also.\n",
    "from tqdm import tqdm\n",
    "preprocessed_summaries = []\n",
    "# tqdm is for printing the status bar\n",
    "for sentance in tqdm(final['Text'].values):\n",
    "    sentance = re.sub(r\"http\\S+\", \"\", sentance)\n",
    "    sentance = BeautifulSoup(sentance, 'lxml').get_text()\n",
    "    sentance = decontracted(sentance)\n",
    "    sentance = re.sub(\"\\S*\\d\\S*\", \"\", sentance).strip()\n",
    "    sentance = re.sub('[^A-Za-z]+', ' ', sentance)\n",
    "    # https://gist.github.com/sebleier/554280\n",
    "    sentance = ' '.join(e.lower() for e in sentance.split() if e.lower() not in stopwords)\n",
    "    preprocessed_summaries.append(sentance.strip())"
   ]
  },
  {
   "cell_type": "markdown",
   "metadata": {},
   "source": [
    "# [4] Featurization"
   ]
  },
  {
   "cell_type": "markdown",
   "metadata": {},
   "source": [
    "## [4.1] BAG OF WORDS"
   ]
  },
  {
   "cell_type": "code",
   "execution_count": 25,
   "metadata": {},
   "outputs": [
    {
     "name": "stdout",
     "output_type": "stream",
     "text": [
      "some feature names  ['aa', 'aahhhs', 'aback', 'abandon', 'abates', 'abbott', 'abby', 'abdominal', 'abiding', 'ability']\n",
      "==================================================\n",
      "the type of count vectorizer  <class 'scipy.sparse.csr.csr_matrix'>\n",
      "the shape of out text BOW vectorizer  (4986, 12997)\n",
      "the number of unique words  12997\n"
     ]
    }
   ],
   "source": [
    "#BoW\n",
    "count_vect = CountVectorizer() #in scikit-learn\n",
    "count_vect.fit(preprocessed_reviews)\n",
    "print(\"some feature names \", count_vect.get_feature_names()[:10])\n",
    "print('='*50)\n",
    "\n",
    "final_counts = count_vect.transform(preprocessed_reviews)\n",
    "print(\"the type of count vectorizer \",type(final_counts))\n",
    "print(\"the shape of out text BOW vectorizer \",final_counts.get_shape())\n",
    "print(\"the number of unique words \", final_counts.get_shape()[1])"
   ]
  },
  {
   "cell_type": "markdown",
   "metadata": {},
   "source": [
    "## [4.2] Bi-Grams and n-Grams."
   ]
  },
  {
   "cell_type": "code",
   "execution_count": 26,
   "metadata": {},
   "outputs": [
    {
     "name": "stdout",
     "output_type": "stream",
     "text": [
      "the type of count vectorizer  <class 'scipy.sparse.csr.csr_matrix'>\n",
      "the shape of out text BOW vectorizer  (4986, 3144)\n",
      "the number of unique words including both unigrams and bigrams  3144\n"
     ]
    }
   ],
   "source": [
    "#bi-gram, tri-gram and n-gram\n",
    "\n",
    "#removing stop words like \"not\" should be avoided before building n-grams\n",
    "# count_vect = CountVectorizer(ngram_range=(1,2))\n",
    "# please do read the CountVectorizer documentation http://scikit-learn.org/stable/modules/generated/sklearn.feature_extraction.text.CountVectorizer.html\n",
    "\n",
    "# you can choose these numebrs min_df=10, max_features=5000, of your choice\n",
    "count_vect = CountVectorizer(ngram_range=(1,2), min_df=10, max_features=5000)\n",
    "final_bigram_counts = count_vect.fit_transform(preprocessed_reviews)\n",
    "print(\"the type of count vectorizer \",type(final_bigram_counts))\n",
    "print(\"the shape of out text BOW vectorizer \",final_bigram_counts.get_shape())\n",
    "print(\"the number of unique words including both unigrams and bigrams \", final_bigram_counts.get_shape()[1])"
   ]
  },
  {
   "cell_type": "markdown",
   "metadata": {},
   "source": [
    "## [4.3] TF-IDF"
   ]
  },
  {
   "cell_type": "code",
   "execution_count": null,
   "metadata": {},
   "outputs": [],
   "source": [
    "from sklearn.feature_extraction.text import TfidfTransformer\n",
    "from sklearn.feature_extraction.text import TfidfVectorizer\n",
    "tf_idf_vect = TfidfVectorizer(ngram_range=(1,2), min_df=10)\n",
    "tf_idf_vect.fit(preprocessed_reviews)\n",
    "print(\"some sample features(unique words in the corpus)\",tf_idf_vect.get_feature_names()[0:10])\n",
    "print('='*50)\n",
    "\n",
    "final_tf_idf = tf_idf_vect.transform(preprocessed_reviews)\n",
    "print(\"the type of count vectorizer \",type(final_tf_idf))\n",
    "print(\"the shape of out text TFIDF vectorizer \",final_tf_idf.get_shape())\n",
    "print(\"the number of unique words including both unigrams and bigrams \", final_tf_idf.get_shape()[1])"
   ]
  },
  {
   "cell_type": "markdown",
   "metadata": {},
   "source": [
    "## [4.4] Word2Vec"
   ]
  },
  {
   "cell_type": "code",
   "execution_count": 28,
   "metadata": {},
   "outputs": [],
   "source": [
    "# Train your own Word2Vec model using your own text corpus\n",
    "i=0\n",
    "list_of_sentance=[]\n",
    "for sentance in preprocessed_reviews:\n",
    "    list_of_sentance.append(sentance.split())"
   ]
  },
  {
   "cell_type": "code",
   "execution_count": 42,
   "metadata": {
    "scrolled": true
   },
   "outputs": [
    {
     "name": "stdout",
     "output_type": "stream",
     "text": [
      "[('snack', 0.9951335191726685), ('calorie', 0.9946465492248535), ('wonderful', 0.9946032166481018), ('excellent', 0.9944332838058472), ('especially', 0.9941144585609436), ('baked', 0.9940600395202637), ('salted', 0.994047224521637), ('alternative', 0.9937226176261902), ('tasty', 0.9936816692352295), ('healthy', 0.9936649799346924)]\n",
      "==================================================\n",
      "[('varieties', 0.9994194507598877), ('become', 0.9992934465408325), ('popcorn', 0.9992750883102417), ('de', 0.9992610216140747), ('miss', 0.9992451071739197), ('melitta', 0.999218761920929), ('choice', 0.9992102384567261), ('american', 0.9991837739944458), ('beef', 0.9991780519485474), ('finish', 0.9991567134857178)]\n"
     ]
    }
   ],
   "source": [
    "# Using Google News Word2Vectors\n",
    "\n",
    "# in this project we are using a pretrained model by google\n",
    "# its 3.3G file, once you load this into your memory \n",
    "# it occupies ~9Gb, so please do this step only if you have >12G of ram\n",
    "# we will provide a pickle file wich contains a dict , \n",
    "# and it contains all our courpus words as keys and  model[word] as values\n",
    "# To use this code-snippet, download \"GoogleNews-vectors-negative300.bin\" \n",
    "# from https://drive.google.com/file/d/0B7XkCwpI5KDYNlNUTTlSS21pQmM/edit\n",
    "# it's 1.9GB in size.\n",
    "\n",
    "\n",
    "# http://kavita-ganesan.com/gensim-word2vec-tutorial-starter-code/#.W17SRFAzZPY\n",
    "# you can comment this whole cell\n",
    "# or change these varible according to your need\n",
    "\n",
    "is_your_ram_gt_16g=False\n",
    "want_to_use_google_w2v = False\n",
    "want_to_train_w2v = True\n",
    "\n",
    "if want_to_train_w2v:\n",
    "    # min_count = 5 considers only words that occured atleast 5 times\n",
    "    w2v_model=Word2Vec(list_of_sentance,min_count=5,size=50, workers=4)\n",
    "    print(w2v_model.wv.most_similar('great'))\n",
    "    print('='*50)\n",
    "    print(w2v_model.wv.most_similar('worst'))\n",
    "    \n",
    "elif want_to_use_google_w2v and is_your_ram_gt_16g:\n",
    "    if os.path.isfile('GoogleNews-vectors-negative300.bin'):\n",
    "        w2v_model=KeyedVectors.load_word2vec_format('GoogleNews-vectors-negative300.bin', binary=True)\n",
    "        print(w2v_model.wv.most_similar('great'))\n",
    "        print(w2v_model.wv.most_similar('worst'))\n",
    "    else:\n",
    "        print(\"you don't have gogole's word2vec file, keep want_to_train_w2v = True, to train your own w2v \")"
   ]
  },
  {
   "cell_type": "code",
   "execution_count": 36,
   "metadata": {},
   "outputs": [
    {
     "name": "stdout",
     "output_type": "stream",
     "text": [
      "number of words that occured minimum 5 times  3817\n",
      "sample words  ['product', 'available', 'course', 'total', 'pretty', 'stinky', 'right', 'nearby', 'used', 'ca', 'not', 'beat', 'great', 'received', 'shipment', 'could', 'hardly', 'wait', 'try', 'love', 'call', 'instead', 'removed', 'easily', 'daughter', 'designed', 'printed', 'use', 'car', 'windows', 'beautifully', 'shop', 'program', 'going', 'lot', 'fun', 'everywhere', 'like', 'tv', 'computer', 'really', 'good', 'idea', 'final', 'outstanding', 'window', 'everybody', 'asks', 'bought', 'made']\n"
     ]
    }
   ],
   "source": [
    "w2v_words = list(w2v_model.wv.vocab)\n",
    "print(\"number of words that occured minimum 5 times \",len(w2v_words))\n",
    "print(\"sample words \", w2v_words[0:50])"
   ]
  },
  {
   "cell_type": "markdown",
   "metadata": {},
   "source": [
    "## [4.4.1] Converting text into vectors using Avg W2V, TFIDF-W2V"
   ]
  },
  {
   "cell_type": "markdown",
   "metadata": {},
   "source": [
    "#### [4.4.1.1] Avg W2v"
   ]
  },
  {
   "cell_type": "code",
   "execution_count": 38,
   "metadata": {},
   "outputs": [
    {
     "name": "stderr",
     "output_type": "stream",
     "text": [
      "100%|████████████████████████████████████████████████████████████████████████████| 4986/4986 [00:03<00:00, 1330.47it/s]\n"
     ]
    },
    {
     "name": "stdout",
     "output_type": "stream",
     "text": [
      "4986\n",
      "50\n"
     ]
    }
   ],
   "source": [
    "# average Word2Vec\n",
    "# compute average word2vec for each review.\n",
    "sent_vectors = []; # the avg-w2v for each sentence/review is stored in this list\n",
    "for sent in tqdm(list_of_sentance): # for each review/sentence\n",
    "    sent_vec = np.zeros(50) # as word vectors are of zero length 50, you might need to change this to 300 if you use google's w2v\n",
    "    cnt_words =0; # num of words with a valid vector in the sentence/review\n",
    "    for word in sent: # for each word in a review/sentence\n",
    "        if word in w2v_words:\n",
    "            vec = w2v_model.wv[word]\n",
    "            sent_vec += vec\n",
    "            cnt_words += 1\n",
    "    if cnt_words != 0:\n",
    "        sent_vec /= cnt_words\n",
    "    sent_vectors.append(sent_vec)\n",
    "print(len(sent_vectors))\n",
    "print(len(sent_vectors[0]))"
   ]
  },
  {
   "cell_type": "markdown",
   "metadata": {},
   "source": [
    "#### [4.4.1.2] TFIDF weighted W2v"
   ]
  },
  {
   "cell_type": "code",
   "execution_count": 39,
   "metadata": {},
   "outputs": [],
   "source": [
    "# S = [\"abc def pqr\", \"def def def abc\", \"pqr pqr def\"]\n",
    "model = TfidfVectorizer()\n",
    "tf_idf_matrix = model.fit_transform(preprocessed_reviews)\n",
    "# we are converting a dictionary with word as a key, and the idf as a value\n",
    "dictionary = dict(zip(model.get_feature_names(), list(model.idf_)))"
   ]
  },
  {
   "cell_type": "code",
   "execution_count": 41,
   "metadata": {
    "scrolled": true
   },
   "outputs": [
    {
     "name": "stderr",
     "output_type": "stream",
     "text": [
      "100%|█████████████████████████████████████████████████████████████████████████████| 4986/4986 [00:20<00:00, 245.63it/s]\n"
     ]
    }
   ],
   "source": [
    "# TF-IDF weighted Word2Vec\n",
    "tfidf_feat = model.get_feature_names() # tfidf words/col-names\n",
    "# final_tf_idf is the sparse matrix with row= sentence, col=word and cell_val = tfidf\n",
    "\n",
    "tfidf_sent_vectors = []; # the tfidf-w2v for each sentence/review is stored in this list\n",
    "row=0;\n",
    "for sent in tqdm(list_of_sentance): # for each review/sentence \n",
    "    sent_vec = np.zeros(50) # as word vectors are of zero length\n",
    "    weight_sum =0; # num of words with a valid vector in the sentence/review\n",
    "    for word in sent: # for each word in a review/sentence\n",
    "        if word in w2v_words and word in tfidf_feat:\n",
    "            vec = w2v_model.wv[word]\n",
    "#             tf_idf = tf_idf_matrix[row, tfidf_feat.index(word)]\n",
    "            # to reduce the computation we are \n",
    "            # dictionary[word] = idf value of word in whole courpus\n",
    "            # sent.count(word) = tf valeus of word in this review\n",
    "            tf_idf = dictionary[word]*(sent.count(word)/len(sent))\n",
    "            sent_vec += (vec * tf_idf)\n",
    "            weight_sum += tf_idf\n",
    "    if weight_sum != 0:\n",
    "        sent_vec /= weight_sum\n",
    "    tfidf_sent_vectors.append(sent_vec)\n",
    "    row += 1"
   ]
  },
  {
   "cell_type": "markdown",
   "metadata": {},
   "source": [
    "# [5] Assignment 7: SVM"
   ]
  },
  {
   "cell_type": "markdown",
   "metadata": {},
   "source": [
    "<ol>\n",
    "    <li><strong>Apply SVM on these feature sets</strong>\n",
    "        <ul>\n",
    "            <li><font color='red'>SET 1:</font>Review text, preprocessed one converted into vectors using (BOW)</li>\n",
    "            <li><font color='red'>SET 2:</font>Review text, preprocessed one converted into vectors using (TFIDF)</li>\n",
    "            <li><font color='red'>SET 3:</font>Review text, preprocessed one converted into vectors using (AVG W2v)</li>\n",
    "            <li><font color='red'>SET 4:</font>Review text, preprocessed one converted into vectors using (TFIDF W2v)</li>\n",
    "        </ul>\n",
    "    </li>\n",
    "    <br>\n",
    "    <li><strong>Procedure</strong>\n",
    "        <ul>\n",
    "    <li>You need to work with 2 versions of SVM\n",
    "        <ul><li>Linear kernel</li>\n",
    "            <li>RBF kernel</li></ul>\n",
    "    <li>When you are working with linear kernel, use SGDClassifier’ with hinge loss because it is computationally less expensive.</li>\n",
    "    <li>When you are working with ‘SGDClassifier’ with hinge loss and trying to find the AUC\n",
    "        score, you would have to use <a href='https://scikit-learn.org/stable/modules/generated/sklearn.calibration.CalibratedClassifierCV.html'>CalibratedClassifierCV</a></li>\n",
    "    <li>Similarly, like kdtree of knn, when you are working with RBF kernel it's better to reduce\n",
    "the number of dimensions. You can put min_df = 10, max_features = 500 and consider a sample size of 40k points.</li>                \n",
    "        </ul>\n",
    "    </li>\n",
    "    <br>\n",
    "    <li><strong>Hyper paramter tuning (find best alpha in range [10^-4 to 10^4], and the best penalty among 'l1', 'l2')</strong>\n",
    "        <ul>\n",
    "    <li>Find the best hyper parameter which will give the maximum <a href='https://www.appliedaicourse.com/course/applied-ai-course-online/lessons/receiver-operating-characteristic-curve-roc-curve-and-auc-1/'>AUC</a> value</li>\n",
    "    <li>Find the best hyper paramter using k-fold cross validation or simple cross validation data</li>\n",
    "    <li>Use gridsearch cv or randomsearch cv or you can also write your own for loops to do this task of hyperparameter tuning</li>          \n",
    "        </ul>\n",
    "    </li>\n",
    "    <br>\n",
    "    <li><strong>Feature importance</strong>\n",
    "        <ul>\n",
    "    <li>When you are working on the linear kernel with BOW or TFIDF please print the top 10 best\n",
    "features for each of the positive and negative classes.</li>\n",
    "        </ul>\n",
    "    </li>\n",
    "    <br>\n",
    "    <li><strong>Feature engineering</strong>\n",
    "        <ul>\n",
    "    <li>To increase the performance of your model, you can also experiment with with feature engineering like :</li>\n",
    "            <ul>\n",
    "            <li>Taking length of reviews as another feature.</li>\n",
    "            <li>Considering some features from review summary as well.</li>\n",
    "        </ul>\n",
    "        </ul>\n",
    "    </li>\n",
    "    <br>\n",
    "    <li><strong>Representation of results</strong>\n",
    "        <ul>\n",
    "    <li>You need to plot the performance of model both on train data and cross validation data for each hyper parameter, like shown in the figure.\n",
    "    <img src='train_cv_auc.JPG' width=300px></li>\n",
    "    <li>Once after you found the best hyper parameter, you need to train your model with it, and find the AUC on test data and plot the ROC curve on both train and test.\n",
    "    <img src='train_test_auc.JPG' width=300px></li>\n",
    "    <li>Along with plotting ROC curve, you need to print the <a href='https://www.appliedaicourse.com/course/applied-ai-course-online/lessons/confusion-matrix-tpr-fpr-fnr-tnr-1/'>confusion matrix</a> with predicted and original labels of test data points. Please visualize your confusion matrices using <a href='https://seaborn.pydata.org/generated/seaborn.heatmap.html'>seaborn heatmaps.\n",
    "    <img src='confusion_matrix.png' width=300px></li>\n",
    "        </ul>\n",
    "    </li>\n",
    "    <br>\n",
    "    <li><strong>Conclusion</strong>\n",
    "        <ul>\n",
    "    <li>You need to summarize the results at the end of the notebook, summarize it in the table format. To print out a table please refer to this prettytable library<a href='http://zetcode.com/python/prettytable/'>  link</a> \n",
    "        <img src='summary.JPG' width=400px>\n",
    "    </li>\n",
    "        </ul>\n",
    "</ol>"
   ]
  },
  {
   "cell_type": "markdown",
   "metadata": {},
   "source": [
    "<h4><font color='red'>Note: Data Leakage</font></h4>\n",
    "\n",
    "1. There will be an issue of data-leakage if you vectorize the entire data and then split it into train/cv/test.\n",
    "2. To avoid the issue of data-leakag, make sure to split your data first and then vectorize it. \n",
    "3. While vectorizing your data, apply the method fit_transform() on you train data, and apply the method transform() on cv/test data.\n",
    "4. For more details please go through this <a href='https://soundcloud.com/applied-ai-course/leakage-bow-and-tfidf'>link.</a>"
   ]
  },
  {
   "cell_type": "markdown",
   "metadata": {},
   "source": [
    "# Applying SVM"
   ]
  },
  {
   "cell_type": "markdown",
   "metadata": {},
   "source": [
    "## [5.1] Linear SVM"
   ]
  },
  {
   "cell_type": "markdown",
   "metadata": {},
   "source": [
    "### [5.1.1] Applying Linear SVM on BOW,<font color='red'> SET 1</font>"
   ]
  },
  {
   "cell_type": "code",
   "execution_count": 27,
   "metadata": {},
   "outputs": [
    {
     "name": "stdout",
     "output_type": "stream",
     "text": [
      "the type of count vectorizer  <class 'scipy.sparse.csr.csr_matrix'>\n",
      "the shape of out text BOW vectorizer  (61441, 2073)\n",
      "the number of unique words  2073\n"
     ]
    }
   ],
   "source": [
    "# Please write all the code with proper documentation\n",
    "#Bow\n",
    "count_vect = CountVectorizer(min_df =100)\n",
    "X_train_vec = count_vect.fit_transform(X_train)\n",
    "X_test_vec = count_vect.transform(X_test)\n",
    "print(\"the type of count vectorizer \",type(X_train_vec))\n",
    "print(\"the shape of out text BOW vectorizer \",X_train_vec.get_shape())\n",
    "print(\"the number of unique words \", X_train_vec.get_shape()[1])"
   ]
  },
  {
   "cell_type": "code",
   "execution_count": 28,
   "metadata": {},
   "outputs": [],
   "source": [
    "#Standardizing\n",
    "import warnings\n",
    "warnings.filterwarnings('ignore')\n",
    "from sklearn.preprocessing import StandardScaler\n",
    "sc = StandardScaler(with_mean=False)\n",
    "X_train_vec_standardized = sc.fit_transform(X_train_vec)\n",
    "X_test_vec_standardized = sc.transform(X_test_vec)"
   ]
  },
  {
   "cell_type": "markdown",
   "metadata": {},
   "source": [
    "#### GridSearchCV implementation SGDClassifier(With Hinge-Loss)"
   ]
  },
  {
   "cell_type": "code",
   "execution_count": 29,
   "metadata": {},
   "outputs": [
    {
     "name": "stdout",
     "output_type": "stream",
     "text": [
      "Model with best parameters :\n",
      " SGDClassifier(alpha=0.1, average=False, class_weight=None, epsilon=0.1,\n",
      "       eta0=0.0, fit_intercept=True, l1_ratio=0.15,\n",
      "       learning_rate='optimal', loss='hinge', max_iter=None, n_iter=None,\n",
      "       n_jobs=1, penalty='l2', power_t=0.5, random_state=None,\n",
      "       shuffle=True, tol=None, verbose=0, warm_start=False)\n",
      "Accuracy of model :  0.913186709455\n",
      "The Optimal value Of alpha(1/C) is :  0.1\n"
     ]
    }
   ],
   "source": [
    "# Importing libraries\n",
    "from sklearn.linear_model import SGDClassifier\n",
    "from sklearn.metrics import f1_score\n",
    "from sklearn.metrics import accuracy_score\n",
    "from sklearn.metrics import precision_score\n",
    "from sklearn.metrics import f1_score\n",
    "from sklearn.metrics import recall_score\n",
    "from sklearn.model_selection import GridSearchCV, RandomizedSearchCV\n",
    "from sklearn.preprocessing import StandardScaler\n",
    "from sklearn.calibration import CalibratedClassifierCV\n",
    "from sklearn.svm import SVC\n",
    "from sklearn.linear_model import SGDClassifier\n",
    "from scipy import *\n",
    "from scipy.sparse import *\n",
    "from scipy.stats import uniform\n",
    "from prettytable import PrettyTable\n",
    "\n",
    "Alpha = [0.001, 0.01, 0.1, 1, 10]\n",
    "param_grid={'alpha': Alpha}\n",
    "model = GridSearchCV(SGDClassifier(), param_grid, scoring='roc_auc', cv=3, n_jobs=-1, pre_dispatch=2)\n",
    "model.fit(X_train_vec_standardized, Y_train)\n",
    "print(\"Model with best parameters :\\n\", model.best_estimator_)\n",
    "print(\"Accuracy of model : \", model.score(X_test_vec_standardized, Y_test))\n",
    "\n",
    "optimal_alpha = model.best_estimator_.alpha\n",
    "print(\"The Optimal value Of alpha(1/C) is : \", optimal_alpha)\n",
    "\n",
    "#SGDClassifier with  Optimal value of alpha:(1/C)\n",
    "sgd = SGDClassifier(alpha=optimal_alpha, n_jobs=-1)\n",
    "sgd.fit(X_train_vec_standardized, Y_train)\n",
    "\n",
    "# linear svc with sigmoid calibration\n",
    "calib = CalibratedClassifierCV(sgd, method = \"sigmoid\", cv = \"prefit\")\n",
    "calib.fit(X_train_vec_standardized, Y_train)\n",
    "predictions = sgd.predict(X_test_vec_standardized)\n",
    "# Predict probabilistic response\n",
    "pred_prob = calib.predict_proba(X_test_vec_standardized)[:,1]\n",
    "\n",
    "#varibles will be used at conclusion part\n",
    "bow_grid_alpha = optimal_alpha\n",
    "bow_grid_train_acc = model.score(X_test_vec_standardized, Y_test)*100\n",
    "bow_grid_test_acc = accuracy_score(Y_test, predictions) * 100"
   ]
  },
  {
   "cell_type": "code",
   "execution_count": 39,
   "metadata": {},
   "outputs": [
    {
     "data": {
      "text/plain": [
       "(array([  0.00000000e+00,   0.00000000e+00,   2.36183278e-04, ...,\n",
       "          9.97874350e-01,   9.97874350e-01,   1.00000000e+00]),\n",
       " array([  1.35758892e-04,   1.49334781e-03,   1.49334781e-03, ...,\n",
       "          9.99954747e-01,   1.00000000e+00,   1.00000000e+00]),\n",
       " array([  1.00000000e+00,   1.00000000e+00,   1.00000000e+00, ...,\n",
       "          9.69457565e-07,   7.20385550e-07,   1.26184867e-08]))"
      ]
     },
     "execution_count": 39,
     "metadata": {},
     "output_type": "execute_result"
    }
   ],
   "source": [
    "#ROC curve over Test Data\n",
    "from sklearn.metrics import roc_curve\n",
    "metrics.roc_curve(Y_test,pred_prob)"
   ]
  },
  {
   "cell_type": "code",
   "execution_count": 57,
   "metadata": {},
   "outputs": [
    {
     "data": {
      "image/png": "[encoded data removed]",
      "text/plain": [
       "<Figure size 432x288 with 1 Axes>"
      ]
     },
     "metadata": {
      "needs_background": "light"
     },
     "output_type": "display_data"
    }
   ],
   "source": [
    "import matplotlib.pyplot as plt\n",
    "import numpy as np\n",
    "\n",
    "from sklearn.model_selection import validation_curve\n",
    "\n",
    "\n",
    "param_range = np.logspace(-5, 1, 5)\n",
    "train_scores, test_scores = validation_curve(\n",
    "    SGDClassifier(),X_train_vec_standardized, Y_train, param_name=\"alpha\", param_range=param_range,\n",
    "    cv=3, scoring=\"roc_auc\", n_jobs=1)\n",
    "train_scores_mean = np.mean(train_scores, axis=1)\n",
    "train_scores_std = np.std(train_scores, axis=1)\n",
    "test_scores_mean = np.mean(test_scores, axis=1)\n",
    "test_scores_std = np.std(test_scores, axis=1)\n",
    "\n",
    "plt.title(\"Hyperparameter Vs AUC\")\n",
    "plt.xlabel(\"$alpha$\")\n",
    "plt.ylabel(\"AUC\")\n",
    "plt.ylim(0.0, 1.1)\n",
    "lw = 2\n",
    "plt.semilogx(param_range, train_scores_mean, label=\"Training score\",\n",
    "             color=\"darkorange\", lw=lw)\n",
    "plt.fill_between(param_range, train_scores_mean - train_scores_std,\n",
    "                 train_scores_mean + train_scores_std, alpha=0.1,\n",
    "                 color=\"darkorange\", lw=lw)\n",
    "plt.semilogx(param_range, test_scores_mean, label=\"Cross-validation score\",\n",
    "             color=\"navy\", lw=lw)\n",
    "plt.fill_between(param_range, test_scores_mean - test_scores_std,\n",
    "                 test_scores_mean + test_scores_std, alpha=0.1,\n",
    "                 color=\"navy\", lw=lw)\n",
    "plt.legend(loc=\"best\")\n",
    "plt.show()"
   ]
  },
  {
   "cell_type": "code",
   "execution_count": 29,
   "metadata": {},
   "outputs": [
    {
     "data": {
      "image/png": "[encoded data removed]",
      "text/plain": [
       "<Figure size 432x288 with 1 Axes>"
      ]
     },
     "metadata": {
      "needs_background": "light"
     },
     "output_type": "display_data"
    }
   ],
   "source": [
    "from cycler import cycler\n",
    "fpr, tpr, threshold = metrics.roc_curve(Y_test, calib.predict_proba(X_test_vec_standardized)[:,1])\n",
    "fpr2, tpr2, threshold2 = metrics.roc_curve(Y_train, calib.predict_proba(X_train_vec_standardized)[:,1])\n",
    "\n",
    "roc_auc = metrics.auc(fpr, tpr)\n",
    "roc_auc2 = metrics.auc(fpr2, tpr2)\n",
    "\n",
    "# method I: plt\n",
    "import matplotlib.pyplot as plt\n",
    "f, ax = plt.subplots()\n",
    "plt.title('Receiver Operating Characteristic Curve')\n",
    "cy = cycler('color', ['red', 'green', 'blue'])\n",
    "ax.set_prop_cycle(cy)\n",
    "ax.plot(fpr, tpr, label = 'AUC = %0.2f' % roc_auc)\n",
    "ax.plot(fpr2, tpr2, label = 'AUC = %0.2f' % roc_auc2)\n",
    "plt.legend(['TEST Data', 'TRAIN Data'],loc = 'lower right')\n",
    "\n",
    "ax.plot([0, 1], [0, 1])\n",
    "plt.xlim([0, 1])\n",
    "plt.ylim([0, 1])\n",
    "plt.ylabel('True Positive Rate')\n",
    "plt.xlabel('False Positive Rate')\n",
    "plt.show()"
   ]
  },
  {
   "cell_type": "code",
   "execution_count": 37,
   "metadata": {},
   "outputs": [
    {
     "name": "stdout",
     "output_type": "stream",
     "text": [
      "\n",
      "Test Accuracy Of Classifier C = 0.100 is 91.329941%\n",
      "\n",
      "Test Precsion Of Classifier C = 0.100 is 0.925269\n",
      "\n",
      "Test recall  Of Classifier C = 0.100 is 0.975473\n",
      "\n",
      "Test F1-score  Of Classifier C = 0.100 is 0.949708\n"
     ]
    }
   ],
   "source": [
    "#Evaluate Accuracy\n",
    "acc = accuracy_score(Y_test, predictions)* 100\n",
    "print('\\nTest Accuracy Of Classifier C = %.3f is %f%%' % (optimal_alpha, acc))\n",
    "\n",
    "#Evaluate Precision\n",
    "acc = precision_score(Y_test, predictions)\n",
    "print('\\nTest Precsion Of Classifier C = %.3f is %f' % (optimal_alpha, acc))\n",
    "\n",
    "#Evaluate Recall\n",
    "acc = recall_score(Y_test, predictions)\n",
    "print('\\nTest recall  Of Classifier C = %.3f is %f' % (optimal_alpha, acc))\n",
    "\n",
    "#Evaluate F1-score\n",
    "acc = f1_score(Y_test, predictions)\n",
    "print('\\nTest F1-score  Of Classifier C = %.3f is %f' % (optimal_alpha, acc))"
   ]
  },
  {
   "cell_type": "code",
   "execution_count": 38,
   "metadata": {},
   "outputs": [
    {
     "name": "stdout",
     "output_type": "stream",
     "text": [
      "Train Confusion Matrix\n",
      "[[ 6246  3701]\n",
      " [ 1078 50416]]\n",
      "Test Confusion Matrix\n",
      "[[ 2493  1741]\n",
      " [  542 21556]]\n"
     ]
    },
    {
     "data": {
      "image/png": "[encoded data removed]",
      "text/plain": [
       "<Figure size 432x288 with 2 Axes>"
      ]
     },
     "metadata": {
      "needs_background": "light"
     },
     "output_type": "display_data"
    }
   ],
   "source": [
    "#Confusion Matrix\n",
    "print(\"Train Confusion Matrix\")\n",
    "print(confusion_matrix(Y_train, sgd.predict(X_train_vec_standardized)))\n",
    "print(\"Test Confusion Matrix\")\n",
    "print(confusion_matrix(Y_test, sgd.predict(X_test_vec_standardized)))\n",
    "cm_test=confusion_matrix(Y_test, sgd.predict(X_test_vec_standardized))\n",
    "class_label = [\"negative\", \"positive\"]\n",
    "df_cm = pd.DataFrame(cm_test, index=class_label, columns=class_label)\n",
    "sns.heatmap(df_cm, annot = True, fmt = \"d\")\n",
    "plt.title(\"Confusion Matrix\")\n",
    "plt.xlabel(\"Predicted Label\")\n",
    "plt.ylabel(\"True Label\")\n",
    "plt.show()"
   ]
  },
  {
   "cell_type": "markdown",
   "metadata": {},
   "source": [
    "#### RandomizedSearchCv (with HInge-Loss)"
   ]
  },
  {
   "cell_type": "code",
   "execution_count": 63,
   "metadata": {},
   "outputs": [
    {
     "name": "stdout",
     "output_type": "stream",
     "text": [
      "Model with best parameters :\n",
      " SGDClassifier(alpha=0.068002930491750768, average=False, class_weight=None,\n",
      "       epsilon=0.1, eta0=0.0, fit_intercept=True, l1_ratio=0.15,\n",
      "       learning_rate='optimal', loss='hinge', max_iter=None, n_iter=None,\n",
      "       n_jobs=1, penalty='l2', power_t=0.5, random_state=None,\n",
      "       shuffle=True, tol=None, verbose=0, warm_start=False)\n",
      "Accuracy of model :  0.914437450507\n",
      "The Optimal value Of Aplha(1/C) is :  0.0680029304918\n"
     ]
    }
   ],
   "source": [
    "from scipy.stats import uniform\n",
    "# create regularization hyperparameter distribution using uniform distribution\n",
    "Alpha = uniform(loc=0,scale=1)\n",
    "# create hyperparamaters options\n",
    "hyperparameters = dict(alpha=Alpha)\n",
    "# Using RandomSearchCv\n",
    "model = RandomizedSearchCV(SGDClassifier(), hyperparameters, scoring='roc_auc', cv=3, n_jobs=-1, pre_dispatch=2)\n",
    "model.fit(X_train_vec_standardized, Y_train)\n",
    "print(\"Model with best parameters :\\n\", model.best_estimator_)\n",
    "print(\"Accuracy of model : \", model.score(X_test_vec_standardized, Y_test))\n",
    "\n",
    "optimal_alpha = model.best_estimator_.alpha\n",
    "print(\"The Optimal value Of Aplha(1/C) is : \", optimal_alpha)\n",
    "\n",
    "#SGDClassifier with  Optimal value of alpha:(1/C)\n",
    "sgd = SGDClassifier(alpha=optimal_alpha, n_jobs=-1)\n",
    "sgd.fit(X_train_vec_standardized, Y_train)\n",
    "predictions = sgd.predict(X_test_vec_standardized)\n",
    "\n",
    "# Predict probabilistic response\n",
    "pred_prob = calib.predict_proba(X_test_vec_standardized)[:,1]\n",
    "\n",
    "#varibles will be used at conclusion part\n",
    "bow_random_alpha = optimal_alpha\n",
    "bow_random_train_acc = model.score(X_test_vec_standardized, Y_test)*100\n",
    "bow_random_test_acc = accuracy_score(Y_test, predictions) * 100"
   ]
  },
  {
   "cell_type": "code",
   "execution_count": 64,
   "metadata": {},
   "outputs": [
    {
     "data": {
      "image/png": "[encoded data removed]",
      "text/plain": [
       "<Figure size 432x288 with 1 Axes>"
      ]
     },
     "metadata": {
      "needs_background": "light"
     },
     "output_type": "display_data"
    }
   ],
   "source": [
    "import matplotlib.pyplot as plt\n",
    "import numpy as np\n",
    "\n",
    "from sklearn.model_selection import validation_curve\n",
    "\n",
    "\n",
    "param_range = np.logspace(-5, 1, 5)\n",
    "train_scores, test_scores = validation_curve(\n",
    "    SGDClassifier(),X_train_vec_standardized, Y_train, param_name=\"alpha\", param_range=param_range,\n",
    "    cv=3, scoring=\"roc_auc\", n_jobs=1)\n",
    "train_scores_mean = np.mean(train_scores, axis=1)\n",
    "train_scores_std = np.std(train_scores, axis=1)\n",
    "test_scores_mean = np.mean(test_scores, axis=1)\n",
    "test_scores_std = np.std(test_scores, axis=1)\n",
    "\n",
    "plt.title(\"Hyperparameter Vs AUC\")\n",
    "plt.xlabel(\"$alpha$\")\n",
    "plt.ylabel(\"AUC\")\n",
    "plt.ylim(0.0, 1.1)\n",
    "lw = 2\n",
    "plt.semilogx(param_range, train_scores_mean, label=\"Training score\",\n",
    "             color=\"darkorange\", lw=lw)\n",
    "plt.fill_between(param_range, train_scores_mean - train_scores_std,\n",
    "                 train_scores_mean + train_scores_std, alpha=0.1,\n",
    "                 color=\"darkorange\", lw=lw)\n",
    "plt.semilogx(param_range, test_scores_mean, label=\"Cross-validation score\",\n",
    "             color=\"navy\", lw=lw)\n",
    "plt.fill_between(param_range, test_scores_mean - test_scores_std,\n",
    "                 test_scores_mean + test_scores_std, alpha=0.1,\n",
    "                 color=\"navy\", lw=lw)\n",
    "plt.legend(loc=\"best\")\n",
    "plt.show()"
   ]
  },
  {
   "cell_type": "code",
   "execution_count": 30,
   "metadata": {},
   "outputs": [
    {
     "data": {
      "image/png": "[encoded data removed]",
      "text/plain": [
       "<Figure size 432x288 with 1 Axes>"
      ]
     },
     "metadata": {
      "needs_background": "light"
     },
     "output_type": "display_data"
    }
   ],
   "source": [
    "from cycler import cycler\n",
    "fpr, tpr, threshold = metrics.roc_curve(Y_test, calib.predict_proba(X_test_vec_standardized)[:,1])\n",
    "fpr2, tpr2, threshold2 = metrics.roc_curve(Y_train, calib.predict_proba(X_train_vec_standardized)[:,1])\n",
    "\n",
    "roc_auc = metrics.auc(fpr, tpr)\n",
    "roc_auc2 = metrics.auc(fpr2, tpr2)\n",
    "\n",
    "# method I: plt\n",
    "import matplotlib.pyplot as plt\n",
    "f, ax = plt.subplots()\n",
    "plt.title('Receiver Operating Characteristic Curve')\n",
    "cy = cycler('color', ['red', 'green', 'blue'])\n",
    "ax.set_prop_cycle(cy)\n",
    "ax.plot(fpr, tpr, label = 'AUC = %0.2f' % roc_auc)\n",
    "ax.plot(fpr2, tpr2, label = 'AUC = %0.2f' % roc_auc2)\n",
    "plt.legend(['TEST Data', 'TRAIN Data'],loc = 'lower right')\n",
    "\n",
    "ax.plot([0, 1], [0, 1])\n",
    "plt.xlim([0, 1])\n",
    "plt.ylim([0, 1])\n",
    "plt.ylabel('True Positive Rate')\n",
    "plt.xlabel('False Positive Rate')\n",
    "plt.show()"
   ]
  },
  {
   "cell_type": "code",
   "execution_count": 40,
   "metadata": {},
   "outputs": [
    {
     "name": "stdout",
     "output_type": "stream",
     "text": [
      "\n",
      "Test Accuracy Of Classifier C = 0.090 is 91.318548%\n",
      "\n",
      "Test Precsion Of Classifier C = 0.090 is 0.925150\n",
      "\n",
      "Test recall  Of Classifier C = 0.090 is 0.975473\n",
      "\n",
      "Test F1-score  Of Classifier C = 0.090 is 0.949645\n"
     ]
    }
   ],
   "source": [
    "#Evaluate Accuracy\n",
    "acc = accuracy_score(Y_test, predictions)* 100\n",
    "print('\\nTest Accuracy Of Classifier C = %.3f is %f%%' % (optimal_alpha, acc))\n",
    "\n",
    "#Evaluate Precision\n",
    "acc = precision_score(Y_test, predictions)\n",
    "print('\\nTest Precsion Of Classifier C = %.3f is %f' % (optimal_alpha, acc))\n",
    "\n",
    "#Evaluate Recall\n",
    "acc = recall_score(Y_test, predictions)\n",
    "print('\\nTest recall  Of Classifier C = %.3f is %f' % (optimal_alpha, acc))\n",
    "\n",
    "#Evaluate F1-score\n",
    "acc = f1_score(Y_test, predictions)\n",
    "print('\\nTest F1-score  Of Classifier C = %.3f is %f' % (optimal_alpha, acc))"
   ]
  },
  {
   "cell_type": "markdown",
   "metadata": {},
   "source": [
    "#### Top 20 Important Features From SET1"
   ]
  },
  {
   "cell_type": "code",
   "execution_count": 31,
   "metadata": {},
   "outputs": [
    {
     "name": "stdout",
     "output_type": "stream",
     "text": [
      "Top 10 positive features :\n",
      "great\n",
      "love\n",
      "good\n",
      "best\n",
      "delici\n",
      "perfect\n",
      "excel\n",
      "nice\n",
      "favorit\n",
      "wonder\n"
     ]
    }
   ],
   "source": [
    "# Please write all the code with proper documentation\n",
    "#top 10 positive features\n",
    "all_features = count_vect.get_feature_names()\n",
    "model=SGDClassifier(alpha=0.1)\n",
    "model.fit(X_train_vec_standardized,Y_train)\n",
    "weight=model.coef_\n",
    "pos_indx=np.argsort(weight)[:,::-1]\n",
    "\n",
    "neg_indx=np.argsort(weight)\n",
    "\n",
    "print('Top 10 positive features :')\n",
    "for i in list(pos_indx[0][0:10]):\n",
    "    print(all_features[i])"
   ]
  },
  {
   "cell_type": "code",
   "execution_count": 32,
   "metadata": {},
   "outputs": [
    {
     "name": "stdout",
     "output_type": "stream",
     "text": [
      "Top 10 negative features :\n",
      "disappoint\n",
      "worst\n",
      "horribl\n",
      "aw\n",
      "return\n",
      "terribl\n",
      "bad\n",
      "unfortun\n",
      "wast\n",
      "stale\n"
     ]
    }
   ],
   "source": [
    "#top 10 negative features\n",
    "print('Top 10 negative features :')\n",
    "for i in list(neg_indx[0][0:10]):\n",
    "    print(all_features[i])"
   ]
  },
  {
   "cell_type": "code",
   "execution_count": 41,
   "metadata": {},
   "outputs": [
    {
     "name": "stdout",
     "output_type": "stream",
     "text": [
      "Train Confusion Matrix\n",
      "[[ 6212  3735]\n",
      " [ 1051 50443]]\n",
      "Test Confusion Matrix\n",
      "[[ 2490  1744]\n",
      " [  542 21556]]\n"
     ]
    },
    {
     "data": {
      "image/png": "[encoded data removed]",
      "text/plain": [
       "<Figure size 432x288 with 2 Axes>"
      ]
     },
     "metadata": {
      "needs_background": "light"
     },
     "output_type": "display_data"
    }
   ],
   "source": [
    "#Confusion Matrix\n",
    "print(\"Train Confusion Matrix\")\n",
    "print(confusion_matrix(Y_train, sgd.predict(X_train_vec_standardized)))\n",
    "print(\"Test Confusion Matrix\")\n",
    "print(confusion_matrix(Y_test, sgd.predict(X_test_vec_standardized)))\n",
    "cm_test=confusion_matrix(Y_test, sgd.predict(X_test_vec_standardized))\n",
    "class_label = [\"negative\", \"positive\"]\n",
    "df_cm = pd.DataFrame(cm_test, index=class_label, columns=class_label)\n",
    "sns.heatmap(df_cm, annot = True, fmt = \"d\")\n",
    "plt.title(\"Confusion Matrix\")\n",
    "plt.xlabel(\"Predicted Label\")\n",
    "plt.ylabel(\"True Label\")\n",
    "plt.show()"
   ]
  },
  {
   "cell_type": "markdown",
   "metadata": {},
   "source": [
    "#### Observation:\n",
    "* Observed an AUC of 0.912 using GridSearchCV with an Optimal(Alpha) 0.1\n",
    "* Observed an AUC of 0.913 using RandomSearchCV with SGD calssifier\n",
    "* With train and test confusion matrix"
   ]
  },
  {
   "cell_type": "markdown",
   "metadata": {},
   "source": [
    "### [5.1.2] Applying Linear SVM on TFIDF,<font color='red'> SET 2</font>"
   ]
  },
  {
   "cell_type": "code",
   "execution_count": 33,
   "metadata": {},
   "outputs": [
    {
     "name": "stdout",
     "output_type": "stream",
     "text": [
      "the type of count vectorizer  <class 'scipy.sparse.csr.csr_matrix'>\n",
      "the shape of out text TFIDF vectorizer  (61441, 2073)\n",
      "the number of unique words  2073\n"
     ]
    }
   ],
   "source": [
    "# Please write all the code with proper documentation\n",
    "tf_idf_vect = TfidfVectorizer(min_df=100)\n",
    "X_train_vec = tf_idf_vect.fit_transform(X_train)\n",
    "X_test_vec = tf_idf_vect.transform(X_test)\n",
    "print(\"the type of count vectorizer \",type(X_train_vec))\n",
    "print(\"the shape of out text TFIDF vectorizer \",X_train_vec.get_shape())\n",
    "print(\"the number of unique words \", X_train_vec.get_shape()[1])\n",
    "\n",
    "#Standardizing\n",
    "sc = StandardScaler(with_mean=False)\n",
    "X_train_vec_standardized = sc.fit_transform(X_train_vec)\n",
    "X_test_vec_standardized = sc.transform(X_test_vec)"
   ]
  },
  {
   "cell_type": "markdown",
   "metadata": {},
   "source": [
    "#### GridSearchCV (SGDClassifier with Hinge-Loss)"
   ]
  },
  {
   "cell_type": "code",
   "execution_count": 34,
   "metadata": {},
   "outputs": [
    {
     "name": "stdout",
     "output_type": "stream",
     "text": [
      "Model with best parameters :\n",
      " SGDClassifier(alpha=0.1, average=False, class_weight=None, epsilon=0.1,\n",
      "       eta0=0.0, fit_intercept=True, l1_ratio=0.15,\n",
      "       learning_rate='optimal', loss='hinge', max_iter=None, n_iter=None,\n",
      "       n_jobs=1, penalty='l2', power_t=0.5, random_state=None,\n",
      "       shuffle=True, tol=None, verbose=0, warm_start=False)\n",
      "Accuracy of model :  0.935722632121\n",
      "The Optimal value Of alpha(1/C) is :  0.1\n"
     ]
    }
   ],
   "source": [
    "Alpha = [0.001, 0.01, 0.1, 1, 10]\n",
    "param_grid={'alpha': Alpha}\n",
    "model = GridSearchCV(SGDClassifier(), param_grid, scoring='roc_auc', cv=3, n_jobs=-1, pre_dispatch=2)\n",
    "model.fit(X_train_vec_standardized, Y_train)\n",
    "print(\"Model with best parameters :\\n\", model.best_estimator_)\n",
    "print(\"Accuracy of model : \", model.score(X_test_vec_standardized, Y_test))\n",
    "\n",
    "optimal_alpha = model.best_estimator_.alpha\n",
    "print(\"The Optimal value Of alpha(1/C) is : \", optimal_alpha)\n",
    "\n",
    "#SGDClassifier with  Optimal value of alpha:(1/C)\n",
    "sgd = SGDClassifier(alpha=optimal_alpha, n_jobs=-1)\n",
    "sgd.fit(X_train_vec_standardized, Y_train)\n",
    "predictions = sgd.predict(X_test_vec_standardized)\n",
    "\n",
    "# Predict probabilistic response\n",
    "pred_prob = calib.predict_proba(X_test_vec_standardized)[:,1]\n",
    "\n",
    "#varibles will be used at conclusion part\n",
    "tfidf_grid_alpha = optimal_alpha\n",
    "tfidf_grid_train_acc = model.score(X_test_vec_standardized, Y_test)*100\n",
    "tfidf_grid_test_acc = accuracy_score(Y_test, predictions) * 100"
   ]
  },
  {
   "cell_type": "code",
   "execution_count": 67,
   "metadata": {},
   "outputs": [
    {
     "data": {
      "image/png": "[encoded data removed]",
      "text/plain": [
       "<Figure size 432x288 with 1 Axes>"
      ]
     },
     "metadata": {
      "needs_background": "light"
     },
     "output_type": "display_data"
    }
   ],
   "source": [
    "import matplotlib.pyplot as plt\n",
    "import numpy as np\n",
    "\n",
    "from sklearn.model_selection import validation_curve\n",
    "\n",
    "\n",
    "param_range = np.logspace(-5, 1, 5)\n",
    "train_scores, test_scores = validation_curve(\n",
    "    SGDClassifier(),X_train_vec_standardized, Y_train, param_name=\"alpha\", param_range=param_range,\n",
    "    cv=3, scoring=\"roc_auc\", n_jobs=1)\n",
    "train_scores_mean = np.mean(train_scores, axis=1)\n",
    "train_scores_std = np.std(train_scores, axis=1)\n",
    "test_scores_mean = np.mean(test_scores, axis=1)\n",
    "test_scores_std = np.std(test_scores, axis=1)\n",
    "\n",
    "plt.title(\"Hyperparameter Vs AUC\")\n",
    "plt.xlabel(\"$alpha$\")\n",
    "plt.ylabel(\"AUC\")\n",
    "plt.ylim(0.0, 1.1)\n",
    "lw = 2\n",
    "plt.semilogx(param_range, train_scores_mean, label=\"Training score\",\n",
    "             color=\"darkorange\", lw=lw)\n",
    "plt.fill_between(param_range, train_scores_mean - train_scores_std,\n",
    "                 train_scores_mean + train_scores_std, alpha=0.1,\n",
    "                 color=\"darkorange\", lw=lw)\n",
    "plt.semilogx(param_range, test_scores_mean, label=\"Cross-validation score\",\n",
    "             color=\"navy\", lw=lw)\n",
    "plt.fill_between(param_range, test_scores_mean - test_scores_std,\n",
    "                 test_scores_mean + test_scores_std, alpha=0.1,\n",
    "                 color=\"navy\", lw=lw)\n",
    "plt.legend(loc=\"best\")\n",
    "plt.show()"
   ]
  },
  {
   "cell_type": "code",
   "execution_count": 33,
   "metadata": {},
   "outputs": [
    {
     "data": {
      "image/png": "[encoded data removed]",
      "text/plain": [
       "<Figure size 432x288 with 1 Axes>"
      ]
     },
     "metadata": {
      "needs_background": "light"
     },
     "output_type": "display_data"
    }
   ],
   "source": [
    "from cycler import cycler\n",
    "fpr, tpr, threshold = metrics.roc_curve(Y_test, calib.predict_proba(X_test_vec_standardized)[:,1])\n",
    "fpr2, tpr2, threshold2 = metrics.roc_curve(Y_train, calib.predict_proba(X_train_vec_standardized)[:,1])\n",
    "\n",
    "roc_auc = metrics.auc(fpr, tpr)\n",
    "roc_auc2 = metrics.auc(fpr2, tpr2)\n",
    "\n",
    "# method I: plt\n",
    "import matplotlib.pyplot as plt\n",
    "f, ax = plt.subplots()\n",
    "plt.title('Receiver Operating Characteristic Curve')\n",
    "cy = cycler('color', ['red', 'green', 'blue'])\n",
    "ax.set_prop_cycle(cy)\n",
    "ax.plot(fpr, tpr, label = 'AUC = %0.2f' % roc_auc)\n",
    "ax.plot(fpr2, tpr2, label = 'AUC = %0.2f' % roc_auc2)\n",
    "plt.legend(['TEST Data', 'TRAIN Data'],loc = 'lower right')\n",
    "\n",
    "ax.plot([0, 1], [0, 1])\n",
    "plt.xlim([0, 1])\n",
    "plt.ylim([0, 1])\n",
    "plt.ylabel('True Positive Rate')\n",
    "plt.xlabel('False Positive Rate')\n",
    "plt.show()"
   ]
  },
  {
   "cell_type": "code",
   "execution_count": 68,
   "metadata": {},
   "outputs": [
    {
     "name": "stdout",
     "output_type": "stream",
     "text": [
      "\n",
      "Test Accuracy Of Classifier C = 0.100 is 91.291964%\n",
      "\n",
      "Test Precsion Of Classifier C = 0.100 is 0.924253\n",
      "\n",
      "Test recall  Of Classifier C = 0.100 is 0.976242\n",
      "\n",
      "Test F1-score  Of Classifier C = 0.100 is 0.949537\n"
     ]
    }
   ],
   "source": [
    "#Evaluate Accuracy\n",
    "acc = accuracy_score(Y_test, predictions)* 100\n",
    "print('\\nTest Accuracy Of Classifier C = %.3f is %f%%' % (optimal_alpha, acc))\n",
    "\n",
    "#Evaluate Precision\n",
    "acc = precision_score(Y_test, predictions)\n",
    "print('\\nTest Precsion Of Classifier C = %.3f is %f' % (optimal_alpha, acc))\n",
    "\n",
    "#Evaluate Recall\n",
    "acc = recall_score(Y_test, predictions)\n",
    "print('\\nTest recall  Of Classifier C = %.3f is %f' % (optimal_alpha, acc))\n",
    "\n",
    "#Evaluate F1-score\n",
    "acc = f1_score(Y_test, predictions)\n",
    "print('\\nTest F1-score  Of Classifier C = %.3f is %f' % (optimal_alpha, acc))"
   ]
  },
  {
   "cell_type": "code",
   "execution_count": 45,
   "metadata": {},
   "outputs": [
    {
     "name": "stdout",
     "output_type": "stream",
     "text": [
      "Train Confusion Matrix\n",
      "[[ 5952  3995]\n",
      " [  950 50544]]\n",
      "Test Confusion Matrix\n",
      "[[ 2349  1885]\n",
      " [  458 21640]]\n"
     ]
    },
    {
     "data": {
      "image/png": "[encoded data removed]",
      "text/plain": [
       "<Figure size 432x288 with 2 Axes>"
      ]
     },
     "metadata": {
      "needs_background": "light"
     },
     "output_type": "display_data"
    }
   ],
   "source": [
    "#Confusion Matrix\n",
    "print(\"Train Confusion Matrix\")\n",
    "print(confusion_matrix(Y_train, sgd.predict(X_train_vec_standardized)))\n",
    "print(\"Test Confusion Matrix\")\n",
    "print(confusion_matrix(Y_test, sgd.predict(X_test_vec_standardized)))\n",
    "cm_test=confusion_matrix(Y_test, sgd.predict(X_test_vec_standardized))\n",
    "class_label = [\"negative\", \"positive\"]\n",
    "df_cm = pd.DataFrame(cm_test, index=class_label, columns=class_label)\n",
    "sns.heatmap(df_cm, annot = True, fmt = \"d\")\n",
    "plt.title(\"Confusion Matrix\")\n",
    "plt.xlabel(\"Predicted Label\")\n",
    "plt.ylabel(\"True Label\")\n",
    "plt.show()"
   ]
  },
  {
   "cell_type": "markdown",
   "metadata": {},
   "source": [
    "#### RandomizedSearchCV (SGDClassifier with Hinge-Loss)"
   ]
  },
  {
   "cell_type": "code",
   "execution_count": 71,
   "metadata": {},
   "outputs": [
    {
     "name": "stdout",
     "output_type": "stream",
     "text": [
      "Model with best parameters :\n",
      " SGDClassifier(alpha=0.55645726108106475, average=False, class_weight=None,\n",
      "       epsilon=0.1, eta0=0.0, fit_intercept=True, l1_ratio=0.15,\n",
      "       learning_rate='optimal', loss='hinge', max_iter=None, n_iter=None,\n",
      "       n_jobs=1, penalty='l2', power_t=0.5, random_state=None,\n",
      "       shuffle=True, tol=None, verbose=0, warm_start=False)\n",
      "Accuracy of model :  0.885571018659\n",
      "The Optimal value Of Aplha(1/C) is :  0.556457261081\n"
     ]
    }
   ],
   "source": [
    "from scipy.stats import uniform\n",
    "# create regularization hyperparameter distribution using uniform distribution\n",
    "Alpha = uniform(loc=0,scale=1)\n",
    "# create hyperparamaters options\n",
    "hyperparameters = dict(alpha=Alpha)\n",
    "# Using RandomSearchCv\n",
    "model = RandomizedSearchCV(SGDClassifier(), hyperparameters, scoring='roc_auc', cv=3, n_jobs=-1, pre_dispatch=2)\n",
    "model.fit(X_train_vec_standardized, Y_train)\n",
    "print(\"Model with best parameters :\\n\", model.best_estimator_)\n",
    "print(\"Accuracy of model : \", model.score(X_test_vec_standardized, Y_test))\n",
    "\n",
    "optimal_alpha = model.best_estimator_.alpha\n",
    "print(\"The Optimal value Of Aplha(1/C) is : \", optimal_alpha)\n",
    "\n",
    "#SGDClassifier with  Optimal value of alpha:(1/C)\n",
    "sgd = SGDClassifier(alpha=optimal_alpha, n_jobs=-1)\n",
    "sgd.fit(X_train_vec_standardized, Y_train)\n",
    "predictions = sgd.predict(X_test_vec_standardized)\n",
    "\n",
    "# Predict probabilistic response\n",
    "pred_prob = calib.predict_proba(X_test_vec_standardized)[:,1]\n",
    "\n",
    "#varibles will be used at conclusion part\n",
    "tfidf_random_alpha = optimal_alpha\n",
    "tfidf_random_train_acc = model.score(X_test_vec_standardized, Y_test)*100\n",
    "tfidf_random_test_acc = accuracy_score(Y_test, predictions) * 100"
   ]
  },
  {
   "cell_type": "code",
   "execution_count": 72,
   "metadata": {},
   "outputs": [
    {
     "data": {
      "image/png": "[encoded data removed]",
      "text/plain": [
       "<Figure size 432x288 with 1 Axes>"
      ]
     },
     "metadata": {
      "needs_background": "light"
     },
     "output_type": "display_data"
    }
   ],
   "source": [
    "import matplotlib.pyplot as plt\n",
    "import numpy as np\n",
    "\n",
    "from sklearn.model_selection import validation_curve\n",
    "\n",
    "\n",
    "param_range = np.logspace(-5, 1, 5)\n",
    "train_scores, test_scores = validation_curve(\n",
    "    SGDClassifier(),X_train_vec_standardized, Y_train, param_name=\"alpha\", param_range=param_range,\n",
    "    cv=3, scoring=\"roc_auc\", n_jobs=1)\n",
    "train_scores_mean = np.mean(train_scores, axis=1)\n",
    "train_scores_std = np.std(train_scores, axis=1)\n",
    "test_scores_mean = np.mean(test_scores, axis=1)\n",
    "test_scores_std = np.std(test_scores, axis=1)\n",
    "\n",
    "plt.title(\"Hyperparameter Vs AUC\")\n",
    "plt.xlabel(\"$alpha$\")\n",
    "plt.ylabel(\"AUC\")\n",
    "plt.ylim(0.0, 1.1)\n",
    "lw = 2\n",
    "plt.semilogx(param_range, train_scores_mean, label=\"Training score\",\n",
    "             color=\"darkorange\", lw=lw)\n",
    "plt.fill_between(param_range, train_scores_mean - train_scores_std,\n",
    "                 train_scores_mean + train_scores_std, alpha=0.1,\n",
    "                 color=\"darkorange\", lw=lw)\n",
    "plt.semilogx(param_range, test_scores_mean, label=\"Cross-validation score\",\n",
    "             color=\"navy\", lw=lw)\n",
    "plt.fill_between(param_range, test_scores_mean - test_scores_std,\n",
    "                 test_scores_mean + test_scores_std, alpha=0.1,\n",
    "                 color=\"navy\", lw=lw)\n",
    "plt.legend(loc=\"best\")\n",
    "plt.show()"
   ]
  },
  {
   "cell_type": "code",
   "execution_count": 34,
   "metadata": {},
   "outputs": [
    {
     "data": {
      "image/png": "[encoded data removed]",
      "text/plain": [
       "<Figure size 432x288 with 1 Axes>"
      ]
     },
     "metadata": {
      "needs_background": "light"
     },
     "output_type": "display_data"
    }
   ],
   "source": [
    "from cycler import cycler\n",
    "fpr, tpr, threshold = metrics.roc_curve(Y_test, calib.predict_proba(X_test_vec_standardized)[:,1])\n",
    "fpr2, tpr2, threshold2 = metrics.roc_curve(Y_train, calib.predict_proba(X_train_vec_standardized)[:,1])\n",
    "\n",
    "roc_auc = metrics.auc(fpr, tpr)\n",
    "roc_auc2 = metrics.auc(fpr2, tpr2)\n",
    "\n",
    "# method I: plt\n",
    "import matplotlib.pyplot as plt\n",
    "f, ax = plt.subplots()\n",
    "plt.title('Receiver Operating Characteristic Curve')\n",
    "cy = cycler('color', ['red', 'green', 'blue'])\n",
    "ax.set_prop_cycle(cy)\n",
    "ax.plot(fpr, tpr, label = 'AUC = %0.2f' % roc_auc)\n",
    "ax.plot(fpr2, tpr2, label = 'AUC = %0.2f' % roc_auc2)\n",
    "plt.legend(['TEST Data', 'TRAIN Data'],loc = 'lower right')\n",
    "\n",
    "ax.plot([0, 1], [0, 1])\n",
    "plt.xlim([0, 1])\n",
    "plt.ylim([0, 1])\n",
    "plt.ylabel('True Positive Rate')\n",
    "plt.xlabel('False Positive Rate')\n",
    "plt.show()"
   ]
  },
  {
   "cell_type": "code",
   "execution_count": 47,
   "metadata": {},
   "outputs": [
    {
     "name": "stdout",
     "output_type": "stream",
     "text": [
      "\n",
      "Test Accuracy Of Classifier C = 0.050 is 91.216011%\n",
      "\n",
      "Test Precsion Of Classifier C = 0.050 is 0.924771\n",
      "\n",
      "Test recall  Of Classifier C = 0.050 is 0.974613\n",
      "\n",
      "Test F1-score  Of Classifier C = 0.050 is 0.949038\n"
     ]
    }
   ],
   "source": [
    "#Evaluate Accuracy\n",
    "acc = accuracy_score(Y_test, predictions)* 100\n",
    "print('\\nTest Accuracy Of Classifier C = %.3f is %f%%' % (optimal_alpha, acc))\n",
    "\n",
    "#Evaluate Precision\n",
    "acc = precision_score(Y_test, predictions)\n",
    "print('\\nTest Precsion Of Classifier C = %.3f is %f' % (optimal_alpha, acc))\n",
    "\n",
    "#Evaluate Recall\n",
    "acc = recall_score(Y_test, predictions)\n",
    "print('\\nTest recall  Of Classifier C = %.3f is %f' % (optimal_alpha, acc))\n",
    "\n",
    "#Evaluate F1-score\n",
    "acc = f1_score(Y_test, predictions)\n",
    "print('\\nTest F1-score  Of Classifier C = %.3f is %f' % (optimal_alpha, acc))"
   ]
  },
  {
   "cell_type": "markdown",
   "metadata": {},
   "source": [
    "#### Top Important Features "
   ]
  },
  {
   "cell_type": "code",
   "execution_count": 35,
   "metadata": {},
   "outputs": [
    {
     "name": "stdout",
     "output_type": "stream",
     "text": [
      "Top 10 positive features :\n",
      "great\n",
      "love\n",
      "good\n",
      "best\n",
      "delici\n",
      "perfect\n",
      "excel\n",
      "nice\n",
      "favorit\n",
      "find\n"
     ]
    }
   ],
   "source": [
    "#top 10 positive features\n",
    "all_features = tf_idf_vect.get_feature_names()\n",
    "model=SGDClassifier(alpha=0.1)\n",
    "model.fit(X_train_vec_standardized,Y_train)\n",
    "weight=model.coef_\n",
    "pos_indx=np.argsort(weight)[:,::-1]\n",
    "\n",
    "neg_indx=np.argsort(weight)\n",
    "\n",
    "print('Top 10 positive features :')\n",
    "for i in list(pos_indx[0][0:10]):\n",
    "    print(all_features[i])"
   ]
  },
  {
   "cell_type": "code",
   "execution_count": 36,
   "metadata": {},
   "outputs": [
    {
     "name": "stdout",
     "output_type": "stream",
     "text": [
      "Top 10 negative features :\n",
      "disappoint\n",
      "worst\n",
      "horribl\n",
      "aw\n",
      "return\n",
      "terribl\n",
      "unfortun\n",
      "threw\n",
      "disgust\n",
      "wast\n"
     ]
    }
   ],
   "source": [
    "#top 10 negative features\n",
    "print('Top 10 negative features :')\n",
    "for i in list(neg_indx[0][0:10]):\n",
    "    print(all_features[i])"
   ]
  },
  {
   "cell_type": "code",
   "execution_count": 48,
   "metadata": {},
   "outputs": [
    {
     "name": "stdout",
     "output_type": "stream",
     "text": [
      "Train Confusion Matrix\n",
      "[[ 6329  3618]\n",
      " [ 1050 50444]]\n",
      "Test Confusion Matrix\n",
      "[[ 2482  1752]\n",
      " [  561 21537]]\n"
     ]
    },
    {
     "data": {
      "image/png": "[encoded data removed]",
      "text/plain": [
       "<Figure size 432x288 with 2 Axes>"
      ]
     },
     "metadata": {
      "needs_background": "light"
     },
     "output_type": "display_data"
    }
   ],
   "source": [
    "#Confusion Matrix\n",
    "print(\"Train Confusion Matrix\")\n",
    "print(confusion_matrix(Y_train, sgd.predict(X_train_vec_standardized)))\n",
    "print(\"Test Confusion Matrix\")\n",
    "print(confusion_matrix(Y_test, sgd.predict(X_test_vec_standardized)))\n",
    "cm_test=confusion_matrix(Y_test, sgd.predict(X_test_vec_standardized))\n",
    "class_label = [\"negative\", \"positive\"]\n",
    "df_cm = pd.DataFrame(cm_test, index=class_label, columns=class_label)\n",
    "sns.heatmap(df_cm, annot = True, fmt = \"d\")\n",
    "plt.title(\"Confusion Matrix\")\n",
    "plt.xlabel(\"Predicted Label\")\n",
    "plt.ylabel(\"True Label\")\n",
    "plt.show()"
   ]
  },
  {
   "cell_type": "markdown",
   "metadata": {},
   "source": [
    "#### Observation:\n",
    "* SGD calssifier with Hinge-loss on TFIDF model with AUC 0.910 with an Optimal Hyperparameter 0.1\n",
    "* Using Random SearchCV obsreved a AUC of 0.913 with an Optimal ALpha of 0.049"
   ]
  },
  {
   "cell_type": "markdown",
   "metadata": {},
   "source": [
    "### [5.1.3]  Applying Linear SVM on AVG W2V,<font color='red'> SET 3</font>"
   ]
  },
  {
   "cell_type": "code",
   "execution_count": 35,
   "metadata": {},
   "outputs": [
    {
     "name": "stdout",
     "output_type": "stream",
     "text": [
      "number of words that occured minimum 5 times  9941\n",
      "sample words  ['weekend', 'week', 'long', 'fast', 'use', 'rice', 'green', 'tea', 'work', 'wonder', 'one', 'energi', 'level', 'tasti', 'even', 'bit', 'salt', 'make', 'much', 'pleasant', 'famili', 'favorit', 'flavor', 'hansen', 'diet', 'soda', 'clean', 'crisp', 'tast', 'enjoy', 'meal', 'calm', 'upset', 'tummi', 'love', 'compar', 'eat', 'like', 'nissin', 'maruchan', 'realli', 'tell', 'differ', 'big', 'tub', 'spice', 'drop', 'better', 'diabet', 'didnt']\n"
     ]
    }
   ],
   "source": [
    "# Please write all the code with proper documentation\n",
    "#List of sentance in X_train text\n",
    "sent_of_train = []\n",
    "for sent in X_train:\n",
    "    sent_of_train.append(sent.split())\n",
    "    \n",
    "#List of sentance in X_test text\n",
    "sent_of_test = []\n",
    "for sent in X_test:\n",
    "    sent_of_test.append(sent.split())\n",
    "#Train your own text corpus WOrd2Vec\n",
    "w2v_model = Word2Vec(sent_of_train,min_count=5,size=50,workers=4)   \n",
    "w2v_words = list(w2v_model.wv.vocab)\n",
    "print(\"number of words that occured minimum 5 times \",len(w2v_words))\n",
    "print(\"sample words \", w2v_words[0:50])"
   ]
  },
  {
   "cell_type": "code",
   "execution_count": 36,
   "metadata": {},
   "outputs": [],
   "source": [
    "#copute AvgWord2Vec for each review of X_train\n",
    "train_vectors = [];\n",
    "for sent in sent_of_train:\n",
    "    sent_vec = np.zeros(50)\n",
    "    cnt_words =0; # num of words with a valid vector in the sentence/review\n",
    "    for word in sent: # for each word in a review/sentence\n",
    "        if word in w2v_words:\n",
    "            vec = w2v_model.wv[word]\n",
    "            sent_vec += vec\n",
    "            cnt_words += 1\n",
    "    if cnt_words != 0:\n",
    "        sent_vec /= cnt_words\n",
    "    train_vectors.append(sent_vec)\n",
    "\n",
    "#compute AvgWord2Vec for each review of X_test\n",
    "test_vectors = [];\n",
    "for sent in sent_of_test:\n",
    "    sent_vec = np.zeros(50)\n",
    "    cnt_words =0; # num of words with a valid vector in the sentence/review\n",
    "    for word in sent: # for each word in a review/sentence\n",
    "        if word in w2v_words:\n",
    "            vec = w2v_model.wv[word]\n",
    "            sent_vec += vec\n",
    "            cnt_words += 1\n",
    "    if cnt_words != 0:\n",
    "        sent_vec /= cnt_words\n",
    "    test_vectors.append(sent_vec)\n",
    "\n",
    "#Standardizing\n",
    "sc = StandardScaler()\n",
    "X_train_vec_standardized = sc.fit_transform(train_vectors)\n",
    "X_test_vec_standardized = sc.transform(test_vectors)"
   ]
  },
  {
   "cell_type": "markdown",
   "metadata": {},
   "source": [
    "#### GridSearchCV (SGDClassifier with Hinge-Loss)"
   ]
  },
  {
   "cell_type": "code",
   "execution_count": 52,
   "metadata": {},
   "outputs": [
    {
     "name": "stdout",
     "output_type": "stream",
     "text": [
      "Model with best parameters :\n",
      " SGDClassifier(alpha=0.01, average=False, class_weight=None, epsilon=0.1,\n",
      "       eta0=0.0, fit_intercept=True, l1_ratio=0.15,\n",
      "       learning_rate='optimal', loss='hinge', max_iter=None, n_iter=None,\n",
      "       n_jobs=1, penalty='l2', power_t=0.5, random_state=None,\n",
      "       shuffle=True, tol=None, verbose=0, warm_start=False)\n",
      "Accuracy of model :  0.899881418851\n",
      "The Optimal value Of alpha(1/C) is :  0.01\n"
     ]
    }
   ],
   "source": [
    "Alpha = [0.001, 0.01, 0.1, 1, 10]\n",
    "param_grid={'alpha': Alpha}\n",
    "model = GridSearchCV(SGDClassifier(), param_grid, scoring='roc_auc', cv=3, n_jobs=-1, pre_dispatch=2)\n",
    "model.fit(X_train_vec_standardized, Y_train)\n",
    "print(\"Model with best parameters :\\n\", model.best_estimator_)\n",
    "print(\"Accuracy of model : \", model.score(X_test_vec_standardized, Y_test))\n",
    "\n",
    "optimal_alpha = model.best_estimator_.alpha\n",
    "print(\"The Optimal value Of alpha(1/C) is : \", optimal_alpha)\n",
    "\n",
    "#SGDClassifier with  Optimal value of alpha:(1/C)\n",
    "sgd = SGDClassifier(alpha=optimal_alpha, n_jobs=-1)\n",
    "sgd.fit(X_train_vec_standardized, Y_train)\n",
    "predictions = sgd.predict(X_test_vec_standardized)\n",
    "\n",
    "# Predict probabilistic response\n",
    "pred_prob = calib.predict_proba(X_test_vec_standardized)[:,1]\n",
    "\n",
    "#varibles will be used at conclusion part\n",
    "avg_w2v_grid_alpha = optimal_alpha\n",
    "avg_w2v_grid_train_acc = model.score(X_test_vec_standardized, Y_test)*100\n",
    "avg_w2v_grid_test_acc = accuracy_score(Y_test, predictions) * 100"
   ]
  },
  {
   "cell_type": "code",
   "execution_count": 75,
   "metadata": {},
   "outputs": [
    {
     "data": {
      "image/png": "[encoded data removed]",
      "text/plain": [
       "<Figure size 432x288 with 1 Axes>"
      ]
     },
     "metadata": {
      "needs_background": "light"
     },
     "output_type": "display_data"
    }
   ],
   "source": [
    "import matplotlib.pyplot as plt\n",
    "import numpy as np\n",
    "\n",
    "from sklearn.model_selection import validation_curve\n",
    "\n",
    "\n",
    "param_range = np.logspace(-5, 1, 5)\n",
    "train_scores, test_scores = validation_curve(\n",
    "    SGDClassifier(),X_train_vec_standardized, Y_train, param_name=\"alpha\", param_range=param_range,\n",
    "    cv=3, scoring=\"roc_auc\", n_jobs=1)\n",
    "train_scores_mean = np.mean(train_scores, axis=1)\n",
    "train_scores_std = np.std(train_scores, axis=1)\n",
    "test_scores_mean = np.mean(test_scores, axis=1)\n",
    "test_scores_std = np.std(test_scores, axis=1)\n",
    "\n",
    "plt.title(\"Hyperparameter Vs AUC\")\n",
    "plt.xlabel(\"$alpha$\")\n",
    "plt.ylabel(\"AUC\")\n",
    "plt.ylim(0.0, 1.1)\n",
    "lw = 2\n",
    "plt.semilogx(param_range, train_scores_mean, label=\"Training score\",\n",
    "             color=\"darkorange\", lw=lw)\n",
    "plt.fill_between(param_range, train_scores_mean - train_scores_std,\n",
    "                 train_scores_mean + train_scores_std, alpha=0.1,\n",
    "                 color=\"darkorange\", lw=lw)\n",
    "plt.semilogx(param_range, test_scores_mean, label=\"Cross-validation score\",\n",
    "             color=\"navy\", lw=lw)\n",
    "plt.fill_between(param_range, test_scores_mean - test_scores_std,\n",
    "                 test_scores_mean + test_scores_std, alpha=0.1,\n",
    "                 color=\"navy\", lw=lw)\n",
    "plt.legend(loc=\"best\")\n",
    "plt.show()"
   ]
  },
  {
   "cell_type": "code",
   "execution_count": 53,
   "metadata": {},
   "outputs": [
    {
     "data": {
      "image/png": "[encoded data removed]",
      "text/plain": [
       "<Figure size 432x288 with 1 Axes>"
      ]
     },
     "metadata": {
      "needs_background": "light"
     },
     "output_type": "display_data"
    }
   ],
   "source": [
    "from cycler import cycler\n",
    "fpr, tpr, threshold = metrics.roc_curve(Y_test, (X_test_vec_standardized)[:,1])\n",
    "fpr2, tpr2, threshold2 = metrics.roc_curve(Y_train, (X_train_vec_standardized)[:,1])\n",
    "\n",
    "roc_auc = metrics.auc(fpr, tpr)\n",
    "roc_auc2 = metrics.auc(fpr2, tpr2)\n",
    "\n",
    "# method I: plt\n",
    "import matplotlib.pyplot as plt\n",
    "f, ax = plt.subplots()\n",
    "plt.title('Receiver Operating Characteristic Curve')\n",
    "cy = cycler('color', ['red', 'green', 'blue'])\n",
    "ax.set_prop_cycle(cy)\n",
    "ax.plot(fpr, tpr, label = 'AUC = %0.2f' % roc_auc)\n",
    "ax.plot(fpr2, tpr2, label = 'AUC = %0.2f' % roc_auc2)\n",
    "plt.legend(['TEST Data', 'TRAIN Data'],loc = 'lower right')\n",
    "\n",
    "ax.plot([0, 1], [0, 1])\n",
    "plt.xlim([0, 1])\n",
    "plt.ylim([0, 1])\n",
    "plt.ylabel('True Positive Rate')\n",
    "plt.xlabel('False Positive Rate')\n",
    "plt.show()"
   ]
  },
  {
   "cell_type": "code",
   "execution_count": 47,
   "metadata": {},
   "outputs": [
    {
     "name": "stdout",
     "output_type": "stream",
     "text": [
      "\n",
      "Test Accuracy Of Classifier C = 0.010 is 88.341182%\n",
      "\n",
      "Test Precsion Of Classifier C = 0.010 is 0.894444\n",
      "\n",
      "Test recall  Of Classifier C = 0.010 is 0.976287\n",
      "\n",
      "Test F1-score  Of Classifier C = 0.010 is 0.933576\n"
     ]
    }
   ],
   "source": [
    "#Evaluate Accuracy\n",
    "acc = accuracy_score(Y_test, predictions)* 100\n",
    "print('\\nTest Accuracy Of Classifier C = %.3f is %f%%' % (optimal_alpha, acc))\n",
    "\n",
    "#Evaluate Precision\n",
    "acc = precision_score(Y_test, predictions)\n",
    "print('\\nTest Precsion Of Classifier C = %.3f is %f' % (optimal_alpha, acc))\n",
    "\n",
    "#Evaluate Recall\n",
    "acc = recall_score(Y_test, predictions)\n",
    "print('\\nTest recall  Of Classifier C = %.3f is %f' % (optimal_alpha, acc))\n",
    "\n",
    "#Evaluate F1-score\n",
    "acc = f1_score(Y_test, predictions)\n",
    "print('\\nTest F1-score  Of Classifier C = %.3f is %f' % (optimal_alpha, acc))"
   ]
  },
  {
   "cell_type": "code",
   "execution_count": 53,
   "metadata": {},
   "outputs": [
    {
     "name": "stdout",
     "output_type": "stream",
     "text": [
      "Train Confusion Matrix\n",
      "[[ 4213  5734]\n",
      " [ 1346 50148]]\n",
      "Test Confusion Matrix\n",
      "[[ 1756  2478]\n",
      " [  557 21541]]\n"
     ]
    },
    {
     "data": {
      "image/png": "[encoded data removed]",
      "text/plain": [
       "<Figure size 432x288 with 2 Axes>"
      ]
     },
     "metadata": {
      "needs_background": "light"
     },
     "output_type": "display_data"
    }
   ],
   "source": [
    "#Confusion Matrix\n",
    "print(\"Train Confusion Matrix\")\n",
    "print(confusion_matrix(Y_train, sgd.predict(X_train_vec_standardized)))\n",
    "print(\"Test Confusion Matrix\")\n",
    "print(confusion_matrix(Y_test, sgd.predict(X_test_vec_standardized)))\n",
    "cm_test=confusion_matrix(Y_test, sgd.predict(X_test_vec_standardized))\n",
    "class_label = [\"negative\", \"positive\"]\n",
    "df_cm = pd.DataFrame(cm_test, index=class_label, columns=class_label)\n",
    "sns.heatmap(df_cm, annot = True, fmt = \"d\")\n",
    "plt.title(\"Confusion Matrix\")\n",
    "plt.xlabel(\"Predicted Label\")\n",
    "plt.ylabel(\"True Label\")\n",
    "plt.show()"
   ]
  },
  {
   "cell_type": "markdown",
   "metadata": {},
   "source": [
    "#### RandomSearchCV (SGDClassifier with Hinge-Loss)"
   ]
  },
  {
   "cell_type": "code",
   "execution_count": 77,
   "metadata": {},
   "outputs": [
    {
     "name": "stdout",
     "output_type": "stream",
     "text": [
      "Model with best parameters :\n",
      " SGDClassifier(alpha=0.1195314442973181, average=False, class_weight=None,\n",
      "       epsilon=0.1, eta0=0.0, fit_intercept=True, l1_ratio=0.15,\n",
      "       learning_rate='optimal', loss='hinge', max_iter=None, n_iter=None,\n",
      "       n_jobs=1, penalty='l2', power_t=0.5, random_state=None,\n",
      "       shuffle=True, tol=None, verbose=0, warm_start=False)\n",
      "Accuracy of model :  0.911374239533\n",
      "The Optimal value Of Aplha(1/C) is :  0.119531444297\n"
     ]
    }
   ],
   "source": [
    "from scipy.stats import uniform\n",
    "# create regularization hyperparameter distribution using uniform distribution\n",
    "Alpha = uniform(loc=0,scale=1)\n",
    "# create hyperparamaters options\n",
    "hyperparameters = dict(alpha=Alpha)\n",
    "# Using RandomSearchCv\n",
    "model = RandomizedSearchCV(SGDClassifier(), hyperparameters, scoring='roc_auc', cv=3, n_jobs=-1, pre_dispatch=2)\n",
    "model.fit(X_train_vec_standardized, Y_train)\n",
    "print(\"Model with best parameters :\\n\", model.best_estimator_)\n",
    "print(\"Accuracy of model : \", model.score(X_test_vec_standardized, Y_test))\n",
    "\n",
    "optimal_alpha = model.best_estimator_.alpha\n",
    "print(\"The Optimal value Of Aplha(1/C) is : \", optimal_alpha)\n",
    "\n",
    "#SGDClassifier with  Optimal value of alpha:(1/C)\n",
    "sgd = SGDClassifier(alpha=optimal_alpha, n_jobs=-1)\n",
    "sgd.fit(X_train_vec_standardized, Y_train)\n",
    "predictions = sgd.predict(X_test_vec_standardized)\n",
    "\n",
    "# Predict probabilistic response\n",
    "pred_prob = calib.predict_proba(X_test_vec_standardized)[:,1]\n",
    "\n",
    "#varibles will be used at conclusion part\n",
    "avg_w2V_random_alpha = optimal_alpha\n",
    "avg_w2V_random_train_acc = model.score(X_test_vec_standardized, Y_test)*100\n",
    "avg_w2V_random_test_acc = accuracy_score(Y_test, predictions) * 100"
   ]
  },
  {
   "cell_type": "code",
   "execution_count": 78,
   "metadata": {},
   "outputs": [
    {
     "data": {
      "image/png": "[encoded data removed]",
      "text/plain": [
       "<Figure size 432x288 with 1 Axes>"
      ]
     },
     "metadata": {
      "needs_background": "light"
     },
     "output_type": "display_data"
    }
   ],
   "source": [
    "import matplotlib.pyplot as plt\n",
    "import numpy as np\n",
    "\n",
    "from sklearn.model_selection import validation_curve\n",
    "\n",
    "\n",
    "param_range = np.logspace(-5, 1, 5)\n",
    "train_scores, test_scores = validation_curve(\n",
    "    SGDClassifier(),X_train_vec_standardized, Y_train, param_name=\"alpha\", param_range=param_range,\n",
    "    cv=3, scoring=\"roc_auc\", n_jobs=1)\n",
    "train_scores_mean = np.mean(train_scores, axis=1)\n",
    "train_scores_std = np.std(train_scores, axis=1)\n",
    "test_scores_mean = np.mean(test_scores, axis=1)\n",
    "test_scores_std = np.std(test_scores, axis=1)\n",
    "\n",
    "plt.title(\"Hyperparameter Vs AUC\")\n",
    "plt.xlabel(\"$alpha$\")\n",
    "plt.ylabel(\"AUC\")\n",
    "plt.ylim(0.0, 1.1)\n",
    "lw = 2\n",
    "plt.semilogx(param_range, train_scores_mean, label=\"Training score\",\n",
    "             color=\"darkorange\", lw=lw)\n",
    "plt.fill_between(param_range, train_scores_mean - train_scores_std,\n",
    "                 train_scores_mean + train_scores_std, alpha=0.1,\n",
    "                 color=\"darkorange\", lw=lw)\n",
    "plt.semilogx(param_range, test_scores_mean, label=\"Cross-validation score\",\n",
    "             color=\"navy\", lw=lw)\n",
    "plt.fill_between(param_range, test_scores_mean - test_scores_std,\n",
    "                 test_scores_mean + test_scores_std, alpha=0.1,\n",
    "                 color=\"navy\", lw=lw)\n",
    "plt.legend(loc=\"best\")\n",
    "plt.show()"
   ]
  },
  {
   "cell_type": "code",
   "execution_count": 54,
   "metadata": {},
   "outputs": [
    {
     "data": {
      "image/png": "[encoded data removed]",
      "text/plain": [
       "<Figure size 432x288 with 1 Axes>"
      ]
     },
     "metadata": {
      "needs_background": "light"
     },
     "output_type": "display_data"
    }
   ],
   "source": [
    "from cycler import cycler\n",
    "fpr, tpr, threshold = metrics.roc_curve(Y_test, (X_test_vec_standardized)[:,1])\n",
    "fpr2, tpr2, threshold2 = metrics.roc_curve(Y_train, (X_train_vec_standardized)[:,1])\n",
    "\n",
    "roc_auc = metrics.auc(fpr, tpr)\n",
    "roc_auc2 = metrics.auc(fpr2, tpr2)\n",
    "\n",
    "# method I: plt\n",
    "import matplotlib.pyplot as plt\n",
    "f, ax = plt.subplots()\n",
    "plt.title('Receiver Operating Characteristic Curve')\n",
    "cy = cycler('color', ['red', 'green', 'blue'])\n",
    "ax.set_prop_cycle(cy)\n",
    "ax.plot(fpr, tpr, label = 'AUC = %0.2f' % roc_auc)\n",
    "ax.plot(fpr2, tpr2, label = 'AUC = %0.2f' % roc_auc2)\n",
    "plt.legend(['TEST Data', 'TRAIN Data'],loc = 'lower right')\n",
    "\n",
    "ax.plot([0, 1], [0, 1])\n",
    "plt.xlim([0, 1])\n",
    "plt.ylim([0, 1])\n",
    "plt.ylabel('True Positive Rate')\n",
    "plt.xlabel('False Positive Rate')\n",
    "plt.show()"
   ]
  },
  {
   "cell_type": "code",
   "execution_count": 55,
   "metadata": {},
   "outputs": [
    {
     "name": "stdout",
     "output_type": "stream",
     "text": [
      "\n",
      "Test Accuracy Of Classifier C = 0.168 is 85.170135%\n",
      "\n",
      "Test Precsion Of Classifier C = 0.168 is 0.850418\n",
      "\n",
      "Test recall  Of Classifier C = 0.168 is 0.999004\n",
      "\n",
      "Test F1-score  Of Classifier C = 0.168 is 0.918742\n"
     ]
    }
   ],
   "source": [
    "#Evaluate Accuracy\n",
    "acc = accuracy_score(Y_test, predictions)* 100\n",
    "print('\\nTest Accuracy Of Classifier C = %.3f is %f%%' % (optimal_alpha, acc))\n",
    "\n",
    "#Evaluate Precision\n",
    "acc = precision_score(Y_test, predictions)\n",
    "print('\\nTest Precsion Of Classifier C = %.3f is %f' % (optimal_alpha, acc))\n",
    "\n",
    "#Evaluate Recall\n",
    "acc = recall_score(Y_test, predictions)\n",
    "print('\\nTest recall  Of Classifier C = %.3f is %f' % (optimal_alpha, acc))\n",
    "\n",
    "#Evaluate F1-score\n",
    "acc = f1_score(Y_test, predictions)\n",
    "print('\\nTest F1-score  Of Classifier C = %.3f is %f' % (optimal_alpha, acc))"
   ]
  },
  {
   "cell_type": "code",
   "execution_count": 56,
   "metadata": {},
   "outputs": [
    {
     "name": "stdout",
     "output_type": "stream",
     "text": [
      "Train Confusion Matrix\n",
      "[[  816  9131]\n",
      " [   60 51434]]\n",
      "Test Confusion Matrix\n",
      "[[  351  3883]\n",
      " [   22 22076]]\n"
     ]
    },
    {
     "data": {
      "image/png": "[encoded data removed]",
      "text/plain": [
       "<Figure size 432x288 with 2 Axes>"
      ]
     },
     "metadata": {
      "needs_background": "light"
     },
     "output_type": "display_data"
    }
   ],
   "source": [
    "#Confusion Matrix\n",
    "print(\"Train Confusion Matrix\")\n",
    "print(confusion_matrix(Y_train, sgd.predict(X_train_vec_standardized)))\n",
    "print(\"Test Confusion Matrix\")\n",
    "print(confusion_matrix(Y_test, sgd.predict(X_test_vec_standardized)))\n",
    "cm_test=confusion_matrix(Y_test, sgd.predict(X_test_vec_standardized))\n",
    "class_label = [\"negative\", \"positive\"]\n",
    "df_cm = pd.DataFrame(cm_test, index=class_label, columns=class_label)\n",
    "sns.heatmap(df_cm, annot = True, fmt = \"d\")\n",
    "plt.title(\"Confusion Matrix\")\n",
    "plt.xlabel(\"Predicted Label\")\n",
    "plt.ylabel(\"True Label\")\n",
    "plt.show()"
   ]
  },
  {
   "cell_type": "markdown",
   "metadata": {},
   "source": [
    "#### Observation:\n",
    "* SGD Classifier with HInge-Loss On AvgWord2Vec observed an AUC of 0.886 with an APlha 0.1."
   ]
  },
  {
   "cell_type": "markdown",
   "metadata": {},
   "source": [
    "### [5.1.4]  Applying Linear SVM on TFIDF W2V,<font color='red'> SET 4</font>"
   ]
  },
  {
   "cell_type": "code",
   "execution_count": 55,
   "metadata": {},
   "outputs": [
    {
     "name": "stdout",
     "output_type": "stream",
     "text": [
      "(87773, 11)\n"
     ]
    }
   ],
   "source": [
    "# Please write all the code with proper documentation\n",
    "# collect different 100k rows without repetition from time_sorted_data DataFrfame\n",
    "my_final = time_sorted_data.take(np.random.permutation(len(final))[:100000])\n",
    "print(my_final.shape)\n",
    "\n",
    "x = my_final['cleanedText'].values\n",
    "y = my_final['Score']\n",
    "#SPlit the dataset into Train and Test\n",
    "X_train,X_test,Y_train,Y_test=train_test_split(x, y, test_size=0.3, random_state=0)\n",
    "\n",
    "#List of sentance in X_train text\n",
    "sent_of_train = []\n",
    "for sent in X_train:\n",
    "    sent_of_train.append(sent.split())\n",
    "    \n",
    "#List of sentance in X_test text\n",
    "sent_of_test = []\n",
    "for sent in X_test:\n",
    "    sent_of_test.append(sent.split())\n",
    "#Train your own text corpus WOrd2Vec\n",
    "w2v_model = Word2Vec(sent_of_train,min_count=5,size=50,workers=4)   \n",
    "w2v_words = list(w2v_model.wv.vocab)"
   ]
  },
  {
   "cell_type": "code",
   "execution_count": 56,
   "metadata": {},
   "outputs": [],
   "source": [
    "# Please write all the code with proper documentation\n",
    "#TF-IDF weighted word2vec\n",
    "tf_idf_vect = TfidfVectorizer()\n",
    "final_tf_idf1 = tf_idf_vect.fit_transform(X_train)\n",
    "tfidf_feat=tf_idf_vect.get_feature_names()\n",
    "\n",
    "#compute TFIDF weighted word2vec of each review of X_train\n",
    "#copute AvgWord2Vec for each review of X_train\n",
    "tfidf_train_vectors = [];\n",
    "row=0;\n",
    "for sent in sent_of_train:\n",
    "    sent_vec = np.zeros(50)\n",
    "    weight_sum =0; # num of words with a valid vector in the sentence/review\n",
    "    for word in sent: # for each word in a review/sentence\n",
    "        if word in w2v_words:\n",
    "            vec = w2v_model.wv[word]\n",
    "            tf_idf = final_tf_idf1[row, tfidf_feat.index(word)]\n",
    "            sent_vec += (vec * tf_idf)\n",
    "            weight_sum += tf_idf\n",
    "    if weight_sum != 0:\n",
    "        sent_vec /= weight_sum\n",
    "    tfidf_train_vectors.append(sent_vec)\n",
    "    row += 1  "
   ]
  },
  {
   "cell_type": "code",
   "execution_count": 61,
   "metadata": {},
   "outputs": [],
   "source": [
    "tfidf_test_vectors = [];\n",
    "row=0;\n",
    "for sent in sent_of_test:\n",
    "    sent_vec = np.zeros(50)\n",
    "    weight_sum =0; # num of words with a valid vector in the sentence/review\n",
    "    for word in sent: # for each word in a review/sentence\n",
    "        if word in w2v_words:\n",
    "            vec = w2v_model.wv[word]\n",
    "            tf_idf = final_tf_idf1[row, tfidf_feat.index(word)]\n",
    "            sent_vec += (vec * tf_idf)\n",
    "            weight_sum += tf_idf\n",
    "    if weight_sum != 0:\n",
    "        sent_vec /= weight_sum\n",
    "    tfidf_test_vectors.append(sent_vec)\n",
    "    row += 1  \n",
    "#Standardizing\n",
    "sc = StandardScaler()\n",
    "X_train_vec_standardized = sc.fit_transform(tfidf_train_vectors)\n",
    "X_test_vec_standardized = sc.transform(tfidf_test_vectors)"
   ]
  },
  {
   "cell_type": "markdown",
   "metadata": {},
   "source": [
    "#### GridSearch CV"
   ]
  },
  {
   "cell_type": "code",
   "execution_count": 62,
   "metadata": {},
   "outputs": [
    {
     "name": "stdout",
     "output_type": "stream",
     "text": [
      "Model with best parameters :\n",
      " SGDClassifier(alpha=0.01, average=False, class_weight=None, epsilon=0.1,\n",
      "       eta0=0.0, fit_intercept=True, l1_ratio=0.15,\n",
      "       learning_rate='optimal', loss='hinge', max_iter=None, n_iter=None,\n",
      "       n_jobs=1, penalty='l2', power_t=0.5, random_state=None,\n",
      "       shuffle=True, tol=None, verbose=0, warm_start=False)\n",
      "Accuracy of model :  0.619521264609\n",
      "The Optimal value Of alpha(1/C) is :  0.01\n"
     ]
    }
   ],
   "source": [
    "Alpha = [0.001, 0.01, 0.1, 1, 10]\n",
    "param_grid={'alpha': Alpha}\n",
    "model = GridSearchCV(SGDClassifier(), param_grid, scoring='roc_auc', cv=3, n_jobs=-1, pre_dispatch=2)\n",
    "model.fit(X_train_vec_standardized, Y_train)\n",
    "print(\"Model with best parameters :\\n\", model.best_estimator_)\n",
    "print(\"Accuracy of model : \", model.score(X_test_vec_standardized, Y_test))\n",
    "\n",
    "optimal_alpha = model.best_estimator_.alpha\n",
    "print(\"The Optimal value Of alpha(1/C) is : \", optimal_alpha)\n",
    "\n",
    "#SGDClassifier with  Optimal value of alpha:(1/C)\n",
    "sgd = SGDClassifier(alpha=optimal_alpha, n_jobs=-1)\n",
    "sgd.fit(X_train_vec_standardized, Y_train)\n",
    "predictions = sgd.predict(X_test_vec_standardized)\n",
    "\n",
    "# Predict probabilistic response\n",
    "#pred_prob = calib.predict_proba(X_test_vec_standardized)[:,1]\n",
    "\n",
    "#varibles will be used at conclusion part\n",
    "tfidf_w2v_grid_alpha = optimal_alpha\n",
    "tfidf_w2v_grid_train_acc = model.score(X_test_vec_standardized, Y_test)*100\n",
    "tfidf_w2v_grid_test_acc = accuracy_score(Y_test, predictions) * 100"
   ]
  },
  {
   "cell_type": "code",
   "execution_count": 82,
   "metadata": {},
   "outputs": [
    {
     "data": {
      "image/png": "[encoded data removed]",
      "text/plain": [
       "<Figure size 432x288 with 1 Axes>"
      ]
     },
     "metadata": {
      "needs_background": "light"
     },
     "output_type": "display_data"
    }
   ],
   "source": [
    "import matplotlib.pyplot as plt\n",
    "import numpy as np\n",
    "\n",
    "from sklearn.model_selection import validation_curve\n",
    "\n",
    "\n",
    "param_range = np.logspace(-5, 1, 5)\n",
    "train_scores, test_scores = validation_curve(\n",
    "    SGDClassifier(),X_train_vec_standardized, Y_train, param_name=\"alpha\", param_range=param_range,\n",
    "    cv=3, scoring=\"roc_auc\", n_jobs=1)\n",
    "train_scores_mean = np.mean(train_scores, axis=1)\n",
    "train_scores_std = np.std(train_scores, axis=1)\n",
    "test_scores_mean = np.mean(test_scores, axis=1)\n",
    "test_scores_std = np.std(test_scores, axis=1)\n",
    "\n",
    "plt.title(\"Hyperparameter Vs AUC\")\n",
    "plt.xlabel(\"$alpha$\")\n",
    "plt.ylabel(\"AUC\")\n",
    "plt.ylim(0.0, 1.1)\n",
    "lw = 2\n",
    "plt.semilogx(param_range, train_scores_mean, label=\"Training score\",\n",
    "             color=\"darkorange\", lw=lw)\n",
    "plt.fill_between(param_range, train_scores_mean - train_scores_std,\n",
    "                 train_scores_mean + train_scores_std, alpha=0.1,\n",
    "                 color=\"darkorange\", lw=lw)\n",
    "plt.semilogx(param_range, test_scores_mean, label=\"Cross-validation score\",\n",
    "             color=\"navy\", lw=lw)\n",
    "plt.fill_between(param_range, test_scores_mean - test_scores_std,\n",
    "                 test_scores_mean + test_scores_std, alpha=0.1,\n",
    "                 color=\"navy\", lw=lw)\n",
    "plt.legend(loc=\"best\")\n",
    "plt.show()"
   ]
  },
  {
   "cell_type": "code",
   "execution_count": 63,
   "metadata": {},
   "outputs": [
    {
     "data": {
      "image/png": "[encoded data removed]",
      "text/plain": [
       "<Figure size 432x288 with 1 Axes>"
      ]
     },
     "metadata": {
      "needs_background": "light"
     },
     "output_type": "display_data"
    }
   ],
   "source": [
    "from cycler import cycler\n",
    "fpr, tpr, threshold = metrics.roc_curve(Y_test, (X_test_vec_standardized)[:,1])\n",
    "fpr2, tpr2, threshold2 = metrics.roc_curve(Y_train, (X_train_vec_standardized)[:,1])\n",
    "\n",
    "roc_auc = metrics.auc(fpr, tpr)\n",
    "roc_auc2 = metrics.auc(fpr2, tpr2)\n",
    "\n",
    "# method I: plt\n",
    "import matplotlib.pyplot as plt\n",
    "f, ax = plt.subplots()\n",
    "plt.title('Receiver Operating Characteristic Curve')\n",
    "cy = cycler('color', ['red', 'green', 'blue'])\n",
    "ax.set_prop_cycle(cy)\n",
    "ax.plot(fpr, tpr, label = 'AUC = %0.2f' % roc_auc)\n",
    "ax.plot(fpr2, tpr2, label = 'AUC = %0.2f' % roc_auc2)\n",
    "plt.legend(['TEST Data', 'TRAIN Data'],loc = 'lower right')\n",
    "\n",
    "ax.plot([0, 1], [0, 1])\n",
    "plt.xlim([0, 1])\n",
    "plt.ylim([0, 1])\n",
    "plt.ylabel('True Positive Rate')\n",
    "plt.xlabel('False Positive Rate')\n",
    "plt.show()"
   ]
  },
  {
   "cell_type": "code",
   "execution_count": 61,
   "metadata": {},
   "outputs": [
    {
     "name": "stdout",
     "output_type": "stream",
     "text": [
      "\n",
      "Test Accuracy Of Classifier C = 0.010 is 77.726720%\n",
      "\n",
      "Test Precsion Of Classifier C = 0.010 is 0.855276\n",
      "\n",
      "Test recall  Of Classifier C = 0.010 is 0.884615\n",
      "\n",
      "Test F1-score  Of Classifier C = 0.010 is 0.869699\n"
     ]
    }
   ],
   "source": [
    "#Evaluate Accuracy\n",
    "acc = accuracy_score(Y_test, predictions)* 100\n",
    "print('\\nTest Accuracy Of Classifier C = %.3f is %f%%' % (optimal_alpha, acc))\n",
    "\n",
    "#Evaluate Precision\n",
    "acc = precision_score(Y_test, predictions)\n",
    "print('\\nTest Precsion Of Classifier C = %.3f is %f' % (optimal_alpha, acc))\n",
    "\n",
    "#Evaluate Recall\n",
    "acc = recall_score(Y_test, predictions)\n",
    "print('\\nTest recall  Of Classifier C = %.3f is %f' % (optimal_alpha, acc))\n",
    "\n",
    "#Evaluate F1-score\n",
    "acc = f1_score(Y_test, predictions)\n",
    "print('\\nTest F1-score  Of Classifier C = %.3f is %f' % (optimal_alpha, acc))"
   ]
  },
  {
   "cell_type": "code",
   "execution_count": 62,
   "metadata": {},
   "outputs": [
    {
     "name": "stdout",
     "output_type": "stream",
     "text": [
      "Train Confusion Matrix\n",
      "[[ 2880  7095]\n",
      " [  820 50646]]\n",
      "Test Confusion Matrix\n",
      "[[  894  3312]\n",
      " [ 2553 19573]]\n"
     ]
    },
    {
     "data": {
      "image/png": "[encoded data removed]",
      "text/plain": [
       "<Figure size 432x288 with 2 Axes>"
      ]
     },
     "metadata": {
      "needs_background": "light"
     },
     "output_type": "display_data"
    }
   ],
   "source": [
    "#Confusion Matrix\n",
    "print(\"Train Confusion Matrix\")\n",
    "print(confusion_matrix(Y_train, sgd.predict(X_train_vec_standardized)))\n",
    "print(\"Test Confusion Matrix\")\n",
    "print(confusion_matrix(Y_test, sgd.predict(X_test_vec_standardized)))\n",
    "cm_test=confusion_matrix(Y_test, sgd.predict(X_test_vec_standardized))\n",
    "class_label = [\"negative\", \"positive\"]\n",
    "df_cm = pd.DataFrame(cm_test, index=class_label, columns=class_label)\n",
    "sns.heatmap(df_cm, annot = True, fmt = \"d\")\n",
    "plt.title(\"Confusion Matrix\")\n",
    "plt.xlabel(\"Predicted Label\")\n",
    "plt.ylabel(\"True Label\")\n",
    "plt.show()"
   ]
  },
  {
   "cell_type": "markdown",
   "metadata": {},
   "source": [
    "#### RandomSearchCV"
   ]
  },
  {
   "cell_type": "code",
   "execution_count": 84,
   "metadata": {},
   "outputs": [
    {
     "name": "stdout",
     "output_type": "stream",
     "text": [
      "Model with best parameters :\n",
      " SGDClassifier(alpha=0.066418464654816156, average=False, class_weight=None,\n",
      "       epsilon=0.1, eta0=0.0, fit_intercept=True, l1_ratio=0.15,\n",
      "       learning_rate='optimal', loss='hinge', max_iter=None, n_iter=None,\n",
      "       n_jobs=1, penalty='l2', power_t=0.5, random_state=None,\n",
      "       shuffle=True, tol=None, verbose=0, warm_start=False)\n",
      "Accuracy of model :  0.9144603335\n",
      "The Optimal value Of Aplha(1/C) is :  0.0664184646548\n"
     ]
    }
   ],
   "source": [
    "from scipy.stats import uniform\n",
    "# create regularization hyperparameter distribution using uniform distribution\n",
    "Alpha = uniform(loc=0,scale=1)\n",
    "# create hyperparamaters options\n",
    "hyperparameters = dict(alpha=Alpha)\n",
    "# Using RandomSearchCv\n",
    "model = RandomizedSearchCV(SGDClassifier(), hyperparameters, scoring='roc_auc', cv=3, n_jobs=-1, pre_dispatch=2)\n",
    "model.fit(X_train_vec_standardized, Y_train)\n",
    "print(\"Model with best parameters :\\n\", model.best_estimator_)\n",
    "print(\"Accuracy of model : \", model.score(X_test_vec_standardized, Y_test))\n",
    "\n",
    "optimal_alpha = model.best_estimator_.alpha\n",
    "print(\"The Optimal value Of Aplha(1/C) is : \", optimal_alpha)\n",
    "\n",
    "#SGDClassifier with  Optimal value of alpha:(1/C)\n",
    "sgd = SGDClassifier(alpha=optimal_alpha, n_jobs=-1)\n",
    "sgd.fit(X_train_vec_standardized, Y_train)\n",
    "predictions = sgd.predict(X_test_vec_standardized)\n",
    "\n",
    "# Predict probabilistic response\n",
    "pred_prob = calib.predict_proba(X_test_vec_standardized)[:,1]\n",
    "\n",
    "#varibles will be used at conclusion part\n",
    "tfidf_w2V_random_alpha = optimal_alpha\n",
    "tfidf_w2V_random_train_acc = model.score(X_test_vec_standardized, Y_test)*100\n",
    "tfidf_w2V_random_test_acc = accuracy_score(Y_test, predictions) * 100"
   ]
  },
  {
   "cell_type": "code",
   "execution_count": 64,
   "metadata": {},
   "outputs": [
    {
     "data": {
      "image/png": "[encoded data removed]",
      "text/plain": [
       "<Figure size 432x288 with 1 Axes>"
      ]
     },
     "metadata": {
      "needs_background": "light"
     },
     "output_type": "display_data"
    }
   ],
   "source": [
    "from cycler import cycler\n",
    "fpr, tpr, threshold = metrics.roc_curve(Y_test, (X_test_vec_standardized)[:,1])\n",
    "fpr2, tpr2, threshold2 = metrics.roc_curve(Y_train, (X_train_vec_standardized)[:,1])\n",
    "\n",
    "roc_auc = metrics.auc(fpr, tpr)\n",
    "roc_auc2 = metrics.auc(fpr2, tpr2)\n",
    "\n",
    "# method I: plt\n",
    "import matplotlib.pyplot as plt\n",
    "f, ax = plt.subplots()\n",
    "plt.title('Receiver Operating Characteristic Curve')\n",
    "cy = cycler('color', ['red', 'green', 'blue'])\n",
    "ax.set_prop_cycle(cy)\n",
    "ax.plot(fpr, tpr, label = 'AUC = %0.2f' % roc_auc)\n",
    "ax.plot(fpr2, tpr2, label = 'AUC = %0.2f' % roc_auc2)\n",
    "plt.legend(['TEST Data', 'TRAIN Data'],loc = 'lower right')\n",
    "\n",
    "ax.plot([0, 1], [0, 1])\n",
    "plt.xlim([0, 1])\n",
    "plt.ylim([0, 1])\n",
    "plt.ylabel('True Positive Rate')\n",
    "plt.xlabel('False Positive Rate')\n",
    "plt.show()"
   ]
  },
  {
   "cell_type": "code",
   "execution_count": 64,
   "metadata": {},
   "outputs": [
    {
     "name": "stdout",
     "output_type": "stream",
     "text": [
      "\n",
      "Test Accuracy Of Classifier C = 0.023 is 78.657147%\n",
      "\n",
      "Test Precsion Of Classifier C = 0.023 is 0.853781\n",
      "\n",
      "Test recall  Of Classifier C = 0.023 is 0.900163\n",
      "\n",
      "Test F1-score  Of Classifier C = 0.023 is 0.876359\n"
     ]
    }
   ],
   "source": [
    "#Evaluate Accuracy\n",
    "acc = accuracy_score(Y_test, predictions)* 100\n",
    "print('\\nTest Accuracy Of Classifier C = %.3f is %f%%' % (optimal_alpha, acc))\n",
    "\n",
    "#Evaluate Precision\n",
    "acc = precision_score(Y_test, predictions)\n",
    "print('\\nTest Precsion Of Classifier C = %.3f is %f' % (optimal_alpha, acc))\n",
    "\n",
    "#Evaluate Recall\n",
    "acc = recall_score(Y_test, predictions)\n",
    "print('\\nTest recall  Of Classifier C = %.3f is %f' % (optimal_alpha, acc))\n",
    "\n",
    "#Evaluate F1-score\n",
    "acc = f1_score(Y_test, predictions)\n",
    "print('\\nTest F1-score  Of Classifier C = %.3f is %f' % (optimal_alpha, acc))"
   ]
  },
  {
   "cell_type": "code",
   "execution_count": 65,
   "metadata": {},
   "outputs": [
    {
     "name": "stdout",
     "output_type": "stream",
     "text": [
      "Train Confusion Matrix\n",
      "[[ 2359  7616]\n",
      " [  590 50876]]\n",
      "Test Confusion Matrix\n",
      "[[  795  3411]\n",
      " [ 2209 19917]]\n"
     ]
    },
    {
     "data": {
      "image/png": "[encoded data removed]",
      "text/plain": [
       "<Figure size 432x288 with 2 Axes>"
      ]
     },
     "metadata": {
      "needs_background": "light"
     },
     "output_type": "display_data"
    }
   ],
   "source": [
    "#Confusion Matrix\n",
    "print(\"Train Confusion Matrix\")\n",
    "print(confusion_matrix(Y_train, sgd.predict(X_train_vec_standardized)))\n",
    "print(\"Test Confusion Matrix\")\n",
    "print(confusion_matrix(Y_test, sgd.predict(X_test_vec_standardized)))\n",
    "cm_test=confusion_matrix(Y_test, sgd.predict(X_test_vec_standardized))\n",
    "class_label = [\"negative\", \"positive\"]\n",
    "df_cm = pd.DataFrame(cm_test, index=class_label, columns=class_label)\n",
    "sns.heatmap(df_cm, annot = True, fmt = \"d\")\n",
    "plt.title(\"Confusion Matrix\")\n",
    "plt.xlabel(\"Predicted Label\")\n",
    "plt.ylabel(\"True Label\")\n",
    "plt.show()"
   ]
  },
  {
   "cell_type": "markdown",
   "metadata": {},
   "source": [
    "## [5.2] RBF SVM"
   ]
  },
  {
   "cell_type": "markdown",
   "metadata": {},
   "source": [
    "#### Randomly sampling 40k data points out of whole dataset"
   ]
  },
  {
   "cell_type": "code",
   "execution_count": 65,
   "metadata": {},
   "outputs": [
    {
     "name": "stdout",
     "output_type": "stream",
     "text": [
      "(40000, 11)\n",
      "the type of count vectorizer  <class 'scipy.sparse.csr.csr_matrix'>\n",
      "the shape of out text BOW vectorizer  (28000, 1318)\n",
      "the number of unique words  1318\n"
     ]
    }
   ],
   "source": [
    "# collect different 40k rows without repetition from time_sorted_data DataFrfame\n",
    "my_final = time_sorted_data.take(np.random.permutation(len(final))[:40000])\n",
    "print(my_final.shape)\n",
    "\n",
    "x = my_final['cleanedText'].values\n",
    "y = my_final['Score']\n",
    "#SPlit the dataset into Train and Test\n",
    "X_train,X_test,Y_train,Y_test=train_test_split(x, y, test_size=0.3, random_state=0)\n",
    "\n",
    "#Bow\n",
    "count_vect = CountVectorizer(min_df =100)\n",
    "X_train_vec = count_vect.fit_transform(X_train)\n",
    "X_test_vec = count_vect.transform(X_test)\n",
    "print(\"the type of count vectorizer \",type(X_train_vec))\n",
    "print(\"the shape of out text BOW vectorizer \",X_train_vec.get_shape())\n",
    "print(\"the number of unique words \", X_train_vec.get_shape()[1])\n",
    "    \n",
    "#Standardizing\n",
    "import warnings\n",
    "warnings.filterwarnings('ignore')\n",
    "from sklearn.preprocessing import StandardScaler\n",
    "sc = StandardScaler(with_mean=False)\n",
    "X_train_vec_standardized = sc.fit_transform(X_train_vec)\n",
    "X_test_vec_standardized = sc.transform(X_test_vec)"
   ]
  },
  {
   "cell_type": "markdown",
   "metadata": {},
   "source": [
    "### [5.2.1] Applying RBF SVM on BOW,<font color='red'> SET 1</font>"
   ]
  },
  {
   "cell_type": "code",
   "execution_count": 67,
   "metadata": {},
   "outputs": [
    {
     "name": "stdout",
     "output_type": "stream",
     "text": [
      "Model with best parameters :\n",
      " SVC(C=1, cache_size=200, class_weight=None, coef0=0.0,\n",
      "  decision_function_shape='ovr', degree=3, gamma='auto', kernel='rbf',\n",
      "  max_iter=-1, probability=False, random_state=None, shrinking=True,\n",
      "  tol=0.001, verbose=False)\n",
      "Accuracy of model :  0.918771277922\n",
      "The Optimal value Of C is :  1\n"
     ]
    }
   ],
   "source": [
    "# Please write all the code with proper documentation\n",
    "from sklearn.svm import SVC\n",
    "C_range=[1,2,4,8,16,32]\n",
    "param_grid = {'C': C_range}\n",
    "model = GridSearchCV(SVC(), param_grid, scoring='roc_auc', cv=3, n_jobs=-1, pre_dispatch=2)\n",
    "model.fit(X_train_vec_standardized, Y_train)\n",
    "print(\"Model with best parameters :\\n\", model.best_estimator_)\n",
    "print(\"Accuracy of model : \", model.score(X_test_vec_standardized, Y_test))\n",
    "\n",
    "optimal_C = model.best_estimator_.C\n",
    "print(\"The Optimal value Of C is : \", optimal_C)\n",
    "\n",
    "#SVC with RBF KErnel  Optimal value of C:\n",
    "svc = SVC(C=optimal_C)\n",
    "svc.fit(X_train_vec_standardized, Y_train)\n",
    "predictions = svc.predict(X_test_vec_standardized)\n",
    "\n",
    "# Predict probabilistic response\n",
    "pred_prob = calib.predict_proba(X_test_vec_standardized)[:,1]"
   ]
  },
  {
   "cell_type": "code",
   "execution_count": 32,
   "metadata": {},
   "outputs": [
    {
     "data": {
      "image/png": "[encoded data removed]",
      "text/plain": [
       "<Figure size 432x288 with 1 Axes>"
      ]
     },
     "metadata": {
      "needs_background": "light"
     },
     "output_type": "display_data"
    }
   ],
   "source": [
    "import matplotlib.pyplot as plt\n",
    "import numpy as np\n",
    "\n",
    "from sklearn.model_selection import validation_curve\n",
    "\n",
    "\n",
    "param_range = np.logspace(-5, 1, 5)\n",
    "train_scores, test_scores = validation_curve(\n",
    "    SGDClassifier(),X_train_vec_standardized, Y_train, param_name=\"alpha\", param_range=param_range,\n",
    "    cv=3, scoring=\"roc_auc\", n_jobs=1)\n",
    "train_scores_mean = np.mean(train_scores, axis=1)\n",
    "train_scores_std = np.std(train_scores, axis=1)\n",
    "test_scores_mean = np.mean(test_scores, axis=1)\n",
    "test_scores_std = np.std(test_scores, axis=1)\n",
    "\n",
    "plt.title(\"Hyperparameter Vs AUC\")\n",
    "plt.xlabel(\"$alpha$\")\n",
    "plt.ylabel(\"AUC\")\n",
    "plt.ylim(0.0, 1.1)\n",
    "lw = 2\n",
    "plt.semilogx(param_range, train_scores_mean, label=\"Training score\",\n",
    "             color=\"darkorange\", lw=lw)\n",
    "plt.fill_between(param_range, train_scores_mean - train_scores_std,\n",
    "                 train_scores_mean + train_scores_std, alpha=0.1,\n",
    "                 color=\"darkorange\", lw=lw)\n",
    "plt.semilogx(param_range, test_scores_mean, label=\"Cross-validation score\",\n",
    "             color=\"navy\", lw=lw)\n",
    "plt.fill_between(param_range, test_scores_mean - test_scores_std,\n",
    "                 test_scores_mean + test_scores_std, alpha=0.1,\n",
    "                 color=\"navy\", lw=lw)\n",
    "plt.legend(loc=\"best\")\n",
    "plt.show()"
   ]
  },
  {
   "cell_type": "code",
   "execution_count": 73,
   "metadata": {},
   "outputs": [
    {
     "data": {
      "image/png": "[encoded data removed]",
      "text/plain": [
       "<Figure size 432x288 with 1 Axes>"
      ]
     },
     "metadata": {
      "needs_background": "light"
     },
     "output_type": "display_data"
    }
   ],
   "source": [
    "from cycler import cycler\n",
    "fpr, tpr, threshold = metrics.roc_curve(Y_test, calib.predict_proba(X_test_vec_standardized)[:,1])\n",
    "fpr2, tpr2, threshold2 = metrics.roc_curve(Y_train, calib.predict_proba(X_train_vec_standardized)[:,1])\n",
    "\n",
    "roc_auc = metrics.auc(fpr, tpr)\n",
    "roc_auc2 = metrics.auc(fpr2, tpr2)\n",
    "\n",
    "# method I: plt\n",
    "import matplotlib.pyplot as plt\n",
    "f, ax = plt.subplots()\n",
    "plt.title('Receiver Operating Characteristic Curve')\n",
    "cy = cycler('color', ['red', 'green', 'blue'])\n",
    "ax.set_prop_cycle(cy)\n",
    "ax.plot(fpr, tpr, label = 'AUC = %0.2f' % roc_auc)\n",
    "ax.plot(fpr2, tpr2, label = 'AUC = %0.2f' % roc_auc2)\n",
    "plt.legend(['TEST Data', 'TRAIN Data'],loc = 'lower right')\n",
    "\n",
    "ax.plot([0, 1], [0, 1])\n",
    "plt.xlim([0, 1])\n",
    "plt.ylim([0, 1])\n",
    "plt.ylabel('True Positive Rate')\n",
    "plt.xlabel('False Positive Rate')\n",
    "plt.show()"
   ]
  },
  {
   "cell_type": "code",
   "execution_count": 70,
   "metadata": {},
   "outputs": [
    {
     "name": "stdout",
     "output_type": "stream",
     "text": [
      "\n",
      "Test Accuracy Of Classifier C = 4 is 90.583333%\n",
      "\n",
      "Test Precsion Of Classifier C = 4 is 0.917723\n",
      "\n",
      "Test recall  Of Classifier C = 4 is 0.975535\n",
      "\n",
      "Test F1-score  Of Classifier C = 4 is 0.945746\n"
     ]
    }
   ],
   "source": [
    "#Evaluate Accuracy\n",
    "acc = accuracy_score(Y_test, predictions)* 100\n",
    "print('\\nTest Accuracy Of Classifier C = %d is %f%%' % (optimal_C, acc))\n",
    "\n",
    "#Evaluate Precision\n",
    "acc = precision_score(Y_test, predictions)\n",
    "print('\\nTest Precsion Of Classifier C = %d is %f' % (optimal_C, acc))\n",
    "\n",
    "#Evaluate Recall\n",
    "acc = recall_score(Y_test, predictions)\n",
    "print('\\nTest recall  Of Classifier C = %d is %f' % (optimal_C, acc))\n",
    "\n",
    "#Evaluate F1-score\n",
    "acc = f1_score(Y_test, predictions)\n",
    "print('\\nTest F1-score  Of Classifier C = %d is %f' % (optimal_C, acc))"
   ]
  },
  {
   "cell_type": "code",
   "execution_count": 71,
   "metadata": {},
   "outputs": [
    {
     "name": "stdout",
     "output_type": "stream",
     "text": [
      "Train Confusion Matrix\n",
      "[[ 4183   422]\n",
      " [   41 23354]]\n",
      "Test Confusion Matrix\n",
      "[[1021  883]\n",
      " [ 247 9849]]\n"
     ]
    },
    {
     "data": {
      "image/png": "[encoded data removed]",
      "text/plain": [
       "<Figure size 432x288 with 2 Axes>"
      ]
     },
     "metadata": {
      "needs_background": "light"
     },
     "output_type": "display_data"
    }
   ],
   "source": [
    "#Confusion Matrix\n",
    "print(\"Train Confusion Matrix\")\n",
    "print(confusion_matrix(Y_train, svc.predict(X_train_vec_standardized)))\n",
    "print(\"Test Confusion Matrix\")\n",
    "print(confusion_matrix(Y_test, svc.predict(X_test_vec_standardized)))\n",
    "cm_test=confusion_matrix(Y_test, svc.predict(X_test_vec_standardized))\n",
    "class_label = [\"negative\", \"positive\"]\n",
    "df_cm = pd.DataFrame(cm_test, index=class_label, columns=class_label)\n",
    "sns.heatmap(df_cm, annot = True, fmt = \"d\")\n",
    "plt.title(\"Confusion Matrix\")\n",
    "plt.xlabel(\"Predicted Label\")\n",
    "plt.ylabel(\"True Label\")\n",
    "plt.show()"
   ]
  },
  {
   "cell_type": "markdown",
   "metadata": {},
   "source": [
    "#### Obseravtion:\n",
    "* Observed an AUC of 0.905 with an optimal ALpha of 4, with RBF Kernel method implementation."
   ]
  },
  {
   "cell_type": "markdown",
   "metadata": {},
   "source": [
    "### [5.2.2] Applying RBF SVM on TFIDF,<font color='red'> SET 2</font>"
   ]
  },
  {
   "cell_type": "code",
   "execution_count": 74,
   "metadata": {},
   "outputs": [
    {
     "name": "stdout",
     "output_type": "stream",
     "text": [
      "(20000, 11)\n",
      "the type of count vectorizer  <class 'scipy.sparse.csr.csr_matrix'>\n",
      "the shape of out text TFIDF vectorizer  (14000, 3382)\n",
      "the number of unique words  3382\n"
     ]
    }
   ],
   "source": [
    "from sklearn.feature_extraction.text import TfidfTransformer\n",
    "from sklearn.feature_extraction.text import TfidfVectorizer\n",
    "from sklearn.preprocessing import StandardScaler\n",
    "import warnings \n",
    "warnings.filterwarnings(\"ignore\")\n",
    "\n",
    "\n",
    "# collect different 40k rows without repetition from time_sorted_data DataFrfame\n",
    "my_final = time_sorted_data.take(np.random.permutation(len(final))[:20000])\n",
    "print(my_final.shape)\n",
    "\n",
    "x = my_final['cleanedText'].values\n",
    "y = my_final['Score']\n",
    "#SPlit the dataset into Train and Test\n",
    "X_train,X_test,Y_train,Y_test=train_test_split(x, y, test_size=0.3, random_state=0)\n",
    "\n",
    "\n",
    "tf_idf_vect = TfidfVectorizer(min_df=10)\n",
    "X_train_vec = tf_idf_vect.fit_transform(X_train)\n",
    "X_test_vec = tf_idf_vect.transform(X_test)\n",
    "print(\"the type of count vectorizer \",type(X_train_vec))\n",
    "print(\"the shape of out text TFIDF vectorizer \",X_train_vec.get_shape())\n",
    "print(\"the number of unique words \", X_train_vec.get_shape()[1])\n",
    "    \n",
    "#Standardizing\n",
    "import warnings\n",
    "warnings.filterwarnings('ignore')\n",
    "from sklearn.preprocessing import StandardScaler\n",
    "sc = StandardScaler(with_mean=False)\n",
    "X_train_vec_standardized = sc.fit_transform(X_train_vec)\n",
    "X_test_vec_standardized = sc.transform(X_test_vec)\n"
   ]
  },
  {
   "cell_type": "markdown",
   "metadata": {},
   "source": [
    "#### Note:\n",
    "* Considering Sample of 20k as GridSearchCV is taking lot of time to run with 40k points with RBF kernel."
   ]
  },
  {
   "cell_type": "code",
   "execution_count": 87,
   "metadata": {},
   "outputs": [
    {
     "name": "stdout",
     "output_type": "stream",
     "text": [
      "Model with best parameters :\n",
      " SVC(C=1, cache_size=200, class_weight=None, coef0=0.0,\n",
      "  decision_function_shape='ovr', degree=3, gamma='auto', kernel='rbf',\n",
      "  max_iter=-1, probability=False, random_state=None, shrinking=True,\n",
      "  tol=0.001, verbose=False)\n",
      "Accuracy of model :  0.900796007685\n",
      "The Optimal value Of C is :  1\n"
     ]
    }
   ],
   "source": [
    "# Please write all the code with proper documentation\n",
    "\n",
    "from sklearn.model_selection import GridSearchCV, RandomizedSearchCV\n",
    "from sklearn.svm import SVC\n",
    "C_range=[1,2,4,8,16,32]\n",
    "param_grid = {'C': C_range}\n",
    "model = GridSearchCV(SVC(), param_grid, scoring='roc_auc', cv=3, n_jobs=-1, pre_dispatch=2)\n",
    "model.fit(X_train_vec_standardized, Y_train)\n",
    "print(\"Model with best parameters :\\n\", model.best_estimator_)\n",
    "print(\"Accuracy of model : \", model.score(X_test_vec_standardized, Y_test))\n",
    "\n",
    "optimal_C = model.best_estimator_.C\n",
    "print(\"The Optimal value Of C is : \", optimal_C)\n",
    "\n",
    "#SVC with RBF KErnel  Optimal value of C:\n",
    "svc = SVC(C=optimal_C)\n",
    "svc.fit(X_train_vec_standardized, Y_train)\n",
    "predictions = svc.predict(X_test_vec_standardized)\n",
    "\n",
    "# Predict probabilistic response\n",
    "pred_prob = calib.predict_proba(X_test_vec_standardized)[:,1]"
   ]
  },
  {
   "cell_type": "code",
   "execution_count": 34,
   "metadata": {},
   "outputs": [
    {
     "data": {
      "image/png": "[encoded data removed]",
      "text/plain": [
       "<Figure size 432x288 with 1 Axes>"
      ]
     },
     "metadata": {
      "needs_background": "light"
     },
     "output_type": "display_data"
    }
   ],
   "source": [
    "import matplotlib.pyplot as plt\n",
    "import numpy as np\n",
    "\n",
    "from sklearn.model_selection import validation_curve\n",
    "\n",
    "\n",
    "param_range = np.logspace(-5, 1, 5)\n",
    "train_scores, test_scores = validation_curve(\n",
    "    SGDClassifier(),X_train_vec_standardized, Y_train, param_name=\"alpha\", param_range=param_range,\n",
    "    cv=3, scoring=\"roc_auc\", n_jobs=1)\n",
    "train_scores_mean = np.mean(train_scores, axis=1)\n",
    "train_scores_std = np.std(train_scores, axis=1)\n",
    "test_scores_mean = np.mean(test_scores, axis=1)\n",
    "test_scores_std = np.std(test_scores, axis=1)\n",
    "\n",
    "plt.title(\"Hyperparameter Vs AUC\")\n",
    "plt.xlabel(\"$alpha$\")\n",
    "plt.ylabel(\"AUC\")\n",
    "plt.ylim(0.0, 1.1)\n",
    "lw = 2\n",
    "plt.semilogx(param_range, train_scores_mean, label=\"Training score\",\n",
    "             color=\"darkorange\", lw=lw)\n",
    "plt.fill_between(param_range, train_scores_mean - train_scores_std,\n",
    "                 train_scores_mean + train_scores_std, alpha=0.1,\n",
    "                 color=\"darkorange\", lw=lw)\n",
    "plt.semilogx(param_range, test_scores_mean, label=\"Cross-validation score\",\n",
    "             color=\"navy\", lw=lw)\n",
    "plt.fill_between(param_range, test_scores_mean - test_scores_std,\n",
    "                 test_scores_mean + test_scores_std, alpha=0.1,\n",
    "                 color=\"navy\", lw=lw)\n",
    "plt.legend(loc=\"best\")\n",
    "plt.show()"
   ]
  },
  {
   "cell_type": "code",
   "execution_count": 88,
   "metadata": {},
   "outputs": [
    {
     "data": {
      "image/png": "[encoded data removed]",
      "text/plain": [
       "<Figure size 432x288 with 1 Axes>"
      ]
     },
     "metadata": {
      "needs_background": "light"
     },
     "output_type": "display_data"
    }
   ],
   "source": [
    "from cycler import cycler\n",
    "fpr, tpr, threshold = metrics.roc_curve(Y_test, calib.predict_proba(X_test_vec_standardized)[:,1])\n",
    "fpr2, tpr2, threshold2 = metrics.roc_curve(Y_train, calib.predict_proba(X_train_vec_standardized)[:,1])\n",
    "\n",
    "roc_auc = metrics.auc(fpr, tpr)\n",
    "roc_auc2 = metrics.auc(fpr2, tpr2)\n",
    "\n",
    "# method I: plt\n",
    "import matplotlib.pyplot as plt\n",
    "f, ax = plt.subplots()\n",
    "plt.title('Receiver Operating Characteristic Curve')\n",
    "cy = cycler('color', ['red', 'green', 'blue'])\n",
    "ax.set_prop_cycle(cy)\n",
    "ax.plot(fpr, tpr, label = 'AUC = %0.2f' % roc_auc)\n",
    "ax.plot(fpr2, tpr2, label = 'AUC = %0.2f' % roc_auc2)\n",
    "plt.legend(['TEST Data', 'TRAIN Data'],loc = 'lower right')\n",
    "\n",
    "ax.plot([0, 1], [0, 1])\n",
    "plt.xlim([0, 1])\n",
    "plt.ylim([0, 1])\n",
    "plt.ylabel('True Positive Rate')\n",
    "plt.xlabel('False Positive Rate')\n",
    "plt.show()"
   ]
  },
  {
   "cell_type": "code",
   "execution_count": 30,
   "metadata": {},
   "outputs": [
    {
     "name": "stdout",
     "output_type": "stream",
     "text": [
      "\n",
      "Test Accuracy Of Classifier C = 4 is 89.266667%\n",
      "\n",
      "Test Precsion Of Classifier C = 4 is 0.900747\n",
      "\n",
      "Test recall  Of Classifier C = 4 is 0.980377\n",
      "\n",
      "Test F1-score  Of Classifier C = 4 is 0.938876\n"
     ]
    }
   ],
   "source": [
    "#Evaluate Accuracy\n",
    "from sklearn.linear_model import SGDClassifier\n",
    "from sklearn.metrics import f1_score\n",
    "from sklearn.metrics import accuracy_score\n",
    "from sklearn.metrics import precision_score\n",
    "from sklearn.metrics import f1_score\n",
    "from sklearn.metrics import recall_score\n",
    "from sklearn.model_selection import GridSearchCV, RandomizedSearchCV\n",
    "from scipy import *\n",
    "from scipy.sparse import *\n",
    "from scipy.stats import uniform\n",
    "from prettytable import PrettyTable\n",
    "acc = accuracy_score(Y_test, predictions)* 100\n",
    "print('\\nTest Accuracy Of Classifier C = %d is %f%%' % (optimal_C, acc))\n",
    "\n",
    "#Evaluate Precision\n",
    "acc = precision_score(Y_test, predictions)\n",
    "print('\\nTest Precsion Of Classifier C = %d is %f' % (optimal_C, acc))\n",
    "\n",
    "#Evaluate Recall\n",
    "acc = recall_score(Y_test, predictions)\n",
    "print('\\nTest recall  Of Classifier C = %d is %f' % (optimal_C, acc))\n",
    "\n",
    "#Evaluate F1-score\n",
    "acc = f1_score(Y_test, predictions)\n",
    "print('\\nTest F1-score  Of Classifier C = %d is %f' % (optimal_C, acc))"
   ]
  },
  {
   "cell_type": "code",
   "execution_count": 31,
   "metadata": {},
   "outputs": [
    {
     "name": "stdout",
     "output_type": "stream",
     "text": [
      "Train Confusion Matrix\n",
      "[[ 2248    16]\n",
      " [    1 11735]]\n",
      "Test Confusion Matrix\n",
      "[[ 410  545]\n",
      " [  99 4946]]\n"
     ]
    },
    {
     "data": {
      "image/png": "[encoded data removed]",
      "text/plain": [
       "<Figure size 432x288 with 2 Axes>"
      ]
     },
     "metadata": {
      "needs_background": "light"
     },
     "output_type": "display_data"
    }
   ],
   "source": [
    "#Confusion Matrix\n",
    "print(\"Train Confusion Matrix\")\n",
    "print(confusion_matrix(Y_train, svc.predict(X_train_vec_standardized)))\n",
    "print(\"Test Confusion Matrix\")\n",
    "print(confusion_matrix(Y_test, svc.predict(X_test_vec_standardized)))\n",
    "cm_test=confusion_matrix(Y_test, svc.predict(X_test_vec_standardized))\n",
    "class_label = [\"negative\", \"positive\"]\n",
    "df_cm = pd.DataFrame(cm_test, index=class_label, columns=class_label)\n",
    "sns.heatmap(df_cm, annot = True, fmt = \"d\")\n",
    "plt.title(\"Confusion Matrix\")\n",
    "plt.xlabel(\"Predicted Label\")\n",
    "plt.ylabel(\"True Label\")\n",
    "plt.show()"
   ]
  },
  {
   "cell_type": "markdown",
   "metadata": {},
   "source": [
    "#### Observation:\n",
    "* obsreved an AUC of 0.892 with an Hyperparameter of 4, with RBF Kernel implementation.\n",
    "* Performing well on BOW and TFIDF\n",
    "* Considering only 20k datapoints as it is RBF is time complex."
   ]
  },
  {
   "cell_type": "markdown",
   "metadata": {},
   "source": [
    "### [5.2.3]  Applying RBF SVM on AVG W2V,<font color='red'> SET 3</font>"
   ]
  },
  {
   "cell_type": "code",
   "execution_count": 104,
   "metadata": {},
   "outputs": [
    {
     "name": "stdout",
     "output_type": "stream",
     "text": [
      "number of words that occured minimum 5 times  5287\n",
      "sample words  ['kitti', 'receiv', 'bag', 'treat', 'christma', 'friend', 'run', 'hear', 'take', 'kitchen', 'drawer', 'pretti', 'finicki', 'absolut', 'love', 'order', 'lot', 'amazon', 'yum', 'tri', 'first', 'time', 'littl', 'unsur', 'huge', 'fan', 'almond', 'anyth', 'banana', 'flavor', 'boy', 'glad', 'theyr', 'realli', 'yummi', 'perfect', 'pick', 'snack', 'school', 'work', 'tast', 'even', 'delici', 'warm', 'true', 'connoisseur', 'chocol', 'interest', 'new', 'dark']\n"
     ]
    }
   ],
   "source": [
    "# Please write all the code with proper documentation\n",
    "# Please write all the code with proper documentation\n",
    "#List of sentance in X_train text\n",
    "sent_of_train = []\n",
    "for sent in X_train:\n",
    "    sent_of_train.append(sent.split())\n",
    "    \n",
    "#List of sentance in X_test text\n",
    "sent_of_test = []\n",
    "for sent in X_test:\n",
    "    sent_of_test.append(sent.split())\n",
    "#Train your own text corpus WOrd2Vec\n",
    "w2v_model = Word2Vec(sent_of_train,min_count=5,size=50,workers=4)   \n",
    "w2v_words = list(w2v_model.wv.vocab)\n",
    "print(\"number of words that occured minimum 5 times \",len(w2v_words))\n",
    "print(\"sample words \", w2v_words[0:50])"
   ]
  },
  {
   "cell_type": "code",
   "execution_count": 105,
   "metadata": {},
   "outputs": [],
   "source": [
    "#copute AvgWord2Vec for each review of X_train\n",
    "train_vectors = [];\n",
    "for sent in sent_of_train:\n",
    "    sent_vec = np.zeros(50)\n",
    "    cnt_words =0; # num of words with a valid vector in the sentence/review\n",
    "    for word in sent: # for each word in a review/sentence\n",
    "        if word in w2v_words:\n",
    "            vec = w2v_model.wv[word]\n",
    "            sent_vec += vec\n",
    "            cnt_words += 1\n",
    "    if cnt_words != 0:\n",
    "        sent_vec /= cnt_words\n",
    "    train_vectors.append(sent_vec)\n",
    "\n",
    "#compute AvgWord2Vec for each review of X_test\n",
    "test_vectors = [];\n",
    "for sent in sent_of_test:\n",
    "    sent_vec = np.zeros(50)\n",
    "    cnt_words =0; # num of words with a valid vector in the sentence/review\n",
    "    for word in sent: # for each word in a review/sentence\n",
    "        if word in w2v_words:\n",
    "            vec = w2v_model.wv[word]\n",
    "            sent_vec += vec\n",
    "            cnt_words += 1\n",
    "    if cnt_words != 0:\n",
    "        sent_vec /= cnt_words\n",
    "    test_vectors.append(sent_vec)\n",
    "\n",
    "#Standardizing\n",
    "sc = StandardScaler()\n",
    "X_train_vec_standardized = sc.fit_transform(train_vectors)\n",
    "X_test_vec_standardized = sc.transform(test_vectors)"
   ]
  },
  {
   "cell_type": "code",
   "execution_count": 106,
   "metadata": {},
   "outputs": [
    {
     "name": "stdout",
     "output_type": "stream",
     "text": [
      "Model with best parameters :\n",
      " SVC(C=1, cache_size=200, class_weight=None, coef0=0.0,\n",
      "  decision_function_shape='ovr', degree=3, gamma='auto', kernel='rbf',\n",
      "  max_iter=-1, probability=False, random_state=None, shrinking=True,\n",
      "  tol=0.001, verbose=False)\n",
      "Accuracy of model :  0.855325760684\n",
      "The Optimal value Of C is :  1\n"
     ]
    }
   ],
   "source": [
    "# Please write all the code with proper documentation\n",
    "\n",
    "from sklearn.model_selection import GridSearchCV, RandomizedSearchCV\n",
    "from sklearn.svm import SVC\n",
    "C_range=[1,2,4,8,16,32]\n",
    "param_grid = {'C': C_range}\n",
    "model = GridSearchCV(SVC(), param_grid, scoring='roc_auc', cv=3, n_jobs=-1, pre_dispatch=2)\n",
    "model.fit(X_train_vec_standardized, Y_train)\n",
    "print(\"Model with best parameters :\\n\", model.best_estimator_)\n",
    "print(\"Accuracy of model : \", model.score(X_test_vec_standardized, Y_test))\n",
    "\n",
    "optimal_C = model.best_estimator_.C\n",
    "print(\"The Optimal value Of C is : \", optimal_C)\n",
    "\n",
    "#SVC with RBF KErnel  Optimal value of C:\n",
    "svc = SVC(C=optimal_C)\n",
    "svc.fit(X_train_vec_standardized, Y_train)\n",
    "predictions = svc.predict(X_test_vec_standardized)\n",
    "\n",
    "# Predict probabilistic response\n",
    "#pred_prob = calib.predict_proba(X_test_vec_standardized)[:,1]"
   ]
  },
  {
   "cell_type": "code",
   "execution_count": 36,
   "metadata": {},
   "outputs": [
    {
     "data": {
      "image/png": "[encoded data removed]",
      "text/plain": [
       "<Figure size 432x288 with 1 Axes>"
      ]
     },
     "metadata": {
      "needs_background": "light"
     },
     "output_type": "display_data"
    }
   ],
   "source": [
    "import matplotlib.pyplot as plt\n",
    "import numpy as np\n",
    "\n",
    "from sklearn.model_selection import validation_curve\n",
    "\n",
    "\n",
    "param_range = np.logspace(-5, 1, 5)\n",
    "train_scores, test_scores = validation_curve(\n",
    "    SGDClassifier(),X_train_vec_standardized, Y_train, param_name=\"alpha\", param_range=param_range,\n",
    "    cv=3, scoring=\"roc_auc\", n_jobs=1)\n",
    "train_scores_mean = np.mean(train_scores, axis=1)\n",
    "train_scores_std = np.std(train_scores, axis=1)\n",
    "test_scores_mean = np.mean(test_scores, axis=1)\n",
    "test_scores_std = np.std(test_scores, axis=1)\n",
    "\n",
    "plt.title(\"Hyperparameter Vs AUC\")\n",
    "plt.xlabel(\"$alpha$\")\n",
    "plt.ylabel(\"AUC\")\n",
    "plt.ylim(0.0, 1.1)\n",
    "lw = 2\n",
    "plt.semilogx(param_range, train_scores_mean, label=\"Training score\",\n",
    "             color=\"darkorange\", lw=lw)\n",
    "plt.fill_between(param_range, train_scores_mean - train_scores_std,\n",
    "                 train_scores_mean + train_scores_std, alpha=0.1,\n",
    "                 color=\"darkorange\", lw=lw)\n",
    "plt.semilogx(param_range, test_scores_mean, label=\"Cross-validation score\",\n",
    "             color=\"navy\", lw=lw)\n",
    "plt.fill_between(param_range, test_scores_mean - test_scores_std,\n",
    "                 test_scores_mean + test_scores_std, alpha=0.1,\n",
    "                 color=\"navy\", lw=lw)\n",
    "plt.legend(loc=\"best\")\n",
    "plt.show()"
   ]
  },
  {
   "cell_type": "code",
   "execution_count": 107,
   "metadata": {},
   "outputs": [
    {
     "data": {
      "image/png": "[encoded data removed]",
      "text/plain": [
       "<Figure size 432x288 with 1 Axes>"
      ]
     },
     "metadata": {
      "needs_background": "light"
     },
     "output_type": "display_data"
    }
   ],
   "source": [
    "from cycler import cycler\n",
    "fpr, tpr, threshold = metrics.roc_curve(Y_test, (X_test_vec_standardized)[:,1])\n",
    "fpr2, tpr2, threshold2 = metrics.roc_curve(Y_train, (X_train_vec_standardized)[:,1])\n",
    "\n",
    "roc_auc = metrics.auc(fpr, tpr)\n",
    "roc_auc2 = metrics.auc(fpr2, tpr2)\n",
    "\n",
    "# method I: plt\n",
    "import matplotlib.pyplot as plt\n",
    "f, ax = plt.subplots()\n",
    "plt.title('Receiver Operating Characteristic Curve')\n",
    "cy = cycler('color', ['red', 'green', 'blue'])\n",
    "ax.set_prop_cycle(cy)\n",
    "ax.plot(fpr, tpr, label = 'AUC = %0.2f' % roc_auc)\n",
    "ax.plot(fpr2, tpr2, label = 'AUC = %0.2f' % roc_auc2)\n",
    "plt.legend(['TEST Data', 'TRAIN Data'],loc = 'lower right')\n",
    "\n",
    "ax.plot([0, 1], [0, 1])\n",
    "plt.xlim([0, 1])\n",
    "plt.ylim([0, 1])\n",
    "plt.ylabel('True Positive Rate')\n",
    "plt.xlabel('False Positive Rate')\n",
    "plt.show()"
   ]
  },
  {
   "cell_type": "code",
   "execution_count": 35,
   "metadata": {},
   "outputs": [
    {
     "name": "stdout",
     "output_type": "stream",
     "text": [
      "\n",
      "Test Accuracy Of Classifier C = 4 is 87.750000%\n",
      "\n",
      "Test Precsion Of Classifier C = 4 is 0.894544\n",
      "\n",
      "Test recall  Of Classifier C = 4 is 0.968484\n",
      "\n",
      "Test F1-score  Of Classifier C = 4 is 0.930047\n"
     ]
    }
   ],
   "source": [
    "#Evaluate Accuracy\n",
    "from sklearn.linear_model import SGDClassifier\n",
    "from sklearn.metrics import f1_score\n",
    "from sklearn.metrics import accuracy_score\n",
    "from sklearn.metrics import precision_score\n",
    "from sklearn.metrics import f1_score\n",
    "from sklearn.metrics import recall_score\n",
    "from sklearn.model_selection import GridSearchCV, RandomizedSearchCV\n",
    "from scipy import *\n",
    "from scipy.sparse import *\n",
    "from scipy.stats import uniform\n",
    "from prettytable import PrettyTable\n",
    "acc = accuracy_score(Y_test, predictions)* 100\n",
    "print('\\nTest Accuracy Of Classifier C = %d is %f%%' % (optimal_C, acc))\n",
    "\n",
    "#Evaluate Precision\n",
    "acc = precision_score(Y_test, predictions)\n",
    "print('\\nTest Precsion Of Classifier C = %d is %f' % (optimal_C, acc))\n",
    "\n",
    "#Evaluate Recall\n",
    "acc = recall_score(Y_test, predictions)\n",
    "print('\\nTest recall  Of Classifier C = %d is %f' % (optimal_C, acc))\n",
    "\n",
    "#Evaluate F1-score\n",
    "acc = f1_score(Y_test, predictions)\n",
    "print('\\nTest F1-score  Of Classifier C = %d is %f' % (optimal_C, acc))"
   ]
  },
  {
   "cell_type": "code",
   "execution_count": 36,
   "metadata": {},
   "outputs": [
    {
     "name": "stdout",
     "output_type": "stream",
     "text": [
      "Train Confusion Matrix\n",
      "[[ 1161  1103]\n",
      " [  230 11506]]\n",
      "Test Confusion Matrix\n",
      "[[ 379  576]\n",
      " [ 159 4886]]\n"
     ]
    },
    {
     "data": {
      "image/png": "[encoded data removed]",
      "text/plain": [
       "<Figure size 432x288 with 2 Axes>"
      ]
     },
     "metadata": {
      "needs_background": "light"
     },
     "output_type": "display_data"
    }
   ],
   "source": [
    "#Confusion Matrix\n",
    "print(\"Train Confusion Matrix\")\n",
    "print(confusion_matrix(Y_train, svc.predict(X_train_vec_standardized)))\n",
    "print(\"Test Confusion Matrix\")\n",
    "print(confusion_matrix(Y_test, svc.predict(X_test_vec_standardized)))\n",
    "cm_test=confusion_matrix(Y_test, svc.predict(X_test_vec_standardized))\n",
    "class_label = [\"negative\", \"positive\"]\n",
    "df_cm = pd.DataFrame(cm_test, index=class_label, columns=class_label)\n",
    "sns.heatmap(df_cm, annot = True, fmt = \"d\")\n",
    "plt.title(\"Confusion Matrix\")\n",
    "plt.xlabel(\"Predicted Label\")\n",
    "plt.ylabel(\"True Label\")\n",
    "plt.show()"
   ]
  },
  {
   "cell_type": "markdown",
   "metadata": {},
   "source": [
    "#### Observation:\n",
    "* obsreved an AUC of 0.892 with an Hyperparameter of 4, with RBF Kernel implementation.\n",
    "* Performing well on BOW and TFIDF, but no performing on AvgW2V text data."
   ]
  },
  {
   "cell_type": "markdown",
   "metadata": {},
   "source": [
    "### [5.2.4]  Applying RBF SVM on TFIDF W2V,<font color='red'> SET 4</font>"
   ]
  },
  {
   "cell_type": "code",
   "execution_count": 112,
   "metadata": {},
   "outputs": [
    {
     "name": "stdout",
     "output_type": "stream",
     "text": [
      "(20000, 11)\n"
     ]
    }
   ],
   "source": [
    "# Please write all the code with proper documentation\n",
    "# Please write all the code with proper documentation\n",
    "# collect different 100k rows without repetition from time_sorted_data DataFrfame\n",
    "my_final = time_sorted_data.take(np.random.permutation(len(final))[:20000])\n",
    "print(my_final.shape)\n",
    "\n",
    "x = my_final['cleanedText'].values\n",
    "y = my_final['Score']\n",
    "#SPlit the dataset into Train and Test\n",
    "X_train,X_test,Y_train,Y_test=train_test_split(x, y, test_size=0.3, random_state=0)\n",
    "\n",
    "#List of sentance in X_train text\n",
    "sent_of_train = []\n",
    "for sent in X_train:\n",
    "    sent_of_train.append(sent.split())\n",
    "    \n",
    "#List of sentance in X_test text\n",
    "sent_of_test = []\n",
    "for sent in X_test:\n",
    "    sent_of_test.append(sent.split())\n",
    "#Train your own text corpus WOrd2Vec\n",
    "w2v_model = Word2Vec(sent_of_train,min_count=5,size=50,workers=4)   \n",
    "w2v_words = list(w2v_model.wv.vocab)"
   ]
  },
  {
   "cell_type": "code",
   "execution_count": 113,
   "metadata": {},
   "outputs": [],
   "source": [
    "# Please write all the code with proper documentation\n",
    "#TF-IDF weighted word2vec\n",
    "tf_idf_vect = TfidfVectorizer()\n",
    "final_tf_idf1 = tf_idf_vect.fit_transform(X_train)\n",
    "tfidf_feat=tf_idf_vect.get_feature_names()\n",
    "\n",
    "#compute TFIDF weighted word2vec of each review of X_train\n",
    "#copute AvgWord2Vec for each review of X_train\n",
    "tfidf_train_vectors = [];\n",
    "row=0;\n",
    "for sent in sent_of_train:\n",
    "    sent_vec = np.zeros(50)\n",
    "    weight_sum =0; # num of words with a valid vector in the sentence/review\n",
    "    for word in sent: # for each word in a review/sentence\n",
    "        if word in w2v_words:\n",
    "            vec = w2v_model.wv[word]\n",
    "            tf_idf = final_tf_idf1[row, tfidf_feat.index(word)]\n",
    "            sent_vec += (vec * tf_idf)\n",
    "            weight_sum += tf_idf\n",
    "    if weight_sum != 0:\n",
    "        sent_vec /= weight_sum\n",
    "    tfidf_train_vectors.append(sent_vec)\n",
    "    row += 1  "
   ]
  },
  {
   "cell_type": "code",
   "execution_count": 114,
   "metadata": {},
   "outputs": [
    {
     "name": "stdout",
     "output_type": "stream",
     "text": [
      "Model with best parameters :\n",
      " SVC(C=4, cache_size=200, class_weight=None, coef0=0.0,\n",
      "  decision_function_shape='ovr', degree=3, gamma='auto', kernel='rbf',\n",
      "  max_iter=-1, probability=False, random_state=None, shrinking=True,\n",
      "  tol=0.001, verbose=False)\n",
      "Accuracy of model :  0.503121211647\n",
      "The Optimal value Of C is :  4\n"
     ]
    }
   ],
   "source": [
    "# Please write all the code with proper documentation\n",
    "\n",
    "from sklearn.model_selection import GridSearchCV, RandomizedSearchCV\n",
    "from sklearn.svm import SVC\n",
    "C_range=[1,2,4,8,16,32]\n",
    "param_grid = {'C': C_range}\n",
    "model = GridSearchCV(SVC(), param_grid, scoring='roc_auc', cv=3, n_jobs=-1, pre_dispatch=2)\n",
    "model.fit(X_train_vec_standardized, Y_train)\n",
    "print(\"Model with best parameters :\\n\", model.best_estimator_)\n",
    "print(\"Accuracy of model : \", model.score(X_test_vec_standardized, Y_test))\n",
    "\n",
    "optimal_C = model.best_estimator_.C\n",
    "print(\"The Optimal value Of C is : \", optimal_C)\n",
    "\n",
    "#SVC with RBF KErnel  Optimal value of C:\n",
    "svc = SVC(C=optimal_C)\n",
    "svc.fit(X_train_vec_standardized, Y_train)\n",
    "predictions = svc.predict(X_test_vec_standardized)\n",
    "\n",
    "# Predict probabilistic response\n",
    "#pred_prob = calib.predict_proba(X_test_vec_standardized)[:,1]"
   ]
  },
  {
   "cell_type": "code",
   "execution_count": 110,
   "metadata": {},
   "outputs": [
    {
     "data": {
      "image/png": "[encoded data removed]",
      "text/plain": [
       "<Figure size 432x288 with 1 Axes>"
      ]
     },
     "metadata": {
      "needs_background": "light"
     },
     "output_type": "display_data"
    }
   ],
   "source": [
    "import matplotlib.pyplot as plt\n",
    "import numpy as np\n",
    "\n",
    "from sklearn.model_selection import validation_curve\n",
    "\n",
    "\n",
    "param_range = np.logspace(-5, 1, 5)\n",
    "train_scores, test_scores = validation_curve(\n",
    "    SGDClassifier(),X_train_vec_standardized, Y_train, param_name=\"alpha\", param_range=param_range,\n",
    "    cv=3, scoring=\"roc_auc\", n_jobs=1)\n",
    "train_scores_mean = np.mean(train_scores, axis=1)\n",
    "train_scores_std = np.std(train_scores, axis=1)\n",
    "test_scores_mean = np.mean(test_scores, axis=1)\n",
    "test_scores_std = np.std(test_scores, axis=1)\n",
    "\n",
    "plt.title(\"Hyperparameter Vs AUC\")\n",
    "plt.xlabel(\"$alpha$\")\n",
    "plt.ylabel(\"AUC\")\n",
    "plt.ylim(0.0, 1.1)\n",
    "lw = 2\n",
    "plt.semilogx(param_range, train_scores_mean, label=\"Training score\",\n",
    "             color=\"darkorange\", lw=lw)\n",
    "plt.fill_between(param_range, train_scores_mean - train_scores_std,\n",
    "                 train_scores_mean + train_scores_std, alpha=0.1,\n",
    "                 color=\"darkorange\", lw=lw)\n",
    "plt.semilogx(param_range, test_scores_mean, label=\"Cross-validation score\",\n",
    "             color=\"navy\", lw=lw)\n",
    "plt.fill_between(param_range, test_scores_mean - test_scores_std,\n",
    "                 test_scores_mean + test_scores_std, alpha=0.1,\n",
    "                 color=\"navy\", lw=lw)\n",
    "plt.legend(loc=\"best\")\n",
    "plt.show()"
   ]
  },
  {
   "cell_type": "code",
   "execution_count": 115,
   "metadata": {},
   "outputs": [
    {
     "data": {
      "image/png": "[encoded data removed]",
      "text/plain": [
       "<Figure size 432x288 with 1 Axes>"
      ]
     },
     "metadata": {
      "needs_background": "light"
     },
     "output_type": "display_data"
    }
   ],
   "source": [
    "from cycler import cycler\n",
    "fpr, tpr, threshold = metrics.roc_curve(Y_test, (X_test_vec_standardized)[:,1])\n",
    "fpr2, tpr2, threshold2 = metrics.roc_curve(Y_train, (X_train_vec_standardized)[:,1])\n",
    "\n",
    "roc_auc = metrics.auc(fpr, tpr)\n",
    "roc_auc2 = metrics.auc(fpr2, tpr2)\n",
    "\n",
    "# method I: plt\n",
    "import matplotlib.pyplot as plt\n",
    "f, ax = plt.subplots()\n",
    "plt.title('Receiver Operating Characteristic Curve')\n",
    "cy = cycler('color', ['red', 'green', 'blue'])\n",
    "ax.set_prop_cycle(cy)\n",
    "ax.plot(fpr, tpr, label = 'AUC = %0.2f' % roc_auc)\n",
    "ax.plot(fpr2, tpr2, label = 'AUC = %0.2f' % roc_auc2)\n",
    "plt.legend(['TEST Data', 'TRAIN Data'],loc = 'lower right')\n",
    "\n",
    "ax.plot([0, 1], [0, 1])\n",
    "plt.xlim([0, 1])\n",
    "plt.ylim([0, 1])\n",
    "plt.ylabel('True Positive Rate')\n",
    "plt.xlabel('False Positive Rate')\n",
    "plt.show()"
   ]
  },
  {
   "cell_type": "code",
   "execution_count": 40,
   "metadata": {},
   "outputs": [
    {
     "name": "stdout",
     "output_type": "stream",
     "text": [
      "\n",
      "Test Accuracy Of Classifier C = 1 is 84.016667%\n",
      "\n",
      "Test Precsion Of Classifier C = 1 is 0.840167\n",
      "\n",
      "Test recall  Of Classifier C = 1 is 1.000000\n",
      "\n",
      "Test F1-score  Of Classifier C = 1 is 0.913142\n"
     ]
    }
   ],
   "source": [
    "#Evaluate Accuracy\n",
    "from sklearn.linear_model import SGDClassifier\n",
    "from sklearn.metrics import f1_score\n",
    "from sklearn.metrics import accuracy_score\n",
    "from sklearn.metrics import precision_score\n",
    "from sklearn.metrics import f1_score\n",
    "from sklearn.metrics import recall_score\n",
    "from sklearn.model_selection import GridSearchCV, RandomizedSearchCV\n",
    "from scipy import *\n",
    "from scipy.sparse import *\n",
    "from scipy.stats import uniform\n",
    "from prettytable import PrettyTable\n",
    "acc = accuracy_score(Y_test, predictions)* 100\n",
    "print('\\nTest Accuracy Of Classifier C = %d is %f%%' % (optimal_C, acc))\n",
    "\n",
    "#Evaluate Precision\n",
    "acc = precision_score(Y_test, predictions)\n",
    "print('\\nTest Precsion Of Classifier C = %d is %f' % (optimal_C, acc))\n",
    "\n",
    "#Evaluate Recall\n",
    "acc = recall_score(Y_test, predictions)\n",
    "print('\\nTest recall  Of Classifier C = %d is %f' % (optimal_C, acc))\n",
    "\n",
    "#Evaluate F1-score\n",
    "acc = f1_score(Y_test, predictions)\n",
    "print('\\nTest F1-score  Of Classifier C = %d is %f' % (optimal_C, acc))"
   ]
  },
  {
   "cell_type": "markdown",
   "metadata": {},
   "source": [
    "#### Observation:\n",
    "* obsreved an AUC of 0.842 with an Hyperparameter of 1, with RBF Kernel implementation.\n",
    "* Performing well on BOW and TFIDF text data, but considerbally less with TFDIF Word2vec.\n",
    "* Considering only 20k datapoints as it is RBF is time complex."
   ]
  },
  {
   "cell_type": "markdown",
   "metadata": {},
   "source": [
    "# [6] Conclusions"
   ]
  },
  {
   "cell_type": "code",
   "execution_count": 44,
   "metadata": {},
   "outputs": [
    {
     "name": "stdout",
     "output_type": "stream",
     "text": [
      "+----------------+---------------------+---------------------------+-------+\n",
      "|   Vectorizer   | Feature Engineering | Hyperparameter(Alpha:1/C) |  AUC  |\n",
      "+----------------+---------------------+---------------------------+-------+\n",
      "|      BOW       |   GridSearchCV SGD  |            0.1            | 0.912 |\n",
      "|      BOW       |   RandomSearch SGD  |            0.89           | 0.913 |\n",
      "|     TFDIF      |   GridSearchCV SGD  |            0.1            |  0.91 |\n",
      "|     TFDIF      |  RandomSearchCV SGD |            0.04           | 0.913 |\n",
      "|  AVG Word2Vec  |   GridSearchCV SGD  |            0.01           | 0.886 |\n",
      "|  AVG Word2Vec  |  RandomSearchCV SGD |           0.167           | 0.852 |\n",
      "| TFDIF Word2Vec |   GridSearchCV SGD  |            0.01           | 0.781 |\n",
      "| TFDIF Word2Vec |  RandomSearchCV SGD |           0.023           | 0.788 |\n",
      "|      BOW       |   GridSearchCV RBF  |             4             | 0.904 |\n",
      "|     TFIDF      |  RandomSearchCV RBF |             4             | 0.892 |\n",
      "|  AVG Word2Vec  |   GridSearchCV RBF  |             4             | 0.877 |\n",
      "| TFDIF Word2Vec |  RandomSearchCV RBF |             1             |  0.84 |\n",
      "+----------------+---------------------+---------------------------+-------+\n"
     ]
    }
   ],
   "source": [
    "# Please compare all your models using Prettytable library\n",
    "from prettytable import PrettyTable\n",
    "x = PrettyTable()\n",
    "x.field_names = [\"Vectorizer\", \"Feature Engineering\", \"Hyperparameter(Alpha:1/C)\", \"AUC\"]\n",
    "x.add_row([\"BOW\", \"GridSearchCV SGD\", 0.1, 0.912])\n",
    "x.add_row([\"BOW\", \"RandomSearch SGD\", 0.89, 0.913])\n",
    "x.add_row([\"TFDIF\", \"GridSearchCV SGD\", 0.1, 0.910])\n",
    "x.add_row([\"TFDIF\", \"RandomSearchCV SGD\", 0.04, 0.913])\n",
    "x.add_row([\"AVG Word2Vec\", \"GridSearchCV SGD\", 0.01, 0.886])\n",
    "x.add_row([\"AVG Word2Vec\", \"RandomSearchCV SGD\", 0.167, 0.852])\n",
    "x.add_row([\"TFDIF Word2Vec\", \"GridSearchCV SGD\", 0.01, 0.781])\n",
    "x.add_row([\"TFDIF Word2Vec\", \"RandomSearchCV SGD\", 0.023, 0.788])\n",
    "\n",
    "x.add_row([\"BOW\", \"GridSearchCV RBF\", 4, 0.904])\n",
    "x.add_row([\"TFIDF\", 'RandomSearchCV RBF', 4, 0.892])\n",
    "x.add_row([\"AVG Word2Vec\", \"GridSearchCV RBF\", 4, 0.877])\n",
    "x.add_row([\"TFDIF Word2Vec\", \"RandomSearchCV RBF\", 1, 0.840])\n",
    "\n",
    "print(x)"
   ]
  },
  {
   "cell_type": "markdown",
   "metadata": {},
   "source": [
    "* Applied SGD Classifier on BOW, TFIDF, AvgW2v, TFIDF Word2Vec four vectorizers.\n",
    "* Using GridSearch CV and Random SearchCV , on time series based split data .\n",
    "* Observed that SGD classifier works well with BOW, TFIDF but didn't perform well on Tfidf WOrd2Vec text data.\n",
    "* Coming to RBF Kernel implementation works well similar to SGD calssifier as it's taking time to run the GridSearchCv\n",
    "  with the large data points.\n",
    "* In this case SGD is cosniderabally good.\n",
    "* RBF is time complexity.\n",
    "* Deployed SGD classifier with 100k data points using GridCV, RandomCV.\n",
    "* Deployed RBF Kernel with 20k datapoints as it is time complex."
   ]
  }
 ],
 "metadata": {
  "kernelspec": {
   "display_name": "Python 3",
   "language": "python",
   "name": "python3"
  },
  "language_info": {
   "codemirror_mode": {
    "name": "ipython",
    "version": 3
   },
   "file_extension": ".py",
   "mimetype": "text/x-python",
   "name": "python",
   "nbconvert_exporter": "python",
   "pygments_lexer": "ipython3",
   "version": "3.7.0"
  }
 },
 "nbformat": 4,
 "nbformat_minor": 2
}
